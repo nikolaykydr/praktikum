{
 "cells": [
  {
   "cell_type": "markdown",
   "metadata": {},
   "source": [
    "# Сборный проект №1 "
   ]
  },
  {
   "cell_type": "markdown",
   "metadata": {},
   "source": [
    "____    \n",
    "    \n",
    "**Название проекта**\n",
    "<big> Анализ рынка компьютерных игр и приставок</big>\n",
    "_____\n",
    "**Описание исследования.**\n",
    "Вы работаете в интернет-магазине «Стримчик», который продаёт по всему миру компьютерные игры. Из открытых источников доступны исторические данные о продажах игр, оценки пользователей и экспертов, жанры и платформы (например, Xbox или PlayStation). \n",
    "\n",
    "_____\n",
    "**Цель исследования.**\n",
    "Вам нужно выявить определяющие успешность игры закономерности. Это позволит сделать ставку на потенциально популярный продукт и спланировать рекламные кампании.\n",
    "    \n",
    "_____\n",
    "**Задачи исследования.**\n",
    "- Подготовить данные для исследования\n",
    "- Проанализировать данные\n",
    "- Проверить гипотезы\n",
    "- Сделать общий вывод по тому, в какой потенциальный продукт и в какую платформу лучше всего вкладывать в 2017 году.\n",
    "_____\n",
    "**Исходные данные.**\n",
    "* Name — название игры\n",
    "* Platform — платформа\n",
    "* Year_of_Release — год выпуска\n",
    "* Genre — жанр игры\n",
    "* NA_sales — продажи в Северной Америке (миллионы проданных копий)\n",
    "* EU_sales — продажи в Европе (миллионы проданных копий)\n",
    "* JP_sales — продажи в Японии (миллионы проданных копий)\n",
    "* Other_sales — продажи в других странах (миллионы проданных копий)\n",
    "* Critic_Score — оценка критиков (максимум 100)\n",
    "* User_Score — оценка пользователей (максимум 10)\n",
    "* Rating — рейтинг от организации ESRB (англ. Entertainment Software Rating Board). Эта ассоциация определяет рейтинг компьютерных игр и присваивает им подходящую возрастную категорию.\n",
    "______\n",
    "\n",
    "**Данное исследование разделим на несколько частей.**\n",
    "\n",
    "***Часть 1. Подготовка данных и первичный анализ:***\n",
    "* [1. Загрузка данных и первичный анализ.](#1-bullet)\n",
    "* [2. Заполнение пропусков](#2-bullet)\n",
    "* [3. Вывод по первому части](#3-bullet)\n",
    "\n",
    "***Часть 2. Анализ данных:***\n",
    "* [1. Распределение игр по годам.](#4-bullet)\n",
    "* [2. Продажи по платформам.](#5-bullet)\n",
    "* [3. Выбор актуального периода для прогноза](#6-bullet)\n",
    "* [4. Анализ различных платформ. Выбор наиболее перспективных](#7-bullet)\n",
    "* [5. Анализ распределения наиболее прибыльных платформ (с помощью boxplot)](#8-bullet)\n",
    "* [6. Влияние оценки критиков и пользователей на прибыль в разрезе различных приставок](#9-bullet)\n",
    "* [7.Анализ продаж по жанрам](#10-bullet)\n",
    "* [8.Выводы по Части 2](#11-bullet)\n",
    "\n",
    "**Часть 3. Анализ данных:**\n",
    "* [1. Портрет пользователя из Европы](#12-bullet)\n",
    "* [2. Портрет пользователя из Северной Америке](#13-bullet)\n",
    "* [3. Портрет пользователя из Японии](#14-bullet)\n",
    "* [4. Вывод по части 3](#15-bullet)\n",
    "\n",
    "***Часть 4. Проверка гипотез :***\n",
    "* [1. Проверка гипотезы об отличия о равенсте средний пользовательской оценки на приставке Xbox One и PC](#16-bullet)\n",
    "* [2. Проверка гипотезы о равенсте средний пользовательской оценки жанров Action и Sports .](#17-bullet)\n",
    "* [3. Вывод по части 4](#18-bullet)\n",
    "\n",
    "***Часть 5. Финальный вывод:***\n",
    "* [1. Общий вывод по проекту.](#19-bullet)"
   ]
  },
  {
   "cell_type": "markdown",
   "metadata": {},
   "source": [
    "## Часть 1 Подготовка данных и первичный анализ"
   ]
  },
  {
   "cell_type": "markdown",
   "metadata": {},
   "source": [
    "<a class=\"anchor\" id=\"1-bullet\"></a>\n",
    "### Загрузка данных и первичный анализ"
   ]
  },
  {
   "cell_type": "code",
   "execution_count": 1,
   "metadata": {
    "id": "HhX6MuZQyZ0I"
   },
   "outputs": [],
   "source": [
    "import pandas as pd\n",
    "import numpy as np"
   ]
  },
  {
   "cell_type": "code",
   "execution_count": 2,
   "metadata": {},
   "outputs": [],
   "source": [
    "df=pd.read_csv('/datasets/games.csv')"
   ]
  },
  {
   "cell_type": "code",
   "execution_count": 3,
   "metadata": {
    "colab": {
     "base_uri": "https://localhost:8080/",
     "height": 363
    },
    "id": "JCnzUmkszG3F",
    "outputId": "000ab3b7-7ca2-4e5a-d123-2c96e7381776"
   },
   "outputs": [
    {
     "data": {
      "text/html": [
       "<div>\n",
       "<style scoped>\n",
       "    .dataframe tbody tr th:only-of-type {\n",
       "        vertical-align: middle;\n",
       "    }\n",
       "\n",
       "    .dataframe tbody tr th {\n",
       "        vertical-align: top;\n",
       "    }\n",
       "\n",
       "    .dataframe thead th {\n",
       "        text-align: right;\n",
       "    }\n",
       "</style>\n",
       "<table border=\"1\" class=\"dataframe\">\n",
       "  <thead>\n",
       "    <tr style=\"text-align: right;\">\n",
       "      <th></th>\n",
       "      <th>Name</th>\n",
       "      <th>Platform</th>\n",
       "      <th>Year_of_Release</th>\n",
       "      <th>Genre</th>\n",
       "      <th>NA_sales</th>\n",
       "      <th>EU_sales</th>\n",
       "      <th>JP_sales</th>\n",
       "      <th>Other_sales</th>\n",
       "      <th>Critic_Score</th>\n",
       "      <th>User_Score</th>\n",
       "      <th>Rating</th>\n",
       "    </tr>\n",
       "  </thead>\n",
       "  <tbody>\n",
       "    <tr>\n",
       "      <th>0</th>\n",
       "      <td>Wii Sports</td>\n",
       "      <td>Wii</td>\n",
       "      <td>2006.0</td>\n",
       "      <td>Sports</td>\n",
       "      <td>41.36</td>\n",
       "      <td>28.96</td>\n",
       "      <td>3.77</td>\n",
       "      <td>8.45</td>\n",
       "      <td>76.0</td>\n",
       "      <td>8</td>\n",
       "      <td>E</td>\n",
       "    </tr>\n",
       "    <tr>\n",
       "      <th>1</th>\n",
       "      <td>Super Mario Bros.</td>\n",
       "      <td>NES</td>\n",
       "      <td>1985.0</td>\n",
       "      <td>Platform</td>\n",
       "      <td>29.08</td>\n",
       "      <td>3.58</td>\n",
       "      <td>6.81</td>\n",
       "      <td>0.77</td>\n",
       "      <td>NaN</td>\n",
       "      <td>NaN</td>\n",
       "      <td>NaN</td>\n",
       "    </tr>\n",
       "    <tr>\n",
       "      <th>2</th>\n",
       "      <td>Mario Kart Wii</td>\n",
       "      <td>Wii</td>\n",
       "      <td>2008.0</td>\n",
       "      <td>Racing</td>\n",
       "      <td>15.68</td>\n",
       "      <td>12.76</td>\n",
       "      <td>3.79</td>\n",
       "      <td>3.29</td>\n",
       "      <td>82.0</td>\n",
       "      <td>8.3</td>\n",
       "      <td>E</td>\n",
       "    </tr>\n",
       "    <tr>\n",
       "      <th>3</th>\n",
       "      <td>Wii Sports Resort</td>\n",
       "      <td>Wii</td>\n",
       "      <td>2009.0</td>\n",
       "      <td>Sports</td>\n",
       "      <td>15.61</td>\n",
       "      <td>10.93</td>\n",
       "      <td>3.28</td>\n",
       "      <td>2.95</td>\n",
       "      <td>80.0</td>\n",
       "      <td>8</td>\n",
       "      <td>E</td>\n",
       "    </tr>\n",
       "    <tr>\n",
       "      <th>4</th>\n",
       "      <td>Pokemon Red/Pokemon Blue</td>\n",
       "      <td>GB</td>\n",
       "      <td>1996.0</td>\n",
       "      <td>Role-Playing</td>\n",
       "      <td>11.27</td>\n",
       "      <td>8.89</td>\n",
       "      <td>10.22</td>\n",
       "      <td>1.00</td>\n",
       "      <td>NaN</td>\n",
       "      <td>NaN</td>\n",
       "      <td>NaN</td>\n",
       "    </tr>\n",
       "    <tr>\n",
       "      <th>5</th>\n",
       "      <td>Tetris</td>\n",
       "      <td>GB</td>\n",
       "      <td>1989.0</td>\n",
       "      <td>Puzzle</td>\n",
       "      <td>23.20</td>\n",
       "      <td>2.26</td>\n",
       "      <td>4.22</td>\n",
       "      <td>0.58</td>\n",
       "      <td>NaN</td>\n",
       "      <td>NaN</td>\n",
       "      <td>NaN</td>\n",
       "    </tr>\n",
       "    <tr>\n",
       "      <th>6</th>\n",
       "      <td>New Super Mario Bros.</td>\n",
       "      <td>DS</td>\n",
       "      <td>2006.0</td>\n",
       "      <td>Platform</td>\n",
       "      <td>11.28</td>\n",
       "      <td>9.14</td>\n",
       "      <td>6.50</td>\n",
       "      <td>2.88</td>\n",
       "      <td>89.0</td>\n",
       "      <td>8.5</td>\n",
       "      <td>E</td>\n",
       "    </tr>\n",
       "    <tr>\n",
       "      <th>7</th>\n",
       "      <td>Wii Play</td>\n",
       "      <td>Wii</td>\n",
       "      <td>2006.0</td>\n",
       "      <td>Misc</td>\n",
       "      <td>13.96</td>\n",
       "      <td>9.18</td>\n",
       "      <td>2.93</td>\n",
       "      <td>2.84</td>\n",
       "      <td>58.0</td>\n",
       "      <td>6.6</td>\n",
       "      <td>E</td>\n",
       "    </tr>\n",
       "    <tr>\n",
       "      <th>8</th>\n",
       "      <td>New Super Mario Bros. Wii</td>\n",
       "      <td>Wii</td>\n",
       "      <td>2009.0</td>\n",
       "      <td>Platform</td>\n",
       "      <td>14.44</td>\n",
       "      <td>6.94</td>\n",
       "      <td>4.70</td>\n",
       "      <td>2.24</td>\n",
       "      <td>87.0</td>\n",
       "      <td>8.4</td>\n",
       "      <td>E</td>\n",
       "    </tr>\n",
       "    <tr>\n",
       "      <th>9</th>\n",
       "      <td>Duck Hunt</td>\n",
       "      <td>NES</td>\n",
       "      <td>1984.0</td>\n",
       "      <td>Shooter</td>\n",
       "      <td>26.93</td>\n",
       "      <td>0.63</td>\n",
       "      <td>0.28</td>\n",
       "      <td>0.47</td>\n",
       "      <td>NaN</td>\n",
       "      <td>NaN</td>\n",
       "      <td>NaN</td>\n",
       "    </tr>\n",
       "  </tbody>\n",
       "</table>\n",
       "</div>"
      ],
      "text/plain": [
       "                        Name Platform  Year_of_Release         Genre  \\\n",
       "0                 Wii Sports      Wii           2006.0        Sports   \n",
       "1          Super Mario Bros.      NES           1985.0      Platform   \n",
       "2             Mario Kart Wii      Wii           2008.0        Racing   \n",
       "3          Wii Sports Resort      Wii           2009.0        Sports   \n",
       "4   Pokemon Red/Pokemon Blue       GB           1996.0  Role-Playing   \n",
       "5                     Tetris       GB           1989.0        Puzzle   \n",
       "6      New Super Mario Bros.       DS           2006.0      Platform   \n",
       "7                   Wii Play      Wii           2006.0          Misc   \n",
       "8  New Super Mario Bros. Wii      Wii           2009.0      Platform   \n",
       "9                  Duck Hunt      NES           1984.0       Shooter   \n",
       "\n",
       "   NA_sales  EU_sales  JP_sales  Other_sales  Critic_Score User_Score Rating  \n",
       "0     41.36     28.96      3.77         8.45          76.0          8      E  \n",
       "1     29.08      3.58      6.81         0.77           NaN        NaN    NaN  \n",
       "2     15.68     12.76      3.79         3.29          82.0        8.3      E  \n",
       "3     15.61     10.93      3.28         2.95          80.0          8      E  \n",
       "4     11.27      8.89     10.22         1.00           NaN        NaN    NaN  \n",
       "5     23.20      2.26      4.22         0.58           NaN        NaN    NaN  \n",
       "6     11.28      9.14      6.50         2.88          89.0        8.5      E  \n",
       "7     13.96      9.18      2.93         2.84          58.0        6.6      E  \n",
       "8     14.44      6.94      4.70         2.24          87.0        8.4      E  \n",
       "9     26.93      0.63      0.28         0.47           NaN        NaN    NaN  "
      ]
     },
     "execution_count": 3,
     "metadata": {},
     "output_type": "execute_result"
    }
   ],
   "source": [
    "df.head(10)"
   ]
  },
  {
   "cell_type": "code",
   "execution_count": 4,
   "metadata": {
    "colab": {
     "base_uri": "https://localhost:8080/"
    },
    "id": "-S6XH24T48cQ",
    "outputId": "7b069002-39b9-4c31-c46d-7b2508fd589b"
   },
   "outputs": [
    {
     "name": "stdout",
     "output_type": "stream",
     "text": [
      "<class 'pandas.core.frame.DataFrame'>\n",
      "RangeIndex: 16715 entries, 0 to 16714\n",
      "Data columns (total 11 columns):\n",
      " #   Column           Non-Null Count  Dtype  \n",
      "---  ------           --------------  -----  \n",
      " 0   Name             16713 non-null  object \n",
      " 1   Platform         16715 non-null  object \n",
      " 2   Year_of_Release  16446 non-null  float64\n",
      " 3   Genre            16713 non-null  object \n",
      " 4   NA_sales         16715 non-null  float64\n",
      " 5   EU_sales         16715 non-null  float64\n",
      " 6   JP_sales         16715 non-null  float64\n",
      " 7   Other_sales      16715 non-null  float64\n",
      " 8   Critic_Score     8137 non-null   float64\n",
      " 9   User_Score       10014 non-null  object \n",
      " 10  Rating           9949 non-null   object \n",
      "dtypes: float64(6), object(5)\n",
      "memory usage: 1.4+ MB\n"
     ]
    }
   ],
   "source": [
    "df.info()"
   ]
  },
  {
   "cell_type": "markdown",
   "metadata": {
    "id": "aMpe2-bT6Z0b"
   },
   "source": [
    "Приведем колонки к lowercae"
   ]
  },
  {
   "cell_type": "code",
   "execution_count": 5,
   "metadata": {
    "id": "vWLzy3ov6eSY"
   },
   "outputs": [],
   "source": [
    "df.columns= df.columns.str.lower()"
   ]
  },
  {
   "cell_type": "code",
   "execution_count": 6,
   "metadata": {
    "colab": {
     "base_uri": "https://localhost:8080/"
    },
    "id": "ePENlPn46f6s",
    "outputId": "77f3aa23-d43c-41ea-80e1-3f08f63b312d"
   },
   "outputs": [
    {
     "name": "stdout",
     "output_type": "stream",
     "text": [
      "<class 'pandas.core.frame.DataFrame'>\n",
      "RangeIndex: 16715 entries, 0 to 16714\n",
      "Data columns (total 11 columns):\n",
      " #   Column           Non-Null Count  Dtype  \n",
      "---  ------           --------------  -----  \n",
      " 0   name             16713 non-null  object \n",
      " 1   platform         16715 non-null  object \n",
      " 2   year_of_release  16446 non-null  float64\n",
      " 3   genre            16713 non-null  object \n",
      " 4   na_sales         16715 non-null  float64\n",
      " 5   eu_sales         16715 non-null  float64\n",
      " 6   jp_sales         16715 non-null  float64\n",
      " 7   other_sales      16715 non-null  float64\n",
      " 8   critic_score     8137 non-null   float64\n",
      " 9   user_score       10014 non-null  object \n",
      " 10  rating           9949 non-null   object \n",
      "dtypes: float64(6), object(5)\n",
      "memory usage: 1.4+ MB\n"
     ]
    }
   ],
   "source": [
    "df.info()"
   ]
  },
  {
   "cell_type": "markdown",
   "metadata": {},
   "source": [
    "Видим, что есть пропуски. Постораемся их заполнить в следующем пункте"
   ]
  },
  {
   "cell_type": "markdown",
   "metadata": {},
   "source": [
    "<a class=\"anchor\" id=\"2-bullet\"></a>\n",
    "### Заполнеие пропусков "
   ]
  },
  {
   "cell_type": "markdown",
   "metadata": {
    "id": "898BqIo9Cw6p"
   },
   "source": [
    "Преобразование столбцов и обработка дубликатов.\n",
    "1. Проверим на наличие явных дубликатов\n",
    "2. Удалим две строчки, где пропущено имя, так как нельзя восстановить что это\n",
    "3. В year_of_release - заменим пропуски на ноль, чтобы потом отсечь при анализе в query, изменим тип данных\n",
    "4. User_score - выясним почему тип данных object и при необходимости заменим на другие значения\n",
    "5. Пропуски в столбце рейтинг заполним пропуски значением NR (not rated), что позволит проанализировать игры, у которых нет рейтинга"
   ]
  },
  {
   "cell_type": "code",
   "execution_count": 7,
   "metadata": {
    "colab": {
     "base_uri": "https://localhost:8080/",
     "height": 34
    },
    "id": "BGW99CtXxQMv",
    "outputId": "a74de47d-48d8-4766-b427-5a1b88dbb355"
   },
   "outputs": [
    {
     "data": {
      "text/plain": [
       "0"
      ]
     },
     "execution_count": 7,
     "metadata": {},
     "output_type": "execute_result"
    }
   ],
   "source": [
    "df.duplicated().sum() #явных дубликатов нет"
   ]
  },
  {
   "cell_type": "markdown",
   "metadata": {
    "id": "_HiI4voYpmSg"
   },
   "source": [
    "Удаляем строчки, сначала заменив на 0"
   ]
  },
  {
   "cell_type": "code",
   "execution_count": 8,
   "metadata": {
    "id": "VToTLHeP85aX"
   },
   "outputs": [],
   "source": [
    "df['name'] = df['name'].replace(np.nan,0)"
   ]
  },
  {
   "cell_type": "code",
   "execution_count": 9,
   "metadata": {
    "id": "qiKjSEpi98Rq"
   },
   "outputs": [],
   "source": [
    "df=df.drop(df[df['name']==0].index)"
   ]
  },
  {
   "cell_type": "code",
   "execution_count": 10,
   "metadata": {
    "colab": {
     "base_uri": "https://localhost:8080/"
    },
    "id": "_HtOiRyo-H_A",
    "outputId": "f61dd96a-1516-4175-f9da-1b5230fcc28d"
   },
   "outputs": [
    {
     "name": "stdout",
     "output_type": "stream",
     "text": [
      "<class 'pandas.core.frame.DataFrame'>\n",
      "Int64Index: 16713 entries, 0 to 16714\n",
      "Data columns (total 11 columns):\n",
      " #   Column           Non-Null Count  Dtype  \n",
      "---  ------           --------------  -----  \n",
      " 0   name             16713 non-null  object \n",
      " 1   platform         16713 non-null  object \n",
      " 2   year_of_release  16444 non-null  float64\n",
      " 3   genre            16713 non-null  object \n",
      " 4   na_sales         16713 non-null  float64\n",
      " 5   eu_sales         16713 non-null  float64\n",
      " 6   jp_sales         16713 non-null  float64\n",
      " 7   other_sales      16713 non-null  float64\n",
      " 8   critic_score     8137 non-null   float64\n",
      " 9   user_score       10014 non-null  object \n",
      " 10  rating           9949 non-null   object \n",
      "dtypes: float64(6), object(5)\n",
      "memory usage: 1.5+ MB\n"
     ]
    }
   ],
   "source": [
    "df.info() #значения удалились"
   ]
  },
  {
   "cell_type": "markdown",
   "metadata": {
    "id": "TDWdlSMSEQ32"
   },
   "source": [
    "Заменим пустые значения на 0 в year_of_release, чтобы при query отсечь и приведем год к целочисленным значениям"
   ]
  },
  {
   "cell_type": "code",
   "execution_count": 11,
   "metadata": {
    "id": "8TT5uKGU-NJN"
   },
   "outputs": [],
   "source": [
    "df['year_of_release'] = df['year_of_release'].replace(np.nan,0)"
   ]
  },
  {
   "cell_type": "code",
   "execution_count": 12,
   "metadata": {
    "id": "wAO-rAJTCWGK"
   },
   "outputs": [],
   "source": [
    "df['year_of_release'] = df['year_of_release'].astype('int') #приводим к целочисленным"
   ]
  },
  {
   "cell_type": "code",
   "execution_count": 13,
   "metadata": {
    "colab": {
     "base_uri": "https://localhost:8080/"
    },
    "id": "PqSoGZ9YCbxR",
    "outputId": "424202bf-cba6-4bff-db68-2bfe158f1a1f"
   },
   "outputs": [
    {
     "name": "stdout",
     "output_type": "stream",
     "text": [
      "<class 'pandas.core.frame.DataFrame'>\n",
      "Int64Index: 16713 entries, 0 to 16714\n",
      "Data columns (total 11 columns):\n",
      " #   Column           Non-Null Count  Dtype  \n",
      "---  ------           --------------  -----  \n",
      " 0   name             16713 non-null  object \n",
      " 1   platform         16713 non-null  object \n",
      " 2   year_of_release  16713 non-null  int64  \n",
      " 3   genre            16713 non-null  object \n",
      " 4   na_sales         16713 non-null  float64\n",
      " 5   eu_sales         16713 non-null  float64\n",
      " 6   jp_sales         16713 non-null  float64\n",
      " 7   other_sales      16713 non-null  float64\n",
      " 8   critic_score     8137 non-null   float64\n",
      " 9   user_score       10014 non-null  object \n",
      " 10  rating           9949 non-null   object \n",
      "dtypes: float64(5), int64(1), object(5)\n",
      "memory usage: 1.5+ MB\n"
     ]
    }
   ],
   "source": [
    "df.info()"
   ]
  },
  {
   "cell_type": "markdown",
   "metadata": {},
   "source": [
    "Так как нам необходимо получить наиболее корректные данные, мы не будем заполнять пропущенные значения, а в случае пропущенного рейтинга добавим NR (not rated), что позволит посмотреть есть ли какая-то зави\n",
    "    \n",
    "<b>Сделаем следующее</b>:\n",
    "1. Проверим, почему user_score имеет переменную object и преобразуем данные в подходящий формат (float)\n",
    "2. Заменим пропуски в rating на NR"
   ]
  },
  {
   "cell_type": "markdown",
   "metadata": {},
   "source": [
    "Проверим, почему user_score в типе данных имеется object. Для этого воспользуемся функции отображения уникальных значений - unqiue"
   ]
  },
  {
   "cell_type": "code",
   "execution_count": 14,
   "metadata": {
    "colab": {
     "base_uri": "https://localhost:8080/",
     "height": 208
    },
    "id": "yQKUbVsNOmEL",
    "outputId": "4e5d84e5-3fa6-4021-8d6e-b5b032feb198"
   },
   "outputs": [
    {
     "data": {
      "text/plain": [
       "array(['8', nan, '8.3', '8.5', '6.6', '8.4', '8.6', '7.7', '6.3', '7.4',\n",
       "       '8.2', '9', '7.9', '8.1', '8.7', '7.1', '3.4', '5.3', '4.8', '3.2',\n",
       "       '8.9', '6.4', '7.8', '7.5', '2.6', '7.2', '9.2', '7', '7.3', '4.3',\n",
       "       '7.6', '5.7', '5', '9.1', '6.5', 'tbd', '8.8', '6.9', '9.4', '6.8',\n",
       "       '6.1', '6.7', '5.4', '4', '4.9', '4.5', '9.3', '6.2', '4.2', '6',\n",
       "       '3.7', '4.1', '5.8', '5.6', '5.5', '4.4', '4.6', '5.9', '3.9',\n",
       "       '3.1', '2.9', '5.2', '3.3', '4.7', '5.1', '3.5', '2.5', '1.9', '3',\n",
       "       '2.7', '2.2', '2', '9.5', '2.1', '3.6', '2.8', '1.8', '3.8', '0',\n",
       "       '1.6', '9.6', '2.4', '1.7', '1.1', '0.3', '1.5', '0.7', '1.2',\n",
       "       '2.3', '0.5', '1.3', '0.2', '0.6', '1.4', '0.9', '1', '9.7'],\n",
       "      dtype=object)"
      ]
     },
     "execution_count": 14,
     "metadata": {},
     "output_type": "execute_result"
    }
   ],
   "source": [
    "df['user_score'].unique()"
   ]
  },
  {
   "cell_type": "markdown",
   "metadata": {
    "id": "fLUPpr86QUow"
   },
   "source": [
    "Видим, что есть tbd - то есть рейтинг был еще не анонсрован - для начала замним tbd на nan, а потом переведем в object"
   ]
  },
  {
   "cell_type": "code",
   "execution_count": 15,
   "metadata": {
    "id": "NIo7Bx5QRXoG"
   },
   "outputs": [],
   "source": [
    "df['user_score'] = df['user_score'].replace('tbd', np.nan) "
   ]
  },
  {
   "cell_type": "code",
   "execution_count": 16,
   "metadata": {
    "colab": {
     "base_uri": "https://localhost:8080/",
     "height": 190
    },
    "id": "27PCHOi7qUge",
    "outputId": "4c0044e8-96a1-4cdf-86f4-f5148d53126e"
   },
   "outputs": [
    {
     "data": {
      "text/plain": [
       "array(['8', nan, '8.3', '8.5', '6.6', '8.4', '8.6', '7.7', '6.3', '7.4',\n",
       "       '8.2', '9', '7.9', '8.1', '8.7', '7.1', '3.4', '5.3', '4.8', '3.2',\n",
       "       '8.9', '6.4', '7.8', '7.5', '2.6', '7.2', '9.2', '7', '7.3', '4.3',\n",
       "       '7.6', '5.7', '5', '9.1', '6.5', '8.8', '6.9', '9.4', '6.8', '6.1',\n",
       "       '6.7', '5.4', '4', '4.9', '4.5', '9.3', '6.2', '4.2', '6', '3.7',\n",
       "       '4.1', '5.8', '5.6', '5.5', '4.4', '4.6', '5.9', '3.9', '3.1',\n",
       "       '2.9', '5.2', '3.3', '4.7', '5.1', '3.5', '2.5', '1.9', '3', '2.7',\n",
       "       '2.2', '2', '9.5', '2.1', '3.6', '2.8', '1.8', '3.8', '0', '1.6',\n",
       "       '9.6', '2.4', '1.7', '1.1', '0.3', '1.5', '0.7', '1.2', '2.3',\n",
       "       '0.5', '1.3', '0.2', '0.6', '1.4', '0.9', '1', '9.7'], dtype=object)"
      ]
     },
     "execution_count": 16,
     "metadata": {},
     "output_type": "execute_result"
    }
   ],
   "source": [
    "df['user_score'].unique()  #tbd ушли"
   ]
  },
  {
   "cell_type": "code",
   "execution_count": 17,
   "metadata": {},
   "outputs": [],
   "source": [
    "df['user_score']=df['user_score'].astype('float')"
   ]
  },
  {
   "cell_type": "code",
   "execution_count": 18,
   "metadata": {
    "colab": {
     "base_uri": "https://localhost:8080/"
    },
    "id": "dECplzOzqigo",
    "outputId": "19064804-5617-4254-b9c9-8d7bacf55615"
   },
   "outputs": [
    {
     "name": "stdout",
     "output_type": "stream",
     "text": [
      "<class 'pandas.core.frame.DataFrame'>\n",
      "Int64Index: 16713 entries, 0 to 16714\n",
      "Data columns (total 11 columns):\n",
      " #   Column           Non-Null Count  Dtype  \n",
      "---  ------           --------------  -----  \n",
      " 0   name             16713 non-null  object \n",
      " 1   platform         16713 non-null  object \n",
      " 2   year_of_release  16713 non-null  int64  \n",
      " 3   genre            16713 non-null  object \n",
      " 4   na_sales         16713 non-null  float64\n",
      " 5   eu_sales         16713 non-null  float64\n",
      " 6   jp_sales         16713 non-null  float64\n",
      " 7   other_sales      16713 non-null  float64\n",
      " 8   critic_score     8137 non-null   float64\n",
      " 9   user_score       7590 non-null   float64\n",
      " 10  rating           9949 non-null   object \n",
      "dtypes: float64(6), int64(1), object(4)\n",
      "memory usage: 1.5+ MB\n"
     ]
    }
   ],
   "source": [
    "df.info() #тип данных "
   ]
  },
  {
   "cell_type": "markdown",
   "metadata": {
    "id": "uPvGu25jqmhL"
   },
   "source": [
    "Заполним пропуски в поле рейтинг на NR чтобы при исследование иметь категорию Not_rated"
   ]
  },
  {
   "cell_type": "code",
   "execution_count": 19,
   "metadata": {
    "id": "C5bO6XaBql0H"
   },
   "outputs": [],
   "source": [
    "df['rating'] = df['rating'].replace(np.nan,'NR') "
   ]
  },
  {
   "cell_type": "code",
   "execution_count": 20,
   "metadata": {
    "colab": {
     "base_uri": "https://localhost:8080/"
    },
    "id": "hla6ZekYw0P3",
    "outputId": "b084fcca-e860-4a9a-e1df-1eb367780fa6"
   },
   "outputs": [
    {
     "data": {
      "text/plain": [
       "NR      6764\n",
       "E       3990\n",
       "T       2961\n",
       "M       1563\n",
       "E10+    1420\n",
       "EC         8\n",
       "K-A        3\n",
       "RP         3\n",
       "AO         1\n",
       "Name: rating, dtype: int64"
      ]
     },
     "execution_count": 20,
     "metadata": {},
     "output_type": "execute_result"
    }
   ],
   "source": [
    "df['rating'].value_counts() #изменение удались - пропусков нет"
   ]
  },
  {
   "cell_type": "code",
   "execution_count": 21,
   "metadata": {},
   "outputs": [
    {
     "name": "stdout",
     "output_type": "stream",
     "text": [
      "<class 'pandas.core.frame.DataFrame'>\n",
      "Int64Index: 16713 entries, 0 to 16714\n",
      "Data columns (total 11 columns):\n",
      " #   Column           Non-Null Count  Dtype  \n",
      "---  ------           --------------  -----  \n",
      " 0   name             16713 non-null  object \n",
      " 1   platform         16713 non-null  object \n",
      " 2   year_of_release  16713 non-null  int64  \n",
      " 3   genre            16713 non-null  object \n",
      " 4   na_sales         16713 non-null  float64\n",
      " 5   eu_sales         16713 non-null  float64\n",
      " 6   jp_sales         16713 non-null  float64\n",
      " 7   other_sales      16713 non-null  float64\n",
      " 8   critic_score     8137 non-null   float64\n",
      " 9   user_score       7590 non-null   float64\n",
      " 10  rating           16713 non-null  object \n",
      "dtypes: float64(6), int64(1), object(4)\n",
      "memory usage: 1.5+ MB\n"
     ]
    }
   ],
   "source": [
    "df.info()"
   ]
  },
  {
   "cell_type": "markdown",
   "metadata": {},
   "source": [
    "<a class=\"anchor\" id=\"3-bullet\"></a>\n",
    "### Выводы по первой части"
   ]
  },
  {
   "cell_type": "markdown",
   "metadata": {},
   "source": [
    "1. Мы прочитали данные и провели первичные анализ пропусков\n",
    "2. Заполнили пропуски, исходя из возможности искажения данных, изменили тип данных\n",
    "3. Для анализа каких либо показателей, необходимо будет делать дополнительные срезы, в которых мы бы убирали NAN"
   ]
  },
  {
   "cell_type": "markdown",
   "metadata": {
    "id": "CUW0Rpgr-X4P"
   },
   "source": [
    "## Часть 2 Анализ данных"
   ]
  },
  {
   "cell_type": "markdown",
   "metadata": {
    "id": "3MwC8D8xxYTR"
   },
   "source": [
    "В данном шаге нам нужно сделать несколько выводов для того чтоб выбрать какие направления лучше развивать компании Стримчик\n",
    "1. Посмотрите, сколько игр выпускалось в разные годы. Важны ли данные за все периоды?\n",
    "2. Посмотрите, как менялись продажи по платформам. Выберите платформы с наибольшими суммарными продажами и постройте распределение по годам. За какой характерный срок появляются новые и исчезают старые платформы?\n",
    "3. Выбрать актуальный период (для прогноза на 2017 год).\n",
    "4. Какие платформы лидируют по продажам, растут или падают? Выберите несколько потенциально прибыльных платформ.\n",
    "5. Постройте график «ящик с усами» по глобальным продажам игр в разбивке по платформам. Опишите результат.\n",
    "6. Посмотрите, как влияют на продажи внутри одной популярной платформы отзывы пользователей и критиков. Постройте диаграмму рассеяния и посчитайте корреляцию между отзывами и продажами. Сформулируйте выводы.\n",
    "7. Посмотрите на общее распределение игр по жанрам. Что можно сказать о самых прибыльных жанрах? Выделяются ли жанры с высокими и низкими продажами?"
   ]
  },
  {
   "cell_type": "markdown",
   "metadata": {
    "id": "rX6hNG0p0fUu"
   },
   "source": [
    "<a class=\"anchor\" id=\"4-bullet\"></a>\n",
    "### Расределение игр по годам"
   ]
  },
  {
   "cell_type": "markdown",
   "metadata": {},
   "source": [
    "В данном пункте, рассмаотрим распределение количества игр по годам. Для этого создадим датафрейм, где знаем год выхода игры, построим сводную таблицу, визуализируем и сделаем вывод"
   ]
  },
  {
   "cell_type": "code",
   "execution_count": 22,
   "metadata": {
    "id": "VqSyZhzy0gxz"
   },
   "outputs": [],
   "source": [
    "year_query=df.query('year_of_release !=0')"
   ]
  },
  {
   "cell_type": "code",
   "execution_count": 23,
   "metadata": {
    "id": "boM9QLxA8sT-"
   },
   "outputs": [],
   "source": [
    "year_pivot=year_query.pivot_table(index ='year_of_release',\n",
    "                                  values='name',aggfunc=['count'])"
   ]
  },
  {
   "cell_type": "code",
   "execution_count": 24,
   "metadata": {
    "colab": {
     "base_uri": "https://localhost:8080/",
     "height": 1000
    },
    "id": "g1qWdqOu9OFE",
    "outputId": "0f6a00e1-4516-4e65-aed1-88874e2927ee",
    "scrolled": true
   },
   "outputs": [
    {
     "data": {
      "text/html": [
       "<div>\n",
       "<style scoped>\n",
       "    .dataframe tbody tr th:only-of-type {\n",
       "        vertical-align: middle;\n",
       "    }\n",
       "\n",
       "    .dataframe tbody tr th {\n",
       "        vertical-align: top;\n",
       "    }\n",
       "\n",
       "    .dataframe thead tr th {\n",
       "        text-align: left;\n",
       "    }\n",
       "\n",
       "    .dataframe thead tr:last-of-type th {\n",
       "        text-align: right;\n",
       "    }\n",
       "</style>\n",
       "<table border=\"1\" class=\"dataframe\">\n",
       "  <thead>\n",
       "    <tr>\n",
       "      <th></th>\n",
       "      <th>count</th>\n",
       "    </tr>\n",
       "    <tr>\n",
       "      <th></th>\n",
       "      <th>name</th>\n",
       "    </tr>\n",
       "    <tr>\n",
       "      <th>year_of_release</th>\n",
       "      <th></th>\n",
       "    </tr>\n",
       "  </thead>\n",
       "  <tbody>\n",
       "    <tr>\n",
       "      <th>1980</th>\n",
       "      <td>9</td>\n",
       "    </tr>\n",
       "    <tr>\n",
       "      <th>1981</th>\n",
       "      <td>46</td>\n",
       "    </tr>\n",
       "    <tr>\n",
       "      <th>1982</th>\n",
       "      <td>36</td>\n",
       "    </tr>\n",
       "    <tr>\n",
       "      <th>1983</th>\n",
       "      <td>17</td>\n",
       "    </tr>\n",
       "    <tr>\n",
       "      <th>1984</th>\n",
       "      <td>14</td>\n",
       "    </tr>\n",
       "    <tr>\n",
       "      <th>1985</th>\n",
       "      <td>14</td>\n",
       "    </tr>\n",
       "    <tr>\n",
       "      <th>1986</th>\n",
       "      <td>21</td>\n",
       "    </tr>\n",
       "    <tr>\n",
       "      <th>1987</th>\n",
       "      <td>16</td>\n",
       "    </tr>\n",
       "    <tr>\n",
       "      <th>1988</th>\n",
       "      <td>15</td>\n",
       "    </tr>\n",
       "    <tr>\n",
       "      <th>1989</th>\n",
       "      <td>17</td>\n",
       "    </tr>\n",
       "    <tr>\n",
       "      <th>1990</th>\n",
       "      <td>16</td>\n",
       "    </tr>\n",
       "    <tr>\n",
       "      <th>1991</th>\n",
       "      <td>41</td>\n",
       "    </tr>\n",
       "    <tr>\n",
       "      <th>1992</th>\n",
       "      <td>43</td>\n",
       "    </tr>\n",
       "    <tr>\n",
       "      <th>1993</th>\n",
       "      <td>60</td>\n",
       "    </tr>\n",
       "    <tr>\n",
       "      <th>1994</th>\n",
       "      <td>121</td>\n",
       "    </tr>\n",
       "    <tr>\n",
       "      <th>1995</th>\n",
       "      <td>219</td>\n",
       "    </tr>\n",
       "    <tr>\n",
       "      <th>1996</th>\n",
       "      <td>263</td>\n",
       "    </tr>\n",
       "    <tr>\n",
       "      <th>1997</th>\n",
       "      <td>289</td>\n",
       "    </tr>\n",
       "    <tr>\n",
       "      <th>1998</th>\n",
       "      <td>379</td>\n",
       "    </tr>\n",
       "    <tr>\n",
       "      <th>1999</th>\n",
       "      <td>338</td>\n",
       "    </tr>\n",
       "    <tr>\n",
       "      <th>2000</th>\n",
       "      <td>350</td>\n",
       "    </tr>\n",
       "    <tr>\n",
       "      <th>2001</th>\n",
       "      <td>482</td>\n",
       "    </tr>\n",
       "    <tr>\n",
       "      <th>2002</th>\n",
       "      <td>829</td>\n",
       "    </tr>\n",
       "    <tr>\n",
       "      <th>2003</th>\n",
       "      <td>775</td>\n",
       "    </tr>\n",
       "    <tr>\n",
       "      <th>2004</th>\n",
       "      <td>762</td>\n",
       "    </tr>\n",
       "    <tr>\n",
       "      <th>2005</th>\n",
       "      <td>939</td>\n",
       "    </tr>\n",
       "    <tr>\n",
       "      <th>2006</th>\n",
       "      <td>1006</td>\n",
       "    </tr>\n",
       "    <tr>\n",
       "      <th>2007</th>\n",
       "      <td>1197</td>\n",
       "    </tr>\n",
       "    <tr>\n",
       "      <th>2008</th>\n",
       "      <td>1427</td>\n",
       "    </tr>\n",
       "    <tr>\n",
       "      <th>2009</th>\n",
       "      <td>1426</td>\n",
       "    </tr>\n",
       "    <tr>\n",
       "      <th>2010</th>\n",
       "      <td>1255</td>\n",
       "    </tr>\n",
       "    <tr>\n",
       "      <th>2011</th>\n",
       "      <td>1136</td>\n",
       "    </tr>\n",
       "    <tr>\n",
       "      <th>2012</th>\n",
       "      <td>653</td>\n",
       "    </tr>\n",
       "    <tr>\n",
       "      <th>2013</th>\n",
       "      <td>544</td>\n",
       "    </tr>\n",
       "    <tr>\n",
       "      <th>2014</th>\n",
       "      <td>581</td>\n",
       "    </tr>\n",
       "    <tr>\n",
       "      <th>2015</th>\n",
       "      <td>606</td>\n",
       "    </tr>\n",
       "    <tr>\n",
       "      <th>2016</th>\n",
       "      <td>502</td>\n",
       "    </tr>\n",
       "  </tbody>\n",
       "</table>\n",
       "</div>"
      ],
      "text/plain": [
       "                count\n",
       "                 name\n",
       "year_of_release      \n",
       "1980                9\n",
       "1981               46\n",
       "1982               36\n",
       "1983               17\n",
       "1984               14\n",
       "1985               14\n",
       "1986               21\n",
       "1987               16\n",
       "1988               15\n",
       "1989               17\n",
       "1990               16\n",
       "1991               41\n",
       "1992               43\n",
       "1993               60\n",
       "1994              121\n",
       "1995              219\n",
       "1996              263\n",
       "1997              289\n",
       "1998              379\n",
       "1999              338\n",
       "2000              350\n",
       "2001              482\n",
       "2002              829\n",
       "2003              775\n",
       "2004              762\n",
       "2005              939\n",
       "2006             1006\n",
       "2007             1197\n",
       "2008             1427\n",
       "2009             1426\n",
       "2010             1255\n",
       "2011             1136\n",
       "2012              653\n",
       "2013              544\n",
       "2014              581\n",
       "2015              606\n",
       "2016              502"
      ]
     },
     "metadata": {},
     "output_type": "display_data"
    }
   ],
   "source": [
    " display(year_pivot) #визуализируем это с помощьб диаграммы"
   ]
  },
  {
   "cell_type": "code",
   "execution_count": 25,
   "metadata": {
    "id": "w3WiF61n-oD4"
   },
   "outputs": [],
   "source": [
    "year_pivot['index'] = year_pivot.index"
   ]
  },
  {
   "cell_type": "code",
   "execution_count": 26,
   "metadata": {
    "id": "poc5YuTtC7R8"
   },
   "outputs": [],
   "source": [
    "year_pivot.columns=['count','year']"
   ]
  },
  {
   "cell_type": "code",
   "execution_count": 27,
   "metadata": {
    "colab": {
     "base_uri": "https://localhost:8080/",
     "height": 1000
    },
    "id": "H3-H9BV4Cjwd",
    "outputId": "c0a93dd4-71df-4e1d-c8d9-fbd862237af7",
    "scrolled": true
   },
   "outputs": [
    {
     "data": {
      "text/html": [
       "<div>\n",
       "<style scoped>\n",
       "    .dataframe tbody tr th:only-of-type {\n",
       "        vertical-align: middle;\n",
       "    }\n",
       "\n",
       "    .dataframe tbody tr th {\n",
       "        vertical-align: top;\n",
       "    }\n",
       "\n",
       "    .dataframe thead th {\n",
       "        text-align: right;\n",
       "    }\n",
       "</style>\n",
       "<table border=\"1\" class=\"dataframe\">\n",
       "  <thead>\n",
       "    <tr style=\"text-align: right;\">\n",
       "      <th></th>\n",
       "      <th>count</th>\n",
       "      <th>year</th>\n",
       "    </tr>\n",
       "    <tr>\n",
       "      <th>year_of_release</th>\n",
       "      <th></th>\n",
       "      <th></th>\n",
       "    </tr>\n",
       "  </thead>\n",
       "  <tbody>\n",
       "    <tr>\n",
       "      <th>1980</th>\n",
       "      <td>9</td>\n",
       "      <td>1980</td>\n",
       "    </tr>\n",
       "    <tr>\n",
       "      <th>1981</th>\n",
       "      <td>46</td>\n",
       "      <td>1981</td>\n",
       "    </tr>\n",
       "    <tr>\n",
       "      <th>1982</th>\n",
       "      <td>36</td>\n",
       "      <td>1982</td>\n",
       "    </tr>\n",
       "    <tr>\n",
       "      <th>1983</th>\n",
       "      <td>17</td>\n",
       "      <td>1983</td>\n",
       "    </tr>\n",
       "    <tr>\n",
       "      <th>1984</th>\n",
       "      <td>14</td>\n",
       "      <td>1984</td>\n",
       "    </tr>\n",
       "    <tr>\n",
       "      <th>1985</th>\n",
       "      <td>14</td>\n",
       "      <td>1985</td>\n",
       "    </tr>\n",
       "    <tr>\n",
       "      <th>1986</th>\n",
       "      <td>21</td>\n",
       "      <td>1986</td>\n",
       "    </tr>\n",
       "    <tr>\n",
       "      <th>1987</th>\n",
       "      <td>16</td>\n",
       "      <td>1987</td>\n",
       "    </tr>\n",
       "    <tr>\n",
       "      <th>1988</th>\n",
       "      <td>15</td>\n",
       "      <td>1988</td>\n",
       "    </tr>\n",
       "    <tr>\n",
       "      <th>1989</th>\n",
       "      <td>17</td>\n",
       "      <td>1989</td>\n",
       "    </tr>\n",
       "    <tr>\n",
       "      <th>1990</th>\n",
       "      <td>16</td>\n",
       "      <td>1990</td>\n",
       "    </tr>\n",
       "    <tr>\n",
       "      <th>1991</th>\n",
       "      <td>41</td>\n",
       "      <td>1991</td>\n",
       "    </tr>\n",
       "    <tr>\n",
       "      <th>1992</th>\n",
       "      <td>43</td>\n",
       "      <td>1992</td>\n",
       "    </tr>\n",
       "    <tr>\n",
       "      <th>1993</th>\n",
       "      <td>60</td>\n",
       "      <td>1993</td>\n",
       "    </tr>\n",
       "    <tr>\n",
       "      <th>1994</th>\n",
       "      <td>121</td>\n",
       "      <td>1994</td>\n",
       "    </tr>\n",
       "    <tr>\n",
       "      <th>1995</th>\n",
       "      <td>219</td>\n",
       "      <td>1995</td>\n",
       "    </tr>\n",
       "    <tr>\n",
       "      <th>1996</th>\n",
       "      <td>263</td>\n",
       "      <td>1996</td>\n",
       "    </tr>\n",
       "    <tr>\n",
       "      <th>1997</th>\n",
       "      <td>289</td>\n",
       "      <td>1997</td>\n",
       "    </tr>\n",
       "    <tr>\n",
       "      <th>1998</th>\n",
       "      <td>379</td>\n",
       "      <td>1998</td>\n",
       "    </tr>\n",
       "    <tr>\n",
       "      <th>1999</th>\n",
       "      <td>338</td>\n",
       "      <td>1999</td>\n",
       "    </tr>\n",
       "    <tr>\n",
       "      <th>2000</th>\n",
       "      <td>350</td>\n",
       "      <td>2000</td>\n",
       "    </tr>\n",
       "    <tr>\n",
       "      <th>2001</th>\n",
       "      <td>482</td>\n",
       "      <td>2001</td>\n",
       "    </tr>\n",
       "    <tr>\n",
       "      <th>2002</th>\n",
       "      <td>829</td>\n",
       "      <td>2002</td>\n",
       "    </tr>\n",
       "    <tr>\n",
       "      <th>2003</th>\n",
       "      <td>775</td>\n",
       "      <td>2003</td>\n",
       "    </tr>\n",
       "    <tr>\n",
       "      <th>2004</th>\n",
       "      <td>762</td>\n",
       "      <td>2004</td>\n",
       "    </tr>\n",
       "    <tr>\n",
       "      <th>2005</th>\n",
       "      <td>939</td>\n",
       "      <td>2005</td>\n",
       "    </tr>\n",
       "    <tr>\n",
       "      <th>2006</th>\n",
       "      <td>1006</td>\n",
       "      <td>2006</td>\n",
       "    </tr>\n",
       "    <tr>\n",
       "      <th>2007</th>\n",
       "      <td>1197</td>\n",
       "      <td>2007</td>\n",
       "    </tr>\n",
       "    <tr>\n",
       "      <th>2008</th>\n",
       "      <td>1427</td>\n",
       "      <td>2008</td>\n",
       "    </tr>\n",
       "    <tr>\n",
       "      <th>2009</th>\n",
       "      <td>1426</td>\n",
       "      <td>2009</td>\n",
       "    </tr>\n",
       "    <tr>\n",
       "      <th>2010</th>\n",
       "      <td>1255</td>\n",
       "      <td>2010</td>\n",
       "    </tr>\n",
       "    <tr>\n",
       "      <th>2011</th>\n",
       "      <td>1136</td>\n",
       "      <td>2011</td>\n",
       "    </tr>\n",
       "    <tr>\n",
       "      <th>2012</th>\n",
       "      <td>653</td>\n",
       "      <td>2012</td>\n",
       "    </tr>\n",
       "    <tr>\n",
       "      <th>2013</th>\n",
       "      <td>544</td>\n",
       "      <td>2013</td>\n",
       "    </tr>\n",
       "    <tr>\n",
       "      <th>2014</th>\n",
       "      <td>581</td>\n",
       "      <td>2014</td>\n",
       "    </tr>\n",
       "    <tr>\n",
       "      <th>2015</th>\n",
       "      <td>606</td>\n",
       "      <td>2015</td>\n",
       "    </tr>\n",
       "    <tr>\n",
       "      <th>2016</th>\n",
       "      <td>502</td>\n",
       "      <td>2016</td>\n",
       "    </tr>\n",
       "  </tbody>\n",
       "</table>\n",
       "</div>"
      ],
      "text/plain": [
       "                 count  year\n",
       "year_of_release             \n",
       "1980                 9  1980\n",
       "1981                46  1981\n",
       "1982                36  1982\n",
       "1983                17  1983\n",
       "1984                14  1984\n",
       "1985                14  1985\n",
       "1986                21  1986\n",
       "1987                16  1987\n",
       "1988                15  1988\n",
       "1989                17  1989\n",
       "1990                16  1990\n",
       "1991                41  1991\n",
       "1992                43  1992\n",
       "1993                60  1993\n",
       "1994               121  1994\n",
       "1995               219  1995\n",
       "1996               263  1996\n",
       "1997               289  1997\n",
       "1998               379  1998\n",
       "1999               338  1999\n",
       "2000               350  2000\n",
       "2001               482  2001\n",
       "2002               829  2002\n",
       "2003               775  2003\n",
       "2004               762  2004\n",
       "2005               939  2005\n",
       "2006              1006  2006\n",
       "2007              1197  2007\n",
       "2008              1427  2008\n",
       "2009              1426  2009\n",
       "2010              1255  2010\n",
       "2011              1136  2011\n",
       "2012               653  2012\n",
       "2013               544  2013\n",
       "2014               581  2014\n",
       "2015               606  2015\n",
       "2016               502  2016"
      ]
     },
     "metadata": {},
     "output_type": "display_data"
    }
   ],
   "source": [
    "display(year_pivot)"
   ]
  },
  {
   "cell_type": "code",
   "execution_count": 28,
   "metadata": {
    "colab": {
     "base_uri": "https://localhost:8080/"
    },
    "id": "oiSUAPoED1Gb",
    "outputId": "a92da77b-3f15-4386-e335-3544231ae8dc"
   },
   "outputs": [
    {
     "data": {
      "text/plain": [
       "count      37.000000\n",
       "mean      444.432432\n",
       "std       451.604334\n",
       "min         9.000000\n",
       "25%        36.000000\n",
       "50%       338.000000\n",
       "75%       762.000000\n",
       "max      1427.000000\n",
       "Name: count, dtype: float64"
      ]
     },
     "execution_count": 28,
     "metadata": {},
     "output_type": "execute_result"
    }
   ],
   "source": [
    "year_pivot['count'].describe()"
   ]
  },
  {
   "cell_type": "code",
   "execution_count": 29,
   "metadata": {
    "colab": {
     "base_uri": "https://localhost:8080/",
     "height": 623
    },
    "id": "wQUz_tGwCssn",
    "outputId": "6c613d4a-f937-403a-987c-224a4a9f1b69"
   },
   "outputs": [
    {
     "data": {
      "text/plain": [
       "<AxesSubplot:xlabel='year'>"
      ]
     },
     "execution_count": 29,
     "metadata": {},
     "output_type": "execute_result"
    },
    {
     "data": {
      "image/png": "[encoded data removed]",
      "text/plain": [
       "<Figure size 720x720 with 1 Axes>"
      ]
     },
     "metadata": {
      "needs_background": "light"
     },
     "output_type": "display_data"
    }
   ],
   "source": [
    "year_pivot.plot(x='year', y='count', kind='line',figsize=(10,10))"
   ]
  },
  {
   "cell_type": "markdown",
   "metadata": {
    "id": "rA-WX4ZRDsoJ"
   },
   "source": [
    "<big><b>Вывод по шагу 2.1</b></big>\n",
    "\n",
    "Из графика и сводной таблице видим, что пик продаж пришелся с 2000 по 2011 год, где резкий спад произошел в 2012 году. Но так как в задании нам нужно будет показать рост и падение, просто отбросим весь хвост до 2001 года и создадим query, в которых мы учтем все значения годов, когда выходило более 400 игр."
   ]
  },
  {
   "cell_type": "markdown",
   "metadata": {
    "id": "EBo8PRYZFfFw"
   },
   "source": [
    "<a class=\"anchor\" id=\"5-bullet\"></a>\n",
    "### Продажи по платформам"
   ]
  },
  {
   "cell_type": "markdown",
   "metadata": {},
   "source": [
    "Для начала создадим query, где \"обрежем\" весь хвост до 2000, который мы выделили в шаге 2.1"
   ]
  },
  {
   "cell_type": "code",
   "execution_count": 30,
   "metadata": {
    "id": "I3V633ajd0lB"
   },
   "outputs": [],
   "source": [
    "year_second_query=df.query('year_of_release >2000')"
   ]
  },
  {
   "cell_type": "code",
   "execution_count": 31,
   "metadata": {
    "colab": {
     "base_uri": "https://localhost:8080/"
    },
    "id": "aW_IWfD_1rpC",
    "outputId": "547fd049-11cd-4b6c-8e91-d7e4e7687ad9"
   },
   "outputs": [
    {
     "data": {
      "text/plain": [
       "<AxesSubplot:>"
      ]
     },
     "execution_count": 31,
     "metadata": {},
     "output_type": "execute_result"
    },
    {
     "data": {
      "image/png": "[encoded data removed]",
      "text/plain": [
       "<Figure size 432x288 with 1 Axes>"
      ]
     },
     "metadata": {
      "needs_background": "light"
     },
     "output_type": "display_data"
    }
   ],
   "source": [
    "year_second_query['year_of_release'].hist(bins=10)"
   ]
  },
  {
   "cell_type": "markdown",
   "metadata": {
    "id": "TU7fpjMybETc"
   },
   "source": [
    "Создадим дополнительный столбец, который считает прибыль общую для каждой игры  и добавим его в query"
   ]
  },
  {
   "cell_type": "code",
   "execution_count": 32,
   "metadata": {
    "colab": {
     "base_uri": "https://localhost:8080/"
    },
    "id": "PM2B7JkEg3vt",
    "outputId": "1e6925af-e3b7-42d6-eab2-ce40641ba59a"
   },
   "outputs": [
    {
     "name": "stdout",
     "output_type": "stream",
     "text": [
      "<class 'pandas.core.frame.DataFrame'>\n",
      "Int64Index: 14120 entries, 0 to 16714\n",
      "Data columns (total 12 columns):\n",
      " #   Column           Non-Null Count  Dtype  \n",
      "---  ------           --------------  -----  \n",
      " 0   name             14120 non-null  object \n",
      " 1   platform         14120 non-null  object \n",
      " 2   year_of_release  14120 non-null  int64  \n",
      " 3   genre            14120 non-null  object \n",
      " 4   na_sales         14120 non-null  float64\n",
      " 5   eu_sales         14120 non-null  float64\n",
      " 6   jp_sales         14120 non-null  float64\n",
      " 7   other_sales      14120 non-null  float64\n",
      " 8   critic_score     7744 non-null   float64\n",
      " 9   user_score       7264 non-null   float64\n",
      " 10  rating           14120 non-null  object \n",
      " 11  total_sales      14120 non-null  float64\n",
      "dtypes: float64(7), int64(1), object(4)\n",
      "memory usage: 1.4+ MB\n"
     ]
    }
   ],
   "source": [
    "pd.options.mode.chained_assignment = None \n",
    "year_second_query['total_sales']=year_second_query[['na_sales', 'eu_sales', 'jp_sales', 'other_sales']].sum(axis=1)\n",
    "year_second_query.info() #проверим, все ли отобразилось"
   ]
  },
  {
   "cell_type": "markdown",
   "metadata": {
    "id": "5Wm0luYSiDC3"
   },
   "source": [
    "Создадим Pivot, где сгруппируем приставки по прибылям, и в порядке убывания, чтобы найти топ-5 самые популярные приставки."
   ]
  },
  {
   "cell_type": "code",
   "execution_count": 33,
   "metadata": {
    "colab": {
     "base_uri": "https://localhost:8080/"
    },
    "id": "0TWrK1GwGE3P",
    "outputId": "85eaea3c-15a1-416d-dda6-8e3f74cd8caa"
   },
   "outputs": [
    {
     "data": {
      "text/html": [
       "<div>\n",
       "<style scoped>\n",
       "    .dataframe tbody tr th:only-of-type {\n",
       "        vertical-align: middle;\n",
       "    }\n",
       "\n",
       "    .dataframe tbody tr th {\n",
       "        vertical-align: top;\n",
       "    }\n",
       "\n",
       "    .dataframe thead th {\n",
       "        text-align: right;\n",
       "    }\n",
       "</style>\n",
       "<table border=\"1\" class=\"dataframe\">\n",
       "  <thead>\n",
       "    <tr style=\"text-align: right;\">\n",
       "      <th></th>\n",
       "      <th>sales</th>\n",
       "    </tr>\n",
       "    <tr>\n",
       "      <th>platform</th>\n",
       "      <th></th>\n",
       "    </tr>\n",
       "  </thead>\n",
       "  <tbody>\n",
       "    <tr>\n",
       "      <th>PS2</th>\n",
       "      <td>1194.39</td>\n",
       "    </tr>\n",
       "    <tr>\n",
       "      <th>X360</th>\n",
       "      <td>961.24</td>\n",
       "    </tr>\n",
       "    <tr>\n",
       "      <th>PS3</th>\n",
       "      <td>931.34</td>\n",
       "    </tr>\n",
       "    <tr>\n",
       "      <th>Wii</th>\n",
       "      <td>891.18</td>\n",
       "    </tr>\n",
       "    <tr>\n",
       "      <th>DS</th>\n",
       "      <td>802.76</td>\n",
       "    </tr>\n",
       "    <tr>\n",
       "      <th>PS4</th>\n",
       "      <td>314.14</td>\n",
       "    </tr>\n",
       "    <tr>\n",
       "      <th>GBA</th>\n",
       "      <td>312.81</td>\n",
       "    </tr>\n",
       "    <tr>\n",
       "      <th>PSP</th>\n",
       "      <td>289.53</td>\n",
       "    </tr>\n",
       "    <tr>\n",
       "      <th>3DS</th>\n",
       "      <td>257.81</td>\n",
       "    </tr>\n",
       "    <tr>\n",
       "      <th>XB</th>\n",
       "      <td>250.58</td>\n",
       "    </tr>\n",
       "  </tbody>\n",
       "</table>\n",
       "</div>"
      ],
      "text/plain": [
       "            sales\n",
       "platform         \n",
       "PS2       1194.39\n",
       "X360       961.24\n",
       "PS3        931.34\n",
       "Wii        891.18\n",
       "DS         802.76\n",
       "PS4        314.14\n",
       "GBA        312.81\n",
       "PSP        289.53\n",
       "3DS        257.81\n",
       "XB         250.58"
      ]
     },
     "metadata": {},
     "output_type": "display_data"
    }
   ],
   "source": [
    "year_second_query_tab=year_second_query.pivot_table(index ='platform',values='total_sales',aggfunc=['sum'])\n",
    "year_second_query_tab.columns=['sales']\n",
    "year_second_query_tab=year_second_query_tab.sort_values(by='sales',ascending=False).head(10)\n",
    "display(year_second_query_tab)"
   ]
  },
  {
   "cell_type": "markdown",
   "metadata": {
    "id": "tQqs6o-24K4r"
   },
   "source": [
    "Видим, что самые прибыльные приставки - PS2, X360, PS3,Wii, DS\n",
    "Построим график их продаж. Сначала создадим query по каждой платформе, потом сделаем pivot и визуализируем на одном графике"
   ]
  },
  {
   "cell_type": "code",
   "execution_count": 34,
   "metadata": {
    "id": "HS_b-2wO-gkM"
   },
   "outputs": [],
   "source": [
    "df_ps2=year_second_query.query('platform==\"PS2\"')\n",
    "df_x360=year_second_query.query('platform==\"X360\"')\n",
    "df_ps3=year_second_query.query('platform==\"PS3\"')\n",
    "df_wii=year_second_query.query('platform==\"Wii\"')\n",
    "df_ds=year_second_query.query('platform==\"DS\"')"
   ]
  },
  {
   "cell_type": "markdown",
   "metadata": {
    "id": "ycj0qpa3rK7u"
   },
   "source": [
    "На основе query создадим pivot и построим графики на одной плоскости"
   ]
  },
  {
   "cell_type": "code",
   "execution_count": 35,
   "metadata": {
    "id": "GVvZu2K1uaQF"
   },
   "outputs": [],
   "source": [
    "df_ps2 = df_ps2.pivot_table(index='year_of_release', values='total_sales',aggfunc='sum')\n",
    "df_x360 = df_x360.pivot_table(index='year_of_release', values='total_sales',aggfunc='sum')\n",
    "df_ps3 = df_ps3.pivot_table(index='year_of_release', values='total_sales',aggfunc='sum')\n",
    "df_wii = df_wii.pivot_table(index='year_of_release', values='total_sales',aggfunc='sum')\n",
    "df_ds = df_ds.pivot_table(index='year_of_release', values='total_sales',aggfunc='sum')"
   ]
  },
  {
   "cell_type": "code",
   "execution_count": 36,
   "metadata": {
    "colab": {
     "base_uri": "https://localhost:8080/"
    },
    "id": "9XGMipEIj5k5",
    "outputId": "fa975e37-9f39-4678-b62a-2b685002b4e6"
   },
   "outputs": [
    {
     "data": {
      "text/plain": [
       "<AxesSubplot:title={'center':'Platform Sales'}, xlabel='year_of_release'>"
      ]
     },
     "execution_count": 36,
     "metadata": {},
     "output_type": "execute_result"
    },
    {
     "data": {
      "image/png": "[encoded data removed]",
      "text/plain": [
       "<Figure size 576x288 with 1 Axes>"
      ]
     },
     "metadata": {
      "needs_background": "light"
     },
     "output_type": "display_data"
    }
   ],
   "source": [
    "df_ps2 = df_ps2.rename(columns={'total_sales':'ps2_sales'}) # ps2\n",
    "df_ps2['ps2_sales'].plot(legend=True)\n",
    "\n",
    "df_x360 = df_x360.rename(columns={'total_sales':'x360_sales'}) # x360\n",
    "df_x360['x360_sales'].plot(legend=True)\n",
    "\n",
    "df_wii = df_wii.rename(columns={'total_sales':'wii_sales'}) # Wii\n",
    "df_wii['wii_sales'].plot(legend=True)\n",
    "\n",
    "df_ps3 = df_ps3.rename(columns={'total_sales':'ps3_sales'}) # ps3\n",
    "df_ps3['ps3_sales'].plot(legend=True)\n",
    "\n",
    "df_ds = df_ds.rename(columns={'total_sales':'ds_sales'}) # DS\n",
    "\n",
    "df_ds['ds_sales'].plot(legend=True, grid=True, figsize=(8,4),title='Platform Sales')\n"
   ]
  },
  {
   "cell_type": "code",
   "execution_count": 37,
   "metadata": {
    "id": "YBLpN3gNQIzt"
   },
   "outputs": [],
   "source": [
    "df_ps2_2=year_second_query.query('platform==\"PS2\"')\n",
    "df_x360_2=year_second_query.query('platform==\"X360\"')\n",
    "df_ps3_2=year_second_query.query('platform==\"PS3\"')\n",
    "df_wii_2=year_second_query.query('platform==\"Wii\"')\n",
    "df_ds_2=year_second_query.query('platform==\"DS\"')"
   ]
  },
  {
   "cell_type": "code",
   "execution_count": 38,
   "metadata": {
    "colab": {
     "base_uri": "https://localhost:8080/"
    },
    "id": "YxPX5eNnU79q",
    "outputId": "04cfa4e7-497c-422e-f2df-c8398e980b44"
   },
   "outputs": [
    {
     "data": {
      "text/plain": [
       "10.0"
      ]
     },
     "metadata": {},
     "output_type": "display_data"
    }
   ],
   "source": [
    "#вычтем год появления первой игры на рынке и последней год когда продовались игры для этой приставки\n",
    "df_y_ps2=df_ps2_2['year_of_release'].max()-df_ps2_2['year_of_release'].min()\n",
    "df_y_x360=df_x360_2['year_of_release'].max()-df_x360_2['year_of_release'].min()\n",
    "df_y_wii=df_wii_2['year_of_release'].max()-df_wii_2['year_of_release'].min()\n",
    "df_y_ps3=df_ps3_2['year_of_release'].max()-df_ps3_2['year_of_release'].min()\n",
    "df_y_ds=df_ds_2['year_of_release'].max()-df_ds_2['year_of_release'].min()\n",
    "display((df_y_ps2+df_y_x360+df_y_wii+df_y_ps3+df_y_ds)/5)#так как у нас пять приставок\n"
   ]
  },
  {
   "cell_type": "markdown",
   "metadata": {
    "id": "sEn-bTQdiDiN"
   },
   "source": [
    "<big><b>Вывод по шагу 2.2</b></big>\n",
    "\n",
    "Видим, что средний срок жизни приставки занимает около 10 лет, а наиболее продоваемые приставки - PS2, XBox 360 и PS3.\n",
    "\n",
    "Теперь нам нужно определить актуальный период, по которому мы будем предсказывать как себя поведет рынок приставок в 2017. Для этого построим диаграмму по годам на основе сводной таблицы. Для нас главными показателями будут количество игр, которые выходят и какую прибыль они получают."
   ]
  },
  {
   "cell_type": "markdown",
   "metadata": {
    "id": "pz-QFsEcnwSC"
   },
   "source": [
    "<a class=\"anchor\" id=\"6-bullet\"></a>\n",
    "### Выбор актуального периода для прогноза "
   ]
  },
  {
   "cell_type": "markdown",
   "metadata": {},
   "source": [
    "Создадим сводную таблицу по количеству игр по годам и визуализируем ее"
   ]
  },
  {
   "cell_type": "code",
   "execution_count": 39,
   "metadata": {
    "id": "EK3x5-jvoaGe"
   },
   "outputs": [],
   "source": [
    "year_pivot_game=year_second_query.pivot_table(index ='year_of_release',\n",
    "                                              values='name',aggfunc=['count'])"
   ]
  },
  {
   "cell_type": "code",
   "execution_count": 40,
   "metadata": {
    "colab": {
     "base_uri": "https://localhost:8080/"
    },
    "id": "_GCkIzsaoaUU",
    "outputId": "12ccd57e-788b-4e59-b116-6a8d6a928091"
   },
   "outputs": [
    {
     "data": {
      "text/html": [
       "<div>\n",
       "<style scoped>\n",
       "    .dataframe tbody tr th:only-of-type {\n",
       "        vertical-align: middle;\n",
       "    }\n",
       "\n",
       "    .dataframe tbody tr th {\n",
       "        vertical-align: top;\n",
       "    }\n",
       "\n",
       "    .dataframe thead tr th {\n",
       "        text-align: left;\n",
       "    }\n",
       "\n",
       "    .dataframe thead tr:last-of-type th {\n",
       "        text-align: right;\n",
       "    }\n",
       "</style>\n",
       "<table border=\"1\" class=\"dataframe\">\n",
       "  <thead>\n",
       "    <tr>\n",
       "      <th></th>\n",
       "      <th>count</th>\n",
       "    </tr>\n",
       "    <tr>\n",
       "      <th></th>\n",
       "      <th>name</th>\n",
       "    </tr>\n",
       "    <tr>\n",
       "      <th>year_of_release</th>\n",
       "      <th></th>\n",
       "    </tr>\n",
       "  </thead>\n",
       "  <tbody>\n",
       "    <tr>\n",
       "      <th>2001</th>\n",
       "      <td>482</td>\n",
       "    </tr>\n",
       "    <tr>\n",
       "      <th>2002</th>\n",
       "      <td>829</td>\n",
       "    </tr>\n",
       "    <tr>\n",
       "      <th>2003</th>\n",
       "      <td>775</td>\n",
       "    </tr>\n",
       "    <tr>\n",
       "      <th>2004</th>\n",
       "      <td>762</td>\n",
       "    </tr>\n",
       "    <tr>\n",
       "      <th>2005</th>\n",
       "      <td>939</td>\n",
       "    </tr>\n",
       "    <tr>\n",
       "      <th>2006</th>\n",
       "      <td>1006</td>\n",
       "    </tr>\n",
       "    <tr>\n",
       "      <th>2007</th>\n",
       "      <td>1197</td>\n",
       "    </tr>\n",
       "    <tr>\n",
       "      <th>2008</th>\n",
       "      <td>1427</td>\n",
       "    </tr>\n",
       "    <tr>\n",
       "      <th>2009</th>\n",
       "      <td>1426</td>\n",
       "    </tr>\n",
       "    <tr>\n",
       "      <th>2010</th>\n",
       "      <td>1255</td>\n",
       "    </tr>\n",
       "    <tr>\n",
       "      <th>2011</th>\n",
       "      <td>1136</td>\n",
       "    </tr>\n",
       "    <tr>\n",
       "      <th>2012</th>\n",
       "      <td>653</td>\n",
       "    </tr>\n",
       "    <tr>\n",
       "      <th>2013</th>\n",
       "      <td>544</td>\n",
       "    </tr>\n",
       "    <tr>\n",
       "      <th>2014</th>\n",
       "      <td>581</td>\n",
       "    </tr>\n",
       "    <tr>\n",
       "      <th>2015</th>\n",
       "      <td>606</td>\n",
       "    </tr>\n",
       "    <tr>\n",
       "      <th>2016</th>\n",
       "      <td>502</td>\n",
       "    </tr>\n",
       "  </tbody>\n",
       "</table>\n",
       "</div>"
      ],
      "text/plain": [
       "                count\n",
       "                 name\n",
       "year_of_release      \n",
       "2001              482\n",
       "2002              829\n",
       "2003              775\n",
       "2004              762\n",
       "2005              939\n",
       "2006             1006\n",
       "2007             1197\n",
       "2008             1427\n",
       "2009             1426\n",
       "2010             1255\n",
       "2011             1136\n",
       "2012              653\n",
       "2013              544\n",
       "2014              581\n",
       "2015              606\n",
       "2016              502"
      ]
     },
     "metadata": {},
     "output_type": "display_data"
    }
   ],
   "source": [
    "display(year_pivot_game)"
   ]
  },
  {
   "cell_type": "code",
   "execution_count": 41,
   "metadata": {
    "colab": {
     "base_uri": "https://localhost:8080/"
    },
    "id": "yTi08JwOp3O8",
    "outputId": "b5e08465-cfff-4108-8d27-4173265797aa"
   },
   "outputs": [
    {
     "data": {
      "text/plain": [
       "<AxesSubplot:xlabel='year_of_release'>"
      ]
     },
     "execution_count": 41,
     "metadata": {},
     "output_type": "execute_result"
    },
    {
     "data": {
      "image/png": "[encoded data removed]",
      "text/plain": [
       "<Figure size 432x288 with 1 Axes>"
      ]
     },
     "metadata": {
      "needs_background": "light"
     },
     "output_type": "display_data"
    }
   ],
   "source": [
    "year_pivot_game.plot(kind='bar')"
   ]
  },
  {
   "cell_type": "markdown",
   "metadata": {
    "id": "4Sw9Aoump-YP"
   },
   "source": [
    "Исходя из графика, видим, что после 2011 года наблюдается резкое падение в количестве игр - то есть тренд 2017 года скорее всего лучше опишет временной промежуток 2012-2016 годов. Проверим также на объеме прибыли."
   ]
  },
  {
   "cell_type": "code",
   "execution_count": 42,
   "metadata": {
    "id": "srP9cHTatxYs"
   },
   "outputs": [],
   "source": [
    "year_second_query_income=year_second_query.pivot_table(index ='year_of_release',\n",
    "                                                       values='total_sales',aggfunc=['sum'])"
   ]
  },
  {
   "cell_type": "code",
   "execution_count": 43,
   "metadata": {
    "colab": {
     "base_uri": "https://localhost:8080/"
    },
    "id": "3tvIeCaxuCkX",
    "outputId": "6e0bd204-47a2-4ae8-c695-4c2c8192f7fa"
   },
   "outputs": [
    {
     "data": {
      "text/plain": [
       "<AxesSubplot:xlabel='year_of_release'>"
      ]
     },
     "execution_count": 43,
     "metadata": {},
     "output_type": "execute_result"
    },
    {
     "data": {
      "image/png": "[encoded data removed]",
      "text/plain": [
       "<Figure size 432x288 with 1 Axes>"
      ]
     },
     "metadata": {
      "needs_background": "light"
     },
     "output_type": "display_data"
    }
   ],
   "source": [
    "year_second_query_income.plot(kind='bar')"
   ]
  },
  {
   "cell_type": "markdown",
   "metadata": {
    "id": "xha7u5-juJhI"
   },
   "source": [
    "Также видим значительный спад после 2011 года. Мы можем утврерждать, что актуальный прогнозный период для 2017 года будет 2012-2016 год (по полю дата выхода игр). Создадим query на основе этого датафрейм и продолжим анализ в дальнейших пунктов нашего исследования"
   ]
  },
  {
   "cell_type": "code",
   "execution_count": 44,
   "metadata": {
    "id": "r-vHLCjlx_w8"
   },
   "outputs": [],
   "source": [
    "df_new=year_second_query.query('year_of_release >=2012')"
   ]
  },
  {
   "cell_type": "markdown",
   "metadata": {},
   "source": [
    "<big><b>Вывод по шагу 2.3</b></big>\n",
    "1. Актуальный период, который лучше предскажет 2017 год, будет 2012-2016 года"
   ]
  },
  {
   "cell_type": "markdown",
   "metadata": {
    "id": "fGu9DuM-0S6g"
   },
   "source": [
    "<a class=\"anchor\" id=\"7-bullet\"></a>\n",
    "### Анализ различных платформ. Выбор наиболее перспективных направлений"
   ]
  },
  {
   "cell_type": "markdown",
   "metadata": {
    "id": "zjM9bwne1ITG"
   },
   "source": [
    "В предыдущем шаге мы выделили года, на основе которых мы будем делать предсказания на 2017 год. После этого проанализируем продажи за эти года, выберем платформы которые растут, которые падают и где мы видим перспективы. Для этого построим сводную и с помощью matplotlib визуализируем все данные."
   ]
  },
  {
   "cell_type": "code",
   "execution_count": 45,
   "metadata": {
    "id": "yLLVe9G01Hmv"
   },
   "outputs": [],
   "source": [
    "df_new_pivot=df_new.pivot_table(index='year_of_release',columns='platform',values='total_sales',aggfunc='sum')"
   ]
  },
  {
   "cell_type": "code",
   "execution_count": 46,
   "metadata": {
    "colab": {
     "base_uri": "https://localhost:8080/"
    },
    "id": "zfLibCQp49n1",
    "outputId": "b2b46702-b37c-454d-bda5-c01ebd6fb8f9"
   },
   "outputs": [
    {
     "data": {
      "text/html": [
       "<div>\n",
       "<style scoped>\n",
       "    .dataframe tbody tr th:only-of-type {\n",
       "        vertical-align: middle;\n",
       "    }\n",
       "\n",
       "    .dataframe tbody tr th {\n",
       "        vertical-align: top;\n",
       "    }\n",
       "\n",
       "    .dataframe thead th {\n",
       "        text-align: right;\n",
       "    }\n",
       "</style>\n",
       "<table border=\"1\" class=\"dataframe\">\n",
       "  <thead>\n",
       "    <tr style=\"text-align: right;\">\n",
       "      <th>platform</th>\n",
       "      <th>3DS</th>\n",
       "      <th>DS</th>\n",
       "      <th>PC</th>\n",
       "      <th>PS3</th>\n",
       "      <th>PS4</th>\n",
       "      <th>PSP</th>\n",
       "      <th>PSV</th>\n",
       "      <th>Wii</th>\n",
       "      <th>WiiU</th>\n",
       "      <th>X360</th>\n",
       "      <th>XOne</th>\n",
       "    </tr>\n",
       "    <tr>\n",
       "      <th>year_of_release</th>\n",
       "      <th></th>\n",
       "      <th></th>\n",
       "      <th></th>\n",
       "      <th></th>\n",
       "      <th></th>\n",
       "      <th></th>\n",
       "      <th></th>\n",
       "      <th></th>\n",
       "      <th></th>\n",
       "      <th></th>\n",
       "      <th></th>\n",
       "    </tr>\n",
       "  </thead>\n",
       "  <tbody>\n",
       "    <tr>\n",
       "      <th>2012</th>\n",
       "      <td>51.36</td>\n",
       "      <td>11.01</td>\n",
       "      <td>23.22</td>\n",
       "      <td>107.36</td>\n",
       "      <td>NaN</td>\n",
       "      <td>7.69</td>\n",
       "      <td>16.19</td>\n",
       "      <td>21.71</td>\n",
       "      <td>17.56</td>\n",
       "      <td>99.74</td>\n",
       "      <td>NaN</td>\n",
       "    </tr>\n",
       "    <tr>\n",
       "      <th>2013</th>\n",
       "      <td>56.57</td>\n",
       "      <td>1.54</td>\n",
       "      <td>12.38</td>\n",
       "      <td>113.25</td>\n",
       "      <td>25.99</td>\n",
       "      <td>3.14</td>\n",
       "      <td>10.59</td>\n",
       "      <td>8.59</td>\n",
       "      <td>21.65</td>\n",
       "      <td>88.58</td>\n",
       "      <td>18.96</td>\n",
       "    </tr>\n",
       "    <tr>\n",
       "      <th>2014</th>\n",
       "      <td>43.76</td>\n",
       "      <td>NaN</td>\n",
       "      <td>13.28</td>\n",
       "      <td>47.76</td>\n",
       "      <td>100.00</td>\n",
       "      <td>0.24</td>\n",
       "      <td>11.90</td>\n",
       "      <td>3.75</td>\n",
       "      <td>22.03</td>\n",
       "      <td>34.74</td>\n",
       "      <td>54.07</td>\n",
       "    </tr>\n",
       "    <tr>\n",
       "      <th>2015</th>\n",
       "      <td>27.78</td>\n",
       "      <td>NaN</td>\n",
       "      <td>8.52</td>\n",
       "      <td>16.82</td>\n",
       "      <td>118.90</td>\n",
       "      <td>0.12</td>\n",
       "      <td>6.25</td>\n",
       "      <td>1.14</td>\n",
       "      <td>16.35</td>\n",
       "      <td>11.96</td>\n",
       "      <td>60.14</td>\n",
       "    </tr>\n",
       "    <tr>\n",
       "      <th>2016</th>\n",
       "      <td>15.14</td>\n",
       "      <td>NaN</td>\n",
       "      <td>5.25</td>\n",
       "      <td>3.60</td>\n",
       "      <td>69.25</td>\n",
       "      <td>NaN</td>\n",
       "      <td>4.25</td>\n",
       "      <td>0.18</td>\n",
       "      <td>4.60</td>\n",
       "      <td>1.52</td>\n",
       "      <td>26.15</td>\n",
       "    </tr>\n",
       "  </tbody>\n",
       "</table>\n",
       "</div>"
      ],
      "text/plain": [
       "platform           3DS     DS     PC     PS3     PS4   PSP    PSV    Wii  \\\n",
       "year_of_release                                                            \n",
       "2012             51.36  11.01  23.22  107.36     NaN  7.69  16.19  21.71   \n",
       "2013             56.57   1.54  12.38  113.25   25.99  3.14  10.59   8.59   \n",
       "2014             43.76    NaN  13.28   47.76  100.00  0.24  11.90   3.75   \n",
       "2015             27.78    NaN   8.52   16.82  118.90  0.12   6.25   1.14   \n",
       "2016             15.14    NaN   5.25    3.60   69.25   NaN   4.25   0.18   \n",
       "\n",
       "platform          WiiU   X360   XOne  \n",
       "year_of_release                       \n",
       "2012             17.56  99.74    NaN  \n",
       "2013             21.65  88.58  18.96  \n",
       "2014             22.03  34.74  54.07  \n",
       "2015             16.35  11.96  60.14  \n",
       "2016              4.60   1.52  26.15  "
      ]
     },
     "metadata": {},
     "output_type": "display_data"
    }
   ],
   "source": [
    "display(df_new_pivot)"
   ]
  },
  {
   "cell_type": "code",
   "execution_count": 47,
   "metadata": {
    "colab": {
     "base_uri": "https://localhost:8080/"
    },
    "id": "6AcCt34AuIsa",
    "outputId": "10da9e04-41a7-4b36-84c4-de3a3d0ad0c2"
   },
   "outputs": [
    {
     "data": {
      "text/plain": [
       "<matplotlib.legend.Legend at 0x7f0a9b81bb50>"
      ]
     },
     "execution_count": 47,
     "metadata": {},
     "output_type": "execute_result"
    },
    {
     "data": {
      "image/png": "[encoded data removed]",
      "text/plain": [
       "<Figure size 720x576 with 1 Axes>"
      ]
     },
     "metadata": {
      "needs_background": "light"
     },
     "output_type": "display_data"
    }
   ],
   "source": [
    "import matplotlib.pyplot as plt\n",
    "df_new_pivot.plot(grid=True, figsize=(10,8), legend='left')\n",
    "plt.legend(loc='upper left')"
   ]
  },
  {
   "cell_type": "markdown",
   "metadata": {
    "id": "VzNUnzdS6LZL"
   },
   "source": [
    "<big><b>Вывод по шагу 2.4</b></big>\n",
    "\n",
    "Из графика и таблицы мы можем сделать следующий вывод, что\n",
    "- Платформы Nintendo DS и PSP уж выведены с рынка \n",
    "- Платформы Xbox 360 и Nintendo Wii уходят с рынка\n",
    "- Лидеры по продажам - 3DS (15 млн. копий игр), PS4(69.25 млн. копий игр) и XBox One (26.15 млн копий игр)\n",
    "\n",
    "Зная, что средний срок продолжительности жизни приставки составляет около 10 лет, мы можем сказать, что будущее за такими приставками, которые были запущены в 2013 году - PS4 и XBox One. \n",
    "\n",
    "Также стоит отметить две закономерности:\n",
    "- Общий тренд по приставкам падающий - скорее всего повлияли какие-то дополнительные факторы, такие как экономический кризис, переключение людей на мобильные игры или рост пиратства\n",
    "- Нам также необходимо выделить те платформы, где тренд падения был минимальным (разница между 2015 и 2016 годом). В результате осмотрая таблицы df_new_pivot, мы можем выделить две такие платформы - PC (падение на 38%) и PSV (падение на 32%). При этом, зная что в целом пользователи все больше переключается для портативных игр на мобильные телефоны, мы также выделим PC как более популярную платформу и более распостраненую - большинство игр в той или иной мере также будут выпускаться на PC, в виду ее универсальности"
   ]
  },
  {
   "cell_type": "markdown",
   "metadata": {
    "id": "MSbuOkX-y3Hb"
   },
   "source": [
    "<a class=\"anchor\" id=\"8-bullet\"></a>\n",
    "### Анализ распределения наиболее прибыльных платформ (с помощью boxplot)"
   ]
  },
  {
   "cell_type": "markdown",
   "metadata": {
    "id": "IXCE4DVDFgvZ"
   },
   "source": [
    "Для начала, создадим query в котором будут включены только те платформы, которые мы выделили в предыдущем шаге:\n",
    "- PS4\n",
    "- Xbox One\n",
    "- 3DS\n",
    "- PC\n",
    "- PSV"
   ]
  },
  {
   "cell_type": "code",
   "execution_count": 48,
   "metadata": {
    "id": "opXIeZsJMWLy"
   },
   "outputs": [],
   "source": [
    "df_new_1=df_new.query('platform==\"PS4\" | platform==\"PC\"| platform==\"3DS\"|platform==\"PSV\"|platform==\"XOne\"')"
   ]
  },
  {
   "cell_type": "markdown",
   "metadata": {},
   "source": [
    "Так как мы знаем что продажи игр могут варьировать от жанра к жанру, проверим, какие жанры наиболее продаваемые и сделаем по ним query, а потом построим boxplot по медианным значениям продаж этих 4 платформ"
   ]
  },
  {
   "cell_type": "code",
   "execution_count": 49,
   "metadata": {},
   "outputs": [],
   "source": [
    "df_genre_sales=df_new_1.pivot_table(index='genre',\n",
    "                                   values='total_sales',aggfunc=['sum','count'])"
   ]
  },
  {
   "cell_type": "code",
   "execution_count": 50,
   "metadata": {},
   "outputs": [
    {
     "data": {
      "text/html": [
       "<div>\n",
       "<style scoped>\n",
       "    .dataframe tbody tr th:only-of-type {\n",
       "        vertical-align: middle;\n",
       "    }\n",
       "\n",
       "    .dataframe tbody tr th {\n",
       "        vertical-align: top;\n",
       "    }\n",
       "\n",
       "    .dataframe thead th {\n",
       "        text-align: right;\n",
       "    }\n",
       "</style>\n",
       "<table border=\"1\" class=\"dataframe\">\n",
       "  <thead>\n",
       "    <tr style=\"text-align: right;\">\n",
       "      <th></th>\n",
       "      <th>sum</th>\n",
       "      <th>count</th>\n",
       "    </tr>\n",
       "    <tr>\n",
       "      <th>genre</th>\n",
       "      <th></th>\n",
       "      <th></th>\n",
       "    </tr>\n",
       "  </thead>\n",
       "  <tbody>\n",
       "    <tr>\n",
       "      <th>Action</th>\n",
       "      <td>208.37</td>\n",
       "      <td>596</td>\n",
       "    </tr>\n",
       "    <tr>\n",
       "      <th>Shooter</th>\n",
       "      <td>165.63</td>\n",
       "      <td>126</td>\n",
       "    </tr>\n",
       "    <tr>\n",
       "      <th>Role-Playing</th>\n",
       "      <td>144.54</td>\n",
       "      <td>255</td>\n",
       "    </tr>\n",
       "    <tr>\n",
       "      <th>Sports</th>\n",
       "      <td>93.05</td>\n",
       "      <td>134</td>\n",
       "    </tr>\n",
       "    <tr>\n",
       "      <th>Simulation</th>\n",
       "      <td>31.12</td>\n",
       "      <td>56</td>\n",
       "    </tr>\n",
       "    <tr>\n",
       "      <th>Platform</th>\n",
       "      <td>30.13</td>\n",
       "      <td>47</td>\n",
       "    </tr>\n",
       "    <tr>\n",
       "      <th>Misc</th>\n",
       "      <td>30.12</td>\n",
       "      <td>107</td>\n",
       "    </tr>\n",
       "    <tr>\n",
       "      <th>Racing</th>\n",
       "      <td>25.65</td>\n",
       "      <td>69</td>\n",
       "    </tr>\n",
       "    <tr>\n",
       "      <th>Fighting</th>\n",
       "      <td>21.89</td>\n",
       "      <td>51</td>\n",
       "    </tr>\n",
       "    <tr>\n",
       "      <th>Adventure</th>\n",
       "      <td>17.98</td>\n",
       "      <td>184</td>\n",
       "    </tr>\n",
       "    <tr>\n",
       "      <th>Strategy</th>\n",
       "      <td>8.65</td>\n",
       "      <td>53</td>\n",
       "    </tr>\n",
       "    <tr>\n",
       "      <th>Puzzle</th>\n",
       "      <td>2.77</td>\n",
       "      <td>18</td>\n",
       "    </tr>\n",
       "  </tbody>\n",
       "</table>\n",
       "</div>"
      ],
      "text/plain": [
       "                 sum  count\n",
       "genre                      \n",
       "Action        208.37    596\n",
       "Shooter       165.63    126\n",
       "Role-Playing  144.54    255\n",
       "Sports         93.05    134\n",
       "Simulation     31.12     56\n",
       "Platform       30.13     47\n",
       "Misc           30.12    107\n",
       "Racing         25.65     69\n",
       "Fighting       21.89     51\n",
       "Adventure      17.98    184\n",
       "Strategy        8.65     53\n",
       "Puzzle          2.77     18"
      ]
     },
     "execution_count": 50,
     "metadata": {},
     "output_type": "execute_result"
    }
   ],
   "source": [
    "df_genre_sales.columns=('sum','count')\n",
    "df_genre_sales.sort_values(by='sum',ascending=False)"
   ]
  },
  {
   "cell_type": "markdown",
   "metadata": {},
   "source": [
    "Видим, что наиболее продаваемые жанры для всех платформ: <b>Action,Shooter и Role-Playing</b>. Создадим query только для этих жанров."
   ]
  },
  {
   "cell_type": "code",
   "execution_count": 51,
   "metadata": {},
   "outputs": [],
   "source": [
    "#выделим только топ-3 игр\n",
    "df_new_2=df_new_1.query('genre==\"Action\" | genre==\"Shooter\"| genre==\"Role-Playing\"')"
   ]
  },
  {
   "cell_type": "markdown",
   "metadata": {
    "id": "XgPk6J0x2AsI"
   },
   "source": [
    "Сделаем  pivot по платформам, где посчитаем средние значения продаж этих жанров и поставим boxplot на его основе"
   ]
  },
  {
   "cell_type": "code",
   "execution_count": 52,
   "metadata": {
    "id": "yj-ez_g8ReOJ"
   },
   "outputs": [],
   "source": [
    "df_new_pivot_top5=df_new_2.pivot_table(index='year_of_release',columns='platform',\n",
    "                                       values='total_sales',aggfunc='mean')"
   ]
  },
  {
   "cell_type": "code",
   "execution_count": 53,
   "metadata": {
    "colab": {
     "base_uri": "https://localhost:8080/"
    },
    "id": "ciqnyy4pSADv",
    "outputId": "e2777b42-36d9-47f8-baf6-ad1832bf2f9b"
   },
   "outputs": [
    {
     "data": {
      "text/html": [
       "<div>\n",
       "<style scoped>\n",
       "    .dataframe tbody tr th:only-of-type {\n",
       "        vertical-align: middle;\n",
       "    }\n",
       "\n",
       "    .dataframe tbody tr th {\n",
       "        vertical-align: top;\n",
       "    }\n",
       "\n",
       "    .dataframe thead th {\n",
       "        text-align: right;\n",
       "    }\n",
       "</style>\n",
       "<table border=\"1\" class=\"dataframe\">\n",
       "  <thead>\n",
       "    <tr style=\"text-align: right;\">\n",
       "      <th>platform</th>\n",
       "      <th>3DS</th>\n",
       "      <th>PC</th>\n",
       "      <th>PS4</th>\n",
       "      <th>PSV</th>\n",
       "      <th>XOne</th>\n",
       "    </tr>\n",
       "    <tr>\n",
       "      <th>year_of_release</th>\n",
       "      <th></th>\n",
       "      <th></th>\n",
       "      <th></th>\n",
       "      <th></th>\n",
       "      <th></th>\n",
       "    </tr>\n",
       "  </thead>\n",
       "  <tbody>\n",
       "    <tr>\n",
       "      <th>2012</th>\n",
       "      <td>0.404310</td>\n",
       "      <td>0.561471</td>\n",
       "      <td>NaN</td>\n",
       "      <td>0.333214</td>\n",
       "      <td>NaN</td>\n",
       "    </tr>\n",
       "    <tr>\n",
       "      <th>2013</th>\n",
       "      <td>0.772353</td>\n",
       "      <td>0.271364</td>\n",
       "      <td>2.916000</td>\n",
       "      <td>0.211176</td>\n",
       "      <td>1.865000</td>\n",
       "    </tr>\n",
       "    <tr>\n",
       "      <th>2014</th>\n",
       "      <td>0.632444</td>\n",
       "      <td>0.216765</td>\n",
       "      <td>1.529348</td>\n",
       "      <td>0.135957</td>\n",
       "      <td>1.138235</td>\n",
       "    </tr>\n",
       "    <tr>\n",
       "      <th>2015</th>\n",
       "      <td>0.372407</td>\n",
       "      <td>0.239167</td>\n",
       "      <td>0.951136</td>\n",
       "      <td>0.064054</td>\n",
       "      <td>0.908667</td>\n",
       "    </tr>\n",
       "    <tr>\n",
       "      <th>2016</th>\n",
       "      <td>0.465862</td>\n",
       "      <td>0.144500</td>\n",
       "      <td>0.464124</td>\n",
       "      <td>0.061600</td>\n",
       "      <td>0.334808</td>\n",
       "    </tr>\n",
       "  </tbody>\n",
       "</table>\n",
       "</div>"
      ],
      "text/plain": [
       "platform              3DS        PC       PS4       PSV      XOne\n",
       "year_of_release                                                  \n",
       "2012             0.404310  0.561471       NaN  0.333214       NaN\n",
       "2013             0.772353  0.271364  2.916000  0.211176  1.865000\n",
       "2014             0.632444  0.216765  1.529348  0.135957  1.138235\n",
       "2015             0.372407  0.239167  0.951136  0.064054  0.908667\n",
       "2016             0.465862  0.144500  0.464124  0.061600  0.334808"
      ]
     },
     "execution_count": 53,
     "metadata": {},
     "output_type": "execute_result"
    }
   ],
   "source": [
    "df_new_pivot_top5"
   ]
  },
  {
   "cell_type": "code",
   "execution_count": 54,
   "metadata": {
    "colab": {
     "base_uri": "https://localhost:8080/"
    },
    "id": "m8voCDEoOlkT",
    "outputId": "3b41410d-7c53-4004-efcb-b0a540390ddb"
   },
   "outputs": [
    {
     "data": {
      "text/plain": [
       "<AxesSubplot:>"
      ]
     },
     "execution_count": 54,
     "metadata": {},
     "output_type": "execute_result"
    },
    {
     "data": {
      "image/png": "[encoded data removed]",
      "text/plain": [
       "<Figure size 432x288 with 1 Axes>"
      ]
     },
     "metadata": {
      "needs_background": "light"
     },
     "output_type": "display_data"
    }
   ],
   "source": [
    "df_new_pivot_top5.boxplot()"
   ]
  },
  {
   "cell_type": "markdown",
   "metadata": {
    "id": "LT2kW4OzVNq1"
   },
   "source": [
    "<big><b>Вывод по шагу 2.5</b></big>\n",
    "\n",
    "Из полученного графика, мы можем сделать седующие выводы\n",
    "- Наибольшее количество проданных игр - PS4. Здесь также наблдюдается наибольший размах выборка - самые длинные \"усы\" и медиана почти на середине ящика\n",
    "- Следом идет XBox One - размах также большой и среднее значение продаж стремится к вверхней границы ящика - в среднем игры наиболее популярных жанров продаются на данной приставке в количество 1 млн копий\n",
    "- Третий по продажам - Nintendo 3DS - усы очень короткие, а медиана около 0.5 млн копий - видим что платформа \"наиболее стабильная\" - большинство игр будут проданы тиражом около медианного\n",
    "- Четвертый по продажам - PC- в среднем около 0.25 млн игр с выброосом в райоге 0.5 мон копий - какой то год был очень хорошим для PC. Самый узкий ящик - минимальный разброс по продажам. Очень стабильная платформа\n",
    "- Пятый по продажам - PSV - тираж продоваемых игр очень маленький, возможно это связано с относительной непопулярности платформы\n"
   ]
  },
  {
   "cell_type": "markdown",
   "metadata": {
    "id": "jky_bT-idJYD"
   },
   "source": [
    "Теперь посчитаем влияние оценки критиков и зрителей на продажу игр по каждой платформе"
   ]
  },
  {
   "cell_type": "markdown",
   "metadata": {
    "id": "f6Us8Q5jdzrL"
   },
   "source": [
    "<a class=\"anchor\" id=\"9-bullet\"></a>\n",
    "### Влияние оценки критиков и пользователей на прибыль в разрезе различных приставок"
   ]
  },
  {
   "cell_type": "markdown",
   "metadata": {
    "id": "AjRfk9fhg-4u"
   },
   "source": [
    "Для начала создадим отдельный датафрейм для каждой из приставок и построим графики и посчитаем корреляции. Начнем с самой \"продоваемой\" приставки PS4. \n",
    "\n",
    "Для каждого датафрейма мы отберем значения без NAN - сначала для critic_score, потом для user_score"
   ]
  },
  {
   "cell_type": "code",
   "execution_count": 55,
   "metadata": {
    "id": "m42P_MYlgQzA"
   },
   "outputs": [],
   "source": [
    "df_new_ps4_cr=df_new_1.query('platform==\"PS4\" & critic_score.notna()')"
   ]
  },
  {
   "cell_type": "code",
   "execution_count": 56,
   "metadata": {
    "colab": {
     "base_uri": "https://localhost:8080/"
    },
    "id": "zdebDV7Tdxxb",
    "outputId": "33ee4556-e8a3-4f70-8cfd-ad118b2966d7"
   },
   "outputs": [
    {
     "data": {
      "text/plain": [
       "<AxesSubplot:xlabel='critic_score', ylabel='total_sales'>"
      ]
     },
     "execution_count": 56,
     "metadata": {},
     "output_type": "execute_result"
    },
    {
     "data": {
      "image/png": "[encoded data removed]",
      "text/plain": [
       "<Figure size 720x720 with 1 Axes>"
      ]
     },
     "metadata": {
      "needs_background": "light"
     },
     "output_type": "display_data"
    }
   ],
   "source": [
    "df_new_ps4_cr.plot(y='total_sales', x='critic_score', kind='scatter',figsize=(10,10),alpha=0.3)"
   ]
  },
  {
   "cell_type": "code",
   "execution_count": 57,
   "metadata": {
    "colab": {
     "base_uri": "https://localhost:8080/"
    },
    "id": "MovUcUGqigD3",
    "outputId": "2270558f-9e66-4493-f8fa-4dbe5684aa06"
   },
   "outputs": [
    {
     "data": {
      "text/plain": [
       "'Корреляция, pvalue для PS4 при оценки критиков равны'"
      ]
     },
     "metadata": {},
     "output_type": "display_data"
    },
    {
     "data": {
      "text/plain": [
       "(0.40656790206178134, 1.8904356953147432e-11)"
      ]
     },
     "metadata": {},
     "output_type": "display_data"
    }
   ],
   "source": [
    "import scipy.stats\n",
    "corr_cr_ps4=scipy.stats.pearsonr(df_new_ps4_cr['total_sales'],df_new_ps4_cr['critic_score'])\n",
    "display('Корреляция, pvalue для PS4 при оценки критиков равны',corr_cr_ps4)"
   ]
  },
  {
   "cell_type": "markdown",
   "metadata": {},
   "source": [
    "Создадим датафрем для user_score без nan"
   ]
  },
  {
   "cell_type": "code",
   "execution_count": 58,
   "metadata": {},
   "outputs": [],
   "source": [
    "df_new_ps4_us=df_new_1.query('platform==\"PS4\" & user_score.notna()')"
   ]
  },
  {
   "cell_type": "code",
   "execution_count": 59,
   "metadata": {
    "colab": {
     "base_uri": "https://localhost:8080/"
    },
    "id": "vhqKa9H_i-DD",
    "outputId": "0fef6147-ed85-4f78-d7e4-d25be84a762f"
   },
   "outputs": [
    {
     "data": {
      "text/plain": [
       "<AxesSubplot:xlabel='user_score', ylabel='total_sales'>"
      ]
     },
     "execution_count": 59,
     "metadata": {},
     "output_type": "execute_result"
    },
    {
     "data": {
      "image/png": "[encoded data removed]",
      "text/plain": [
       "<Figure size 720x720 with 1 Axes>"
      ]
     },
     "metadata": {
      "needs_background": "light"
     },
     "output_type": "display_data"
    }
   ],
   "source": [
    "df_new_ps4_us.plot(y='total_sales', x='user_score', kind='scatter',figsize=(10,10),alpha=0.3)"
   ]
  },
  {
   "cell_type": "code",
   "execution_count": 60,
   "metadata": {
    "colab": {
     "base_uri": "https://localhost:8080/"
    },
    "id": "HD-OR8qYi-U7",
    "outputId": "54c2d97e-f29d-47a2-abd5-5f76e4d43e11"
   },
   "outputs": [
    {
     "data": {
      "text/plain": [
       "'Корреляция, pvalue для PS4 при оценки пользователей равны'"
      ]
     },
     "metadata": {},
     "output_type": "display_data"
    },
    {
     "data": {
      "text/plain": [
       "(-0.03195711020455645, 0.6100904551682473)"
      ]
     },
     "metadata": {},
     "output_type": "display_data"
    }
   ],
   "source": [
    "import scipy.stats\n",
    "corr_us_ps4=scipy.stats.pearsonr(df_new_ps4_us['total_sales'],df_new_ps4_us['user_score'])\n",
    "display('Корреляция, pvalue для PS4 при оценки пользователей равны',corr_us_ps4)"
   ]
  },
  {
   "cell_type": "markdown",
   "metadata": {
    "id": "Mjy2Ml_IkmPH"
   },
   "source": [
    "Мы можем сказать, что если мы рассматриваем PS4 в разрезе влияние на продажу игр оценок критиков, то корреляция среднееслабая, но значимая на уровне p-value, тогда как оценки пользователей на продажи игр особо не влияют.\n",
    "Стоит также заметить, что мы заполняли медианным значением по каждой категории игр и возможно некоторые искажение в расчетах.\n",
    "\n",
    "Теперь посчитаем корреляции для других приставок и напишем общий вывод."
   ]
  },
  {
   "cell_type": "code",
   "execution_count": 61,
   "metadata": {
    "colab": {
     "base_uri": "https://localhost:8080/"
    },
    "id": "z46JXkB5pzsD",
    "outputId": "6f56bb30-d0d9-464d-905f-0328df84cd09"
   },
   "outputs": [
    {
     "data": {
      "text/plain": [
       "'Корреляция, pvalue для XOne при оценки критиков равны'"
      ]
     },
     "metadata": {},
     "output_type": "display_data"
    },
    {
     "data": {
      "text/plain": [
       "(0.41699832800840153, 1.7025751033348448e-08)"
      ]
     },
     "metadata": {},
     "output_type": "display_data"
    }
   ],
   "source": [
    "df_new_xone_сr=df_new_1.query('platform==\"XOne\" & critic_score.notna()') #выделим XOne из DF\n",
    "corr_cr_xone=scipy.stats.pearsonr(df_new_xone_сr['total_sales'],df_new_xone_сr['critic_score'])\n",
    "display('Корреляция, pvalue для XOne при оценки критиков равны',corr_cr_xone)"
   ]
  },
  {
   "cell_type": "code",
   "execution_count": 62,
   "metadata": {},
   "outputs": [
    {
     "data": {
      "text/plain": [
       "'Корреляция, pvalue для XOne при оценки пользователей равны'"
      ]
     },
     "metadata": {},
     "output_type": "display_data"
    },
    {
     "data": {
      "text/plain": [
       "(-0.06892505328279416, 0.35520353563545315)"
      ]
     },
     "metadata": {},
     "output_type": "display_data"
    }
   ],
   "source": [
    "df_new_xone_us=df_new_1.query('platform==\"XOne\" & user_score.notna()')\n",
    "corr_us_xone=scipy.stats.pearsonr(df_new_xone_us['total_sales'],df_new_xone_us['user_score'])\n",
    "display('Корреляция, pvalue для XOne при оценки пользователей равны',corr_us_xone)"
   ]
  },
  {
   "cell_type": "code",
   "execution_count": 63,
   "metadata": {},
   "outputs": [
    {
     "data": {
      "text/plain": [
       "'Корреляция, pvalue для 3DS при оценки критиков равны'"
      ]
     },
     "metadata": {},
     "output_type": "display_data"
    },
    {
     "data": {
      "text/plain": [
       "(0.3208028695360786, 0.0008994272044679872)"
      ]
     },
     "metadata": {},
     "output_type": "display_data"
    }
   ],
   "source": [
    "df_new_3ds_cr=df_new_1.query('platform==\"3DS\"& critic_score.notna()')#выделим 3DS и оценку критиков из DF\n",
    "corr_cr_3ds=scipy.stats.pearsonr(df_new_3ds_cr['total_sales'],df_new_3ds_cr['critic_score'])\n",
    "display('Корреляция, pvalue для 3DS при оценки критиков равны',corr_cr_3ds)"
   ]
  },
  {
   "cell_type": "code",
   "execution_count": 64,
   "metadata": {
    "colab": {
     "base_uri": "https://localhost:8080/"
    },
    "id": "kJd9W3fJqZTe",
    "outputId": "358501e6-fe16-47ed-c67c-6a26333871db"
   },
   "outputs": [
    {
     "data": {
      "text/plain": [
       "'Корреляция, pvalue для 3DS при оценки пользователей равны'"
      ]
     },
     "metadata": {},
     "output_type": "display_data"
    },
    {
     "data": {
      "text/plain": [
       "(0.197582634110386, 0.0351023229813682)"
      ]
     },
     "metadata": {},
     "output_type": "display_data"
    }
   ],
   "source": [
    "df_new_3ds_us=df_new_1.query('platform==\"3DS\" & user_score.notna()')#выделим 3DS и оценку юзеров из DF\n",
    "corr_us_3ds=scipy.stats.pearsonr(df_new_3ds_us['total_sales'],df_new_3ds_us['user_score'])\n",
    "display('Корреляция, pvalue для 3DS при оценки пользователей равны',corr_us_3ds)"
   ]
  },
  {
   "cell_type": "code",
   "execution_count": 65,
   "metadata": {},
   "outputs": [
    {
     "data": {
      "text/plain": [
       "'Корреляция, pvalue для PSV при оценки критиков равны'"
      ]
     },
     "metadata": {},
     "output_type": "display_data"
    },
    {
     "data": {
      "text/plain": [
       "(0.09448789929316175, 0.3330051750326069)"
      ]
     },
     "metadata": {},
     "output_type": "display_data"
    }
   ],
   "source": [
    "df_new_psv_cr=df_new_1.query('platform==\"PSV\"& critic_score.notna()')#выделим XOne из DF\n",
    "corr_cr_psv=scipy.stats.pearsonr(df_new_psv_cr['total_sales'],df_new_psv_cr['critic_score'])\n",
    "display('Корреляция, pvalue для PSV при оценки критиков равны',corr_cr_psv)"
   ]
  },
  {
   "cell_type": "code",
   "execution_count": 66,
   "metadata": {
    "colab": {
     "base_uri": "https://localhost:8080/"
    },
    "id": "lw8gqDjjrEej",
    "outputId": "5527e2c0-0b20-4f5d-9d97-5f9631e23e00"
   },
   "outputs": [
    {
     "data": {
      "text/plain": [
       "'Корреляция, pvalue для PSV при оценки пользователей равны'"
      ]
     },
     "metadata": {},
     "output_type": "display_data"
    },
    {
     "data": {
      "text/plain": [
       "(-0.004339437514314883, 0.9609196405811565)"
      ]
     },
     "metadata": {},
     "output_type": "display_data"
    }
   ],
   "source": [
    "df_new_psv_us=df_new_1.query('platform==\"PSV\" & user_score.notna()')\n",
    "corr_us_psv=scipy.stats.pearsonr(df_new_psv_us['total_sales'],df_new_psv_us['user_score'])\n",
    "display('Корреляция, pvalue для PSV при оценки пользователей равны',corr_us_psv)"
   ]
  },
  {
   "cell_type": "code",
   "execution_count": 67,
   "metadata": {},
   "outputs": [
    {
     "data": {
      "text/plain": [
       "'Корреляция, pvalue для PC при оценки критиков равны'"
      ]
     },
     "metadata": {},
     "output_type": "display_data"
    },
    {
     "data": {
      "text/plain": [
       "(0.23724324311567907, 0.0007644719010136588)"
      ]
     },
     "metadata": {},
     "output_type": "display_data"
    }
   ],
   "source": [
    "df_new_pc_cr=df_new_1.query('platform==\"PC\"& critic_score.notna()')\n",
    "corr_cr_pс=scipy.stats.pearsonr(df_new_pc_cr['total_sales'],df_new_pc_cr['critic_score'])\n",
    "display('Корреляция, pvalue для PC при оценки критиков равны',corr_cr_pс)"
   ]
  },
  {
   "cell_type": "code",
   "execution_count": 68,
   "metadata": {
    "colab": {
     "base_uri": "https://localhost:8080/"
    },
    "id": "TRZ2MsBTzTzW",
    "outputId": "617b50a3-3010-461a-abd4-015584109de3"
   },
   "outputs": [
    {
     "data": {
      "text/plain": [
       "'Корреляция, pvalue для PC при оценки пользователей равны'"
      ]
     },
     "metadata": {},
     "output_type": "display_data"
    },
    {
     "data": {
      "text/plain": [
       "(-0.12186747630735577, 0.08098592997042138)"
      ]
     },
     "metadata": {},
     "output_type": "display_data"
    }
   ],
   "source": [
    "df_new_pc_us=df_new_1.query('platform==\"PC\"& user_score.notna()')\n",
    "corr_us_pc=scipy.stats.pearsonr(df_new_pc_us['total_sales'],df_new_pc_us['user_score'])\n",
    "display('Корреляция, pvalue для PC при оценки пользователей равны',corr_us_pc)\n"
   ]
  },
  {
   "cell_type": "markdown",
   "metadata": {
    "id": "0RTJ5M894t5T"
   },
   "source": [
    "<big><b>Выводы по шагу 2.6:</b></big>\n",
    "- Мы видим, что отзывы критиков влияют на продажу почти всех игр (p-value <0.05), но наибольшее влияние они оказывают на продажи PS4 и XOne - подозреваю, что игры с более высокой оценкой критиков вызывают желание их купить и создают ажиотаж на форумах и в прессе. Но сила корреляции средняя, поэтому можем утвреждать, что такое влияние лишь отчасти правдиво. Также среднеслабая корреляция существует на PC и 3DS. А вот влияние оценок на попупку игр для PSV отсуствует.\n",
    "- А вот влияние оценок пользователя на покупку игр на той или иной платформе почти отсувует - на пользователей PS4,XBox One, PSV и PC отзвы других пользователей оказывают ровном счетом никакое вляиние. Исключение составляет Nintendo 3DS - там слабая и положительная  корреляция(чем выше оценка, тем больше ее покупают).\n",
    "- Таким образом, мы можем сказать, что потребители скорее прислушиваются к мнению критиков при покупке игр, чем к мнению других пользователей. Особенно это заметно в PS4 и ХOne, а положительная оценка пользователей может повлиять лишь на пользователей Nintendo 3DS \n",
    "\n",
    "\n",
    "Теперь мы рассмотрим какие жанры наиболее популярные и какие можно выделить жанры с высокими и низкими продажами, а также посмотрим лидеров по платформам"
   ]
  },
  {
   "cell_type": "markdown",
   "metadata": {
    "id": "37iP9BKpA0Kl"
   },
   "source": [
    "<a class=\"anchor\" id=\"10-bullet\"></a>\n",
    "### Анализ продаж по жанрам"
   ]
  },
  {
   "cell_type": "markdown",
   "metadata": {
    "id": "dt18kn77A4Ix"
   },
   "source": [
    "Создадим pivot в которым найдем количество игр по жанру и суммер прибыли"
   ]
  },
  {
   "cell_type": "code",
   "execution_count": 69,
   "metadata": {
    "id": "yHK70kme4tPP"
   },
   "outputs": [],
   "source": [
    "df_genre=df_new.pivot_table(index='genre',values='total_sales',aggfunc=['sum','count']) #сделаем сводную\n",
    "df_genre.columns=('sum','amount') #переименуем столбцы\n",
    "df_genre['conv']=df_genre['sum']/df_genre['amount'] #сколько млн копий приходится на одну игру в жанре\n",
    "df_genre['percent_made']=df_genre['sum']/df_genre['sum'].sum()*100 #сколько % от общей прибыли приходится на жанр"
   ]
  },
  {
   "cell_type": "code",
   "execution_count": 70,
   "metadata": {
    "colab": {
     "base_uri": "https://localhost:8080/"
    },
    "id": "NZd-yFGvD7kg",
    "outputId": "4fda7221-711d-40e6-a87e-597e961a6ae0"
   },
   "outputs": [
    {
     "data": {
      "text/html": [
       "<div>\n",
       "<style scoped>\n",
       "    .dataframe tbody tr th:only-of-type {\n",
       "        vertical-align: middle;\n",
       "    }\n",
       "\n",
       "    .dataframe tbody tr th {\n",
       "        vertical-align: top;\n",
       "    }\n",
       "\n",
       "    .dataframe thead th {\n",
       "        text-align: right;\n",
       "    }\n",
       "</style>\n",
       "<table border=\"1\" class=\"dataframe\">\n",
       "  <thead>\n",
       "    <tr style=\"text-align: right;\">\n",
       "      <th></th>\n",
       "      <th>sum</th>\n",
       "      <th>amount</th>\n",
       "      <th>conv</th>\n",
       "      <th>percent_made</th>\n",
       "    </tr>\n",
       "    <tr>\n",
       "      <th>genre</th>\n",
       "      <th></th>\n",
       "      <th></th>\n",
       "      <th></th>\n",
       "      <th></th>\n",
       "    </tr>\n",
       "  </thead>\n",
       "  <tbody>\n",
       "    <tr>\n",
       "      <th>Shooter</th>\n",
       "      <td>304.73</td>\n",
       "      <td>235</td>\n",
       "      <td>1.296723</td>\n",
       "      <td>21.066276</td>\n",
       "    </tr>\n",
       "    <tr>\n",
       "      <th>Platform</th>\n",
       "      <td>61.00</td>\n",
       "      <td>85</td>\n",
       "      <td>0.717647</td>\n",
       "      <td>4.216988</td>\n",
       "    </tr>\n",
       "    <tr>\n",
       "      <th>Sports</th>\n",
       "      <td>181.07</td>\n",
       "      <td>268</td>\n",
       "      <td>0.675634</td>\n",
       "      <td>12.517542</td>\n",
       "    </tr>\n",
       "    <tr>\n",
       "      <th>Role-Playing</th>\n",
       "      <td>192.80</td>\n",
       "      <td>370</td>\n",
       "      <td>0.521081</td>\n",
       "      <td>13.328448</td>\n",
       "    </tr>\n",
       "    <tr>\n",
       "      <th>Racing</th>\n",
       "      <td>53.50</td>\n",
       "      <td>115</td>\n",
       "      <td>0.465217</td>\n",
       "      <td>3.698506</td>\n",
       "    </tr>\n",
       "    <tr>\n",
       "      <th>Misc</th>\n",
       "      <td>85.04</td>\n",
       "      <td>192</td>\n",
       "      <td>0.442917</td>\n",
       "      <td>5.878896</td>\n",
       "    </tr>\n",
       "    <tr>\n",
       "      <th>Simulation</th>\n",
       "      <td>35.12</td>\n",
       "      <td>80</td>\n",
       "      <td>0.439000</td>\n",
       "      <td>2.427879</td>\n",
       "    </tr>\n",
       "    <tr>\n",
       "      <th>Action</th>\n",
       "      <td>441.12</td>\n",
       "      <td>1031</td>\n",
       "      <td>0.427856</td>\n",
       "      <td>30.495047</td>\n",
       "    </tr>\n",
       "    <tr>\n",
       "      <th>Fighting</th>\n",
       "      <td>44.49</td>\n",
       "      <td>109</td>\n",
       "      <td>0.408165</td>\n",
       "      <td>3.075636</td>\n",
       "    </tr>\n",
       "    <tr>\n",
       "      <th>Strategy</th>\n",
       "      <td>13.34</td>\n",
       "      <td>71</td>\n",
       "      <td>0.187887</td>\n",
       "      <td>0.922207</td>\n",
       "    </tr>\n",
       "    <tr>\n",
       "      <th>Puzzle</th>\n",
       "      <td>4.89</td>\n",
       "      <td>28</td>\n",
       "      <td>0.174643</td>\n",
       "      <td>0.338050</td>\n",
       "    </tr>\n",
       "    <tr>\n",
       "      <th>Adventure</th>\n",
       "      <td>29.43</td>\n",
       "      <td>302</td>\n",
       "      <td>0.097450</td>\n",
       "      <td>2.034524</td>\n",
       "    </tr>\n",
       "  </tbody>\n",
       "</table>\n",
       "</div>"
      ],
      "text/plain": [
       "                 sum  amount      conv  percent_made\n",
       "genre                                               \n",
       "Shooter       304.73     235  1.296723     21.066276\n",
       "Platform       61.00      85  0.717647      4.216988\n",
       "Sports        181.07     268  0.675634     12.517542\n",
       "Role-Playing  192.80     370  0.521081     13.328448\n",
       "Racing         53.50     115  0.465217      3.698506\n",
       "Misc           85.04     192  0.442917      5.878896\n",
       "Simulation     35.12      80  0.439000      2.427879\n",
       "Action        441.12    1031  0.427856     30.495047\n",
       "Fighting       44.49     109  0.408165      3.075636\n",
       "Strategy       13.34      71  0.187887      0.922207\n",
       "Puzzle          4.89      28  0.174643      0.338050\n",
       "Adventure      29.43     302  0.097450      2.034524"
      ]
     },
     "metadata": {},
     "output_type": "display_data"
    }
   ],
   "source": [
    "display(df_genre.sort_values(by='conv',ascending=False))"
   ]
  },
  {
   "cell_type": "markdown",
   "metadata": {
    "id": "KUVr7MOSENA6"
   },
   "source": [
    "Мы можем заметить, что самые прибыльные жанры - это Шутеры (1.3 млн на одну игру в среднем), Платформеры (0.7 млн в среднем на одну игру), Спортивные игры (0,67 млн на одну игру) и Role-Playing (0.52 млн на одну игру). А вот Adventure, Puzzle и Stategy такие  популярные по продажам в расчете на 1 игру.\n",
    "Можем выделить - Шутеры и платформеры как наиболее перспективные игры по объему продаж и таже Шутеры и Action по объему продаж от всего рынка.\n",
    "\n",
    "Теперь выделим наиболее перспективные направления для каждой из платформ. Для этого создадим сводные таблицы"
   ]
  },
  {
   "cell_type": "code",
   "execution_count": 71,
   "metadata": {
    "id": "K1jLP971EQyZ"
   },
   "outputs": [],
   "source": [
    "df_genre_plat=df_new_1.pivot_table(index='genre',columns='platform',\n",
    "                                   values='total_sales',aggfunc=['sum','count'])\n",
    "df_genre_plat.columns=('sum_3DS','sum_PC','sum_PS4','sum_PSV',\n",
    "                       'sum_XOne','count_3DS','count_PC','count_PS4','count_PSV','count_XOne')\n",
    "df_genre_ps4=df_genre_plat[['sum_PS4','count_PS4']]\n",
    "df_genre_3ds=df_genre_plat[['sum_3DS','count_3DS']]\n",
    "df_genre_pc=df_genre_plat[['sum_PC','count_PC']]\n",
    "df_genre_xone=df_genre_plat[['sum_XOne','count_XOne']]\n",
    "df_genre_psv=df_genre_plat[['sum_PSV','count_PSV']]"
   ]
  },
  {
   "cell_type": "code",
   "execution_count": 72,
   "metadata": {
    "colab": {
     "base_uri": "https://localhost:8080/"
    },
    "id": "qIXjIpMkEMIV",
    "outputId": "54332801-678b-46a5-f24f-5476edd621fc"
   },
   "outputs": [
    {
     "data": {
      "text/html": [
       "<div>\n",
       "<style scoped>\n",
       "    .dataframe tbody tr th:only-of-type {\n",
       "        vertical-align: middle;\n",
       "    }\n",
       "\n",
       "    .dataframe tbody tr th {\n",
       "        vertical-align: top;\n",
       "    }\n",
       "\n",
       "    .dataframe thead th {\n",
       "        text-align: right;\n",
       "    }\n",
       "</style>\n",
       "<table border=\"1\" class=\"dataframe\">\n",
       "  <thead>\n",
       "    <tr style=\"text-align: right;\">\n",
       "      <th></th>\n",
       "      <th>sum_PS4</th>\n",
       "      <th>count_PS4</th>\n",
       "      <th>conv</th>\n",
       "      <th>share_sales</th>\n",
       "    </tr>\n",
       "    <tr>\n",
       "      <th>genre</th>\n",
       "      <th></th>\n",
       "      <th></th>\n",
       "      <th></th>\n",
       "      <th></th>\n",
       "    </tr>\n",
       "  </thead>\n",
       "  <tbody>\n",
       "    <tr>\n",
       "      <th>Shooter</th>\n",
       "      <td>88.56</td>\n",
       "      <td>41.0</td>\n",
       "      <td>2.160000</td>\n",
       "      <td>28.191252</td>\n",
       "    </tr>\n",
       "    <tr>\n",
       "      <th>Sports</th>\n",
       "      <td>55.61</td>\n",
       "      <td>46.0</td>\n",
       "      <td>1.208913</td>\n",
       "      <td>17.702298</td>\n",
       "    </tr>\n",
       "    <tr>\n",
       "      <th>Action</th>\n",
       "      <td>96.10</td>\n",
       "      <td>144.0</td>\n",
       "      <td>0.667361</td>\n",
       "      <td>30.591456</td>\n",
       "    </tr>\n",
       "    <tr>\n",
       "      <th>Platform</th>\n",
       "      <td>7.69</td>\n",
       "      <td>12.0</td>\n",
       "      <td>0.640833</td>\n",
       "      <td>2.447953</td>\n",
       "    </tr>\n",
       "    <tr>\n",
       "      <th>Racing</th>\n",
       "      <td>12.14</td>\n",
       "      <td>19.0</td>\n",
       "      <td>0.638947</td>\n",
       "      <td>3.864519</td>\n",
       "    </tr>\n",
       "    <tr>\n",
       "      <th>Role-Playing</th>\n",
       "      <td>28.99</td>\n",
       "      <td>51.0</td>\n",
       "      <td>0.568431</td>\n",
       "      <td>9.228370</td>\n",
       "    </tr>\n",
       "    <tr>\n",
       "      <th>Fighting</th>\n",
       "      <td>8.65</td>\n",
       "      <td>18.0</td>\n",
       "      <td>0.480556</td>\n",
       "      <td>2.753549</td>\n",
       "    </tr>\n",
       "    <tr>\n",
       "      <th>Misc</th>\n",
       "      <td>8.19</td>\n",
       "      <td>20.0</td>\n",
       "      <td>0.409500</td>\n",
       "      <td>2.607118</td>\n",
       "    </tr>\n",
       "    <tr>\n",
       "      <th>Adventure</th>\n",
       "      <td>6.34</td>\n",
       "      <td>28.0</td>\n",
       "      <td>0.226429</td>\n",
       "      <td>2.018208</td>\n",
       "    </tr>\n",
       "    <tr>\n",
       "      <th>Simulation</th>\n",
       "      <td>1.23</td>\n",
       "      <td>6.0</td>\n",
       "      <td>0.205000</td>\n",
       "      <td>0.391545</td>\n",
       "    </tr>\n",
       "    <tr>\n",
       "      <th>Strategy</th>\n",
       "      <td>0.62</td>\n",
       "      <td>6.0</td>\n",
       "      <td>0.103333</td>\n",
       "      <td>0.197364</td>\n",
       "    </tr>\n",
       "    <tr>\n",
       "      <th>Puzzle</th>\n",
       "      <td>0.02</td>\n",
       "      <td>1.0</td>\n",
       "      <td>0.020000</td>\n",
       "      <td>0.006367</td>\n",
       "    </tr>\n",
       "  </tbody>\n",
       "</table>\n",
       "</div>"
      ],
      "text/plain": [
       "              sum_PS4  count_PS4      conv  share_sales\n",
       "genre                                                  \n",
       "Shooter         88.56       41.0  2.160000    28.191252\n",
       "Sports          55.61       46.0  1.208913    17.702298\n",
       "Action          96.10      144.0  0.667361    30.591456\n",
       "Platform         7.69       12.0  0.640833     2.447953\n",
       "Racing          12.14       19.0  0.638947     3.864519\n",
       "Role-Playing    28.99       51.0  0.568431     9.228370\n",
       "Fighting         8.65       18.0  0.480556     2.753549\n",
       "Misc             8.19       20.0  0.409500     2.607118\n",
       "Adventure        6.34       28.0  0.226429     2.018208\n",
       "Simulation       1.23        6.0  0.205000     0.391545\n",
       "Strategy         0.62        6.0  0.103333     0.197364\n",
       "Puzzle           0.02        1.0  0.020000     0.006367"
      ]
     },
     "metadata": {},
     "output_type": "display_data"
    }
   ],
   "source": [
    "df_genre_ps4['conv']=df_genre_ps4['sum_PS4']/df_genre_ps4['count_PS4']\n",
    "df_genre_ps4['share_sales']=df_genre_ps4['sum_PS4']/df_genre_ps4['sum_PS4'].sum()*100\n",
    "display(df_genre_ps4.sort_values(by='conv',ascending=False))"
   ]
  },
  {
   "cell_type": "markdown",
   "metadata": {
    "id": "3mbaU8PXIeB-"
   },
   "source": [
    "Для PS4 - наиболее перспективные, как по количеству проданных млн копий на одну игру, так как и по доле продаж - жанры Shooter (2,1 млн), Sports (1.2 млн и доля в 18%) и Acton (0.6 млн на 1 копию и доля продаж почти 30%). А вот Puzzle, Strategy и Симуляторы можно не выпускать"
   ]
  },
  {
   "cell_type": "code",
   "execution_count": 73,
   "metadata": {
    "colab": {
     "base_uri": "https://localhost:8080/"
    },
    "id": "Ev0XWKZoJQ2v",
    "outputId": "f7aeb466-b10f-43a7-9e31-9c8641b1861c"
   },
   "outputs": [
    {
     "data": {
      "text/html": [
       "<div>\n",
       "<style scoped>\n",
       "    .dataframe tbody tr th:only-of-type {\n",
       "        vertical-align: middle;\n",
       "    }\n",
       "\n",
       "    .dataframe tbody tr th {\n",
       "        vertical-align: top;\n",
       "    }\n",
       "\n",
       "    .dataframe thead th {\n",
       "        text-align: right;\n",
       "    }\n",
       "</style>\n",
       "<table border=\"1\" class=\"dataframe\">\n",
       "  <thead>\n",
       "    <tr style=\"text-align: right;\">\n",
       "      <th></th>\n",
       "      <th>sum_3DS</th>\n",
       "      <th>count_3DS</th>\n",
       "      <th>conv</th>\n",
       "      <th>share_sales</th>\n",
       "    </tr>\n",
       "    <tr>\n",
       "      <th>genre</th>\n",
       "      <th></th>\n",
       "      <th></th>\n",
       "      <th></th>\n",
       "      <th></th>\n",
       "    </tr>\n",
       "  </thead>\n",
       "  <tbody>\n",
       "    <tr>\n",
       "      <th>Platform</th>\n",
       "      <td>19.11</td>\n",
       "      <td>19.0</td>\n",
       "      <td>1.005789</td>\n",
       "      <td>9.819639</td>\n",
       "    </tr>\n",
       "    <tr>\n",
       "      <th>Role-Playing</th>\n",
       "      <td>79.30</td>\n",
       "      <td>79.0</td>\n",
       "      <td>1.003797</td>\n",
       "      <td>40.748163</td>\n",
       "    </tr>\n",
       "    <tr>\n",
       "      <th>Simulation</th>\n",
       "      <td>19.93</td>\n",
       "      <td>20.0</td>\n",
       "      <td>0.996500</td>\n",
       "      <td>10.240995</td>\n",
       "    </tr>\n",
       "    <tr>\n",
       "      <th>Fighting</th>\n",
       "      <td>8.46</td>\n",
       "      <td>9.0</td>\n",
       "      <td>0.940000</td>\n",
       "      <td>4.347156</td>\n",
       "    </tr>\n",
       "    <tr>\n",
       "      <th>Sports</th>\n",
       "      <td>4.23</td>\n",
       "      <td>12.0</td>\n",
       "      <td>0.352500</td>\n",
       "      <td>2.173578</td>\n",
       "    </tr>\n",
       "    <tr>\n",
       "      <th>Action</th>\n",
       "      <td>45.49</td>\n",
       "      <td>156.0</td>\n",
       "      <td>0.291603</td>\n",
       "      <td>23.374955</td>\n",
       "    </tr>\n",
       "    <tr>\n",
       "      <th>Racing</th>\n",
       "      <td>0.28</td>\n",
       "      <td>1.0</td>\n",
       "      <td>0.280000</td>\n",
       "      <td>0.143877</td>\n",
       "    </tr>\n",
       "    <tr>\n",
       "      <th>Misc</th>\n",
       "      <td>9.45</td>\n",
       "      <td>41.0</td>\n",
       "      <td>0.230488</td>\n",
       "      <td>4.855866</td>\n",
       "    </tr>\n",
       "    <tr>\n",
       "      <th>Puzzle</th>\n",
       "      <td>2.66</td>\n",
       "      <td>13.0</td>\n",
       "      <td>0.204615</td>\n",
       "      <td>1.366836</td>\n",
       "    </tr>\n",
       "    <tr>\n",
       "      <th>Adventure</th>\n",
       "      <td>4.30</td>\n",
       "      <td>33.0</td>\n",
       "      <td>0.130303</td>\n",
       "      <td>2.209547</td>\n",
       "    </tr>\n",
       "    <tr>\n",
       "      <th>Strategy</th>\n",
       "      <td>1.27</td>\n",
       "      <td>11.0</td>\n",
       "      <td>0.115455</td>\n",
       "      <td>0.652587</td>\n",
       "    </tr>\n",
       "    <tr>\n",
       "      <th>Shooter</th>\n",
       "      <td>0.13</td>\n",
       "      <td>2.0</td>\n",
       "      <td>0.065000</td>\n",
       "      <td>0.066800</td>\n",
       "    </tr>\n",
       "  </tbody>\n",
       "</table>\n",
       "</div>"
      ],
      "text/plain": [
       "              sum_3DS  count_3DS      conv  share_sales\n",
       "genre                                                  \n",
       "Platform        19.11       19.0  1.005789     9.819639\n",
       "Role-Playing    79.30       79.0  1.003797    40.748163\n",
       "Simulation      19.93       20.0  0.996500    10.240995\n",
       "Fighting         8.46        9.0  0.940000     4.347156\n",
       "Sports           4.23       12.0  0.352500     2.173578\n",
       "Action          45.49      156.0  0.291603    23.374955\n",
       "Racing           0.28        1.0  0.280000     0.143877\n",
       "Misc             9.45       41.0  0.230488     4.855866\n",
       "Puzzle           2.66       13.0  0.204615     1.366836\n",
       "Adventure        4.30       33.0  0.130303     2.209547\n",
       "Strategy         1.27       11.0  0.115455     0.652587\n",
       "Shooter          0.13        2.0  0.065000     0.066800"
      ]
     },
     "metadata": {},
     "output_type": "display_data"
    }
   ],
   "source": [
    "df_genre_3ds['conv']=df_genre_3ds['sum_3DS']/df_genre_3ds['count_3DS']\n",
    "df_genre_3ds['share_sales']=df_genre_3ds['sum_3DS']/df_genre_3ds['sum_3DS'].sum()*100\n",
    "display(df_genre_3ds.sort_values(by='conv',ascending=False))"
   ]
  },
  {
   "cell_type": "markdown",
   "metadata": {
    "id": "0FbKJPJgJRPS"
   },
   "source": [
    "Для портативной приставки Nintendo 3Ds - самые продавааемые игры - Платформеры, (1 млн копий на 1 игру и доля 9% процентов от рынка), Симуляторы (1 млн копий и 40% от всех продаж) и Role-Playing (почти 1 млн копий на 1 игру и доля рынка 10%. Также мы можем выделить Action, которые занимают 23% по доли продаж. А вот Shooter, Strategy и Adventure плохо продаются на это платформе"
   ]
  },
  {
   "cell_type": "code",
   "execution_count": 74,
   "metadata": {
    "colab": {
     "base_uri": "https://localhost:8080/"
    },
    "id": "8QdgFaqEJRfh",
    "outputId": "d16b05cf-ee09-4b59-a2df-7f498deb1d88"
   },
   "outputs": [
    {
     "data": {
      "text/html": [
       "<div>\n",
       "<style scoped>\n",
       "    .dataframe tbody tr th:only-of-type {\n",
       "        vertical-align: middle;\n",
       "    }\n",
       "\n",
       "    .dataframe tbody tr th {\n",
       "        vertical-align: top;\n",
       "    }\n",
       "\n",
       "    .dataframe thead th {\n",
       "        text-align: right;\n",
       "    }\n",
       "</style>\n",
       "<table border=\"1\" class=\"dataframe\">\n",
       "  <thead>\n",
       "    <tr style=\"text-align: right;\">\n",
       "      <th></th>\n",
       "      <th>sum_PC</th>\n",
       "      <th>count_PC</th>\n",
       "      <th>conv</th>\n",
       "      <th>share_sales</th>\n",
       "    </tr>\n",
       "    <tr>\n",
       "      <th>genre</th>\n",
       "      <th></th>\n",
       "      <th></th>\n",
       "      <th></th>\n",
       "      <th></th>\n",
       "    </tr>\n",
       "  </thead>\n",
       "  <tbody>\n",
       "    <tr>\n",
       "      <th>Role-Playing</th>\n",
       "      <td>13.65</td>\n",
       "      <td>27.0</td>\n",
       "      <td>0.505556</td>\n",
       "      <td>21.787709</td>\n",
       "    </tr>\n",
       "    <tr>\n",
       "      <th>Simulation</th>\n",
       "      <td>9.22</td>\n",
       "      <td>23.0</td>\n",
       "      <td>0.400870</td>\n",
       "      <td>14.716680</td>\n",
       "    </tr>\n",
       "    <tr>\n",
       "      <th>Shooter</th>\n",
       "      <td>14.27</td>\n",
       "      <td>41.0</td>\n",
       "      <td>0.348049</td>\n",
       "      <td>22.777334</td>\n",
       "    </tr>\n",
       "    <tr>\n",
       "      <th>Strategy</th>\n",
       "      <td>5.99</td>\n",
       "      <td>26.0</td>\n",
       "      <td>0.230385</td>\n",
       "      <td>9.561053</td>\n",
       "    </tr>\n",
       "    <tr>\n",
       "      <th>Action</th>\n",
       "      <td>13.14</td>\n",
       "      <td>66.0</td>\n",
       "      <td>0.199091</td>\n",
       "      <td>20.973663</td>\n",
       "    </tr>\n",
       "    <tr>\n",
       "      <th>Sports</th>\n",
       "      <td>3.26</td>\n",
       "      <td>17.0</td>\n",
       "      <td>0.191765</td>\n",
       "      <td>5.203512</td>\n",
       "    </tr>\n",
       "    <tr>\n",
       "      <th>Misc</th>\n",
       "      <td>0.73</td>\n",
       "      <td>5.0</td>\n",
       "      <td>0.146000</td>\n",
       "      <td>1.165204</td>\n",
       "    </tr>\n",
       "    <tr>\n",
       "      <th>Racing</th>\n",
       "      <td>1.23</td>\n",
       "      <td>20.0</td>\n",
       "      <td>0.061500</td>\n",
       "      <td>1.963288</td>\n",
       "    </tr>\n",
       "    <tr>\n",
       "      <th>Adventure</th>\n",
       "      <td>0.87</td>\n",
       "      <td>17.0</td>\n",
       "      <td>0.051176</td>\n",
       "      <td>1.388667</td>\n",
       "    </tr>\n",
       "    <tr>\n",
       "      <th>Platform</th>\n",
       "      <td>0.14</td>\n",
       "      <td>3.0</td>\n",
       "      <td>0.046667</td>\n",
       "      <td>0.223464</td>\n",
       "    </tr>\n",
       "    <tr>\n",
       "      <th>Fighting</th>\n",
       "      <td>0.12</td>\n",
       "      <td>3.0</td>\n",
       "      <td>0.040000</td>\n",
       "      <td>0.191540</td>\n",
       "    </tr>\n",
       "    <tr>\n",
       "      <th>Puzzle</th>\n",
       "      <td>0.03</td>\n",
       "      <td>2.0</td>\n",
       "      <td>0.015000</td>\n",
       "      <td>0.047885</td>\n",
       "    </tr>\n",
       "  </tbody>\n",
       "</table>\n",
       "</div>"
      ],
      "text/plain": [
       "              sum_PC  count_PC      conv  share_sales\n",
       "genre                                                \n",
       "Role-Playing   13.65      27.0  0.505556    21.787709\n",
       "Simulation      9.22      23.0  0.400870    14.716680\n",
       "Shooter        14.27      41.0  0.348049    22.777334\n",
       "Strategy        5.99      26.0  0.230385     9.561053\n",
       "Action         13.14      66.0  0.199091    20.973663\n",
       "Sports          3.26      17.0  0.191765     5.203512\n",
       "Misc            0.73       5.0  0.146000     1.165204\n",
       "Racing          1.23      20.0  0.061500     1.963288\n",
       "Adventure       0.87      17.0  0.051176     1.388667\n",
       "Platform        0.14       3.0  0.046667     0.223464\n",
       "Fighting        0.12       3.0  0.040000     0.191540\n",
       "Puzzle          0.03       2.0  0.015000     0.047885"
      ]
     },
     "metadata": {},
     "output_type": "display_data"
    }
   ],
   "source": [
    "df_genre_pc['conv']=df_genre_pc['sum_PC']/df_genre_pc['count_PC']\n",
    "df_genre_pc['share_sales']=df_genre_pc['sum_PC']/df_genre_pc['sum_PC'].sum()*100\n",
    "display(df_genre_pc.sort_values(by='conv',ascending=False))"
   ]
  },
  {
   "cell_type": "markdown",
   "metadata": {
    "id": "yuOvQ4DEJRwM"
   },
   "source": [
    "Для компьютеров люди предпочитают Role-Playing, Симуляторы и таже Шутеры, которые в целом составляют большую часть в структуре продаж (суммарно - 57%). Action занимают 21% от общей доли продаж"
   ]
  },
  {
   "cell_type": "code",
   "execution_count": 75,
   "metadata": {
    "colab": {
     "base_uri": "https://localhost:8080/"
    },
    "id": "-nELXRSkJT2c",
    "outputId": "3d472074-b6d7-4108-dce4-003c72e9e0a6"
   },
   "outputs": [
    {
     "data": {
      "text/html": [
       "<div>\n",
       "<style scoped>\n",
       "    .dataframe tbody tr th:only-of-type {\n",
       "        vertical-align: middle;\n",
       "    }\n",
       "\n",
       "    .dataframe tbody tr th {\n",
       "        vertical-align: top;\n",
       "    }\n",
       "\n",
       "    .dataframe thead th {\n",
       "        text-align: right;\n",
       "    }\n",
       "</style>\n",
       "<table border=\"1\" class=\"dataframe\">\n",
       "  <thead>\n",
       "    <tr style=\"text-align: right;\">\n",
       "      <th></th>\n",
       "      <th>sum_XOne</th>\n",
       "      <th>count_XOne</th>\n",
       "      <th>conv</th>\n",
       "      <th>share_sales</th>\n",
       "    </tr>\n",
       "    <tr>\n",
       "      <th>genre</th>\n",
       "      <th></th>\n",
       "      <th></th>\n",
       "      <th></th>\n",
       "      <th></th>\n",
       "    </tr>\n",
       "  </thead>\n",
       "  <tbody>\n",
       "    <tr>\n",
       "      <th>Shooter</th>\n",
       "      <td>60.33</td>\n",
       "      <td>38.0</td>\n",
       "      <td>1.587632</td>\n",
       "      <td>37.867186</td>\n",
       "    </tr>\n",
       "    <tr>\n",
       "      <th>Role-Playing</th>\n",
       "      <td>10.55</td>\n",
       "      <td>14.0</td>\n",
       "      <td>0.753571</td>\n",
       "      <td>6.621893</td>\n",
       "    </tr>\n",
       "    <tr>\n",
       "      <th>Sports</th>\n",
       "      <td>26.74</td>\n",
       "      <td>38.0</td>\n",
       "      <td>0.703684</td>\n",
       "      <td>16.783831</td>\n",
       "    </tr>\n",
       "    <tr>\n",
       "      <th>Racing</th>\n",
       "      <td>9.79</td>\n",
       "      <td>20.0</td>\n",
       "      <td>0.489500</td>\n",
       "      <td>6.144866</td>\n",
       "    </tr>\n",
       "    <tr>\n",
       "      <th>Action</th>\n",
       "      <td>37.31</td>\n",
       "      <td>85.0</td>\n",
       "      <td>0.438941</td>\n",
       "      <td>23.418278</td>\n",
       "    </tr>\n",
       "    <tr>\n",
       "      <th>Misc</th>\n",
       "      <td>7.43</td>\n",
       "      <td>19.0</td>\n",
       "      <td>0.391053</td>\n",
       "      <td>4.663570</td>\n",
       "    </tr>\n",
       "    <tr>\n",
       "      <th>Fighting</th>\n",
       "      <td>2.45</td>\n",
       "      <td>7.0</td>\n",
       "      <td>0.350000</td>\n",
       "      <td>1.537786</td>\n",
       "    </tr>\n",
       "    <tr>\n",
       "      <th>Adventure</th>\n",
       "      <td>2.68</td>\n",
       "      <td>14.0</td>\n",
       "      <td>0.191429</td>\n",
       "      <td>1.682149</td>\n",
       "    </tr>\n",
       "    <tr>\n",
       "      <th>Platform</th>\n",
       "      <td>0.93</td>\n",
       "      <td>5.0</td>\n",
       "      <td>0.186000</td>\n",
       "      <td>0.583731</td>\n",
       "    </tr>\n",
       "    <tr>\n",
       "      <th>Simulation</th>\n",
       "      <td>0.69</td>\n",
       "      <td>4.0</td>\n",
       "      <td>0.172500</td>\n",
       "      <td>0.433091</td>\n",
       "    </tr>\n",
       "    <tr>\n",
       "      <th>Strategy</th>\n",
       "      <td>0.42</td>\n",
       "      <td>3.0</td>\n",
       "      <td>0.140000</td>\n",
       "      <td>0.263620</td>\n",
       "    </tr>\n",
       "    <tr>\n",
       "      <th>Puzzle</th>\n",
       "      <td>NaN</td>\n",
       "      <td>NaN</td>\n",
       "      <td>NaN</td>\n",
       "      <td>NaN</td>\n",
       "    </tr>\n",
       "  </tbody>\n",
       "</table>\n",
       "</div>"
      ],
      "text/plain": [
       "              sum_XOne  count_XOne      conv  share_sales\n",
       "genre                                                    \n",
       "Shooter          60.33        38.0  1.587632    37.867186\n",
       "Role-Playing     10.55        14.0  0.753571     6.621893\n",
       "Sports           26.74        38.0  0.703684    16.783831\n",
       "Racing            9.79        20.0  0.489500     6.144866\n",
       "Action           37.31        85.0  0.438941    23.418278\n",
       "Misc              7.43        19.0  0.391053     4.663570\n",
       "Fighting          2.45         7.0  0.350000     1.537786\n",
       "Adventure         2.68        14.0  0.191429     1.682149\n",
       "Platform          0.93         5.0  0.186000     0.583731\n",
       "Simulation        0.69         4.0  0.172500     0.433091\n",
       "Strategy          0.42         3.0  0.140000     0.263620\n",
       "Puzzle             NaN         NaN       NaN          NaN"
      ]
     },
     "metadata": {},
     "output_type": "display_data"
    }
   ],
   "source": [
    "df_genre_xone['conv']=df_genre_xone['sum_XOne']/df_genre_xone['count_XOne']\n",
    "df_genre_xone['share_sales']=df_genre_xone['sum_XOne']/df_genre_xone['sum_XOne'].sum()*100\n",
    "display(df_genre_xone.sort_values(by='conv',ascending=False))"
   ]
  },
  {
   "cell_type": "markdown",
   "metadata": {
    "id": "Mdg76MzcD6a_"
   },
   "source": [
    "По аналогии с PS4- шутеры оказаись самыми популярными играми и по миллиону на копию и по общей доли в продаж. Спортивные игры, role-playing и экшены также довольно популярны. А вот пазлы вообще не представены на XBox One"
   ]
  },
  {
   "cell_type": "code",
   "execution_count": 76,
   "metadata": {
    "colab": {
     "base_uri": "https://localhost:8080/"
    },
    "id": "8WOUEoSaKV03",
    "outputId": "32ed927a-8c15-43bb-9037-ec74f65493d9"
   },
   "outputs": [
    {
     "data": {
      "text/html": [
       "<div>\n",
       "<style scoped>\n",
       "    .dataframe tbody tr th:only-of-type {\n",
       "        vertical-align: middle;\n",
       "    }\n",
       "\n",
       "    .dataframe tbody tr th {\n",
       "        vertical-align: top;\n",
       "    }\n",
       "\n",
       "    .dataframe thead th {\n",
       "        text-align: right;\n",
       "    }\n",
       "</style>\n",
       "<table border=\"1\" class=\"dataframe\">\n",
       "  <thead>\n",
       "    <tr style=\"text-align: right;\">\n",
       "      <th></th>\n",
       "      <th>sum_PSV</th>\n",
       "      <th>count_PSV</th>\n",
       "      <th>conv</th>\n",
       "      <th>share_sales</th>\n",
       "    </tr>\n",
       "    <tr>\n",
       "      <th>genre</th>\n",
       "      <th></th>\n",
       "      <th></th>\n",
       "      <th></th>\n",
       "      <th></th>\n",
       "    </tr>\n",
       "  </thead>\n",
       "  <tbody>\n",
       "    <tr>\n",
       "      <th>Shooter</th>\n",
       "      <td>2.34</td>\n",
       "      <td>4.0</td>\n",
       "      <td>0.585000</td>\n",
       "      <td>4.758032</td>\n",
       "    </tr>\n",
       "    <tr>\n",
       "      <th>Platform</th>\n",
       "      <td>2.26</td>\n",
       "      <td>8.0</td>\n",
       "      <td>0.282500</td>\n",
       "      <td>4.595364</td>\n",
       "    </tr>\n",
       "    <tr>\n",
       "      <th>Racing</th>\n",
       "      <td>2.21</td>\n",
       "      <td>9.0</td>\n",
       "      <td>0.245556</td>\n",
       "      <td>4.493697</td>\n",
       "    </tr>\n",
       "    <tr>\n",
       "      <th>Misc</th>\n",
       "      <td>4.32</td>\n",
       "      <td>22.0</td>\n",
       "      <td>0.196364</td>\n",
       "      <td>8.784059</td>\n",
       "    </tr>\n",
       "    <tr>\n",
       "      <th>Fighting</th>\n",
       "      <td>2.21</td>\n",
       "      <td>14.0</td>\n",
       "      <td>0.157857</td>\n",
       "      <td>4.493697</td>\n",
       "    </tr>\n",
       "    <tr>\n",
       "      <th>Sports</th>\n",
       "      <td>3.21</td>\n",
       "      <td>21.0</td>\n",
       "      <td>0.152857</td>\n",
       "      <td>6.527044</td>\n",
       "    </tr>\n",
       "    <tr>\n",
       "      <th>Role-Playing</th>\n",
       "      <td>12.05</td>\n",
       "      <td>84.0</td>\n",
       "      <td>0.143452</td>\n",
       "      <td>24.501830</td>\n",
       "    </tr>\n",
       "    <tr>\n",
       "      <th>Action</th>\n",
       "      <td>16.33</td>\n",
       "      <td>145.0</td>\n",
       "      <td>0.112621</td>\n",
       "      <td>33.204555</td>\n",
       "    </tr>\n",
       "    <tr>\n",
       "      <th>Strategy</th>\n",
       "      <td>0.35</td>\n",
       "      <td>7.0</td>\n",
       "      <td>0.050000</td>\n",
       "      <td>0.711671</td>\n",
       "    </tr>\n",
       "    <tr>\n",
       "      <th>Adventure</th>\n",
       "      <td>3.79</td>\n",
       "      <td>92.0</td>\n",
       "      <td>0.041196</td>\n",
       "      <td>7.706385</td>\n",
       "    </tr>\n",
       "    <tr>\n",
       "      <th>Puzzle</th>\n",
       "      <td>0.06</td>\n",
       "      <td>2.0</td>\n",
       "      <td>0.030000</td>\n",
       "      <td>0.122001</td>\n",
       "    </tr>\n",
       "    <tr>\n",
       "      <th>Simulation</th>\n",
       "      <td>0.05</td>\n",
       "      <td>3.0</td>\n",
       "      <td>0.016667</td>\n",
       "      <td>0.101667</td>\n",
       "    </tr>\n",
       "  </tbody>\n",
       "</table>\n",
       "</div>"
      ],
      "text/plain": [
       "              sum_PSV  count_PSV      conv  share_sales\n",
       "genre                                                  \n",
       "Shooter          2.34        4.0  0.585000     4.758032\n",
       "Platform         2.26        8.0  0.282500     4.595364\n",
       "Racing           2.21        9.0  0.245556     4.493697\n",
       "Misc             4.32       22.0  0.196364     8.784059\n",
       "Fighting         2.21       14.0  0.157857     4.493697\n",
       "Sports           3.21       21.0  0.152857     6.527044\n",
       "Role-Playing    12.05       84.0  0.143452    24.501830\n",
       "Action          16.33      145.0  0.112621    33.204555\n",
       "Strategy         0.35        7.0  0.050000     0.711671\n",
       "Adventure        3.79       92.0  0.041196     7.706385\n",
       "Puzzle           0.06        2.0  0.030000     0.122001\n",
       "Simulation       0.05        3.0  0.016667     0.101667"
      ]
     },
     "metadata": {},
     "output_type": "display_data"
    }
   ],
   "source": [
    "df_genre_psv['conv']=df_genre_psv['sum_PSV']/df_genre_psv['count_PSV']\n",
    "df_genre_psv['share_sales']=df_genre_psv['sum_PSV']/df_genre_psv['sum_PSV'].sum()*100\n",
    "display(df_genre_psv.sort_values(by='conv',ascending=False))"
   ]
  },
  {
   "cell_type": "markdown",
   "metadata": {
    "id": "3n6NxJdrKWX7"
   },
   "source": [
    "На удивление на портативной Висте Шутеры также самые популряные, но вот по объему прожаж лидирую Role-Playing и Экшены"
   ]
  },
  {
   "cell_type": "markdown",
   "metadata": {
    "id": "lbKV4bcuMBjg"
   },
   "source": [
    "<big><b>Выводы по шагу 2.7:</b></big>\n",
    "- Лучше всего развивать игры в жанре Шутер(популярны на всех приставках кроме 3DS), а также Platform  и Action так как у них обычно самая большая доля продаж. Необходимо искать ниши также в каждой приставке, так как возможно именно этой игры там и не хватало."
   ]
  },
  {
   "cell_type": "markdown",
   "metadata": {},
   "source": [
    "<a class=\"anchor\" id=\"11-bullet\"></a>\n",
    "### Общие выводы по части 2"
   ]
  },
  {
   "cell_type": "markdown",
   "metadata": {},
   "source": [
    "1. Актуальный период для предсказания 2017 года - 2012-2016, так как как финансовый, так и спад по количеству игр и прибыли с них скорее всего продолжится\n",
    "2. Актуальные платформы на данный момент - PS4, XBox One, Nintendo 3DS, PS Vita и PC\n",
    "3. Оценки критиков влияют на покупку игр, а вот оценки других игроков - нет\n",
    "4. На разных приставка популярны разные жанры игр , но Shooter и Action - имеют хорошие возможности для дальнейшего развития"
   ]
  },
  {
   "cell_type": "markdown",
   "metadata": {
    "id": "mfkhqDSBMzae"
   },
   "source": [
    "## Часть 3 Портреты пользователя для различных регионов"
   ]
  },
  {
   "cell_type": "markdown",
   "metadata": {
    "id": "_TBAGqbjfNLL"
   },
   "source": [
    "Теперь мы посмотрим на поведение пользователей в трех различных регионах - Европе (EU), Cеверной Америке (NA) и Японии (JP).\n",
    "В каждом регионе мы выделим:\n",
    "* Популярные платформы (топ-5)\n",
    "* Какие жанры популярны (топ-5)\n",
    "* Влияет ли рейтинг ESRB на продажи в регионе"
   ]
  },
  {
   "cell_type": "markdown",
   "metadata": {},
   "source": [
    "<a class=\"anchor\" id=\"12-bullet\"></a>\n",
    "### Портрет пользователя EU"
   ]
  },
  {
   "cell_type": "markdown",
   "metadata": {
    "id": "dF-ogxdkfzfj"
   },
   "source": [
    "Сначала создадим сводную для региона EU, потом выведем топ пять наиболее популярных платформ, посчитаем долю каждый приставки от общей суммы, сделаем тоже самое с жанрами игр, потом переведем рейтинг в категорийную переменную и посчитаем корреляцию его влияния на на уровень продаж в регионе"
   ]
  },
  {
   "cell_type": "code",
   "execution_count": 77,
   "metadata": {
    "colab": {
     "base_uri": "https://localhost:8080/",
     "height": 238
    },
    "id": "Qc8haAPngdSN",
    "outputId": "bce6b13a-bdf3-4b9c-97e9-9494fbe1d712"
   },
   "outputs": [
    {
     "data": {
      "text/html": [
       "<div>\n",
       "<style scoped>\n",
       "    .dataframe tbody tr th:only-of-type {\n",
       "        vertical-align: middle;\n",
       "    }\n",
       "\n",
       "    .dataframe tbody tr th {\n",
       "        vertical-align: top;\n",
       "    }\n",
       "\n",
       "    .dataframe thead th {\n",
       "        text-align: right;\n",
       "    }\n",
       "</style>\n",
       "<table border=\"1\" class=\"dataframe\">\n",
       "  <thead>\n",
       "    <tr style=\"text-align: right;\">\n",
       "      <th></th>\n",
       "      <th>eu_sales</th>\n",
       "      <th>share</th>\n",
       "    </tr>\n",
       "    <tr>\n",
       "      <th>platform</th>\n",
       "      <th></th>\n",
       "      <th></th>\n",
       "    </tr>\n",
       "  </thead>\n",
       "  <tbody>\n",
       "    <tr>\n",
       "      <th>PS4</th>\n",
       "      <td>141.09</td>\n",
       "      <td>27.838286</td>\n",
       "    </tr>\n",
       "    <tr>\n",
       "      <th>PS3</th>\n",
       "      <td>106.86</td>\n",
       "      <td>21.084409</td>\n",
       "    </tr>\n",
       "    <tr>\n",
       "      <th>X360</th>\n",
       "      <td>74.52</td>\n",
       "      <td>14.703445</td>\n",
       "    </tr>\n",
       "    <tr>\n",
       "      <th>XOne</th>\n",
       "      <td>51.59</td>\n",
       "      <td>10.179156</td>\n",
       "    </tr>\n",
       "    <tr>\n",
       "      <th>3DS</th>\n",
       "      <td>42.64</td>\n",
       "      <td>8.413243</td>\n",
       "    </tr>\n",
       "  </tbody>\n",
       "</table>\n",
       "</div>"
      ],
      "text/plain": [
       "          eu_sales      share\n",
       "platform                     \n",
       "PS4         141.09  27.838286\n",
       "PS3         106.86  21.084409\n",
       "X360         74.52  14.703445\n",
       "XOne         51.59  10.179156\n",
       "3DS          42.64   8.413243"
      ]
     },
     "metadata": {},
     "output_type": "display_data"
    }
   ],
   "source": [
    "eu_plat_pivot=df_new.pivot_table(index='platform',values='eu_sales',aggfunc='sum')\n",
    "eu_plat_pivot['share']=(eu_plat_pivot['eu_sales']/eu_plat_pivot['eu_sales'].sum())*100\n",
    "display(eu_plat_pivot.sort_values(by='eu_sales',ascending=False).head(5))\n"
   ]
  },
  {
   "cell_type": "markdown",
   "metadata": {
    "id": "UnqJcjzUkdT5"
   },
   "source": [
    "Видим, что наиболее популярные платформы  - PS4, ее предшственник PS3,а также XBox и XOne - видим, что европейцы преимущественно покупают мейнстримные приставки от больших гигантов. Это видно даже по доле продаж - на них приходится около 70% от всего рынка. 3ds от Нинтендо - также популярна у Европейцев, единственная из компактных.\n",
    "\n",
    "Теперь посчитаем наиболее популряные жанры игры"
   ]
  },
  {
   "cell_type": "code",
   "execution_count": 78,
   "metadata": {
    "colab": {
     "base_uri": "https://localhost:8080/",
     "height": 238
    },
    "id": "-KGFnPGdgdbR",
    "outputId": "f9f95d92-6e5b-4202-f8c9-7f6a963a9ed4"
   },
   "outputs": [
    {
     "data": {
      "text/html": [
       "<div>\n",
       "<style scoped>\n",
       "    .dataframe tbody tr th:only-of-type {\n",
       "        vertical-align: middle;\n",
       "    }\n",
       "\n",
       "    .dataframe tbody tr th {\n",
       "        vertical-align: top;\n",
       "    }\n",
       "\n",
       "    .dataframe thead th {\n",
       "        text-align: right;\n",
       "    }\n",
       "</style>\n",
       "<table border=\"1\" class=\"dataframe\">\n",
       "  <thead>\n",
       "    <tr style=\"text-align: right;\">\n",
       "      <th></th>\n",
       "      <th>eu_sales</th>\n",
       "      <th>share</th>\n",
       "    </tr>\n",
       "    <tr>\n",
       "      <th>genre</th>\n",
       "      <th></th>\n",
       "      <th></th>\n",
       "    </tr>\n",
       "  </thead>\n",
       "  <tbody>\n",
       "    <tr>\n",
       "      <th>Action</th>\n",
       "      <td>159.34</td>\n",
       "      <td>31.439170</td>\n",
       "    </tr>\n",
       "    <tr>\n",
       "      <th>Shooter</th>\n",
       "      <td>113.47</td>\n",
       "      <td>22.388619</td>\n",
       "    </tr>\n",
       "    <tr>\n",
       "      <th>Sports</th>\n",
       "      <td>69.09</td>\n",
       "      <td>13.632059</td>\n",
       "    </tr>\n",
       "    <tr>\n",
       "      <th>Role-Playing</th>\n",
       "      <td>48.53</td>\n",
       "      <td>9.575392</td>\n",
       "    </tr>\n",
       "    <tr>\n",
       "      <th>Racing</th>\n",
       "      <td>27.29</td>\n",
       "      <td>5.384555</td>\n",
       "    </tr>\n",
       "  </tbody>\n",
       "</table>\n",
       "</div>"
      ],
      "text/plain": [
       "              eu_sales      share\n",
       "genre                            \n",
       "Action          159.34  31.439170\n",
       "Shooter         113.47  22.388619\n",
       "Sports           69.09  13.632059\n",
       "Role-Playing     48.53   9.575392\n",
       "Racing           27.29   5.384555"
      ]
     },
     "metadata": {},
     "output_type": "display_data"
    }
   ],
   "source": [
    "eu_game_pivot=df_new.pivot_table(index='genre',values='eu_sales',aggfunc='sum')\n",
    "eu_game_pivot['share']=(eu_game_pivot['eu_sales']/eu_game_pivot['eu_sales'].sum())*100\n",
    "display(eu_game_pivot.sort_values(by='eu_sales',ascending=False).head(5))\n"
   ]
  },
  {
   "cell_type": "markdown",
   "metadata": {
    "id": "JbHynVlwoDuk"
   },
   "source": [
    "Наиболее попуярные - Action и Шутеры а также Sport и Role-Playing, у них более 70% от всех продаж.\n",
    "\n",
    "Теперь посчитаем влияние рейтинга по возрасту на продажи в регионе. Для этого сделаем переменные категорийными, но сначала проверим по количеству"
   ]
  },
  {
   "cell_type": "code",
   "execution_count": 79,
   "metadata": {
    "colab": {
     "base_uri": "https://localhost:8080/",
     "height": 206
    },
    "id": "GtCcNuPrgdjI",
    "outputId": "1db18568-1c38-4f78-b8ad-5bb7d2405977"
   },
   "outputs": [
    {
     "data": {
      "text/html": [
       "<div>\n",
       "<style scoped>\n",
       "    .dataframe tbody tr th:only-of-type {\n",
       "        vertical-align: middle;\n",
       "    }\n",
       "\n",
       "    .dataframe tbody tr th {\n",
       "        vertical-align: top;\n",
       "    }\n",
       "\n",
       "    .dataframe thead th {\n",
       "        text-align: right;\n",
       "    }\n",
       "</style>\n",
       "<table border=\"1\" class=\"dataframe\">\n",
       "  <thead>\n",
       "    <tr style=\"text-align: right;\">\n",
       "      <th></th>\n",
       "      <th>sales</th>\n",
       "      <th>rate</th>\n",
       "    </tr>\n",
       "    <tr>\n",
       "      <th>rating</th>\n",
       "      <th></th>\n",
       "      <th></th>\n",
       "    </tr>\n",
       "  </thead>\n",
       "  <tbody>\n",
       "    <tr>\n",
       "      <th>E</th>\n",
       "      <td>113.03</td>\n",
       "      <td>0</td>\n",
       "    </tr>\n",
       "    <tr>\n",
       "      <th>E10+</th>\n",
       "      <td>55.37</td>\n",
       "      <td>1</td>\n",
       "    </tr>\n",
       "    <tr>\n",
       "      <th>M</th>\n",
       "      <td>193.96</td>\n",
       "      <td>2</td>\n",
       "    </tr>\n",
       "    <tr>\n",
       "      <th>NR</th>\n",
       "      <td>91.50</td>\n",
       "      <td>3</td>\n",
       "    </tr>\n",
       "    <tr>\n",
       "      <th>T</th>\n",
       "      <td>52.96</td>\n",
       "      <td>4</td>\n",
       "    </tr>\n",
       "  </tbody>\n",
       "</table>\n",
       "</div>"
      ],
      "text/plain": [
       "         sales  rate\n",
       "rating              \n",
       "E       113.03     0\n",
       "E10+     55.37     1\n",
       "M       193.96     2\n",
       "NR       91.50     3\n",
       "T        52.96     4"
      ]
     },
     "metadata": {},
     "output_type": "display_data"
    }
   ],
   "source": [
    "eu_rating_pivot=df_new.pivot_table(index='rating',values='eu_sales',aggfunc='sum')\n",
    "eu_rating_pivot['index'] = eu_rating_pivot.index\n",
    "#переведем в категорийные переменные, чтоб посчитать корреляцию\n",
    "eu_rating_pivot.columns=('sales','rate')\n",
    "eu_rating_pivot['rate']=eu_rating_pivot['rate'].astype('category').cat.codes \n",
    "display(eu_rating_pivot)"
   ]
  },
  {
   "cell_type": "markdown",
   "metadata": {
    "id": "DKb_7pRXcDNV"
   },
   "source": [
    "Посчитаем, есть ли какая-то корреляция между прибылью и категориией игры"
   ]
  },
  {
   "cell_type": "code",
   "execution_count": 80,
   "metadata": {
    "colab": {
     "base_uri": "https://localhost:8080/",
     "height": 34
    },
    "id": "bPILYRb7b42P",
    "outputId": "92848c6c-d39c-43be-c3f8-0ce831a8e119",
    "scrolled": true
   },
   "outputs": [
    {
     "data": {
      "text/plain": [
       "(-0.2306556634064861, 0.7089453362259684)"
      ]
     },
     "metadata": {},
     "output_type": "display_data"
    }
   ],
   "source": [
    "corr_eu_rat=scipy.stats.pearsonr(eu_rating_pivot['rate'], eu_rating_pivot['sales'])\n",
    "display(corr_eu_rat)  "
   ]
  },
  {
   "cell_type": "markdown",
   "metadata": {
    "id": "7Aq2srvQc89Q"
   },
   "source": [
    "Никакой зависимости при p-value=0.05 нет и сила связи очень слабая."
   ]
  },
  {
   "cell_type": "markdown",
   "metadata": {},
   "source": [
    "<a class=\"anchor\" id=\"13-bullet\"></a>\n",
    "### Портрет пользователя Северной Америке"
   ]
  },
  {
   "cell_type": "markdown",
   "metadata": {
    "id": "OVgePX7vdDUB"
   },
   "source": [
    "Теперь построим аналогичный датафрейм для пользователей из Северной Америке"
   ]
  },
  {
   "cell_type": "code",
   "execution_count": 81,
   "metadata": {
    "id": "q1ukjqm7c7FT"
   },
   "outputs": [
    {
     "data": {
      "text/html": [
       "<div>\n",
       "<style scoped>\n",
       "    .dataframe tbody tr th:only-of-type {\n",
       "        vertical-align: middle;\n",
       "    }\n",
       "\n",
       "    .dataframe tbody tr th {\n",
       "        vertical-align: top;\n",
       "    }\n",
       "\n",
       "    .dataframe thead th {\n",
       "        text-align: right;\n",
       "    }\n",
       "</style>\n",
       "<table border=\"1\" class=\"dataframe\">\n",
       "  <thead>\n",
       "    <tr style=\"text-align: right;\">\n",
       "      <th></th>\n",
       "      <th>na_sales</th>\n",
       "      <th>share</th>\n",
       "    </tr>\n",
       "    <tr>\n",
       "      <th>platform</th>\n",
       "      <th></th>\n",
       "      <th></th>\n",
       "    </tr>\n",
       "  </thead>\n",
       "  <tbody>\n",
       "    <tr>\n",
       "      <th>X360</th>\n",
       "      <td>140.05</td>\n",
       "      <td>23.698326</td>\n",
       "    </tr>\n",
       "    <tr>\n",
       "      <th>PS4</th>\n",
       "      <td>108.74</td>\n",
       "      <td>18.400257</td>\n",
       "    </tr>\n",
       "    <tr>\n",
       "      <th>PS3</th>\n",
       "      <td>103.38</td>\n",
       "      <td>17.493274</td>\n",
       "    </tr>\n",
       "    <tr>\n",
       "      <th>XOne</th>\n",
       "      <td>93.12</td>\n",
       "      <td>15.757145</td>\n",
       "    </tr>\n",
       "    <tr>\n",
       "      <th>3DS</th>\n",
       "      <td>55.31</td>\n",
       "      <td>9.359189</td>\n",
       "    </tr>\n",
       "  </tbody>\n",
       "</table>\n",
       "</div>"
      ],
      "text/plain": [
       "          na_sales      share\n",
       "platform                     \n",
       "X360        140.05  23.698326\n",
       "PS4         108.74  18.400257\n",
       "PS3         103.38  17.493274\n",
       "XOne         93.12  15.757145\n",
       "3DS          55.31   9.359189"
      ]
     },
     "metadata": {},
     "output_type": "display_data"
    }
   ],
   "source": [
    "na_plat_pivot=df_new.pivot_table(index='platform',values='na_sales',aggfunc='sum')\n",
    "na_plat_pivot['share']=(na_plat_pivot['na_sales']/na_plat_pivot['na_sales'].sum())*100\n",
    "display(na_plat_pivot.sort_values(by='na_sales',ascending=False).head(5))\n"
   ]
  },
  {
   "cell_type": "markdown",
   "metadata": {
    "id": "CsgKPM0Ngdq8"
   },
   "source": [
    "Результаты, почти индентичны с Европой - в лидерах приставки от крупных гигатнов, только тут самая популярная XBox 360, а не PS4, а единственная популярная портативная - Nintendo 3Ds.\n",
    "\n",
    "Теперь посмотрим на самые популярные жанры игр в Северной Америке"
   ]
  },
  {
   "cell_type": "code",
   "execution_count": 82,
   "metadata": {},
   "outputs": [
    {
     "data": {
      "text/html": [
       "<div>\n",
       "<style scoped>\n",
       "    .dataframe tbody tr th:only-of-type {\n",
       "        vertical-align: middle;\n",
       "    }\n",
       "\n",
       "    .dataframe tbody tr th {\n",
       "        vertical-align: top;\n",
       "    }\n",
       "\n",
       "    .dataframe thead th {\n",
       "        text-align: right;\n",
       "    }\n",
       "</style>\n",
       "<table border=\"1\" class=\"dataframe\">\n",
       "  <thead>\n",
       "    <tr style=\"text-align: right;\">\n",
       "      <th></th>\n",
       "      <th>na_sales</th>\n",
       "      <th>share</th>\n",
       "    </tr>\n",
       "    <tr>\n",
       "      <th>genre</th>\n",
       "      <th></th>\n",
       "      <th></th>\n",
       "    </tr>\n",
       "  </thead>\n",
       "  <tbody>\n",
       "    <tr>\n",
       "      <th>Action</th>\n",
       "      <td>177.84</td>\n",
       "      <td>30.092898</td>\n",
       "    </tr>\n",
       "    <tr>\n",
       "      <th>Shooter</th>\n",
       "      <td>144.77</td>\n",
       "      <td>24.497013</td>\n",
       "    </tr>\n",
       "    <tr>\n",
       "      <th>Sports</th>\n",
       "      <td>81.53</td>\n",
       "      <td>13.795963</td>\n",
       "    </tr>\n",
       "    <tr>\n",
       "      <th>Role-Playing</th>\n",
       "      <td>64.00</td>\n",
       "      <td>10.829653</td>\n",
       "    </tr>\n",
       "    <tr>\n",
       "      <th>Misc</th>\n",
       "      <td>38.19</td>\n",
       "      <td>6.462257</td>\n",
       "    </tr>\n",
       "  </tbody>\n",
       "</table>\n",
       "</div>"
      ],
      "text/plain": [
       "              na_sales      share\n",
       "genre                            \n",
       "Action          177.84  30.092898\n",
       "Shooter         144.77  24.497013\n",
       "Sports           81.53  13.795963\n",
       "Role-Playing     64.00  10.829653\n",
       "Misc             38.19   6.462257"
      ]
     },
     "metadata": {},
     "output_type": "display_data"
    }
   ],
   "source": [
    "na_game_pivot=df_new.pivot_table(index='genre',values='na_sales',aggfunc='sum')\n",
    "na_game_pivot['share']=(na_game_pivot['na_sales']/na_game_pivot['na_sales'].sum())*100\n",
    "display(na_game_pivot.sort_values(by='na_sales',ascending=False).head(5))"
   ]
  },
  {
   "cell_type": "markdown",
   "metadata": {},
   "source": [
    "Наиболее попуярные - Action и Шутеры а также Sport и Role-Playing, у них более 80% от всех продаж. В цедлом топ-4 игры совпадают с теми же самыми в Европе.\n",
    "\n",
    "Теперь также посчитаем корреляцию между рейтингом и продажами"
   ]
  },
  {
   "cell_type": "code",
   "execution_count": 83,
   "metadata": {},
   "outputs": [
    {
     "data": {
      "text/html": [
       "<div>\n",
       "<style scoped>\n",
       "    .dataframe tbody tr th:only-of-type {\n",
       "        vertical-align: middle;\n",
       "    }\n",
       "\n",
       "    .dataframe tbody tr th {\n",
       "        vertical-align: top;\n",
       "    }\n",
       "\n",
       "    .dataframe thead th {\n",
       "        text-align: right;\n",
       "    }\n",
       "</style>\n",
       "<table border=\"1\" class=\"dataframe\">\n",
       "  <thead>\n",
       "    <tr style=\"text-align: right;\">\n",
       "      <th></th>\n",
       "      <th>sales</th>\n",
       "      <th>rate</th>\n",
       "    </tr>\n",
       "    <tr>\n",
       "      <th>rating</th>\n",
       "      <th></th>\n",
       "      <th></th>\n",
       "    </tr>\n",
       "  </thead>\n",
       "  <tbody>\n",
       "    <tr>\n",
       "      <th>E</th>\n",
       "      <td>114.37</td>\n",
       "      <td>0</td>\n",
       "    </tr>\n",
       "    <tr>\n",
       "      <th>E10+</th>\n",
       "      <td>75.70</td>\n",
       "      <td>1</td>\n",
       "    </tr>\n",
       "    <tr>\n",
       "      <th>M</th>\n",
       "      <td>231.57</td>\n",
       "      <td>2</td>\n",
       "    </tr>\n",
       "    <tr>\n",
       "      <th>NR</th>\n",
       "      <td>103.31</td>\n",
       "      <td>3</td>\n",
       "    </tr>\n",
       "    <tr>\n",
       "      <th>T</th>\n",
       "      <td>66.02</td>\n",
       "      <td>4</td>\n",
       "    </tr>\n",
       "  </tbody>\n",
       "</table>\n",
       "</div>"
      ],
      "text/plain": [
       "         sales  rate\n",
       "rating              \n",
       "E       114.37     0\n",
       "E10+     75.70     1\n",
       "M       231.57     2\n",
       "NR      103.31     3\n",
       "T        66.02     4"
      ]
     },
     "metadata": {},
     "output_type": "display_data"
    }
   ],
   "source": [
    "na_rating_pivot=df_new.pivot_table(index='rating',values='na_sales',aggfunc='sum')\n",
    "na_rating_pivot['index'] = na_rating_pivot.index\n",
    "na_rating_pivot.columns=('sales','rate')\n",
    "na_rating_pivot['rate']=na_rating_pivot['rate'].astype('category').cat.codes \n",
    "display(na_rating_pivot)"
   ]
  },
  {
   "cell_type": "code",
   "execution_count": 84,
   "metadata": {},
   "outputs": [
    {
     "data": {
      "text/plain": [
       "(-0.16460202085746112, 0.7913724591549205)"
      ]
     },
     "metadata": {},
     "output_type": "display_data"
    }
   ],
   "source": [
    "corr_na_rat=scipy.stats.pearsonr(na_rating_pivot['rate'], na_rating_pivot['sales'])\n",
    "display(corr_na_rat)"
   ]
  },
  {
   "cell_type": "markdown",
   "metadata": {},
   "source": [
    "Корреляция слабая и при p-value=0,05 незначимая - зависимости нет"
   ]
  },
  {
   "cell_type": "markdown",
   "metadata": {},
   "source": [
    "<a class=\"anchor\" id=\"14-bullet\"></a>\n",
    "### Портрет пользователя Японии"
   ]
  },
  {
   "cell_type": "markdown",
   "metadata": {},
   "source": [
    "Теперь построим аналогичные датафреймы для  Японии"
   ]
  },
  {
   "cell_type": "code",
   "execution_count": 85,
   "metadata": {},
   "outputs": [
    {
     "data": {
      "text/html": [
       "<div>\n",
       "<style scoped>\n",
       "    .dataframe tbody tr th:only-of-type {\n",
       "        vertical-align: middle;\n",
       "    }\n",
       "\n",
       "    .dataframe tbody tr th {\n",
       "        vertical-align: top;\n",
       "    }\n",
       "\n",
       "    .dataframe thead th {\n",
       "        text-align: right;\n",
       "    }\n",
       "</style>\n",
       "<table border=\"1\" class=\"dataframe\">\n",
       "  <thead>\n",
       "    <tr style=\"text-align: right;\">\n",
       "      <th></th>\n",
       "      <th>jp_sales</th>\n",
       "      <th>share</th>\n",
       "    </tr>\n",
       "    <tr>\n",
       "      <th>platform</th>\n",
       "      <th></th>\n",
       "      <th></th>\n",
       "    </tr>\n",
       "  </thead>\n",
       "  <tbody>\n",
       "    <tr>\n",
       "      <th>3DS</th>\n",
       "      <td>87.79</td>\n",
       "      <td>45.586250</td>\n",
       "    </tr>\n",
       "    <tr>\n",
       "      <th>PS3</th>\n",
       "      <td>35.29</td>\n",
       "      <td>18.324852</td>\n",
       "    </tr>\n",
       "    <tr>\n",
       "      <th>PSV</th>\n",
       "      <td>21.04</td>\n",
       "      <td>10.925330</td>\n",
       "    </tr>\n",
       "    <tr>\n",
       "      <th>PS4</th>\n",
       "      <td>15.96</td>\n",
       "      <td>8.287465</td>\n",
       "    </tr>\n",
       "    <tr>\n",
       "      <th>WiiU</th>\n",
       "      <td>13.01</td>\n",
       "      <td>6.755634</td>\n",
       "    </tr>\n",
       "  </tbody>\n",
       "</table>\n",
       "</div>"
      ],
      "text/plain": [
       "          jp_sales      share\n",
       "platform                     \n",
       "3DS          87.79  45.586250\n",
       "PS3          35.29  18.324852\n",
       "PSV          21.04  10.925330\n",
       "PS4          15.96   8.287465\n",
       "WiiU         13.01   6.755634"
      ]
     },
     "metadata": {},
     "output_type": "display_data"
    }
   ],
   "source": [
    "jp_plat_pivot=df_new.pivot_table(index='platform',values='jp_sales',aggfunc='sum')\n",
    "jp_plat_pivot['share']=(jp_plat_pivot['jp_sales']/jp_plat_pivot['jp_sales'].sum())*100\n",
    "display(jp_plat_pivot.sort_values(by='jp_sales',ascending=False).head(5))\n"
   ]
  },
  {
   "cell_type": "markdown",
   "metadata": {},
   "source": [
    "Нинтендо - абсолютный лидер с долей 45%, также мы видим, что тут есть вторая компактная приставка Vita, но PS3 и PS4 также популярны. Стоит заметить, что в лидерах только японские компании - очень высокий уровень патриотизма."
   ]
  },
  {
   "cell_type": "code",
   "execution_count": 86,
   "metadata": {},
   "outputs": [
    {
     "data": {
      "text/html": [
       "<div>\n",
       "<style scoped>\n",
       "    .dataframe tbody tr th:only-of-type {\n",
       "        vertical-align: middle;\n",
       "    }\n",
       "\n",
       "    .dataframe tbody tr th {\n",
       "        vertical-align: top;\n",
       "    }\n",
       "\n",
       "    .dataframe thead th {\n",
       "        text-align: right;\n",
       "    }\n",
       "</style>\n",
       "<table border=\"1\" class=\"dataframe\">\n",
       "  <thead>\n",
       "    <tr style=\"text-align: right;\">\n",
       "      <th></th>\n",
       "      <th>jp_sales</th>\n",
       "      <th>share</th>\n",
       "    </tr>\n",
       "    <tr>\n",
       "      <th>genre</th>\n",
       "      <th></th>\n",
       "      <th></th>\n",
       "    </tr>\n",
       "  </thead>\n",
       "  <tbody>\n",
       "    <tr>\n",
       "      <th>Role-Playing</th>\n",
       "      <td>65.44</td>\n",
       "      <td>33.980683</td>\n",
       "    </tr>\n",
       "    <tr>\n",
       "      <th>Action</th>\n",
       "      <td>52.80</td>\n",
       "      <td>27.417177</td>\n",
       "    </tr>\n",
       "    <tr>\n",
       "      <th>Misc</th>\n",
       "      <td>12.86</td>\n",
       "      <td>6.677744</td>\n",
       "    </tr>\n",
       "    <tr>\n",
       "      <th>Simulation</th>\n",
       "      <td>10.41</td>\n",
       "      <td>5.405546</td>\n",
       "    </tr>\n",
       "    <tr>\n",
       "      <th>Fighting</th>\n",
       "      <td>9.44</td>\n",
       "      <td>4.901859</td>\n",
       "    </tr>\n",
       "  </tbody>\n",
       "</table>\n",
       "</div>"
      ],
      "text/plain": [
       "              jp_sales      share\n",
       "genre                            \n",
       "Role-Playing     65.44  33.980683\n",
       "Action           52.80  27.417177\n",
       "Misc             12.86   6.677744\n",
       "Simulation       10.41   5.405546\n",
       "Fighting          9.44   4.901859"
      ]
     },
     "metadata": {},
     "output_type": "display_data"
    }
   ],
   "source": [
    "jp_game_pivot=df_new.pivot_table(index='genre',values='jp_sales',aggfunc='sum')\n",
    "jp_game_pivot['share']=(jp_game_pivot['jp_sales']/jp_game_pivot['jp_sales'].sum())*100\n",
    "display(jp_game_pivot.sort_values(by='jp_sales',ascending=False).head(5))"
   ]
  },
  {
   "cell_type": "markdown",
   "metadata": {},
   "source": [
    "Популярные жанры очень сильно отличаются от Европы и Северной Америке - здесь самые популярные Role-Playing, Misc, Simulaion и Fighting. Единственный жанр игр, которая фигурирует во всех трех региона - это Action, которое занимает второе место по продажам в Японии.\n",
    "\n",
    "Проверим также гипотезу о влияние рейтинга на продажу игр"
   ]
  },
  {
   "cell_type": "code",
   "execution_count": 87,
   "metadata": {},
   "outputs": [
    {
     "data": {
      "text/html": [
       "<div>\n",
       "<style scoped>\n",
       "    .dataframe tbody tr th:only-of-type {\n",
       "        vertical-align: middle;\n",
       "    }\n",
       "\n",
       "    .dataframe tbody tr th {\n",
       "        vertical-align: top;\n",
       "    }\n",
       "\n",
       "    .dataframe thead th {\n",
       "        text-align: right;\n",
       "    }\n",
       "</style>\n",
       "<table border=\"1\" class=\"dataframe\">\n",
       "  <thead>\n",
       "    <tr style=\"text-align: right;\">\n",
       "      <th></th>\n",
       "      <th>sales</th>\n",
       "      <th>rate</th>\n",
       "    </tr>\n",
       "    <tr>\n",
       "      <th>rating</th>\n",
       "      <th></th>\n",
       "      <th></th>\n",
       "    </tr>\n",
       "  </thead>\n",
       "  <tbody>\n",
       "    <tr>\n",
       "      <th>E</th>\n",
       "      <td>28.33</td>\n",
       "      <td>0</td>\n",
       "    </tr>\n",
       "    <tr>\n",
       "      <th>E10+</th>\n",
       "      <td>8.19</td>\n",
       "      <td>1</td>\n",
       "    </tr>\n",
       "    <tr>\n",
       "      <th>M</th>\n",
       "      <td>21.20</td>\n",
       "      <td>2</td>\n",
       "    </tr>\n",
       "    <tr>\n",
       "      <th>NR</th>\n",
       "      <td>108.84</td>\n",
       "      <td>3</td>\n",
       "    </tr>\n",
       "    <tr>\n",
       "      <th>T</th>\n",
       "      <td>26.02</td>\n",
       "      <td>4</td>\n",
       "    </tr>\n",
       "  </tbody>\n",
       "</table>\n",
       "</div>"
      ],
      "text/plain": [
       "         sales  rate\n",
       "rating              \n",
       "E        28.33     0\n",
       "E10+      8.19     1\n",
       "M        21.20     2\n",
       "NR      108.84     3\n",
       "T        26.02     4"
      ]
     },
     "metadata": {},
     "output_type": "display_data"
    }
   ],
   "source": [
    "jp_rating_pivot=df_new.pivot_table(index='rating',values='jp_sales',aggfunc='sum')\n",
    "jp_rating_pivot['index'] = jp_rating_pivot.index\n",
    "jp_rating_pivot.columns=('sales','rate')\n",
    "jp_rating_pivot['rate']=jp_rating_pivot['rate'].astype('category').cat.codes \n",
    "display(jp_rating_pivot)"
   ]
  },
  {
   "cell_type": "code",
   "execution_count": 88,
   "metadata": {},
   "outputs": [
    {
     "data": {
      "text/plain": [
       "(0.37885622541845804, 0.5294267882977919)"
      ]
     },
     "metadata": {},
     "output_type": "display_data"
    }
   ],
   "source": [
    "corr_jp_rat=scipy.stats.pearsonr(jp_rating_pivot['rate'], jp_rating_pivot['sales'])\n",
    "display(corr_jp_rat)"
   ]
  },
  {
   "cell_type": "markdown",
   "metadata": {},
   "source": [
    "Корреляция не значимая на уровне p-value - рейтинг не оказыает никакого влияния на продажу игр в Японии. Но мы также можем сказать, что самые \"большие\" продажи приходятся на игры без рейтинга - возможно система рейтинга в Японии несколько другая чем в Европе и Северной Америке"
   ]
  },
  {
   "cell_type": "markdown",
   "metadata": {},
   "source": [
    "<a class=\"anchor\" id=\"15-bullet\"></a>\n",
    "### Вывод по Части 3"
   ]
  },
  {
   "cell_type": "markdown",
   "metadata": {},
   "source": [
    "1. Рынки Европы и Северной Америке очень похожи между собой по самым популярным приставкам и жанрам игр, тогда как Япония выделяется - например, здесь самая популярная приставка - портативная\n",
    "2. Если мы хотим поставить на универсальность - то лучше всего инвестировать в приставки 3DS и PS3/PS4  и игры жанра Action - они популряны во всех трех регионах. Также в Америке и Европе можно сделать акцент на Шутерах и Спорте, тогда как в Японии на играх Role-Playing и Misc\n",
    "3. А вот рейтинг ESRB не оказывает никакого влияния на продажу игр во всех трех регионах - но в Японии на игры без рейтинга приходятся самые большие продажи"
   ]
  },
  {
   "cell_type": "markdown",
   "metadata": {},
   "source": [
    "## Проверка гипотез"
   ]
  },
  {
   "cell_type": "markdown",
   "metadata": {},
   "source": [
    "<a class=\"anchor\" id=\"16-bullet\"></a>\n",
    "### Средние пользовательские рейтинги платформ Xbox One и PC одинаковые"
   ]
  },
  {
   "cell_type": "markdown",
   "metadata": {},
   "source": [
    "Для начала проверим гипотезу, о рейтингах. В этом вопросе нулевая гипотеза будет что средние пользовательские рейтинги платформ Xbox One и PC одинаковые. Помним, что в значениях есть Nan - удалим их с помощью query\n",
    "\n",
    "Альтернативная - что пользовательские рейтинги не равны. Подготовим дата фреймы,а  потом используем ttest. \n",
    "\n",
    "P-value - 0.05, так как она обычно применяется в такого вида исследованиях"
   ]
  },
  {
   "cell_type": "code",
   "execution_count": 89,
   "metadata": {},
   "outputs": [],
   "source": [
    "xboxone_df=df_new.query('platform==\"XOne\" & user_score.notna()') #датафрейм для XBox One, где заполнены оценки пользователей\n",
    "pc_df=df_new.query('platform==\"PC\"& user_score.notna()')#датафрейм для PC,где заполнены оценки пользователей"
   ]
  },
  {
   "cell_type": "code",
   "execution_count": 90,
   "metadata": {},
   "outputs": [
    {
     "name": "stdout",
     "output_type": "stream",
     "text": [
      "p-значение:  0.5535080500643661\n",
      "Не получилось отвергнуть нулевую гипотезу\n"
     ]
    }
   ],
   "source": [
    "from scipy import stats as st\n",
    "import numpy as np\n",
    "alpha = .05 # критический уровень статистической значимости\n",
    "# если p-value окажется меньше него - отвегнем гипотезу\n",
    "\n",
    "results = st.ttest_ind(\n",
    "    xboxone_df['user_score'], \n",
    "    pc_df['user_score'])\n",
    "\n",
    "print('p-значение: ', results.pvalue)\n",
    "\n",
    "if results.pvalue < alpha:\n",
    "    print(\"Отвергаем нулевую гипотезу\")\n",
    "else:\n",
    "    print(\"Не получилось отвергнуть нулевую гипотезу\") \n",
    "\n"
   ]
  },
  {
   "cell_type": "markdown",
   "metadata": {},
   "source": [
    "Принимаем нулевую гипотезу - средние значения на обоих платформах равны."
   ]
  },
  {
   "cell_type": "markdown",
   "metadata": {},
   "source": [
    "<a class=\"anchor\" id=\"17-bullet\"></a>\n",
    "### Средние пользовательские рейтинги жанров Action (англ. «действие», экшен-игры) и Sports (англ. «спортивные соревнования») разные"
   ]
  },
  {
   "cell_type": "markdown",
   "metadata": {},
   "source": [
    "В этом вопросе нулевая гипотеза будет что средние пользовательские рейтинги жанров Action и Sports одинаковые. \n",
    "\n",
    "При создании срезов также необходимо отобрать значения без nan\n",
    "\n",
    "Альтернативная - что пользовательские рейтинги не равны. Подготовим дата фреймы,а  потом используем ttest. \n",
    "\n",
    "Также проверим равенство дисперсий - если различаются, используем equal_var=False\n",
    "\n",
    "p-value - 0.05, так как она обычно применяется в такого вида исследованиях"
   ]
  },
  {
   "cell_type": "code",
   "execution_count": 91,
   "metadata": {},
   "outputs": [],
   "source": [
    "action_df=df_new.query('genre==\"Action\" & user_score.notna()')\n",
    "sports_df=df_new.query('genre==\"Sports\"& user_score.notna()')"
   ]
  },
  {
   "cell_type": "code",
   "execution_count": 92,
   "metadata": {},
   "outputs": [
    {
     "data": {
      "text/plain": [
       "1.8890840494348111"
      ]
     },
     "metadata": {},
     "output_type": "display_data"
    }
   ],
   "source": [
    "variance_query_action= np.var(action_df['user_score'],ddof=1) #так как выборка\n",
    "display(variance_query_action)"
   ]
  },
  {
   "cell_type": "code",
   "execution_count": 93,
   "metadata": {},
   "outputs": [
    {
     "data": {
      "text/plain": [
       "3.022890298704732"
      ]
     },
     "metadata": {},
     "output_type": "display_data"
    }
   ],
   "source": [
    "sports_df_var= np.var(sports_df['user_score'],ddof=1) #так как выборка\n",
    "display(sports_df_var) #дисперсии отличаются - возьмем qual_var = False"
   ]
  },
  {
   "cell_type": "code",
   "execution_count": 94,
   "metadata": {},
   "outputs": [
    {
     "name": "stdout",
     "output_type": "stream",
     "text": [
      "p-значение:  4.24307776572644e-20\n",
      "Отвергаем нулевую гипотезу\n"
     ]
    }
   ],
   "source": [
    "from scipy import stats as st\n",
    "import numpy as np\n",
    "\n",
    "alpha = .05 # критический уровень статистической значимости\n",
    "# если p-value окажется меньше него - отвегнем гипотезу\n",
    "\n",
    "results = st.ttest_ind(\n",
    "    action_df['user_score'], \n",
    "    sports_df['user_score'], equal_var = False)\n",
    "\n",
    "print('p-значение: ', results.pvalue)\n",
    "\n",
    "if results.pvalue < alpha:\n",
    "    print(\"Отвергаем нулевую гипотезу\")\n",
    "else:\n",
    "    print(\"Не получилось отвергнуть нулевую гипотезу\") \n",
    "\n"
   ]
  },
  {
   "cell_type": "markdown",
   "metadata": {},
   "source": [
    "Отвергаем нулевую гипотезу - рейтинги  двух жанров не равны."
   ]
  },
  {
   "cell_type": "markdown",
   "metadata": {},
   "source": [
    "<a class=\"anchor\" id=\"18-bullet\"></a>\n",
    "### Вывод по Части 4"
   ]
  },
  {
   "cell_type": "markdown",
   "metadata": {},
   "source": [
    "1. Нулевая гипотеза, о том что средний пользовательский рейтинг платформ XBox One и PC равный оказалось корректной - мы ее принимаем\n",
    "2. А вот нулевая гипотеза про равный пользовательский рейтинг между жанрами action и sports не подтвердилась - оценки оказались разные."
   ]
  },
  {
   "cell_type": "markdown",
   "metadata": {},
   "source": [
    "<a class=\"anchor\" id=\"19-bullet\"></a>\n",
    "## Общий вывод"
   ]
  },
  {
   "cell_type": "markdown",
   "metadata": {},
   "source": [
    "<big><b>В данном проекте были выполнены следующие цели:</b></big>\n",
    "* проанализирован датафрейм и исправлен тип данных\n",
    "* выбран прогнозный период и проанализированы различные аспекты выборки\n",
    "* проанализированы пользователи трех различных регионов на предмет их предпочтений\n",
    "* проверены две гипотезы\n",
    "\n",
    "<big><b>Выводы:</b></big>\n",
    "1. Сейчас на рынке мы наблюдаем спад - как в финансовом плане, так и в плане количества игр - скорее всего спад продолжится и в 2017 году, поэтому для анализа наши реферетные значения -2012 по 2016 года.\n",
    "2. Средний срок службы платформы 10 лет, потому ее заменяет более современный аналог. Например, PS2 заменила PS3, а ее потом PS4. Поэтому сейчас наиболее перспективные приставки: XBox One, PS4, Nintendo 3Ds, PS Vita и PC(вечная классика)\n",
    "3. Оценки критиков влияют на выбор пользователя почти во всех платформах, а вот оценки других пользователей - нет\n",
    "4. Клиенты из Северной Америке и Европы очень похожи в своих предпочтениях, а жители Японии отличаются\n",
    "5. В целом, жанры по платформам не особо различаются, за исключением 3DS\n",
    "6. Средние пользовательские рейтинги на платформе XBox One и PC - одинаковые \n",
    "7. А вот средние пользовательские рейтинги между жанрами Action и Sport - нет\n",
    " \n",
    "<big><b>Советы для запуска рекламных компаний в 2017 году:</b></big>\n",
    "1. Рынок скорее всего также будет пребывать в рецессии, поэтому глобальных закупок делать не стоит\n",
    "2. С точки зрения платформа лучше отдать бОльшей приоретет XBox One, PS4 и Nintendo DS\n",
    "3. С точки зрения игр - лучше завозить жанры Shooter, Action (два самых популярных), спортивные игры и Role-Playing, а также Платформеры.\n",
    "4. Можно прикреплять оценки критиков в прероллы или рекламные посты - больше вероятность, что пользователи обратять внимание\n",
    "5. Рекламу между регионам EU и NA можно не диверсифицировать, а вот для Японии лучше сделать свою - с акецнтом на портативные  консоли и жанр Role-Playing.\n",
    "\n"
   ]
  }
 ],
 "metadata": {
  "ExecuteTimeLog": [
   {
    "duration": 813,
    "start_time": "2022-03-09T08:37:35.232Z"
   },
   {
    "duration": 629,
    "start_time": "2022-03-09T12:46:12.117Z"
   },
   {
    "duration": 20,
    "start_time": "2022-03-09T12:46:12.748Z"
   },
   {
    "duration": 10,
    "start_time": "2022-03-09T12:46:13.609Z"
   },
   {
    "duration": 3,
    "start_time": "2022-03-09T12:48:57.713Z"
   },
   {
    "duration": 10,
    "start_time": "2022-03-09T12:48:58.401Z"
   },
   {
    "duration": 37,
    "start_time": "2022-03-09T13:08:46.140Z"
   },
   {
    "duration": 12,
    "start_time": "2022-03-09T13:08:46.179Z"
   },
   {
    "duration": 13,
    "start_time": "2022-03-09T13:08:46.193Z"
   },
   {
    "duration": 5,
    "start_time": "2022-03-09T13:08:46.208Z"
   },
   {
    "duration": 25,
    "start_time": "2022-03-09T13:08:46.215Z"
   },
   {
    "duration": 24,
    "start_time": "2022-03-09T13:08:46.243Z"
   },
   {
    "duration": 6,
    "start_time": "2022-03-09T13:08:46.269Z"
   },
   {
    "duration": 8,
    "start_time": "2022-03-09T13:08:46.277Z"
   },
   {
    "duration": 52,
    "start_time": "2022-03-09T13:08:46.287Z"
   },
   {
    "duration": 6,
    "start_time": "2022-03-09T13:08:46.343Z"
   },
   {
    "duration": 11,
    "start_time": "2022-03-09T13:08:46.351Z"
   },
   {
    "duration": 10,
    "start_time": "2022-03-09T13:08:46.364Z"
   },
   {
    "duration": 8,
    "start_time": "2022-03-09T13:08:46.376Z"
   },
   {
    "duration": 10,
    "start_time": "2022-03-09T13:08:46.385Z"
   },
   {
    "duration": 7,
    "start_time": "2022-03-09T13:08:46.432Z"
   },
   {
    "duration": 17,
    "start_time": "2022-03-09T13:08:46.442Z"
   },
   {
    "duration": 8,
    "start_time": "2022-03-09T13:08:46.461Z"
   },
   {
    "duration": 259,
    "start_time": "2022-03-09T13:08:46.471Z"
   },
   {
    "duration": -413,
    "start_time": "2022-03-09T13:08:47.147Z"
   },
   {
    "duration": -417,
    "start_time": "2022-03-09T13:08:47.154Z"
   },
   {
    "duration": -419,
    "start_time": "2022-03-09T13:08:47.158Z"
   },
   {
    "duration": -422,
    "start_time": "2022-03-09T13:08:47.163Z"
   },
   {
    "duration": -427,
    "start_time": "2022-03-09T13:08:47.169Z"
   },
   {
    "duration": -429,
    "start_time": "2022-03-09T13:08:47.173Z"
   },
   {
    "duration": -432,
    "start_time": "2022-03-09T13:08:47.177Z"
   },
   {
    "duration": -437,
    "start_time": "2022-03-09T13:08:47.184Z"
   },
   {
    "duration": -449,
    "start_time": "2022-03-09T13:08:47.199Z"
   },
   {
    "duration": -454,
    "start_time": "2022-03-09T13:08:47.206Z"
   },
   {
    "duration": -458,
    "start_time": "2022-03-09T13:08:47.211Z"
   },
   {
    "duration": -462,
    "start_time": "2022-03-09T13:08:47.216Z"
   },
   {
    "duration": -465,
    "start_time": "2022-03-09T13:08:47.221Z"
   },
   {
    "duration": -467,
    "start_time": "2022-03-09T13:08:47.224Z"
   },
   {
    "duration": -468,
    "start_time": "2022-03-09T13:08:47.227Z"
   },
   {
    "duration": -471,
    "start_time": "2022-03-09T13:08:47.231Z"
   },
   {
    "duration": -474,
    "start_time": "2022-03-09T13:08:47.235Z"
   },
   {
    "duration": -478,
    "start_time": "2022-03-09T13:08:47.240Z"
   },
   {
    "duration": -482,
    "start_time": "2022-03-09T13:08:47.245Z"
   },
   {
    "duration": -484,
    "start_time": "2022-03-09T13:08:47.249Z"
   },
   {
    "duration": -488,
    "start_time": "2022-03-09T13:08:47.254Z"
   },
   {
    "duration": -493,
    "start_time": "2022-03-09T13:08:47.259Z"
   },
   {
    "duration": -496,
    "start_time": "2022-03-09T13:08:47.263Z"
   },
   {
    "duration": -501,
    "start_time": "2022-03-09T13:08:47.268Z"
   },
   {
    "duration": -504,
    "start_time": "2022-03-09T13:08:47.272Z"
   },
   {
    "duration": -507,
    "start_time": "2022-03-09T13:08:47.276Z"
   },
   {
    "duration": -510,
    "start_time": "2022-03-09T13:08:47.279Z"
   },
   {
    "duration": -515,
    "start_time": "2022-03-09T13:08:47.285Z"
   },
   {
    "duration": -519,
    "start_time": "2022-03-09T13:08:47.289Z"
   },
   {
    "duration": -522,
    "start_time": "2022-03-09T13:08:47.293Z"
   },
   {
    "duration": -537,
    "start_time": "2022-03-09T13:08:47.308Z"
   },
   {
    "duration": -540,
    "start_time": "2022-03-09T13:08:47.312Z"
   },
   {
    "duration": -542,
    "start_time": "2022-03-09T13:08:47.315Z"
   },
   {
    "duration": -546,
    "start_time": "2022-03-09T13:08:47.320Z"
   },
   {
    "duration": -548,
    "start_time": "2022-03-09T13:08:47.323Z"
   },
   {
    "duration": -550,
    "start_time": "2022-03-09T13:08:47.326Z"
   },
   {
    "duration": -552,
    "start_time": "2022-03-09T13:08:47.329Z"
   },
   {
    "duration": -555,
    "start_time": "2022-03-09T13:08:47.333Z"
   },
   {
    "duration": -505,
    "start_time": "2022-03-09T13:08:47.337Z"
   },
   {
    "duration": -506,
    "start_time": "2022-03-09T13:08:47.340Z"
   },
   {
    "duration": -504,
    "start_time": "2022-03-09T13:08:47.342Z"
   },
   {
    "duration": -505,
    "start_time": "2022-03-09T13:08:47.345Z"
   },
   {
    "duration": -506,
    "start_time": "2022-03-09T13:08:47.348Z"
   },
   {
    "duration": -508,
    "start_time": "2022-03-09T13:08:47.351Z"
   },
   {
    "duration": -511,
    "start_time": "2022-03-09T13:08:47.356Z"
   },
   {
    "duration": -517,
    "start_time": "2022-03-09T13:08:47.363Z"
   },
   {
    "duration": -521,
    "start_time": "2022-03-09T13:08:47.368Z"
   },
   {
    "duration": -527,
    "start_time": "2022-03-09T13:08:47.374Z"
   },
   {
    "duration": -531,
    "start_time": "2022-03-09T13:08:47.379Z"
   },
   {
    "duration": -536,
    "start_time": "2022-03-09T13:08:47.385Z"
   },
   {
    "duration": -541,
    "start_time": "2022-03-09T13:08:47.390Z"
   },
   {
    "duration": -544,
    "start_time": "2022-03-09T13:08:47.394Z"
   },
   {
    "duration": -547,
    "start_time": "2022-03-09T13:08:47.397Z"
   },
   {
    "duration": -550,
    "start_time": "2022-03-09T13:08:47.401Z"
   },
   {
    "duration": -552,
    "start_time": "2022-03-09T13:08:47.404Z"
   },
   {
    "duration": -566,
    "start_time": "2022-03-09T13:08:47.418Z"
   },
   {
    "duration": -569,
    "start_time": "2022-03-09T13:08:47.422Z"
   },
   {
    "duration": 218,
    "start_time": "2022-03-09T13:10:01.747Z"
   },
   {
    "duration": 10,
    "start_time": "2022-03-09T13:10:24.248Z"
   },
   {
    "duration": 9,
    "start_time": "2022-03-09T13:10:25.848Z"
   },
   {
    "duration": 18,
    "start_time": "2022-03-09T13:10:27.690Z"
   },
   {
    "duration": 7,
    "start_time": "2022-03-09T13:10:28.678Z"
   },
   {
    "duration": 627,
    "start_time": "2022-03-09T13:10:48.511Z"
   },
   {
    "duration": 25,
    "start_time": "2022-03-09T13:10:49.141Z"
   },
   {
    "duration": 9,
    "start_time": "2022-03-09T13:10:49.169Z"
   },
   {
    "duration": 3,
    "start_time": "2022-03-09T13:10:49.180Z"
   },
   {
    "duration": 11,
    "start_time": "2022-03-09T13:10:49.185Z"
   },
   {
    "duration": 50,
    "start_time": "2022-03-09T13:10:49.197Z"
   },
   {
    "duration": 6,
    "start_time": "2022-03-09T13:10:49.250Z"
   },
   {
    "duration": 9,
    "start_time": "2022-03-09T13:10:49.258Z"
   },
   {
    "duration": 11,
    "start_time": "2022-03-09T13:10:49.270Z"
   },
   {
    "duration": 5,
    "start_time": "2022-03-09T13:10:49.283Z"
   },
   {
    "duration": 9,
    "start_time": "2022-03-09T13:10:49.289Z"
   },
   {
    "duration": 38,
    "start_time": "2022-03-09T13:10:49.300Z"
   },
   {
    "duration": 13,
    "start_time": "2022-03-09T13:10:49.340Z"
   },
   {
    "duration": 13,
    "start_time": "2022-03-09T13:10:49.355Z"
   },
   {
    "duration": 5,
    "start_time": "2022-03-09T13:10:49.370Z"
   },
   {
    "duration": 5,
    "start_time": "2022-03-09T13:10:49.377Z"
   },
   {
    "duration": 5,
    "start_time": "2022-03-09T13:10:49.384Z"
   },
   {
    "duration": 51,
    "start_time": "2022-03-09T13:10:49.391Z"
   },
   {
    "duration": 12,
    "start_time": "2022-03-09T13:10:49.444Z"
   },
   {
    "duration": 16,
    "start_time": "2022-03-09T13:10:49.458Z"
   },
   {
    "duration": 6,
    "start_time": "2022-03-09T13:10:49.476Z"
   },
   {
    "duration": 9,
    "start_time": "2022-03-09T13:10:49.484Z"
   },
   {
    "duration": 9,
    "start_time": "2022-03-09T13:10:49.495Z"
   },
   {
    "duration": 42,
    "start_time": "2022-03-09T13:10:49.505Z"
   },
   {
    "duration": 7,
    "start_time": "2022-03-09T13:10:49.549Z"
   },
   {
    "duration": 4,
    "start_time": "2022-03-09T13:10:49.558Z"
   },
   {
    "duration": 7,
    "start_time": "2022-03-09T13:10:49.566Z"
   },
   {
    "duration": 7,
    "start_time": "2022-03-09T13:10:49.576Z"
   },
   {
    "duration": 374,
    "start_time": "2022-03-09T13:10:49.585Z"
   },
   {
    "duration": 6,
    "start_time": "2022-03-09T13:10:49.960Z"
   },
   {
    "duration": 204,
    "start_time": "2022-03-09T13:10:49.968Z"
   },
   {
    "duration": 14,
    "start_time": "2022-03-09T13:10:50.173Z"
   },
   {
    "duration": 4,
    "start_time": "2022-03-09T13:10:50.188Z"
   },
   {
    "duration": 39,
    "start_time": "2022-03-09T13:10:50.194Z"
   },
   {
    "duration": 21,
    "start_time": "2022-03-09T13:10:50.236Z"
   },
   {
    "duration": 29,
    "start_time": "2022-03-09T13:10:50.259Z"
   },
   {
    "duration": 543,
    "start_time": "2022-03-09T13:10:50.290Z"
   },
   {
    "duration": -109,
    "start_time": "2022-03-09T13:10:50.945Z"
   },
   {
    "duration": -113,
    "start_time": "2022-03-09T13:10:50.952Z"
   },
   {
    "duration": -116,
    "start_time": "2022-03-09T13:10:50.957Z"
   },
   {
    "duration": -121,
    "start_time": "2022-03-09T13:10:50.963Z"
   },
   {
    "duration": -126,
    "start_time": "2022-03-09T13:10:50.969Z"
   },
   {
    "duration": -130,
    "start_time": "2022-03-09T13:10:50.975Z"
   },
   {
    "duration": -134,
    "start_time": "2022-03-09T13:10:50.980Z"
   },
   {
    "duration": -140,
    "start_time": "2022-03-09T13:10:50.987Z"
   },
   {
    "duration": -144,
    "start_time": "2022-03-09T13:10:50.992Z"
   },
   {
    "duration": -147,
    "start_time": "2022-03-09T13:10:50.996Z"
   },
   {
    "duration": -150,
    "start_time": "2022-03-09T13:10:51.000Z"
   },
   {
    "duration": -152,
    "start_time": "2022-03-09T13:10:51.003Z"
   },
   {
    "duration": -164,
    "start_time": "2022-03-09T13:10:51.017Z"
   },
   {
    "duration": -167,
    "start_time": "2022-03-09T13:10:51.021Z"
   },
   {
    "duration": -169,
    "start_time": "2022-03-09T13:10:51.024Z"
   },
   {
    "duration": -170,
    "start_time": "2022-03-09T13:10:51.026Z"
   },
   {
    "duration": -171,
    "start_time": "2022-03-09T13:10:51.029Z"
   },
   {
    "duration": -174,
    "start_time": "2022-03-09T13:10:51.033Z"
   },
   {
    "duration": -175,
    "start_time": "2022-03-09T13:10:51.036Z"
   },
   {
    "duration": -176,
    "start_time": "2022-03-09T13:10:51.039Z"
   },
   {
    "duration": -177,
    "start_time": "2022-03-09T13:10:51.041Z"
   },
   {
    "duration": -179,
    "start_time": "2022-03-09T13:10:51.044Z"
   },
   {
    "duration": -181,
    "start_time": "2022-03-09T13:10:51.047Z"
   },
   {
    "duration": -184,
    "start_time": "2022-03-09T13:10:51.051Z"
   },
   {
    "duration": -186,
    "start_time": "2022-03-09T13:10:51.054Z"
   },
   {
    "duration": -188,
    "start_time": "2022-03-09T13:10:51.057Z"
   },
   {
    "duration": -191,
    "start_time": "2022-03-09T13:10:51.060Z"
   },
   {
    "duration": -193,
    "start_time": "2022-03-09T13:10:51.063Z"
   },
   {
    "duration": -194,
    "start_time": "2022-03-09T13:10:51.065Z"
   },
   {
    "duration": -197,
    "start_time": "2022-03-09T13:10:51.069Z"
   },
   {
    "duration": -199,
    "start_time": "2022-03-09T13:10:51.072Z"
   },
   {
    "duration": -201,
    "start_time": "2022-03-09T13:10:51.075Z"
   },
   {
    "duration": -203,
    "start_time": "2022-03-09T13:10:51.078Z"
   },
   {
    "duration": -149,
    "start_time": "2022-03-09T13:10:51.081Z"
   },
   {
    "duration": -151,
    "start_time": "2022-03-09T13:10:51.085Z"
   },
   {
    "duration": -152,
    "start_time": "2022-03-09T13:10:51.088Z"
   },
   {
    "duration": -153,
    "start_time": "2022-03-09T13:10:51.090Z"
   },
   {
    "duration": -154,
    "start_time": "2022-03-09T13:10:51.093Z"
   },
   {
    "duration": 9,
    "start_time": "2022-03-09T13:11:28.213Z"
   },
   {
    "duration": 62,
    "start_time": "2022-03-09T13:17:08.115Z"
   },
   {
    "duration": 15,
    "start_time": "2022-03-09T13:18:32.276Z"
   },
   {
    "duration": 9,
    "start_time": "2022-03-09T13:18:32.934Z"
   },
   {
    "duration": 8,
    "start_time": "2022-03-09T13:18:34.500Z"
   },
   {
    "duration": 11,
    "start_time": "2022-03-09T13:18:34.901Z"
   },
   {
    "duration": 8,
    "start_time": "2022-03-09T13:18:35.295Z"
   },
   {
    "duration": 287,
    "start_time": "2022-03-09T13:18:35.664Z"
   },
   {
    "duration": 11,
    "start_time": "2022-03-09T13:18:36.514Z"
   },
   {
    "duration": 230,
    "start_time": "2022-03-09T13:18:36.861Z"
   },
   {
    "duration": 6,
    "start_time": "2022-03-09T13:18:37.517Z"
   },
   {
    "duration": 21,
    "start_time": "2022-03-09T13:18:38.436Z"
   },
   {
    "duration": 12,
    "start_time": "2022-03-09T13:18:38.703Z"
   },
   {
    "duration": 330,
    "start_time": "2022-03-09T13:18:38.972Z"
   },
   {
    "duration": 9,
    "start_time": "2022-03-09T13:18:39.975Z"
   },
   {
    "duration": 20,
    "start_time": "2022-03-09T13:18:40.430Z"
   },
   {
    "duration": 8,
    "start_time": "2022-03-09T13:18:40.661Z"
   },
   {
    "duration": 203,
    "start_time": "2022-03-09T13:18:40.882Z"
   },
   {
    "duration": 5,
    "start_time": "2022-03-09T13:18:41.921Z"
   },
   {
    "duration": 413,
    "start_time": "2022-03-09T13:18:42.114Z"
   },
   {
    "duration": 444,
    "start_time": "2022-03-09T13:18:42.529Z"
   },
   {
    "duration": 361,
    "start_time": "2022-03-09T13:18:42.975Z"
   },
   {
    "duration": 12,
    "start_time": "2022-03-09T13:18:43.338Z"
   },
   {
    "duration": 14,
    "start_time": "2022-03-09T13:18:43.352Z"
   },
   {
    "duration": 10,
    "start_time": "2022-03-09T13:18:43.757Z"
   },
   {
    "duration": 11,
    "start_time": "2022-03-09T13:18:43.952Z"
   },
   {
    "duration": 11,
    "start_time": "2022-03-09T13:18:44.166Z"
   },
   {
    "duration": 21,
    "start_time": "2022-03-09T13:18:45.015Z"
   },
   {
    "duration": 10,
    "start_time": "2022-03-09T13:18:45.220Z"
   },
   {
    "duration": 26,
    "start_time": "2022-03-09T13:18:45.648Z"
   },
   {
    "duration": 19,
    "start_time": "2022-03-09T13:18:45.834Z"
   },
   {
    "duration": 12,
    "start_time": "2022-03-09T13:18:46.219Z"
   },
   {
    "duration": 17,
    "start_time": "2022-03-09T13:18:46.631Z"
   },
   {
    "duration": 12,
    "start_time": "2022-03-09T13:18:47.045Z"
   },
   {
    "duration": 12,
    "start_time": "2022-03-09T13:18:47.458Z"
   },
   {
    "duration": 15,
    "start_time": "2022-03-09T13:18:48.668Z"
   },
   {
    "duration": 19,
    "start_time": "2022-03-09T13:18:49.050Z"
   },
   {
    "duration": 16,
    "start_time": "2022-03-09T13:18:49.460Z"
   },
   {
    "duration": 5,
    "start_time": "2022-03-09T13:18:49.865Z"
   },
   {
    "duration": 24,
    "start_time": "2022-03-09T13:18:50.431Z"
   },
   {
    "duration": 3,
    "start_time": "2022-03-09T13:18:50.846Z"
   },
   {
    "duration": 6048,
    "start_time": "2022-03-09T13:19:45.049Z"
   },
   {
    "duration": 15,
    "start_time": "2022-03-09T13:19:54.609Z"
   },
   {
    "duration": 17,
    "start_time": "2022-03-09T13:20:40.117Z"
   },
   {
    "duration": 5,
    "start_time": "2022-03-09T13:21:03.020Z"
   },
   {
    "duration": 715,
    "start_time": "2022-03-10T06:47:36.437Z"
   },
   {
    "duration": 21,
    "start_time": "2022-03-10T06:47:37.154Z"
   },
   {
    "duration": 11,
    "start_time": "2022-03-10T06:47:37.177Z"
   },
   {
    "duration": 3,
    "start_time": "2022-03-10T06:47:37.190Z"
   },
   {
    "duration": 9,
    "start_time": "2022-03-10T06:47:37.195Z"
   },
   {
    "duration": 16,
    "start_time": "2022-03-10T06:47:37.233Z"
   },
   {
    "duration": 5,
    "start_time": "2022-03-10T06:47:37.250Z"
   },
   {
    "duration": 7,
    "start_time": "2022-03-10T06:47:37.257Z"
   },
   {
    "duration": 8,
    "start_time": "2022-03-10T06:47:37.266Z"
   },
   {
    "duration": 3,
    "start_time": "2022-03-10T06:47:37.276Z"
   },
   {
    "duration": 5,
    "start_time": "2022-03-10T06:47:37.280Z"
   },
   {
    "duration": 10,
    "start_time": "2022-03-10T06:47:37.287Z"
   },
   {
    "duration": 43,
    "start_time": "2022-03-10T06:47:37.298Z"
   },
   {
    "duration": 11,
    "start_time": "2022-03-10T06:47:37.342Z"
   },
   {
    "duration": 6,
    "start_time": "2022-03-10T06:47:37.354Z"
   },
   {
    "duration": 5,
    "start_time": "2022-03-10T06:47:37.362Z"
   },
   {
    "duration": 6,
    "start_time": "2022-03-10T06:47:37.369Z"
   },
   {
    "duration": 10,
    "start_time": "2022-03-10T06:47:37.377Z"
   },
   {
    "duration": 49,
    "start_time": "2022-03-10T06:47:37.389Z"
   },
   {
    "duration": 16,
    "start_time": "2022-03-10T06:47:37.439Z"
   },
   {
    "duration": 6,
    "start_time": "2022-03-10T06:47:37.457Z"
   },
   {
    "duration": 8,
    "start_time": "2022-03-10T06:47:37.465Z"
   },
   {
    "duration": 5,
    "start_time": "2022-03-10T06:47:37.477Z"
   },
   {
    "duration": 9,
    "start_time": "2022-03-10T06:47:37.485Z"
   },
   {
    "duration": 42,
    "start_time": "2022-03-10T06:47:37.495Z"
   },
   {
    "duration": 5,
    "start_time": "2022-03-10T06:47:37.538Z"
   },
   {
    "duration": 4,
    "start_time": "2022-03-10T06:47:37.544Z"
   },
   {
    "duration": 9,
    "start_time": "2022-03-10T06:47:37.550Z"
   },
   {
    "duration": 8,
    "start_time": "2022-03-10T06:47:37.560Z"
   },
   {
    "duration": 337,
    "start_time": "2022-03-10T06:47:37.569Z"
   },
   {
    "duration": 6,
    "start_time": "2022-03-10T06:47:37.908Z"
   },
   {
    "duration": 179,
    "start_time": "2022-03-10T06:47:37.915Z"
   },
   {
    "duration": 13,
    "start_time": "2022-03-10T06:47:38.096Z"
   },
   {
    "duration": 4,
    "start_time": "2022-03-10T06:47:38.110Z"
   },
   {
    "duration": 14,
    "start_time": "2022-03-10T06:47:38.134Z"
   },
   {
    "duration": 14,
    "start_time": "2022-03-10T06:47:38.150Z"
   },
   {
    "duration": 28,
    "start_time": "2022-03-10T06:47:38.165Z"
   },
   {
    "duration": 595,
    "start_time": "2022-03-10T06:47:38.195Z"
   },
   {
    "duration": 77,
    "start_time": "2022-03-10T06:47:38.715Z"
   },
   {
    "duration": 72,
    "start_time": "2022-03-10T06:47:38.721Z"
   },
   {
    "duration": 63,
    "start_time": "2022-03-10T06:47:38.731Z"
   },
   {
    "duration": 56,
    "start_time": "2022-03-10T06:47:38.739Z"
   },
   {
    "duration": 45,
    "start_time": "2022-03-10T06:47:38.750Z"
   },
   {
    "duration": 33,
    "start_time": "2022-03-10T06:47:38.763Z"
   },
   {
    "duration": 31,
    "start_time": "2022-03-10T06:47:38.766Z"
   },
   {
    "duration": 26,
    "start_time": "2022-03-10T06:47:38.772Z"
   },
   {
    "duration": 13,
    "start_time": "2022-03-10T06:47:38.786Z"
   },
   {
    "duration": -2,
    "start_time": "2022-03-10T06:47:38.801Z"
   },
   {
    "duration": -15,
    "start_time": "2022-03-10T06:47:38.815Z"
   },
   {
    "duration": -21,
    "start_time": "2022-03-10T06:47:38.822Z"
   },
   {
    "duration": -36,
    "start_time": "2022-03-10T06:47:38.838Z"
   },
   {
    "duration": -49,
    "start_time": "2022-03-10T06:47:38.851Z"
   },
   {
    "duration": -62,
    "start_time": "2022-03-10T06:47:38.865Z"
   },
   {
    "duration": -67,
    "start_time": "2022-03-10T06:47:38.871Z"
   },
   {
    "duration": -77,
    "start_time": "2022-03-10T06:47:38.881Z"
   },
   {
    "duration": -83,
    "start_time": "2022-03-10T06:47:38.888Z"
   },
   {
    "duration": -140,
    "start_time": "2022-03-10T06:47:38.946Z"
   },
   {
    "duration": -147,
    "start_time": "2022-03-10T06:47:38.953Z"
   },
   {
    "duration": -157,
    "start_time": "2022-03-10T06:47:38.964Z"
   },
   {
    "duration": -137,
    "start_time": "2022-03-10T06:47:38.969Z"
   },
   {
    "duration": -148,
    "start_time": "2022-03-10T06:47:38.981Z"
   },
   {
    "duration": -156,
    "start_time": "2022-03-10T06:47:38.990Z"
   },
   {
    "duration": -169,
    "start_time": "2022-03-10T06:47:39.004Z"
   },
   {
    "duration": -188,
    "start_time": "2022-03-10T06:47:39.023Z"
   },
   {
    "duration": -203,
    "start_time": "2022-03-10T06:47:39.039Z"
   },
   {
    "duration": -213,
    "start_time": "2022-03-10T06:47:39.050Z"
   },
   {
    "duration": -225,
    "start_time": "2022-03-10T06:47:39.063Z"
   },
   {
    "duration": -231,
    "start_time": "2022-03-10T06:47:39.069Z"
   },
   {
    "duration": -237,
    "start_time": "2022-03-10T06:47:39.076Z"
   },
   {
    "duration": -239,
    "start_time": "2022-03-10T06:47:39.079Z"
   },
   {
    "duration": -241,
    "start_time": "2022-03-10T06:47:39.082Z"
   },
   {
    "duration": -245,
    "start_time": "2022-03-10T06:47:39.086Z"
   },
   {
    "duration": -252,
    "start_time": "2022-03-10T06:47:39.094Z"
   },
   {
    "duration": -267,
    "start_time": "2022-03-10T06:47:39.110Z"
   },
   {
    "duration": -180,
    "start_time": "2022-03-10T06:47:39.115Z"
   },
   {
    "duration": -183,
    "start_time": "2022-03-10T06:47:39.119Z"
   },
   {
    "duration": -185,
    "start_time": "2022-03-10T06:47:39.122Z"
   },
   {
    "duration": -187,
    "start_time": "2022-03-10T06:47:39.125Z"
   },
   {
    "duration": -188,
    "start_time": "2022-03-10T06:47:39.127Z"
   },
   {
    "duration": 402,
    "start_time": "2022-03-10T06:48:41.773Z"
   },
   {
    "duration": 240,
    "start_time": "2022-03-10T06:49:46.004Z"
   },
   {
    "duration": 430,
    "start_time": "2022-03-10T06:50:32.881Z"
   },
   {
    "duration": 494,
    "start_time": "2022-03-10T06:52:19.902Z"
   },
   {
    "duration": 494,
    "start_time": "2022-03-10T06:52:38.393Z"
   },
   {
    "duration": 389,
    "start_time": "2022-03-10T06:53:49.660Z"
   },
   {
    "duration": 440,
    "start_time": "2022-03-10T06:54:17.871Z"
   },
   {
    "duration": 254,
    "start_time": "2022-03-10T06:55:17.545Z"
   },
   {
    "duration": 16,
    "start_time": "2022-03-10T06:55:18.909Z"
   },
   {
    "duration": 6,
    "start_time": "2022-03-10T06:55:19.897Z"
   },
   {
    "duration": 7,
    "start_time": "2022-03-10T06:55:21.620Z"
   },
   {
    "duration": 11,
    "start_time": "2022-03-10T06:55:21.862Z"
   },
   {
    "duration": 7,
    "start_time": "2022-03-10T06:55:22.095Z"
   },
   {
    "duration": 205,
    "start_time": "2022-03-10T06:55:22.252Z"
   },
   {
    "duration": 10,
    "start_time": "2022-03-10T06:55:22.660Z"
   },
   {
    "duration": 198,
    "start_time": "2022-03-10T06:55:22.838Z"
   },
   {
    "duration": 5,
    "start_time": "2022-03-10T06:55:23.202Z"
   },
   {
    "duration": 13,
    "start_time": "2022-03-10T06:55:23.767Z"
   },
   {
    "duration": 12,
    "start_time": "2022-03-10T06:55:23.960Z"
   },
   {
    "duration": 291,
    "start_time": "2022-03-10T06:55:24.163Z"
   },
   {
    "duration": 9,
    "start_time": "2022-03-10T06:55:24.950Z"
   },
   {
    "duration": 13,
    "start_time": "2022-03-10T06:55:25.336Z"
   },
   {
    "duration": 8,
    "start_time": "2022-03-10T06:55:25.529Z"
   },
   {
    "duration": 239,
    "start_time": "2022-03-10T06:55:25.723Z"
   },
   {
    "duration": 5,
    "start_time": "2022-03-10T06:55:26.808Z"
   },
   {
    "duration": 369,
    "start_time": "2022-03-10T06:55:27.012Z"
   },
   {
    "duration": 384,
    "start_time": "2022-03-10T06:55:27.383Z"
   },
   {
    "duration": 337,
    "start_time": "2022-03-10T06:55:27.769Z"
   },
   {
    "duration": 6,
    "start_time": "2022-03-10T06:55:28.108Z"
   },
   {
    "duration": 12,
    "start_time": "2022-03-10T06:55:34.037Z"
   },
   {
    "duration": 10,
    "start_time": "2022-03-10T06:55:34.285Z"
   },
   {
    "duration": 10,
    "start_time": "2022-03-10T06:55:34.513Z"
   },
   {
    "duration": 10,
    "start_time": "2022-03-10T06:55:34.721Z"
   },
   {
    "duration": 16,
    "start_time": "2022-03-10T06:55:35.594Z"
   },
   {
    "duration": 10,
    "start_time": "2022-03-10T06:55:35.794Z"
   },
   {
    "duration": 25,
    "start_time": "2022-03-10T06:55:36.240Z"
   },
   {
    "duration": 11,
    "start_time": "2022-03-10T06:55:36.459Z"
   },
   {
    "duration": 12,
    "start_time": "2022-03-10T06:55:36.908Z"
   },
   {
    "duration": 12,
    "start_time": "2022-03-10T06:55:37.347Z"
   },
   {
    "duration": 12,
    "start_time": "2022-03-10T06:55:37.790Z"
   },
   {
    "duration": 13,
    "start_time": "2022-03-10T06:55:38.206Z"
   },
   {
    "duration": 15,
    "start_time": "2022-03-10T06:55:39.488Z"
   },
   {
    "duration": 16,
    "start_time": "2022-03-10T06:55:39.915Z"
   },
   {
    "duration": 15,
    "start_time": "2022-03-10T06:55:40.357Z"
   },
   {
    "duration": 5,
    "start_time": "2022-03-10T06:55:40.815Z"
   },
   {
    "duration": 16,
    "start_time": "2022-03-10T06:55:41.484Z"
   },
   {
    "duration": 16,
    "start_time": "2022-03-10T06:55:41.961Z"
   },
   {
    "duration": 16,
    "start_time": "2022-03-10T06:55:42.172Z"
   },
   {
    "duration": 4,
    "start_time": "2022-03-10T06:55:42.407Z"
   },
   {
    "duration": 15,
    "start_time": "2022-03-10T07:02:30.261Z"
   },
   {
    "duration": 4523,
    "start_time": "2022-03-10T07:15:06.745Z"
   },
   {
    "duration": 15,
    "start_time": "2022-03-10T07:15:18.478Z"
   },
   {
    "duration": 53,
    "start_time": "2022-03-10T07:19:17.494Z"
   },
   {
    "duration": 17,
    "start_time": "2022-03-10T07:19:24.962Z"
   },
   {
    "duration": 5,
    "start_time": "2022-03-10T07:20:03.482Z"
   },
   {
    "duration": 6,
    "start_time": "2022-03-10T09:58:26.803Z"
   },
   {
    "duration": 6,
    "start_time": "2022-03-10T10:02:26.815Z"
   },
   {
    "duration": 7,
    "start_time": "2022-03-10T10:10:02.975Z"
   },
   {
    "duration": 4,
    "start_time": "2022-03-10T10:13:03.525Z"
   },
   {
    "duration": 5,
    "start_time": "2022-03-10T10:13:29.922Z"
   },
   {
    "duration": 6,
    "start_time": "2022-03-10T10:14:23.900Z"
   },
   {
    "duration": 5,
    "start_time": "2022-03-10T10:16:47.728Z"
   },
   {
    "duration": 8,
    "start_time": "2022-03-10T10:16:48.334Z"
   },
   {
    "duration": 9,
    "start_time": "2022-03-10T10:16:49.312Z"
   },
   {
    "duration": 740,
    "start_time": "2022-03-10T10:17:03.385Z"
   },
   {
    "duration": 28,
    "start_time": "2022-03-10T10:17:04.127Z"
   },
   {
    "duration": 15,
    "start_time": "2022-03-10T10:17:04.158Z"
   },
   {
    "duration": 3,
    "start_time": "2022-03-10T10:17:04.175Z"
   },
   {
    "duration": 16,
    "start_time": "2022-03-10T10:17:04.180Z"
   },
   {
    "duration": 41,
    "start_time": "2022-03-10T10:17:04.198Z"
   },
   {
    "duration": 6,
    "start_time": "2022-03-10T10:17:04.241Z"
   },
   {
    "duration": 10,
    "start_time": "2022-03-10T10:17:04.250Z"
   },
   {
    "duration": 377,
    "start_time": "2022-03-10T10:17:04.263Z"
   },
   {
    "duration": -19,
    "start_time": "2022-03-10T10:17:04.663Z"
   },
   {
    "duration": -27,
    "start_time": "2022-03-10T10:17:04.672Z"
   },
   {
    "duration": -29,
    "start_time": "2022-03-10T10:17:04.675Z"
   },
   {
    "duration": -32,
    "start_time": "2022-03-10T10:17:04.679Z"
   },
   {
    "duration": -34,
    "start_time": "2022-03-10T10:17:04.682Z"
   },
   {
    "duration": -35,
    "start_time": "2022-03-10T10:17:04.684Z"
   },
   {
    "duration": -37,
    "start_time": "2022-03-10T10:17:04.687Z"
   },
   {
    "duration": -38,
    "start_time": "2022-03-10T10:17:04.689Z"
   },
   {
    "duration": -40,
    "start_time": "2022-03-10T10:17:04.692Z"
   },
   {
    "duration": -42,
    "start_time": "2022-03-10T10:17:04.695Z"
   },
   {
    "duration": -44,
    "start_time": "2022-03-10T10:17:04.698Z"
   },
   {
    "duration": -46,
    "start_time": "2022-03-10T10:17:04.701Z"
   },
   {
    "duration": -47,
    "start_time": "2022-03-10T10:17:04.703Z"
   },
   {
    "duration": -48,
    "start_time": "2022-03-10T10:17:04.705Z"
   },
   {
    "duration": -50,
    "start_time": "2022-03-10T10:17:04.708Z"
   },
   {
    "duration": -51,
    "start_time": "2022-03-10T10:17:04.710Z"
   },
   {
    "duration": -53,
    "start_time": "2022-03-10T10:17:04.713Z"
   },
   {
    "duration": -54,
    "start_time": "2022-03-10T10:17:04.715Z"
   },
   {
    "duration": -56,
    "start_time": "2022-03-10T10:17:04.717Z"
   },
   {
    "duration": -58,
    "start_time": "2022-03-10T10:17:04.720Z"
   },
   {
    "duration": -59,
    "start_time": "2022-03-10T10:17:04.722Z"
   },
   {
    "duration": -61,
    "start_time": "2022-03-10T10:17:04.725Z"
   },
   {
    "duration": -62,
    "start_time": "2022-03-10T10:17:04.727Z"
   },
   {
    "duration": -70,
    "start_time": "2022-03-10T10:17:04.736Z"
   },
   {
    "duration": -72,
    "start_time": "2022-03-10T10:17:04.739Z"
   },
   {
    "duration": -75,
    "start_time": "2022-03-10T10:17:04.743Z"
   },
   {
    "duration": -76,
    "start_time": "2022-03-10T10:17:04.745Z"
   },
   {
    "duration": -103,
    "start_time": "2022-03-10T10:17:04.773Z"
   },
   {
    "duration": -105,
    "start_time": "2022-03-10T10:17:04.776Z"
   },
   {
    "duration": -107,
    "start_time": "2022-03-10T10:17:04.778Z"
   },
   {
    "duration": -108,
    "start_time": "2022-03-10T10:17:04.781Z"
   },
   {
    "duration": -109,
    "start_time": "2022-03-10T10:17:04.783Z"
   },
   {
    "duration": -110,
    "start_time": "2022-03-10T10:17:04.785Z"
   },
   {
    "duration": -112,
    "start_time": "2022-03-10T10:17:04.787Z"
   },
   {
    "duration": -114,
    "start_time": "2022-03-10T10:17:04.790Z"
   },
   {
    "duration": -129,
    "start_time": "2022-03-10T10:17:04.806Z"
   },
   {
    "duration": -132,
    "start_time": "2022-03-10T10:17:04.810Z"
   },
   {
    "duration": -133,
    "start_time": "2022-03-10T10:17:04.812Z"
   },
   {
    "duration": -134,
    "start_time": "2022-03-10T10:17:04.814Z"
   },
   {
    "duration": -136,
    "start_time": "2022-03-10T10:17:04.817Z"
   },
   {
    "duration": -164,
    "start_time": "2022-03-10T10:17:04.846Z"
   },
   {
    "duration": -165,
    "start_time": "2022-03-10T10:17:04.848Z"
   },
   {
    "duration": -118,
    "start_time": "2022-03-10T10:17:04.851Z"
   },
   {
    "duration": -119,
    "start_time": "2022-03-10T10:17:04.853Z"
   },
   {
    "duration": -121,
    "start_time": "2022-03-10T10:17:04.856Z"
   },
   {
    "duration": -123,
    "start_time": "2022-03-10T10:17:04.859Z"
   },
   {
    "duration": -124,
    "start_time": "2022-03-10T10:17:04.861Z"
   },
   {
    "duration": -125,
    "start_time": "2022-03-10T10:17:04.864Z"
   },
   {
    "duration": -126,
    "start_time": "2022-03-10T10:17:04.866Z"
   },
   {
    "duration": -127,
    "start_time": "2022-03-10T10:17:04.868Z"
   },
   {
    "duration": -128,
    "start_time": "2022-03-10T10:17:04.871Z"
   },
   {
    "duration": -137,
    "start_time": "2022-03-10T10:17:04.881Z"
   },
   {
    "duration": -138,
    "start_time": "2022-03-10T10:17:04.883Z"
   },
   {
    "duration": -138,
    "start_time": "2022-03-10T10:17:04.885Z"
   },
   {
    "duration": -140,
    "start_time": "2022-03-10T10:17:04.888Z"
   },
   {
    "duration": -142,
    "start_time": "2022-03-10T10:17:04.891Z"
   },
   {
    "duration": -143,
    "start_time": "2022-03-10T10:17:04.894Z"
   },
   {
    "duration": -144,
    "start_time": "2022-03-10T10:17:04.897Z"
   },
   {
    "duration": -145,
    "start_time": "2022-03-10T10:17:04.899Z"
   },
   {
    "duration": -146,
    "start_time": "2022-03-10T10:17:04.902Z"
   },
   {
    "duration": -255,
    "start_time": "2022-03-10T10:17:05.012Z"
   },
   {
    "duration": -295,
    "start_time": "2022-03-10T10:17:05.053Z"
   },
   {
    "duration": -313,
    "start_time": "2022-03-10T10:17:05.073Z"
   },
   {
    "duration": -314,
    "start_time": "2022-03-10T10:17:05.075Z"
   },
   {
    "duration": -316,
    "start_time": "2022-03-10T10:17:05.078Z"
   },
   {
    "duration": -316,
    "start_time": "2022-03-10T10:17:05.080Z"
   },
   {
    "duration": -317,
    "start_time": "2022-03-10T10:17:05.082Z"
   },
   {
    "duration": -318,
    "start_time": "2022-03-10T10:17:05.084Z"
   },
   {
    "duration": -319,
    "start_time": "2022-03-10T10:17:05.087Z"
   },
   {
    "duration": -325,
    "start_time": "2022-03-10T10:17:05.094Z"
   },
   {
    "duration": -326,
    "start_time": "2022-03-10T10:17:05.097Z"
   },
   {
    "duration": -267,
    "start_time": "2022-03-10T10:17:05.099Z"
   },
   {
    "duration": -271,
    "start_time": "2022-03-10T10:17:05.105Z"
   },
   {
    "duration": -272,
    "start_time": "2022-03-10T10:17:05.107Z"
   },
   {
    "duration": -273,
    "start_time": "2022-03-10T10:17:05.110Z"
   },
   {
    "duration": -276,
    "start_time": "2022-03-10T10:17:05.113Z"
   },
   {
    "duration": -277,
    "start_time": "2022-03-10T10:17:05.115Z"
   },
   {
    "duration": -278,
    "start_time": "2022-03-10T10:17:05.117Z"
   },
   {
    "duration": -279,
    "start_time": "2022-03-10T10:17:05.119Z"
   },
   {
    "duration": -281,
    "start_time": "2022-03-10T10:17:05.122Z"
   },
   {
    "duration": 10,
    "start_time": "2022-03-10T10:17:12.693Z"
   },
   {
    "duration": 5,
    "start_time": "2022-03-10T10:17:35.992Z"
   },
   {
    "duration": 16,
    "start_time": "2022-03-10T10:18:21.378Z"
   },
   {
    "duration": 6,
    "start_time": "2022-03-10T10:18:24.374Z"
   },
   {
    "duration": 12,
    "start_time": "2022-03-10T10:18:24.892Z"
   },
   {
    "duration": 12,
    "start_time": "2022-03-10T11:32:35.542Z"
   },
   {
    "duration": 4,
    "start_time": "2022-03-10T11:32:36.738Z"
   },
   {
    "duration": 4,
    "start_time": "2022-03-10T11:32:37.154Z"
   },
   {
    "duration": 11,
    "start_time": "2022-03-10T11:32:37.624Z"
   },
   {
    "duration": 9,
    "start_time": "2022-03-10T11:32:48.685Z"
   },
   {
    "duration": 11,
    "start_time": "2022-03-10T11:32:49.888Z"
   },
   {
    "duration": 6,
    "start_time": "2022-03-10T13:10:32.095Z"
   },
   {
    "duration": 5,
    "start_time": "2022-03-10T13:10:35.341Z"
   },
   {
    "duration": 5,
    "start_time": "2022-03-10T13:10:36.604Z"
   },
   {
    "duration": 5,
    "start_time": "2022-03-10T13:10:51.086Z"
   },
   {
    "duration": 10,
    "start_time": "2022-03-10T13:10:51.682Z"
   },
   {
    "duration": 9,
    "start_time": "2022-03-10T13:10:53.752Z"
   },
   {
    "duration": 6,
    "start_time": "2022-03-10T13:11:10.195Z"
   },
   {
    "duration": 10,
    "start_time": "2022-03-10T13:11:10.709Z"
   },
   {
    "duration": 16,
    "start_time": "2022-03-10T13:11:35.674Z"
   },
   {
    "duration": 7,
    "start_time": "2022-03-10T13:11:37.806Z"
   },
   {
    "duration": 24,
    "start_time": "2022-03-10T13:12:06.052Z"
   },
   {
    "duration": 10,
    "start_time": "2022-03-10T13:12:06.632Z"
   },
   {
    "duration": 13,
    "start_time": "2022-03-10T13:12:07.365Z"
   },
   {
    "duration": 7,
    "start_time": "2022-03-10T13:43:16.107Z"
   },
   {
    "duration": 11,
    "start_time": "2022-03-10T13:43:17.342Z"
   },
   {
    "duration": 7,
    "start_time": "2022-03-10T13:43:19.049Z"
   },
   {
    "duration": 4,
    "start_time": "2022-03-10T13:51:51.285Z"
   },
   {
    "duration": 3,
    "start_time": "2022-03-10T13:51:52.157Z"
   },
   {
    "duration": 7,
    "start_time": "2022-03-10T13:51:53.060Z"
   },
   {
    "duration": 8,
    "start_time": "2022-03-10T13:51:56.325Z"
   },
   {
    "duration": 308,
    "start_time": "2022-03-10T13:51:57.480Z"
   },
   {
    "duration": 7,
    "start_time": "2022-03-10T14:02:35.991Z"
   },
   {
    "duration": 167,
    "start_time": "2022-03-10T14:02:37.078Z"
   },
   {
    "duration": 211,
    "start_time": "2022-03-10T14:02:49.530Z"
   },
   {
    "duration": 13,
    "start_time": "2022-03-10T14:03:08.730Z"
   },
   {
    "duration": 10,
    "start_time": "2022-03-10T14:03:59.673Z"
   },
   {
    "duration": 10,
    "start_time": "2022-03-10T14:05:31.791Z"
   },
   {
    "duration": 14,
    "start_time": "2022-03-10T14:06:03.842Z"
   },
   {
    "duration": 15,
    "start_time": "2022-03-10T14:06:11.908Z"
   },
   {
    "duration": 15,
    "start_time": "2022-03-10T14:10:04.477Z"
   },
   {
    "duration": 31,
    "start_time": "2022-03-10T14:10:05.857Z"
   },
   {
    "duration": 238,
    "start_time": "2022-03-10T14:10:06.644Z"
   },
   {
    "duration": 304,
    "start_time": "2022-03-10T14:10:13.771Z"
   },
   {
    "duration": 14,
    "start_time": "2022-03-10T14:10:14.123Z"
   },
   {
    "duration": 7,
    "start_time": "2022-03-10T14:10:15.153Z"
   },
   {
    "duration": 7,
    "start_time": "2022-03-10T14:29:19.634Z"
   },
   {
    "duration": 10,
    "start_time": "2022-03-10T14:30:33.698Z"
   },
   {
    "duration": 8,
    "start_time": "2022-03-10T14:30:34.741Z"
   },
   {
    "duration": 211,
    "start_time": "2022-03-10T14:31:19.265Z"
   },
   {
    "duration": 11,
    "start_time": "2022-03-10T14:31:48.049Z"
   },
   {
    "duration": 7,
    "start_time": "2022-03-10T14:31:48.417Z"
   },
   {
    "duration": 10,
    "start_time": "2022-03-10T14:32:00.164Z"
   },
   {
    "duration": 217,
    "start_time": "2022-03-10T14:32:00.886Z"
   },
   {
    "duration": 8,
    "start_time": "2022-03-10T14:32:09.685Z"
   },
   {
    "duration": 72,
    "start_time": "2022-03-10T14:34:32.973Z"
   },
   {
    "duration": 20,
    "start_time": "2022-03-10T14:34:56.138Z"
   },
   {
    "duration": 16,
    "start_time": "2022-03-10T14:34:56.726Z"
   },
   {
    "duration": 454,
    "start_time": "2022-03-10T14:35:00.387Z"
   },
   {
    "duration": 9,
    "start_time": "2022-03-10T14:39:12.297Z"
   },
   {
    "duration": 14,
    "start_time": "2022-03-10T14:39:18.334Z"
   },
   {
    "duration": 9,
    "start_time": "2022-03-10T14:39:19.002Z"
   },
   {
    "duration": 180,
    "start_time": "2022-03-10T14:39:22.467Z"
   },
   {
    "duration": 5,
    "start_time": "2022-03-10T14:41:27.236Z"
   },
   {
    "duration": 378,
    "start_time": "2022-03-10T14:41:27.996Z"
   },
   {
    "duration": 400,
    "start_time": "2022-03-10T14:41:32.627Z"
   },
   {
    "duration": 363,
    "start_time": "2022-03-10T14:41:34.644Z"
   },
   {
    "duration": 5,
    "start_time": "2022-03-10T14:41:44.534Z"
   },
   {
    "duration": 10,
    "start_time": "2022-03-10T14:41:53.151Z"
   },
   {
    "duration": 10,
    "start_time": "2022-03-10T14:41:54.621Z"
   },
   {
    "duration": 10,
    "start_time": "2022-03-10T14:41:55.359Z"
   },
   {
    "duration": 11,
    "start_time": "2022-03-10T14:41:55.918Z"
   },
   {
    "duration": 18,
    "start_time": "2022-03-10T14:45:37.667Z"
   },
   {
    "duration": 9,
    "start_time": "2022-03-10T14:45:38.418Z"
   },
   {
    "duration": 25,
    "start_time": "2022-03-10T14:49:00.375Z"
   },
   {
    "duration": 12,
    "start_time": "2022-03-10T14:49:02.291Z"
   },
   {
    "duration": 12,
    "start_time": "2022-03-10T14:49:47.136Z"
   },
   {
    "duration": 16,
    "start_time": "2022-03-10T14:52:11.468Z"
   },
   {
    "duration": 12,
    "start_time": "2022-03-10T15:16:12.675Z"
   },
   {
    "duration": 11,
    "start_time": "2022-03-10T15:16:33.607Z"
   },
   {
    "duration": 17,
    "start_time": "2022-03-10T15:22:31.288Z"
   },
   {
    "duration": 9,
    "start_time": "2022-03-10T15:22:31.794Z"
   },
   {
    "duration": 16,
    "start_time": "2022-03-10T17:46:05.093Z"
   },
   {
    "duration": 14,
    "start_time": "2022-03-10T17:47:57.349Z"
   },
   {
    "duration": 15,
    "start_time": "2022-03-10T17:48:22.257Z"
   },
   {
    "duration": 15,
    "start_time": "2022-03-10T17:48:51.518Z"
   },
   {
    "duration": 4,
    "start_time": "2022-03-10T17:48:54.238Z"
   },
   {
    "duration": 17,
    "start_time": "2022-03-10T17:49:05.715Z"
   },
   {
    "duration": 16,
    "start_time": "2022-03-10T17:55:01.662Z"
   },
   {
    "duration": 15,
    "start_time": "2022-03-10T18:00:25.464Z"
   },
   {
    "duration": 15,
    "start_time": "2022-03-10T18:01:26.378Z"
   },
   {
    "duration": 4,
    "start_time": "2022-03-10T18:01:27.985Z"
   },
   {
    "duration": 16,
    "start_time": "2022-03-10T18:05:48.481Z"
   },
   {
    "duration": 15,
    "start_time": "2022-03-10T19:12:57.506Z"
   },
   {
    "duration": 15,
    "start_time": "2022-03-10T19:13:44.811Z"
   },
   {
    "duration": 15,
    "start_time": "2022-03-10T19:15:42.988Z"
   },
   {
    "duration": 15,
    "start_time": "2022-03-10T19:21:16.964Z"
   },
   {
    "duration": 15,
    "start_time": "2022-03-10T19:21:27.688Z"
   },
   {
    "duration": 4,
    "start_time": "2022-03-10T19:21:28.337Z"
   },
   {
    "duration": 226,
    "start_time": "2022-03-10T19:37:01.711Z"
   },
   {
    "duration": 6,
    "start_time": "2022-03-10T19:37:05.939Z"
   },
   {
    "duration": 4,
    "start_time": "2022-03-10T19:37:06.586Z"
   },
   {
    "duration": 9,
    "start_time": "2022-03-10T19:37:45.286Z"
   },
   {
    "duration": 5,
    "start_time": "2022-03-10T19:37:46.257Z"
   },
   {
    "duration": 7,
    "start_time": "2022-03-10T19:39:22.760Z"
   },
   {
    "duration": 4,
    "start_time": "2022-03-10T19:39:23.509Z"
   },
   {
    "duration": 4,
    "start_time": "2022-03-10T19:39:24.272Z"
   },
   {
    "duration": 6,
    "start_time": "2022-03-10T19:39:48.198Z"
   },
   {
    "duration": 31,
    "start_time": "2022-03-10T21:32:24.800Z"
   },
   {
    "duration": 604,
    "start_time": "2022-03-20T08:10:35.895Z"
   },
   {
    "duration": 34,
    "start_time": "2022-03-20T08:10:36.501Z"
   },
   {
    "duration": 27,
    "start_time": "2022-03-20T08:10:36.538Z"
   },
   {
    "duration": 5,
    "start_time": "2022-03-20T08:10:36.583Z"
   },
   {
    "duration": 21,
    "start_time": "2022-03-20T08:10:36.591Z"
   },
   {
    "duration": 23,
    "start_time": "2022-03-20T08:10:36.614Z"
   },
   {
    "duration": 6,
    "start_time": "2022-03-20T08:10:36.639Z"
   },
   {
    "duration": 45,
    "start_time": "2022-03-20T08:10:36.647Z"
   },
   {
    "duration": 21,
    "start_time": "2022-03-20T08:10:36.695Z"
   },
   {
    "duration": 5,
    "start_time": "2022-03-20T08:10:36.723Z"
   },
   {
    "duration": 9,
    "start_time": "2022-03-20T08:10:36.730Z"
   },
   {
    "duration": 58,
    "start_time": "2022-03-20T08:10:36.741Z"
   },
   {
    "duration": 10,
    "start_time": "2022-03-20T08:10:36.801Z"
   },
   {
    "duration": 23,
    "start_time": "2022-03-20T08:10:36.813Z"
   },
   {
    "duration": 7,
    "start_time": "2022-03-20T08:10:36.838Z"
   },
   {
    "duration": 37,
    "start_time": "2022-03-20T08:10:36.847Z"
   },
   {
    "duration": 11,
    "start_time": "2022-03-20T08:10:36.887Z"
   },
   {
    "duration": 21,
    "start_time": "2022-03-20T08:10:36.900Z"
   },
   {
    "duration": 19,
    "start_time": "2022-03-20T08:10:36.923Z"
   },
   {
    "duration": 43,
    "start_time": "2022-03-20T08:10:36.944Z"
   },
   {
    "duration": 8,
    "start_time": "2022-03-20T08:10:36.990Z"
   },
   {
    "duration": 22,
    "start_time": "2022-03-20T08:10:37.000Z"
   },
   {
    "duration": 13,
    "start_time": "2022-03-20T08:10:37.025Z"
   },
   {
    "duration": 45,
    "start_time": "2022-03-20T08:10:37.041Z"
   },
   {
    "duration": 12,
    "start_time": "2022-03-20T08:10:37.088Z"
   },
   {
    "duration": 12,
    "start_time": "2022-03-20T08:10:37.101Z"
   },
   {
    "duration": 8,
    "start_time": "2022-03-20T08:10:37.115Z"
   },
   {
    "duration": 11,
    "start_time": "2022-03-20T08:10:37.130Z"
   },
   {
    "duration": 43,
    "start_time": "2022-03-20T08:10:37.144Z"
   },
   {
    "duration": 670,
    "start_time": "2022-03-20T08:10:37.190Z"
   },
   {
    "duration": 11,
    "start_time": "2022-03-20T08:10:37.862Z"
   },
   {
    "duration": 253,
    "start_time": "2022-03-20T08:10:37.885Z"
   },
   {
    "duration": 48,
    "start_time": "2022-03-20T08:10:38.141Z"
   },
   {
    "duration": 23,
    "start_time": "2022-03-20T08:10:38.192Z"
   },
   {
    "duration": 22,
    "start_time": "2022-03-20T08:10:38.217Z"
   },
   {
    "duration": 81,
    "start_time": "2022-03-20T08:10:38.241Z"
   },
   {
    "duration": 401,
    "start_time": "2022-03-20T08:10:38.324Z"
   },
   {
    "duration": 23,
    "start_time": "2022-03-20T08:10:38.728Z"
   },
   {
    "duration": 31,
    "start_time": "2022-03-20T08:10:38.753Z"
   },
   {
    "duration": 14,
    "start_time": "2022-03-20T08:10:38.787Z"
   },
   {
    "duration": 24,
    "start_time": "2022-03-20T08:10:38.803Z"
   },
   {
    "duration": 353,
    "start_time": "2022-03-20T08:10:38.830Z"
   },
   {
    "duration": 15,
    "start_time": "2022-03-20T08:10:39.186Z"
   },
   {
    "duration": 414,
    "start_time": "2022-03-20T08:10:39.203Z"
   },
   {
    "duration": 8,
    "start_time": "2022-03-20T08:10:39.619Z"
   },
   {
    "duration": 31,
    "start_time": "2022-03-20T08:10:39.629Z"
   },
   {
    "duration": 33,
    "start_time": "2022-03-20T08:10:39.663Z"
   },
   {
    "duration": 471,
    "start_time": "2022-03-20T08:10:39.698Z"
   },
   {
    "duration": 16,
    "start_time": "2022-03-20T08:10:40.172Z"
   },
   {
    "duration": 28,
    "start_time": "2022-03-20T08:10:40.190Z"
   },
   {
    "duration": 33,
    "start_time": "2022-03-20T08:10:40.220Z"
   },
   {
    "duration": 250,
    "start_time": "2022-03-20T08:10:40.255Z"
   },
   {
    "duration": 9,
    "start_time": "2022-03-20T08:10:40.508Z"
   },
   {
    "duration": 332,
    "start_time": "2022-03-20T08:10:40.519Z"
   },
   {
    "duration": 503,
    "start_time": "2022-03-20T08:10:40.854Z"
   },
   {
    "duration": 300,
    "start_time": "2022-03-20T08:10:41.359Z"
   },
   {
    "duration": 8,
    "start_time": "2022-03-20T08:10:41.662Z"
   },
   {
    "duration": 16,
    "start_time": "2022-03-20T08:10:41.685Z"
   },
   {
    "duration": 30,
    "start_time": "2022-03-20T08:10:41.703Z"
   },
   {
    "duration": 50,
    "start_time": "2022-03-20T08:10:41.735Z"
   },
   {
    "duration": 16,
    "start_time": "2022-03-20T08:10:41.787Z"
   },
   {
    "duration": 134,
    "start_time": "2022-03-20T08:10:41.806Z"
   },
   {
    "duration": 25,
    "start_time": "2022-03-20T08:10:41.942Z"
   },
   {
    "duration": 43,
    "start_time": "2022-03-20T08:10:41.969Z"
   },
   {
    "duration": 20,
    "start_time": "2022-03-20T08:10:42.014Z"
   },
   {
    "duration": 22,
    "start_time": "2022-03-20T08:10:42.036Z"
   },
   {
    "duration": 20,
    "start_time": "2022-03-20T08:10:42.084Z"
   },
   {
    "duration": 40,
    "start_time": "2022-03-20T08:10:42.106Z"
   },
   {
    "duration": 28,
    "start_time": "2022-03-20T08:10:42.148Z"
   },
   {
    "duration": 44,
    "start_time": "2022-03-20T08:10:42.178Z"
   },
   {
    "duration": 33,
    "start_time": "2022-03-20T08:10:42.224Z"
   },
   {
    "duration": 26,
    "start_time": "2022-03-20T08:10:42.259Z"
   },
   {
    "duration": 6,
    "start_time": "2022-03-20T08:10:42.287Z"
   },
   {
    "duration": 38,
    "start_time": "2022-03-20T08:10:42.295Z"
   },
   {
    "duration": 35,
    "start_time": "2022-03-20T08:10:42.335Z"
   },
   {
    "duration": 30,
    "start_time": "2022-03-20T08:10:42.372Z"
   },
   {
    "duration": 24,
    "start_time": "2022-03-20T08:10:42.404Z"
   },
   {
    "duration": 41,
    "start_time": "2022-03-20T08:10:42.430Z"
   },
   {
    "duration": 22,
    "start_time": "2022-03-20T08:10:42.473Z"
   },
   {
    "duration": 30,
    "start_time": "2022-03-20T08:10:42.497Z"
   },
   {
    "duration": 6,
    "start_time": "2022-03-20T08:10:42.529Z"
   },
   {
    "duration": 20,
    "start_time": "2022-03-20T08:10:42.543Z"
   },
   {
    "duration": 29,
    "start_time": "2022-03-20T08:10:42.566Z"
   },
   {
    "duration": 13,
    "start_time": "2022-03-20T08:10:42.597Z"
   },
   {
    "duration": 20,
    "start_time": "2022-03-20T08:10:42.613Z"
   },
   {
    "duration": 12,
    "start_time": "2022-03-20T08:10:42.635Z"
   },
   {
    "duration": 28,
    "start_time": "2022-03-20T08:10:42.649Z"
   },
   {
    "duration": 21,
    "start_time": "2022-03-20T08:10:42.680Z"
   },
   {
    "duration": 102,
    "start_time": "2022-03-20T08:18:49.899Z"
   },
   {
    "duration": 232,
    "start_time": "2022-03-20T08:37:15.549Z"
   },
   {
    "duration": 22,
    "start_time": "2022-03-20T08:37:33.619Z"
   },
   {
    "duration": 882,
    "start_time": "2022-03-20T08:37:35.455Z"
   },
   {
    "duration": 65,
    "start_time": "2022-03-20T08:37:41.194Z"
   },
   {
    "duration": 59,
    "start_time": "2022-03-20T08:38:34.110Z"
   },
   {
    "duration": 20,
    "start_time": "2022-03-20T08:38:38.573Z"
   },
   {
    "duration": 15,
    "start_time": "2022-03-20T08:38:40.212Z"
   },
   {
    "duration": 32,
    "start_time": "2022-03-20T08:38:45.874Z"
   },
   {
    "duration": 5,
    "start_time": "2022-03-20T08:38:57.278Z"
   },
   {
    "duration": 243,
    "start_time": "2022-03-20T08:39:04.601Z"
   },
   {
    "duration": 14,
    "start_time": "2022-03-20T08:40:10.732Z"
   },
   {
    "duration": 14,
    "start_time": "2022-03-20T08:40:12.969Z"
   },
   {
    "duration": 223,
    "start_time": "2022-03-20T08:40:14.999Z"
   },
   {
    "duration": 18,
    "start_time": "2022-03-20T08:40:47.644Z"
   },
   {
    "duration": 239,
    "start_time": "2022-03-20T08:40:49.324Z"
   },
   {
    "duration": 15,
    "start_time": "2022-03-20T08:41:17.459Z"
   },
   {
    "duration": 16,
    "start_time": "2022-03-20T08:43:02.060Z"
   },
   {
    "duration": 14,
    "start_time": "2022-03-20T08:43:04.798Z"
   },
   {
    "duration": 18,
    "start_time": "2022-03-20T08:48:56.227Z"
   },
   {
    "duration": 7,
    "start_time": "2022-03-20T08:48:57.086Z"
   },
   {
    "duration": 22,
    "start_time": "2022-03-20T08:49:00.975Z"
   },
   {
    "duration": 340,
    "start_time": "2022-03-20T08:49:01.520Z"
   },
   {
    "duration": 138,
    "start_time": "2022-03-20T08:49:45.599Z"
   },
   {
    "duration": 649,
    "start_time": "2022-03-20T08:50:02.475Z"
   },
   {
    "duration": 328,
    "start_time": "2022-03-20T08:50:12.817Z"
   },
   {
    "duration": 633,
    "start_time": "2022-03-20T08:51:31.236Z"
   },
   {
    "duration": 38,
    "start_time": "2022-03-20T08:51:31.872Z"
   },
   {
    "duration": 39,
    "start_time": "2022-03-20T08:51:31.912Z"
   },
   {
    "duration": 23,
    "start_time": "2022-03-20T08:51:31.954Z"
   },
   {
    "duration": 39,
    "start_time": "2022-03-20T08:51:31.979Z"
   },
   {
    "duration": 34,
    "start_time": "2022-03-20T08:51:32.020Z"
   },
   {
    "duration": 42,
    "start_time": "2022-03-20T08:51:32.056Z"
   },
   {
    "duration": 27,
    "start_time": "2022-03-20T08:51:32.100Z"
   },
   {
    "duration": 35,
    "start_time": "2022-03-20T08:51:32.129Z"
   },
   {
    "duration": 6,
    "start_time": "2022-03-20T08:51:32.169Z"
   },
   {
    "duration": 27,
    "start_time": "2022-03-20T08:51:32.177Z"
   },
   {
    "duration": 24,
    "start_time": "2022-03-20T08:51:32.206Z"
   },
   {
    "duration": 10,
    "start_time": "2022-03-20T08:51:32.232Z"
   },
   {
    "duration": 25,
    "start_time": "2022-03-20T08:51:32.244Z"
   },
   {
    "duration": 58,
    "start_time": "2022-03-20T08:51:32.271Z"
   },
   {
    "duration": 16,
    "start_time": "2022-03-20T08:51:32.331Z"
   },
   {
    "duration": 25,
    "start_time": "2022-03-20T08:51:32.350Z"
   },
   {
    "duration": 19,
    "start_time": "2022-03-20T08:51:32.378Z"
   },
   {
    "duration": 26,
    "start_time": "2022-03-20T08:51:32.400Z"
   },
   {
    "duration": 21,
    "start_time": "2022-03-20T08:51:32.429Z"
   },
   {
    "duration": 9,
    "start_time": "2022-03-20T08:51:32.453Z"
   },
   {
    "duration": 35,
    "start_time": "2022-03-20T08:51:32.464Z"
   },
   {
    "duration": 38,
    "start_time": "2022-03-20T08:51:32.501Z"
   },
   {
    "duration": 14,
    "start_time": "2022-03-20T08:51:32.542Z"
   },
   {
    "duration": 15,
    "start_time": "2022-03-20T08:51:32.558Z"
   },
   {
    "duration": 5,
    "start_time": "2022-03-20T08:51:32.585Z"
   },
   {
    "duration": 12,
    "start_time": "2022-03-20T08:51:32.592Z"
   },
   {
    "duration": 12,
    "start_time": "2022-03-20T08:51:32.611Z"
   },
   {
    "duration": 13,
    "start_time": "2022-03-20T08:51:32.625Z"
   },
   {
    "duration": 714,
    "start_time": "2022-03-20T08:51:32.640Z"
   },
   {
    "duration": 11,
    "start_time": "2022-03-20T08:51:33.357Z"
   },
   {
    "duration": 247,
    "start_time": "2022-03-20T08:51:33.371Z"
   },
   {
    "duration": 23,
    "start_time": "2022-03-20T08:51:33.622Z"
   },
   {
    "duration": 54,
    "start_time": "2022-03-20T08:51:33.648Z"
   },
   {
    "duration": 26,
    "start_time": "2022-03-20T08:51:33.705Z"
   },
   {
    "duration": 72,
    "start_time": "2022-03-20T08:51:33.734Z"
   },
   {
    "duration": 387,
    "start_time": "2022-03-20T08:51:33.808Z"
   },
   {
    "duration": 24,
    "start_time": "2022-03-20T08:51:34.197Z"
   },
   {
    "duration": 10,
    "start_time": "2022-03-20T08:51:34.223Z"
   },
   {
    "duration": 45,
    "start_time": "2022-03-20T08:51:34.236Z"
   },
   {
    "duration": 21,
    "start_time": "2022-03-20T08:51:34.284Z"
   },
   {
    "duration": 344,
    "start_time": "2022-03-20T08:51:34.308Z"
   },
   {
    "duration": 29,
    "start_time": "2022-03-20T08:51:34.655Z"
   },
   {
    "duration": 409,
    "start_time": "2022-03-20T08:51:34.687Z"
   },
   {
    "duration": 9,
    "start_time": "2022-03-20T08:51:35.099Z"
   },
   {
    "duration": 37,
    "start_time": "2022-03-20T08:51:35.111Z"
   },
   {
    "duration": 35,
    "start_time": "2022-03-20T08:51:35.151Z"
   },
   {
    "duration": 459,
    "start_time": "2022-03-20T08:51:35.189Z"
   },
   {
    "duration": 12,
    "start_time": "2022-03-20T08:51:35.651Z"
   },
   {
    "duration": 27,
    "start_time": "2022-03-20T08:51:35.666Z"
   },
   {
    "duration": 881,
    "start_time": "2022-03-20T08:51:35.695Z"
   },
   {
    "duration": 16,
    "start_time": "2022-03-20T08:51:36.579Z"
   },
   {
    "duration": 333,
    "start_time": "2022-03-20T08:51:36.597Z"
   },
   {
    "duration": 8,
    "start_time": "2022-03-20T08:51:36.933Z"
   },
   {
    "duration": 317,
    "start_time": "2022-03-20T08:51:36.943Z"
   },
   {
    "duration": 8,
    "start_time": "2022-03-20T08:51:37.262Z"
   },
   {
    "duration": 314,
    "start_time": "2022-03-20T08:51:37.285Z"
   },
   {
    "duration": 9,
    "start_time": "2022-03-20T08:51:37.601Z"
   },
   {
    "duration": 18,
    "start_time": "2022-03-20T08:51:37.612Z"
   },
   {
    "duration": 53,
    "start_time": "2022-03-20T08:51:37.632Z"
   },
   {
    "duration": 19,
    "start_time": "2022-03-20T08:51:37.689Z"
   },
   {
    "duration": 19,
    "start_time": "2022-03-20T08:51:37.711Z"
   },
   {
    "duration": 77,
    "start_time": "2022-03-20T08:51:37.732Z"
   },
   {
    "duration": 17,
    "start_time": "2022-03-20T08:51:37.811Z"
   },
   {
    "duration": 72,
    "start_time": "2022-03-20T08:51:37.831Z"
   },
   {
    "duration": 23,
    "start_time": "2022-03-20T08:51:37.906Z"
   },
   {
    "duration": 25,
    "start_time": "2022-03-20T08:51:37.931Z"
   },
   {
    "duration": 42,
    "start_time": "2022-03-20T08:51:37.958Z"
   },
   {
    "duration": 20,
    "start_time": "2022-03-20T08:51:38.003Z"
   },
   {
    "duration": 27,
    "start_time": "2022-03-20T08:51:38.025Z"
   },
   {
    "duration": 56,
    "start_time": "2022-03-20T08:51:38.054Z"
   },
   {
    "duration": 23,
    "start_time": "2022-03-20T08:51:38.113Z"
   },
   {
    "duration": 46,
    "start_time": "2022-03-20T08:51:38.139Z"
   },
   {
    "duration": 6,
    "start_time": "2022-03-20T08:51:38.188Z"
   },
   {
    "duration": 28,
    "start_time": "2022-03-20T08:51:38.196Z"
   },
   {
    "duration": 28,
    "start_time": "2022-03-20T08:51:38.226Z"
   },
   {
    "duration": 48,
    "start_time": "2022-03-20T08:51:38.256Z"
   },
   {
    "duration": 10,
    "start_time": "2022-03-20T08:51:38.306Z"
   },
   {
    "duration": 35,
    "start_time": "2022-03-20T08:51:38.319Z"
   },
   {
    "duration": 48,
    "start_time": "2022-03-20T08:51:38.357Z"
   },
   {
    "duration": 25,
    "start_time": "2022-03-20T08:51:38.407Z"
   },
   {
    "duration": 45,
    "start_time": "2022-03-20T08:51:38.441Z"
   },
   {
    "duration": 11,
    "start_time": "2022-03-20T08:51:38.488Z"
   },
   {
    "duration": 24,
    "start_time": "2022-03-20T08:51:38.501Z"
   },
   {
    "duration": 19,
    "start_time": "2022-03-20T08:51:38.527Z"
   },
   {
    "duration": 9,
    "start_time": "2022-03-20T08:51:38.549Z"
   },
   {
    "duration": 23,
    "start_time": "2022-03-20T08:51:38.561Z"
   },
   {
    "duration": 9,
    "start_time": "2022-03-20T08:51:38.586Z"
   },
   {
    "duration": 12,
    "start_time": "2022-03-20T08:51:38.597Z"
   },
   {
    "duration": 321,
    "start_time": "2022-03-20T08:52:50.318Z"
   },
   {
    "duration": 354,
    "start_time": "2022-03-20T08:53:03.953Z"
   },
   {
    "duration": 333,
    "start_time": "2022-03-20T08:53:19.054Z"
   },
   {
    "duration": 301,
    "start_time": "2022-03-20T08:55:11.906Z"
   },
   {
    "duration": 227,
    "start_time": "2022-03-20T08:55:19.241Z"
   },
   {
    "duration": 12,
    "start_time": "2022-03-20T08:56:13.454Z"
   },
   {
    "duration": 1890,
    "start_time": "2022-03-20T08:56:23.570Z"
   },
   {
    "duration": 241,
    "start_time": "2022-03-20T08:56:32.352Z"
   },
   {
    "duration": 24,
    "start_time": "2022-03-20T08:56:50.415Z"
   },
   {
    "duration": 424,
    "start_time": "2022-03-20T08:57:16.024Z"
   },
   {
    "duration": 328,
    "start_time": "2022-03-20T08:57:26.085Z"
   },
   {
    "duration": 248,
    "start_time": "2022-03-20T08:58:36.861Z"
   },
   {
    "duration": 17,
    "start_time": "2022-03-20T08:59:16.470Z"
   },
   {
    "duration": 195,
    "start_time": "2022-03-20T09:00:50.589Z"
   },
   {
    "duration": 145,
    "start_time": "2022-03-20T09:01:10.615Z"
   },
   {
    "duration": 196,
    "start_time": "2022-03-20T09:01:18.369Z"
   },
   {
    "duration": 175,
    "start_time": "2022-03-20T09:01:52.319Z"
   },
   {
    "duration": 173,
    "start_time": "2022-03-20T09:02:03.229Z"
   },
   {
    "duration": 2673,
    "start_time": "2022-03-20T09:02:38.220Z"
   },
   {
    "duration": 330,
    "start_time": "2022-03-20T09:03:54.266Z"
   },
   {
    "duration": 77029,
    "start_time": "2022-03-20T09:04:25.884Z"
   },
   {
    "duration": 0,
    "start_time": "2022-03-20T09:05:43.112Z"
   },
   {
    "duration": 0,
    "start_time": "2022-03-20T09:05:43.114Z"
   },
   {
    "duration": 584,
    "start_time": "2022-03-20T09:05:52.821Z"
   },
   {
    "duration": 35,
    "start_time": "2022-03-20T09:05:53.407Z"
   },
   {
    "duration": 33,
    "start_time": "2022-03-20T09:05:53.444Z"
   },
   {
    "duration": 6,
    "start_time": "2022-03-20T09:05:53.484Z"
   },
   {
    "duration": 30,
    "start_time": "2022-03-20T09:05:53.492Z"
   },
   {
    "duration": 25,
    "start_time": "2022-03-20T09:05:53.524Z"
   },
   {
    "duration": 32,
    "start_time": "2022-03-20T09:05:53.551Z"
   },
   {
    "duration": 10,
    "start_time": "2022-03-20T09:05:53.586Z"
   },
   {
    "duration": 39,
    "start_time": "2022-03-20T09:05:53.598Z"
   },
   {
    "duration": 5,
    "start_time": "2022-03-20T09:05:53.641Z"
   },
   {
    "duration": 17,
    "start_time": "2022-03-20T09:05:53.649Z"
   },
   {
    "duration": 35,
    "start_time": "2022-03-20T09:05:53.668Z"
   },
   {
    "duration": 11,
    "start_time": "2022-03-20T09:05:53.705Z"
   },
   {
    "duration": 47,
    "start_time": "2022-03-20T09:05:53.719Z"
   },
   {
    "duration": 19,
    "start_time": "2022-03-20T09:05:53.768Z"
   },
   {
    "duration": 14,
    "start_time": "2022-03-20T09:05:53.789Z"
   },
   {
    "duration": 24,
    "start_time": "2022-03-20T09:05:53.805Z"
   },
   {
    "duration": 34,
    "start_time": "2022-03-20T09:05:53.831Z"
   },
   {
    "duration": 31,
    "start_time": "2022-03-20T09:05:53.867Z"
   },
   {
    "duration": 44,
    "start_time": "2022-03-20T09:05:53.901Z"
   },
   {
    "duration": 22,
    "start_time": "2022-03-20T09:05:53.947Z"
   },
   {
    "duration": 27,
    "start_time": "2022-03-20T09:05:53.971Z"
   },
   {
    "duration": 34,
    "start_time": "2022-03-20T09:05:54.000Z"
   },
   {
    "duration": 35,
    "start_time": "2022-03-20T09:05:54.037Z"
   },
   {
    "duration": 21,
    "start_time": "2022-03-20T09:05:54.074Z"
   },
   {
    "duration": 21,
    "start_time": "2022-03-20T09:05:54.097Z"
   },
   {
    "duration": 13,
    "start_time": "2022-03-20T09:05:54.120Z"
   },
   {
    "duration": 18,
    "start_time": "2022-03-20T09:05:54.140Z"
   },
   {
    "duration": 26,
    "start_time": "2022-03-20T09:05:54.160Z"
   },
   {
    "duration": 676,
    "start_time": "2022-03-20T09:05:54.188Z"
   },
   {
    "duration": 20,
    "start_time": "2022-03-20T09:05:54.866Z"
   },
   {
    "duration": 245,
    "start_time": "2022-03-20T09:05:54.888Z"
   },
   {
    "duration": 25,
    "start_time": "2022-03-20T09:05:55.136Z"
   },
   {
    "duration": 47,
    "start_time": "2022-03-20T09:05:55.164Z"
   },
   {
    "duration": 24,
    "start_time": "2022-03-20T09:05:55.214Z"
   },
   {
    "duration": 71,
    "start_time": "2022-03-20T09:05:55.240Z"
   },
   {
    "duration": 372,
    "start_time": "2022-03-20T09:05:55.314Z"
   },
   {
    "duration": 21,
    "start_time": "2022-03-20T09:05:55.689Z"
   },
   {
    "duration": 10,
    "start_time": "2022-03-20T09:05:55.712Z"
   },
   {
    "duration": 29,
    "start_time": "2022-03-20T09:05:55.724Z"
   },
   {
    "duration": 31,
    "start_time": "2022-03-20T09:05:55.755Z"
   },
   {
    "duration": 340,
    "start_time": "2022-03-20T09:05:55.788Z"
   },
   {
    "duration": 14,
    "start_time": "2022-03-20T09:05:56.130Z"
   },
   {
    "duration": 403,
    "start_time": "2022-03-20T09:05:56.146Z"
   },
   {
    "duration": 8,
    "start_time": "2022-03-20T09:05:56.551Z"
   },
   {
    "duration": 35,
    "start_time": "2022-03-20T09:05:56.561Z"
   },
   {
    "duration": 24,
    "start_time": "2022-03-20T09:05:56.599Z"
   },
   {
    "duration": 467,
    "start_time": "2022-03-20T09:05:56.625Z"
   },
   {
    "duration": 12,
    "start_time": "2022-03-20T09:05:57.095Z"
   },
   {
    "duration": 19,
    "start_time": "2022-03-20T09:05:57.109Z"
   },
   {
    "duration": 941,
    "start_time": "2022-03-20T09:05:57.130Z"
   },
   {
    "duration": 158,
    "start_time": "2022-03-20T09:05:58.073Z"
   },
   {
    "duration": 0,
    "start_time": "2022-03-20T09:05:58.234Z"
   },
   {
    "duration": 0,
    "start_time": "2022-03-20T09:05:58.236Z"
   },
   {
    "duration": 0,
    "start_time": "2022-03-20T09:05:58.237Z"
   },
   {
    "duration": 0,
    "start_time": "2022-03-20T09:05:58.238Z"
   },
   {
    "duration": 0,
    "start_time": "2022-03-20T09:05:58.240Z"
   },
   {
    "duration": 0,
    "start_time": "2022-03-20T09:05:58.241Z"
   },
   {
    "duration": 0,
    "start_time": "2022-03-20T09:05:58.243Z"
   },
   {
    "duration": 0,
    "start_time": "2022-03-20T09:05:58.244Z"
   },
   {
    "duration": 0,
    "start_time": "2022-03-20T09:05:58.246Z"
   },
   {
    "duration": 0,
    "start_time": "2022-03-20T09:05:58.247Z"
   },
   {
    "duration": 0,
    "start_time": "2022-03-20T09:05:58.249Z"
   },
   {
    "duration": 0,
    "start_time": "2022-03-20T09:05:58.251Z"
   },
   {
    "duration": 0,
    "start_time": "2022-03-20T09:05:58.252Z"
   },
   {
    "duration": 0,
    "start_time": "2022-03-20T09:05:58.285Z"
   },
   {
    "duration": 0,
    "start_time": "2022-03-20T09:05:58.286Z"
   },
   {
    "duration": 0,
    "start_time": "2022-03-20T09:05:58.391Z"
   },
   {
    "duration": 0,
    "start_time": "2022-03-20T09:05:58.393Z"
   },
   {
    "duration": 0,
    "start_time": "2022-03-20T09:05:58.395Z"
   },
   {
    "duration": 0,
    "start_time": "2022-03-20T09:05:58.397Z"
   },
   {
    "duration": 0,
    "start_time": "2022-03-20T09:05:58.399Z"
   },
   {
    "duration": 0,
    "start_time": "2022-03-20T09:05:58.400Z"
   },
   {
    "duration": 0,
    "start_time": "2022-03-20T09:05:58.402Z"
   },
   {
    "duration": 0,
    "start_time": "2022-03-20T09:05:58.403Z"
   },
   {
    "duration": 0,
    "start_time": "2022-03-20T09:05:58.404Z"
   },
   {
    "duration": 0,
    "start_time": "2022-03-20T09:05:58.405Z"
   },
   {
    "duration": 0,
    "start_time": "2022-03-20T09:05:58.406Z"
   },
   {
    "duration": 0,
    "start_time": "2022-03-20T09:05:58.407Z"
   },
   {
    "duration": 0,
    "start_time": "2022-03-20T09:05:58.408Z"
   },
   {
    "duration": 1,
    "start_time": "2022-03-20T09:05:58.409Z"
   },
   {
    "duration": 0,
    "start_time": "2022-03-20T09:05:58.411Z"
   },
   {
    "duration": 0,
    "start_time": "2022-03-20T09:05:58.412Z"
   },
   {
    "duration": 0,
    "start_time": "2022-03-20T09:05:58.413Z"
   },
   {
    "duration": 0,
    "start_time": "2022-03-20T09:05:58.414Z"
   },
   {
    "duration": 0,
    "start_time": "2022-03-20T09:05:58.415Z"
   },
   {
    "duration": 0,
    "start_time": "2022-03-20T09:05:58.417Z"
   },
   {
    "duration": 0,
    "start_time": "2022-03-20T09:05:58.418Z"
   },
   {
    "duration": 0,
    "start_time": "2022-03-20T09:05:58.419Z"
   },
   {
    "duration": 0,
    "start_time": "2022-03-20T09:05:58.420Z"
   },
   {
    "duration": 0,
    "start_time": "2022-03-20T09:05:58.421Z"
   },
   {
    "duration": 195,
    "start_time": "2022-03-20T09:06:34.293Z"
   },
   {
    "duration": 270,
    "start_time": "2022-03-20T09:07:40.884Z"
   },
   {
    "duration": 260,
    "start_time": "2022-03-20T09:09:19.345Z"
   },
   {
    "duration": 497,
    "start_time": "2022-03-20T09:09:45.686Z"
   },
   {
    "duration": 270,
    "start_time": "2022-03-20T09:10:03.373Z"
   },
   {
    "duration": 21,
    "start_time": "2022-03-20T09:10:08.084Z"
   },
   {
    "duration": 25,
    "start_time": "2022-03-20T09:10:47.503Z"
   },
   {
    "duration": 262,
    "start_time": "2022-03-20T09:10:51.422Z"
   },
   {
    "duration": 178,
    "start_time": "2022-03-20T09:11:52.007Z"
   },
   {
    "duration": 262,
    "start_time": "2022-03-20T09:12:00.188Z"
   },
   {
    "duration": 263,
    "start_time": "2022-03-20T09:12:40.024Z"
   },
   {
    "duration": 266,
    "start_time": "2022-03-20T09:13:10.009Z"
   },
   {
    "duration": 183,
    "start_time": "2022-03-20T09:13:38.669Z"
   },
   {
    "duration": 180,
    "start_time": "2022-03-20T09:13:59.929Z"
   },
   {
    "duration": 368,
    "start_time": "2022-03-20T09:16:16.115Z"
   },
   {
    "duration": 268,
    "start_time": "2022-03-20T09:16:25.479Z"
   },
   {
    "duration": 331,
    "start_time": "2022-03-20T09:16:58.659Z"
   },
   {
    "duration": 180,
    "start_time": "2022-03-20T09:19:01.515Z"
   },
   {
    "duration": 185,
    "start_time": "2022-03-20T09:19:26.349Z"
   },
   {
    "duration": 320,
    "start_time": "2022-03-20T09:19:48.918Z"
   },
   {
    "duration": 315,
    "start_time": "2022-03-20T09:20:28.033Z"
   },
   {
    "duration": 1937,
    "start_time": "2022-03-20T09:22:12.453Z"
   },
   {
    "duration": 175,
    "start_time": "2022-03-20T09:22:21.185Z"
   },
   {
    "duration": 194,
    "start_time": "2022-03-20T09:22:43.890Z"
   },
   {
    "duration": 170,
    "start_time": "2022-03-20T09:22:48.751Z"
   },
   {
    "duration": 178,
    "start_time": "2022-03-20T09:23:01.364Z"
   },
   {
    "duration": 33,
    "start_time": "2022-03-20T09:23:12.395Z"
   },
   {
    "duration": 34,
    "start_time": "2022-03-20T09:24:20.577Z"
   },
   {
    "duration": 48,
    "start_time": "2022-03-20T09:24:21.770Z"
   },
   {
    "duration": 76293,
    "start_time": "2022-03-20T09:24:22.712Z"
   },
   {
    "duration": 17,
    "start_time": "2022-03-20T09:25:39.007Z"
   },
   {
    "duration": 652,
    "start_time": "2022-03-20T09:25:54.501Z"
   },
   {
    "duration": 40,
    "start_time": "2022-03-20T09:25:55.157Z"
   },
   {
    "duration": 24,
    "start_time": "2022-03-20T09:25:55.199Z"
   },
   {
    "duration": 5,
    "start_time": "2022-03-20T09:25:55.226Z"
   },
   {
    "duration": 51,
    "start_time": "2022-03-20T09:25:55.233Z"
   },
   {
    "duration": 24,
    "start_time": "2022-03-20T09:25:55.286Z"
   },
   {
    "duration": 16,
    "start_time": "2022-03-20T09:25:55.312Z"
   },
   {
    "duration": 13,
    "start_time": "2022-03-20T09:25:55.331Z"
   },
   {
    "duration": 53,
    "start_time": "2022-03-20T09:25:55.347Z"
   },
   {
    "duration": 13,
    "start_time": "2022-03-20T09:25:55.406Z"
   },
   {
    "duration": 16,
    "start_time": "2022-03-20T09:25:55.421Z"
   },
   {
    "duration": 37,
    "start_time": "2022-03-20T09:25:55.440Z"
   },
   {
    "duration": 12,
    "start_time": "2022-03-20T09:25:55.480Z"
   },
   {
    "duration": 23,
    "start_time": "2022-03-20T09:25:55.495Z"
   },
   {
    "duration": 13,
    "start_time": "2022-03-20T09:25:55.521Z"
   },
   {
    "duration": 22,
    "start_time": "2022-03-20T09:25:55.536Z"
   },
   {
    "duration": 29,
    "start_time": "2022-03-20T09:25:55.560Z"
   },
   {
    "duration": 19,
    "start_time": "2022-03-20T09:25:55.592Z"
   },
   {
    "duration": 36,
    "start_time": "2022-03-20T09:25:55.614Z"
   },
   {
    "duration": 26,
    "start_time": "2022-03-20T09:25:55.652Z"
   },
   {
    "duration": 10,
    "start_time": "2022-03-20T09:25:55.680Z"
   },
   {
    "duration": 36,
    "start_time": "2022-03-20T09:25:55.693Z"
   },
   {
    "duration": 73,
    "start_time": "2022-03-20T09:25:55.732Z"
   },
   {
    "duration": 17,
    "start_time": "2022-03-20T09:25:55.807Z"
   },
   {
    "duration": 35,
    "start_time": "2022-03-20T09:25:55.826Z"
   },
   {
    "duration": 18,
    "start_time": "2022-03-20T09:25:55.864Z"
   },
   {
    "duration": 24,
    "start_time": "2022-03-20T09:25:55.885Z"
   },
   {
    "duration": 37,
    "start_time": "2022-03-20T09:25:55.916Z"
   },
   {
    "duration": 17,
    "start_time": "2022-03-20T09:25:55.955Z"
   },
   {
    "duration": 773,
    "start_time": "2022-03-20T09:25:55.974Z"
   },
   {
    "duration": 10,
    "start_time": "2022-03-20T09:25:56.749Z"
   },
   {
    "duration": 254,
    "start_time": "2022-03-20T09:25:56.761Z"
   },
   {
    "duration": 31,
    "start_time": "2022-03-20T09:25:57.018Z"
   },
   {
    "duration": 52,
    "start_time": "2022-03-20T09:25:57.052Z"
   },
   {
    "duration": 26,
    "start_time": "2022-03-20T09:25:57.107Z"
   },
   {
    "duration": 74,
    "start_time": "2022-03-20T09:25:57.135Z"
   },
   {
    "duration": 423,
    "start_time": "2022-03-20T09:25:57.212Z"
   },
   {
    "duration": 23,
    "start_time": "2022-03-20T09:25:57.638Z"
   },
   {
    "duration": 39,
    "start_time": "2022-03-20T09:25:57.663Z"
   },
   {
    "duration": 36,
    "start_time": "2022-03-20T09:25:57.705Z"
   },
   {
    "duration": 40,
    "start_time": "2022-03-20T09:25:57.744Z"
   },
   {
    "duration": 371,
    "start_time": "2022-03-20T09:25:57.787Z"
   },
   {
    "duration": 24,
    "start_time": "2022-03-20T09:25:58.160Z"
   },
   {
    "duration": 465,
    "start_time": "2022-03-20T09:25:58.186Z"
   },
   {
    "duration": 8,
    "start_time": "2022-03-20T09:25:58.653Z"
   },
   {
    "duration": 38,
    "start_time": "2022-03-20T09:25:58.663Z"
   },
   {
    "duration": 34,
    "start_time": "2022-03-20T09:25:58.703Z"
   },
   {
    "duration": 465,
    "start_time": "2022-03-20T09:25:58.740Z"
   },
   {
    "duration": 14,
    "start_time": "2022-03-20T09:25:59.208Z"
   },
   {
    "duration": 31,
    "start_time": "2022-03-20T09:25:59.224Z"
   },
   {
    "duration": 1033,
    "start_time": "2022-03-20T09:25:59.257Z"
   },
   {
    "duration": 441,
    "start_time": "2022-03-20T09:26:00.292Z"
   },
   {
    "duration": 208,
    "start_time": "2022-03-20T09:26:00.735Z"
   },
   {
    "duration": 22,
    "start_time": "2022-03-20T09:26:00.946Z"
   },
   {
    "duration": 185,
    "start_time": "2022-03-20T09:26:00.984Z"
   },
   {
    "duration": 0,
    "start_time": "2022-03-20T09:26:01.172Z"
   },
   {
    "duration": 0,
    "start_time": "2022-03-20T09:26:01.175Z"
   },
   {
    "duration": 0,
    "start_time": "2022-03-20T09:26:01.185Z"
   },
   {
    "duration": 0,
    "start_time": "2022-03-20T09:26:01.187Z"
   },
   {
    "duration": 0,
    "start_time": "2022-03-20T09:26:01.189Z"
   },
   {
    "duration": 0,
    "start_time": "2022-03-20T09:26:01.192Z"
   },
   {
    "duration": 0,
    "start_time": "2022-03-20T09:26:01.193Z"
   },
   {
    "duration": 0,
    "start_time": "2022-03-20T09:26:01.195Z"
   },
   {
    "duration": 0,
    "start_time": "2022-03-20T09:26:01.197Z"
   },
   {
    "duration": 0,
    "start_time": "2022-03-20T09:26:01.198Z"
   },
   {
    "duration": 0,
    "start_time": "2022-03-20T09:26:01.200Z"
   },
   {
    "duration": 0,
    "start_time": "2022-03-20T09:26:01.202Z"
   },
   {
    "duration": 0,
    "start_time": "2022-03-20T09:26:01.204Z"
   },
   {
    "duration": 0,
    "start_time": "2022-03-20T09:26:01.205Z"
   },
   {
    "duration": 0,
    "start_time": "2022-03-20T09:26:01.207Z"
   },
   {
    "duration": 0,
    "start_time": "2022-03-20T09:26:01.208Z"
   },
   {
    "duration": 0,
    "start_time": "2022-03-20T09:26:01.210Z"
   },
   {
    "duration": 0,
    "start_time": "2022-03-20T09:26:01.211Z"
   },
   {
    "duration": 0,
    "start_time": "2022-03-20T09:26:01.213Z"
   },
   {
    "duration": 0,
    "start_time": "2022-03-20T09:26:01.214Z"
   },
   {
    "duration": 0,
    "start_time": "2022-03-20T09:26:01.216Z"
   },
   {
    "duration": 0,
    "start_time": "2022-03-20T09:26:01.217Z"
   },
   {
    "duration": 0,
    "start_time": "2022-03-20T09:26:01.220Z"
   },
   {
    "duration": 0,
    "start_time": "2022-03-20T09:26:01.222Z"
   },
   {
    "duration": 0,
    "start_time": "2022-03-20T09:26:01.223Z"
   },
   {
    "duration": 0,
    "start_time": "2022-03-20T09:26:01.225Z"
   },
   {
    "duration": 0,
    "start_time": "2022-03-20T09:26:01.283Z"
   },
   {
    "duration": 0,
    "start_time": "2022-03-20T09:26:01.286Z"
   },
   {
    "duration": 0,
    "start_time": "2022-03-20T09:26:01.288Z"
   },
   {
    "duration": 0,
    "start_time": "2022-03-20T09:26:01.292Z"
   },
   {
    "duration": 0,
    "start_time": "2022-03-20T09:26:01.294Z"
   },
   {
    "duration": 0,
    "start_time": "2022-03-20T09:26:01.295Z"
   },
   {
    "duration": 0,
    "start_time": "2022-03-20T09:26:01.297Z"
   },
   {
    "duration": 0,
    "start_time": "2022-03-20T09:26:01.298Z"
   },
   {
    "duration": 0,
    "start_time": "2022-03-20T09:26:01.300Z"
   },
   {
    "duration": 0,
    "start_time": "2022-03-20T09:26:01.301Z"
   },
   {
    "duration": 0,
    "start_time": "2022-03-20T09:26:01.304Z"
   },
   {
    "duration": 0,
    "start_time": "2022-03-20T09:26:01.306Z"
   },
   {
    "duration": 21,
    "start_time": "2022-03-20T09:26:06.216Z"
   },
   {
    "duration": 15,
    "start_time": "2022-03-20T09:26:35.070Z"
   },
   {
    "duration": 10,
    "start_time": "2022-03-20T09:26:36.930Z"
   },
   {
    "duration": 161,
    "start_time": "2022-03-20T09:26:38.925Z"
   },
   {
    "duration": 90,
    "start_time": "2022-03-20T09:26:59.712Z"
   },
   {
    "duration": 91,
    "start_time": "2022-03-20T09:27:17.665Z"
   },
   {
    "duration": 158,
    "start_time": "2022-03-20T09:27:20.448Z"
   },
   {
    "duration": 14,
    "start_time": "2022-03-20T09:27:21.869Z"
   },
   {
    "duration": 16,
    "start_time": "2022-03-20T09:27:40.950Z"
   },
   {
    "duration": 167,
    "start_time": "2022-03-20T09:27:43.360Z"
   },
   {
    "duration": 19,
    "start_time": "2022-03-20T09:27:43.779Z"
   },
   {
    "duration": 303,
    "start_time": "2022-03-20T09:27:45.876Z"
   },
   {
    "duration": 12,
    "start_time": "2022-03-20T09:28:44.385Z"
   },
   {
    "duration": 101,
    "start_time": "2022-03-20T09:28:44.681Z"
   },
   {
    "duration": 19,
    "start_time": "2022-03-20T09:28:45.034Z"
   },
   {
    "duration": 20,
    "start_time": "2022-03-20T09:29:14.786Z"
   },
   {
    "duration": 124,
    "start_time": "2022-03-20T09:29:15.514Z"
   },
   {
    "duration": 47,
    "start_time": "2022-03-20T09:29:15.905Z"
   },
   {
    "duration": 20,
    "start_time": "2022-03-20T09:29:31.359Z"
   },
   {
    "duration": 93,
    "start_time": "2022-03-20T09:29:32.685Z"
   },
   {
    "duration": 15,
    "start_time": "2022-03-20T09:29:33.209Z"
   },
   {
    "duration": 242,
    "start_time": "2022-03-20T09:29:34.768Z"
   },
   {
    "duration": 20,
    "start_time": "2022-03-20T09:29:45.104Z"
   },
   {
    "duration": 102,
    "start_time": "2022-03-20T09:29:45.349Z"
   },
   {
    "duration": 15,
    "start_time": "2022-03-20T09:29:45.582Z"
   },
   {
    "duration": 252,
    "start_time": "2022-03-20T09:29:46.114Z"
   },
   {
    "duration": 19,
    "start_time": "2022-03-20T09:37:44.639Z"
   },
   {
    "duration": 14,
    "start_time": "2022-03-20T09:37:44.844Z"
   },
   {
    "duration": 273,
    "start_time": "2022-03-20T09:37:46.203Z"
   },
   {
    "duration": 584,
    "start_time": "2022-03-20T09:38:30.111Z"
   },
   {
    "duration": 36,
    "start_time": "2022-03-20T09:38:30.697Z"
   },
   {
    "duration": 21,
    "start_time": "2022-03-20T09:38:30.735Z"
   },
   {
    "duration": 26,
    "start_time": "2022-03-20T09:38:30.759Z"
   },
   {
    "duration": 32,
    "start_time": "2022-03-20T09:38:30.787Z"
   },
   {
    "duration": 38,
    "start_time": "2022-03-20T09:38:30.821Z"
   },
   {
    "duration": 8,
    "start_time": "2022-03-20T09:38:30.861Z"
   },
   {
    "duration": 17,
    "start_time": "2022-03-20T09:38:30.871Z"
   },
   {
    "duration": 25,
    "start_time": "2022-03-20T09:38:30.890Z"
   },
   {
    "duration": 5,
    "start_time": "2022-03-20T09:38:30.919Z"
   },
   {
    "duration": 14,
    "start_time": "2022-03-20T09:38:30.926Z"
   },
   {
    "duration": 50,
    "start_time": "2022-03-20T09:38:30.942Z"
   },
   {
    "duration": 10,
    "start_time": "2022-03-20T09:38:30.995Z"
   },
   {
    "duration": 34,
    "start_time": "2022-03-20T09:38:31.008Z"
   },
   {
    "duration": 9,
    "start_time": "2022-03-20T09:38:31.044Z"
   },
   {
    "duration": 30,
    "start_time": "2022-03-20T09:38:31.055Z"
   },
   {
    "duration": 7,
    "start_time": "2022-03-20T09:38:31.088Z"
   },
   {
    "duration": 12,
    "start_time": "2022-03-20T09:38:31.097Z"
   },
   {
    "duration": 21,
    "start_time": "2022-03-20T09:38:31.111Z"
   },
   {
    "duration": 54,
    "start_time": "2022-03-20T09:38:31.135Z"
   },
   {
    "duration": 9,
    "start_time": "2022-03-20T09:38:31.192Z"
   },
   {
    "duration": 23,
    "start_time": "2022-03-20T09:38:31.203Z"
   },
   {
    "duration": 11,
    "start_time": "2022-03-20T09:38:31.229Z"
   },
   {
    "duration": 47,
    "start_time": "2022-03-20T09:38:31.242Z"
   },
   {
    "duration": 13,
    "start_time": "2022-03-20T09:38:31.291Z"
   },
   {
    "duration": 9,
    "start_time": "2022-03-20T09:38:31.306Z"
   },
   {
    "duration": 12,
    "start_time": "2022-03-20T09:38:31.317Z"
   },
   {
    "duration": 12,
    "start_time": "2022-03-20T09:38:31.337Z"
   },
   {
    "duration": 40,
    "start_time": "2022-03-20T09:38:31.352Z"
   },
   {
    "duration": 692,
    "start_time": "2022-03-20T09:38:31.394Z"
   },
   {
    "duration": 10,
    "start_time": "2022-03-20T09:38:32.089Z"
   },
   {
    "duration": 242,
    "start_time": "2022-03-20T09:38:32.101Z"
   },
   {
    "duration": 23,
    "start_time": "2022-03-20T09:38:32.345Z"
   },
   {
    "duration": 25,
    "start_time": "2022-03-20T09:38:32.385Z"
   },
   {
    "duration": 23,
    "start_time": "2022-03-20T09:38:32.412Z"
   },
   {
    "duration": 74,
    "start_time": "2022-03-20T09:38:32.437Z"
   },
   {
    "duration": 402,
    "start_time": "2022-03-20T09:38:32.513Z"
   },
   {
    "duration": 22,
    "start_time": "2022-03-20T09:38:32.917Z"
   },
   {
    "duration": 11,
    "start_time": "2022-03-20T09:38:32.941Z"
   },
   {
    "duration": 40,
    "start_time": "2022-03-20T09:38:32.954Z"
   },
   {
    "duration": 15,
    "start_time": "2022-03-20T09:38:32.996Z"
   },
   {
    "duration": 350,
    "start_time": "2022-03-20T09:38:33.013Z"
   },
   {
    "duration": 23,
    "start_time": "2022-03-20T09:38:33.365Z"
   },
   {
    "duration": 424,
    "start_time": "2022-03-20T09:38:33.391Z"
   },
   {
    "duration": 7,
    "start_time": "2022-03-20T09:38:33.818Z"
   },
   {
    "duration": 56,
    "start_time": "2022-03-20T09:38:33.827Z"
   },
   {
    "duration": 21,
    "start_time": "2022-03-20T09:38:33.886Z"
   },
   {
    "duration": 480,
    "start_time": "2022-03-20T09:38:33.909Z"
   },
   {
    "duration": 12,
    "start_time": "2022-03-20T09:38:34.391Z"
   },
   {
    "duration": 22,
    "start_time": "2022-03-20T09:38:34.405Z"
   },
   {
    "duration": 25,
    "start_time": "2022-03-20T09:38:34.429Z"
   },
   {
    "duration": 273,
    "start_time": "2022-03-20T09:38:34.456Z"
   },
   {
    "duration": 8,
    "start_time": "2022-03-20T09:38:34.731Z"
   },
   {
    "duration": 330,
    "start_time": "2022-03-20T09:38:34.741Z"
   },
   {
    "duration": 510,
    "start_time": "2022-03-20T09:38:35.073Z"
   },
   {
    "duration": 309,
    "start_time": "2022-03-20T09:38:35.585Z"
   },
   {
    "duration": 11,
    "start_time": "2022-03-20T09:38:35.897Z"
   },
   {
    "duration": 16,
    "start_time": "2022-03-20T09:38:35.911Z"
   },
   {
    "duration": 61,
    "start_time": "2022-03-20T09:38:35.930Z"
   },
   {
    "duration": 16,
    "start_time": "2022-03-20T09:38:35.992Z"
   },
   {
    "duration": 17,
    "start_time": "2022-03-20T09:38:36.010Z"
   },
   {
    "duration": 164,
    "start_time": "2022-03-20T09:38:36.030Z"
   },
   {
    "duration": 16,
    "start_time": "2022-03-20T09:38:36.197Z"
   },
   {
    "duration": 40,
    "start_time": "2022-03-20T09:38:36.216Z"
   },
   {
    "duration": 45,
    "start_time": "2022-03-20T09:38:36.258Z"
   },
   {
    "duration": 19,
    "start_time": "2022-03-20T09:38:36.306Z"
   },
   {
    "duration": 19,
    "start_time": "2022-03-20T09:38:36.328Z"
   },
   {
    "duration": 55,
    "start_time": "2022-03-20T09:38:36.349Z"
   },
   {
    "duration": 26,
    "start_time": "2022-03-20T09:38:36.406Z"
   },
   {
    "duration": 49,
    "start_time": "2022-03-20T09:38:36.435Z"
   },
   {
    "duration": 24,
    "start_time": "2022-03-20T09:38:36.486Z"
   },
   {
    "duration": 21,
    "start_time": "2022-03-20T09:38:36.513Z"
   },
   {
    "duration": 6,
    "start_time": "2022-03-20T09:38:36.536Z"
   },
   {
    "duration": 55,
    "start_time": "2022-03-20T09:38:36.544Z"
   },
   {
    "duration": 23,
    "start_time": "2022-03-20T09:38:36.601Z"
   },
   {
    "duration": 28,
    "start_time": "2022-03-20T09:38:36.626Z"
   },
   {
    "duration": 6,
    "start_time": "2022-03-20T09:38:36.684Z"
   },
   {
    "duration": 26,
    "start_time": "2022-03-20T09:38:36.692Z"
   },
   {
    "duration": 22,
    "start_time": "2022-03-20T09:38:36.721Z"
   },
   {
    "duration": 55,
    "start_time": "2022-03-20T09:38:36.745Z"
   },
   {
    "duration": 6,
    "start_time": "2022-03-20T09:38:36.802Z"
   },
   {
    "duration": 13,
    "start_time": "2022-03-20T09:38:36.816Z"
   },
   {
    "duration": 15,
    "start_time": "2022-03-20T09:38:36.832Z"
   },
   {
    "duration": 41,
    "start_time": "2022-03-20T09:38:36.849Z"
   },
   {
    "duration": 12,
    "start_time": "2022-03-20T09:38:36.892Z"
   },
   {
    "duration": 12,
    "start_time": "2022-03-20T09:38:36.906Z"
   },
   {
    "duration": 10,
    "start_time": "2022-03-20T09:38:36.921Z"
   },
   {
    "duration": 10,
    "start_time": "2022-03-20T09:38:36.933Z"
   },
   {
    "duration": 641,
    "start_time": "2022-03-20T09:55:04.272Z"
   },
   {
    "duration": 37,
    "start_time": "2022-03-20T09:55:04.915Z"
   },
   {
    "duration": 42,
    "start_time": "2022-03-20T09:55:04.955Z"
   },
   {
    "duration": 25,
    "start_time": "2022-03-20T09:55:05.000Z"
   },
   {
    "duration": 41,
    "start_time": "2022-03-20T09:55:05.029Z"
   },
   {
    "duration": 34,
    "start_time": "2022-03-20T09:55:05.073Z"
   },
   {
    "duration": 9,
    "start_time": "2022-03-20T09:55:05.110Z"
   },
   {
    "duration": 50,
    "start_time": "2022-03-20T09:55:05.121Z"
   },
   {
    "duration": 42,
    "start_time": "2022-03-20T09:55:05.173Z"
   },
   {
    "duration": 5,
    "start_time": "2022-03-20T09:55:05.221Z"
   },
   {
    "duration": 69,
    "start_time": "2022-03-20T09:55:05.229Z"
   },
   {
    "duration": 37,
    "start_time": "2022-03-20T09:55:05.300Z"
   },
   {
    "duration": 11,
    "start_time": "2022-03-20T09:55:05.340Z"
   },
   {
    "duration": 21,
    "start_time": "2022-03-20T09:55:05.353Z"
   },
   {
    "duration": 9,
    "start_time": "2022-03-20T09:55:05.384Z"
   },
   {
    "duration": 9,
    "start_time": "2022-03-20T09:55:05.396Z"
   },
   {
    "duration": 17,
    "start_time": "2022-03-20T09:55:05.408Z"
   },
   {
    "duration": 22,
    "start_time": "2022-03-20T09:55:05.428Z"
   },
   {
    "duration": 52,
    "start_time": "2022-03-20T09:55:05.452Z"
   },
   {
    "duration": 28,
    "start_time": "2022-03-20T09:55:05.507Z"
   },
   {
    "duration": 9,
    "start_time": "2022-03-20T09:55:05.538Z"
   },
   {
    "duration": 49,
    "start_time": "2022-03-20T09:55:05.550Z"
   },
   {
    "duration": 15,
    "start_time": "2022-03-20T09:55:05.601Z"
   },
   {
    "duration": 15,
    "start_time": "2022-03-20T09:55:05.618Z"
   },
   {
    "duration": 16,
    "start_time": "2022-03-20T09:55:05.635Z"
   },
   {
    "duration": 35,
    "start_time": "2022-03-20T09:55:05.654Z"
   },
   {
    "duration": 12,
    "start_time": "2022-03-20T09:55:05.692Z"
   },
   {
    "duration": 24,
    "start_time": "2022-03-20T09:55:05.710Z"
   },
   {
    "duration": 14,
    "start_time": "2022-03-20T09:55:05.736Z"
   },
   {
    "duration": 713,
    "start_time": "2022-03-20T09:55:05.752Z"
   },
   {
    "duration": 22,
    "start_time": "2022-03-20T09:55:06.467Z"
   },
   {
    "duration": 237,
    "start_time": "2022-03-20T09:55:06.491Z"
   },
   {
    "duration": 24,
    "start_time": "2022-03-20T09:55:06.730Z"
   },
   {
    "duration": 45,
    "start_time": "2022-03-20T09:55:06.756Z"
   },
   {
    "duration": 23,
    "start_time": "2022-03-20T09:55:06.803Z"
   },
   {
    "duration": 71,
    "start_time": "2022-03-20T09:55:06.829Z"
   },
   {
    "duration": 372,
    "start_time": "2022-03-20T09:55:06.902Z"
   },
   {
    "duration": 27,
    "start_time": "2022-03-20T09:55:07.276Z"
   },
   {
    "duration": 10,
    "start_time": "2022-03-20T09:55:07.306Z"
   },
   {
    "duration": 21,
    "start_time": "2022-03-20T09:55:07.319Z"
   },
   {
    "duration": 13,
    "start_time": "2022-03-20T09:55:07.343Z"
   },
   {
    "duration": 324,
    "start_time": "2022-03-20T09:55:07.384Z"
   },
   {
    "duration": 14,
    "start_time": "2022-03-20T09:55:07.710Z"
   },
   {
    "duration": 398,
    "start_time": "2022-03-20T09:55:07.726Z"
   },
   {
    "duration": 8,
    "start_time": "2022-03-20T09:55:08.127Z"
   },
   {
    "duration": 25,
    "start_time": "2022-03-20T09:55:08.137Z"
   },
   {
    "duration": 38,
    "start_time": "2022-03-20T09:55:08.164Z"
   },
   {
    "duration": 576,
    "start_time": "2022-03-20T09:55:08.204Z"
   },
   {
    "duration": 13,
    "start_time": "2022-03-20T09:55:08.783Z"
   },
   {
    "duration": 23,
    "start_time": "2022-03-20T09:55:08.798Z"
   },
   {
    "duration": 14,
    "start_time": "2022-03-20T09:55:08.823Z"
   },
   {
    "duration": 277,
    "start_time": "2022-03-20T09:55:08.839Z"
   },
   {
    "duration": 8,
    "start_time": "2022-03-20T09:55:09.119Z"
   },
   {
    "duration": 321,
    "start_time": "2022-03-20T09:55:09.130Z"
   },
   {
    "duration": 516,
    "start_time": "2022-03-20T09:55:09.454Z"
   },
   {
    "duration": 320,
    "start_time": "2022-03-20T09:55:09.973Z"
   },
   {
    "duration": 9,
    "start_time": "2022-03-20T09:55:10.295Z"
   },
   {
    "duration": 16,
    "start_time": "2022-03-20T09:55:10.306Z"
   },
   {
    "duration": 62,
    "start_time": "2022-03-20T09:55:10.324Z"
   },
   {
    "duration": 17,
    "start_time": "2022-03-20T09:55:10.388Z"
   },
   {
    "duration": 16,
    "start_time": "2022-03-20T09:55:10.407Z"
   },
   {
    "duration": 159,
    "start_time": "2022-03-20T09:55:10.426Z"
   },
   {
    "duration": 14,
    "start_time": "2022-03-20T09:55:10.588Z"
   },
   {
    "duration": 38,
    "start_time": "2022-03-20T09:55:10.605Z"
   },
   {
    "duration": 47,
    "start_time": "2022-03-20T09:55:10.645Z"
   },
   {
    "duration": 26,
    "start_time": "2022-03-20T09:55:10.695Z"
   },
   {
    "duration": 21,
    "start_time": "2022-03-20T09:55:10.723Z"
   },
   {
    "duration": 42,
    "start_time": "2022-03-20T09:55:10.747Z"
   },
   {
    "duration": 20,
    "start_time": "2022-03-20T09:55:10.792Z"
   },
   {
    "duration": 31,
    "start_time": "2022-03-20T09:55:10.814Z"
   },
   {
    "duration": 57,
    "start_time": "2022-03-20T09:55:10.848Z"
   },
   {
    "duration": 33,
    "start_time": "2022-03-20T09:55:10.908Z"
   },
   {
    "duration": 11,
    "start_time": "2022-03-20T09:55:10.943Z"
   },
   {
    "duration": 61,
    "start_time": "2022-03-20T09:55:10.956Z"
   },
   {
    "duration": 24,
    "start_time": "2022-03-20T09:55:11.020Z"
   },
   {
    "duration": 49,
    "start_time": "2022-03-20T09:55:11.047Z"
   },
   {
    "duration": 9,
    "start_time": "2022-03-20T09:55:11.099Z"
   },
   {
    "duration": 24,
    "start_time": "2022-03-20T09:55:11.110Z"
   },
   {
    "duration": 49,
    "start_time": "2022-03-20T09:55:11.137Z"
   },
   {
    "duration": 24,
    "start_time": "2022-03-20T09:55:11.188Z"
   },
   {
    "duration": 9,
    "start_time": "2022-03-20T09:55:11.214Z"
   },
   {
    "duration": 10,
    "start_time": "2022-03-20T09:55:11.231Z"
   },
   {
    "duration": 46,
    "start_time": "2022-03-20T09:55:11.243Z"
   },
   {
    "duration": 12,
    "start_time": "2022-03-20T09:55:11.292Z"
   },
   {
    "duration": 9,
    "start_time": "2022-03-20T09:55:11.306Z"
   },
   {
    "duration": 7,
    "start_time": "2022-03-20T09:55:11.317Z"
   },
   {
    "duration": 8,
    "start_time": "2022-03-20T09:55:11.326Z"
   },
   {
    "duration": 52,
    "start_time": "2022-03-20T09:55:11.336Z"
   },
   {
    "duration": 477,
    "start_time": "2022-03-20T12:19:36.393Z"
   },
   {
    "duration": 54,
    "start_time": "2022-03-20T12:19:38.044Z"
   },
   {
    "duration": 180,
    "start_time": "2022-03-20T12:20:32.299Z"
   },
   {
    "duration": 138,
    "start_time": "2022-03-20T12:24:19.386Z"
   },
   {
    "duration": 3009,
    "start_time": "2022-03-20T12:39:59.430Z"
   },
   {
    "duration": 31,
    "start_time": "2022-03-20T12:40:09.738Z"
   },
   {
    "duration": 2589,
    "start_time": "2022-03-20T12:40:11.349Z"
   },
   {
    "duration": 0,
    "start_time": "2022-03-20T12:40:13.941Z"
   },
   {
    "duration": 3,
    "start_time": "2022-03-20T12:40:23.420Z"
   },
   {
    "duration": 42,
    "start_time": "2022-03-20T12:40:23.961Z"
   },
   {
    "duration": 27,
    "start_time": "2022-03-20T12:40:26.900Z"
   },
   {
    "duration": 20,
    "start_time": "2022-03-20T12:40:27.552Z"
   },
   {
    "duration": 4,
    "start_time": "2022-03-20T12:40:32.188Z"
   },
   {
    "duration": 19,
    "start_time": "2022-03-20T12:40:34.046Z"
   },
   {
    "duration": 20,
    "start_time": "2022-03-20T12:40:37.910Z"
   },
   {
    "duration": 7,
    "start_time": "2022-03-20T12:40:41.014Z"
   },
   {
    "duration": 9,
    "start_time": "2022-03-20T12:40:47.895Z"
   },
   {
    "duration": 19,
    "start_time": "2022-03-20T12:40:49.869Z"
   },
   {
    "duration": 5,
    "start_time": "2022-03-20T12:40:52.630Z"
   },
   {
    "duration": 5,
    "start_time": "2022-03-20T12:40:53.092Z"
   },
   {
    "duration": 19,
    "start_time": "2022-03-20T12:40:53.714Z"
   },
   {
    "duration": 11,
    "start_time": "2022-03-20T12:40:56.171Z"
   },
   {
    "duration": 21,
    "start_time": "2022-03-20T12:40:57.552Z"
   },
   {
    "duration": 10,
    "start_time": "2022-03-20T12:41:02.693Z"
   },
   {
    "duration": 6,
    "start_time": "2022-03-20T12:41:03.718Z"
   },
   {
    "duration": 6,
    "start_time": "2022-03-20T12:41:04.620Z"
   },
   {
    "duration": 13,
    "start_time": "2022-03-20T12:41:05.363Z"
   },
   {
    "duration": 13,
    "start_time": "2022-03-20T12:53:03.966Z"
   },
   {
    "duration": 10,
    "start_time": "2022-03-20T12:53:15.539Z"
   },
   {
    "duration": 73,
    "start_time": "2022-03-20T16:17:39.572Z"
   },
   {
    "duration": 641,
    "start_time": "2022-03-20T16:18:42.291Z"
   },
   {
    "duration": 67,
    "start_time": "2022-03-20T16:18:42.935Z"
   },
   {
    "duration": 45,
    "start_time": "2022-03-20T16:18:44.818Z"
   },
   {
    "duration": 24,
    "start_time": "2022-03-20T16:18:45.494Z"
   },
   {
    "duration": 5,
    "start_time": "2022-03-20T16:18:50.769Z"
   },
   {
    "duration": 20,
    "start_time": "2022-03-20T16:18:52.912Z"
   },
   {
    "duration": 31,
    "start_time": "2022-03-20T16:19:13.451Z"
   },
   {
    "duration": 12,
    "start_time": "2022-03-20T16:19:19.586Z"
   },
   {
    "duration": 12,
    "start_time": "2022-03-20T16:19:24.558Z"
   },
   {
    "duration": 23,
    "start_time": "2022-03-20T16:19:32.694Z"
   },
   {
    "duration": 5,
    "start_time": "2022-03-20T16:19:35.331Z"
   },
   {
    "duration": 5,
    "start_time": "2022-03-20T16:19:36.198Z"
   },
   {
    "duration": 21,
    "start_time": "2022-03-20T16:19:36.959Z"
   },
   {
    "duration": 136,
    "start_time": "2022-03-20T16:24:47.472Z"
   },
   {
    "duration": 22,
    "start_time": "2022-03-20T16:41:18.961Z"
   },
   {
    "duration": 6,
    "start_time": "2022-03-20T16:41:21.182Z"
   },
   {
    "duration": 10,
    "start_time": "2022-03-20T16:41:22.071Z"
   },
   {
    "duration": 26,
    "start_time": "2022-03-20T16:41:25.924Z"
   },
   {
    "duration": 5,
    "start_time": "2022-03-20T16:41:27.178Z"
   },
   {
    "duration": 6,
    "start_time": "2022-03-20T16:41:27.533Z"
   },
   {
    "duration": 20,
    "start_time": "2022-03-20T16:41:27.918Z"
   },
   {
    "duration": 9,
    "start_time": "2022-03-20T16:50:47.607Z"
   },
   {
    "duration": 155,
    "start_time": "2022-03-20T16:51:19.642Z"
   },
   {
    "duration": 7,
    "start_time": "2022-03-20T16:58:24.631Z"
   },
   {
    "duration": 6,
    "start_time": "2022-03-20T16:58:31.786Z"
   },
   {
    "duration": 235,
    "start_time": "2022-03-20T16:58:32.763Z"
   },
   {
    "duration": 8,
    "start_time": "2022-03-20T16:58:38.190Z"
   },
   {
    "duration": 7,
    "start_time": "2022-03-20T16:58:52.402Z"
   },
   {
    "duration": 23,
    "start_time": "2022-03-20T16:59:22.975Z"
   },
   {
    "duration": 148,
    "start_time": "2022-03-20T17:04:13.770Z"
   },
   {
    "duration": 8,
    "start_time": "2022-03-20T17:04:21.650Z"
   },
   {
    "duration": 10,
    "start_time": "2022-03-20T17:04:23.661Z"
   },
   {
    "duration": 9,
    "start_time": "2022-03-20T17:04:37.002Z"
   },
   {
    "duration": 22,
    "start_time": "2022-03-20T17:04:38.082Z"
   },
   {
    "duration": 58,
    "start_time": "2022-03-20T17:11:07.070Z"
   },
   {
    "duration": 15,
    "start_time": "2022-03-20T17:11:09.877Z"
   },
   {
    "duration": 15,
    "start_time": "2022-03-20T17:11:10.518Z"
   },
   {
    "duration": 12,
    "start_time": "2022-03-20T17:11:11.314Z"
   },
   {
    "duration": 6,
    "start_time": "2022-03-20T17:11:12.778Z"
   },
   {
    "duration": 4,
    "start_time": "2022-03-20T17:11:13.673Z"
   },
   {
    "duration": 11,
    "start_time": "2022-03-20T17:11:14.794Z"
   },
   {
    "duration": 11,
    "start_time": "2022-03-20T17:11:19.196Z"
   },
   {
    "duration": 1042,
    "start_time": "2022-03-20T17:11:20.108Z"
   },
   {
    "duration": 14,
    "start_time": "2022-03-20T17:11:29.183Z"
   },
   {
    "duration": 222,
    "start_time": "2022-03-20T17:11:29.820Z"
   },
   {
    "duration": 151,
    "start_time": "2022-03-20T17:11:45.139Z"
   },
   {
    "duration": 29,
    "start_time": "2022-03-20T17:12:14.787Z"
   },
   {
    "duration": 149,
    "start_time": "2022-03-20T17:14:32.870Z"
   },
   {
    "duration": 33,
    "start_time": "2022-03-20T17:14:37.874Z"
   },
   {
    "duration": 30,
    "start_time": "2022-03-20T17:15:07.496Z"
   },
   {
    "duration": 50,
    "start_time": "2022-03-20T17:15:09.069Z"
   },
   {
    "duration": 363,
    "start_time": "2022-03-20T17:15:10.319Z"
   },
   {
    "duration": 23,
    "start_time": "2022-03-20T17:15:13.827Z"
   },
   {
    "duration": 11,
    "start_time": "2022-03-20T17:15:19.119Z"
   },
   {
    "duration": 131,
    "start_time": "2022-03-20T17:17:58.091Z"
   },
   {
    "duration": 14,
    "start_time": "2022-03-20T17:18:10.835Z"
   },
   {
    "duration": 11,
    "start_time": "2022-03-20T17:18:11.511Z"
   },
   {
    "duration": 449,
    "start_time": "2022-03-20T17:18:15.122Z"
   },
   {
    "duration": 18,
    "start_time": "2022-03-20T17:21:41.300Z"
   },
   {
    "duration": 538,
    "start_time": "2022-03-20T17:22:03.670Z"
   },
   {
    "duration": 10,
    "start_time": "2022-03-20T17:22:26.873Z"
   },
   {
    "duration": 26,
    "start_time": "2022-03-20T17:22:36.246Z"
   },
   {
    "duration": 29,
    "start_time": "2022-03-20T17:22:36.664Z"
   },
   {
    "duration": 475,
    "start_time": "2022-03-20T17:22:37.160Z"
   },
   {
    "duration": 16,
    "start_time": "2022-03-20T17:22:57.496Z"
   },
   {
    "duration": 23,
    "start_time": "2022-03-20T17:22:58.658Z"
   },
   {
    "duration": 142,
    "start_time": "2022-03-20T17:23:13.587Z"
   },
   {
    "duration": 16,
    "start_time": "2022-03-20T17:34:30.943Z"
   },
   {
    "duration": 271,
    "start_time": "2022-03-20T17:34:43.071Z"
   },
   {
    "duration": 32,
    "start_time": "2022-03-20T17:47:58.192Z"
   },
   {
    "duration": 49,
    "start_time": "2022-03-20T17:48:09.687Z"
   },
   {
    "duration": 22,
    "start_time": "2022-03-20T17:48:27.134Z"
   },
   {
    "duration": 12,
    "start_time": "2022-03-20T17:48:27.691Z"
   },
   {
    "duration": 23,
    "start_time": "2022-03-20T17:49:12.777Z"
   },
   {
    "duration": 32,
    "start_time": "2022-03-20T17:50:36.229Z"
   },
   {
    "duration": 26,
    "start_time": "2022-03-20T17:50:45.808Z"
   },
   {
    "duration": 5,
    "start_time": "2022-03-20T17:50:52.188Z"
   },
   {
    "duration": 14,
    "start_time": "2022-03-20T17:50:58.486Z"
   },
   {
    "duration": 14,
    "start_time": "2022-03-20T17:51:13.143Z"
   },
   {
    "duration": 13,
    "start_time": "2022-03-20T17:51:23.724Z"
   },
   {
    "duration": 154,
    "start_time": "2022-03-20T17:52:21.078Z"
   },
   {
    "duration": 13,
    "start_time": "2022-03-20T17:55:30.001Z"
   },
   {
    "duration": 19,
    "start_time": "2022-03-20T17:56:39.074Z"
   },
   {
    "duration": 17,
    "start_time": "2022-03-20T17:56:48.319Z"
   },
   {
    "duration": 273,
    "start_time": "2022-03-20T17:56:49.923Z"
   },
   {
    "duration": 7,
    "start_time": "2022-03-20T17:57:46.328Z"
   },
   {
    "duration": 298,
    "start_time": "2022-03-20T17:57:48.191Z"
   },
   {
    "duration": 622,
    "start_time": "2022-03-20T17:57:51.565Z"
   },
   {
    "duration": 24,
    "start_time": "2022-03-20T17:58:39.479Z"
   },
   {
    "duration": 24,
    "start_time": "2022-03-20T17:58:42.339Z"
   },
   {
    "duration": 25,
    "start_time": "2022-03-20T17:58:45.870Z"
   },
   {
    "duration": 7,
    "start_time": "2022-03-20T17:59:06.121Z"
   },
   {
    "duration": 24,
    "start_time": "2022-03-20T17:59:11.112Z"
   },
   {
    "duration": 25,
    "start_time": "2022-03-20T17:59:12.473Z"
   },
   {
    "duration": 24,
    "start_time": "2022-03-20T17:59:15.913Z"
   },
   {
    "duration": 9,
    "start_time": "2022-03-20T17:59:17.573Z"
   },
   {
    "duration": 26,
    "start_time": "2022-03-20T17:59:22.389Z"
   },
   {
    "duration": 24,
    "start_time": "2022-03-20T17:59:28.111Z"
   },
   {
    "duration": 35,
    "start_time": "2022-03-20T17:59:29.475Z"
   },
   {
    "duration": 9,
    "start_time": "2022-03-20T17:59:30.104Z"
   },
   {
    "duration": 14,
    "start_time": "2022-03-20T18:05:30.474Z"
   },
   {
    "duration": 171,
    "start_time": "2022-03-20T18:06:15.366Z"
   },
   {
    "duration": 13,
    "start_time": "2022-03-20T18:06:53.493Z"
   },
   {
    "duration": 22,
    "start_time": "2022-03-20T18:06:54.133Z"
   },
   {
    "duration": 15,
    "start_time": "2022-03-20T18:06:57.212Z"
   },
   {
    "duration": 232,
    "start_time": "2022-03-20T18:06:58.494Z"
   },
   {
    "duration": 157,
    "start_time": "2022-03-20T18:07:10.312Z"
   },
   {
    "duration": 141,
    "start_time": "2022-03-20T18:32:55.256Z"
   },
   {
    "duration": 48,
    "start_time": "2022-03-20T18:33:01.510Z"
   },
   {
    "duration": 9,
    "start_time": "2022-03-20T18:33:13.027Z"
   },
   {
    "duration": 294,
    "start_time": "2022-03-20T18:33:14.348Z"
   },
   {
    "duration": 16,
    "start_time": "2022-03-20T18:33:17.042Z"
   },
   {
    "duration": 17,
    "start_time": "2022-03-20T18:33:19.930Z"
   },
   {
    "duration": 13,
    "start_time": "2022-03-20T18:33:47.200Z"
   },
   {
    "duration": 7,
    "start_time": "2022-03-20T18:34:04.745Z"
   },
   {
    "duration": 10,
    "start_time": "2022-03-20T18:34:17.397Z"
   },
   {
    "duration": 8,
    "start_time": "2022-03-20T18:34:17.959Z"
   },
   {
    "duration": 51,
    "start_time": "2022-03-20T18:34:26.787Z"
   },
   {
    "duration": 9,
    "start_time": "2022-03-20T18:34:27.312Z"
   },
   {
    "duration": 11,
    "start_time": "2022-03-20T18:35:30.985Z"
   },
   {
    "duration": 7,
    "start_time": "2022-03-20T18:35:32.251Z"
   },
   {
    "duration": 338,
    "start_time": "2022-03-20T18:35:37.663Z"
   },
   {
    "duration": 8,
    "start_time": "2022-03-20T18:35:40.755Z"
   },
   {
    "duration": 10,
    "start_time": "2022-03-20T18:39:16.895Z"
   },
   {
    "duration": 297,
    "start_time": "2022-03-20T18:39:17.959Z"
   },
   {
    "duration": 11,
    "start_time": "2022-03-20T18:39:38.003Z"
   },
   {
    "duration": 276,
    "start_time": "2022-03-20T18:39:38.762Z"
   },
   {
    "duration": 16,
    "start_time": "2022-03-20T18:39:56.147Z"
   },
   {
    "duration": 10,
    "start_time": "2022-03-20T18:40:02.537Z"
   },
   {
    "duration": 280,
    "start_time": "2022-03-20T18:40:03.305Z"
   },
   {
    "duration": 8,
    "start_time": "2022-03-20T18:40:04.822Z"
   },
   {
    "duration": 10,
    "start_time": "2022-03-20T18:40:09.422Z"
   },
   {
    "duration": 285,
    "start_time": "2022-03-20T18:40:11.025Z"
   },
   {
    "duration": 8,
    "start_time": "2022-03-20T18:40:23.240Z"
   },
   {
    "duration": 18,
    "start_time": "2022-03-20T18:44:42.309Z"
   },
   {
    "duration": 11,
    "start_time": "2022-03-20T18:45:43.035Z"
   },
   {
    "duration": 18,
    "start_time": "2022-03-20T18:45:56.036Z"
   },
   {
    "duration": 17,
    "start_time": "2022-03-20T18:46:15.582Z"
   },
   {
    "duration": 15,
    "start_time": "2022-03-20T18:46:24.703Z"
   },
   {
    "duration": 14,
    "start_time": "2022-03-20T18:49:03.218Z"
   },
   {
    "duration": 14,
    "start_time": "2022-03-20T18:49:36.681Z"
   },
   {
    "duration": 15,
    "start_time": "2022-03-20T19:22:33.739Z"
   },
   {
    "duration": 183,
    "start_time": "2022-03-20T19:23:15.111Z"
   },
   {
    "duration": 15,
    "start_time": "2022-03-20T19:23:43.282Z"
   },
   {
    "duration": 13,
    "start_time": "2022-03-20T19:24:21.601Z"
   },
   {
    "duration": 13,
    "start_time": "2022-03-20T19:27:01.758Z"
   },
   {
    "duration": 135,
    "start_time": "2022-03-20T19:42:05.184Z"
   },
   {
    "duration": 263,
    "start_time": "2022-03-20T19:42:17.232Z"
   },
   {
    "duration": 16,
    "start_time": "2022-03-20T19:42:17.803Z"
   },
   {
    "duration": 40,
    "start_time": "2022-03-20T19:42:23.741Z"
   },
   {
    "duration": 14,
    "start_time": "2022-03-20T19:45:53.196Z"
   },
   {
    "duration": 9,
    "start_time": "2022-03-20T19:45:54.153Z"
   },
   {
    "duration": 21,
    "start_time": "2022-03-20T19:47:24.590Z"
   },
   {
    "duration": 9,
    "start_time": "2022-03-20T19:47:25.717Z"
   },
   {
    "duration": 6,
    "start_time": "2022-03-20T19:47:26.446Z"
   },
   {
    "duration": 7,
    "start_time": "2022-03-20T19:47:28.428Z"
   },
   {
    "duration": 221,
    "start_time": "2022-03-20T19:48:33.552Z"
   },
   {
    "duration": 16,
    "start_time": "2022-03-20T19:48:38.650Z"
   },
   {
    "duration": 8,
    "start_time": "2022-03-20T19:48:39.384Z"
   },
   {
    "duration": 14,
    "start_time": "2022-03-20T19:48:42.550Z"
   },
   {
    "duration": 8,
    "start_time": "2022-03-20T19:48:42.836Z"
   },
   {
    "duration": 145,
    "start_time": "2022-03-20T19:51:11.208Z"
   },
   {
    "duration": 580,
    "start_time": "2022-03-20T19:51:31.040Z"
   },
   {
    "duration": 71,
    "start_time": "2022-03-20T19:51:31.623Z"
   },
   {
    "duration": 39,
    "start_time": "2022-03-20T19:51:31.696Z"
   },
   {
    "duration": 55,
    "start_time": "2022-03-20T19:51:31.739Z"
   },
   {
    "duration": 5,
    "start_time": "2022-03-20T19:51:31.796Z"
   },
   {
    "duration": 20,
    "start_time": "2022-03-20T19:51:31.804Z"
   },
   {
    "duration": 62,
    "start_time": "2022-03-20T19:51:31.826Z"
   },
   {
    "duration": 7,
    "start_time": "2022-03-20T19:51:31.891Z"
   },
   {
    "duration": 13,
    "start_time": "2022-03-20T19:51:31.900Z"
   },
   {
    "duration": 29,
    "start_time": "2022-03-20T19:51:31.919Z"
   },
   {
    "duration": 34,
    "start_time": "2022-03-20T19:51:31.951Z"
   },
   {
    "duration": 8,
    "start_time": "2022-03-20T19:51:31.987Z"
   },
   {
    "duration": 22,
    "start_time": "2022-03-20T19:51:31.997Z"
   },
   {
    "duration": 7,
    "start_time": "2022-03-20T19:51:32.021Z"
   },
   {
    "duration": 6,
    "start_time": "2022-03-20T19:51:32.031Z"
   },
   {
    "duration": 45,
    "start_time": "2022-03-20T19:51:32.039Z"
   },
   {
    "duration": 10,
    "start_time": "2022-03-20T19:51:32.086Z"
   },
   {
    "duration": 19,
    "start_time": "2022-03-20T19:51:32.098Z"
   },
   {
    "duration": 6,
    "start_time": "2022-03-20T19:51:32.119Z"
   },
   {
    "duration": 11,
    "start_time": "2022-03-20T19:51:32.127Z"
   },
   {
    "duration": 53,
    "start_time": "2022-03-20T19:51:32.140Z"
   },
   {
    "duration": 16,
    "start_time": "2022-03-20T19:51:32.196Z"
   },
   {
    "duration": 14,
    "start_time": "2022-03-20T19:51:32.214Z"
   },
   {
    "duration": 13,
    "start_time": "2022-03-20T19:51:32.231Z"
   },
   {
    "duration": 5,
    "start_time": "2022-03-20T19:51:32.282Z"
   },
   {
    "duration": 7,
    "start_time": "2022-03-20T19:51:32.290Z"
   },
   {
    "duration": 15,
    "start_time": "2022-03-20T19:51:32.299Z"
   },
   {
    "duration": 10,
    "start_time": "2022-03-20T19:51:32.322Z"
   },
   {
    "duration": 701,
    "start_time": "2022-03-20T19:51:32.335Z"
   },
   {
    "duration": 12,
    "start_time": "2022-03-20T19:51:33.038Z"
   },
   {
    "duration": 241,
    "start_time": "2022-03-20T19:51:33.052Z"
   },
   {
    "duration": 22,
    "start_time": "2022-03-20T19:51:33.296Z"
   },
   {
    "duration": 22,
    "start_time": "2022-03-20T19:51:33.320Z"
   },
   {
    "duration": 49,
    "start_time": "2022-03-20T19:51:33.344Z"
   },
   {
    "duration": 44,
    "start_time": "2022-03-20T19:51:33.395Z"
   },
   {
    "duration": 357,
    "start_time": "2022-03-20T19:51:33.441Z"
   },
   {
    "duration": 20,
    "start_time": "2022-03-20T19:51:33.801Z"
   },
   {
    "duration": 11,
    "start_time": "2022-03-20T19:51:33.823Z"
   },
   {
    "duration": 13,
    "start_time": "2022-03-20T19:51:33.836Z"
   },
   {
    "duration": 38,
    "start_time": "2022-03-20T19:51:33.852Z"
   },
   {
    "duration": 322,
    "start_time": "2022-03-20T19:51:33.892Z"
   },
   {
    "duration": 15,
    "start_time": "2022-03-20T19:51:34.216Z"
   },
   {
    "duration": 375,
    "start_time": "2022-03-20T19:51:34.233Z"
   },
   {
    "duration": 9,
    "start_time": "2022-03-20T19:51:34.610Z"
   },
   {
    "duration": 22,
    "start_time": "2022-03-20T19:51:34.621Z"
   },
   {
    "duration": 43,
    "start_time": "2022-03-20T19:51:34.645Z"
   },
   {
    "duration": 449,
    "start_time": "2022-03-20T19:51:34.690Z"
   },
   {
    "duration": 13,
    "start_time": "2022-03-20T19:51:35.141Z"
   },
   {
    "duration": 24,
    "start_time": "2022-03-20T19:51:35.156Z"
   },
   {
    "duration": 14,
    "start_time": "2022-03-20T19:51:35.182Z"
   },
   {
    "duration": 18,
    "start_time": "2022-03-20T19:51:35.198Z"
   },
   {
    "duration": 25,
    "start_time": "2022-03-20T19:51:35.218Z"
   },
   {
    "duration": 19,
    "start_time": "2022-03-20T19:51:35.245Z"
   },
   {
    "duration": 239,
    "start_time": "2022-03-20T19:51:35.267Z"
   },
   {
    "duration": 10,
    "start_time": "2022-03-20T19:51:35.508Z"
   },
   {
    "duration": 298,
    "start_time": "2022-03-20T19:51:35.520Z"
   },
   {
    "duration": 509,
    "start_time": "2022-03-20T19:51:35.820Z"
   },
   {
    "duration": 10,
    "start_time": "2022-03-20T19:51:36.331Z"
   },
   {
    "duration": 287,
    "start_time": "2022-03-20T19:51:36.343Z"
   },
   {
    "duration": 10,
    "start_time": "2022-03-20T19:51:36.632Z"
   },
   {
    "duration": 40,
    "start_time": "2022-03-20T19:51:36.644Z"
   },
   {
    "duration": 13,
    "start_time": "2022-03-20T19:51:36.686Z"
   },
   {
    "duration": 13,
    "start_time": "2022-03-20T19:51:36.702Z"
   },
   {
    "duration": 14,
    "start_time": "2022-03-20T19:51:36.717Z"
   },
   {
    "duration": 120,
    "start_time": "2022-03-20T19:51:36.733Z"
   },
   {
    "duration": 35,
    "start_time": "2022-03-20T19:51:36.855Z"
   },
   {
    "duration": 14,
    "start_time": "2022-03-20T19:51:36.893Z"
   },
   {
    "duration": 16,
    "start_time": "2022-03-20T19:51:36.908Z"
   },
   {
    "duration": 56,
    "start_time": "2022-03-20T19:51:36.926Z"
   },
   {
    "duration": 15,
    "start_time": "2022-03-20T19:51:36.984Z"
   },
   {
    "duration": 35,
    "start_time": "2022-03-20T19:51:37.001Z"
   },
   {
    "duration": 48,
    "start_time": "2022-03-20T19:51:37.038Z"
   },
   {
    "duration": 25,
    "start_time": "2022-03-20T19:51:37.088Z"
   },
   {
    "duration": 23,
    "start_time": "2022-03-20T19:51:37.115Z"
   },
   {
    "duration": 24,
    "start_time": "2022-03-20T19:51:37.140Z"
   },
   {
    "duration": 23,
    "start_time": "2022-03-20T19:51:37.183Z"
   },
   {
    "duration": 24,
    "start_time": "2022-03-20T19:51:37.209Z"
   },
   {
    "duration": 60,
    "start_time": "2022-03-20T19:51:37.236Z"
   },
   {
    "duration": 22,
    "start_time": "2022-03-20T19:51:37.299Z"
   },
   {
    "duration": 5,
    "start_time": "2022-03-20T19:51:37.323Z"
   },
   {
    "duration": 55,
    "start_time": "2022-03-20T19:51:37.330Z"
   },
   {
    "duration": 24,
    "start_time": "2022-03-20T19:51:37.394Z"
   },
   {
    "duration": 24,
    "start_time": "2022-03-20T19:51:37.420Z"
   },
   {
    "duration": 37,
    "start_time": "2022-03-20T19:51:37.446Z"
   },
   {
    "duration": 25,
    "start_time": "2022-03-20T19:51:37.486Z"
   },
   {
    "duration": 23,
    "start_time": "2022-03-20T19:51:37.513Z"
   },
   {
    "duration": 55,
    "start_time": "2022-03-20T19:51:37.538Z"
   },
   {
    "duration": 9,
    "start_time": "2022-03-20T19:51:37.595Z"
   },
   {
    "duration": 16,
    "start_time": "2022-03-20T19:51:37.607Z"
   },
   {
    "duration": 15,
    "start_time": "2022-03-20T19:51:37.625Z"
   },
   {
    "duration": 43,
    "start_time": "2022-03-20T19:51:37.642Z"
   },
   {
    "duration": 9,
    "start_time": "2022-03-20T19:51:37.688Z"
   },
   {
    "duration": 7,
    "start_time": "2022-03-20T19:51:37.699Z"
   },
   {
    "duration": 9,
    "start_time": "2022-03-20T19:51:37.708Z"
   },
   {
    "duration": 7,
    "start_time": "2022-03-20T19:51:37.719Z"
   },
   {
    "duration": 505,
    "start_time": "2022-03-20T20:16:12.718Z"
   },
   {
    "duration": 44,
    "start_time": "2022-03-20T20:16:13.225Z"
   },
   {
    "duration": 24,
    "start_time": "2022-03-20T20:16:13.270Z"
   },
   {
    "duration": 14,
    "start_time": "2022-03-20T20:16:13.296Z"
   },
   {
    "duration": 3,
    "start_time": "2022-03-20T20:16:13.312Z"
   },
   {
    "duration": 18,
    "start_time": "2022-03-20T20:16:13.331Z"
   },
   {
    "duration": 15,
    "start_time": "2022-03-20T20:16:13.350Z"
   },
   {
    "duration": 5,
    "start_time": "2022-03-20T20:16:13.367Z"
   },
   {
    "duration": 15,
    "start_time": "2022-03-20T20:16:13.374Z"
   },
   {
    "duration": 17,
    "start_time": "2022-03-20T20:16:13.391Z"
   },
   {
    "duration": 23,
    "start_time": "2022-03-20T20:16:13.410Z"
   },
   {
    "duration": 6,
    "start_time": "2022-03-20T20:16:13.435Z"
   },
   {
    "duration": 18,
    "start_time": "2022-03-20T20:16:13.443Z"
   },
   {
    "duration": 5,
    "start_time": "2022-03-20T20:16:13.463Z"
   },
   {
    "duration": 6,
    "start_time": "2022-03-20T20:16:13.470Z"
   },
   {
    "duration": 9,
    "start_time": "2022-03-20T20:16:13.477Z"
   },
   {
    "duration": 6,
    "start_time": "2022-03-20T20:16:13.488Z"
   },
   {
    "duration": 41,
    "start_time": "2022-03-20T20:16:13.495Z"
   },
   {
    "duration": 5,
    "start_time": "2022-03-20T20:16:13.538Z"
   },
   {
    "duration": 20,
    "start_time": "2022-03-20T20:16:13.544Z"
   },
   {
    "duration": 23,
    "start_time": "2022-03-20T20:16:13.566Z"
   },
   {
    "duration": 9,
    "start_time": "2022-03-20T20:16:13.591Z"
   },
   {
    "duration": 12,
    "start_time": "2022-03-20T20:16:13.601Z"
   },
   {
    "duration": 8,
    "start_time": "2022-03-20T20:16:13.632Z"
   },
   {
    "duration": 7,
    "start_time": "2022-03-20T20:16:13.642Z"
   },
   {
    "duration": 7,
    "start_time": "2022-03-20T20:16:13.650Z"
   },
   {
    "duration": 12,
    "start_time": "2022-03-20T20:16:13.658Z"
   },
   {
    "duration": 8,
    "start_time": "2022-03-20T20:16:13.674Z"
   },
   {
    "duration": 487,
    "start_time": "2022-03-20T20:16:13.683Z"
   },
   {
    "duration": 7,
    "start_time": "2022-03-20T20:16:14.172Z"
   },
   {
    "duration": 162,
    "start_time": "2022-03-20T20:16:14.181Z"
   },
   {
    "duration": 16,
    "start_time": "2022-03-20T20:16:14.345Z"
   },
   {
    "duration": 16,
    "start_time": "2022-03-20T20:16:14.363Z"
   },
   {
    "duration": 16,
    "start_time": "2022-03-20T20:16:14.380Z"
   },
   {
    "duration": 59,
    "start_time": "2022-03-20T20:16:14.397Z"
   },
   {
    "duration": 250,
    "start_time": "2022-03-20T20:16:14.458Z"
   },
   {
    "duration": 24,
    "start_time": "2022-03-20T20:16:14.710Z"
   },
   {
    "duration": 7,
    "start_time": "2022-03-20T20:16:14.736Z"
   },
   {
    "duration": 12,
    "start_time": "2022-03-20T20:16:14.744Z"
   },
   {
    "duration": 8,
    "start_time": "2022-03-20T20:16:14.757Z"
   },
   {
    "duration": 238,
    "start_time": "2022-03-20T20:16:14.766Z"
   },
   {
    "duration": 12,
    "start_time": "2022-03-20T20:16:15.005Z"
   },
   {
    "duration": 291,
    "start_time": "2022-03-20T20:16:15.019Z"
   },
   {
    "duration": 6,
    "start_time": "2022-03-20T20:16:15.312Z"
   },
   {
    "duration": 24,
    "start_time": "2022-03-20T20:16:15.320Z"
   },
   {
    "duration": 15,
    "start_time": "2022-03-20T20:16:15.346Z"
   },
   {
    "duration": 326,
    "start_time": "2022-03-20T20:16:15.362Z"
   },
   {
    "duration": 9,
    "start_time": "2022-03-20T20:16:15.690Z"
   },
   {
    "duration": 16,
    "start_time": "2022-03-20T20:16:15.700Z"
   },
   {
    "duration": 9,
    "start_time": "2022-03-20T20:16:15.718Z"
   },
   {
    "duration": 11,
    "start_time": "2022-03-20T20:16:15.728Z"
   },
   {
    "duration": 11,
    "start_time": "2022-03-20T20:16:15.741Z"
   },
   {
    "duration": 8,
    "start_time": "2022-03-20T20:16:15.754Z"
   },
   {
    "duration": 161,
    "start_time": "2022-03-20T20:16:15.764Z"
   },
   {
    "duration": 7,
    "start_time": "2022-03-20T20:16:15.932Z"
   },
   {
    "duration": 215,
    "start_time": "2022-03-20T20:16:15.940Z"
   },
   {
    "duration": 410,
    "start_time": "2022-03-20T20:16:16.157Z"
   },
   {
    "duration": 7,
    "start_time": "2022-03-20T20:16:16.569Z"
   },
   {
    "duration": 190,
    "start_time": "2022-03-20T20:16:16.578Z"
   },
   {
    "duration": 7,
    "start_time": "2022-03-20T20:16:16.769Z"
   },
   {
    "duration": 12,
    "start_time": "2022-03-20T20:16:16.777Z"
   },
   {
    "duration": 11,
    "start_time": "2022-03-20T20:16:16.791Z"
   },
   {
    "duration": 12,
    "start_time": "2022-03-20T20:16:16.832Z"
   },
   {
    "duration": 11,
    "start_time": "2022-03-20T20:16:16.846Z"
   },
   {
    "duration": 13,
    "start_time": "2022-03-20T20:16:16.859Z"
   },
   {
    "duration": 106,
    "start_time": "2022-03-20T20:16:16.874Z"
   },
   {
    "duration": 11,
    "start_time": "2022-03-20T20:16:16.982Z"
   },
   {
    "duration": 9,
    "start_time": "2022-03-20T20:16:16.995Z"
   },
   {
    "duration": 39,
    "start_time": "2022-03-20T20:16:17.006Z"
   },
   {
    "duration": 11,
    "start_time": "2022-03-20T20:16:17.047Z"
   },
   {
    "duration": 29,
    "start_time": "2022-03-20T20:16:17.059Z"
   },
   {
    "duration": 13,
    "start_time": "2022-03-20T20:16:17.090Z"
   },
   {
    "duration": 34,
    "start_time": "2022-03-20T20:16:17.104Z"
   },
   {
    "duration": 14,
    "start_time": "2022-03-20T20:16:17.140Z"
   },
   {
    "duration": 13,
    "start_time": "2022-03-20T20:16:17.155Z"
   },
   {
    "duration": 13,
    "start_time": "2022-03-20T20:16:17.170Z"
   },
   {
    "duration": 19,
    "start_time": "2022-03-20T20:16:17.184Z"
   },
   {
    "duration": 40,
    "start_time": "2022-03-20T20:16:17.204Z"
   },
   {
    "duration": 15,
    "start_time": "2022-03-20T20:16:17.245Z"
   },
   {
    "duration": 9,
    "start_time": "2022-03-20T20:16:17.262Z"
   },
   {
    "duration": 18,
    "start_time": "2022-03-20T20:16:17.273Z"
   },
   {
    "duration": 37,
    "start_time": "2022-03-20T20:16:17.296Z"
   },
   {
    "duration": 17,
    "start_time": "2022-03-20T20:16:17.334Z"
   },
   {
    "duration": 8,
    "start_time": "2022-03-20T20:16:17.352Z"
   },
   {
    "duration": 17,
    "start_time": "2022-03-20T20:16:17.362Z"
   },
   {
    "duration": 15,
    "start_time": "2022-03-20T20:16:17.380Z"
   },
   {
    "duration": 45,
    "start_time": "2022-03-20T20:16:17.396Z"
   },
   {
    "duration": 7,
    "start_time": "2022-03-20T20:16:17.443Z"
   },
   {
    "duration": 15,
    "start_time": "2022-03-20T20:16:17.451Z"
   },
   {
    "duration": 8,
    "start_time": "2022-03-20T20:16:17.467Z"
   },
   {
    "duration": 13,
    "start_time": "2022-03-20T20:16:17.476Z"
   },
   {
    "duration": 7,
    "start_time": "2022-03-20T20:16:17.491Z"
   },
   {
    "duration": 8,
    "start_time": "2022-03-20T20:16:17.500Z"
   },
   {
    "duration": 6,
    "start_time": "2022-03-20T20:16:17.532Z"
   },
   {
    "duration": 6,
    "start_time": "2022-03-20T20:16:17.539Z"
   },
   {
    "duration": 446,
    "start_time": "2022-03-21T13:41:52.935Z"
   },
   {
    "duration": 39,
    "start_time": "2022-03-21T13:41:53.383Z"
   },
   {
    "duration": 31,
    "start_time": "2022-03-21T13:41:53.423Z"
   },
   {
    "duration": 15,
    "start_time": "2022-03-21T13:41:53.457Z"
   },
   {
    "duration": 4,
    "start_time": "2022-03-21T13:41:53.474Z"
   },
   {
    "duration": 18,
    "start_time": "2022-03-21T13:41:53.480Z"
   },
   {
    "duration": 55,
    "start_time": "2022-03-21T13:41:53.500Z"
   },
   {
    "duration": 5,
    "start_time": "2022-03-21T13:41:53.557Z"
   },
   {
    "duration": 11,
    "start_time": "2022-03-21T13:41:53.564Z"
   },
   {
    "duration": 16,
    "start_time": "2022-03-21T13:41:53.578Z"
   },
   {
    "duration": 4,
    "start_time": "2022-03-21T13:41:53.596Z"
   },
   {
    "duration": 37,
    "start_time": "2022-03-21T13:41:53.601Z"
   },
   {
    "duration": 17,
    "start_time": "2022-03-21T13:41:53.639Z"
   },
   {
    "duration": 6,
    "start_time": "2022-03-21T13:41:53.658Z"
   },
   {
    "duration": 10,
    "start_time": "2022-03-21T13:41:53.666Z"
   },
   {
    "duration": 9,
    "start_time": "2022-03-21T13:41:53.678Z"
   },
   {
    "duration": 11,
    "start_time": "2022-03-21T13:41:53.689Z"
   },
   {
    "duration": 16,
    "start_time": "2022-03-21T13:41:53.701Z"
   },
   {
    "duration": 20,
    "start_time": "2022-03-21T13:41:53.719Z"
   },
   {
    "duration": 10,
    "start_time": "2022-03-21T13:41:53.741Z"
   },
   {
    "duration": 14,
    "start_time": "2022-03-21T13:41:53.753Z"
   },
   {
    "duration": 9,
    "start_time": "2022-03-21T13:41:53.769Z"
   },
   {
    "duration": 11,
    "start_time": "2022-03-21T13:41:53.780Z"
   },
   {
    "duration": 45,
    "start_time": "2022-03-21T13:41:53.793Z"
   },
   {
    "duration": 4,
    "start_time": "2022-03-21T13:41:53.839Z"
   },
   {
    "duration": 7,
    "start_time": "2022-03-21T13:41:53.845Z"
   },
   {
    "duration": 13,
    "start_time": "2022-03-21T13:41:53.853Z"
   },
   {
    "duration": 7,
    "start_time": "2022-03-21T13:41:53.871Z"
   },
   {
    "duration": 480,
    "start_time": "2022-03-21T13:41:53.880Z"
   },
   {
    "duration": 8,
    "start_time": "2022-03-21T13:41:54.361Z"
   },
   {
    "duration": 144,
    "start_time": "2022-03-21T13:41:54.371Z"
   },
   {
    "duration": 22,
    "start_time": "2022-03-21T13:41:54.516Z"
   },
   {
    "duration": 16,
    "start_time": "2022-03-21T13:41:54.540Z"
   },
   {
    "duration": 15,
    "start_time": "2022-03-21T13:41:54.557Z"
   },
   {
    "duration": 29,
    "start_time": "2022-03-21T13:41:54.574Z"
   },
   {
    "duration": 251,
    "start_time": "2022-03-21T13:41:54.605Z"
   },
   {
    "duration": 16,
    "start_time": "2022-03-21T13:41:54.857Z"
   },
   {
    "duration": 8,
    "start_time": "2022-03-21T13:41:54.875Z"
   },
   {
    "duration": 13,
    "start_time": "2022-03-21T13:41:54.884Z"
   },
   {
    "duration": 8,
    "start_time": "2022-03-21T13:41:54.899Z"
   },
   {
    "duration": 230,
    "start_time": "2022-03-21T13:41:54.909Z"
   },
   {
    "duration": 11,
    "start_time": "2022-03-21T13:41:55.140Z"
   },
   {
    "duration": 275,
    "start_time": "2022-03-21T13:41:55.153Z"
   },
   {
    "duration": 12,
    "start_time": "2022-03-21T13:41:55.430Z"
   },
   {
    "duration": 17,
    "start_time": "2022-03-21T13:41:55.444Z"
   },
   {
    "duration": 20,
    "start_time": "2022-03-21T13:41:55.462Z"
   },
   {
    "duration": 302,
    "start_time": "2022-03-21T13:41:55.484Z"
   },
   {
    "duration": 9,
    "start_time": "2022-03-21T13:41:55.788Z"
   },
   {
    "duration": 17,
    "start_time": "2022-03-21T13:41:55.798Z"
   },
   {
    "duration": 8,
    "start_time": "2022-03-21T13:41:55.817Z"
   },
   {
    "duration": 14,
    "start_time": "2022-03-21T13:41:55.826Z"
   },
   {
    "duration": 13,
    "start_time": "2022-03-21T13:41:55.841Z"
   },
   {
    "duration": 9,
    "start_time": "2022-03-21T13:41:55.856Z"
   },
   {
    "duration": 163,
    "start_time": "2022-03-21T13:41:55.866Z"
   },
   {
    "duration": 12,
    "start_time": "2022-03-21T13:41:56.031Z"
   },
   {
    "duration": 203,
    "start_time": "2022-03-21T13:41:56.044Z"
   },
   {
    "duration": 376,
    "start_time": "2022-03-21T13:41:56.249Z"
   },
   {
    "duration": 12,
    "start_time": "2022-03-21T13:41:56.626Z"
   },
   {
    "duration": 173,
    "start_time": "2022-03-21T13:41:56.639Z"
   },
   {
    "duration": 6,
    "start_time": "2022-03-21T13:41:56.814Z"
   },
   {
    "duration": 31,
    "start_time": "2022-03-21T13:41:56.822Z"
   },
   {
    "duration": 24,
    "start_time": "2022-03-21T13:41:56.854Z"
   },
   {
    "duration": 11,
    "start_time": "2022-03-21T13:41:56.880Z"
   },
   {
    "duration": 14,
    "start_time": "2022-03-21T13:41:56.892Z"
   },
   {
    "duration": 13,
    "start_time": "2022-03-21T13:41:56.908Z"
   },
   {
    "duration": 131,
    "start_time": "2022-03-21T13:41:56.923Z"
   },
   {
    "duration": 13,
    "start_time": "2022-03-21T13:41:57.056Z"
   },
   {
    "duration": 27,
    "start_time": "2022-03-21T13:41:57.071Z"
   },
   {
    "duration": 22,
    "start_time": "2022-03-21T13:41:57.100Z"
   },
   {
    "duration": 14,
    "start_time": "2022-03-21T13:41:57.123Z"
   },
   {
    "duration": 45,
    "start_time": "2022-03-21T13:41:57.138Z"
   },
   {
    "duration": 12,
    "start_time": "2022-03-21T13:41:57.185Z"
   },
   {
    "duration": 21,
    "start_time": "2022-03-21T13:41:57.199Z"
   },
   {
    "duration": 27,
    "start_time": "2022-03-21T13:41:57.222Z"
   },
   {
    "duration": 19,
    "start_time": "2022-03-21T13:41:57.251Z"
   },
   {
    "duration": 17,
    "start_time": "2022-03-21T13:41:57.273Z"
   },
   {
    "duration": 44,
    "start_time": "2022-03-21T13:41:57.293Z"
   },
   {
    "duration": 30,
    "start_time": "2022-03-21T13:41:57.339Z"
   },
   {
    "duration": 15,
    "start_time": "2022-03-21T13:41:57.371Z"
   },
   {
    "duration": 31,
    "start_time": "2022-03-21T13:41:57.387Z"
   },
   {
    "duration": 19,
    "start_time": "2022-03-21T13:41:57.419Z"
   },
   {
    "duration": 21,
    "start_time": "2022-03-21T13:41:57.443Z"
   },
   {
    "duration": 16,
    "start_time": "2022-03-21T13:41:57.466Z"
   },
   {
    "duration": 23,
    "start_time": "2022-03-21T13:41:57.484Z"
   },
   {
    "duration": 35,
    "start_time": "2022-03-21T13:41:57.509Z"
   },
   {
    "duration": 25,
    "start_time": "2022-03-21T13:41:57.546Z"
   },
   {
    "duration": 23,
    "start_time": "2022-03-21T13:41:57.573Z"
   },
   {
    "duration": 17,
    "start_time": "2022-03-21T13:41:57.598Z"
   },
   {
    "duration": 25,
    "start_time": "2022-03-21T13:41:57.616Z"
   },
   {
    "duration": 24,
    "start_time": "2022-03-21T13:41:57.643Z"
   },
   {
    "duration": 23,
    "start_time": "2022-03-21T13:41:57.668Z"
   },
   {
    "duration": 22,
    "start_time": "2022-03-21T13:41:57.693Z"
   },
   {
    "duration": 23,
    "start_time": "2022-03-21T13:41:57.717Z"
   },
   {
    "duration": 15,
    "start_time": "2022-03-21T13:41:57.742Z"
   },
   {
    "duration": 19,
    "start_time": "2022-03-21T13:41:57.759Z"
   },
   {
    "duration": 404,
    "start_time": "2022-03-21T14:45:17.277Z"
   },
   {
    "duration": 37,
    "start_time": "2022-03-21T14:45:17.683Z"
   },
   {
    "duration": 35,
    "start_time": "2022-03-21T14:45:17.722Z"
   },
   {
    "duration": 14,
    "start_time": "2022-03-21T14:45:17.759Z"
   },
   {
    "duration": 4,
    "start_time": "2022-03-21T14:45:17.775Z"
   },
   {
    "duration": 22,
    "start_time": "2022-03-21T14:45:17.781Z"
   },
   {
    "duration": 47,
    "start_time": "2022-03-21T14:45:17.805Z"
   },
   {
    "duration": 5,
    "start_time": "2022-03-21T14:45:17.854Z"
   },
   {
    "duration": 18,
    "start_time": "2022-03-21T14:45:17.861Z"
   },
   {
    "duration": 24,
    "start_time": "2022-03-21T14:45:17.881Z"
   },
   {
    "duration": 3,
    "start_time": "2022-03-21T14:45:17.907Z"
   },
   {
    "duration": 7,
    "start_time": "2022-03-21T14:45:17.911Z"
   },
   {
    "duration": 29,
    "start_time": "2022-03-21T14:45:17.919Z"
   },
   {
    "duration": 5,
    "start_time": "2022-03-21T14:45:17.951Z"
   },
   {
    "duration": 16,
    "start_time": "2022-03-21T14:45:17.958Z"
   },
   {
    "duration": 16,
    "start_time": "2022-03-21T14:45:17.976Z"
   },
   {
    "duration": 16,
    "start_time": "2022-03-21T14:45:17.994Z"
   },
   {
    "duration": 26,
    "start_time": "2022-03-21T14:45:18.012Z"
   },
   {
    "duration": 4,
    "start_time": "2022-03-21T14:45:18.040Z"
   },
   {
    "duration": 13,
    "start_time": "2022-03-21T14:45:18.046Z"
   },
   {
    "duration": 16,
    "start_time": "2022-03-21T14:45:18.061Z"
   },
   {
    "duration": 8,
    "start_time": "2022-03-21T14:45:18.079Z"
   },
   {
    "duration": 13,
    "start_time": "2022-03-21T14:45:18.089Z"
   },
   {
    "duration": 10,
    "start_time": "2022-03-21T14:45:18.103Z"
   },
   {
    "duration": 5,
    "start_time": "2022-03-21T14:45:18.138Z"
   },
   {
    "duration": 12,
    "start_time": "2022-03-21T14:45:18.145Z"
   },
   {
    "duration": 36,
    "start_time": "2022-03-21T14:45:18.158Z"
   },
   {
    "duration": 16,
    "start_time": "2022-03-21T14:45:18.196Z"
   },
   {
    "duration": 454,
    "start_time": "2022-03-21T14:45:18.214Z"
   },
   {
    "duration": 7,
    "start_time": "2022-03-21T14:45:18.670Z"
   },
   {
    "duration": 158,
    "start_time": "2022-03-21T14:45:18.679Z"
   },
   {
    "duration": 16,
    "start_time": "2022-03-21T14:45:18.839Z"
   },
   {
    "duration": 15,
    "start_time": "2022-03-21T14:45:18.857Z"
   },
   {
    "duration": 14,
    "start_time": "2022-03-21T14:45:18.874Z"
   },
   {
    "duration": 62,
    "start_time": "2022-03-21T14:45:18.890Z"
   },
   {
    "duration": 228,
    "start_time": "2022-03-21T14:45:18.954Z"
   },
   {
    "duration": 15,
    "start_time": "2022-03-21T14:45:19.184Z"
   },
   {
    "duration": 7,
    "start_time": "2022-03-21T14:45:19.201Z"
   },
   {
    "duration": 34,
    "start_time": "2022-03-21T14:45:19.210Z"
   },
   {
    "duration": 8,
    "start_time": "2022-03-21T14:45:19.246Z"
   },
   {
    "duration": 220,
    "start_time": "2022-03-21T14:45:19.258Z"
   },
   {
    "duration": 10,
    "start_time": "2022-03-21T14:45:19.480Z"
   },
   {
    "duration": 221,
    "start_time": "2022-03-21T14:45:19.491Z"
   },
   {
    "duration": 6,
    "start_time": "2022-03-21T14:45:19.713Z"
   },
   {
    "duration": 35,
    "start_time": "2022-03-21T14:45:19.721Z"
   },
   {
    "duration": 28,
    "start_time": "2022-03-21T14:45:19.758Z"
   },
   {
    "duration": 386,
    "start_time": "2022-03-21T14:45:19.788Z"
   },
   {
    "duration": 9,
    "start_time": "2022-03-21T14:45:20.176Z"
   },
   {
    "duration": 44,
    "start_time": "2022-03-21T14:45:20.187Z"
   },
   {
    "duration": 46,
    "start_time": "2022-03-21T14:45:20.233Z"
   },
   {
    "duration": 56,
    "start_time": "2022-03-21T14:45:20.281Z"
   },
   {
    "duration": 25,
    "start_time": "2022-03-21T14:45:20.339Z"
   },
   {
    "duration": 42,
    "start_time": "2022-03-21T14:45:20.367Z"
   },
   {
    "duration": 168,
    "start_time": "2022-03-21T14:45:20.411Z"
   },
   {
    "duration": 7,
    "start_time": "2022-03-21T14:45:20.580Z"
   },
   {
    "duration": 193,
    "start_time": "2022-03-21T14:45:20.589Z"
   },
   {
    "duration": 375,
    "start_time": "2022-03-21T14:45:20.784Z"
   },
   {
    "duration": 7,
    "start_time": "2022-03-21T14:45:21.161Z"
   },
   {
    "duration": 176,
    "start_time": "2022-03-21T14:45:21.170Z"
   },
   {
    "duration": 7,
    "start_time": "2022-03-21T14:45:21.348Z"
   },
   {
    "duration": 14,
    "start_time": "2022-03-21T14:45:21.357Z"
   },
   {
    "duration": 13,
    "start_time": "2022-03-21T14:45:21.373Z"
   },
   {
    "duration": 10,
    "start_time": "2022-03-21T14:45:21.388Z"
   },
   {
    "duration": 40,
    "start_time": "2022-03-21T14:45:21.400Z"
   },
   {
    "duration": 10,
    "start_time": "2022-03-21T14:45:21.442Z"
   },
   {
    "duration": 14,
    "start_time": "2022-03-21T14:45:21.454Z"
   },
   {
    "duration": 14,
    "start_time": "2022-03-21T14:45:21.470Z"
   },
   {
    "duration": 17,
    "start_time": "2022-03-21T14:45:21.486Z"
   },
   {
    "duration": 38,
    "start_time": "2022-03-21T14:45:21.505Z"
   },
   {
    "duration": 9,
    "start_time": "2022-03-21T14:45:21.545Z"
   },
   {
    "duration": 28,
    "start_time": "2022-03-21T14:45:21.556Z"
   },
   {
    "duration": 14,
    "start_time": "2022-03-21T14:45:21.586Z"
   },
   {
    "duration": 17,
    "start_time": "2022-03-21T14:45:21.601Z"
   },
   {
    "duration": 21,
    "start_time": "2022-03-21T14:45:21.637Z"
   },
   {
    "duration": 17,
    "start_time": "2022-03-21T14:45:21.660Z"
   },
   {
    "duration": 16,
    "start_time": "2022-03-21T14:45:21.678Z"
   },
   {
    "duration": 16,
    "start_time": "2022-03-21T14:45:21.696Z"
   },
   {
    "duration": 34,
    "start_time": "2022-03-21T14:45:21.714Z"
   },
   {
    "duration": 17,
    "start_time": "2022-03-21T14:45:21.750Z"
   },
   {
    "duration": 6,
    "start_time": "2022-03-21T14:45:21.769Z"
   },
   {
    "duration": 33,
    "start_time": "2022-03-21T14:45:21.776Z"
   },
   {
    "duration": 27,
    "start_time": "2022-03-21T14:45:21.811Z"
   },
   {
    "duration": 15,
    "start_time": "2022-03-21T14:45:21.841Z"
   },
   {
    "duration": 5,
    "start_time": "2022-03-21T14:45:21.858Z"
   },
   {
    "duration": 20,
    "start_time": "2022-03-21T14:45:21.865Z"
   },
   {
    "duration": 15,
    "start_time": "2022-03-21T14:45:21.887Z"
   },
   {
    "duration": 46,
    "start_time": "2022-03-21T14:45:21.904Z"
   },
   {
    "duration": 5,
    "start_time": "2022-03-21T14:45:21.952Z"
   },
   {
    "duration": 21,
    "start_time": "2022-03-21T14:45:21.959Z"
   },
   {
    "duration": 9,
    "start_time": "2022-03-21T14:45:21.982Z"
   },
   {
    "duration": 12,
    "start_time": "2022-03-21T14:45:21.993Z"
   },
   {
    "duration": 8,
    "start_time": "2022-03-21T14:45:22.007Z"
   },
   {
    "duration": 23,
    "start_time": "2022-03-21T14:45:22.016Z"
   },
   {
    "duration": 9,
    "start_time": "2022-03-21T14:45:22.042Z"
   },
   {
    "duration": 7,
    "start_time": "2022-03-21T14:45:22.053Z"
   }
  ],
  "colab": {
   "name": "Untitled1.ipynb",
   "provenance": []
  },
  "kernelspec": {
   "display_name": "Python 3 (ipykernel)",
   "language": "python",
   "name": "python3"
  },
  "language_info": {
   "codemirror_mode": {
    "name": "ipython",
    "version": 3
   },
   "file_extension": ".py",
   "mimetype": "text/x-python",
   "name": "python",
   "nbconvert_exporter": "python",
   "pygments_lexer": "ipython3",
   "version": "3.9.12"
  },
  "toc": {
   "base_numbering": 1,
   "nav_menu": {},
   "number_sections": true,
   "sideBar": true,
   "skip_h1_title": true,
   "title_cell": "Table of Contents",
   "title_sidebar": "Contents",
   "toc_cell": false,
   "toc_position": {},
   "toc_section_display": true,
   "toc_window_display": true
  }
 },
 "nbformat": 4,
 "nbformat_minor": 1
}

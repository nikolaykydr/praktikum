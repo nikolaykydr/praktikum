{
 "cells": [
  {
   "cell_type": "markdown",
   "metadata": {},
   "source": [
    "___    \n",
    "    \n",
    "**Название проекта**\n",
    "<big> Формирование модели монетизации игры \"Космические братья\" с помощью рекламы </big>\n",
    "_____\n",
    "**Описание исследования.**\n",
    "Основной датасет содержит данные о событиях, совершенных в мобильной игре «Космические братья». В ней пользователи строят свою космическую программу и пытаются преуспеть в нелёгком деле колонизации галактики.\n",
    "\n",
    "Основная монетизация игры — только планируется. Но предполагается, что в приложении будет происходить показ рекламы на экране с выбором типа объекта для постройки.\n",
    "\n",
    "В датасете представлены данные по игре пользователей на первом уровне. Завершение первого уровня требует от игрока выполнения одного из двух условий:\n",
    "\n",
    "- Победа над первым врагом\n",
    "- Реализация проекта - разработка орбитальной сборки спутников\n",
    "\n",
    "В датасете содержатся данные первых пользователей приложения — когорты пользователей, которые начали пользоваться приложением в период с 4 по 10 мая включительно.\n",
    "\n",
    "_____\n",
    "**Цель исследования.**\n",
    "Проанализировать датасет и дать рекомендации о выборе модели монетизации\n",
    "\n",
    "Предполагаемая модель монетизации:\n",
    "* при строительстве каждого здания появляется окно с рекламой. Мы зарабатываем около 0.07 цента за каждый показ\n",
    "\n",
    "    \n",
    "_____\n",
    "**Задачи исследования.**\n",
    "- Подготовить данные для исследования (выгрузка)\n",
    "- Провести предобработку данных\n",
    "- Провести исседовательский анализ данных\n",
    "- Проверить гипоетезы\n",
    "- Дать рекомендации на основе исследования и сделать выводы\n",
    "_____\n",
    "**Исходные данные.**\n",
    "Таблица game_actions.csv(данные о пользователей):\n",
    "\n",
    "* event_datetime — время события;\n",
    "* event — одно из трёх событий:\n",
    "    1. `building` — объект построен,\n",
    "    2. `finished_stage_1` — первый уровень завершён,\n",
    "    3. `project` — проект завершён;\n",
    "* building_type — один из трёх типов здания:\n",
    "    1. `assembly_shop` — сборочный цех,\n",
    "    2. `spaceport` — космопорт,\n",
    "    3. `research_center` — исследовательский центр;\n",
    "* user_id — идентификатор пользователя;\n",
    "* project_type — тип реализованного проекта;\n",
    "\n",
    "Таблица ad_cost.csv (информация о кликах на объявление):\n",
    "\n",
    "* day - день, в который был совершен клик по объявлению\n",
    "* source - источник трафика\n",
    "* cost - стоимость кликов\n",
    "\n",
    "Таблица user_source.csv (информация о источниках трафика, откуда пришли пользователи):\n",
    "* user_id - идентификатор пользователя;\n",
    "* source - источников, с которого пришёл пользователь, установивший приложение\n",
    "_____\n",
    "**Данное исследование разделим на несколько частей.**\n",
    "\n",
    "***Часть 1. Выгрузка данных:***\n",
    "* [1. Загрзука необходимых библиотек для анализа](#1-bullet)\n",
    "* [2. Загрузка датасетов в проект](#2-bullet)\n",
    "* [3. Первичные выводы (по необработанном датасету)](#3-bullet)\n",
    "\n",
    "***Часть 2 Предобработка данных :***\n",
    "* [1. Обработка пропусков](#4-bullet)\n",
    "* [2. Поиск и анализ дубликатов](#5-bullet)\n",
    "* [3. Корректировка типа данных](#6-bullet)\n",
    "* [4. Выводы по второй части](#7-bullet)\n",
    "\n",
    "***Часть 3.Исследовательский анализ данных :***\n",
    "* [1. Анализ таблицы action](#8-bullet)\n",
    "    * [1. action.date](#9-bullet)\n",
    "    * [2. action.event](#10-bullet)\n",
    "* [2. Анализ таблицы ad ](#11-bullet)\n",
    "    * [1. ad.source](#12-bullet)\n",
    "    * [2. ad.day](#13-bullet)\n",
    "    * [3. ad.cost](#14-bullet)\n",
    "* [3. Анализ таблицы source](#15-bullet)\n",
    "    * [1. source.source](#16-bullet)\n",
    "* [4. Вывод по певрой части ИАД](#17-bullet)\n",
    "* [5. Анализ времени прохождения уровня ](#18-bullet)\n",
    "* [6. Анализ количества зданий, построенных  пользователями](#19-bullet)\n",
    "    * [1.Количество зданий для тех, кто выполнил проект](#20-bullet)\n",
    "    * [2. Количество зданий для тех, кто прошел уровней с помощью победы над врагом](#21-bullet)\n",
    "    * [3. Те, кто не закончили первый уровень](#22-bullet)\n",
    "* [7.  Анализ количества визитов в день для уникального пользователя](#23-bullet)\n",
    "* [8. Подключение монетизации](#24-bullet)\n",
    "* [9. Общий вывод](#25-bullet)\n",
    "\n",
    "***Часть 4.Расчет метрик :***\n",
    "* [1. Расчет DAU/WAU/Sticky factor](#26-bullet)\n",
    "* [2. Расчет СAC](#27-bullet)\n",
    "* [3. Расчет Retention Rate](#28-bullet)\n",
    "* [4. Расчет LTV](#29-bullet)\n",
    "* [5. Общий вывод ](#30-bullet)\n",
    "\n",
    "***Часть 5.Тестирование гипотез:***\n",
    "* [1.Гипотеза о различие среднего времени прохождения уровня между пользователями, которые заканчивают уровень через реализацию проекта, и пользователями, которые заканчивают уровень победой над первым врагом](#31-bullet)\n",
    "* [2. Гипотеза о различия среднего  количества зданий, построенных у пользователей, которые заканчивают уровень через реализацию проекта, и пользователями, которые заканчивают уровень победой над первым врагом](#32-bullet)\n",
    "* [3. Общие выводы по части ](#33-bullet)\n",
    "\n",
    "\n",
    "***Часть 6.Выводы и прдложения:***\n",
    "* [1. Общие выводы по проекту](#34-bullet)\n",
    "* [2. Рекомендации для модели монетизации игры](#35-bullet)\n",
    "\n",
    "<a href=\"https://public.tableau.com/app/profile/nirson5/viz/Cosmic_bros/Dashboard1?publish=yes\">Ссылка на Дешборд </a>\n",
    "\n",
    "<a href=\"https://yadi.sk/i/7quJMKpWCgpMtg\">Ссылка на Презентацию </a>"
   ]
  },
  {
   "cell_type": "markdown",
   "metadata": {},
   "source": [
    "## Загрузка данных и библиотек"
   ]
  },
  {
   "cell_type": "markdown",
   "metadata": {},
   "source": [
    "<a class=\"anchor\" id=\"1-bullet\"></a>\n",
    "### Загрзука необходимых библиотек для анализа"
   ]
  },
  {
   "cell_type": "markdown",
   "metadata": {},
   "source": [
    "Перед началом работы с данными, выгрузим все библиотеки, которые нам могут понадобиться для данного анализа"
   ]
  },
  {
   "cell_type": "code",
   "execution_count": 1,
   "metadata": {},
   "outputs": [],
   "source": [
    "import pandas as pd\n",
    "from matplotlib import pyplot as plt\n",
    "import numpy as np\n",
    "import plotly.express as px\n",
    "import seaborn as sns\n",
    "from scipy import stats as st"
   ]
  },
  {
   "cell_type": "markdown",
   "metadata": {},
   "source": [
    "<a class=\"anchor\" id=\"2-bullet\"></a>\n",
    "### Загрузка датасетов в проект"
   ]
  },
  {
   "cell_type": "markdown",
   "metadata": {},
   "source": [
    "Для того, чтобы было удобнее работать с файлами, загрузим их на гугл диск и прочтем с помощью pandas. Всего у нас три датасета, которые нужно детально проанализировать:\n",
    "* game_actions.csv\n",
    "* ad_costs.csv\n",
    "* user_source.csv\n",
    "\n",
    "После загрузки выведем размер датасетов, информацию о них, а также первые пять строк."
   ]
  },
  {
   "cell_type": "code",
   "execution_count": 2,
   "metadata": {},
   "outputs": [],
   "source": [
    "action= pd.read_csv('//datasets//game_actions.csv')"
   ]
  },
  {
   "cell_type": "code",
   "execution_count": 3,
   "metadata": {},
   "outputs": [
    {
     "name": "stdout",
     "output_type": "stream",
     "text": [
      "<class 'pandas.core.frame.DataFrame'>\n",
      "RangeIndex: 135640 entries, 0 to 135639\n",
      "Data columns (total 5 columns):\n",
      " #   Column          Non-Null Count   Dtype \n",
      "---  ------          --------------   ----- \n",
      " 0   event_datetime  135640 non-null  object\n",
      " 1   event           135640 non-null  object\n",
      " 2   building_type   127957 non-null  object\n",
      " 3   user_id         135640 non-null  object\n",
      " 4   project_type    1866 non-null    object\n",
      "dtypes: object(5)\n",
      "memory usage: 5.2+ MB\n"
     ]
    }
   ],
   "source": [
    "action.info()"
   ]
  },
  {
   "cell_type": "code",
   "execution_count": 4,
   "metadata": {},
   "outputs": [
    {
     "data": {
      "text/plain": [
       "(135640, 5)"
      ]
     },
     "execution_count": 4,
     "metadata": {},
     "output_type": "execute_result"
    }
   ],
   "source": [
    "action.shape"
   ]
  },
  {
   "cell_type": "code",
   "execution_count": 5,
   "metadata": {},
   "outputs": [
    {
     "data": {
      "text/html": [
       "<div>\n",
       "<style scoped>\n",
       "    .dataframe tbody tr th:only-of-type {\n",
       "        vertical-align: middle;\n",
       "    }\n",
       "\n",
       "    .dataframe tbody tr th {\n",
       "        vertical-align: top;\n",
       "    }\n",
       "\n",
       "    .dataframe thead th {\n",
       "        text-align: right;\n",
       "    }\n",
       "</style>\n",
       "<table border=\"1\" class=\"dataframe\">\n",
       "  <thead>\n",
       "    <tr style=\"text-align: right;\">\n",
       "      <th></th>\n",
       "      <th>event_datetime</th>\n",
       "      <th>event</th>\n",
       "      <th>building_type</th>\n",
       "      <th>user_id</th>\n",
       "      <th>project_type</th>\n",
       "    </tr>\n",
       "  </thead>\n",
       "  <tbody>\n",
       "    <tr>\n",
       "      <th>0</th>\n",
       "      <td>2020-05-04 00:00:01</td>\n",
       "      <td>building</td>\n",
       "      <td>assembly_shop</td>\n",
       "      <td>55e92310-cb8e-4754-b622-597e124b03de</td>\n",
       "      <td>NaN</td>\n",
       "    </tr>\n",
       "    <tr>\n",
       "      <th>1</th>\n",
       "      <td>2020-05-04 00:00:03</td>\n",
       "      <td>building</td>\n",
       "      <td>assembly_shop</td>\n",
       "      <td>c07b1c10-f477-44dc-81dc-ec82254b1347</td>\n",
       "      <td>NaN</td>\n",
       "    </tr>\n",
       "    <tr>\n",
       "      <th>2</th>\n",
       "      <td>2020-05-04 00:00:16</td>\n",
       "      <td>building</td>\n",
       "      <td>assembly_shop</td>\n",
       "      <td>6edd42cc-e753-4ff6-a947-2107cd560710</td>\n",
       "      <td>NaN</td>\n",
       "    </tr>\n",
       "    <tr>\n",
       "      <th>3</th>\n",
       "      <td>2020-05-04 00:00:16</td>\n",
       "      <td>building</td>\n",
       "      <td>assembly_shop</td>\n",
       "      <td>92c69003-d60a-444a-827f-8cc51bf6bf4c</td>\n",
       "      <td>NaN</td>\n",
       "    </tr>\n",
       "    <tr>\n",
       "      <th>4</th>\n",
       "      <td>2020-05-04 00:00:35</td>\n",
       "      <td>building</td>\n",
       "      <td>assembly_shop</td>\n",
       "      <td>cdc6bb92-0ccb-4490-9866-ef142f09139d</td>\n",
       "      <td>NaN</td>\n",
       "    </tr>\n",
       "  </tbody>\n",
       "</table>\n",
       "</div>"
      ],
      "text/plain": [
       "        event_datetime     event  building_type  \\\n",
       "0  2020-05-04 00:00:01  building  assembly_shop   \n",
       "1  2020-05-04 00:00:03  building  assembly_shop   \n",
       "2  2020-05-04 00:00:16  building  assembly_shop   \n",
       "3  2020-05-04 00:00:16  building  assembly_shop   \n",
       "4  2020-05-04 00:00:35  building  assembly_shop   \n",
       "\n",
       "                                user_id project_type  \n",
       "0  55e92310-cb8e-4754-b622-597e124b03de          NaN  \n",
       "1  c07b1c10-f477-44dc-81dc-ec82254b1347          NaN  \n",
       "2  6edd42cc-e753-4ff6-a947-2107cd560710          NaN  \n",
       "3  92c69003-d60a-444a-827f-8cc51bf6bf4c          NaN  \n",
       "4  cdc6bb92-0ccb-4490-9866-ef142f09139d          NaN  "
      ]
     },
     "execution_count": 5,
     "metadata": {},
     "output_type": "execute_result"
    }
   ],
   "source": [
    "action.head()"
   ]
  },
  {
   "cell_type": "markdown",
   "metadata": {},
   "source": [
    "Первично о датасете  game_actions.csv можно сделать вывод, что:\n",
    "* некоторые форматы данных указаны некорректно\n",
    "* есть пропуски\n"
   ]
  },
  {
   "cell_type": "code",
   "execution_count": 6,
   "metadata": {},
   "outputs": [],
   "source": [
    "ad= pd.read_csv('//datasets//ad_costs.csv')"
   ]
  },
  {
   "cell_type": "code",
   "execution_count": 7,
   "metadata": {},
   "outputs": [
    {
     "name": "stdout",
     "output_type": "stream",
     "text": [
      "<class 'pandas.core.frame.DataFrame'>\n",
      "RangeIndex: 28 entries, 0 to 27\n",
      "Data columns (total 3 columns):\n",
      " #   Column  Non-Null Count  Dtype  \n",
      "---  ------  --------------  -----  \n",
      " 0   source  28 non-null     object \n",
      " 1   day     28 non-null     object \n",
      " 2   cost    28 non-null     float64\n",
      "dtypes: float64(1), object(2)\n",
      "memory usage: 800.0+ bytes\n"
     ]
    }
   ],
   "source": [
    "ad.info()"
   ]
  },
  {
   "cell_type": "code",
   "execution_count": 8,
   "metadata": {},
   "outputs": [
    {
     "data": {
      "text/plain": [
       "(28, 3)"
      ]
     },
     "execution_count": 8,
     "metadata": {},
     "output_type": "execute_result"
    }
   ],
   "source": [
    "ad.shape"
   ]
  },
  {
   "cell_type": "code",
   "execution_count": 9,
   "metadata": {},
   "outputs": [
    {
     "data": {
      "text/html": [
       "<div>\n",
       "<style scoped>\n",
       "    .dataframe tbody tr th:only-of-type {\n",
       "        vertical-align: middle;\n",
       "    }\n",
       "\n",
       "    .dataframe tbody tr th {\n",
       "        vertical-align: top;\n",
       "    }\n",
       "\n",
       "    .dataframe thead th {\n",
       "        text-align: right;\n",
       "    }\n",
       "</style>\n",
       "<table border=\"1\" class=\"dataframe\">\n",
       "  <thead>\n",
       "    <tr style=\"text-align: right;\">\n",
       "      <th></th>\n",
       "      <th>source</th>\n",
       "      <th>day</th>\n",
       "      <th>cost</th>\n",
       "    </tr>\n",
       "  </thead>\n",
       "  <tbody>\n",
       "    <tr>\n",
       "      <th>0</th>\n",
       "      <td>facebook_ads</td>\n",
       "      <td>2020-05-03</td>\n",
       "      <td>935.882786</td>\n",
       "    </tr>\n",
       "    <tr>\n",
       "      <th>1</th>\n",
       "      <td>facebook_ads</td>\n",
       "      <td>2020-05-04</td>\n",
       "      <td>548.354480</td>\n",
       "    </tr>\n",
       "    <tr>\n",
       "      <th>2</th>\n",
       "      <td>facebook_ads</td>\n",
       "      <td>2020-05-05</td>\n",
       "      <td>260.185754</td>\n",
       "    </tr>\n",
       "    <tr>\n",
       "      <th>3</th>\n",
       "      <td>facebook_ads</td>\n",
       "      <td>2020-05-06</td>\n",
       "      <td>177.982200</td>\n",
       "    </tr>\n",
       "    <tr>\n",
       "      <th>4</th>\n",
       "      <td>facebook_ads</td>\n",
       "      <td>2020-05-07</td>\n",
       "      <td>111.766796</td>\n",
       "    </tr>\n",
       "  </tbody>\n",
       "</table>\n",
       "</div>"
      ],
      "text/plain": [
       "         source         day        cost\n",
       "0  facebook_ads  2020-05-03  935.882786\n",
       "1  facebook_ads  2020-05-04  548.354480\n",
       "2  facebook_ads  2020-05-05  260.185754\n",
       "3  facebook_ads  2020-05-06  177.982200\n",
       "4  facebook_ads  2020-05-07  111.766796"
      ]
     },
     "execution_count": 9,
     "metadata": {},
     "output_type": "execute_result"
    }
   ],
   "source": [
    "ad.head()"
   ]
  },
  {
   "cell_type": "markdown",
   "metadata": {},
   "source": [
    "В таблице затрат на рекламу нет пропусков, но формат даты указан некорректно.\n",
    "\n",
    "Теперь выгрузим последнюю необходимую для исследования таблицу"
   ]
  },
  {
   "cell_type": "code",
   "execution_count": 10,
   "metadata": {},
   "outputs": [],
   "source": [
    "source= pd.read_csv('//datasets//user_source.csv')\n",
    "    "
   ]
  },
  {
   "cell_type": "code",
   "execution_count": 11,
   "metadata": {},
   "outputs": [
    {
     "name": "stdout",
     "output_type": "stream",
     "text": [
      "<class 'pandas.core.frame.DataFrame'>\n",
      "RangeIndex: 13576 entries, 0 to 13575\n",
      "Data columns (total 2 columns):\n",
      " #   Column   Non-Null Count  Dtype \n",
      "---  ------   --------------  ----- \n",
      " 0   user_id  13576 non-null  object\n",
      " 1   source   13576 non-null  object\n",
      "dtypes: object(2)\n",
      "memory usage: 212.2+ KB\n"
     ]
    }
   ],
   "source": [
    "source.info()"
   ]
  },
  {
   "cell_type": "code",
   "execution_count": 12,
   "metadata": {},
   "outputs": [
    {
     "data": {
      "text/plain": [
       "(13576, 2)"
      ]
     },
     "execution_count": 12,
     "metadata": {},
     "output_type": "execute_result"
    }
   ],
   "source": [
    "source.shape"
   ]
  },
  {
   "cell_type": "code",
   "execution_count": 13,
   "metadata": {},
   "outputs": [
    {
     "data": {
      "text/html": [
       "<div>\n",
       "<style scoped>\n",
       "    .dataframe tbody tr th:only-of-type {\n",
       "        vertical-align: middle;\n",
       "    }\n",
       "\n",
       "    .dataframe tbody tr th {\n",
       "        vertical-align: top;\n",
       "    }\n",
       "\n",
       "    .dataframe thead th {\n",
       "        text-align: right;\n",
       "    }\n",
       "</style>\n",
       "<table border=\"1\" class=\"dataframe\">\n",
       "  <thead>\n",
       "    <tr style=\"text-align: right;\">\n",
       "      <th></th>\n",
       "      <th>user_id</th>\n",
       "      <th>source</th>\n",
       "    </tr>\n",
       "  </thead>\n",
       "  <tbody>\n",
       "    <tr>\n",
       "      <th>0</th>\n",
       "      <td>0001f83c-c6ac-4621-b7f0-8a28b283ac30</td>\n",
       "      <td>facebook_ads</td>\n",
       "    </tr>\n",
       "    <tr>\n",
       "      <th>1</th>\n",
       "      <td>00151b4f-ba38-44a8-a650-d7cf130a0105</td>\n",
       "      <td>yandex_direct</td>\n",
       "    </tr>\n",
       "    <tr>\n",
       "      <th>2</th>\n",
       "      <td>001aaea6-3d14-43f1-8ca8-7f48820f17aa</td>\n",
       "      <td>youtube_channel_reklama</td>\n",
       "    </tr>\n",
       "    <tr>\n",
       "      <th>3</th>\n",
       "      <td>001d39dc-366c-4021-9604-6a3b9ff01e25</td>\n",
       "      <td>instagram_new_adverts</td>\n",
       "    </tr>\n",
       "    <tr>\n",
       "      <th>4</th>\n",
       "      <td>002f508f-67b6-479f-814b-b05f00d4e995</td>\n",
       "      <td>facebook_ads</td>\n",
       "    </tr>\n",
       "  </tbody>\n",
       "</table>\n",
       "</div>"
      ],
      "text/plain": [
       "                                user_id                   source\n",
       "0  0001f83c-c6ac-4621-b7f0-8a28b283ac30             facebook_ads\n",
       "1  00151b4f-ba38-44a8-a650-d7cf130a0105            yandex_direct\n",
       "2  001aaea6-3d14-43f1-8ca8-7f48820f17aa  youtube_channel_reklama\n",
       "3  001d39dc-366c-4021-9604-6a3b9ff01e25    instagram_new_adverts\n",
       "4  002f508f-67b6-479f-814b-b05f00d4e995             facebook_ads"
      ]
     },
     "execution_count": 13,
     "metadata": {},
     "output_type": "execute_result"
    }
   ],
   "source": [
    "source.head()"
   ]
  },
  {
   "cell_type": "markdown",
   "metadata": {},
   "source": [
    "<a class=\"anchor\" id=\"3-bullet\"></a>\n",
    "### Первичные выводы"
   ]
  },
  {
   "cell_type": "markdown",
   "metadata": {},
   "source": [
    "В данном пункте было сделано следующее:\n",
    "* выгружены необходимые библиотеки\n",
    "* загружены необходимые датасеты\n",
    "* определены зоны для дальнейшего анализа\n",
    "\n",
    "Теперь передем на этап предобработки данных"
   ]
  },
  {
   "cell_type": "markdown",
   "metadata": {},
   "source": [
    "## Предобработка данных"
   ]
  },
  {
   "cell_type": "markdown",
   "metadata": {},
   "source": [
    "В данном пункте мы преобразуем данные, чтобы провести последующие пункты анализа. \n",
    "\n",
    "Сначала обработаем пропуски."
   ]
  },
  {
   "cell_type": "markdown",
   "metadata": {},
   "source": [
    "<a class=\"anchor\" id=\"4-bullet\"></a>\n",
    "### Обработка пропусков"
   ]
  },
  {
   "cell_type": "markdown",
   "metadata": {},
   "source": [
    "Из предыдущего пункта мы узнали, что пропуски содержаться у нас только в таблице action. Будем работать с ней"
   ]
  },
  {
   "cell_type": "code",
   "execution_count": 14,
   "metadata": {},
   "outputs": [
    {
     "name": "stdout",
     "output_type": "stream",
     "text": [
      "<class 'pandas.core.frame.DataFrame'>\n",
      "RangeIndex: 135640 entries, 0 to 135639\n",
      "Data columns (total 5 columns):\n",
      " #   Column          Non-Null Count   Dtype \n",
      "---  ------          --------------   ----- \n",
      " 0   event_datetime  135640 non-null  object\n",
      " 1   event           135640 non-null  object\n",
      " 2   building_type   127957 non-null  object\n",
      " 3   user_id         135640 non-null  object\n",
      " 4   project_type    1866 non-null    object\n",
      "dtypes: object(5)\n",
      "memory usage: 5.2+ MB\n"
     ]
    }
   ],
   "source": [
    "action.info()"
   ]
  },
  {
   "cell_type": "markdown",
   "metadata": {},
   "source": [
    "Посчитаем точное количество пропусков в каждом столбце"
   ]
  },
  {
   "cell_type": "code",
   "execution_count": 15,
   "metadata": {},
   "outputs": [
    {
     "data": {
      "text/plain": [
       "event_datetime         0\n",
       "event                  0\n",
       "building_type       7683\n",
       "user_id                0\n",
       "project_type      133774\n",
       "dtype: int64"
      ]
     },
     "execution_count": 15,
     "metadata": {},
     "output_type": "execute_result"
    }
   ],
   "source": [
    "action.isnull().sum()"
   ]
  },
  {
   "cell_type": "markdown",
   "metadata": {},
   "source": [
    "Видим, что пропуски есть в переменной building_type и project_type. Посмотрим уникальные значения каждой переменной."
   ]
  },
  {
   "cell_type": "code",
   "execution_count": 16,
   "metadata": {},
   "outputs": [
    {
     "data": {
      "text/plain": [
       "array(['assembly_shop', 'spaceport', nan, 'research_center'], dtype=object)"
      ]
     },
     "execution_count": 16,
     "metadata": {},
     "output_type": "execute_result"
    }
   ],
   "source": [
    "action.building_type.unique()"
   ]
  },
  {
   "cell_type": "code",
   "execution_count": 17,
   "metadata": {},
   "outputs": [
    {
     "data": {
      "text/plain": [
       "spaceport          59325\n",
       "assembly_shop      54494\n",
       "research_center    14138\n",
       "Name: building_type, dtype: int64"
      ]
     },
     "execution_count": 17,
     "metadata": {},
     "output_type": "execute_result"
    }
   ],
   "source": [
    "action.building_type.value_counts()"
   ]
  },
  {
   "cell_type": "markdown",
   "metadata": {},
   "source": [
    "С точки зрения знаний, можно предположить, что исходя из логики игры, некоторые пользователи просто решили не строить здания, а завершить игру. \n",
    "Проверим гипотезу - отфильтруем только по тем пользователям, кто либо выполнил проект или завершил игру - по идеи, в это время они не могли ничего строить.\n",
    "\n",
    "Для удобства анализа заменим nan на число 9999"
   ]
  },
  {
   "cell_type": "code",
   "execution_count": 18,
   "metadata": {},
   "outputs": [],
   "source": [
    "action['building_type']=action['building_type'].replace(np.nan, 9999)\n",
    "action_query=action.query('building_type==9999 & (event!=\"building\")')"
   ]
  },
  {
   "cell_type": "code",
   "execution_count": 19,
   "metadata": {},
   "outputs": [
    {
     "name": "stdout",
     "output_type": "stream",
     "text": [
      "<class 'pandas.core.frame.DataFrame'>\n",
      "Int64Index: 7683 entries, 6659 to 135639\n",
      "Data columns (total 5 columns):\n",
      " #   Column          Non-Null Count  Dtype \n",
      "---  ------          --------------  ----- \n",
      " 0   event_datetime  7683 non-null   object\n",
      " 1   event           7683 non-null   object\n",
      " 2   building_type   7683 non-null   object\n",
      " 3   user_id         7683 non-null   object\n",
      " 4   project_type    1866 non-null   object\n",
      "dtypes: object(5)\n",
      "memory usage: 360.1+ KB\n"
     ]
    }
   ],
   "source": [
    "action_query.info()"
   ]
  },
  {
   "cell_type": "markdown",
   "metadata": {},
   "source": [
    "Смело заменим 9999 на \"отсутствие зданий\" - значит на этом этапе здание не строилось."
   ]
  },
  {
   "cell_type": "code",
   "execution_count": 20,
   "metadata": {},
   "outputs": [],
   "source": [
    "action['building_type']=action['building_type'].replace(9999, 'no_building')"
   ]
  },
  {
   "cell_type": "code",
   "execution_count": 21,
   "metadata": {},
   "outputs": [
    {
     "name": "stdout",
     "output_type": "stream",
     "text": [
      "<class 'pandas.core.frame.DataFrame'>\n",
      "RangeIndex: 135640 entries, 0 to 135639\n",
      "Data columns (total 5 columns):\n",
      " #   Column          Non-Null Count   Dtype \n",
      "---  ------          --------------   ----- \n",
      " 0   event_datetime  135640 non-null  object\n",
      " 1   event           135640 non-null  object\n",
      " 2   building_type   135640 non-null  object\n",
      " 3   user_id         135640 non-null  object\n",
      " 4   project_type    1866 non-null    object\n",
      "dtypes: object(5)\n",
      "memory usage: 5.2+ MB\n"
     ]
    }
   ],
   "source": [
    "action.info() #пропусков в данном столбце нет"
   ]
  },
  {
   "cell_type": "markdown",
   "metadata": {},
   "source": [
    "Теперь проверим следующий столбец с пропусками project_type.\n",
    "\n",
    "Выведем уникальные значения"
   ]
  },
  {
   "cell_type": "code",
   "execution_count": 22,
   "metadata": {},
   "outputs": [
    {
     "data": {
      "text/plain": [
       "array([nan, 'satellite_orbital_assembly'], dtype=object)"
      ]
     },
     "execution_count": 22,
     "metadata": {},
     "output_type": "execute_result"
    }
   ],
   "source": [
    "action.project_type.unique()"
   ]
  },
  {
   "cell_type": "markdown",
   "metadata": {},
   "source": [
    "Видим всего два признака:\n",
    "* nan \n",
    "* законечно строительства спунтика.\n",
    "\n",
    "Проврим, совпадает ли количество заполненных значений со столбцом event и типом события project."
   ]
  },
  {
   "cell_type": "code",
   "execution_count": 23,
   "metadata": {},
   "outputs": [
    {
     "data": {
      "text/plain": [
       "event_datetime    1866\n",
       "event             1866\n",
       "building_type     1866\n",
       "user_id           1866\n",
       "project_type      1866\n",
       "dtype: int64"
      ]
     },
     "execution_count": 23,
     "metadata": {},
     "output_type": "execute_result"
    }
   ],
   "source": [
    "action.loc[action['event']=='project'].count()"
   ]
  },
  {
   "cell_type": "markdown",
   "metadata": {},
   "source": [
    "Значения совпадают. \n",
    "\n",
    "Скорее всего в данном столбце отображется только целевое действие \"закончить проект\". Для того чтобы избежать пропусков, которые могут мешать в обработке данных, заменим их на not_project,  а также создадим дополнительный столбец, который позволит разнести пользователей по трем группам по типу окончания  1 уровня:\n",
    "* кто закончил его завершением проекта\n",
    "* кто закончил его победой над врагом\n",
    "* кто не закончил первый уровень\n",
    "\n",
    "Сначала заполним пропуски. Заменин np.nan на dummy значение 9999"
   ]
  },
  {
   "cell_type": "code",
   "execution_count": 24,
   "metadata": {},
   "outputs": [],
   "source": [
    "action['project_type']=action['project_type'].replace(np.nan, 9999)"
   ]
  },
  {
   "cell_type": "markdown",
   "metadata": {},
   "source": [
    "Теперь с помощью метода np.where заменим часть пропусков в столбце project_type на not_project"
   ]
  },
  {
   "cell_type": "code",
   "execution_count": 25,
   "metadata": {},
   "outputs": [],
   "source": [
    "action['project_type'] = np.where((action['project_type'] == 9999),  \n",
    "                                        \"not_project\", action['project_type'])"
   ]
  },
  {
   "cell_type": "code",
   "execution_count": 26,
   "metadata": {},
   "outputs": [
    {
     "data": {
      "text/plain": [
       "not_project                   133774\n",
       "satellite_orbital_assembly      1866\n",
       "Name: project_type, dtype: int64"
      ]
     },
     "execution_count": 26,
     "metadata": {},
     "output_type": "execute_result"
    }
   ],
   "source": [
    "action['project_type'].value_counts()"
   ]
  },
  {
   "cell_type": "markdown",
   "metadata": {},
   "source": [
    "Пропуски заполнили.\n",
    "\n",
    "Теперь распределим всех юзеров в дополнительный столбец, в которых мы укажем как они заверши первый уровень"
   ]
  },
  {
   "cell_type": "code",
   "execution_count": 27,
   "metadata": {},
   "outputs": [],
   "source": [
    "user_filter_project=action[action['event'] == 'project']['user_id'] #отфильтруем по project user_id"
   ]
  },
  {
   "cell_type": "code",
   "execution_count": 28,
   "metadata": {},
   "outputs": [],
   "source": [
    "action['finishing_type']=np.where(action['user_id'].isin (user_filter_project),\n",
    "                                        \"win_by_project\", 'not_finished')  #создадим столбец где заполним значения"
   ]
  },
  {
   "cell_type": "code",
   "execution_count": 29,
   "metadata": {},
   "outputs": [
    {
     "data": {
      "text/plain": [
       "not_finished      108307\n",
       "win_by_project     27333\n",
       "Name: finishing_type, dtype: int64"
      ]
     },
     "execution_count": 29,
     "metadata": {},
     "output_type": "execute_result"
    }
   ],
   "source": [
    "action['finishing_type'].value_counts()"
   ]
  },
  {
   "cell_type": "code",
   "execution_count": 30,
   "metadata": {},
   "outputs": [],
   "source": [
    "user_filter_win=action[(action['event'] == 'finished_stage_1') & (action['project_type']!='satellite_orbital_assembly')]['user_id']"
   ]
  },
  {
   "cell_type": "code",
   "execution_count": 31,
   "metadata": {},
   "outputs": [],
   "source": [
    "user_filter_win_pr =action.query('event==\"building\" & (user_id in @user_filter_win &  user_id not in @user_filter_project)')"
   ]
  },
  {
   "cell_type": "code",
   "execution_count": 32,
   "metadata": {},
   "outputs": [],
   "source": [
    "action['finishing_type']=np.where(action['user_id'].isin(user_filter_win_pr['user_id']),\n",
    "                                        \"win_by_battle\", action['finishing_type'])"
   ]
  },
  {
   "cell_type": "code",
   "execution_count": 33,
   "metadata": {},
   "outputs": [
    {
     "data": {
      "text/plain": [
       "not_finished      67171\n",
       "win_by_battle     41136\n",
       "win_by_project    27333\n",
       "Name: finishing_type, dtype: int64"
      ]
     },
     "execution_count": 33,
     "metadata": {},
     "output_type": "execute_result"
    }
   ],
   "source": [
    "action['finishing_type'].value_counts()"
   ]
  },
  {
   "cell_type": "markdown",
   "metadata": {},
   "source": [
    "Получили дополнительный столбец, который пригодится для анализа"
   ]
  },
  {
   "cell_type": "markdown",
   "metadata": {},
   "source": [
    "Пропуски обработаны, теперь перидем к поиску дубликатов"
   ]
  },
  {
   "cell_type": "markdown",
   "metadata": {},
   "source": [
    "<a class=\"anchor\" id=\"5-bullet\"></a>\n",
    "### Поиск и анализ дубликатов"
   ]
  },
  {
   "cell_type": "markdown",
   "metadata": {},
   "source": [
    "Проверим все таблица на полные дубликаты"
   ]
  },
  {
   "cell_type": "code",
   "execution_count": 34,
   "metadata": {},
   "outputs": [
    {
     "data": {
      "text/plain": [
       "1"
      ]
     },
     "execution_count": 34,
     "metadata": {},
     "output_type": "execute_result"
    }
   ],
   "source": [
    "action.duplicated().sum()"
   ]
  },
  {
   "cell_type": "code",
   "execution_count": 35,
   "metadata": {},
   "outputs": [
    {
     "data": {
      "text/plain": [
       "0"
      ]
     },
     "execution_count": 35,
     "metadata": {},
     "output_type": "execute_result"
    }
   ],
   "source": [
    "ad.duplicated().sum()"
   ]
  },
  {
   "cell_type": "code",
   "execution_count": 36,
   "metadata": {},
   "outputs": [
    {
     "data": {
      "text/plain": [
       "0"
      ]
     },
     "execution_count": 36,
     "metadata": {},
     "output_type": "execute_result"
    }
   ],
   "source": [
    "source.duplicated().sum()"
   ]
  },
  {
   "cell_type": "markdown",
   "metadata": {},
   "source": [
    "Удалим явный дубликат в датафрейме action"
   ]
  },
  {
   "cell_type": "code",
   "execution_count": 37,
   "metadata": {},
   "outputs": [],
   "source": [
    "action=action.drop_duplicates()"
   ]
  },
  {
   "cell_type": "code",
   "execution_count": 38,
   "metadata": {},
   "outputs": [
    {
     "data": {
      "text/plain": [
       "0"
      ]
     },
     "execution_count": 38,
     "metadata": {},
     "output_type": "execute_result"
    }
   ],
   "source": [
    "action.duplicated().sum()"
   ]
  },
  {
   "cell_type": "markdown",
   "metadata": {},
   "source": [
    "Дубликатов больше нет. Теперь переведем все колонки в нужный формат"
   ]
  },
  {
   "cell_type": "markdown",
   "metadata": {},
   "source": [
    "<a class=\"anchor\" id=\"6-bullet\"></a>\n",
    "### Корректировка типа данных"
   ]
  },
  {
   "cell_type": "markdown",
   "metadata": {},
   "source": [
    "Повторно вызовем все датасеты, чтобы проверить, где тип данных указан не верно"
   ]
  },
  {
   "cell_type": "code",
   "execution_count": 39,
   "metadata": {},
   "outputs": [
    {
     "name": "stdout",
     "output_type": "stream",
     "text": [
      "<class 'pandas.core.frame.DataFrame'>\n",
      "Int64Index: 135639 entries, 0 to 135639\n",
      "Data columns (total 6 columns):\n",
      " #   Column          Non-Null Count   Dtype \n",
      "---  ------          --------------   ----- \n",
      " 0   event_datetime  135639 non-null  object\n",
      " 1   event           135639 non-null  object\n",
      " 2   building_type   135639 non-null  object\n",
      " 3   user_id         135639 non-null  object\n",
      " 4   project_type    135639 non-null  object\n",
      " 5   finishing_type  135639 non-null  object\n",
      "dtypes: object(6)\n",
      "memory usage: 7.2+ MB\n"
     ]
    }
   ],
   "source": [
    "action.info()"
   ]
  },
  {
   "cell_type": "code",
   "execution_count": 40,
   "metadata": {},
   "outputs": [
    {
     "name": "stdout",
     "output_type": "stream",
     "text": [
      "<class 'pandas.core.frame.DataFrame'>\n",
      "RangeIndex: 28 entries, 0 to 27\n",
      "Data columns (total 3 columns):\n",
      " #   Column  Non-Null Count  Dtype  \n",
      "---  ------  --------------  -----  \n",
      " 0   source  28 non-null     object \n",
      " 1   day     28 non-null     object \n",
      " 2   cost    28 non-null     float64\n",
      "dtypes: float64(1), object(2)\n",
      "memory usage: 800.0+ bytes\n"
     ]
    }
   ],
   "source": [
    "ad.info()"
   ]
  },
  {
   "cell_type": "code",
   "execution_count": 41,
   "metadata": {},
   "outputs": [
    {
     "name": "stdout",
     "output_type": "stream",
     "text": [
      "<class 'pandas.core.frame.DataFrame'>\n",
      "RangeIndex: 13576 entries, 0 to 13575\n",
      "Data columns (total 2 columns):\n",
      " #   Column   Non-Null Count  Dtype \n",
      "---  ------   --------------  ----- \n",
      " 0   user_id  13576 non-null  object\n",
      " 1   source   13576 non-null  object\n",
      "dtypes: object(2)\n",
      "memory usage: 212.2+ KB\n"
     ]
    }
   ],
   "source": [
    "source.info()"
   ]
  },
  {
   "cell_type": "markdown",
   "metadata": {},
   "source": [
    "Видим, что на данном этапе нужно изменить столбцы day и  event_datetime и привести их в формат даты и времени.\n",
    "Также добавим признак недели (пригодится для расчета метрик) и дату без времени для дальнейших группировок"
   ]
  },
  {
   "cell_type": "code",
   "execution_count": 42,
   "metadata": {},
   "outputs": [],
   "source": [
    "pd.options.mode.chained_assignment = None \n",
    "action['event_datetime']=pd.to_datetime(action['event_datetime'], format='%Y-%m-%dT%H:%M:%S')\n",
    "action['date']  = action['event_datetime'].dt.date\n",
    "action['week'] =action['event_datetime'].dt.isocalendar().week"
   ]
  },
  {
   "cell_type": "code",
   "execution_count": 43,
   "metadata": {},
   "outputs": [
    {
     "name": "stdout",
     "output_type": "stream",
     "text": [
      "<class 'pandas.core.frame.DataFrame'>\n",
      "Int64Index: 135639 entries, 0 to 135639\n",
      "Data columns (total 8 columns):\n",
      " #   Column          Non-Null Count   Dtype         \n",
      "---  ------          --------------   -----         \n",
      " 0   event_datetime  135639 non-null  datetime64[ns]\n",
      " 1   event           135639 non-null  object        \n",
      " 2   building_type   135639 non-null  object        \n",
      " 3   user_id         135639 non-null  object        \n",
      " 4   project_type    135639 non-null  object        \n",
      " 5   finishing_type  135639 non-null  object        \n",
      " 6   date            135639 non-null  object        \n",
      " 7   week            135639 non-null  UInt32        \n",
      "dtypes: UInt32(1), datetime64[ns](1), object(6)\n",
      "memory usage: 8.9+ MB\n"
     ]
    }
   ],
   "source": [
    "action.info()"
   ]
  },
  {
   "cell_type": "code",
   "execution_count": 44,
   "metadata": {},
   "outputs": [],
   "source": [
    "# приводим колонку day к типу даннух date\n",
    "ad['day'] = pd.to_datetime(ad['day'])"
   ]
  },
  {
   "cell_type": "code",
   "execution_count": 45,
   "metadata": {},
   "outputs": [
    {
     "name": "stdout",
     "output_type": "stream",
     "text": [
      "<class 'pandas.core.frame.DataFrame'>\n",
      "RangeIndex: 28 entries, 0 to 27\n",
      "Data columns (total 3 columns):\n",
      " #   Column  Non-Null Count  Dtype         \n",
      "---  ------  --------------  -----         \n",
      " 0   source  28 non-null     object        \n",
      " 1   day     28 non-null     datetime64[ns]\n",
      " 2   cost    28 non-null     float64       \n",
      "dtypes: datetime64[ns](1), float64(1), object(1)\n",
      "memory usage: 800.0+ bytes\n"
     ]
    }
   ],
   "source": [
    "ad.info()"
   ]
  },
  {
   "cell_type": "markdown",
   "metadata": {},
   "source": [
    "Изменение произошл\n",
    "\n",
    "Теперь данные готовы для анализа"
   ]
  },
  {
   "cell_type": "markdown",
   "metadata": {},
   "source": [
    "<a class=\"anchor\" id=\"7-bullet\"></a>\n",
    "### Выводы по второй части"
   ]
  },
  {
   "cell_type": "markdown",
   "metadata": {},
   "source": [
    "В данном пункте мы сделали следующее:\n",
    "* проверили данные на пропуски и заменили их\n",
    "* удалили дубликаты\n",
    "* изменили формат данных на корректны1 и добавили дополнительные столбцы\n",
    "\n",
    "Теперь проведем исследовательский анализ данных"
   ]
  },
  {
   "cell_type": "markdown",
   "metadata": {},
   "source": [
    "## Исследовательский анализ данных"
   ]
  },
  {
   "cell_type": "markdown",
   "metadata": {},
   "source": [
    "Разделим анализ данных на две части - в первой проанализируем каждый признак датасета, а после посчитаем значения некоторых признаков, таких как среднее количество зданий и время прохождение уровня.\n",
    "\n",
    "Начнем с анализа таблицы action"
   ]
  },
  {
   "cell_type": "markdown",
   "metadata": {},
   "source": [
    "<a class=\"anchor\" id=\"8-bullet\"></a>\n",
    "### Анализ таблицы action "
   ]
  },
  {
   "cell_type": "markdown",
   "metadata": {},
   "source": [
    "<a class=\"anchor\" id=\"9-bullet\"></a>\n",
    "#### action.date"
   ]
  },
  {
   "cell_type": "code",
   "execution_count": 46,
   "metadata": {},
   "outputs": [
    {
     "data": {
      "text/plain": [
       "2020-05-10    15207\n",
       "2020-05-09    13129\n",
       "2020-05-08    12059\n",
       "2020-05-07    10858\n",
       "2020-05-06     9925\n",
       "2020-05-05     9055\n",
       "2020-05-11     8185\n",
       "2020-05-04     8171\n",
       "2020-05-12     7918\n",
       "2020-05-13     7624\n",
       "2020-05-14     6830\n",
       "2020-05-15     5952\n",
       "2020-05-16     5099\n",
       "2020-05-17     3955\n",
       "2020-05-18     2847\n",
       "2020-05-19     2319\n",
       "2020-05-20     1837\n",
       "2020-05-21     1370\n",
       "2020-05-22      946\n",
       "2020-05-23      707\n",
       "2020-05-24      491\n",
       "2020-05-25      382\n",
       "2020-05-26      262\n",
       "2020-05-27      180\n",
       "2020-05-28      118\n",
       "2020-05-29       79\n",
       "2020-05-30       44\n",
       "2020-05-31       29\n",
       "2020-06-01       20\n",
       "2020-06-02       15\n",
       "2020-06-03       11\n",
       "2020-06-04       10\n",
       "2020-06-05        5\n",
       "Name: date, dtype: int64"
      ]
     },
     "execution_count": 46,
     "metadata": {},
     "output_type": "execute_result"
    }
   ],
   "source": [
    "action['date'].value_counts()"
   ]
  },
  {
   "cell_type": "code",
   "execution_count": 47,
   "metadata": {},
   "outputs": [
    {
     "data": {
      "text/plain": [
       "33"
      ]
     },
     "execution_count": 47,
     "metadata": {},
     "output_type": "execute_result"
    }
   ],
   "source": [
    "action['date'].nunique()"
   ]
  },
  {
   "cell_type": "markdown",
   "metadata": {},
   "source": [
    "Видим, что всего в нашей выборки наблюдения за 33 дня"
   ]
  },
  {
   "cell_type": "code",
   "execution_count": 48,
   "metadata": {},
   "outputs": [
    {
     "data": {
      "text/plain": [
       "datetime.date(2020, 6, 5)"
      ]
     },
     "execution_count": 48,
     "metadata": {},
     "output_type": "execute_result"
    }
   ],
   "source": [
    "action['date'].max()"
   ]
  },
  {
   "cell_type": "code",
   "execution_count": 49,
   "metadata": {},
   "outputs": [
    {
     "data": {
      "text/plain": [
       "datetime.date(2020, 5, 4)"
      ]
     },
     "execution_count": 49,
     "metadata": {},
     "output_type": "execute_result"
    }
   ],
   "source": [
    "action['date'].min()"
   ]
  },
  {
   "cell_type": "markdown",
   "metadata": {},
   "source": [
    "Видим, что в датасете представлены данные за 33 дня:\n",
    "* самая первая дата - 04-05-2020\n",
    "* самая последняя - 05-06-2020\n",
    "\n",
    "Визуализируем данные с помощью столбачатой диаграмы"
   ]
  },
  {
   "cell_type": "code",
   "execution_count": 50,
   "metadata": {},
   "outputs": [
    {
     "data": {
      "image/png": "[encoded data removed]",
      "text/plain": [
       "<Figure size 1080x720 with 1 Axes>"
      ]
     },
     "metadata": {
      "needs_background": "light"
     },
     "output_type": "display_data"
    }
   ],
   "source": [
    "plt.figure(figsize=(15,10))\n",
    "plt.hist(action['date'],bins=33)\n",
    "\n",
    "plt.show()"
   ]
  },
  {
   "cell_type": "markdown",
   "metadata": {},
   "source": [
    "Видим, что количество пользователей, которые использовали игру в определенные даты имеет распределение, похожее на Пуассона- все меньше людей сейчас активно играют в нашу игру.\n",
    "Пик пришелся на 10.05.2020"
   ]
  },
  {
   "cell_type": "markdown",
   "metadata": {},
   "source": [
    "Теперь рассмотрим параметр event"
   ]
  },
  {
   "cell_type": "markdown",
   "metadata": {},
   "source": [
    "<a class=\"anchor\" id=\"10-bullet\"></a>\n",
    "#### action.event"
   ]
  },
  {
   "cell_type": "code",
   "execution_count": 51,
   "metadata": {},
   "outputs": [
    {
     "data": {
      "text/plain": [
       "building            127956\n",
       "finished_stage_1      5817\n",
       "project               1866\n",
       "Name: event, dtype: int64"
      ]
     },
     "execution_count": 51,
     "metadata": {},
     "output_type": "execute_result"
    }
   ],
   "source": [
    "action['event'].value_counts()"
   ]
  },
  {
   "cell_type": "markdown",
   "metadata": {},
   "source": [
    "Теперь проверим сколько уникальных пользователей приходится на каждое событие"
   ]
  },
  {
   "cell_type": "code",
   "execution_count": 52,
   "metadata": {},
   "outputs": [
    {
     "data": {
      "text/html": [
       "<div>\n",
       "<style scoped>\n",
       "    .dataframe tbody tr th:only-of-type {\n",
       "        vertical-align: middle;\n",
       "    }\n",
       "\n",
       "    .dataframe tbody tr th {\n",
       "        vertical-align: top;\n",
       "    }\n",
       "\n",
       "    .dataframe thead th {\n",
       "        text-align: right;\n",
       "    }\n",
       "</style>\n",
       "<table border=\"1\" class=\"dataframe\">\n",
       "  <thead>\n",
       "    <tr style=\"text-align: right;\">\n",
       "      <th></th>\n",
       "      <th>event</th>\n",
       "      <th>user_id</th>\n",
       "    </tr>\n",
       "  </thead>\n",
       "  <tbody>\n",
       "    <tr>\n",
       "      <th>0</th>\n",
       "      <td>building</td>\n",
       "      <td>13576</td>\n",
       "    </tr>\n",
       "    <tr>\n",
       "      <th>1</th>\n",
       "      <td>finished_stage_1</td>\n",
       "      <td>5817</td>\n",
       "    </tr>\n",
       "    <tr>\n",
       "      <th>2</th>\n",
       "      <td>project</td>\n",
       "      <td>1866</td>\n",
       "    </tr>\n",
       "  </tbody>\n",
       "</table>\n",
       "</div>"
      ],
      "text/plain": [
       "              event  user_id\n",
       "0          building    13576\n",
       "1  finished_stage_1     5817\n",
       "2           project     1866"
      ]
     },
     "execution_count": 52,
     "metadata": {},
     "output_type": "execute_result"
    }
   ],
   "source": [
    "act_uni=action.groupby('event').agg({'user_id':'nunique'}).reset_index()\n",
    "act_uni"
   ]
  },
  {
   "cell_type": "markdown",
   "metadata": {},
   "source": [
    "Посчитаем, сколько уникальных пользователей в процентах от всего количества, завершило первый уровень"
   ]
  },
  {
   "cell_type": "code",
   "execution_count": 53,
   "metadata": {},
   "outputs": [],
   "source": [
    "fin1=(act_uni.iloc[1,1]/act_uni.iloc[0,1])*100"
   ]
  },
  {
   "cell_type": "code",
   "execution_count": 54,
   "metadata": {},
   "outputs": [
    {
     "name": "stdout",
     "output_type": "stream",
     "text": [
      "Процент пользователей, закончившие превый уровень, от всех 42.847672362993514\n"
     ]
    }
   ],
   "source": [
    "print('Процент пользователей, закончившие превый уровень, от всех', fin1)"
   ]
  },
  {
   "cell_type": "markdown",
   "metadata": {},
   "source": [
    "43% уникальных пользователей закончили первый уровень (то есть выполнили целевое действие), что является весьма неплохим показателем.\n",
    "Визуализируем с помощью графика количество уникальных пользователей по типу события"
   ]
  },
  {
   "cell_type": "code",
   "execution_count": 55,
   "metadata": {},
   "outputs": [
    {
     "data": {
      "image/png": "[encoded data removed]",
      "text/plain": [
       "<Figure size 936x576 with 1 Axes>"
      ]
     },
     "metadata": {},
     "output_type": "display_data"
    }
   ],
   "source": [
    "sns.set_style('darkgrid')\n",
    "\n",
    "p=sns.barplot(x = 'event', y = \"user_id\", data = act_uni)\n",
    "p.set_title(\"Уникальные пользователи по типу событий\")\n",
    "p.set_xlabel(\"Тип событий\", fontsize = 10)\n",
    "p.set_ylabel(\"Количество уникальных пользователей\", fontsize = 10)\n",
    "plt.gcf().set_size_inches(13, 8)\n",
    "for i in p.patches:\n",
    "             p.annotate(\"%.0f\" % i.get_height(), (i.get_x() + i.get_width() / 2., i.get_height()),\n",
    "                 ha='center', va='center', fontsize=10, color='black', xytext=(0, 5),\n",
    "                 textcoords='offset points')\n",
    "\n",
    "plt.show()"
   ]
  },
  {
   "cell_type": "markdown",
   "metadata": {},
   "source": [
    "В резульате анализа, данные распределились так:\n",
    "- больше всего уникальных пользователей совершили строительство\n",
    "- 5817 завершило первый уровень (около 43% от всех пользователей), из которых 1866 завершили с помощью проекта\n",
    "- следовательно, пользователи, которые закончили первый уровень с помощью победы над врагом - 3951\n",
    "- Можем сказать, что метод прохождения первого уровня с помощью победы над первым врагом куда популярнее, чем выполнение проекта.\n",
    "    \n",
    "Оставшиеся колонки датафрейма action рассматривать не будем - тип проекта мы уже проверили и заполнили на предыдущем шаге, а user_id особой информации нам не даст.\n",
    "\n",
    "Переходим к датафрейму ad"
   ]
  },
  {
   "cell_type": "markdown",
   "metadata": {},
   "source": [
    "<a class=\"anchor\" id=\"11-bullet\"></a>\n",
    "### Датафрейм ad"
   ]
  },
  {
   "cell_type": "markdown",
   "metadata": {},
   "source": [
    "<a class=\"anchor\" id=\"12-bullet\"></a>\n",
    "#### ad.source"
   ]
  },
  {
   "cell_type": "code",
   "execution_count": 56,
   "metadata": {},
   "outputs": [
    {
     "data": {
      "text/plain": [
       "instagram_new_adverts      7\n",
       "yandex_direct              7\n",
       "facebook_ads               7\n",
       "youtube_channel_reklama    7\n",
       "Name: source, dtype: int64"
      ]
     },
     "execution_count": 56,
     "metadata": {},
     "output_type": "execute_result"
    }
   ],
   "source": [
    "ad['source'].value_counts()"
   ]
  },
  {
   "cell_type": "markdown",
   "metadata": {},
   "source": [
    "Видим, что у нас есть 4 источника трафика, каждый из которых был использован на протяжении 7 дней. Пропусков в столбце нет"
   ]
  },
  {
   "cell_type": "markdown",
   "metadata": {},
   "source": [
    "<a class=\"anchor\" id=\"13-bullet\"></a>\n",
    "####  ad.day"
   ]
  },
  {
   "cell_type": "code",
   "execution_count": 57,
   "metadata": {},
   "outputs": [
    {
     "data": {
      "text/plain": [
       "2020-05-05    4\n",
       "2020-05-09    4\n",
       "2020-05-06    4\n",
       "2020-05-03    4\n",
       "2020-05-07    4\n",
       "2020-05-04    4\n",
       "2020-05-08    4\n",
       "Name: day, dtype: int64"
      ]
     },
     "execution_count": 57,
     "metadata": {},
     "output_type": "execute_result"
    }
   ],
   "source": [
    "ad['day'].value_counts()"
   ]
  },
  {
   "cell_type": "markdown",
   "metadata": {},
   "source": [
    "Видим, что в датафрейме представлены данные с 03.05.2020 по 09.05.2020.\n",
    "\n",
    "Каждый источник трафика использовался в каждый из этих дней (пропусков нет)"
   ]
  },
  {
   "cell_type": "markdown",
   "metadata": {},
   "source": [
    "<a class=\"anchor\" id=\"14-bullet\"></a>\n",
    "#### ad.cost"
   ]
  },
  {
   "cell_type": "markdown",
   "metadata": {},
   "source": [
    "В данном столбце содержаться данные о том сколько было потрачено на каждый канал. Вызовем метод describe,  а потом вызовем дополнительные столбцы таблицы, чтобы погрузиться в более детальную аналитику"
   ]
  },
  {
   "cell_type": "code",
   "execution_count": 58,
   "metadata": {},
   "outputs": [
    {
     "data": {
      "text/plain": [
       "count     28.000000\n",
       "mean     271.556321\n",
       "std      286.867650\n",
       "min       23.314669\n",
       "25%       66.747365\n",
       "50%      160.056443\n",
       "75%      349.034473\n",
       "max      969.139394\n",
       "Name: cost, dtype: float64"
      ]
     },
     "execution_count": 58,
     "metadata": {},
     "output_type": "execute_result"
    }
   ],
   "source": [
    "ad.cost.describe()"
   ]
  },
  {
   "cell_type": "code",
   "execution_count": 59,
   "metadata": {},
   "outputs": [
    {
     "data": {
      "image/png": "[encoded data removed]",
      "text/plain": [
       "<Figure size 1080x720 with 1 Axes>"
      ]
     },
     "metadata": {},
     "output_type": "display_data"
    }
   ],
   "source": [
    "ad['cost'].plot.box( title='Boxplot \"Стоимость кликов\"', figsize=(15,10))\n",
    "\n",
    "plt.show()"
   ]
  },
  {
   "cell_type": "markdown",
   "metadata": {},
   "source": [
    "Можно сделать вывод, что:\n",
    "*  в среднем на рекламу тратиться 271 у.е в день, медианное значение - 160 у.е. в день\n",
    "*  самая большая трату на рекламу - 969 у.е., самая маленькая - 23.3 у.е.\n",
    "* в выборке есть пара выбросов - в сторону увелечения, скорее всего в каком-то канале в какой-то день была очень дорогая реклама\n",
    "\n",
    "\n",
    "Сгруппируем теперь по рекламным каналам и посчитаем сколько мы в сумме потратитли на них"
   ]
  },
  {
   "cell_type": "code",
   "execution_count": 60,
   "metadata": {},
   "outputs": [],
   "source": [
    "ch_gr=ad.groupby('source')['cost'].agg('sum').reset_index().sort_values(by='cost',ascending=False)"
   ]
  },
  {
   "cell_type": "code",
   "execution_count": 61,
   "metadata": {},
   "outputs": [
    {
     "data": {
      "text/html": [
       "<div>\n",
       "<style scoped>\n",
       "    .dataframe tbody tr th:only-of-type {\n",
       "        vertical-align: middle;\n",
       "    }\n",
       "\n",
       "    .dataframe tbody tr th {\n",
       "        vertical-align: top;\n",
       "    }\n",
       "\n",
       "    .dataframe thead th {\n",
       "        text-align: right;\n",
       "    }\n",
       "</style>\n",
       "<table border=\"1\" class=\"dataframe\">\n",
       "  <thead>\n",
       "    <tr style=\"text-align: right;\">\n",
       "      <th></th>\n",
       "      <th>source</th>\n",
       "      <th>cost</th>\n",
       "    </tr>\n",
       "  </thead>\n",
       "  <tbody>\n",
       "    <tr>\n",
       "      <th>2</th>\n",
       "      <td>yandex_direct</td>\n",
       "      <td>2233.111449</td>\n",
       "    </tr>\n",
       "    <tr>\n",
       "      <th>1</th>\n",
       "      <td>instagram_new_adverts</td>\n",
       "      <td>2161.441691</td>\n",
       "    </tr>\n",
       "    <tr>\n",
       "      <th>0</th>\n",
       "      <td>facebook_ads</td>\n",
       "      <td>2140.904643</td>\n",
       "    </tr>\n",
       "    <tr>\n",
       "      <th>3</th>\n",
       "      <td>youtube_channel_reklama</td>\n",
       "      <td>1068.119204</td>\n",
       "    </tr>\n",
       "  </tbody>\n",
       "</table>\n",
       "</div>"
      ],
      "text/plain": [
       "                    source         cost\n",
       "2            yandex_direct  2233.111449\n",
       "1    instagram_new_adverts  2161.441691\n",
       "0             facebook_ads  2140.904643\n",
       "3  youtube_channel_reklama  1068.119204"
      ]
     },
     "execution_count": 61,
     "metadata": {},
     "output_type": "execute_result"
    }
   ],
   "source": [
    "ch_gr"
   ]
  },
  {
   "cell_type": "code",
   "execution_count": 62,
   "metadata": {},
   "outputs": [
    {
     "data": {
      "text/plain": [
       "7603.576986788023"
      ]
     },
     "execution_count": 62,
     "metadata": {},
     "output_type": "execute_result"
    }
   ],
   "source": [
    "ch_gr['cost'].sum() #общие траты"
   ]
  },
  {
   "cell_type": "markdown",
   "metadata": {},
   "source": [
    "Визуализируем с помощь графиков"
   ]
  },
  {
   "cell_type": "code",
   "execution_count": 63,
   "metadata": {},
   "outputs": [
    {
     "data": {
      "image/png": "[encoded data removed]",
      "text/plain": [
       "<Figure size 936x576 with 1 Axes>"
      ]
     },
     "metadata": {},
     "output_type": "display_data"
    }
   ],
   "source": [
    "sns.set_style('dark')\n",
    "\n",
    "p=sns.barplot(x = 'source', y = \"cost\", data = ch_gr)\n",
    "p.set_title(\"Сумма потраченная на рекламу по каналам\")\n",
    "p.set_xlabel(\"Канал\", fontsize = 10)\n",
    "p.set_ylabel(\"Сумма\", fontsize = 10)\n",
    "plt.gcf().set_size_inches(13, 8)\n",
    "for i in p.patches:\n",
    "             p.annotate(\"%.1f\" % i.get_height(), (i.get_x() + i.get_width() / 2., i.get_height()),\n",
    "                 ha='center', va='center', fontsize=10, color='black', xytext=(0, 5),\n",
    "                 textcoords='offset points')\n",
    "\n",
    "plt.show()"
   ]
  },
  {
   "cell_type": "markdown",
   "metadata": {},
   "source": [
    "Из данной диаграмы видим, что больше всего мы потратили за неделю на каналы (в порядке убывания):\n",
    "* yandex_direct - 2233.1 у.е\n",
    "* instagram_new_adverts - 2161.4 у.е\n",
    "* facebook_ads - 2140.9 у.е\n",
    "* youtube_channel_reklama - 1068.1 у.е\n",
    "\n",
    "Теперь передем к датафрейму source"
   ]
  },
  {
   "cell_type": "markdown",
   "metadata": {},
   "source": [
    "<a class=\"anchor\" id=\"12-bullet\"></a>\n",
    "### Датафрейм source"
   ]
  },
  {
   "cell_type": "markdown",
   "metadata": {},
   "source": [
    "Вызовем повторно info, чтобы посмотреть какие столбцы нужно проанализировать"
   ]
  },
  {
   "cell_type": "code",
   "execution_count": 64,
   "metadata": {},
   "outputs": [
    {
     "name": "stdout",
     "output_type": "stream",
     "text": [
      "<class 'pandas.core.frame.DataFrame'>\n",
      "RangeIndex: 13576 entries, 0 to 13575\n",
      "Data columns (total 2 columns):\n",
      " #   Column   Non-Null Count  Dtype \n",
      "---  ------   --------------  ----- \n",
      " 0   user_id  13576 non-null  object\n",
      " 1   source   13576 non-null  object\n",
      "dtypes: object(2)\n",
      "memory usage: 212.2+ KB\n"
     ]
    }
   ],
   "source": [
    "source.info()"
   ]
  },
  {
   "cell_type": "markdown",
   "metadata": {},
   "source": [
    "user_id в данной таблице анализировать не имеет смысла. Рассмотрим столбец source"
   ]
  },
  {
   "cell_type": "markdown",
   "metadata": {},
   "source": [
    "<a class=\"anchor\" id=\"16-bullet\"></a>\n",
    "#### source.source"
   ]
  },
  {
   "cell_type": "code",
   "execution_count": 65,
   "metadata": {},
   "outputs": [
    {
     "data": {
      "text/plain": [
       "yandex_direct              4817\n",
       "instagram_new_adverts      3347\n",
       "facebook_ads               2726\n",
       "youtube_channel_reklama    2686\n",
       "Name: source, dtype: int64"
      ]
     },
     "execution_count": 65,
     "metadata": {},
     "output_type": "execute_result"
    }
   ],
   "source": [
    "source.source.value_counts()"
   ]
  },
  {
   "cell_type": "code",
   "execution_count": 66,
   "metadata": {},
   "outputs": [
    {
     "data": {
      "text/html": [
       "<div>\n",
       "<style scoped>\n",
       "    .dataframe tbody tr th:only-of-type {\n",
       "        vertical-align: middle;\n",
       "    }\n",
       "\n",
       "    .dataframe tbody tr th {\n",
       "        vertical-align: top;\n",
       "    }\n",
       "\n",
       "    .dataframe thead th {\n",
       "        text-align: right;\n",
       "    }\n",
       "</style>\n",
       "<table border=\"1\" class=\"dataframe\">\n",
       "  <thead>\n",
       "    <tr style=\"text-align: right;\">\n",
       "      <th></th>\n",
       "      <th>source</th>\n",
       "      <th>user_id</th>\n",
       "    </tr>\n",
       "  </thead>\n",
       "  <tbody>\n",
       "    <tr>\n",
       "      <th>2</th>\n",
       "      <td>yandex_direct</td>\n",
       "      <td>4817</td>\n",
       "    </tr>\n",
       "    <tr>\n",
       "      <th>1</th>\n",
       "      <td>instagram_new_adverts</td>\n",
       "      <td>3347</td>\n",
       "    </tr>\n",
       "    <tr>\n",
       "      <th>0</th>\n",
       "      <td>facebook_ads</td>\n",
       "      <td>2726</td>\n",
       "    </tr>\n",
       "    <tr>\n",
       "      <th>3</th>\n",
       "      <td>youtube_channel_reklama</td>\n",
       "      <td>2686</td>\n",
       "    </tr>\n",
       "  </tbody>\n",
       "</table>\n",
       "</div>"
      ],
      "text/plain": [
       "                    source  user_id\n",
       "2            yandex_direct     4817\n",
       "1    instagram_new_adverts     3347\n",
       "0             facebook_ads     2726\n",
       "3  youtube_channel_reklama     2686"
      ]
     },
     "execution_count": 66,
     "metadata": {},
     "output_type": "execute_result"
    }
   ],
   "source": [
    "source_gr = source.groupby('source').agg({'user_id':'count'}).reset_index().sort_values(by = 'user_id', ascending = False)\n",
    "source_gr.head()"
   ]
  },
  {
   "cell_type": "markdown",
   "metadata": {},
   "source": [
    "Визуализируем теперь эти данные с помощью barchart"
   ]
  },
  {
   "cell_type": "code",
   "execution_count": 67,
   "metadata": {},
   "outputs": [
    {
     "data": {
      "image/png": "[encoded data removed]",
      "text/plain": [
       "<Figure size 936x576 with 1 Axes>"
      ]
     },
     "metadata": {},
     "output_type": "display_data"
    }
   ],
   "source": [
    "sns.set_style('white')\n",
    "\n",
    "p=sns.barplot(x = 'source', y = \"user_id\", data = source_gr)\n",
    "p.set_title(\"Количество пользователей, которые пришли с данного канала\")\n",
    "p.set_xlabel(\"Канал\", fontsize = 10)\n",
    "p.set_ylabel(\"Количество пользователей\", fontsize = 10)\n",
    "plt.gcf().set_size_inches(13, 8)\n",
    "for i in p.patches:\n",
    "             p.annotate(\"%.0f\" % i.get_height(), (i.get_x() + i.get_width() / 2., i.get_height()),\n",
    "                 ha='center', va='center', fontsize=10, color='black', xytext=(0, 5),\n",
    "                 textcoords='offset points')\n",
    "\n",
    "plt.show()"
   ]
  },
  {
   "cell_type": "markdown",
   "metadata": {},
   "source": [
    "Видим, что больше всего пользователей приходит к нам через следующие канала:\n",
    "* yandex_direct - 4817\n",
    "* instagram_new_aderts - 3347\n",
    "* facebook_ads и youtube_channel_reklama дают приблизительно одинаковое количество - около 2700 пользователей"
   ]
  },
  {
   "cell_type": "markdown",
   "metadata": {},
   "source": [
    "<a class=\"anchor\" id=\"17-bullet\"></a>\n",
    "### Вывод по первой части третьего блока"
   ]
  },
  {
   "cell_type": "markdown",
   "metadata": {},
   "source": [
    "В данной части было сделано следующее:\n",
    "* проанализированы все данные по столбцам в датасетах\n",
    "* были найдены минимальная (04-05-2020) и макисмальная (05-06-2020) даты начала наблюдения \n",
    "* определено, что процент пользователей, которые закончили первый уровень составляет около 42%, что является хорошим показателем\n",
    "* у нас есть 4 рекламных источника, которые мы использовали каждый день для привлечения пользователя с 03.05.2020 по 08.05.2020\n",
    "* больше всего мы потратили на продвижение с помощью yandex_direct, меньше всего - на рекламу на ютубе\n",
    "* больше всего пользователей приходят к нам через yandex_direct,меньше всего - через рекламу фейсбук и ютуба.\n",
    "\n",
    "Теперь посчитаем:\n",
    "* время прохождение уровня\n",
    "* количество построенных зданий\n",
    "* количество визитов пользователей в день\n",
    "* а также присоединим монетизацию (пригодится для анализа LTV)"
   ]
  },
  {
   "cell_type": "markdown",
   "metadata": {},
   "source": [
    "### Вторая часть - Полноценный EDA"
   ]
  },
  {
   "cell_type": "markdown",
   "metadata": {},
   "source": [
    "<a class=\"anchor\" id=\"18-bullet\"></a>\n",
    "### Анализ времени прохождения уровня "
   ]
  },
  {
   "cell_type": "markdown",
   "metadata": {},
   "source": [
    "Посчитаем, сколько времени пользователи тратят на то, чтобы пройти 1 уровень. Для этого отберем user_id всех пользователей, которые этот уровень прошли, после этого сделаем по ним срез и сгруппируем найдя максимальное и минимальную дату.\n",
    "Потом вызовем describe"
   ]
  },
  {
   "cell_type": "code",
   "execution_count": 68,
   "metadata": {},
   "outputs": [],
   "source": [
    "user_filter =action[action['event'] == 'finished_stage_1']['user_id']"
   ]
  },
  {
   "cell_type": "code",
   "execution_count": 69,
   "metadata": {},
   "outputs": [],
   "source": [
    "action_fin=action.query('user_id in @user_filter')"
   ]
  },
  {
   "cell_type": "code",
   "execution_count": 70,
   "metadata": {},
   "outputs": [],
   "source": [
    "action_gb=action_fin.groupby('user_id').event_datetime.agg(['min', 'max']).reset_index()"
   ]
  },
  {
   "cell_type": "code",
   "execution_count": 71,
   "metadata": {},
   "outputs": [],
   "source": [
    "action_gb['tot']=action_gb['max']-action_gb['min']"
   ]
  },
  {
   "cell_type": "code",
   "execution_count": 72,
   "metadata": {},
   "outputs": [
    {
     "data": {
      "text/html": [
       "<div>\n",
       "<style scoped>\n",
       "    .dataframe tbody tr th:only-of-type {\n",
       "        vertical-align: middle;\n",
       "    }\n",
       "\n",
       "    .dataframe tbody tr th {\n",
       "        vertical-align: top;\n",
       "    }\n",
       "\n",
       "    .dataframe thead th {\n",
       "        text-align: right;\n",
       "    }\n",
       "</style>\n",
       "<table border=\"1\" class=\"dataframe\">\n",
       "  <thead>\n",
       "    <tr style=\"text-align: right;\">\n",
       "      <th></th>\n",
       "      <th>user_id</th>\n",
       "      <th>min</th>\n",
       "      <th>max</th>\n",
       "      <th>tot</th>\n",
       "    </tr>\n",
       "  </thead>\n",
       "  <tbody>\n",
       "    <tr>\n",
       "      <th>0</th>\n",
       "      <td>001d39dc-366c-4021-9604-6a3b9ff01e25</td>\n",
       "      <td>2020-05-05 21:02:05</td>\n",
       "      <td>2020-05-12 07:40:47</td>\n",
       "      <td>6 days 10:38:42</td>\n",
       "    </tr>\n",
       "    <tr>\n",
       "      <th>1</th>\n",
       "      <td>003ee7e8-6356-4286-a715-62f22a18d2a1</td>\n",
       "      <td>2020-05-05 08:31:04</td>\n",
       "      <td>2020-05-17 21:47:49</td>\n",
       "      <td>12 days 13:16:45</td>\n",
       "    </tr>\n",
       "    <tr>\n",
       "      <th>2</th>\n",
       "      <td>004074f8-251a-4776-922c-8348dca1a2f6</td>\n",
       "      <td>2020-05-04 01:07:35</td>\n",
       "      <td>2020-05-16 19:57:40</td>\n",
       "      <td>12 days 18:50:05</td>\n",
       "    </tr>\n",
       "    <tr>\n",
       "      <th>3</th>\n",
       "      <td>00464e5e-28ed-4be6-bf44-517ef7b3937b</td>\n",
       "      <td>2020-05-04 08:35:29</td>\n",
       "      <td>2020-05-15 16:02:01</td>\n",
       "      <td>11 days 07:26:32</td>\n",
       "    </tr>\n",
       "    <tr>\n",
       "      <th>4</th>\n",
       "      <td>0056c007-c082-43cc-bdef-afc49bca4cb9</td>\n",
       "      <td>2020-05-10 11:49:47</td>\n",
       "      <td>2020-05-16 13:48:39</td>\n",
       "      <td>6 days 01:58:52</td>\n",
       "    </tr>\n",
       "  </tbody>\n",
       "</table>\n",
       "</div>"
      ],
      "text/plain": [
       "                                user_id                 min  \\\n",
       "0  001d39dc-366c-4021-9604-6a3b9ff01e25 2020-05-05 21:02:05   \n",
       "1  003ee7e8-6356-4286-a715-62f22a18d2a1 2020-05-05 08:31:04   \n",
       "2  004074f8-251a-4776-922c-8348dca1a2f6 2020-05-04 01:07:35   \n",
       "3  00464e5e-28ed-4be6-bf44-517ef7b3937b 2020-05-04 08:35:29   \n",
       "4  0056c007-c082-43cc-bdef-afc49bca4cb9 2020-05-10 11:49:47   \n",
       "\n",
       "                  max              tot  \n",
       "0 2020-05-12 07:40:47  6 days 10:38:42  \n",
       "1 2020-05-17 21:47:49 12 days 13:16:45  \n",
       "2 2020-05-16 19:57:40 12 days 18:50:05  \n",
       "3 2020-05-15 16:02:01 11 days 07:26:32  \n",
       "4 2020-05-16 13:48:39  6 days 01:58:52  "
      ]
     },
     "execution_count": 72,
     "metadata": {},
     "output_type": "execute_result"
    }
   ],
   "source": [
    "action_gb.head()"
   ]
  },
  {
   "cell_type": "code",
   "execution_count": 73,
   "metadata": {},
   "outputs": [
    {
     "data": {
      "text/plain": [
       "count                          5817\n",
       "mean     11 days 20:37:59.561801616\n",
       "std       4 days 01:37:33.183162346\n",
       "min                 0 days 09:39:01\n",
       "25%                 9 days 05:13:21\n",
       "50%                11 days 13:28:44\n",
       "75%                14 days 05:15:16\n",
       "max                30 days 21:58:53\n",
       "Name: tot, dtype: object"
      ]
     },
     "execution_count": 73,
     "metadata": {},
     "output_type": "execute_result"
    }
   ],
   "source": [
    "action_gb['tot'].describe()"
   ]
  },
  {
   "cell_type": "markdown",
   "metadata": {},
   "source": [
    "В среднем, пользователии проводят на первом 11 дней и 20 часов 30 минут. Медианное значние также около 11 дней и 13 часов.\n",
    "\n",
    "Быстрее всего уровень прошел пользователь за 09 часов 39 минут, самое большое время, проведенное на уровне 30 дней 21 час и 58 минут."
   ]
  },
  {
   "cell_type": "markdown",
   "metadata": {},
   "source": [
    "<a class=\"anchor\" id=\"19-bullet\"></a>\n",
    "### Анализ количества зданий на пользователя"
   ]
  },
  {
   "cell_type": "markdown",
   "metadata": {},
   "source": [
    "Для того , чтобы посчитать среднее количество зданий на пользователя, сгруппируем их по user_id, и посчитаем количество зданий.\n",
    "\n",
    "После этого вызовем метод describe и опишем."
   ]
  },
  {
   "cell_type": "code",
   "execution_count": 74,
   "metadata": {},
   "outputs": [],
   "source": [
    "buildings_per_user = action.groupby('user_id').agg({'building_type': 'count'}).reset_index()\n"
   ]
  },
  {
   "cell_type": "code",
   "execution_count": 75,
   "metadata": {},
   "outputs": [
    {
     "data": {
      "text/plain": [
       "count    13576.000000\n",
       "mean         9.991087\n",
       "std          4.146133\n",
       "min          1.000000\n",
       "25%          6.000000\n",
       "50%         10.000000\n",
       "75%         13.000000\n",
       "max         22.000000\n",
       "Name: building_type, dtype: float64"
      ]
     },
     "execution_count": 75,
     "metadata": {},
     "output_type": "execute_result"
    }
   ],
   "source": [
    "buildings_per_user.building_type.describe()"
   ]
  },
  {
   "cell_type": "markdown",
   "metadata": {},
   "source": [
    "Мы видим, что в среднем пользователей строит 10 зданий (медианное и среднее значение совпадают). Самое маленькое количество зданий в выборке 1, а самое большое 22 здания.\n",
    "\n",
    "Мы также знаем, что у нас есть три группы пользователей:\n",
    "* которые закончили 1 уровень с проектом\n",
    "* которые закончили 1 уровень победой над врагом\n",
    "* которые не закончили 1 уровень вообще.\n",
    "\n",
    "Сделаем срез по каждому признаку и посчитаем количество для каждой группы"
   ]
  },
  {
   "cell_type": "markdown",
   "metadata": {},
   "source": [
    "<a class=\"anchor\" id=\"20-bullet\"></a>\n",
    "#### Количество зданий для тех, кто выполнил проект"
   ]
  },
  {
   "cell_type": "code",
   "execution_count": 76,
   "metadata": {},
   "outputs": [],
   "source": [
    "user_filter_project_q =action.query('event==\"building\" & user_id in @user_filter_project')"
   ]
  },
  {
   "cell_type": "code",
   "execution_count": 77,
   "metadata": {},
   "outputs": [
    {
     "data": {
      "text/html": [
       "<div>\n",
       "<style scoped>\n",
       "    .dataframe tbody tr th:only-of-type {\n",
       "        vertical-align: middle;\n",
       "    }\n",
       "\n",
       "    .dataframe tbody tr th {\n",
       "        vertical-align: top;\n",
       "    }\n",
       "\n",
       "    .dataframe thead th {\n",
       "        text-align: right;\n",
       "    }\n",
       "</style>\n",
       "<table border=\"1\" class=\"dataframe\">\n",
       "  <thead>\n",
       "    <tr style=\"text-align: right;\">\n",
       "      <th></th>\n",
       "      <th>event_datetime</th>\n",
       "      <th>event</th>\n",
       "      <th>building_type</th>\n",
       "      <th>user_id</th>\n",
       "      <th>project_type</th>\n",
       "      <th>finishing_type</th>\n",
       "      <th>date</th>\n",
       "      <th>week</th>\n",
       "    </tr>\n",
       "  </thead>\n",
       "  <tbody>\n",
       "    <tr>\n",
       "      <th>1</th>\n",
       "      <td>2020-05-04 00:00:03</td>\n",
       "      <td>building</td>\n",
       "      <td>assembly_shop</td>\n",
       "      <td>c07b1c10-f477-44dc-81dc-ec82254b1347</td>\n",
       "      <td>not_project</td>\n",
       "      <td>win_by_project</td>\n",
       "      <td>2020-05-04</td>\n",
       "      <td>19</td>\n",
       "    </tr>\n",
       "    <tr>\n",
       "      <th>8</th>\n",
       "      <td>2020-05-04 00:00:44</td>\n",
       "      <td>building</td>\n",
       "      <td>assembly_shop</td>\n",
       "      <td>65a92713-5969-48b1-8945-bfefa5063887</td>\n",
       "      <td>not_project</td>\n",
       "      <td>win_by_project</td>\n",
       "      <td>2020-05-04</td>\n",
       "      <td>19</td>\n",
       "    </tr>\n",
       "    <tr>\n",
       "      <th>9</th>\n",
       "      <td>2020-05-04 00:01:33</td>\n",
       "      <td>building</td>\n",
       "      <td>assembly_shop</td>\n",
       "      <td>fa352362-d258-472c-b295-2796ccc39fa3</td>\n",
       "      <td>not_project</td>\n",
       "      <td>win_by_project</td>\n",
       "      <td>2020-05-04</td>\n",
       "      <td>19</td>\n",
       "    </tr>\n",
       "    <tr>\n",
       "      <th>13</th>\n",
       "      <td>2020-05-04 00:02:56</td>\n",
       "      <td>building</td>\n",
       "      <td>assembly_shop</td>\n",
       "      <td>7b3b6554-7949-4065-9808-d6c79bdc2f58</td>\n",
       "      <td>not_project</td>\n",
       "      <td>win_by_project</td>\n",
       "      <td>2020-05-04</td>\n",
       "      <td>19</td>\n",
       "    </tr>\n",
       "    <tr>\n",
       "      <th>20</th>\n",
       "      <td>2020-05-04 00:03:46</td>\n",
       "      <td>building</td>\n",
       "      <td>assembly_shop</td>\n",
       "      <td>b374304d-2f74-4cc1-a4e2-500da44a06c7</td>\n",
       "      <td>not_project</td>\n",
       "      <td>win_by_project</td>\n",
       "      <td>2020-05-04</td>\n",
       "      <td>19</td>\n",
       "    </tr>\n",
       "  </tbody>\n",
       "</table>\n",
       "</div>"
      ],
      "text/plain": [
       "        event_datetime     event  building_type  \\\n",
       "1  2020-05-04 00:00:03  building  assembly_shop   \n",
       "8  2020-05-04 00:00:44  building  assembly_shop   \n",
       "9  2020-05-04 00:01:33  building  assembly_shop   \n",
       "13 2020-05-04 00:02:56  building  assembly_shop   \n",
       "20 2020-05-04 00:03:46  building  assembly_shop   \n",
       "\n",
       "                                 user_id project_type  finishing_type  \\\n",
       "1   c07b1c10-f477-44dc-81dc-ec82254b1347  not_project  win_by_project   \n",
       "8   65a92713-5969-48b1-8945-bfefa5063887  not_project  win_by_project   \n",
       "9   fa352362-d258-472c-b295-2796ccc39fa3  not_project  win_by_project   \n",
       "13  7b3b6554-7949-4065-9808-d6c79bdc2f58  not_project  win_by_project   \n",
       "20  b374304d-2f74-4cc1-a4e2-500da44a06c7  not_project  win_by_project   \n",
       "\n",
       "          date  week  \n",
       "1   2020-05-04    19  \n",
       "8   2020-05-04    19  \n",
       "9   2020-05-04    19  \n",
       "13  2020-05-04    19  \n",
       "20  2020-05-04    19  "
      ]
     },
     "execution_count": 77,
     "metadata": {},
     "output_type": "execute_result"
    }
   ],
   "source": [
    "user_filter_project_q.head()"
   ]
  },
  {
   "cell_type": "code",
   "execution_count": 78,
   "metadata": {},
   "outputs": [],
   "source": [
    "buildings_per_user_p = user_filter_project_q.groupby('user_id').agg({'building_type': 'count'}).reset_index()"
   ]
  },
  {
   "cell_type": "code",
   "execution_count": 79,
   "metadata": {},
   "outputs": [
    {
     "data": {
      "text/html": [
       "<div>\n",
       "<style scoped>\n",
       "    .dataframe tbody tr th:only-of-type {\n",
       "        vertical-align: middle;\n",
       "    }\n",
       "\n",
       "    .dataframe tbody tr th {\n",
       "        vertical-align: top;\n",
       "    }\n",
       "\n",
       "    .dataframe thead th {\n",
       "        text-align: right;\n",
       "    }\n",
       "</style>\n",
       "<table border=\"1\" class=\"dataframe\">\n",
       "  <thead>\n",
       "    <tr style=\"text-align: right;\">\n",
       "      <th></th>\n",
       "      <th>building_type</th>\n",
       "    </tr>\n",
       "  </thead>\n",
       "  <tbody>\n",
       "    <tr>\n",
       "      <th>count</th>\n",
       "      <td>1866.000000</td>\n",
       "    </tr>\n",
       "    <tr>\n",
       "      <th>mean</th>\n",
       "      <td>12.647910</td>\n",
       "    </tr>\n",
       "    <tr>\n",
       "      <th>std</th>\n",
       "      <td>2.162522</td>\n",
       "    </tr>\n",
       "    <tr>\n",
       "      <th>min</th>\n",
       "      <td>10.000000</td>\n",
       "    </tr>\n",
       "    <tr>\n",
       "      <th>25%</th>\n",
       "      <td>11.000000</td>\n",
       "    </tr>\n",
       "    <tr>\n",
       "      <th>50%</th>\n",
       "      <td>12.000000</td>\n",
       "    </tr>\n",
       "    <tr>\n",
       "      <th>75%</th>\n",
       "      <td>14.000000</td>\n",
       "    </tr>\n",
       "    <tr>\n",
       "      <th>max</th>\n",
       "      <td>20.000000</td>\n",
       "    </tr>\n",
       "  </tbody>\n",
       "</table>\n",
       "</div>"
      ],
      "text/plain": [
       "       building_type\n",
       "count    1866.000000\n",
       "mean       12.647910\n",
       "std         2.162522\n",
       "min        10.000000\n",
       "25%        11.000000\n",
       "50%        12.000000\n",
       "75%        14.000000\n",
       "max        20.000000"
      ]
     },
     "execution_count": 79,
     "metadata": {},
     "output_type": "execute_result"
    }
   ],
   "source": [
    "buildings_per_user_p.describe()"
   ]
  },
  {
   "cell_type": "markdown",
   "metadata": {},
   "source": [
    "Кто выбирает проект как способ оконачение первого уровня - строят 12,6 зданий в среднем\n",
    "Теперь рассмотрим тех, кто заканчивает уровень победой над врагом"
   ]
  },
  {
   "cell_type": "markdown",
   "metadata": {},
   "source": [
    "<a class=\"anchor\" id=\"21-bullet\"></a>\n",
    "#### Количество зданий для тех, кто закончил уровень победой над врагом"
   ]
  },
  {
   "cell_type": "code",
   "execution_count": 80,
   "metadata": {},
   "outputs": [],
   "source": [
    "buildings_per_user_pw = user_filter_win_pr.groupby('user_id').agg({'building_type': 'count'}).reset_index()"
   ]
  },
  {
   "cell_type": "code",
   "execution_count": 81,
   "metadata": {},
   "outputs": [
    {
     "data": {
      "text/html": [
       "<div>\n",
       "<style scoped>\n",
       "    .dataframe tbody tr th:only-of-type {\n",
       "        vertical-align: middle;\n",
       "    }\n",
       "\n",
       "    .dataframe tbody tr th {\n",
       "        vertical-align: top;\n",
       "    }\n",
       "\n",
       "    .dataframe thead th {\n",
       "        text-align: right;\n",
       "    }\n",
       "</style>\n",
       "<table border=\"1\" class=\"dataframe\">\n",
       "  <thead>\n",
       "    <tr style=\"text-align: right;\">\n",
       "      <th></th>\n",
       "      <th>building_type</th>\n",
       "    </tr>\n",
       "  </thead>\n",
       "  <tbody>\n",
       "    <tr>\n",
       "      <th>count</th>\n",
       "      <td>3951.000000</td>\n",
       "    </tr>\n",
       "    <tr>\n",
       "      <th>mean</th>\n",
       "      <td>9.411541</td>\n",
       "    </tr>\n",
       "    <tr>\n",
       "      <th>std</th>\n",
       "      <td>3.059529</td>\n",
       "    </tr>\n",
       "    <tr>\n",
       "      <th>min</th>\n",
       "      <td>2.000000</td>\n",
       "    </tr>\n",
       "    <tr>\n",
       "      <th>25%</th>\n",
       "      <td>8.000000</td>\n",
       "    </tr>\n",
       "    <tr>\n",
       "      <th>50%</th>\n",
       "      <td>10.000000</td>\n",
       "    </tr>\n",
       "    <tr>\n",
       "      <th>75%</th>\n",
       "      <td>12.000000</td>\n",
       "    </tr>\n",
       "    <tr>\n",
       "      <th>max</th>\n",
       "      <td>19.000000</td>\n",
       "    </tr>\n",
       "  </tbody>\n",
       "</table>\n",
       "</div>"
      ],
      "text/plain": [
       "       building_type\n",
       "count    3951.000000\n",
       "mean        9.411541\n",
       "std         3.059529\n",
       "min         2.000000\n",
       "25%         8.000000\n",
       "50%        10.000000\n",
       "75%        12.000000\n",
       "max        19.000000"
      ]
     },
     "execution_count": 81,
     "metadata": {},
     "output_type": "execute_result"
    }
   ],
   "source": [
    "buildings_per_user_pw.describe()"
   ]
  },
  {
   "cell_type": "markdown",
   "metadata": {},
   "source": [
    "Пользователи, которые заканчивают игру победой над врагом в среднем строят 9.4 здания\n",
    "\n",
    "Теперь рассмотрим тех, кто не закончил уровень"
   ]
  },
  {
   "cell_type": "markdown",
   "metadata": {},
   "source": [
    "<a class=\"anchor\" id=\"22-bullet\"></a>\n",
    "#### Количество зданий для тех, кто не закончил уровень"
   ]
  },
  {
   "cell_type": "code",
   "execution_count": 82,
   "metadata": {},
   "outputs": [],
   "source": [
    "user_filter_nf=action[(action['finishing_type'] == 'not_finished') ]['user_id']"
   ]
  },
  {
   "cell_type": "code",
   "execution_count": 83,
   "metadata": {},
   "outputs": [],
   "source": [
    "user_filter_not_fin =action.query('event==\"building\" & (user_id in @user_filter_nf & user_id not in @user_filter_win & user_id not in @user_filter_project)')"
   ]
  },
  {
   "cell_type": "code",
   "execution_count": 84,
   "metadata": {},
   "outputs": [],
   "source": [
    "buildings_per_user_nf = user_filter_not_fin.groupby('user_id').agg({'building_type': 'count'}).reset_index()"
   ]
  },
  {
   "cell_type": "code",
   "execution_count": 85,
   "metadata": {},
   "outputs": [
    {
     "data": {
      "text/html": [
       "<div>\n",
       "<style scoped>\n",
       "    .dataframe tbody tr th:only-of-type {\n",
       "        vertical-align: middle;\n",
       "    }\n",
       "\n",
       "    .dataframe tbody tr th {\n",
       "        vertical-align: top;\n",
       "    }\n",
       "\n",
       "    .dataframe thead th {\n",
       "        text-align: right;\n",
       "    }\n",
       "</style>\n",
       "<table border=\"1\" class=\"dataframe\">\n",
       "  <thead>\n",
       "    <tr style=\"text-align: right;\">\n",
       "      <th></th>\n",
       "      <th>building_type</th>\n",
       "    </tr>\n",
       "  </thead>\n",
       "  <tbody>\n",
       "    <tr>\n",
       "      <th>count</th>\n",
       "      <td>7759.000000</td>\n",
       "    </tr>\n",
       "    <tr>\n",
       "      <th>mean</th>\n",
       "      <td>8.657043</td>\n",
       "    </tr>\n",
       "    <tr>\n",
       "      <th>std</th>\n",
       "      <td>4.135660</td>\n",
       "    </tr>\n",
       "    <tr>\n",
       "      <th>min</th>\n",
       "      <td>1.000000</td>\n",
       "    </tr>\n",
       "    <tr>\n",
       "      <th>25%</th>\n",
       "      <td>5.000000</td>\n",
       "    </tr>\n",
       "    <tr>\n",
       "      <th>50%</th>\n",
       "      <td>8.000000</td>\n",
       "    </tr>\n",
       "    <tr>\n",
       "      <th>75%</th>\n",
       "      <td>12.000000</td>\n",
       "    </tr>\n",
       "    <tr>\n",
       "      <th>max</th>\n",
       "      <td>20.000000</td>\n",
       "    </tr>\n",
       "  </tbody>\n",
       "</table>\n",
       "</div>"
      ],
      "text/plain": [
       "       building_type\n",
       "count    7759.000000\n",
       "mean        8.657043\n",
       "std         4.135660\n",
       "min         1.000000\n",
       "25%         5.000000\n",
       "50%         8.000000\n",
       "75%        12.000000\n",
       "max        20.000000"
      ]
     },
     "execution_count": 85,
     "metadata": {},
     "output_type": "execute_result"
    }
   ],
   "source": [
    "buildings_per_user_nf.describe()"
   ]
  },
  {
   "cell_type": "markdown",
   "metadata": {},
   "source": [
    "В среднем, те кто не закончил уровень строят около 8.6 домов\n",
    "\n",
    "Теперь посчитаем среднее количество визитов в игру пользователя в день"
   ]
  },
  {
   "cell_type": "markdown",
   "metadata": {},
   "source": [
    "<a class=\"anchor\" id=\"23-bullet\"></a>\n",
    "### Анализ количества визитов в день для уникального пользователя"
   ]
  },
  {
   "cell_type": "markdown",
   "metadata": {},
   "source": [
    "Посчитаем, сколько в среднем наши пользователи заходят в игру"
   ]
  },
  {
   "cell_type": "code",
   "execution_count": 86,
   "metadata": {},
   "outputs": [],
   "source": [
    "user_per_day=action.groupby('date')['user_id'].agg(['count','nunique']).reset_index()"
   ]
  },
  {
   "cell_type": "code",
   "execution_count": 87,
   "metadata": {},
   "outputs": [],
   "source": [
    "user_per_day['ratio']=user_per_day['count']/user_per_day['nunique']"
   ]
  },
  {
   "cell_type": "code",
   "execution_count": 88,
   "metadata": {},
   "outputs": [
    {
     "data": {
      "text/plain": [
       "1.3334837067723853"
      ]
     },
     "execution_count": 88,
     "metadata": {},
     "output_type": "execute_result"
    }
   ],
   "source": [
    "user_per_day['ratio'].mean()"
   ]
  },
  {
   "cell_type": "markdown",
   "metadata": {},
   "source": [
    "В среднем пользователь заходит в игру 1.33 раза в день"
   ]
  },
  {
   "cell_type": "markdown",
   "metadata": {},
   "source": [
    "<a class=\"anchor\" id=\"24-bullet\"></a>\n",
    "### Присоеденение монетизации"
   ]
  },
  {
   "cell_type": "markdown",
   "metadata": {},
   "source": [
    "Коллеги сообщили, что за каждый просмотр рекламы мы зарабатываем около 0.07 у.е.\n",
    "        Исходя из текущей модели, мы показываем рекламу, когда пользователь заходит в меню , чтобы построить здание\n",
    "Создадим дополнительную переменную с условием, что если в столбце event =='building', значение столбца равно 0.07, а если нет - то 0.\n",
    "Используем для этого np.where"
   ]
  },
  {
   "cell_type": "code",
   "execution_count": 89,
   "metadata": {},
   "outputs": [],
   "source": [
    "action['rev'] = np.where((action['event'] =='building'), \n",
    "                                        0.07, 0)"
   ]
  },
  {
   "cell_type": "code",
   "execution_count": 90,
   "metadata": {},
   "outputs": [
    {
     "data": {
      "text/html": [
       "<div>\n",
       "<style scoped>\n",
       "    .dataframe tbody tr th:only-of-type {\n",
       "        vertical-align: middle;\n",
       "    }\n",
       "\n",
       "    .dataframe tbody tr th {\n",
       "        vertical-align: top;\n",
       "    }\n",
       "\n",
       "    .dataframe thead th {\n",
       "        text-align: right;\n",
       "    }\n",
       "</style>\n",
       "<table border=\"1\" class=\"dataframe\">\n",
       "  <thead>\n",
       "    <tr style=\"text-align: right;\">\n",
       "      <th></th>\n",
       "      <th>event_datetime</th>\n",
       "      <th>event</th>\n",
       "      <th>building_type</th>\n",
       "      <th>user_id</th>\n",
       "      <th>project_type</th>\n",
       "      <th>finishing_type</th>\n",
       "      <th>date</th>\n",
       "      <th>week</th>\n",
       "      <th>rev</th>\n",
       "    </tr>\n",
       "  </thead>\n",
       "  <tbody>\n",
       "    <tr>\n",
       "      <th>0</th>\n",
       "      <td>2020-05-04 00:00:01</td>\n",
       "      <td>building</td>\n",
       "      <td>assembly_shop</td>\n",
       "      <td>55e92310-cb8e-4754-b622-597e124b03de</td>\n",
       "      <td>not_project</td>\n",
       "      <td>not_finished</td>\n",
       "      <td>2020-05-04</td>\n",
       "      <td>19</td>\n",
       "      <td>0.07</td>\n",
       "    </tr>\n",
       "    <tr>\n",
       "      <th>1</th>\n",
       "      <td>2020-05-04 00:00:03</td>\n",
       "      <td>building</td>\n",
       "      <td>assembly_shop</td>\n",
       "      <td>c07b1c10-f477-44dc-81dc-ec82254b1347</td>\n",
       "      <td>not_project</td>\n",
       "      <td>win_by_project</td>\n",
       "      <td>2020-05-04</td>\n",
       "      <td>19</td>\n",
       "      <td>0.07</td>\n",
       "    </tr>\n",
       "    <tr>\n",
       "      <th>2</th>\n",
       "      <td>2020-05-04 00:00:16</td>\n",
       "      <td>building</td>\n",
       "      <td>assembly_shop</td>\n",
       "      <td>6edd42cc-e753-4ff6-a947-2107cd560710</td>\n",
       "      <td>not_project</td>\n",
       "      <td>win_by_battle</td>\n",
       "      <td>2020-05-04</td>\n",
       "      <td>19</td>\n",
       "      <td>0.07</td>\n",
       "    </tr>\n",
       "    <tr>\n",
       "      <th>3</th>\n",
       "      <td>2020-05-04 00:00:16</td>\n",
       "      <td>building</td>\n",
       "      <td>assembly_shop</td>\n",
       "      <td>92c69003-d60a-444a-827f-8cc51bf6bf4c</td>\n",
       "      <td>not_project</td>\n",
       "      <td>not_finished</td>\n",
       "      <td>2020-05-04</td>\n",
       "      <td>19</td>\n",
       "      <td>0.07</td>\n",
       "    </tr>\n",
       "    <tr>\n",
       "      <th>4</th>\n",
       "      <td>2020-05-04 00:00:35</td>\n",
       "      <td>building</td>\n",
       "      <td>assembly_shop</td>\n",
       "      <td>cdc6bb92-0ccb-4490-9866-ef142f09139d</td>\n",
       "      <td>not_project</td>\n",
       "      <td>win_by_battle</td>\n",
       "      <td>2020-05-04</td>\n",
       "      <td>19</td>\n",
       "      <td>0.07</td>\n",
       "    </tr>\n",
       "  </tbody>\n",
       "</table>\n",
       "</div>"
      ],
      "text/plain": [
       "       event_datetime     event  building_type  \\\n",
       "0 2020-05-04 00:00:01  building  assembly_shop   \n",
       "1 2020-05-04 00:00:03  building  assembly_shop   \n",
       "2 2020-05-04 00:00:16  building  assembly_shop   \n",
       "3 2020-05-04 00:00:16  building  assembly_shop   \n",
       "4 2020-05-04 00:00:35  building  assembly_shop   \n",
       "\n",
       "                                user_id project_type  finishing_type  \\\n",
       "0  55e92310-cb8e-4754-b622-597e124b03de  not_project    not_finished   \n",
       "1  c07b1c10-f477-44dc-81dc-ec82254b1347  not_project  win_by_project   \n",
       "2  6edd42cc-e753-4ff6-a947-2107cd560710  not_project   win_by_battle   \n",
       "3  92c69003-d60a-444a-827f-8cc51bf6bf4c  not_project    not_finished   \n",
       "4  cdc6bb92-0ccb-4490-9866-ef142f09139d  not_project   win_by_battle   \n",
       "\n",
       "         date  week   rev  \n",
       "0  2020-05-04    19  0.07  \n",
       "1  2020-05-04    19  0.07  \n",
       "2  2020-05-04    19  0.07  \n",
       "3  2020-05-04    19  0.07  \n",
       "4  2020-05-04    19  0.07  "
      ]
     },
     "execution_count": 90,
     "metadata": {},
     "output_type": "execute_result"
    }
   ],
   "source": [
    "action.head()  "
   ]
  },
  {
   "cell_type": "code",
   "execution_count": 91,
   "metadata": {},
   "outputs": [
    {
     "data": {
      "text/plain": [
       "8956.920000000004"
      ]
     },
     "execution_count": 91,
     "metadata": {},
     "output_type": "execute_result"
    }
   ],
   "source": [
    "action['rev'].sum()"
   ]
  },
  {
   "cell_type": "markdown",
   "metadata": {},
   "source": [
    "Вызовем еще раз затраты на рекламу и посчитаем, насколько процентов мы выходим в прибыль/не окупаемся"
   ]
  },
  {
   "cell_type": "code",
   "execution_count": 92,
   "metadata": {},
   "outputs": [
    {
     "data": {
      "text/plain": [
       "17.798767811038818"
      ]
     },
     "execution_count": 92,
     "metadata": {},
     "output_type": "execute_result"
    }
   ],
   "source": [
    "((action['rev'].sum()/ch_gr['cost'].sum())-1)*100"
   ]
  },
  {
   "cell_type": "markdown",
   "metadata": {},
   "source": [
    "При текущих условиях мы заработаем почти 9 тысяч у.е., что больше чем наши суммарные затраты на рекламу почти на 18%"
   ]
  },
  {
   "cell_type": "markdown",
   "metadata": {},
   "source": [
    "<a class=\"anchor\" id=\"25-bullet\"></a>\n",
    "### Общий вывод"
   ]
  },
  {
   "cell_type": "markdown",
   "metadata": {},
   "source": [
    "В данном пункте было сделано следующее:\n",
    "* расчитано время, сколько пользователь проводит на 1 уровне - в среднем около 11 дней и 20 часов\n",
    "* расчитано сколко зданий строят пользователи в среднем и в зависимости от их поведения в игре ( в среднем - 10 зданий)\n",
    "* расчитано сколько в среднем пользователь в день заходит в игру - около 1.3 раза\n",
    "* добавлена монетизация и вычеслено, что при текущих условиях мы могли бы заработать 9 т. у.е.\n",
    "\n",
    "Передем к расчету метрик"
   ]
  },
  {
   "cell_type": "markdown",
   "metadata": {},
   "source": [
    "## Расчет метрик"
   ]
  },
  {
   "cell_type": "markdown",
   "metadata": {},
   "source": [
    "<a class=\"anchor\" id=\"26-bullet\"></a>\n",
    "### Расчет MAU, WAU, Sticky Factor"
   ]
  },
  {
   "cell_type": "markdown",
   "metadata": {},
   "source": [
    "Данные метрики позволяют узнать насколько вовлечен пользователь в нашу игру"
   ]
  },
  {
   "cell_type": "code",
   "execution_count": 93,
   "metadata": {},
   "outputs": [
    {
     "data": {
      "text/plain": [
       "user_id    2884.878788\n",
       "dtype: float64"
      ]
     },
     "execution_count": 93,
     "metadata": {},
     "output_type": "execute_result"
    }
   ],
   "source": [
    "dau_total = action.groupby('date').agg({'user_id': 'nunique'}).mean()\n",
    "\n",
    "dau_total"
   ]
  },
  {
   "cell_type": "code",
   "execution_count": 94,
   "metadata": {},
   "outputs": [
    {
     "data": {
      "text/plain": [
       "user_id    6120.0\n",
       "dtype: float64"
      ]
     },
     "execution_count": 94,
     "metadata": {},
     "output_type": "execute_result"
    }
   ],
   "source": [
    "wau_total = (\n",
    "    action.groupby(['week'])\n",
    "    .agg({'user_id': 'nunique'})\n",
    "    .mean()\n",
    ")\n",
    "wau_total "
   ]
  },
  {
   "cell_type": "code",
   "execution_count": 95,
   "metadata": {},
   "outputs": [
    {
     "name": "stdout",
     "output_type": "stream",
     "text": [
      "Sticky factor равен  47.14%\n"
     ]
    }
   ],
   "source": [
    "print('Sticky factor равен ', \"{:.2%}\".format(float(dau_total / wau_total))) "
   ]
  },
  {
   "cell_type": "markdown",
   "metadata": {},
   "source": [
    "<big>Вывод</big>\n",
    "\n",
    "На дневной основе в игру в среднем заходят 2884 пользовтаеля, на недельной - 6120\n",
    "\n",
    "Sticky Factor равен 47.14%, что является высоким показателем.\n",
    "\n",
    "Посчитаем теперь Customer Acquisition Costs"
   ]
  },
  {
   "cell_type": "markdown",
   "metadata": {},
   "source": [
    "<a class=\"anchor\" id=\"27-bullet\"></a>\n",
    "### Расчет CAC"
   ]
  },
  {
   "cell_type": "code",
   "execution_count": 96,
   "metadata": {},
   "outputs": [
    {
     "data": {
      "text/html": [
       "<div>\n",
       "<style scoped>\n",
       "    .dataframe tbody tr th:only-of-type {\n",
       "        vertical-align: middle;\n",
       "    }\n",
       "\n",
       "    .dataframe tbody tr th {\n",
       "        vertical-align: top;\n",
       "    }\n",
       "\n",
       "    .dataframe thead th {\n",
       "        text-align: right;\n",
       "    }\n",
       "</style>\n",
       "<table border=\"1\" class=\"dataframe\">\n",
       "  <thead>\n",
       "    <tr style=\"text-align: right;\">\n",
       "      <th></th>\n",
       "      <th>index</th>\n",
       "      <th>source</th>\n",
       "      <th>user_id</th>\n",
       "      <th>cost</th>\n",
       "    </tr>\n",
       "  </thead>\n",
       "  <tbody>\n",
       "    <tr>\n",
       "      <th>0</th>\n",
       "      <td>0</td>\n",
       "      <td>yandex_direct</td>\n",
       "      <td>4817</td>\n",
       "      <td>2233.111449</td>\n",
       "    </tr>\n",
       "    <tr>\n",
       "      <th>1</th>\n",
       "      <td>1</td>\n",
       "      <td>instagram_new_adverts</td>\n",
       "      <td>3347</td>\n",
       "      <td>2161.441691</td>\n",
       "    </tr>\n",
       "    <tr>\n",
       "      <th>2</th>\n",
       "      <td>2</td>\n",
       "      <td>facebook_ads</td>\n",
       "      <td>2726</td>\n",
       "      <td>2140.904643</td>\n",
       "    </tr>\n",
       "    <tr>\n",
       "      <th>3</th>\n",
       "      <td>3</td>\n",
       "      <td>youtube_channel_reklama</td>\n",
       "      <td>2686</td>\n",
       "      <td>1068.119204</td>\n",
       "    </tr>\n",
       "  </tbody>\n",
       "</table>\n",
       "</div>"
      ],
      "text/plain": [
       "   index                   source  user_id         cost\n",
       "0      0            yandex_direct     4817  2233.111449\n",
       "1      1    instagram_new_adverts     3347  2161.441691\n",
       "2      2             facebook_ads     2726  2140.904643\n",
       "3      3  youtube_channel_reklama     2686  1068.119204"
      ]
     },
     "execution_count": 96,
     "metadata": {},
     "output_type": "execute_result"
    }
   ],
   "source": [
    "ad_costs_source = pd.merge(source_gr, ch_gr, on = ['source'], how = 'inner').reset_index()\n",
    "ad_costs_source.head() #cоедим стоимость канала и количество пользователей, которые с него пришли"
   ]
  },
  {
   "cell_type": "code",
   "execution_count": 97,
   "metadata": {},
   "outputs": [],
   "source": [
    "#разделим одно число на другое\n",
    "ad_costs_source['cac']=ad_costs_source['cost']/ad_costs_source['user_id']"
   ]
  },
  {
   "cell_type": "code",
   "execution_count": 98,
   "metadata": {},
   "outputs": [],
   "source": [
    "ad_costs_source=ad_costs_source.sort_values(by='cac',ascending=False)"
   ]
  },
  {
   "cell_type": "code",
   "execution_count": 99,
   "metadata": {},
   "outputs": [
    {
     "data": {
      "image/png": "[encoded data removed]",
      "text/plain": [
       "<Figure size 936x576 with 1 Axes>"
      ]
     },
     "metadata": {},
     "output_type": "display_data"
    }
   ],
   "source": [
    "sns.set_style('white')\n",
    "\n",
    "p=sns.barplot(x = 'source', y = \"cac\", data = ad_costs_source)\n",
    "p.set_title(\"CAC по каналам\")\n",
    "p.set_xlabel(\"Канал\", fontsize = 10)\n",
    "p.set_ylabel(\"CAC\", fontsize = 10)\n",
    "plt.gcf().set_size_inches(13, 8)\n",
    "for i in p.patches:\n",
    "             p.annotate(\"%.2f\" % i.get_height(), (i.get_x() + i.get_width() / 2., i.get_height()),\n",
    "                 ha='center', va='center', fontsize=10, color='black', xytext=(0, 5),\n",
    "                 textcoords='offset points')\n",
    "\n",
    "plt.show()"
   ]
  },
  {
   "cell_type": "code",
   "execution_count": 100,
   "metadata": {},
   "outputs": [
    {
     "data": {
      "text/plain": [
       "0.5731002471448883"
      ]
     },
     "execution_count": 100,
     "metadata": {},
     "output_type": "execute_result"
    }
   ],
   "source": [
    "ad_costs_source['cac'].mean() #считаем среднюю стоимость"
   ]
  },
  {
   "cell_type": "markdown",
   "metadata": {},
   "source": [
    "Вывод по CAC:\n",
    "* средняя стоимость CAC для всех 4 каналов - 0.57 у.е.\n",
    "* самый \"дорогой\" канал facebook_ads (0.79 у.е.), самый \"дешевый\" youtube_channel_reklama (0.4 у.е.)\n",
    "* Нужно дополнительно проанализироваь фейсбук - в чем причина такой стоимости, и есть ли смысл перераспределить бюджет\n",
    "\n",
    "Теперь посчитаем коэффицент Удержания"
   ]
  },
  {
   "cell_type": "markdown",
   "metadata": {},
   "source": [
    "<a class=\"anchor\" id=\"28-bullet\"></a>\n",
    "### Расчет Retention Rate"
   ]
  },
  {
   "cell_type": "markdown",
   "metadata": {},
   "source": [
    "Для каждого пользователя считаем первый заход в игру"
   ]
  },
  {
   "cell_type": "code",
   "execution_count": 101,
   "metadata": {},
   "outputs": [],
   "source": [
    "min_date=action.groupby('user_id')['event_datetime'].min()"
   ]
  },
  {
   "cell_type": "code",
   "execution_count": 102,
   "metadata": {},
   "outputs": [],
   "source": [
    "min_date.name='min_date' #переименовываем"
   ]
  },
  {
   "cell_type": "code",
   "execution_count": 103,
   "metadata": {},
   "outputs": [
    {
     "data": {
      "text/html": [
       "<div>\n",
       "<style scoped>\n",
       "    .dataframe tbody tr th:only-of-type {\n",
       "        vertical-align: middle;\n",
       "    }\n",
       "\n",
       "    .dataframe tbody tr th {\n",
       "        vertical-align: top;\n",
       "    }\n",
       "\n",
       "    .dataframe thead th {\n",
       "        text-align: right;\n",
       "    }\n",
       "</style>\n",
       "<table border=\"1\" class=\"dataframe\">\n",
       "  <thead>\n",
       "    <tr style=\"text-align: right;\">\n",
       "      <th></th>\n",
       "      <th>event_datetime</th>\n",
       "      <th>event</th>\n",
       "      <th>building_type</th>\n",
       "      <th>user_id</th>\n",
       "      <th>project_type</th>\n",
       "      <th>finishing_type</th>\n",
       "      <th>date</th>\n",
       "      <th>week</th>\n",
       "      <th>rev</th>\n",
       "      <th>min_date</th>\n",
       "    </tr>\n",
       "  </thead>\n",
       "  <tbody>\n",
       "    <tr>\n",
       "      <th>0</th>\n",
       "      <td>2020-05-04 00:00:01</td>\n",
       "      <td>building</td>\n",
       "      <td>assembly_shop</td>\n",
       "      <td>55e92310-cb8e-4754-b622-597e124b03de</td>\n",
       "      <td>not_project</td>\n",
       "      <td>not_finished</td>\n",
       "      <td>2020-05-04</td>\n",
       "      <td>19</td>\n",
       "      <td>0.07</td>\n",
       "      <td>2020-05-04 00:00:01</td>\n",
       "    </tr>\n",
       "    <tr>\n",
       "      <th>1</th>\n",
       "      <td>2020-05-04 00:00:03</td>\n",
       "      <td>building</td>\n",
       "      <td>assembly_shop</td>\n",
       "      <td>c07b1c10-f477-44dc-81dc-ec82254b1347</td>\n",
       "      <td>not_project</td>\n",
       "      <td>win_by_project</td>\n",
       "      <td>2020-05-04</td>\n",
       "      <td>19</td>\n",
       "      <td>0.07</td>\n",
       "      <td>2020-05-04 00:00:03</td>\n",
       "    </tr>\n",
       "    <tr>\n",
       "      <th>2</th>\n",
       "      <td>2020-05-04 00:00:16</td>\n",
       "      <td>building</td>\n",
       "      <td>assembly_shop</td>\n",
       "      <td>6edd42cc-e753-4ff6-a947-2107cd560710</td>\n",
       "      <td>not_project</td>\n",
       "      <td>win_by_battle</td>\n",
       "      <td>2020-05-04</td>\n",
       "      <td>19</td>\n",
       "      <td>0.07</td>\n",
       "      <td>2020-05-04 00:00:16</td>\n",
       "    </tr>\n",
       "    <tr>\n",
       "      <th>3</th>\n",
       "      <td>2020-05-04 00:00:16</td>\n",
       "      <td>building</td>\n",
       "      <td>assembly_shop</td>\n",
       "      <td>92c69003-d60a-444a-827f-8cc51bf6bf4c</td>\n",
       "      <td>not_project</td>\n",
       "      <td>not_finished</td>\n",
       "      <td>2020-05-04</td>\n",
       "      <td>19</td>\n",
       "      <td>0.07</td>\n",
       "      <td>2020-05-04 00:00:16</td>\n",
       "    </tr>\n",
       "    <tr>\n",
       "      <th>4</th>\n",
       "      <td>2020-05-04 00:00:35</td>\n",
       "      <td>building</td>\n",
       "      <td>assembly_shop</td>\n",
       "      <td>cdc6bb92-0ccb-4490-9866-ef142f09139d</td>\n",
       "      <td>not_project</td>\n",
       "      <td>win_by_battle</td>\n",
       "      <td>2020-05-04</td>\n",
       "      <td>19</td>\n",
       "      <td>0.07</td>\n",
       "      <td>2020-05-04 00:00:35</td>\n",
       "    </tr>\n",
       "  </tbody>\n",
       "</table>\n",
       "</div>"
      ],
      "text/plain": [
       "       event_datetime     event  building_type  \\\n",
       "0 2020-05-04 00:00:01  building  assembly_shop   \n",
       "1 2020-05-04 00:00:03  building  assembly_shop   \n",
       "2 2020-05-04 00:00:16  building  assembly_shop   \n",
       "3 2020-05-04 00:00:16  building  assembly_shop   \n",
       "4 2020-05-04 00:00:35  building  assembly_shop   \n",
       "\n",
       "                                user_id project_type  finishing_type  \\\n",
       "0  55e92310-cb8e-4754-b622-597e124b03de  not_project    not_finished   \n",
       "1  c07b1c10-f477-44dc-81dc-ec82254b1347  not_project  win_by_project   \n",
       "2  6edd42cc-e753-4ff6-a947-2107cd560710  not_project   win_by_battle   \n",
       "3  92c69003-d60a-444a-827f-8cc51bf6bf4c  not_project    not_finished   \n",
       "4  cdc6bb92-0ccb-4490-9866-ef142f09139d  not_project   win_by_battle   \n",
       "\n",
       "         date  week   rev            min_date  \n",
       "0  2020-05-04    19  0.07 2020-05-04 00:00:01  \n",
       "1  2020-05-04    19  0.07 2020-05-04 00:00:03  \n",
       "2  2020-05-04    19  0.07 2020-05-04 00:00:16  \n",
       "3  2020-05-04    19  0.07 2020-05-04 00:00:16  \n",
       "4  2020-05-04    19  0.07 2020-05-04 00:00:35  "
      ]
     },
     "execution_count": 103,
     "metadata": {},
     "output_type": "execute_result"
    }
   ],
   "source": [
    "result_raw = action.merge(\n",
    "    min_date, on='user_id', how='left')\n",
    "\n",
    "result_raw.head()"
   ]
  },
  {
   "cell_type": "code",
   "execution_count": 104,
   "metadata": {},
   "outputs": [],
   "source": [
    "result_raw['min_date']=result_raw['min_date'].dt.date #переведем в дату"
   ]
  },
  {
   "cell_type": "code",
   "execution_count": 105,
   "metadata": {},
   "outputs": [],
   "source": [
    " #посчитаем лайфтайм для каждого пользователя\n",
    "result_raw['lifetime'] = (\n",
    "   result_raw['date'] - result_raw['min_date']\n",
    ").dt.days\n",
    " #округлим\n",
    "result_raw['lifetime'] = result_raw['lifetime'].round().astype('int')"
   ]
  },
  {
   "cell_type": "code",
   "execution_count": 106,
   "metadata": {},
   "outputs": [
    {
     "data": {
      "text/html": [
       "<div>\n",
       "<style scoped>\n",
       "    .dataframe tbody tr th:only-of-type {\n",
       "        vertical-align: middle;\n",
       "    }\n",
       "\n",
       "    .dataframe tbody tr th {\n",
       "        vertical-align: top;\n",
       "    }\n",
       "\n",
       "    .dataframe thead th {\n",
       "        text-align: right;\n",
       "    }\n",
       "</style>\n",
       "<table border=\"1\" class=\"dataframe\">\n",
       "  <thead>\n",
       "    <tr style=\"text-align: right;\">\n",
       "      <th></th>\n",
       "      <th>event_datetime</th>\n",
       "      <th>event</th>\n",
       "      <th>building_type</th>\n",
       "      <th>user_id</th>\n",
       "      <th>project_type</th>\n",
       "      <th>finishing_type</th>\n",
       "      <th>date</th>\n",
       "      <th>week</th>\n",
       "      <th>rev</th>\n",
       "      <th>min_date</th>\n",
       "      <th>lifetime</th>\n",
       "    </tr>\n",
       "  </thead>\n",
       "  <tbody>\n",
       "    <tr>\n",
       "      <th>0</th>\n",
       "      <td>2020-05-04 00:00:01</td>\n",
       "      <td>building</td>\n",
       "      <td>assembly_shop</td>\n",
       "      <td>55e92310-cb8e-4754-b622-597e124b03de</td>\n",
       "      <td>not_project</td>\n",
       "      <td>not_finished</td>\n",
       "      <td>2020-05-04</td>\n",
       "      <td>19</td>\n",
       "      <td>0.07</td>\n",
       "      <td>2020-05-04</td>\n",
       "      <td>0</td>\n",
       "    </tr>\n",
       "    <tr>\n",
       "      <th>1</th>\n",
       "      <td>2020-05-04 00:00:03</td>\n",
       "      <td>building</td>\n",
       "      <td>assembly_shop</td>\n",
       "      <td>c07b1c10-f477-44dc-81dc-ec82254b1347</td>\n",
       "      <td>not_project</td>\n",
       "      <td>win_by_project</td>\n",
       "      <td>2020-05-04</td>\n",
       "      <td>19</td>\n",
       "      <td>0.07</td>\n",
       "      <td>2020-05-04</td>\n",
       "      <td>0</td>\n",
       "    </tr>\n",
       "    <tr>\n",
       "      <th>2</th>\n",
       "      <td>2020-05-04 00:00:16</td>\n",
       "      <td>building</td>\n",
       "      <td>assembly_shop</td>\n",
       "      <td>6edd42cc-e753-4ff6-a947-2107cd560710</td>\n",
       "      <td>not_project</td>\n",
       "      <td>win_by_battle</td>\n",
       "      <td>2020-05-04</td>\n",
       "      <td>19</td>\n",
       "      <td>0.07</td>\n",
       "      <td>2020-05-04</td>\n",
       "      <td>0</td>\n",
       "    </tr>\n",
       "    <tr>\n",
       "      <th>3</th>\n",
       "      <td>2020-05-04 00:00:16</td>\n",
       "      <td>building</td>\n",
       "      <td>assembly_shop</td>\n",
       "      <td>92c69003-d60a-444a-827f-8cc51bf6bf4c</td>\n",
       "      <td>not_project</td>\n",
       "      <td>not_finished</td>\n",
       "      <td>2020-05-04</td>\n",
       "      <td>19</td>\n",
       "      <td>0.07</td>\n",
       "      <td>2020-05-04</td>\n",
       "      <td>0</td>\n",
       "    </tr>\n",
       "    <tr>\n",
       "      <th>4</th>\n",
       "      <td>2020-05-04 00:00:35</td>\n",
       "      <td>building</td>\n",
       "      <td>assembly_shop</td>\n",
       "      <td>cdc6bb92-0ccb-4490-9866-ef142f09139d</td>\n",
       "      <td>not_project</td>\n",
       "      <td>win_by_battle</td>\n",
       "      <td>2020-05-04</td>\n",
       "      <td>19</td>\n",
       "      <td>0.07</td>\n",
       "      <td>2020-05-04</td>\n",
       "      <td>0</td>\n",
       "    </tr>\n",
       "  </tbody>\n",
       "</table>\n",
       "</div>"
      ],
      "text/plain": [
       "       event_datetime     event  building_type  \\\n",
       "0 2020-05-04 00:00:01  building  assembly_shop   \n",
       "1 2020-05-04 00:00:03  building  assembly_shop   \n",
       "2 2020-05-04 00:00:16  building  assembly_shop   \n",
       "3 2020-05-04 00:00:16  building  assembly_shop   \n",
       "4 2020-05-04 00:00:35  building  assembly_shop   \n",
       "\n",
       "                                user_id project_type  finishing_type  \\\n",
       "0  55e92310-cb8e-4754-b622-597e124b03de  not_project    not_finished   \n",
       "1  c07b1c10-f477-44dc-81dc-ec82254b1347  not_project  win_by_project   \n",
       "2  6edd42cc-e753-4ff6-a947-2107cd560710  not_project   win_by_battle   \n",
       "3  92c69003-d60a-444a-827f-8cc51bf6bf4c  not_project    not_finished   \n",
       "4  cdc6bb92-0ccb-4490-9866-ef142f09139d  not_project   win_by_battle   \n",
       "\n",
       "         date  week   rev    min_date  lifetime  \n",
       "0  2020-05-04    19  0.07  2020-05-04         0  \n",
       "1  2020-05-04    19  0.07  2020-05-04         0  \n",
       "2  2020-05-04    19  0.07  2020-05-04         0  \n",
       "3  2020-05-04    19  0.07  2020-05-04         0  \n",
       "4  2020-05-04    19  0.07  2020-05-04         0  "
      ]
     },
     "execution_count": 106,
     "metadata": {},
     "output_type": "execute_result"
    }
   ],
   "source": [
    "result_raw.head()"
   ]
  },
  {
   "cell_type": "code",
   "execution_count": 107,
   "metadata": {},
   "outputs": [
    {
     "data": {
      "text/html": [
       "<div>\n",
       "<style scoped>\n",
       "    .dataframe tbody tr th:only-of-type {\n",
       "        vertical-align: middle;\n",
       "    }\n",
       "\n",
       "    .dataframe tbody tr th {\n",
       "        vertical-align: top;\n",
       "    }\n",
       "\n",
       "    .dataframe thead th {\n",
       "        text-align: right;\n",
       "    }\n",
       "</style>\n",
       "<table border=\"1\" class=\"dataframe\">\n",
       "  <thead>\n",
       "    <tr style=\"text-align: right;\">\n",
       "      <th>lifetime</th>\n",
       "      <th>0</th>\n",
       "      <th>1</th>\n",
       "      <th>2</th>\n",
       "      <th>3</th>\n",
       "      <th>4</th>\n",
       "      <th>5</th>\n",
       "      <th>6</th>\n",
       "      <th>7</th>\n",
       "      <th>8</th>\n",
       "      <th>9</th>\n",
       "      <th>...</th>\n",
       "      <th>22</th>\n",
       "      <th>23</th>\n",
       "      <th>24</th>\n",
       "      <th>25</th>\n",
       "      <th>26</th>\n",
       "      <th>27</th>\n",
       "      <th>28</th>\n",
       "      <th>29</th>\n",
       "      <th>30</th>\n",
       "      <th>31</th>\n",
       "    </tr>\n",
       "    <tr>\n",
       "      <th>min_date</th>\n",
       "      <th></th>\n",
       "      <th></th>\n",
       "      <th></th>\n",
       "      <th></th>\n",
       "      <th></th>\n",
       "      <th></th>\n",
       "      <th></th>\n",
       "      <th></th>\n",
       "      <th></th>\n",
       "      <th></th>\n",
       "      <th></th>\n",
       "      <th></th>\n",
       "      <th></th>\n",
       "      <th></th>\n",
       "      <th></th>\n",
       "      <th></th>\n",
       "      <th></th>\n",
       "      <th></th>\n",
       "      <th></th>\n",
       "      <th></th>\n",
       "      <th></th>\n",
       "    </tr>\n",
       "  </thead>\n",
       "  <tbody>\n",
       "    <tr>\n",
       "      <th>2020-05-04</th>\n",
       "      <td>5860.0</td>\n",
       "      <td>3021.0</td>\n",
       "      <td>3204.0</td>\n",
       "      <td>3412.0</td>\n",
       "      <td>3564.0</td>\n",
       "      <td>3758.0</td>\n",
       "      <td>4161.0</td>\n",
       "      <td>2728.0</td>\n",
       "      <td>2504.0</td>\n",
       "      <td>2379.0</td>\n",
       "      <td>...</td>\n",
       "      <td>43.0</td>\n",
       "      <td>29.0</td>\n",
       "      <td>19.0</td>\n",
       "      <td>12.0</td>\n",
       "      <td>6.0</td>\n",
       "      <td>4.0</td>\n",
       "      <td>2.0</td>\n",
       "      <td>1.0</td>\n",
       "      <td>2.0</td>\n",
       "      <td>2.0</td>\n",
       "    </tr>\n",
       "    <tr>\n",
       "      <th>2020-05-05</th>\n",
       "      <td>3361.0</td>\n",
       "      <td>1803.0</td>\n",
       "      <td>1903.0</td>\n",
       "      <td>2058.0</td>\n",
       "      <td>2133.0</td>\n",
       "      <td>2312.0</td>\n",
       "      <td>1589.0</td>\n",
       "      <td>1516.0</td>\n",
       "      <td>1374.0</td>\n",
       "      <td>1280.0</td>\n",
       "      <td>...</td>\n",
       "      <td>23.0</td>\n",
       "      <td>16.0</td>\n",
       "      <td>9.0</td>\n",
       "      <td>8.0</td>\n",
       "      <td>3.0</td>\n",
       "      <td>2.0</td>\n",
       "      <td>1.0</td>\n",
       "      <td>NaN</td>\n",
       "      <td>NaN</td>\n",
       "      <td>NaN</td>\n",
       "    </tr>\n",
       "    <tr>\n",
       "      <th>2020-05-06</th>\n",
       "      <td>1847.0</td>\n",
       "      <td>960.0</td>\n",
       "      <td>1018.0</td>\n",
       "      <td>1118.0</td>\n",
       "      <td>1224.0</td>\n",
       "      <td>802.0</td>\n",
       "      <td>820.0</td>\n",
       "      <td>803.0</td>\n",
       "      <td>686.0</td>\n",
       "      <td>614.0</td>\n",
       "      <td>...</td>\n",
       "      <td>9.0</td>\n",
       "      <td>10.0</td>\n",
       "      <td>4.0</td>\n",
       "      <td>3.0</td>\n",
       "      <td>3.0</td>\n",
       "      <td>4.0</td>\n",
       "      <td>1.0</td>\n",
       "      <td>1.0</td>\n",
       "      <td>1.0</td>\n",
       "      <td>NaN</td>\n",
       "    </tr>\n",
       "    <tr>\n",
       "      <th>2020-05-07</th>\n",
       "      <td>1109.0</td>\n",
       "      <td>563.0</td>\n",
       "      <td>613.0</td>\n",
       "      <td>665.0</td>\n",
       "      <td>424.0</td>\n",
       "      <td>444.0</td>\n",
       "      <td>510.0</td>\n",
       "      <td>433.0</td>\n",
       "      <td>365.0</td>\n",
       "      <td>323.0</td>\n",
       "      <td>...</td>\n",
       "      <td>11.0</td>\n",
       "      <td>7.0</td>\n",
       "      <td>3.0</td>\n",
       "      <td>6.0</td>\n",
       "      <td>3.0</td>\n",
       "      <td>3.0</td>\n",
       "      <td>3.0</td>\n",
       "      <td>3.0</td>\n",
       "      <td>NaN</td>\n",
       "      <td>NaN</td>\n",
       "    </tr>\n",
       "    <tr>\n",
       "      <th>2020-05-08</th>\n",
       "      <td>688.0</td>\n",
       "      <td>332.0</td>\n",
       "      <td>375.0</td>\n",
       "      <td>242.0</td>\n",
       "      <td>262.0</td>\n",
       "      <td>285.0</td>\n",
       "      <td>303.0</td>\n",
       "      <td>259.0</td>\n",
       "      <td>180.0</td>\n",
       "      <td>215.0</td>\n",
       "      <td>...</td>\n",
       "      <td>3.0</td>\n",
       "      <td>5.0</td>\n",
       "      <td>1.0</td>\n",
       "      <td>NaN</td>\n",
       "      <td>2.0</td>\n",
       "      <td>1.0</td>\n",
       "      <td>NaN</td>\n",
       "      <td>NaN</td>\n",
       "      <td>NaN</td>\n",
       "      <td>NaN</td>\n",
       "    </tr>\n",
       "    <tr>\n",
       "      <th>2020-05-09</th>\n",
       "      <td>440.0</td>\n",
       "      <td>211.0</td>\n",
       "      <td>141.0</td>\n",
       "      <td>149.0</td>\n",
       "      <td>192.0</td>\n",
       "      <td>172.0</td>\n",
       "      <td>185.0</td>\n",
       "      <td>168.0</td>\n",
       "      <td>119.0</td>\n",
       "      <td>95.0</td>\n",
       "      <td>...</td>\n",
       "      <td>3.0</td>\n",
       "      <td>1.0</td>\n",
       "      <td>1.0</td>\n",
       "      <td>1.0</td>\n",
       "      <td>NaN</td>\n",
       "      <td>NaN</td>\n",
       "      <td>NaN</td>\n",
       "      <td>NaN</td>\n",
       "      <td>NaN</td>\n",
       "      <td>NaN</td>\n",
       "    </tr>\n",
       "    <tr>\n",
       "      <th>2020-05-10</th>\n",
       "      <td>271.0</td>\n",
       "      <td>69.0</td>\n",
       "      <td>81.0</td>\n",
       "      <td>89.0</td>\n",
       "      <td>92.0</td>\n",
       "      <td>112.0</td>\n",
       "      <td>118.0</td>\n",
       "      <td>100.0</td>\n",
       "      <td>57.0</td>\n",
       "      <td>57.0</td>\n",
       "      <td>...</td>\n",
       "      <td>1.0</td>\n",
       "      <td>1.0</td>\n",
       "      <td>NaN</td>\n",
       "      <td>NaN</td>\n",
       "      <td>NaN</td>\n",
       "      <td>NaN</td>\n",
       "      <td>NaN</td>\n",
       "      <td>NaN</td>\n",
       "      <td>NaN</td>\n",
       "      <td>NaN</td>\n",
       "    </tr>\n",
       "  </tbody>\n",
       "</table>\n",
       "<p>7 rows × 32 columns</p>\n",
       "</div>"
      ],
      "text/plain": [
       "lifetime        0       1       2       3       4       5       6       7   \\\n",
       "min_date                                                                     \n",
       "2020-05-04  5860.0  3021.0  3204.0  3412.0  3564.0  3758.0  4161.0  2728.0   \n",
       "2020-05-05  3361.0  1803.0  1903.0  2058.0  2133.0  2312.0  1589.0  1516.0   \n",
       "2020-05-06  1847.0   960.0  1018.0  1118.0  1224.0   802.0   820.0   803.0   \n",
       "2020-05-07  1109.0   563.0   613.0   665.0   424.0   444.0   510.0   433.0   \n",
       "2020-05-08   688.0   332.0   375.0   242.0   262.0   285.0   303.0   259.0   \n",
       "2020-05-09   440.0   211.0   141.0   149.0   192.0   172.0   185.0   168.0   \n",
       "2020-05-10   271.0    69.0    81.0    89.0    92.0   112.0   118.0   100.0   \n",
       "\n",
       "lifetime        8       9   ...    22    23    24    25   26   27   28   29  \\\n",
       "min_date                    ...                                               \n",
       "2020-05-04  2504.0  2379.0  ...  43.0  29.0  19.0  12.0  6.0  4.0  2.0  1.0   \n",
       "2020-05-05  1374.0  1280.0  ...  23.0  16.0   9.0   8.0  3.0  2.0  1.0  NaN   \n",
       "2020-05-06   686.0   614.0  ...   9.0  10.0   4.0   3.0  3.0  4.0  1.0  1.0   \n",
       "2020-05-07   365.0   323.0  ...  11.0   7.0   3.0   6.0  3.0  3.0  3.0  3.0   \n",
       "2020-05-08   180.0   215.0  ...   3.0   5.0   1.0   NaN  2.0  1.0  NaN  NaN   \n",
       "2020-05-09   119.0    95.0  ...   3.0   1.0   1.0   1.0  NaN  NaN  NaN  NaN   \n",
       "2020-05-10    57.0    57.0  ...   1.0   1.0   NaN   NaN  NaN  NaN  NaN  NaN   \n",
       "\n",
       "lifetime     30   31  \n",
       "min_date              \n",
       "2020-05-04  2.0  2.0  \n",
       "2020-05-05  NaN  NaN  \n",
       "2020-05-06  1.0  NaN  \n",
       "2020-05-07  NaN  NaN  \n",
       "2020-05-08  NaN  NaN  \n",
       "2020-05-09  NaN  NaN  \n",
       "2020-05-10  NaN  NaN  \n",
       "\n",
       "[7 rows x 32 columns]"
      ]
     },
     "execution_count": 107,
     "metadata": {},
     "output_type": "execute_result"
    }
   ],
   "source": [
    "#создадим сводную по лайфтайму\n",
    "result_grouped = result_raw.pivot_table(\n",
    "    index=['min_date'], columns='lifetime', values='user_id', aggfunc='nunique'\n",
    ")\n",
    "\n",
    "result_grouped"
   ]
  },
  {
   "cell_type": "code",
   "execution_count": 108,
   "metadata": {},
   "outputs": [
    {
     "data": {
      "text/html": [
       "<div>\n",
       "<style scoped>\n",
       "    .dataframe tbody tr th:only-of-type {\n",
       "        vertical-align: middle;\n",
       "    }\n",
       "\n",
       "    .dataframe tbody tr th {\n",
       "        vertical-align: top;\n",
       "    }\n",
       "\n",
       "    .dataframe thead th {\n",
       "        text-align: right;\n",
       "    }\n",
       "</style>\n",
       "<table border=\"1\" class=\"dataframe\">\n",
       "  <thead>\n",
       "    <tr style=\"text-align: right;\">\n",
       "      <th></th>\n",
       "      <th>cohort_size</th>\n",
       "    </tr>\n",
       "    <tr>\n",
       "      <th>min_date</th>\n",
       "      <th></th>\n",
       "    </tr>\n",
       "  </thead>\n",
       "  <tbody>\n",
       "    <tr>\n",
       "      <th>2020-05-04</th>\n",
       "      <td>5860</td>\n",
       "    </tr>\n",
       "    <tr>\n",
       "      <th>2020-05-05</th>\n",
       "      <td>3361</td>\n",
       "    </tr>\n",
       "    <tr>\n",
       "      <th>2020-05-06</th>\n",
       "      <td>1847</td>\n",
       "    </tr>\n",
       "    <tr>\n",
       "      <th>2020-05-07</th>\n",
       "      <td>1109</td>\n",
       "    </tr>\n",
       "    <tr>\n",
       "      <th>2020-05-08</th>\n",
       "      <td>688</td>\n",
       "    </tr>\n",
       "    <tr>\n",
       "      <th>2020-05-09</th>\n",
       "      <td>440</td>\n",
       "    </tr>\n",
       "    <tr>\n",
       "      <th>2020-05-10</th>\n",
       "      <td>271</td>\n",
       "    </tr>\n",
       "  </tbody>\n",
       "</table>\n",
       "</div>"
      ],
      "text/plain": [
       "            cohort_size\n",
       "min_date               \n",
       "2020-05-04         5860\n",
       "2020-05-05         3361\n",
       "2020-05-06         1847\n",
       "2020-05-07         1109\n",
       "2020-05-08          688\n",
       "2020-05-09          440\n",
       "2020-05-10          271"
      ]
     },
     "execution_count": 108,
     "metadata": {},
     "output_type": "execute_result"
    }
   ],
   "source": [
    "#расчитаем размер когорты\n",
    "cohort_sizes = (\n",
    "    result_raw.groupby('min_date')\n",
    "    .agg({'user_id': 'nunique'})\n",
    "    .rename(columns={'user_id': 'cohort_size'})\n",
    ")\n",
    "\n",
    "cohort_sizes"
   ]
  },
  {
   "cell_type": "code",
   "execution_count": 109,
   "metadata": {},
   "outputs": [
    {
     "data": {
      "text/html": [
       "<div>\n",
       "<style scoped>\n",
       "    .dataframe tbody tr th:only-of-type {\n",
       "        vertical-align: middle;\n",
       "    }\n",
       "\n",
       "    .dataframe tbody tr th {\n",
       "        vertical-align: top;\n",
       "    }\n",
       "\n",
       "    .dataframe thead th {\n",
       "        text-align: right;\n",
       "    }\n",
       "</style>\n",
       "<table border=\"1\" class=\"dataframe\">\n",
       "  <thead>\n",
       "    <tr style=\"text-align: right;\">\n",
       "      <th></th>\n",
       "      <th>cohort_size</th>\n",
       "      <th>0</th>\n",
       "      <th>1</th>\n",
       "      <th>2</th>\n",
       "      <th>3</th>\n",
       "      <th>4</th>\n",
       "      <th>5</th>\n",
       "      <th>6</th>\n",
       "      <th>7</th>\n",
       "      <th>8</th>\n",
       "      <th>...</th>\n",
       "      <th>22</th>\n",
       "      <th>23</th>\n",
       "      <th>24</th>\n",
       "      <th>25</th>\n",
       "      <th>26</th>\n",
       "      <th>27</th>\n",
       "      <th>28</th>\n",
       "      <th>29</th>\n",
       "      <th>30</th>\n",
       "      <th>31</th>\n",
       "    </tr>\n",
       "    <tr>\n",
       "      <th>min_date</th>\n",
       "      <th></th>\n",
       "      <th></th>\n",
       "      <th></th>\n",
       "      <th></th>\n",
       "      <th></th>\n",
       "      <th></th>\n",
       "      <th></th>\n",
       "      <th></th>\n",
       "      <th></th>\n",
       "      <th></th>\n",
       "      <th></th>\n",
       "      <th></th>\n",
       "      <th></th>\n",
       "      <th></th>\n",
       "      <th></th>\n",
       "      <th></th>\n",
       "      <th></th>\n",
       "      <th></th>\n",
       "      <th></th>\n",
       "      <th></th>\n",
       "      <th></th>\n",
       "    </tr>\n",
       "  </thead>\n",
       "  <tbody>\n",
       "    <tr>\n",
       "      <th>2020-05-04</th>\n",
       "      <td>5860</td>\n",
       "      <td>5860.0</td>\n",
       "      <td>3021.0</td>\n",
       "      <td>3204.0</td>\n",
       "      <td>3412.0</td>\n",
       "      <td>3564.0</td>\n",
       "      <td>3758.0</td>\n",
       "      <td>4161.0</td>\n",
       "      <td>2728.0</td>\n",
       "      <td>2504.0</td>\n",
       "      <td>...</td>\n",
       "      <td>43.0</td>\n",
       "      <td>29.0</td>\n",
       "      <td>19.0</td>\n",
       "      <td>12.0</td>\n",
       "      <td>6.0</td>\n",
       "      <td>4.0</td>\n",
       "      <td>2.0</td>\n",
       "      <td>1.0</td>\n",
       "      <td>2.0</td>\n",
       "      <td>2.0</td>\n",
       "    </tr>\n",
       "    <tr>\n",
       "      <th>2020-05-05</th>\n",
       "      <td>3361</td>\n",
       "      <td>3361.0</td>\n",
       "      <td>1803.0</td>\n",
       "      <td>1903.0</td>\n",
       "      <td>2058.0</td>\n",
       "      <td>2133.0</td>\n",
       "      <td>2312.0</td>\n",
       "      <td>1589.0</td>\n",
       "      <td>1516.0</td>\n",
       "      <td>1374.0</td>\n",
       "      <td>...</td>\n",
       "      <td>23.0</td>\n",
       "      <td>16.0</td>\n",
       "      <td>9.0</td>\n",
       "      <td>8.0</td>\n",
       "      <td>3.0</td>\n",
       "      <td>2.0</td>\n",
       "      <td>1.0</td>\n",
       "      <td>0.0</td>\n",
       "      <td>0.0</td>\n",
       "      <td>0.0</td>\n",
       "    </tr>\n",
       "    <tr>\n",
       "      <th>2020-05-06</th>\n",
       "      <td>1847</td>\n",
       "      <td>1847.0</td>\n",
       "      <td>960.0</td>\n",
       "      <td>1018.0</td>\n",
       "      <td>1118.0</td>\n",
       "      <td>1224.0</td>\n",
       "      <td>802.0</td>\n",
       "      <td>820.0</td>\n",
       "      <td>803.0</td>\n",
       "      <td>686.0</td>\n",
       "      <td>...</td>\n",
       "      <td>9.0</td>\n",
       "      <td>10.0</td>\n",
       "      <td>4.0</td>\n",
       "      <td>3.0</td>\n",
       "      <td>3.0</td>\n",
       "      <td>4.0</td>\n",
       "      <td>1.0</td>\n",
       "      <td>1.0</td>\n",
       "      <td>1.0</td>\n",
       "      <td>0.0</td>\n",
       "    </tr>\n",
       "    <tr>\n",
       "      <th>2020-05-07</th>\n",
       "      <td>1109</td>\n",
       "      <td>1109.0</td>\n",
       "      <td>563.0</td>\n",
       "      <td>613.0</td>\n",
       "      <td>665.0</td>\n",
       "      <td>424.0</td>\n",
       "      <td>444.0</td>\n",
       "      <td>510.0</td>\n",
       "      <td>433.0</td>\n",
       "      <td>365.0</td>\n",
       "      <td>...</td>\n",
       "      <td>11.0</td>\n",
       "      <td>7.0</td>\n",
       "      <td>3.0</td>\n",
       "      <td>6.0</td>\n",
       "      <td>3.0</td>\n",
       "      <td>3.0</td>\n",
       "      <td>3.0</td>\n",
       "      <td>3.0</td>\n",
       "      <td>0.0</td>\n",
       "      <td>0.0</td>\n",
       "    </tr>\n",
       "    <tr>\n",
       "      <th>2020-05-08</th>\n",
       "      <td>688</td>\n",
       "      <td>688.0</td>\n",
       "      <td>332.0</td>\n",
       "      <td>375.0</td>\n",
       "      <td>242.0</td>\n",
       "      <td>262.0</td>\n",
       "      <td>285.0</td>\n",
       "      <td>303.0</td>\n",
       "      <td>259.0</td>\n",
       "      <td>180.0</td>\n",
       "      <td>...</td>\n",
       "      <td>3.0</td>\n",
       "      <td>5.0</td>\n",
       "      <td>1.0</td>\n",
       "      <td>0.0</td>\n",
       "      <td>2.0</td>\n",
       "      <td>1.0</td>\n",
       "      <td>0.0</td>\n",
       "      <td>0.0</td>\n",
       "      <td>0.0</td>\n",
       "      <td>0.0</td>\n",
       "    </tr>\n",
       "    <tr>\n",
       "      <th>2020-05-09</th>\n",
       "      <td>440</td>\n",
       "      <td>440.0</td>\n",
       "      <td>211.0</td>\n",
       "      <td>141.0</td>\n",
       "      <td>149.0</td>\n",
       "      <td>192.0</td>\n",
       "      <td>172.0</td>\n",
       "      <td>185.0</td>\n",
       "      <td>168.0</td>\n",
       "      <td>119.0</td>\n",
       "      <td>...</td>\n",
       "      <td>3.0</td>\n",
       "      <td>1.0</td>\n",
       "      <td>1.0</td>\n",
       "      <td>1.0</td>\n",
       "      <td>0.0</td>\n",
       "      <td>0.0</td>\n",
       "      <td>0.0</td>\n",
       "      <td>0.0</td>\n",
       "      <td>0.0</td>\n",
       "      <td>0.0</td>\n",
       "    </tr>\n",
       "    <tr>\n",
       "      <th>2020-05-10</th>\n",
       "      <td>271</td>\n",
       "      <td>271.0</td>\n",
       "      <td>69.0</td>\n",
       "      <td>81.0</td>\n",
       "      <td>89.0</td>\n",
       "      <td>92.0</td>\n",
       "      <td>112.0</td>\n",
       "      <td>118.0</td>\n",
       "      <td>100.0</td>\n",
       "      <td>57.0</td>\n",
       "      <td>...</td>\n",
       "      <td>1.0</td>\n",
       "      <td>1.0</td>\n",
       "      <td>0.0</td>\n",
       "      <td>0.0</td>\n",
       "      <td>0.0</td>\n",
       "      <td>0.0</td>\n",
       "      <td>0.0</td>\n",
       "      <td>0.0</td>\n",
       "      <td>0.0</td>\n",
       "      <td>0.0</td>\n",
       "    </tr>\n",
       "  </tbody>\n",
       "</table>\n",
       "<p>7 rows × 33 columns</p>\n",
       "</div>"
      ],
      "text/plain": [
       "            cohort_size       0       1       2       3       4       5  \\\n",
       "min_date                                                                  \n",
       "2020-05-04         5860  5860.0  3021.0  3204.0  3412.0  3564.0  3758.0   \n",
       "2020-05-05         3361  3361.0  1803.0  1903.0  2058.0  2133.0  2312.0   \n",
       "2020-05-06         1847  1847.0   960.0  1018.0  1118.0  1224.0   802.0   \n",
       "2020-05-07         1109  1109.0   563.0   613.0   665.0   424.0   444.0   \n",
       "2020-05-08          688   688.0   332.0   375.0   242.0   262.0   285.0   \n",
       "2020-05-09          440   440.0   211.0   141.0   149.0   192.0   172.0   \n",
       "2020-05-10          271   271.0    69.0    81.0    89.0    92.0   112.0   \n",
       "\n",
       "                 6       7       8  ...    22    23    24    25   26   27  \\\n",
       "min_date                            ...                                     \n",
       "2020-05-04  4161.0  2728.0  2504.0  ...  43.0  29.0  19.0  12.0  6.0  4.0   \n",
       "2020-05-05  1589.0  1516.0  1374.0  ...  23.0  16.0   9.0   8.0  3.0  2.0   \n",
       "2020-05-06   820.0   803.0   686.0  ...   9.0  10.0   4.0   3.0  3.0  4.0   \n",
       "2020-05-07   510.0   433.0   365.0  ...  11.0   7.0   3.0   6.0  3.0  3.0   \n",
       "2020-05-08   303.0   259.0   180.0  ...   3.0   5.0   1.0   0.0  2.0  1.0   \n",
       "2020-05-09   185.0   168.0   119.0  ...   3.0   1.0   1.0   1.0  0.0  0.0   \n",
       "2020-05-10   118.0   100.0    57.0  ...   1.0   1.0   0.0   0.0  0.0  0.0   \n",
       "\n",
       "             28   29   30   31  \n",
       "min_date                        \n",
       "2020-05-04  2.0  1.0  2.0  2.0  \n",
       "2020-05-05  1.0  0.0  0.0  0.0  \n",
       "2020-05-06  1.0  1.0  1.0  0.0  \n",
       "2020-05-07  3.0  3.0  0.0  0.0  \n",
       "2020-05-08  0.0  0.0  0.0  0.0  \n",
       "2020-05-09  0.0  0.0  0.0  0.0  \n",
       "2020-05-10  0.0  0.0  0.0  0.0  \n",
       "\n",
       "[7 rows x 33 columns]"
      ]
     },
     "execution_count": 109,
     "metadata": {},
     "output_type": "execute_result"
    }
   ],
   "source": [
    "#соединим два датафрейма по рамзеру когорты и пользователям\n",
    "result_grouped = cohort_sizes.merge(\n",
    "    result_grouped, on='min_date', how='left'\n",
    ").fillna(0)\n",
    "\n",
    "result_grouped"
   ]
  },
  {
   "cell_type": "code",
   "execution_count": 110,
   "metadata": {},
   "outputs": [
    {
     "data": {
      "text/html": [
       "<div>\n",
       "<style scoped>\n",
       "    .dataframe tbody tr th:only-of-type {\n",
       "        vertical-align: middle;\n",
       "    }\n",
       "\n",
       "    .dataframe tbody tr th {\n",
       "        vertical-align: top;\n",
       "    }\n",
       "\n",
       "    .dataframe thead th {\n",
       "        text-align: right;\n",
       "    }\n",
       "</style>\n",
       "<table border=\"1\" class=\"dataframe\">\n",
       "  <thead>\n",
       "    <tr style=\"text-align: right;\">\n",
       "      <th></th>\n",
       "      <th>0</th>\n",
       "      <th>1</th>\n",
       "      <th>2</th>\n",
       "      <th>3</th>\n",
       "      <th>4</th>\n",
       "      <th>5</th>\n",
       "      <th>6</th>\n",
       "      <th>7</th>\n",
       "      <th>8</th>\n",
       "      <th>9</th>\n",
       "      <th>...</th>\n",
       "      <th>22</th>\n",
       "      <th>23</th>\n",
       "      <th>24</th>\n",
       "      <th>25</th>\n",
       "      <th>26</th>\n",
       "      <th>27</th>\n",
       "      <th>28</th>\n",
       "      <th>29</th>\n",
       "      <th>30</th>\n",
       "      <th>31</th>\n",
       "    </tr>\n",
       "    <tr>\n",
       "      <th>min_date</th>\n",
       "      <th></th>\n",
       "      <th></th>\n",
       "      <th></th>\n",
       "      <th></th>\n",
       "      <th></th>\n",
       "      <th></th>\n",
       "      <th></th>\n",
       "      <th></th>\n",
       "      <th></th>\n",
       "      <th></th>\n",
       "      <th></th>\n",
       "      <th></th>\n",
       "      <th></th>\n",
       "      <th></th>\n",
       "      <th></th>\n",
       "      <th></th>\n",
       "      <th></th>\n",
       "      <th></th>\n",
       "      <th></th>\n",
       "      <th></th>\n",
       "      <th></th>\n",
       "    </tr>\n",
       "  </thead>\n",
       "  <tbody>\n",
       "    <tr>\n",
       "      <th>2020-05-04</th>\n",
       "      <td>1.0</td>\n",
       "      <td>0.515529</td>\n",
       "      <td>0.546758</td>\n",
       "      <td>0.582253</td>\n",
       "      <td>0.608191</td>\n",
       "      <td>0.641297</td>\n",
       "      <td>0.710068</td>\n",
       "      <td>0.465529</td>\n",
       "      <td>0.427304</td>\n",
       "      <td>0.405973</td>\n",
       "      <td>...</td>\n",
       "      <td>0.007338</td>\n",
       "      <td>0.004949</td>\n",
       "      <td>0.003242</td>\n",
       "      <td>0.002048</td>\n",
       "      <td>0.001024</td>\n",
       "      <td>0.000683</td>\n",
       "      <td>0.000341</td>\n",
       "      <td>0.000171</td>\n",
       "      <td>0.000341</td>\n",
       "      <td>0.000341</td>\n",
       "    </tr>\n",
       "    <tr>\n",
       "      <th>2020-05-05</th>\n",
       "      <td>1.0</td>\n",
       "      <td>0.536447</td>\n",
       "      <td>0.566201</td>\n",
       "      <td>0.612318</td>\n",
       "      <td>0.634633</td>\n",
       "      <td>0.687891</td>\n",
       "      <td>0.472776</td>\n",
       "      <td>0.451056</td>\n",
       "      <td>0.408807</td>\n",
       "      <td>0.380839</td>\n",
       "      <td>...</td>\n",
       "      <td>0.006843</td>\n",
       "      <td>0.004760</td>\n",
       "      <td>0.002678</td>\n",
       "      <td>0.002380</td>\n",
       "      <td>0.000893</td>\n",
       "      <td>0.000595</td>\n",
       "      <td>0.000298</td>\n",
       "      <td>0.000000</td>\n",
       "      <td>0.000000</td>\n",
       "      <td>0.000000</td>\n",
       "    </tr>\n",
       "    <tr>\n",
       "      <th>2020-05-06</th>\n",
       "      <td>1.0</td>\n",
       "      <td>0.519762</td>\n",
       "      <td>0.551164</td>\n",
       "      <td>0.605306</td>\n",
       "      <td>0.662696</td>\n",
       "      <td>0.434218</td>\n",
       "      <td>0.443963</td>\n",
       "      <td>0.434759</td>\n",
       "      <td>0.371413</td>\n",
       "      <td>0.332431</td>\n",
       "      <td>...</td>\n",
       "      <td>0.004873</td>\n",
       "      <td>0.005414</td>\n",
       "      <td>0.002166</td>\n",
       "      <td>0.001624</td>\n",
       "      <td>0.001624</td>\n",
       "      <td>0.002166</td>\n",
       "      <td>0.000541</td>\n",
       "      <td>0.000541</td>\n",
       "      <td>0.000541</td>\n",
       "      <td>0.000000</td>\n",
       "    </tr>\n",
       "    <tr>\n",
       "      <th>2020-05-07</th>\n",
       "      <td>1.0</td>\n",
       "      <td>0.507665</td>\n",
       "      <td>0.552750</td>\n",
       "      <td>0.599639</td>\n",
       "      <td>0.382326</td>\n",
       "      <td>0.400361</td>\n",
       "      <td>0.459874</td>\n",
       "      <td>0.390442</td>\n",
       "      <td>0.329125</td>\n",
       "      <td>0.291253</td>\n",
       "      <td>...</td>\n",
       "      <td>0.009919</td>\n",
       "      <td>0.006312</td>\n",
       "      <td>0.002705</td>\n",
       "      <td>0.005410</td>\n",
       "      <td>0.002705</td>\n",
       "      <td>0.002705</td>\n",
       "      <td>0.002705</td>\n",
       "      <td>0.002705</td>\n",
       "      <td>0.000000</td>\n",
       "      <td>0.000000</td>\n",
       "    </tr>\n",
       "    <tr>\n",
       "      <th>2020-05-08</th>\n",
       "      <td>1.0</td>\n",
       "      <td>0.482558</td>\n",
       "      <td>0.545058</td>\n",
       "      <td>0.351744</td>\n",
       "      <td>0.380814</td>\n",
       "      <td>0.414244</td>\n",
       "      <td>0.440407</td>\n",
       "      <td>0.376453</td>\n",
       "      <td>0.261628</td>\n",
       "      <td>0.312500</td>\n",
       "      <td>...</td>\n",
       "      <td>0.004360</td>\n",
       "      <td>0.007267</td>\n",
       "      <td>0.001453</td>\n",
       "      <td>0.000000</td>\n",
       "      <td>0.002907</td>\n",
       "      <td>0.001453</td>\n",
       "      <td>0.000000</td>\n",
       "      <td>0.000000</td>\n",
       "      <td>0.000000</td>\n",
       "      <td>0.000000</td>\n",
       "    </tr>\n",
       "    <tr>\n",
       "      <th>2020-05-09</th>\n",
       "      <td>1.0</td>\n",
       "      <td>0.479545</td>\n",
       "      <td>0.320455</td>\n",
       "      <td>0.338636</td>\n",
       "      <td>0.436364</td>\n",
       "      <td>0.390909</td>\n",
       "      <td>0.420455</td>\n",
       "      <td>0.381818</td>\n",
       "      <td>0.270455</td>\n",
       "      <td>0.215909</td>\n",
       "      <td>...</td>\n",
       "      <td>0.006818</td>\n",
       "      <td>0.002273</td>\n",
       "      <td>0.002273</td>\n",
       "      <td>0.002273</td>\n",
       "      <td>0.000000</td>\n",
       "      <td>0.000000</td>\n",
       "      <td>0.000000</td>\n",
       "      <td>0.000000</td>\n",
       "      <td>0.000000</td>\n",
       "      <td>0.000000</td>\n",
       "    </tr>\n",
       "    <tr>\n",
       "      <th>2020-05-10</th>\n",
       "      <td>1.0</td>\n",
       "      <td>0.254613</td>\n",
       "      <td>0.298893</td>\n",
       "      <td>0.328413</td>\n",
       "      <td>0.339483</td>\n",
       "      <td>0.413284</td>\n",
       "      <td>0.435424</td>\n",
       "      <td>0.369004</td>\n",
       "      <td>0.210332</td>\n",
       "      <td>0.210332</td>\n",
       "      <td>...</td>\n",
       "      <td>0.003690</td>\n",
       "      <td>0.003690</td>\n",
       "      <td>0.000000</td>\n",
       "      <td>0.000000</td>\n",
       "      <td>0.000000</td>\n",
       "      <td>0.000000</td>\n",
       "      <td>0.000000</td>\n",
       "      <td>0.000000</td>\n",
       "      <td>0.000000</td>\n",
       "      <td>0.000000</td>\n",
       "    </tr>\n",
       "  </tbody>\n",
       "</table>\n",
       "<p>7 rows × 32 columns</p>\n",
       "</div>"
      ],
      "text/plain": [
       "             0         1         2         3         4         5         6   \\\n",
       "min_date                                                                      \n",
       "2020-05-04  1.0  0.515529  0.546758  0.582253  0.608191  0.641297  0.710068   \n",
       "2020-05-05  1.0  0.536447  0.566201  0.612318  0.634633  0.687891  0.472776   \n",
       "2020-05-06  1.0  0.519762  0.551164  0.605306  0.662696  0.434218  0.443963   \n",
       "2020-05-07  1.0  0.507665  0.552750  0.599639  0.382326  0.400361  0.459874   \n",
       "2020-05-08  1.0  0.482558  0.545058  0.351744  0.380814  0.414244  0.440407   \n",
       "2020-05-09  1.0  0.479545  0.320455  0.338636  0.436364  0.390909  0.420455   \n",
       "2020-05-10  1.0  0.254613  0.298893  0.328413  0.339483  0.413284  0.435424   \n",
       "\n",
       "                  7         8         9   ...        22        23        24  \\\n",
       "min_date                                  ...                                 \n",
       "2020-05-04  0.465529  0.427304  0.405973  ...  0.007338  0.004949  0.003242   \n",
       "2020-05-05  0.451056  0.408807  0.380839  ...  0.006843  0.004760  0.002678   \n",
       "2020-05-06  0.434759  0.371413  0.332431  ...  0.004873  0.005414  0.002166   \n",
       "2020-05-07  0.390442  0.329125  0.291253  ...  0.009919  0.006312  0.002705   \n",
       "2020-05-08  0.376453  0.261628  0.312500  ...  0.004360  0.007267  0.001453   \n",
       "2020-05-09  0.381818  0.270455  0.215909  ...  0.006818  0.002273  0.002273   \n",
       "2020-05-10  0.369004  0.210332  0.210332  ...  0.003690  0.003690  0.000000   \n",
       "\n",
       "                  25        26        27        28        29        30  \\\n",
       "min_date                                                                 \n",
       "2020-05-04  0.002048  0.001024  0.000683  0.000341  0.000171  0.000341   \n",
       "2020-05-05  0.002380  0.000893  0.000595  0.000298  0.000000  0.000000   \n",
       "2020-05-06  0.001624  0.001624  0.002166  0.000541  0.000541  0.000541   \n",
       "2020-05-07  0.005410  0.002705  0.002705  0.002705  0.002705  0.000000   \n",
       "2020-05-08  0.000000  0.002907  0.001453  0.000000  0.000000  0.000000   \n",
       "2020-05-09  0.002273  0.000000  0.000000  0.000000  0.000000  0.000000   \n",
       "2020-05-10  0.000000  0.000000  0.000000  0.000000  0.000000  0.000000   \n",
       "\n",
       "                  31  \n",
       "min_date              \n",
       "2020-05-04  0.000341  \n",
       "2020-05-05  0.000000  \n",
       "2020-05-06  0.000000  \n",
       "2020-05-07  0.000000  \n",
       "2020-05-08  0.000000  \n",
       "2020-05-09  0.000000  \n",
       "2020-05-10  0.000000  \n",
       "\n",
       "[7 rows x 32 columns]"
      ]
     },
     "execution_count": 110,
     "metadata": {},
     "output_type": "execute_result"
    }
   ],
   "source": [
    "#посчитаем в процентах с помощью div\n",
    "result_grouped = result_grouped.div(\n",
    "    result_grouped['cohort_size'], axis=0\n",
    ").drop(columns=['cohort_size'])\n",
    "\n",
    "result_grouped"
   ]
  },
  {
   "cell_type": "code",
   "execution_count": 111,
   "metadata": {},
   "outputs": [
    {
     "data": {
      "image/png": "[encoded data removed]",
      "text/plain": [
       "<Figure size 2880x3600 with 1 Axes>"
      ]
     },
     "metadata": {},
     "output_type": "display_data"
    }
   ],
   "source": [
    "# выводим сводную таблицу ввиде тепловой карты\n",
    "plt.figure(figsize=(40, 50))\n",
    "plt.title('Cohorts: User Retention', size=20)\n",
    "ax = sns.heatmap(result_grouped, annot=True, fmt='.1%', linewidths=1, linecolor='gray', cbar=0, square=True)\n",
    "plt.xlabel('Cohort lifetime', size=15)\n",
    "plt.ylabel('Cohort', size=15)\n",
    "plt.show()"
   ]
  },
  {
   "cell_type": "markdown",
   "metadata": {},
   "source": [
    "Выводы по показателю User Retention:\n",
    "* Почти все когорты, кроме последней имеет удержание около 50% на первый день - это очень хороший показатель\n",
    "* В течение недели мы можем наблюдать, что до 6ого дня показатель растет (но не более чем на 5%), а вот после 7ого резко идет на убыль\n",
    "* В целом каждая следующая когорта имеет более низкие показатели, чем предыдущие. На 14-15 день показатели по всем когортам выравниваются и продолжают падение\n",
    "\n",
    "\n",
    "Теперь посчитаем показтель LTV - сколько мы получаем с каждого пользователя, при условии, что с каждого построенного здания и показа рекламы мы получаем 0.07 у.е."
   ]
  },
  {
   "cell_type": "markdown",
   "metadata": {},
   "source": [
    "<a class=\"anchor\" id=\"29-bullet\"></a>\n",
    "### Расчет LTV"
   ]
  },
  {
   "cell_type": "code",
   "execution_count": 112,
   "metadata": {},
   "outputs": [],
   "source": [
    "action = pd.merge(action, source, on='user_id') #добавим в таблицу action источник рекламы"
   ]
  },
  {
   "cell_type": "code",
   "execution_count": 113,
   "metadata": {},
   "outputs": [
    {
     "data": {
      "text/html": [
       "<div>\n",
       "<style scoped>\n",
       "    .dataframe tbody tr th:only-of-type {\n",
       "        vertical-align: middle;\n",
       "    }\n",
       "\n",
       "    .dataframe tbody tr th {\n",
       "        vertical-align: top;\n",
       "    }\n",
       "\n",
       "    .dataframe thead th {\n",
       "        text-align: right;\n",
       "    }\n",
       "</style>\n",
       "<table border=\"1\" class=\"dataframe\">\n",
       "  <thead>\n",
       "    <tr style=\"text-align: right;\">\n",
       "      <th></th>\n",
       "      <th>event_datetime</th>\n",
       "      <th>event</th>\n",
       "      <th>building_type</th>\n",
       "      <th>user_id</th>\n",
       "      <th>project_type</th>\n",
       "      <th>finishing_type</th>\n",
       "      <th>date</th>\n",
       "      <th>week</th>\n",
       "      <th>rev</th>\n",
       "      <th>source</th>\n",
       "    </tr>\n",
       "  </thead>\n",
       "  <tbody>\n",
       "    <tr>\n",
       "      <th>0</th>\n",
       "      <td>2020-05-04 00:00:01</td>\n",
       "      <td>building</td>\n",
       "      <td>assembly_shop</td>\n",
       "      <td>55e92310-cb8e-4754-b622-597e124b03de</td>\n",
       "      <td>not_project</td>\n",
       "      <td>not_finished</td>\n",
       "      <td>2020-05-04</td>\n",
       "      <td>19</td>\n",
       "      <td>0.07</td>\n",
       "      <td>youtube_channel_reklama</td>\n",
       "    </tr>\n",
       "    <tr>\n",
       "      <th>1</th>\n",
       "      <td>2020-05-05 05:20:15</td>\n",
       "      <td>building</td>\n",
       "      <td>assembly_shop</td>\n",
       "      <td>55e92310-cb8e-4754-b622-597e124b03de</td>\n",
       "      <td>not_project</td>\n",
       "      <td>not_finished</td>\n",
       "      <td>2020-05-05</td>\n",
       "      <td>19</td>\n",
       "      <td>0.07</td>\n",
       "      <td>youtube_channel_reklama</td>\n",
       "    </tr>\n",
       "    <tr>\n",
       "      <th>2</th>\n",
       "      <td>2020-05-05 19:24:02</td>\n",
       "      <td>building</td>\n",
       "      <td>assembly_shop</td>\n",
       "      <td>55e92310-cb8e-4754-b622-597e124b03de</td>\n",
       "      <td>not_project</td>\n",
       "      <td>not_finished</td>\n",
       "      <td>2020-05-05</td>\n",
       "      <td>19</td>\n",
       "      <td>0.07</td>\n",
       "      <td>youtube_channel_reklama</td>\n",
       "    </tr>\n",
       "    <tr>\n",
       "      <th>3</th>\n",
       "      <td>2020-05-05 20:59:19</td>\n",
       "      <td>building</td>\n",
       "      <td>assembly_shop</td>\n",
       "      <td>55e92310-cb8e-4754-b622-597e124b03de</td>\n",
       "      <td>not_project</td>\n",
       "      <td>not_finished</td>\n",
       "      <td>2020-05-05</td>\n",
       "      <td>19</td>\n",
       "      <td>0.07</td>\n",
       "      <td>youtube_channel_reklama</td>\n",
       "    </tr>\n",
       "    <tr>\n",
       "      <th>4</th>\n",
       "      <td>2020-05-06 00:52:56</td>\n",
       "      <td>building</td>\n",
       "      <td>assembly_shop</td>\n",
       "      <td>55e92310-cb8e-4754-b622-597e124b03de</td>\n",
       "      <td>not_project</td>\n",
       "      <td>not_finished</td>\n",
       "      <td>2020-05-06</td>\n",
       "      <td>19</td>\n",
       "      <td>0.07</td>\n",
       "      <td>youtube_channel_reklama</td>\n",
       "    </tr>\n",
       "  </tbody>\n",
       "</table>\n",
       "</div>"
      ],
      "text/plain": [
       "       event_datetime     event  building_type  \\\n",
       "0 2020-05-04 00:00:01  building  assembly_shop   \n",
       "1 2020-05-05 05:20:15  building  assembly_shop   \n",
       "2 2020-05-05 19:24:02  building  assembly_shop   \n",
       "3 2020-05-05 20:59:19  building  assembly_shop   \n",
       "4 2020-05-06 00:52:56  building  assembly_shop   \n",
       "\n",
       "                                user_id project_type finishing_type  \\\n",
       "0  55e92310-cb8e-4754-b622-597e124b03de  not_project   not_finished   \n",
       "1  55e92310-cb8e-4754-b622-597e124b03de  not_project   not_finished   \n",
       "2  55e92310-cb8e-4754-b622-597e124b03de  not_project   not_finished   \n",
       "3  55e92310-cb8e-4754-b622-597e124b03de  not_project   not_finished   \n",
       "4  55e92310-cb8e-4754-b622-597e124b03de  not_project   not_finished   \n",
       "\n",
       "         date  week   rev                   source  \n",
       "0  2020-05-04    19  0.07  youtube_channel_reklama  \n",
       "1  2020-05-05    19  0.07  youtube_channel_reklama  \n",
       "2  2020-05-05    19  0.07  youtube_channel_reklama  \n",
       "3  2020-05-05    19  0.07  youtube_channel_reklama  \n",
       "4  2020-05-06    19  0.07  youtube_channel_reklama  "
      ]
     },
     "execution_count": 113,
     "metadata": {},
     "output_type": "execute_result"
    }
   ],
   "source": [
    "action.head()"
   ]
  },
  {
   "cell_type": "code",
   "execution_count": 114,
   "metadata": {},
   "outputs": [],
   "source": [
    "# создаем таблицу orders, в которую скопируем данные\n",
    "orders = action[['source', 'user_id', 'event_datetime', 'rev']].copy()"
   ]
  },
  {
   "cell_type": "code",
   "execution_count": 115,
   "metadata": {},
   "outputs": [],
   "source": [
    "#уберем пользователей, которые не принесли дохода\n",
    "\n",
    "orders = orders[orders['rev']>0]"
   ]
  },
  {
   "cell_type": "code",
   "execution_count": 116,
   "metadata": {},
   "outputs": [],
   "source": [
    "#добавляем день, в который была совершена \"покупка\" (просмотр рекамы)\n",
    "orders['order_date']=orders['event_datetime'].astype('datetime64[D]')"
   ]
  },
  {
   "cell_type": "code",
   "execution_count": 117,
   "metadata": {},
   "outputs": [
    {
     "data": {
      "text/html": [
       "<div>\n",
       "<style scoped>\n",
       "    .dataframe tbody tr th:only-of-type {\n",
       "        vertical-align: middle;\n",
       "    }\n",
       "\n",
       "    .dataframe tbody tr th {\n",
       "        vertical-align: top;\n",
       "    }\n",
       "\n",
       "    .dataframe thead th {\n",
       "        text-align: right;\n",
       "    }\n",
       "</style>\n",
       "<table border=\"1\" class=\"dataframe\">\n",
       "  <thead>\n",
       "    <tr style=\"text-align: right;\">\n",
       "      <th></th>\n",
       "      <th>source</th>\n",
       "      <th>user_id</th>\n",
       "      <th>event_datetime</th>\n",
       "      <th>rev</th>\n",
       "      <th>order_date</th>\n",
       "    </tr>\n",
       "  </thead>\n",
       "  <tbody>\n",
       "    <tr>\n",
       "      <th>0</th>\n",
       "      <td>youtube_channel_reklama</td>\n",
       "      <td>55e92310-cb8e-4754-b622-597e124b03de</td>\n",
       "      <td>2020-05-04 00:00:01</td>\n",
       "      <td>0.07</td>\n",
       "      <td>2020-05-04</td>\n",
       "    </tr>\n",
       "    <tr>\n",
       "      <th>1</th>\n",
       "      <td>youtube_channel_reklama</td>\n",
       "      <td>55e92310-cb8e-4754-b622-597e124b03de</td>\n",
       "      <td>2020-05-05 05:20:15</td>\n",
       "      <td>0.07</td>\n",
       "      <td>2020-05-05</td>\n",
       "    </tr>\n",
       "    <tr>\n",
       "      <th>2</th>\n",
       "      <td>youtube_channel_reklama</td>\n",
       "      <td>55e92310-cb8e-4754-b622-597e124b03de</td>\n",
       "      <td>2020-05-05 19:24:02</td>\n",
       "      <td>0.07</td>\n",
       "      <td>2020-05-05</td>\n",
       "    </tr>\n",
       "    <tr>\n",
       "      <th>3</th>\n",
       "      <td>youtube_channel_reklama</td>\n",
       "      <td>55e92310-cb8e-4754-b622-597e124b03de</td>\n",
       "      <td>2020-05-05 20:59:19</td>\n",
       "      <td>0.07</td>\n",
       "      <td>2020-05-05</td>\n",
       "    </tr>\n",
       "    <tr>\n",
       "      <th>4</th>\n",
       "      <td>youtube_channel_reklama</td>\n",
       "      <td>55e92310-cb8e-4754-b622-597e124b03de</td>\n",
       "      <td>2020-05-06 00:52:56</td>\n",
       "      <td>0.07</td>\n",
       "      <td>2020-05-06</td>\n",
       "    </tr>\n",
       "  </tbody>\n",
       "</table>\n",
       "</div>"
      ],
      "text/plain": [
       "                    source                               user_id  \\\n",
       "0  youtube_channel_reklama  55e92310-cb8e-4754-b622-597e124b03de   \n",
       "1  youtube_channel_reklama  55e92310-cb8e-4754-b622-597e124b03de   \n",
       "2  youtube_channel_reklama  55e92310-cb8e-4754-b622-597e124b03de   \n",
       "3  youtube_channel_reklama  55e92310-cb8e-4754-b622-597e124b03de   \n",
       "4  youtube_channel_reklama  55e92310-cb8e-4754-b622-597e124b03de   \n",
       "\n",
       "       event_datetime   rev order_date  \n",
       "0 2020-05-04 00:00:01  0.07 2020-05-04  \n",
       "1 2020-05-05 05:20:15  0.07 2020-05-05  \n",
       "2 2020-05-05 19:24:02  0.07 2020-05-05  \n",
       "3 2020-05-05 20:59:19  0.07 2020-05-05  \n",
       "4 2020-05-06 00:52:56  0.07 2020-05-06  "
      ]
     },
     "execution_count": 117,
     "metadata": {},
     "output_type": "execute_result"
    }
   ],
   "source": [
    "orders.head()"
   ]
  },
  {
   "cell_type": "code",
   "execution_count": 118,
   "metadata": {},
   "outputs": [],
   "source": [
    "#создади таблицу, где будет первая \"покупка\" каждого пользователя\n",
    "first_date=orders.groupby(['source','user_id']).agg({'order_date': 'min'}).reset_index()"
   ]
  },
  {
   "cell_type": "code",
   "execution_count": 119,
   "metadata": {},
   "outputs": [
    {
     "data": {
      "text/html": [
       "<div>\n",
       "<style scoped>\n",
       "    .dataframe tbody tr th:only-of-type {\n",
       "        vertical-align: middle;\n",
       "    }\n",
       "\n",
       "    .dataframe tbody tr th {\n",
       "        vertical-align: top;\n",
       "    }\n",
       "\n",
       "    .dataframe thead th {\n",
       "        text-align: right;\n",
       "    }\n",
       "</style>\n",
       "<table border=\"1\" class=\"dataframe\">\n",
       "  <thead>\n",
       "    <tr style=\"text-align: right;\">\n",
       "      <th></th>\n",
       "      <th>source</th>\n",
       "      <th>user_id</th>\n",
       "      <th>order_date</th>\n",
       "    </tr>\n",
       "  </thead>\n",
       "  <tbody>\n",
       "    <tr>\n",
       "      <th>0</th>\n",
       "      <td>facebook_ads</td>\n",
       "      <td>0001f83c-c6ac-4621-b7f0-8a28b283ac30</td>\n",
       "      <td>2020-05-06</td>\n",
       "    </tr>\n",
       "    <tr>\n",
       "      <th>1</th>\n",
       "      <td>facebook_ads</td>\n",
       "      <td>002f508f-67b6-479f-814b-b05f00d4e995</td>\n",
       "      <td>2020-05-05</td>\n",
       "    </tr>\n",
       "    <tr>\n",
       "      <th>2</th>\n",
       "      <td>facebook_ads</td>\n",
       "      <td>004074f8-251a-4776-922c-8348dca1a2f6</td>\n",
       "      <td>2020-05-04</td>\n",
       "    </tr>\n",
       "    <tr>\n",
       "      <th>3</th>\n",
       "      <td>facebook_ads</td>\n",
       "      <td>00440efd-aa50-4b4b-aae8-ffcd1782729d</td>\n",
       "      <td>2020-05-04</td>\n",
       "    </tr>\n",
       "    <tr>\n",
       "      <th>4</th>\n",
       "      <td>facebook_ads</td>\n",
       "      <td>00965328-5e54-453f-b11b-52f8ae9ae80b</td>\n",
       "      <td>2020-05-07</td>\n",
       "    </tr>\n",
       "  </tbody>\n",
       "</table>\n",
       "</div>"
      ],
      "text/plain": [
       "         source                               user_id order_date\n",
       "0  facebook_ads  0001f83c-c6ac-4621-b7f0-8a28b283ac30 2020-05-06\n",
       "1  facebook_ads  002f508f-67b6-479f-814b-b05f00d4e995 2020-05-05\n",
       "2  facebook_ads  004074f8-251a-4776-922c-8348dca1a2f6 2020-05-04\n",
       "3  facebook_ads  00440efd-aa50-4b4b-aae8-ffcd1782729d 2020-05-04\n",
       "4  facebook_ads  00965328-5e54-453f-b11b-52f8ae9ae80b 2020-05-07"
      ]
     },
     "execution_count": 119,
     "metadata": {},
     "output_type": "execute_result"
    }
   ],
   "source": [
    "# получаем таблицу с датой первой покупки\n",
    "first_date.head()"
   ]
  },
  {
   "cell_type": "code",
   "execution_count": 120,
   "metadata": {},
   "outputs": [],
   "source": [
    "#Добавляем дату первого заказа для каждого пользователя с помощью merge, чтобы можно было посчитать лайфтайм\n",
    "orders_2=orders.merge(first_date,on=['user_id','source'],how='left')\n",
    "# переименуем таблицу\n",
    "orders_2.columns = [ 'source', 'user_id','event_datetime','rev','order_date','first_date']"
   ]
  },
  {
   "cell_type": "code",
   "execution_count": 121,
   "metadata": {},
   "outputs": [
    {
     "data": {
      "text/html": [
       "<div>\n",
       "<style scoped>\n",
       "    .dataframe tbody tr th:only-of-type {\n",
       "        vertical-align: middle;\n",
       "    }\n",
       "\n",
       "    .dataframe tbody tr th {\n",
       "        vertical-align: top;\n",
       "    }\n",
       "\n",
       "    .dataframe thead th {\n",
       "        text-align: right;\n",
       "    }\n",
       "</style>\n",
       "<table border=\"1\" class=\"dataframe\">\n",
       "  <thead>\n",
       "    <tr style=\"text-align: right;\">\n",
       "      <th></th>\n",
       "      <th>source</th>\n",
       "      <th>user_id</th>\n",
       "      <th>event_datetime</th>\n",
       "      <th>rev</th>\n",
       "      <th>order_date</th>\n",
       "      <th>first_date</th>\n",
       "    </tr>\n",
       "  </thead>\n",
       "  <tbody>\n",
       "    <tr>\n",
       "      <th>0</th>\n",
       "      <td>youtube_channel_reklama</td>\n",
       "      <td>55e92310-cb8e-4754-b622-597e124b03de</td>\n",
       "      <td>2020-05-04 00:00:01</td>\n",
       "      <td>0.07</td>\n",
       "      <td>2020-05-04</td>\n",
       "      <td>2020-05-04</td>\n",
       "    </tr>\n",
       "    <tr>\n",
       "      <th>1</th>\n",
       "      <td>youtube_channel_reklama</td>\n",
       "      <td>55e92310-cb8e-4754-b622-597e124b03de</td>\n",
       "      <td>2020-05-05 05:20:15</td>\n",
       "      <td>0.07</td>\n",
       "      <td>2020-05-05</td>\n",
       "      <td>2020-05-04</td>\n",
       "    </tr>\n",
       "    <tr>\n",
       "      <th>2</th>\n",
       "      <td>youtube_channel_reklama</td>\n",
       "      <td>55e92310-cb8e-4754-b622-597e124b03de</td>\n",
       "      <td>2020-05-05 19:24:02</td>\n",
       "      <td>0.07</td>\n",
       "      <td>2020-05-05</td>\n",
       "      <td>2020-05-04</td>\n",
       "    </tr>\n",
       "    <tr>\n",
       "      <th>3</th>\n",
       "      <td>youtube_channel_reklama</td>\n",
       "      <td>55e92310-cb8e-4754-b622-597e124b03de</td>\n",
       "      <td>2020-05-05 20:59:19</td>\n",
       "      <td>0.07</td>\n",
       "      <td>2020-05-05</td>\n",
       "      <td>2020-05-04</td>\n",
       "    </tr>\n",
       "    <tr>\n",
       "      <th>4</th>\n",
       "      <td>youtube_channel_reklama</td>\n",
       "      <td>55e92310-cb8e-4754-b622-597e124b03de</td>\n",
       "      <td>2020-05-06 00:52:56</td>\n",
       "      <td>0.07</td>\n",
       "      <td>2020-05-06</td>\n",
       "      <td>2020-05-04</td>\n",
       "    </tr>\n",
       "  </tbody>\n",
       "</table>\n",
       "</div>"
      ],
      "text/plain": [
       "                    source                               user_id  \\\n",
       "0  youtube_channel_reklama  55e92310-cb8e-4754-b622-597e124b03de   \n",
       "1  youtube_channel_reklama  55e92310-cb8e-4754-b622-597e124b03de   \n",
       "2  youtube_channel_reklama  55e92310-cb8e-4754-b622-597e124b03de   \n",
       "3  youtube_channel_reklama  55e92310-cb8e-4754-b622-597e124b03de   \n",
       "4  youtube_channel_reklama  55e92310-cb8e-4754-b622-597e124b03de   \n",
       "\n",
       "       event_datetime   rev order_date first_date  \n",
       "0 2020-05-04 00:00:01  0.07 2020-05-04 2020-05-04  \n",
       "1 2020-05-05 05:20:15  0.07 2020-05-05 2020-05-04  \n",
       "2 2020-05-05 19:24:02  0.07 2020-05-05 2020-05-04  \n",
       "3 2020-05-05 20:59:19  0.07 2020-05-05 2020-05-04  \n",
       "4 2020-05-06 00:52:56  0.07 2020-05-06 2020-05-04  "
      ]
     },
     "execution_count": 121,
     "metadata": {},
     "output_type": "execute_result"
    }
   ],
   "source": [
    "orders_2.head()"
   ]
  },
  {
   "cell_type": "code",
   "execution_count": 122,
   "metadata": {},
   "outputs": [
    {
     "name": "stdout",
     "output_type": "stream",
     "text": [
      "         source first_date  n_buyers\n",
      "0  facebook_ads 2020-05-04      1184\n",
      "1  facebook_ads 2020-05-05       694\n",
      "2  facebook_ads 2020-05-06       345\n",
      "3  facebook_ads 2020-05-07       224\n",
      "4  facebook_ads 2020-05-08       139\n"
     ]
    }
   ],
   "source": [
    "#считаем размер когорты для каждого источника по каждой дате\n",
    "cohort_sizes = (\n",
    "    first_date.groupby(['source', 'order_date'])\n",
    "    .agg({'user_id': 'nunique'})\n",
    "    .reset_index()\n",
    ")\n",
    "cohort_sizes.columns = ['source', 'first_date', 'n_buyers']\n",
    "print(cohort_sizes.head()) "
   ]
  },
  {
   "cell_type": "code",
   "execution_count": 123,
   "metadata": {},
   "outputs": [
    {
     "data": {
      "text/html": [
       "<div>\n",
       "<style scoped>\n",
       "    .dataframe tbody tr th:only-of-type {\n",
       "        vertical-align: middle;\n",
       "    }\n",
       "\n",
       "    .dataframe tbody tr th {\n",
       "        vertical-align: top;\n",
       "    }\n",
       "\n",
       "    .dataframe thead th {\n",
       "        text-align: right;\n",
       "    }\n",
       "</style>\n",
       "<table border=\"1\" class=\"dataframe\">\n",
       "  <thead>\n",
       "    <tr style=\"text-align: right;\">\n",
       "      <th></th>\n",
       "      <th>source</th>\n",
       "      <th>order_date</th>\n",
       "      <th>first_date</th>\n",
       "      <th>rev</th>\n",
       "    </tr>\n",
       "  </thead>\n",
       "  <tbody>\n",
       "    <tr>\n",
       "      <th>0</th>\n",
       "      <td>facebook_ads</td>\n",
       "      <td>2020-05-04</td>\n",
       "      <td>2020-05-04</td>\n",
       "      <td>115.99</td>\n",
       "    </tr>\n",
       "    <tr>\n",
       "      <th>1</th>\n",
       "      <td>facebook_ads</td>\n",
       "      <td>2020-05-05</td>\n",
       "      <td>2020-05-04</td>\n",
       "      <td>61.11</td>\n",
       "    </tr>\n",
       "    <tr>\n",
       "      <th>2</th>\n",
       "      <td>facebook_ads</td>\n",
       "      <td>2020-05-05</td>\n",
       "      <td>2020-05-05</td>\n",
       "      <td>69.37</td>\n",
       "    </tr>\n",
       "    <tr>\n",
       "      <th>3</th>\n",
       "      <td>facebook_ads</td>\n",
       "      <td>2020-05-06</td>\n",
       "      <td>2020-05-04</td>\n",
       "      <td>69.37</td>\n",
       "    </tr>\n",
       "    <tr>\n",
       "      <th>4</th>\n",
       "      <td>facebook_ads</td>\n",
       "      <td>2020-05-06</td>\n",
       "      <td>2020-05-05</td>\n",
       "      <td>40.74</td>\n",
       "    </tr>\n",
       "  </tbody>\n",
       "</table>\n",
       "</div>"
      ],
      "text/plain": [
       "         source order_date first_date     rev\n",
       "0  facebook_ads 2020-05-04 2020-05-04  115.99\n",
       "1  facebook_ads 2020-05-05 2020-05-04   61.11\n",
       "2  facebook_ads 2020-05-05 2020-05-05   69.37\n",
       "3  facebook_ads 2020-05-06 2020-05-04   69.37\n",
       "4  facebook_ads 2020-05-06 2020-05-05   40.74"
      ]
     },
     "execution_count": 123,
     "metadata": {},
     "output_type": "execute_result"
    }
   ],
   "source": [
    "# считаем выручку по каждой дате и источнику\n",
    "cohort = (\n",
    "            orders_2.groupby(['source','order_date', 'first_date'])\n",
    "            .agg({'rev': 'sum'})\n",
    "            .rename(columns={'user_id': 'cohort_size'}).reset_index()\n",
    "        )\n",
    "cohort.head()"
   ]
  },
  {
   "cell_type": "code",
   "execution_count": 124,
   "metadata": {},
   "outputs": [
    {
     "data": {
      "text/html": [
       "<div>\n",
       "<style scoped>\n",
       "    .dataframe tbody tr th:only-of-type {\n",
       "        vertical-align: middle;\n",
       "    }\n",
       "\n",
       "    .dataframe tbody tr th {\n",
       "        vertical-align: top;\n",
       "    }\n",
       "\n",
       "    .dataframe thead th {\n",
       "        text-align: right;\n",
       "    }\n",
       "</style>\n",
       "<table border=\"1\" class=\"dataframe\">\n",
       "  <thead>\n",
       "    <tr style=\"text-align: right;\">\n",
       "      <th></th>\n",
       "      <th>source</th>\n",
       "      <th>first_date</th>\n",
       "      <th>n_buyers</th>\n",
       "      <th>order_date</th>\n",
       "      <th>rev</th>\n",
       "    </tr>\n",
       "  </thead>\n",
       "  <tbody>\n",
       "    <tr>\n",
       "      <th>0</th>\n",
       "      <td>facebook_ads</td>\n",
       "      <td>2020-05-04</td>\n",
       "      <td>1184</td>\n",
       "      <td>2020-05-04</td>\n",
       "      <td>115.99</td>\n",
       "    </tr>\n",
       "    <tr>\n",
       "      <th>1</th>\n",
       "      <td>facebook_ads</td>\n",
       "      <td>2020-05-04</td>\n",
       "      <td>1184</td>\n",
       "      <td>2020-05-05</td>\n",
       "      <td>61.11</td>\n",
       "    </tr>\n",
       "    <tr>\n",
       "      <th>2</th>\n",
       "      <td>facebook_ads</td>\n",
       "      <td>2020-05-04</td>\n",
       "      <td>1184</td>\n",
       "      <td>2020-05-06</td>\n",
       "      <td>69.37</td>\n",
       "    </tr>\n",
       "    <tr>\n",
       "      <th>3</th>\n",
       "      <td>facebook_ads</td>\n",
       "      <td>2020-05-04</td>\n",
       "      <td>1184</td>\n",
       "      <td>2020-05-07</td>\n",
       "      <td>72.24</td>\n",
       "    </tr>\n",
       "    <tr>\n",
       "      <th>4</th>\n",
       "      <td>facebook_ads</td>\n",
       "      <td>2020-05-04</td>\n",
       "      <td>1184</td>\n",
       "      <td>2020-05-08</td>\n",
       "      <td>83.16</td>\n",
       "    </tr>\n",
       "  </tbody>\n",
       "</table>\n",
       "</div>"
      ],
      "text/plain": [
       "         source first_date  n_buyers order_date     rev\n",
       "0  facebook_ads 2020-05-04      1184 2020-05-04  115.99\n",
       "1  facebook_ads 2020-05-04      1184 2020-05-05   61.11\n",
       "2  facebook_ads 2020-05-04      1184 2020-05-06   69.37\n",
       "3  facebook_ads 2020-05-04      1184 2020-05-07   72.24\n",
       "4  facebook_ads 2020-05-04      1184 2020-05-08   83.16"
      ]
     },
     "execution_count": 124,
     "metadata": {},
     "output_type": "execute_result"
    }
   ],
   "source": [
    "#соединим две таблицы в одну где у нас будет выручка, дата и количество людей, которые кликнули\n",
    "report = pd.merge(cohort_sizes, cohort, on=['source', 'first_date'])\n",
    "report.head()"
   ]
  },
  {
   "cell_type": "code",
   "execution_count": 125,
   "metadata": {},
   "outputs": [
    {
     "data": {
      "text/html": [
       "<div>\n",
       "<style scoped>\n",
       "    .dataframe tbody tr th:only-of-type {\n",
       "        vertical-align: middle;\n",
       "    }\n",
       "\n",
       "    .dataframe tbody tr th {\n",
       "        vertical-align: top;\n",
       "    }\n",
       "\n",
       "    .dataframe thead th {\n",
       "        text-align: right;\n",
       "    }\n",
       "</style>\n",
       "<table border=\"1\" class=\"dataframe\">\n",
       "  <thead>\n",
       "    <tr style=\"text-align: right;\">\n",
       "      <th></th>\n",
       "      <th>source</th>\n",
       "      <th>first_date</th>\n",
       "      <th>n_buyers</th>\n",
       "      <th>order_date</th>\n",
       "      <th>rev</th>\n",
       "      <th>ltv</th>\n",
       "      <th>dif</th>\n",
       "    </tr>\n",
       "  </thead>\n",
       "  <tbody>\n",
       "    <tr>\n",
       "      <th>0</th>\n",
       "      <td>facebook_ads</td>\n",
       "      <td>2020-05-04</td>\n",
       "      <td>1184</td>\n",
       "      <td>2020-05-04</td>\n",
       "      <td>115.99</td>\n",
       "      <td>0.097965</td>\n",
       "      <td>0.0</td>\n",
       "    </tr>\n",
       "    <tr>\n",
       "      <th>1</th>\n",
       "      <td>facebook_ads</td>\n",
       "      <td>2020-05-04</td>\n",
       "      <td>1184</td>\n",
       "      <td>2020-05-05</td>\n",
       "      <td>61.11</td>\n",
       "      <td>0.051613</td>\n",
       "      <td>1.0</td>\n",
       "    </tr>\n",
       "    <tr>\n",
       "      <th>2</th>\n",
       "      <td>facebook_ads</td>\n",
       "      <td>2020-05-04</td>\n",
       "      <td>1184</td>\n",
       "      <td>2020-05-06</td>\n",
       "      <td>69.37</td>\n",
       "      <td>0.058590</td>\n",
       "      <td>2.0</td>\n",
       "    </tr>\n",
       "    <tr>\n",
       "      <th>3</th>\n",
       "      <td>facebook_ads</td>\n",
       "      <td>2020-05-04</td>\n",
       "      <td>1184</td>\n",
       "      <td>2020-05-07</td>\n",
       "      <td>72.24</td>\n",
       "      <td>0.061014</td>\n",
       "      <td>3.0</td>\n",
       "    </tr>\n",
       "    <tr>\n",
       "      <th>4</th>\n",
       "      <td>facebook_ads</td>\n",
       "      <td>2020-05-04</td>\n",
       "      <td>1184</td>\n",
       "      <td>2020-05-08</td>\n",
       "      <td>83.16</td>\n",
       "      <td>0.070236</td>\n",
       "      <td>4.0</td>\n",
       "    </tr>\n",
       "    <tr>\n",
       "      <th>...</th>\n",
       "      <td>...</td>\n",
       "      <td>...</td>\n",
       "      <td>...</td>\n",
       "      <td>...</td>\n",
       "      <td>...</td>\n",
       "      <td>...</td>\n",
       "      <td>...</td>\n",
       "    </tr>\n",
       "    <tr>\n",
       "      <th>686</th>\n",
       "      <td>youtube_channel_reklama</td>\n",
       "      <td>2020-05-10</td>\n",
       "      <td>56</td>\n",
       "      <td>2020-05-24</td>\n",
       "      <td>0.35</td>\n",
       "      <td>0.006250</td>\n",
       "      <td>14.0</td>\n",
       "    </tr>\n",
       "    <tr>\n",
       "      <th>687</th>\n",
       "      <td>youtube_channel_reklama</td>\n",
       "      <td>2020-05-10</td>\n",
       "      <td>56</td>\n",
       "      <td>2020-05-25</td>\n",
       "      <td>0.35</td>\n",
       "      <td>0.006250</td>\n",
       "      <td>15.0</td>\n",
       "    </tr>\n",
       "    <tr>\n",
       "      <th>688</th>\n",
       "      <td>youtube_channel_reklama</td>\n",
       "      <td>2020-05-10</td>\n",
       "      <td>56</td>\n",
       "      <td>2020-05-26</td>\n",
       "      <td>0.14</td>\n",
       "      <td>0.002500</td>\n",
       "      <td>16.0</td>\n",
       "    </tr>\n",
       "    <tr>\n",
       "      <th>689</th>\n",
       "      <td>youtube_channel_reklama</td>\n",
       "      <td>2020-05-10</td>\n",
       "      <td>56</td>\n",
       "      <td>2020-05-29</td>\n",
       "      <td>0.07</td>\n",
       "      <td>0.001250</td>\n",
       "      <td>19.0</td>\n",
       "    </tr>\n",
       "    <tr>\n",
       "      <th>690</th>\n",
       "      <td>youtube_channel_reklama</td>\n",
       "      <td>2020-05-10</td>\n",
       "      <td>56</td>\n",
       "      <td>2020-05-30</td>\n",
       "      <td>0.07</td>\n",
       "      <td>0.001250</td>\n",
       "      <td>20.0</td>\n",
       "    </tr>\n",
       "  </tbody>\n",
       "</table>\n",
       "<p>691 rows × 7 columns</p>\n",
       "</div>"
      ],
      "text/plain": [
       "                      source first_date  n_buyers order_date     rev  \\\n",
       "0               facebook_ads 2020-05-04      1184 2020-05-04  115.99   \n",
       "1               facebook_ads 2020-05-04      1184 2020-05-05   61.11   \n",
       "2               facebook_ads 2020-05-04      1184 2020-05-06   69.37   \n",
       "3               facebook_ads 2020-05-04      1184 2020-05-07   72.24   \n",
       "4               facebook_ads 2020-05-04      1184 2020-05-08   83.16   \n",
       "..                       ...        ...       ...        ...     ...   \n",
       "686  youtube_channel_reklama 2020-05-10        56 2020-05-24    0.35   \n",
       "687  youtube_channel_reklama 2020-05-10        56 2020-05-25    0.35   \n",
       "688  youtube_channel_reklama 2020-05-10        56 2020-05-26    0.14   \n",
       "689  youtube_channel_reklama 2020-05-10        56 2020-05-29    0.07   \n",
       "690  youtube_channel_reklama 2020-05-10        56 2020-05-30    0.07   \n",
       "\n",
       "          ltv   dif  \n",
       "0    0.097965   0.0  \n",
       "1    0.051613   1.0  \n",
       "2    0.058590   2.0  \n",
       "3    0.061014   3.0  \n",
       "4    0.070236   4.0  \n",
       "..        ...   ...  \n",
       "686  0.006250  14.0  \n",
       "687  0.006250  15.0  \n",
       "688  0.002500  16.0  \n",
       "689  0.001250  19.0  \n",
       "690  0.001250  20.0  \n",
       "\n",
       "[691 rows x 7 columns]"
      ]
     },
     "execution_count": 125,
     "metadata": {},
     "output_type": "execute_result"
    }
   ],
   "source": [
    "#считаем ltv для каждого канала и даты\n",
    "report['ltv'] = report['rev'] / report['n_buyers']\n",
    "# Так как нам необходимо знать сколько прошло времени между данными, что сгруппиировать по времени \n",
    "# добавим разницу между первой датой и датой заказа\n",
    "report['dif']=(report['order_date'] - report['first_date'])/ np.timedelta64(1, 'D')\n",
    "report"
   ]
  },
  {
   "cell_type": "code",
   "execution_count": 126,
   "metadata": {},
   "outputs": [],
   "source": [
    "#меняем формат даты\n",
    "report['first_date']=report['first_date'].dt.strftime('%Y-%m-%d')"
   ]
  },
  {
   "cell_type": "code",
   "execution_count": 127,
   "metadata": {},
   "outputs": [],
   "source": [
    "# визуализируем когорты в виде сводной таблицы\n",
    "output = report.pivot_table(\n",
    "    index='first_date', columns='dif', values='ltv', aggfunc='mean'\n",
    ").round(2)"
   ]
  },
  {
   "cell_type": "code",
   "execution_count": 128,
   "metadata": {},
   "outputs": [
    {
     "data": {
      "text/html": [
       "<div>\n",
       "<style scoped>\n",
       "    .dataframe tbody tr th:only-of-type {\n",
       "        vertical-align: middle;\n",
       "    }\n",
       "\n",
       "    .dataframe tbody tr th {\n",
       "        vertical-align: top;\n",
       "    }\n",
       "\n",
       "    .dataframe thead th {\n",
       "        text-align: right;\n",
       "    }\n",
       "</style>\n",
       "<table border=\"1\" class=\"dataframe\">\n",
       "  <thead>\n",
       "    <tr style=\"text-align: right;\">\n",
       "      <th>dif</th>\n",
       "      <th>0.0</th>\n",
       "      <th>1.0</th>\n",
       "      <th>2.0</th>\n",
       "      <th>3.0</th>\n",
       "      <th>4.0</th>\n",
       "      <th>5.0</th>\n",
       "      <th>6.0</th>\n",
       "      <th>7.0</th>\n",
       "      <th>8.0</th>\n",
       "      <th>9.0</th>\n",
       "      <th>...</th>\n",
       "      <th>22.0</th>\n",
       "      <th>23.0</th>\n",
       "      <th>24.0</th>\n",
       "      <th>25.0</th>\n",
       "      <th>26.0</th>\n",
       "      <th>27.0</th>\n",
       "      <th>28.0</th>\n",
       "      <th>29.0</th>\n",
       "      <th>30.0</th>\n",
       "      <th>31.0</th>\n",
       "    </tr>\n",
       "    <tr>\n",
       "      <th>first_date</th>\n",
       "      <th></th>\n",
       "      <th></th>\n",
       "      <th></th>\n",
       "      <th></th>\n",
       "      <th></th>\n",
       "      <th></th>\n",
       "      <th></th>\n",
       "      <th></th>\n",
       "      <th></th>\n",
       "      <th></th>\n",
       "      <th></th>\n",
       "      <th></th>\n",
       "      <th></th>\n",
       "      <th></th>\n",
       "      <th></th>\n",
       "      <th></th>\n",
       "      <th></th>\n",
       "      <th></th>\n",
       "      <th></th>\n",
       "      <th></th>\n",
       "      <th></th>\n",
       "    </tr>\n",
       "  </thead>\n",
       "  <tbody>\n",
       "    <tr>\n",
       "      <th>2020-05-04</th>\n",
       "      <td>0.10</td>\n",
       "      <td>0.05</td>\n",
       "      <td>0.06</td>\n",
       "      <td>0.06</td>\n",
       "      <td>0.07</td>\n",
       "      <td>0.07</td>\n",
       "      <td>0.08</td>\n",
       "      <td>0.04</td>\n",
       "      <td>0.04</td>\n",
       "      <td>0.03</td>\n",
       "      <td>...</td>\n",
       "      <td>0.0</td>\n",
       "      <td>0.0</td>\n",
       "      <td>0.0</td>\n",
       "      <td>0.0</td>\n",
       "      <td>0.0</td>\n",
       "      <td>0.0</td>\n",
       "      <td>0.0</td>\n",
       "      <td>NaN</td>\n",
       "      <td>0.0</td>\n",
       "      <td>0.0</td>\n",
       "    </tr>\n",
       "    <tr>\n",
       "      <th>2020-05-05</th>\n",
       "      <td>0.10</td>\n",
       "      <td>0.06</td>\n",
       "      <td>0.06</td>\n",
       "      <td>0.07</td>\n",
       "      <td>0.07</td>\n",
       "      <td>0.08</td>\n",
       "      <td>0.04</td>\n",
       "      <td>0.04</td>\n",
       "      <td>0.04</td>\n",
       "      <td>0.03</td>\n",
       "      <td>...</td>\n",
       "      <td>0.0</td>\n",
       "      <td>0.0</td>\n",
       "      <td>0.0</td>\n",
       "      <td>0.0</td>\n",
       "      <td>0.0</td>\n",
       "      <td>0.0</td>\n",
       "      <td>0.0</td>\n",
       "      <td>NaN</td>\n",
       "      <td>NaN</td>\n",
       "      <td>NaN</td>\n",
       "    </tr>\n",
       "    <tr>\n",
       "      <th>2020-05-06</th>\n",
       "      <td>0.10</td>\n",
       "      <td>0.05</td>\n",
       "      <td>0.06</td>\n",
       "      <td>0.06</td>\n",
       "      <td>0.08</td>\n",
       "      <td>0.04</td>\n",
       "      <td>0.04</td>\n",
       "      <td>0.04</td>\n",
       "      <td>0.03</td>\n",
       "      <td>0.03</td>\n",
       "      <td>...</td>\n",
       "      <td>0.0</td>\n",
       "      <td>0.0</td>\n",
       "      <td>0.0</td>\n",
       "      <td>0.0</td>\n",
       "      <td>0.0</td>\n",
       "      <td>0.0</td>\n",
       "      <td>0.0</td>\n",
       "      <td>NaN</td>\n",
       "      <td>0.0</td>\n",
       "      <td>NaN</td>\n",
       "    </tr>\n",
       "    <tr>\n",
       "      <th>2020-05-07</th>\n",
       "      <td>0.10</td>\n",
       "      <td>0.05</td>\n",
       "      <td>0.06</td>\n",
       "      <td>0.06</td>\n",
       "      <td>0.03</td>\n",
       "      <td>0.04</td>\n",
       "      <td>0.04</td>\n",
       "      <td>0.03</td>\n",
       "      <td>0.03</td>\n",
       "      <td>0.02</td>\n",
       "      <td>...</td>\n",
       "      <td>0.0</td>\n",
       "      <td>0.0</td>\n",
       "      <td>0.0</td>\n",
       "      <td>0.0</td>\n",
       "      <td>0.0</td>\n",
       "      <td>0.0</td>\n",
       "      <td>0.0</td>\n",
       "      <td>0.0</td>\n",
       "      <td>NaN</td>\n",
       "      <td>NaN</td>\n",
       "    </tr>\n",
       "    <tr>\n",
       "      <th>2020-05-08</th>\n",
       "      <td>0.09</td>\n",
       "      <td>0.05</td>\n",
       "      <td>0.06</td>\n",
       "      <td>0.03</td>\n",
       "      <td>0.03</td>\n",
       "      <td>0.04</td>\n",
       "      <td>0.04</td>\n",
       "      <td>0.03</td>\n",
       "      <td>0.02</td>\n",
       "      <td>0.03</td>\n",
       "      <td>...</td>\n",
       "      <td>0.0</td>\n",
       "      <td>0.0</td>\n",
       "      <td>0.0</td>\n",
       "      <td>NaN</td>\n",
       "      <td>0.0</td>\n",
       "      <td>NaN</td>\n",
       "      <td>NaN</td>\n",
       "      <td>NaN</td>\n",
       "      <td>NaN</td>\n",
       "      <td>NaN</td>\n",
       "    </tr>\n",
       "    <tr>\n",
       "      <th>2020-05-09</th>\n",
       "      <td>0.09</td>\n",
       "      <td>0.05</td>\n",
       "      <td>0.03</td>\n",
       "      <td>0.03</td>\n",
       "      <td>0.04</td>\n",
       "      <td>0.03</td>\n",
       "      <td>0.04</td>\n",
       "      <td>0.03</td>\n",
       "      <td>0.02</td>\n",
       "      <td>0.02</td>\n",
       "      <td>...</td>\n",
       "      <td>0.0</td>\n",
       "      <td>0.0</td>\n",
       "      <td>NaN</td>\n",
       "      <td>NaN</td>\n",
       "      <td>NaN</td>\n",
       "      <td>NaN</td>\n",
       "      <td>NaN</td>\n",
       "      <td>NaN</td>\n",
       "      <td>NaN</td>\n",
       "      <td>NaN</td>\n",
       "    </tr>\n",
       "    <tr>\n",
       "      <th>2020-05-10</th>\n",
       "      <td>0.09</td>\n",
       "      <td>0.02</td>\n",
       "      <td>0.02</td>\n",
       "      <td>0.03</td>\n",
       "      <td>0.03</td>\n",
       "      <td>0.03</td>\n",
       "      <td>0.04</td>\n",
       "      <td>0.03</td>\n",
       "      <td>0.02</td>\n",
       "      <td>0.02</td>\n",
       "      <td>...</td>\n",
       "      <td>NaN</td>\n",
       "      <td>NaN</td>\n",
       "      <td>NaN</td>\n",
       "      <td>NaN</td>\n",
       "      <td>NaN</td>\n",
       "      <td>NaN</td>\n",
       "      <td>NaN</td>\n",
       "      <td>NaN</td>\n",
       "      <td>NaN</td>\n",
       "      <td>NaN</td>\n",
       "    </tr>\n",
       "  </tbody>\n",
       "</table>\n",
       "<p>7 rows × 32 columns</p>\n",
       "</div>"
      ],
      "text/plain": [
       "dif         0.0   1.0   2.0   3.0   4.0   5.0   6.0   7.0   8.0   9.0   ...  \\\n",
       "first_date                                                              ...   \n",
       "2020-05-04  0.10  0.05  0.06  0.06  0.07  0.07  0.08  0.04  0.04  0.03  ...   \n",
       "2020-05-05  0.10  0.06  0.06  0.07  0.07  0.08  0.04  0.04  0.04  0.03  ...   \n",
       "2020-05-06  0.10  0.05  0.06  0.06  0.08  0.04  0.04  0.04  0.03  0.03  ...   \n",
       "2020-05-07  0.10  0.05  0.06  0.06  0.03  0.04  0.04  0.03  0.03  0.02  ...   \n",
       "2020-05-08  0.09  0.05  0.06  0.03  0.03  0.04  0.04  0.03  0.02  0.03  ...   \n",
       "2020-05-09  0.09  0.05  0.03  0.03  0.04  0.03  0.04  0.03  0.02  0.02  ...   \n",
       "2020-05-10  0.09  0.02  0.02  0.03  0.03  0.03  0.04  0.03  0.02  0.02  ...   \n",
       "\n",
       "dif         22.0  23.0  24.0  25.0  26.0  27.0  28.0  29.0  30.0  31.0  \n",
       "first_date                                                              \n",
       "2020-05-04   0.0   0.0   0.0   0.0   0.0   0.0   0.0   NaN   0.0   0.0  \n",
       "2020-05-05   0.0   0.0   0.0   0.0   0.0   0.0   0.0   NaN   NaN   NaN  \n",
       "2020-05-06   0.0   0.0   0.0   0.0   0.0   0.0   0.0   NaN   0.0   NaN  \n",
       "2020-05-07   0.0   0.0   0.0   0.0   0.0   0.0   0.0   0.0   NaN   NaN  \n",
       "2020-05-08   0.0   0.0   0.0   NaN   0.0   NaN   NaN   NaN   NaN   NaN  \n",
       "2020-05-09   0.0   0.0   NaN   NaN   NaN   NaN   NaN   NaN   NaN   NaN  \n",
       "2020-05-10   NaN   NaN   NaN   NaN   NaN   NaN   NaN   NaN   NaN   NaN  \n",
       "\n",
       "[7 rows x 32 columns]"
      ]
     },
     "execution_count": 128,
     "metadata": {},
     "output_type": "execute_result"
    }
   ],
   "source": [
    "output "
   ]
  },
  {
   "cell_type": "code",
   "execution_count": 129,
   "metadata": {},
   "outputs": [
    {
     "data": {
      "image/png": "[encoded data removed]",
      "text/plain": [
       "<Figure size 5760x720 with 1 Axes>"
      ]
     },
     "metadata": {},
     "output_type": "display_data"
    }
   ],
   "source": [
    "#визуализируем с помощью heatmap\n",
    "plt.figure(figsize=(80, 10))\n",
    "plt.title('Cohorts: LTV', size=20)\n",
    "ax = sns.heatmap(output.cumsum(axis=1), annot=True, fmt='.2', linewidths=1, linecolor='gray', cbar=0, square=True)\n",
    "plt.xlabel('Cohort lifetime', size=15)\n",
    "plt.ylabel('Cohort', size=15)\n",
    "plt.show()"
   ]
  },
  {
   "cell_type": "markdown",
   "metadata": {},
   "source": [
    "Выводы по данному показателю:\n",
    "\n",
    "* После 19-ого числа доходы с рекламы не растет и стабилен до конца лайфтайма\n",
    "* С каждой когортой показатели все хуже\n",
    "* Нужно искать причину, с чем может быть падение интереса пользователей - возможно это связано с багами, проблемами с интерфейсом или например, что первый уровень идет очень долго"
   ]
  },
  {
   "cell_type": "markdown",
   "metadata": {},
   "source": [
    "<a class=\"anchor\" id=\"30-bullet\"></a>\n",
    "### Общий вывод"
   ]
  },
  {
   "cell_type": "markdown",
   "metadata": {},
   "source": [
    "В данной части были посчитаны следующие показатели:\n",
    "* DAU -2884\n",
    "* WAU - 6120 \n",
    "* Sticky Factor - 47.14%\n",
    "* CAC - среднее значение 0.57 у.е.\n",
    "\n",
    "* Retention rate имеет высокие показатели на второй день, но ухудшается от когорты к когорте\n",
    "\n",
    "* LTV - также ухудшается от когорты к когорте, нужно искать причину в чем может быть проблема потери интереса пользователей"
   ]
  },
  {
   "cell_type": "markdown",
   "metadata": {},
   "source": [
    "## Анализ гипотез"
   ]
  },
  {
   "cell_type": "markdown",
   "metadata": {},
   "source": [
    "В данном пункте, нам необходимо проверить две гипотезы - о равенстве средних между двумя группами по двум параметрам"
   ]
  },
  {
   "cell_type": "markdown",
   "metadata": {},
   "source": [
    "<a class=\"anchor\" id=\"31-bullet\"></a>\n",
    "### Гипотеза о различие среднего времени прохождения уровня между пользователями, которые заканчивают уровень через реализацию проекта, и пользователями, которые заканчивают уровень победой над первым врагом"
   ]
  },
  {
   "cell_type": "markdown",
   "metadata": {},
   "source": [
    "Сформируем нулевую и альтернатинвую гипотезу, а после этого сгруппируем данные в два датафрейма - в первом у нас будет люди, которые  закончили игру с помощью проекта,во втором с помощью победы над врагом.\n",
    "\n",
    "После этого посчитаем дисперссию и p-value при знаичимсоти 0.5"
   ]
  },
  {
   "cell_type": "markdown",
   "metadata": {},
   "source": [
    "<b>Нулевая гипотеза H0</b> - Среднее время прохождения уровня между пользователями, которые заканчивают уровень через реализацию проекта, и пользователями, которые заканчивают уровень победой над другим игроком, совпадает.\n",
    "\n",
    "<b>Альтернативная гипотеза H1</b> - Среднее время прохождения уровня между пользователями, которые заканчивают уровень через реализацию проекта, и пользователями, которые заканчивают уровень победой над другим игроком, не совпадает."
   ]
  },
  {
   "cell_type": "code",
   "execution_count": 130,
   "metadata": {},
   "outputs": [],
   "source": [
    "user_filter_project=action[action['event'] == 'project']['user_id'] #отфильтруем по тем,кто сделал проект и получим список"
   ]
  },
  {
   "cell_type": "code",
   "execution_count": 131,
   "metadata": {},
   "outputs": [],
   "source": [
    "action_fin_prj=action.query('user_id in @user_filter_project') # сделаем query"
   ]
  },
  {
   "cell_type": "code",
   "execution_count": 132,
   "metadata": {},
   "outputs": [],
   "source": [
    "action_fin_prj_q=action_fin_prj.groupby('user_id').event_datetime.agg(['min', 'max']).reset_index()\n",
    "# создадим датафрейм с минимальной и максимльной датой "
   ]
  },
  {
   "cell_type": "code",
   "execution_count": 133,
   "metadata": {},
   "outputs": [],
   "source": [
    "action_fin_prj_q['days']=(action_fin_prj_q['max']-action_fin_prj_q['min'])/ np.timedelta64(1, 'D')\n",
    "#посчитаем разницу, перевеедем в дни"
   ]
  },
  {
   "cell_type": "code",
   "execution_count": 134,
   "metadata": {},
   "outputs": [],
   "source": [
    "#отфильтруем по тем, кто закончил первый уровень, но не через проект\n",
    "user_filter_win=action[(action['event'] == 'finished_stage_1') & (action['project_type']!='satellite_orbital_assembly')]['user_id']"
   ]
  },
  {
   "cell_type": "code",
   "execution_count": 135,
   "metadata": {},
   "outputs": [],
   "source": [
    "#сделаему query\n",
    "action_fin_winwin=action.query('(user_id in @user_filter_win) & (user_id not in @ user_filter_project)')"
   ]
  },
  {
   "cell_type": "code",
   "execution_count": 136,
   "metadata": {},
   "outputs": [],
   "source": [
    "# создадим датафрейм с минимальной и максимльной датой \n",
    "action_fin_winwin_q=action_fin_winwin.groupby('user_id').event_datetime.agg(['min', 'max']).reset_index()"
   ]
  },
  {
   "cell_type": "code",
   "execution_count": 137,
   "metadata": {},
   "outputs": [],
   "source": [
    "#посчитаем разницу, перевеедем в дни\n",
    "action_fin_winwin_q['days']=(action_fin_winwin_q['max']-action_fin_winwin_q['min'])/ np.timedelta64(1, 'D')"
   ]
  },
  {
   "cell_type": "markdown",
   "metadata": {},
   "source": [
    "Посчитаем значение дисперсий для двух выборок"
   ]
  },
  {
   "cell_type": "code",
   "execution_count": 138,
   "metadata": {},
   "outputs": [
    {
     "name": "stdout",
     "output_type": "stream",
     "text": [
      "Значение дисперсии для выборки \"проект\" 12.303691104223093\n"
     ]
    }
   ],
   "source": [
    "print('Значение дисперсии для выборки \"проект\"',action_fin_prj_q['days'].var())"
   ]
  },
  {
   "cell_type": "code",
   "execution_count": 139,
   "metadata": {},
   "outputs": [
    {
     "name": "stdout",
     "output_type": "stream",
     "text": [
      "Значение дисперсии для выборки \"победа над первым врагом\" 16.775309082387754\n"
     ]
    }
   ],
   "source": [
    "print('Значение дисперсии для выборки \"победа над первым врагом\"',action_fin_winwin_q['days'].var())"
   ]
  },
  {
   "cell_type": "markdown",
   "metadata": {},
   "source": [
    "Проверим гипотезу на основе теста для двух средних из генеральной совокупности при alpha 0.05"
   ]
  },
  {
   "cell_type": "code",
   "execution_count": 140,
   "metadata": {},
   "outputs": [
    {
     "name": "stdout",
     "output_type": "stream",
     "text": [
      "p-значение: 5.708058235070849e-107\n",
      "Принимаем альтернативную гипотезу\n"
     ]
    }
   ],
   "source": [
    "\n",
    "results = st.ttest_ind(action_fin_prj_q['days'], action_fin_winwin_q['days'], equal_var = False)\n",
    "\n",
    "#критический уровень статистической значимости\n",
    "\n",
    "alpha = 0.05 \n",
    "\n",
    "#для проверки используем критерий p-value\n",
    "\n",
    "print('p-значение:', results.pvalue)\n",
    "\n",
    "#сравним получившееся p-значение с заданным уровнем статистической значимости\n",
    "\n",
    "if results.pvalue < alpha:\n",
    "    print('Принимаем альтернативную гипотезу')\n",
    "else:\n",
    "    print('Не получилось отвергнуть нулевую гипотезу')"
   ]
  },
  {
   "cell_type": "markdown",
   "metadata": {},
   "source": [
    "Отвергаем нулевую гипотезу - статистически значмая разница между средним количеством времени, за которое пользователь проходит уровень - есть.\n",
    "\n",
    "Теперь по аналогии проверим гипотезу о количестве зданий."
   ]
  },
  {
   "cell_type": "markdown",
   "metadata": {},
   "source": [
    "<a class=\"anchor\" id=\"32-bullet\"></a>\n",
    "###  Гипотеза о различия среднего  количества зданий, построенных у пользователей, которые заканчивают уровень через реализацию проекта, и пользователями, которые заканчивают уровень победой над первым врагом"
   ]
  },
  {
   "cell_type": "markdown",
   "metadata": {},
   "source": [
    "Датафреймы для выборки у нас уже были сформированы, поэтому cразу начнем анализ"
   ]
  },
  {
   "cell_type": "markdown",
   "metadata": {},
   "source": [
    "<b>Нулевая гипотеза H0</b> - Среднее количество построенных зданий между пользователями, которые заканчивают уровень через реализацию проекта, и пользователями, которые заканчивают уровень победой над другим игроком, совпадает.\n",
    "\n",
    "<b>Альтернативная гипотеза H1</b> - Среднее количество построенных зданий между пользователями, которые заканчивают уровень через реализацию проекта, и пользователями, которые заканчивают уровень победой над другим игроком, не совпадает."
   ]
  },
  {
   "cell_type": "code",
   "execution_count": 141,
   "metadata": {},
   "outputs": [
    {
     "data": {
      "text/html": [
       "<div>\n",
       "<style scoped>\n",
       "    .dataframe tbody tr th:only-of-type {\n",
       "        vertical-align: middle;\n",
       "    }\n",
       "\n",
       "    .dataframe tbody tr th {\n",
       "        vertical-align: top;\n",
       "    }\n",
       "\n",
       "    .dataframe thead th {\n",
       "        text-align: right;\n",
       "    }\n",
       "</style>\n",
       "<table border=\"1\" class=\"dataframe\">\n",
       "  <thead>\n",
       "    <tr style=\"text-align: right;\">\n",
       "      <th></th>\n",
       "      <th>user_id</th>\n",
       "      <th>building_type</th>\n",
       "    </tr>\n",
       "  </thead>\n",
       "  <tbody>\n",
       "    <tr>\n",
       "      <th>0</th>\n",
       "      <td>001d39dc-366c-4021-9604-6a3b9ff01e25</td>\n",
       "      <td>8</td>\n",
       "    </tr>\n",
       "    <tr>\n",
       "      <th>1</th>\n",
       "      <td>003ee7e8-6356-4286-a715-62f22a18d2a1</td>\n",
       "      <td>8</td>\n",
       "    </tr>\n",
       "    <tr>\n",
       "      <th>2</th>\n",
       "      <td>004074f8-251a-4776-922c-8348dca1a2f6</td>\n",
       "      <td>12</td>\n",
       "    </tr>\n",
       "    <tr>\n",
       "      <th>3</th>\n",
       "      <td>00464e5e-28ed-4be6-bf44-517ef7b3937b</td>\n",
       "      <td>8</td>\n",
       "    </tr>\n",
       "    <tr>\n",
       "      <th>4</th>\n",
       "      <td>0056c007-c082-43cc-bdef-afc49bca4cb9</td>\n",
       "      <td>3</td>\n",
       "    </tr>\n",
       "  </tbody>\n",
       "</table>\n",
       "</div>"
      ],
      "text/plain": [
       "                                user_id  building_type\n",
       "0  001d39dc-366c-4021-9604-6a3b9ff01e25              8\n",
       "1  003ee7e8-6356-4286-a715-62f22a18d2a1              8\n",
       "2  004074f8-251a-4776-922c-8348dca1a2f6             12\n",
       "3  00464e5e-28ed-4be6-bf44-517ef7b3937b              8\n",
       "4  0056c007-c082-43cc-bdef-afc49bca4cb9              3"
      ]
     },
     "execution_count": 141,
     "metadata": {},
     "output_type": "execute_result"
    }
   ],
   "source": [
    "buildings_per_user_pw.head()"
   ]
  },
  {
   "cell_type": "code",
   "execution_count": 142,
   "metadata": {},
   "outputs": [
    {
     "data": {
      "text/html": [
       "<div>\n",
       "<style scoped>\n",
       "    .dataframe tbody tr th:only-of-type {\n",
       "        vertical-align: middle;\n",
       "    }\n",
       "\n",
       "    .dataframe tbody tr th {\n",
       "        vertical-align: top;\n",
       "    }\n",
       "\n",
       "    .dataframe thead th {\n",
       "        text-align: right;\n",
       "    }\n",
       "</style>\n",
       "<table border=\"1\" class=\"dataframe\">\n",
       "  <thead>\n",
       "    <tr style=\"text-align: right;\">\n",
       "      <th></th>\n",
       "      <th>user_id</th>\n",
       "      <th>building_type</th>\n",
       "    </tr>\n",
       "  </thead>\n",
       "  <tbody>\n",
       "    <tr>\n",
       "      <th>0</th>\n",
       "      <td>006380d6-67a6-45de-ab1e-6eb54ad8dbe8</td>\n",
       "      <td>11</td>\n",
       "    </tr>\n",
       "    <tr>\n",
       "      <th>1</th>\n",
       "      <td>00be7371-fa79-4fbd-b8e7-8ba32e3f8f82</td>\n",
       "      <td>12</td>\n",
       "    </tr>\n",
       "    <tr>\n",
       "      <th>2</th>\n",
       "      <td>00c2b9f2-2615-439c-aed0-6974e4c6c1c1</td>\n",
       "      <td>11</td>\n",
       "    </tr>\n",
       "    <tr>\n",
       "      <th>3</th>\n",
       "      <td>00de2809-403e-4476-a2f7-ca1b11700190</td>\n",
       "      <td>13</td>\n",
       "    </tr>\n",
       "    <tr>\n",
       "      <th>4</th>\n",
       "      <td>00e83261-5fd4-4939-9616-802b5a0202c6</td>\n",
       "      <td>13</td>\n",
       "    </tr>\n",
       "  </tbody>\n",
       "</table>\n",
       "</div>"
      ],
      "text/plain": [
       "                                user_id  building_type\n",
       "0  006380d6-67a6-45de-ab1e-6eb54ad8dbe8             11\n",
       "1  00be7371-fa79-4fbd-b8e7-8ba32e3f8f82             12\n",
       "2  00c2b9f2-2615-439c-aed0-6974e4c6c1c1             11\n",
       "3  00de2809-403e-4476-a2f7-ca1b11700190             13\n",
       "4  00e83261-5fd4-4939-9616-802b5a0202c6             13"
      ]
     },
     "execution_count": 142,
     "metadata": {},
     "output_type": "execute_result"
    }
   ],
   "source": [
    "buildings_per_user_p.head()"
   ]
  },
  {
   "cell_type": "code",
   "execution_count": 143,
   "metadata": {},
   "outputs": [
    {
     "name": "stdout",
     "output_type": "stream",
     "text": [
      "Значение дисперсии для выборки \"проект\" 9.360717395692165\n"
     ]
    }
   ],
   "source": [
    "print('Значение дисперсии для выборки \"проект\"',buildings_per_user_pw['building_type'].var())"
   ]
  },
  {
   "cell_type": "code",
   "execution_count": 144,
   "metadata": {},
   "outputs": [
    {
     "name": "stdout",
     "output_type": "stream",
     "text": [
      "Значение дисперсии для выборки \"победа над первым врагом\" 4.676502331836245\n"
     ]
    }
   ],
   "source": [
    "print('Значение дисперсии для выборки \"победа над первым врагом\"',buildings_per_user_p['building_type'].var())"
   ]
  },
  {
   "cell_type": "code",
   "execution_count": 145,
   "metadata": {},
   "outputs": [
    {
     "name": "stdout",
     "output_type": "stream",
     "text": [
      "p-значение: 0.0\n",
      "Принимаем альтернативную гипотезу\n"
     ]
    }
   ],
   "source": [
    "\n",
    "results2 = st.ttest_ind(buildings_per_user_pw['building_type'], buildings_per_user_p['building_type'], equal_var = False)\n",
    "\n",
    "#критический уровень статистической значимости\n",
    "\n",
    "alpha = 0.05 \n",
    "\n",
    "#для проверки используем критерий p-value\n",
    "\n",
    "print('p-значение:', results2.pvalue)\n",
    "\n",
    "#сравним получившееся p-значение с заданным уровнем статистической значимости\n",
    "\n",
    "if results2.pvalue < alpha:\n",
    "    print('Принимаем альтернативную гипотезу')\n",
    "else:\n",
    "    print('Не получилось отвергнуть нулевую гипотезу')"
   ]
  },
  {
   "cell_type": "markdown",
   "metadata": {},
   "source": [
    "Отвергаем нулевую гипотезу - статистически значмая разница между средним количеством зданий, которое строит пользователь, в зависимости от группы - есть"
   ]
  },
  {
   "cell_type": "markdown",
   "metadata": {},
   "source": [
    "<a class=\"anchor\" id=\"33-bullet\"></a>\n",
    "### Общие выводы по части"
   ]
  },
  {
   "cell_type": "markdown",
   "metadata": {},
   "source": [
    "В даннной части проекта мы протестировали две гипотезы о равенстве средних значений между двумя группами пользовтелей и нам удалось установить, что:\n",
    "* в обоих случаях нулевая гипотеза была отвергнута - разница между средними значениями по количеству часов, за сколько пользователи проходят первый уровень, а также сколько зданий в среднем они строят в зависимости от их поведения в игре - есть.\n",
    "* в целом, пользователи которые заканчивают игру с помощью проекта- тратят больше времени на прохождение уровня и строят больше зданий. Возможно, существует необходимость внести корректировки в игровую механику"
   ]
  },
  {
   "cell_type": "markdown",
   "metadata": {},
   "source": [
    "## Вывод по проекту"
   ]
  },
  {
   "cell_type": "markdown",
   "metadata": {},
   "source": [
    "<a class=\"anchor\" id=\"34-bullet\"></a>\n",
    "### Общие выводы по проекту"
   ]
  },
  {
   "cell_type": "markdown",
   "metadata": {},
   "source": [
    "<b><big>В данном проекте был сделано следующее:</big></b>\n",
    "* были выгружены и обработаны данные\n",
    "* были обработаны пропуски, дубликаты и формат данных\n",
    "* был проведен исследовательский анализ данных\n",
    "* были расчитаны метрики DAU, WAU , Sticky Factor, LTV, CAC, Retention Rate \n",
    "* были проверены две гипотезы о равенстве средних значений\n",
    "\n",
    "<b><big>Результаты:</big></b>\n",
    "* около 43 % пользователя оканчивают первый уровень, причем большинство выбирает способ победы над первым врагом\n",
    "* большинство пользователей в игру нам приносит yandex.direct \n",
    "* пользователи в среднем проходят первый уровень за 12 дней, что возможно является весьма долгим показателем, который может оказывать свой эффект на LTV\n",
    "* в среднем пользователя строят за игру около 10 домов\n",
    "* в среднем пользователи заходят в игру 1.3 раз в день\n",
    "* Sticky Factor на ровне 47.14%, что является очень хорошим показателем\n",
    "* CAC в среднем состовляет 0.57 за одного пользователя (примим это во внимание, когда будет предлагать модель монетизации)\n",
    "* Retention rate имеет высокие показатели на второй день, но ухудшается от когорты к когорте\n",
    "* LTV - также ухудшается от когорты к когорте, нужно искать причину в чем может быть проблема потери интереса пользователей (пока кажется, что нужно сокртатить время прохождение первого уровня)\n",
    "* различие между средними значениями пользователей которые заканчивают уровень с проектом и с теми, кто заканчивает с победой над врагом есть - как с точки зрения времени среднего прохождения уровня, так и с точки среднего количества построенных зданий\n",
    "\n",
    "\n"
   ]
  },
  {
   "cell_type": "markdown",
   "metadata": {},
   "source": [
    "<a class=\"anchor\" id=\"35-bullet\"></a>\n",
    "### Рекомендации для модели монетизации игры"
   ]
  },
  {
   "cell_type": "markdown",
   "metadata": {},
   "source": [
    "Разработаем модель монетезации, на основе текущих условий.\n",
    "\n",
    "Вводные:\n",
    "* рекламное объявление показывается при строительстве здания \n",
    "* стоимость рекламного объявления - 0.07\n",
    "\n",
    "Наша цель:\n",
    "* снизить рекламную нагрузку на пользователя, чтобы они не уходили от нас из-за обилия рекламы\n",
    "* выходить в прибыль (чтобы наш доход с рекламы не привышал затраты на нее)\n",
    "\n",
    "Предложение:\n",
    "* не показывать рекламу для каждого пользователя при строительстве первых n-зданий (точное количество проверим чуть позже) - чтобы пользователь больше вовлекался в игру и после этого рекламные интегрции воспринимались более сдержано\n",
    "* перекрыть часть падение затрат (из-за отстувия рекламы при строительстве каждого здания) тем, что будем показывать дополнительный рекламный ролик тем пользователям, которые завершили уровень\n",
    "\n",
    "Сгруппируем всех пользователей по user_id, количеству зданий и доходу, и напишем функцию, благодаря которой мы сможем тестировать насколько мы можем уменьшить количество показываемых роликов"
   ]
  },
  {
   "cell_type": "code",
   "execution_count": 146,
   "metadata": {},
   "outputs": [
    {
     "data": {
      "text/html": [
       "<div>\n",
       "<style scoped>\n",
       "    .dataframe tbody tr th:only-of-type {\n",
       "        vertical-align: middle;\n",
       "    }\n",
       "\n",
       "    .dataframe tbody tr th {\n",
       "        vertical-align: top;\n",
       "    }\n",
       "\n",
       "    .dataframe thead th {\n",
       "        text-align: right;\n",
       "    }\n",
       "</style>\n",
       "<table border=\"1\" class=\"dataframe\">\n",
       "  <thead>\n",
       "    <tr style=\"text-align: right;\">\n",
       "      <th></th>\n",
       "      <th>user_id</th>\n",
       "      <th>building_type</th>\n",
       "      <th>rev</th>\n",
       "    </tr>\n",
       "  </thead>\n",
       "  <tbody>\n",
       "    <tr>\n",
       "      <th>0</th>\n",
       "      <td>0001f83c-c6ac-4621-b7f0-8a28b283ac30</td>\n",
       "      <td>13</td>\n",
       "      <td>0.91</td>\n",
       "    </tr>\n",
       "    <tr>\n",
       "      <th>1</th>\n",
       "      <td>00151b4f-ba38-44a8-a650-d7cf130a0105</td>\n",
       "      <td>9</td>\n",
       "      <td>0.63</td>\n",
       "    </tr>\n",
       "    <tr>\n",
       "      <th>2</th>\n",
       "      <td>001aaea6-3d14-43f1-8ca8-7f48820f17aa</td>\n",
       "      <td>4</td>\n",
       "      <td>0.28</td>\n",
       "    </tr>\n",
       "    <tr>\n",
       "      <th>3</th>\n",
       "      <td>001d39dc-366c-4021-9604-6a3b9ff01e25</td>\n",
       "      <td>9</td>\n",
       "      <td>0.56</td>\n",
       "    </tr>\n",
       "    <tr>\n",
       "      <th>4</th>\n",
       "      <td>002f508f-67b6-479f-814b-b05f00d4e995</td>\n",
       "      <td>12</td>\n",
       "      <td>0.84</td>\n",
       "    </tr>\n",
       "    <tr>\n",
       "      <th>...</th>\n",
       "      <td>...</td>\n",
       "      <td>...</td>\n",
       "      <td>...</td>\n",
       "    </tr>\n",
       "    <tr>\n",
       "      <th>13571</th>\n",
       "      <td>ffef4fed-164c-40e1-bde1-3980f76d0fb5</td>\n",
       "      <td>10</td>\n",
       "      <td>0.63</td>\n",
       "    </tr>\n",
       "    <tr>\n",
       "      <th>13572</th>\n",
       "      <td>fffab3da-da0e-4e30-ae62-10d0a2e24a4e</td>\n",
       "      <td>16</td>\n",
       "      <td>1.12</td>\n",
       "    </tr>\n",
       "    <tr>\n",
       "      <th>13573</th>\n",
       "      <td>fffb626c-5ab6-47c9-8113-2062a2f18494</td>\n",
       "      <td>10</td>\n",
       "      <td>0.63</td>\n",
       "    </tr>\n",
       "    <tr>\n",
       "      <th>13574</th>\n",
       "      <td>ffff194a-56b7-4c12-860d-3485242ae7f5</td>\n",
       "      <td>7</td>\n",
       "      <td>0.49</td>\n",
       "    </tr>\n",
       "    <tr>\n",
       "      <th>13575</th>\n",
       "      <td>ffff69cc-fec1-4fd3-9f98-93be1112a6b8</td>\n",
       "      <td>14</td>\n",
       "      <td>0.84</td>\n",
       "    </tr>\n",
       "  </tbody>\n",
       "</table>\n",
       "<p>13576 rows × 3 columns</p>\n",
       "</div>"
      ],
      "text/plain": [
       "                                    user_id  building_type   rev\n",
       "0      0001f83c-c6ac-4621-b7f0-8a28b283ac30             13  0.91\n",
       "1      00151b4f-ba38-44a8-a650-d7cf130a0105              9  0.63\n",
       "2      001aaea6-3d14-43f1-8ca8-7f48820f17aa              4  0.28\n",
       "3      001d39dc-366c-4021-9604-6a3b9ff01e25              9  0.56\n",
       "4      002f508f-67b6-479f-814b-b05f00d4e995             12  0.84\n",
       "...                                     ...            ...   ...\n",
       "13571  ffef4fed-164c-40e1-bde1-3980f76d0fb5             10  0.63\n",
       "13572  fffab3da-da0e-4e30-ae62-10d0a2e24a4e             16  1.12\n",
       "13573  fffb626c-5ab6-47c9-8113-2062a2f18494             10  0.63\n",
       "13574  ffff194a-56b7-4c12-860d-3485242ae7f5              7  0.49\n",
       "13575  ffff69cc-fec1-4fd3-9f98-93be1112a6b8             14  0.84\n",
       "\n",
       "[13576 rows x 3 columns]"
      ]
     },
     "execution_count": 146,
     "metadata": {},
     "output_type": "execute_result"
    }
   ],
   "source": [
    "buildings_per_user_mode = action.groupby('user_id').agg({'building_type': 'count','rev':'sum'}).reset_index()\n",
    "buildings_per_user_mode"
   ]
  },
  {
   "cell_type": "code",
   "execution_count": 147,
   "metadata": {},
   "outputs": [],
   "source": [
    "#n-количество уменьшаемых рекламных показов,rate - стоимость рекламы, users - количество пользователей, кто завершил уровень\n",
    "# exp-расходы на закупку рекламы, win_ad- сколько мы получим при показе рекламы на этапе завершения уровня\n",
    "def model_income (data,n,rate,users,exp): \n",
    "    data['new_build']=data['building_type']-n \n",
    "    data['new_build']= np.maximum(data['building_type'] - n,0)\n",
    "    data['new_rev']=data['new_build']*rate\n",
    "    win_ad=rate*users\n",
    "    return (data['new_rev'].sum()+win_ad)-exp\n",
    "    "
   ]
  },
  {
   "cell_type": "code",
   "execution_count": 148,
   "metadata": {},
   "outputs": [
    {
     "data": {
      "text/plain": [
       "5817"
      ]
     },
     "execution_count": 148,
     "metadata": {},
     "output_type": "execute_result"
    }
   ],
   "source": [
    "users=len(action.query('event==\"finished_stage_1\"')) #количество тех, кто завершил первый уровень\n",
    "users"
   ]
  },
  {
   "cell_type": "code",
   "execution_count": 149,
   "metadata": {},
   "outputs": [
    {
     "data": {
      "text/plain": [
       "7603.576986788023"
      ]
     },
     "execution_count": 149,
     "metadata": {},
     "output_type": "execute_result"
    }
   ],
   "source": [
    "costs=ch_gr['cost'].sum() #траты на рекламу\n",
    "costs"
   ]
  },
  {
   "cell_type": "code",
   "execution_count": 156,
   "metadata": {},
   "outputs": [
    {
     "data": {
      "text/plain": [
       "-5553.836986788023"
      ]
     },
     "execution_count": 156,
     "metadata": {},
     "output_type": "execute_result"
    }
   ],
   "source": [
    "model_income(buildings_per_user_mode,10,0.07,users,costs)   #тест"
   ]
  },
  {
   "cell_type": "code",
   "execution_count": 152,
   "metadata": {},
   "outputs": [
    {
     "data": {
      "image/png": "[encoded data removed]",
      "text/plain": [
       "<Figure size 432x288 with 1 Axes>"
      ]
     },
     "metadata": {},
     "output_type": "display_data"
    }
   ],
   "source": [
    "# Код ревьюера\n",
    "rev_x = [i for i in range(30)]\n",
    "rev_y = [model_income(buildings_per_user_mode,i,0.07,users,costs) for i in rev_x]\n",
    "\n",
    "plt.plot(rev_x, rev_y)\n",
    "del rev_x\n",
    "del rev_y"
   ]
  },
  {
   "cell_type": "markdown",
   "metadata": {},
   "source": [
    "Для того, чтоб протестить модель, вызовем дополнительне переменные - расходы на рекламу и сколько игроков закончило 1 уровень"
   ]
  },
  {
   "cell_type": "markdown",
   "metadata": {},
   "source": [
    "Теперь сделаем тесты модели, уменьшая количество показов для каждого пользователя на 1, пока наши коммулятивные расходы не станут минусовыми."
   ]
  },
  {
   "cell_type": "code",
   "execution_count": 153,
   "metadata": {},
   "outputs": [
    {
     "data": {
      "text/plain": [
       "1348.0230132119777"
      ]
     },
     "execution_count": 153,
     "metadata": {},
     "output_type": "execute_result"
    }
   ],
   "source": [
    "model_income(buildings_per_user_mode,1,0.07,users,costs)"
   ]
  },
  {
   "cell_type": "code",
   "execution_count": 154,
   "metadata": {},
   "outputs": [
    {
     "data": {
      "text/plain": [
       "401.6930132119778"
      ]
     },
     "execution_count": 154,
     "metadata": {},
     "output_type": "execute_result"
    }
   ],
   "source": [
    "model_income(buildings_per_user_mode,2,0.07,users,costs)"
   ]
  },
  {
   "cell_type": "code",
   "execution_count": 155,
   "metadata": {},
   "outputs": [
    {
     "data": {
      "text/plain": [
       "-528.6069867880233"
      ]
     },
     "execution_count": 155,
     "metadata": {},
     "output_type": "execute_result"
    }
   ],
   "source": [
    "model_income(buildings_per_user_mode,3,0.07,users,costs)"
   ]
  },
  {
   "cell_type": "markdown",
   "metadata": {},
   "source": [
    "<b><big>Выводы по модели</big></b>\n",
    "\n",
    "В результате теста модели, мы выяснили, что без выхода в минус мы можем сократить рекламную нагрузку во время строительства зданий на 2 рекламных ролика для каждого пользователя (предпочитетельно на первые два строительтва зданий), если при это добавим 1 дополнительный ролик на экране завершения уровня.\n",
    "\n",
    "\n",
    "Мы можем передать заказчику эту модель, так как он, если что, мог \"использовать\" свои цифры и посчитать возможную доходность\n",
    "\n",
    "Также дополнительно нужно проанализировать затраты на рекламу - эффективно ли расходуется бюджет. Возможно, какой-то канал является слишком дорогим и малоэффективным и затраты можно перераспределить"
   ]
  },
  {
   "cell_type": "code",
   "execution_count": null,
   "metadata": {},
   "outputs": [],
   "source": []
  }
 ],
 "metadata": {
  "ExecuteTimeLog": [
   {
    "duration": 1539,
    "start_time": "2022-06-30T16:56:31.540Z"
   },
   {
    "duration": 173,
    "start_time": "2022-06-30T17:04:36.887Z"
   },
   {
    "duration": 3390,
    "start_time": "2022-06-30T17:04:47.009Z"
   },
   {
    "duration": 13,
    "start_time": "2022-06-30T17:04:59.379Z"
   },
   {
    "duration": 44,
    "start_time": "2022-06-30T17:05:03.257Z"
   },
   {
    "duration": 5,
    "start_time": "2022-06-30T17:05:13.487Z"
   },
   {
    "duration": 16,
    "start_time": "2022-06-30T17:05:23.965Z"
   },
   {
    "duration": 1087,
    "start_time": "2022-06-30T17:07:54.795Z"
   },
   {
    "duration": 16,
    "start_time": "2022-06-30T17:08:02.234Z"
   },
   {
    "duration": 5,
    "start_time": "2022-06-30T17:08:44.734Z"
   },
   {
    "duration": 9,
    "start_time": "2022-06-30T17:08:49.291Z"
   },
   {
    "duration": 1381,
    "start_time": "2022-06-30T17:12:32.603Z"
   },
   {
    "duration": 91,
    "start_time": "2022-06-30T17:12:36.104Z"
   },
   {
    "duration": 10,
    "start_time": "2022-06-30T17:13:46.632Z"
   },
   {
    "duration": 11,
    "start_time": "2022-06-30T17:13:53.705Z"
   },
   {
    "duration": 10,
    "start_time": "2022-06-30T17:14:57.373Z"
   },
   {
    "duration": 5,
    "start_time": "2022-06-30T17:15:06.231Z"
   },
   {
    "duration": 8,
    "start_time": "2022-06-30T17:15:14.991Z"
   },
   {
    "duration": 131,
    "start_time": "2022-06-30T17:48:34.831Z"
   },
   {
    "duration": 36,
    "start_time": "2022-06-30T17:49:55.076Z"
   },
   {
    "duration": 34,
    "start_time": "2022-06-30T17:52:05.271Z"
   },
   {
    "duration": 86,
    "start_time": "2022-06-30T17:52:47.525Z"
   },
   {
    "duration": 12,
    "start_time": "2022-06-30T17:53:17.204Z"
   },
   {
    "duration": 14,
    "start_time": "2022-06-30T17:53:32.784Z"
   },
   {
    "duration": 124,
    "start_time": "2022-06-30T18:00:24.271Z"
   },
   {
    "duration": 47,
    "start_time": "2022-06-30T18:00:35.091Z"
   },
   {
    "duration": 40,
    "start_time": "2022-06-30T18:02:19.097Z"
   },
   {
    "duration": 19,
    "start_time": "2022-06-30T18:02:49.985Z"
   },
   {
    "duration": 47,
    "start_time": "2022-06-30T18:03:11.368Z"
   },
   {
    "duration": 23,
    "start_time": "2022-06-30T18:03:21.899Z"
   },
   {
    "duration": 13,
    "start_time": "2022-06-30T18:03:30.832Z"
   },
   {
    "duration": 28,
    "start_time": "2022-06-30T18:03:43.046Z"
   },
   {
    "duration": 11,
    "start_time": "2022-06-30T18:05:03.689Z"
   },
   {
    "duration": 13,
    "start_time": "2022-06-30T18:05:25.717Z"
   },
   {
    "duration": 17,
    "start_time": "2022-06-30T18:05:54.961Z"
   },
   {
    "duration": 32,
    "start_time": "2022-06-30T18:05:59.242Z"
   },
   {
    "duration": 26,
    "start_time": "2022-06-30T18:06:20.732Z"
   },
   {
    "duration": 12,
    "start_time": "2022-06-30T18:06:37.762Z"
   },
   {
    "duration": 1448,
    "start_time": "2022-06-30T18:06:46.825Z"
   },
   {
    "duration": 2119,
    "start_time": "2022-06-30T18:06:48.275Z"
   },
   {
    "duration": 50,
    "start_time": "2022-06-30T18:06:50.396Z"
   },
   {
    "duration": 10,
    "start_time": "2022-06-30T18:06:50.451Z"
   },
   {
    "duration": 41,
    "start_time": "2022-06-30T18:06:50.463Z"
   },
   {
    "duration": 990,
    "start_time": "2022-06-30T18:06:50.506Z"
   },
   {
    "duration": 13,
    "start_time": "2022-06-30T18:06:51.498Z"
   },
   {
    "duration": 16,
    "start_time": "2022-06-30T18:06:51.513Z"
   },
   {
    "duration": 22,
    "start_time": "2022-06-30T18:06:51.531Z"
   },
   {
    "duration": 1217,
    "start_time": "2022-06-30T18:06:51.559Z"
   },
   {
    "duration": 12,
    "start_time": "2022-06-30T18:06:52.778Z"
   },
   {
    "duration": 9,
    "start_time": "2022-06-30T18:06:52.792Z"
   },
   {
    "duration": 12,
    "start_time": "2022-06-30T18:06:52.803Z"
   },
   {
    "duration": 37,
    "start_time": "2022-06-30T18:06:52.816Z"
   },
   {
    "duration": 41,
    "start_time": "2022-06-30T18:06:52.854Z"
   },
   {
    "duration": 10,
    "start_time": "2022-06-30T18:06:52.897Z"
   },
   {
    "duration": 18,
    "start_time": "2022-06-30T18:06:52.908Z"
   },
   {
    "duration": 26,
    "start_time": "2022-06-30T18:06:52.927Z"
   },
   {
    "duration": 122,
    "start_time": "2022-06-30T18:06:52.959Z"
   },
   {
    "duration": 29,
    "start_time": "2022-06-30T18:07:02.884Z"
   },
   {
    "duration": 16,
    "start_time": "2022-06-30T18:07:03.796Z"
   },
   {
    "duration": 55,
    "start_time": "2022-06-30T18:09:03.121Z"
   },
   {
    "duration": 75,
    "start_time": "2022-06-30T18:09:12.184Z"
   },
   {
    "duration": 27,
    "start_time": "2022-06-30T18:09:45.156Z"
   },
   {
    "duration": 13,
    "start_time": "2022-06-30T18:09:46.204Z"
   },
   {
    "duration": 9,
    "start_time": "2022-06-30T18:16:27.307Z"
   },
   {
    "duration": 46,
    "start_time": "2022-06-30T18:16:43.979Z"
   },
   {
    "duration": 19,
    "start_time": "2022-06-30T18:19:48.664Z"
   },
   {
    "duration": 14,
    "start_time": "2022-06-30T18:20:48.555Z"
   },
   {
    "duration": 24,
    "start_time": "2022-06-30T18:21:07.839Z"
   },
   {
    "duration": 36,
    "start_time": "2022-06-30T18:47:40.124Z"
   },
   {
    "duration": 19,
    "start_time": "2022-06-30T18:52:11.078Z"
   },
   {
    "duration": 24,
    "start_time": "2022-06-30T18:52:25.438Z"
   },
   {
    "duration": 20,
    "start_time": "2022-06-30T18:52:30.705Z"
   },
   {
    "duration": 13,
    "start_time": "2022-06-30T18:54:13.342Z"
   },
   {
    "duration": 12,
    "start_time": "2022-06-30T18:54:26.375Z"
   },
   {
    "duration": 17,
    "start_time": "2022-06-30T18:54:31.670Z"
   },
   {
    "duration": 92,
    "start_time": "2022-06-30T19:03:37.890Z"
   },
   {
    "duration": 6,
    "start_time": "2022-06-30T19:04:00.324Z"
   },
   {
    "duration": 24,
    "start_time": "2022-06-30T19:04:08.731Z"
   },
   {
    "duration": 1209,
    "start_time": "2022-06-30T19:18:06.889Z"
   },
   {
    "duration": 11,
    "start_time": "2022-06-30T19:18:26.091Z"
   },
   {
    "duration": 3,
    "start_time": "2022-06-30T19:20:32.500Z"
   },
   {
    "duration": 13,
    "start_time": "2022-06-30T19:20:45.802Z"
   },
   {
    "duration": 15,
    "start_time": "2022-06-30T19:20:56.369Z"
   },
   {
    "duration": 20,
    "start_time": "2022-06-30T19:21:02.741Z"
   },
   {
    "duration": 18,
    "start_time": "2022-06-30T19:21:06.928Z"
   },
   {
    "duration": 935,
    "start_time": "2022-06-30T19:21:10.794Z"
   },
   {
    "duration": 3,
    "start_time": "2022-06-30T19:21:11.732Z"
   },
   {
    "duration": 9,
    "start_time": "2022-06-30T19:22:12.386Z"
   },
   {
    "duration": 25,
    "start_time": "2022-06-30T19:22:19.759Z"
   },
   {
    "duration": 16,
    "start_time": "2022-06-30T19:22:33.770Z"
   },
   {
    "duration": 5,
    "start_time": "2022-06-30T19:22:34.462Z"
   },
   {
    "duration": 5,
    "start_time": "2022-06-30T19:22:35.173Z"
   },
   {
    "duration": 7,
    "start_time": "2022-06-30T19:22:41.576Z"
   },
   {
    "duration": 21,
    "start_time": "2022-06-30T19:22:55.758Z"
   },
   {
    "duration": 14,
    "start_time": "2022-06-30T19:22:56.304Z"
   },
   {
    "duration": 8,
    "start_time": "2022-06-30T19:22:56.871Z"
   },
   {
    "duration": 13,
    "start_time": "2022-06-30T19:22:57.332Z"
   },
   {
    "duration": 15,
    "start_time": "2022-06-30T19:23:10.315Z"
   },
   {
    "duration": 30,
    "start_time": "2022-06-30T19:23:10.723Z"
   },
   {
    "duration": 3,
    "start_time": "2022-06-30T19:23:11.206Z"
   },
   {
    "duration": 8,
    "start_time": "2022-06-30T19:23:11.775Z"
   },
   {
    "duration": 1278,
    "start_time": "2022-06-30T19:23:23.783Z"
   },
   {
    "duration": 2204,
    "start_time": "2022-06-30T19:23:25.064Z"
   },
   {
    "duration": 41,
    "start_time": "2022-06-30T19:23:27.270Z"
   },
   {
    "duration": 7,
    "start_time": "2022-06-30T19:23:27.313Z"
   },
   {
    "duration": 53,
    "start_time": "2022-06-30T19:23:27.322Z"
   },
   {
    "duration": 921,
    "start_time": "2022-06-30T19:23:27.377Z"
   },
   {
    "duration": 13,
    "start_time": "2022-06-30T19:23:28.300Z"
   },
   {
    "duration": 10,
    "start_time": "2022-06-30T19:23:28.316Z"
   },
   {
    "duration": 26,
    "start_time": "2022-06-30T19:23:28.329Z"
   },
   {
    "duration": 1362,
    "start_time": "2022-06-30T19:23:28.359Z"
   },
   {
    "duration": 15,
    "start_time": "2022-06-30T19:23:29.723Z"
   },
   {
    "duration": 35,
    "start_time": "2022-06-30T19:23:29.740Z"
   },
   {
    "duration": 15,
    "start_time": "2022-06-30T19:23:29.778Z"
   },
   {
    "duration": 43,
    "start_time": "2022-06-30T19:23:29.795Z"
   },
   {
    "duration": 43,
    "start_time": "2022-06-30T19:23:29.840Z"
   },
   {
    "duration": 13,
    "start_time": "2022-06-30T19:23:29.885Z"
   },
   {
    "duration": 25,
    "start_time": "2022-06-30T19:23:29.900Z"
   },
   {
    "duration": 75,
    "start_time": "2022-06-30T19:23:29.927Z"
   },
   {
    "duration": 21,
    "start_time": "2022-06-30T19:23:30.004Z"
   },
   {
    "duration": 11,
    "start_time": "2022-06-30T19:23:30.027Z"
   },
   {
    "duration": 85,
    "start_time": "2022-06-30T19:23:30.041Z"
   },
   {
    "duration": 19,
    "start_time": "2022-06-30T19:23:30.128Z"
   },
   {
    "duration": 46,
    "start_time": "2022-06-30T19:23:30.149Z"
   },
   {
    "duration": 40,
    "start_time": "2022-06-30T19:23:30.197Z"
   },
   {
    "duration": 35,
    "start_time": "2022-06-30T19:23:30.238Z"
   },
   {
    "duration": 34,
    "start_time": "2022-06-30T19:23:30.275Z"
   },
   {
    "duration": 24,
    "start_time": "2022-06-30T19:23:30.311Z"
   },
   {
    "duration": 40,
    "start_time": "2022-06-30T19:23:30.339Z"
   },
   {
    "duration": 115,
    "start_time": "2022-06-30T19:23:30.382Z"
   },
   {
    "duration": 8,
    "start_time": "2022-06-30T19:23:30.500Z"
   },
   {
    "duration": 36,
    "start_time": "2022-06-30T19:23:30.510Z"
   },
   {
    "duration": 44,
    "start_time": "2022-06-30T19:23:30.548Z"
   },
   {
    "duration": 24,
    "start_time": "2022-06-30T19:23:30.594Z"
   },
   {
    "duration": 4,
    "start_time": "2022-06-30T19:23:30.620Z"
   },
   {
    "duration": 19,
    "start_time": "2022-06-30T19:23:30.625Z"
   },
   {
    "duration": 1023,
    "start_time": "2022-06-30T19:24:10.977Z"
   },
   {
    "duration": 19,
    "start_time": "2022-06-30T19:24:14.099Z"
   },
   {
    "duration": 108,
    "start_time": "2022-06-30T19:26:41.876Z"
   },
   {
    "duration": 18,
    "start_time": "2022-06-30T19:26:52.453Z"
   },
   {
    "duration": 2253,
    "start_time": "2022-06-30T19:27:53.420Z"
   },
   {
    "duration": 7,
    "start_time": "2022-06-30T19:28:14.026Z"
   },
   {
    "duration": 11,
    "start_time": "2022-06-30T19:29:14.675Z"
   },
   {
    "duration": 977,
    "start_time": "2022-06-30T19:29:26.909Z"
   },
   {
    "duration": 100,
    "start_time": "2022-06-30T19:36:02.499Z"
   },
   {
    "duration": 81,
    "start_time": "2022-06-30T19:36:11.268Z"
   },
   {
    "duration": 82,
    "start_time": "2022-06-30T19:36:20.177Z"
   },
   {
    "duration": 83,
    "start_time": "2022-06-30T19:36:21.347Z"
   },
   {
    "duration": 34,
    "start_time": "2022-06-30T19:53:41.850Z"
   },
   {
    "duration": 13,
    "start_time": "2022-06-30T19:53:42.361Z"
   },
   {
    "duration": 12,
    "start_time": "2022-06-30T19:53:42.937Z"
   },
   {
    "duration": 37,
    "start_time": "2022-06-30T20:06:54.389Z"
   },
   {
    "duration": 10,
    "start_time": "2022-06-30T20:07:42.742Z"
   },
   {
    "duration": 13,
    "start_time": "2022-06-30T20:08:17.077Z"
   },
   {
    "duration": 30,
    "start_time": "2022-06-30T20:08:41.879Z"
   },
   {
    "duration": 12,
    "start_time": "2022-06-30T20:08:51.627Z"
   },
   {
    "duration": 13,
    "start_time": "2022-06-30T20:09:45.323Z"
   },
   {
    "duration": 18,
    "start_time": "2022-06-30T20:13:01.301Z"
   },
   {
    "duration": 87,
    "start_time": "2022-06-30T20:13:10.927Z"
   },
   {
    "duration": 1322,
    "start_time": "2022-06-30T20:13:32.549Z"
   },
   {
    "duration": 2762,
    "start_time": "2022-06-30T20:13:33.873Z"
   },
   {
    "duration": 42,
    "start_time": "2022-06-30T20:13:36.637Z"
   },
   {
    "duration": 17,
    "start_time": "2022-06-30T20:13:36.682Z"
   },
   {
    "duration": 31,
    "start_time": "2022-06-30T20:13:36.701Z"
   },
   {
    "duration": 867,
    "start_time": "2022-06-30T20:13:36.735Z"
   },
   {
    "duration": 12,
    "start_time": "2022-06-30T20:13:37.604Z"
   },
   {
    "duration": 20,
    "start_time": "2022-06-30T20:13:37.618Z"
   },
   {
    "duration": 19,
    "start_time": "2022-06-30T20:13:37.640Z"
   },
   {
    "duration": 1341,
    "start_time": "2022-06-30T20:13:37.663Z"
   },
   {
    "duration": 12,
    "start_time": "2022-06-30T20:13:39.006Z"
   },
   {
    "duration": 11,
    "start_time": "2022-06-30T20:13:39.020Z"
   },
   {
    "duration": 11,
    "start_time": "2022-06-30T20:13:39.033Z"
   },
   {
    "duration": 47,
    "start_time": "2022-06-30T20:13:39.046Z"
   },
   {
    "duration": 30,
    "start_time": "2022-06-30T20:13:39.095Z"
   },
   {
    "duration": 9,
    "start_time": "2022-06-30T20:13:39.127Z"
   },
   {
    "duration": 26,
    "start_time": "2022-06-30T20:13:39.141Z"
   },
   {
    "duration": 34,
    "start_time": "2022-06-30T20:13:39.169Z"
   },
   {
    "duration": 14,
    "start_time": "2022-06-30T20:13:39.205Z"
   },
   {
    "duration": 14,
    "start_time": "2022-06-30T20:13:39.221Z"
   },
   {
    "duration": 42,
    "start_time": "2022-06-30T20:13:39.241Z"
   },
   {
    "duration": 17,
    "start_time": "2022-06-30T20:13:39.285Z"
   },
   {
    "duration": 43,
    "start_time": "2022-06-30T20:13:39.304Z"
   },
   {
    "duration": 28,
    "start_time": "2022-06-30T20:13:39.353Z"
   },
   {
    "duration": 19,
    "start_time": "2022-06-30T20:13:39.383Z"
   },
   {
    "duration": 16,
    "start_time": "2022-06-30T20:13:39.404Z"
   },
   {
    "duration": 28,
    "start_time": "2022-06-30T20:13:39.422Z"
   },
   {
    "duration": 18,
    "start_time": "2022-06-30T20:13:39.459Z"
   },
   {
    "duration": 94,
    "start_time": "2022-06-30T20:13:39.479Z"
   },
   {
    "duration": 6,
    "start_time": "2022-06-30T20:13:39.575Z"
   },
   {
    "duration": 18,
    "start_time": "2022-06-30T20:13:39.583Z"
   },
   {
    "duration": 108,
    "start_time": "2022-06-30T20:13:39.604Z"
   },
   {
    "duration": 95,
    "start_time": "2022-06-30T20:13:39.714Z"
   },
   {
    "duration": 47,
    "start_time": "2022-06-30T20:13:39.811Z"
   },
   {
    "duration": 12,
    "start_time": "2022-06-30T20:13:39.860Z"
   },
   {
    "duration": 15,
    "start_time": "2022-06-30T20:13:39.874Z"
   },
   {
    "duration": 66,
    "start_time": "2022-06-30T20:13:39.890Z"
   },
   {
    "duration": 52,
    "start_time": "2022-06-30T20:13:39.960Z"
   },
   {
    "duration": 4,
    "start_time": "2022-06-30T20:13:40.015Z"
   },
   {
    "duration": 38,
    "start_time": "2022-06-30T20:13:40.022Z"
   },
   {
    "duration": 76,
    "start_time": "2022-06-30T20:13:40.064Z"
   },
   {
    "duration": 0,
    "start_time": "2022-06-30T20:13:40.148Z"
   },
   {
    "duration": 0,
    "start_time": "2022-06-30T20:13:40.149Z"
   },
   {
    "duration": 0,
    "start_time": "2022-06-30T20:13:40.149Z"
   },
   {
    "duration": 10,
    "start_time": "2022-06-30T20:13:50.176Z"
   },
   {
    "duration": 23,
    "start_time": "2022-06-30T20:13:50.912Z"
   },
   {
    "duration": 69,
    "start_time": "2022-06-30T20:13:51.233Z"
   },
   {
    "duration": 72,
    "start_time": "2022-06-30T20:15:19.525Z"
   },
   {
    "duration": 71,
    "start_time": "2022-06-30T20:15:56.211Z"
   },
   {
    "duration": 51,
    "start_time": "2022-06-30T20:19:10.483Z"
   },
   {
    "duration": 38,
    "start_time": "2022-06-30T20:19:11.582Z"
   },
   {
    "duration": 72,
    "start_time": "2022-06-30T20:19:23.571Z"
   },
   {
    "duration": 68,
    "start_time": "2022-06-30T20:19:33.258Z"
   },
   {
    "duration": 1340,
    "start_time": "2022-06-30T20:19:42.197Z"
   },
   {
    "duration": 2021,
    "start_time": "2022-06-30T20:19:43.541Z"
   },
   {
    "duration": 42,
    "start_time": "2022-06-30T20:19:45.564Z"
   },
   {
    "duration": 5,
    "start_time": "2022-06-30T20:19:45.609Z"
   },
   {
    "duration": 37,
    "start_time": "2022-06-30T20:19:45.616Z"
   },
   {
    "duration": 854,
    "start_time": "2022-06-30T20:19:45.655Z"
   },
   {
    "duration": 16,
    "start_time": "2022-06-30T20:19:46.511Z"
   },
   {
    "duration": 9,
    "start_time": "2022-06-30T20:19:46.529Z"
   },
   {
    "duration": 33,
    "start_time": "2022-06-30T20:19:46.540Z"
   },
   {
    "duration": 1324,
    "start_time": "2022-06-30T20:19:46.576Z"
   },
   {
    "duration": 12,
    "start_time": "2022-06-30T20:19:47.902Z"
   },
   {
    "duration": 12,
    "start_time": "2022-06-30T20:19:47.915Z"
   },
   {
    "duration": 12,
    "start_time": "2022-06-30T20:19:47.929Z"
   },
   {
    "duration": 48,
    "start_time": "2022-06-30T20:19:47.943Z"
   },
   {
    "duration": 28,
    "start_time": "2022-06-30T20:19:47.992Z"
   },
   {
    "duration": 23,
    "start_time": "2022-06-30T20:19:48.023Z"
   },
   {
    "duration": 26,
    "start_time": "2022-06-30T20:19:48.052Z"
   },
   {
    "duration": 33,
    "start_time": "2022-06-30T20:19:48.080Z"
   },
   {
    "duration": 12,
    "start_time": "2022-06-30T20:19:48.115Z"
   },
   {
    "duration": 27,
    "start_time": "2022-06-30T20:19:48.129Z"
   },
   {
    "duration": 36,
    "start_time": "2022-06-30T20:19:48.158Z"
   },
   {
    "duration": 11,
    "start_time": "2022-06-30T20:19:48.196Z"
   },
   {
    "duration": 18,
    "start_time": "2022-06-30T20:19:48.209Z"
   },
   {
    "duration": 44,
    "start_time": "2022-06-30T20:19:48.229Z"
   },
   {
    "duration": 22,
    "start_time": "2022-06-30T20:19:48.274Z"
   },
   {
    "duration": 22,
    "start_time": "2022-06-30T20:19:48.298Z"
   },
   {
    "duration": 17,
    "start_time": "2022-06-30T20:19:48.321Z"
   },
   {
    "duration": 26,
    "start_time": "2022-06-30T20:19:48.342Z"
   },
   {
    "duration": 88,
    "start_time": "2022-06-30T20:19:48.370Z"
   },
   {
    "duration": 6,
    "start_time": "2022-06-30T20:19:48.460Z"
   },
   {
    "duration": 21,
    "start_time": "2022-06-30T20:19:48.468Z"
   },
   {
    "duration": 102,
    "start_time": "2022-06-30T20:19:48.490Z"
   },
   {
    "duration": 94,
    "start_time": "2022-06-30T20:19:48.594Z"
   },
   {
    "duration": 36,
    "start_time": "2022-06-30T20:19:48.689Z"
   },
   {
    "duration": 26,
    "start_time": "2022-06-30T20:19:48.728Z"
   },
   {
    "duration": 25,
    "start_time": "2022-06-30T20:19:48.760Z"
   },
   {
    "duration": 83,
    "start_time": "2022-06-30T20:19:48.787Z"
   },
   {
    "duration": 39,
    "start_time": "2022-06-30T20:19:48.872Z"
   },
   {
    "duration": 6,
    "start_time": "2022-06-30T20:19:48.913Z"
   },
   {
    "duration": 34,
    "start_time": "2022-06-30T20:19:48.921Z"
   },
   {
    "duration": 24,
    "start_time": "2022-06-30T20:19:48.962Z"
   },
   {
    "duration": 22,
    "start_time": "2022-06-30T20:19:48.989Z"
   },
   {
    "duration": 84,
    "start_time": "2022-06-30T20:19:49.013Z"
   },
   {
    "duration": 63,
    "start_time": "2022-06-30T20:20:01.307Z"
   },
   {
    "duration": 59,
    "start_time": "2022-06-30T20:20:56.530Z"
   },
   {
    "duration": 35,
    "start_time": "2022-06-30T20:20:57.754Z"
   },
   {
    "duration": 1348,
    "start_time": "2022-06-30T20:21:05.106Z"
   },
   {
    "duration": 1748,
    "start_time": "2022-06-30T20:21:06.459Z"
   },
   {
    "duration": 43,
    "start_time": "2022-06-30T20:21:08.208Z"
   },
   {
    "duration": 8,
    "start_time": "2022-06-30T20:21:08.255Z"
   },
   {
    "duration": 13,
    "start_time": "2022-06-30T20:21:08.264Z"
   },
   {
    "duration": 890,
    "start_time": "2022-06-30T20:21:08.279Z"
   },
   {
    "duration": 11,
    "start_time": "2022-06-30T20:21:09.171Z"
   },
   {
    "duration": 19,
    "start_time": "2022-06-30T20:21:09.184Z"
   },
   {
    "duration": 10,
    "start_time": "2022-06-30T20:21:09.205Z"
   },
   {
    "duration": 1422,
    "start_time": "2022-06-30T20:21:09.217Z"
   },
   {
    "duration": 16,
    "start_time": "2022-06-30T20:21:10.642Z"
   },
   {
    "duration": 13,
    "start_time": "2022-06-30T20:21:10.660Z"
   },
   {
    "duration": 26,
    "start_time": "2022-06-30T20:21:10.675Z"
   },
   {
    "duration": 56,
    "start_time": "2022-06-30T20:21:10.702Z"
   },
   {
    "duration": 42,
    "start_time": "2022-06-30T20:21:10.761Z"
   },
   {
    "duration": 32,
    "start_time": "2022-06-30T20:21:10.805Z"
   },
   {
    "duration": 39,
    "start_time": "2022-06-30T20:21:10.839Z"
   },
   {
    "duration": 56,
    "start_time": "2022-06-30T20:21:10.880Z"
   },
   {
    "duration": 24,
    "start_time": "2022-06-30T20:21:10.938Z"
   },
   {
    "duration": 29,
    "start_time": "2022-06-30T20:21:10.964Z"
   },
   {
    "duration": 63,
    "start_time": "2022-06-30T20:21:10.995Z"
   },
   {
    "duration": 12,
    "start_time": "2022-06-30T20:21:11.060Z"
   },
   {
    "duration": 17,
    "start_time": "2022-06-30T20:21:11.074Z"
   },
   {
    "duration": 32,
    "start_time": "2022-06-30T20:21:11.092Z"
   },
   {
    "duration": 42,
    "start_time": "2022-06-30T20:21:11.126Z"
   },
   {
    "duration": 22,
    "start_time": "2022-06-30T20:21:11.171Z"
   },
   {
    "duration": 21,
    "start_time": "2022-06-30T20:21:11.195Z"
   },
   {
    "duration": 46,
    "start_time": "2022-06-30T20:21:11.221Z"
   },
   {
    "duration": 96,
    "start_time": "2022-06-30T20:21:11.270Z"
   },
   {
    "duration": 5,
    "start_time": "2022-06-30T20:21:11.368Z"
   },
   {
    "duration": 15,
    "start_time": "2022-06-30T20:21:11.375Z"
   },
   {
    "duration": 102,
    "start_time": "2022-06-30T20:21:11.392Z"
   },
   {
    "duration": 95,
    "start_time": "2022-06-30T20:21:11.497Z"
   },
   {
    "duration": 62,
    "start_time": "2022-06-30T20:21:11.595Z"
   },
   {
    "duration": 12,
    "start_time": "2022-06-30T20:21:11.658Z"
   },
   {
    "duration": 18,
    "start_time": "2022-06-30T20:21:11.672Z"
   },
   {
    "duration": 100,
    "start_time": "2022-06-30T20:21:11.692Z"
   },
   {
    "duration": 54,
    "start_time": "2022-06-30T20:21:11.794Z"
   },
   {
    "duration": 9,
    "start_time": "2022-06-30T20:21:11.850Z"
   },
   {
    "duration": 18,
    "start_time": "2022-06-30T20:21:11.861Z"
   },
   {
    "duration": 32,
    "start_time": "2022-06-30T20:21:11.881Z"
   },
   {
    "duration": 39,
    "start_time": "2022-06-30T20:21:11.915Z"
   },
   {
    "duration": 67,
    "start_time": "2022-06-30T20:21:11.956Z"
   },
   {
    "duration": 81,
    "start_time": "2022-06-30T20:21:23.129Z"
   },
   {
    "duration": 76,
    "start_time": "2022-06-30T20:23:36.161Z"
   },
   {
    "duration": 82,
    "start_time": "2022-06-30T20:24:06.858Z"
   },
   {
    "duration": 40,
    "start_time": "2022-06-30T20:24:08.085Z"
   },
   {
    "duration": 1307,
    "start_time": "2022-06-30T20:24:17.215Z"
   },
   {
    "duration": 1555,
    "start_time": "2022-06-30T20:24:18.525Z"
   },
   {
    "duration": 42,
    "start_time": "2022-06-30T20:24:20.082Z"
   },
   {
    "duration": 26,
    "start_time": "2022-06-30T20:24:20.126Z"
   },
   {
    "duration": 15,
    "start_time": "2022-06-30T20:24:20.158Z"
   },
   {
    "duration": 949,
    "start_time": "2022-06-30T20:24:20.174Z"
   },
   {
    "duration": 12,
    "start_time": "2022-06-30T20:24:21.125Z"
   },
   {
    "duration": 23,
    "start_time": "2022-06-30T20:24:21.139Z"
   },
   {
    "duration": 12,
    "start_time": "2022-06-30T20:24:21.164Z"
   },
   {
    "duration": 1096,
    "start_time": "2022-06-30T20:24:21.179Z"
   },
   {
    "duration": 13,
    "start_time": "2022-06-30T20:24:22.278Z"
   },
   {
    "duration": 9,
    "start_time": "2022-06-30T20:24:22.293Z"
   },
   {
    "duration": 8,
    "start_time": "2022-06-30T20:24:22.304Z"
   },
   {
    "duration": 39,
    "start_time": "2022-06-30T20:24:22.313Z"
   },
   {
    "duration": 46,
    "start_time": "2022-06-30T20:24:22.354Z"
   },
   {
    "duration": 10,
    "start_time": "2022-06-30T20:24:22.402Z"
   },
   {
    "duration": 34,
    "start_time": "2022-06-30T20:24:22.415Z"
   },
   {
    "duration": 39,
    "start_time": "2022-06-30T20:24:22.460Z"
   },
   {
    "duration": 14,
    "start_time": "2022-06-30T20:24:22.501Z"
   },
   {
    "duration": 10,
    "start_time": "2022-06-30T20:24:22.517Z"
   },
   {
    "duration": 49,
    "start_time": "2022-06-30T20:24:22.529Z"
   },
   {
    "duration": 11,
    "start_time": "2022-06-30T20:24:22.579Z"
   },
   {
    "duration": 20,
    "start_time": "2022-06-30T20:24:22.592Z"
   },
   {
    "duration": 59,
    "start_time": "2022-06-30T20:24:22.614Z"
   },
   {
    "duration": 19,
    "start_time": "2022-06-30T20:24:22.675Z"
   },
   {
    "duration": 14,
    "start_time": "2022-06-30T20:24:22.696Z"
   },
   {
    "duration": 32,
    "start_time": "2022-06-30T20:24:22.712Z"
   },
   {
    "duration": 18,
    "start_time": "2022-06-30T20:24:22.748Z"
   },
   {
    "duration": 94,
    "start_time": "2022-06-30T20:24:22.768Z"
   },
   {
    "duration": 5,
    "start_time": "2022-06-30T20:24:22.864Z"
   },
   {
    "duration": 15,
    "start_time": "2022-06-30T20:24:22.871Z"
   },
   {
    "duration": 107,
    "start_time": "2022-06-30T20:24:22.888Z"
   },
   {
    "duration": 94,
    "start_time": "2022-06-30T20:24:22.996Z"
   },
   {
    "duration": 32,
    "start_time": "2022-06-30T20:24:23.092Z"
   },
   {
    "duration": 30,
    "start_time": "2022-06-30T20:24:23.126Z"
   },
   {
    "duration": 16,
    "start_time": "2022-06-30T20:24:23.157Z"
   },
   {
    "duration": 114,
    "start_time": "2022-06-30T20:24:23.175Z"
   },
   {
    "duration": 37,
    "start_time": "2022-06-30T20:24:23.291Z"
   },
   {
    "duration": 16,
    "start_time": "2022-06-30T20:24:23.330Z"
   },
   {
    "duration": 24,
    "start_time": "2022-06-30T20:24:23.350Z"
   },
   {
    "duration": 36,
    "start_time": "2022-06-30T20:24:23.376Z"
   },
   {
    "duration": 38,
    "start_time": "2022-06-30T20:24:23.414Z"
   },
   {
    "duration": 69,
    "start_time": "2022-06-30T20:24:23.453Z"
   },
   {
    "duration": 133,
    "start_time": "2022-06-30T20:24:23.524Z"
   },
   {
    "duration": 11,
    "start_time": "2022-06-30T20:25:06.924Z"
   },
   {
    "duration": 65,
    "start_time": "2022-06-30T20:25:16.793Z"
   },
   {
    "duration": 48,
    "start_time": "2022-06-30T20:25:23.158Z"
   },
   {
    "duration": 24,
    "start_time": "2022-06-30T20:25:48.712Z"
   },
   {
    "duration": 6,
    "start_time": "2022-06-30T20:26:02.404Z"
   },
   {
    "duration": 84,
    "start_time": "2022-06-30T20:26:21.026Z"
   },
   {
    "duration": 11,
    "start_time": "2022-06-30T20:26:26.858Z"
   },
   {
    "duration": 5,
    "start_time": "2022-06-30T20:26:39.828Z"
   },
   {
    "duration": 6,
    "start_time": "2022-06-30T20:26:53.394Z"
   },
   {
    "duration": 86,
    "start_time": "2022-06-30T20:28:03.026Z"
   },
   {
    "duration": 5,
    "start_time": "2022-06-30T20:28:22.363Z"
   },
   {
    "duration": 5,
    "start_time": "2022-06-30T20:28:33.359Z"
   },
   {
    "duration": 54,
    "start_time": "2022-07-01T08:38:17.695Z"
   },
   {
    "duration": 1500,
    "start_time": "2022-07-01T08:38:22.588Z"
   },
   {
    "duration": 2397,
    "start_time": "2022-07-01T08:38:24.090Z"
   },
   {
    "duration": 44,
    "start_time": "2022-07-01T08:38:26.489Z"
   },
   {
    "duration": 10,
    "start_time": "2022-07-01T08:38:26.535Z"
   },
   {
    "duration": 17,
    "start_time": "2022-07-01T08:38:26.546Z"
   },
   {
    "duration": 872,
    "start_time": "2022-07-01T08:38:26.565Z"
   },
   {
    "duration": 12,
    "start_time": "2022-07-01T08:38:27.442Z"
   },
   {
    "duration": 9,
    "start_time": "2022-07-01T08:38:27.455Z"
   },
   {
    "duration": 10,
    "start_time": "2022-07-01T08:38:27.465Z"
   },
   {
    "duration": 1079,
    "start_time": "2022-07-01T08:38:27.477Z"
   },
   {
    "duration": 10,
    "start_time": "2022-07-01T08:38:28.558Z"
   },
   {
    "duration": 9,
    "start_time": "2022-07-01T08:38:28.570Z"
   },
   {
    "duration": 10,
    "start_time": "2022-07-01T08:38:28.580Z"
   },
   {
    "duration": 37,
    "start_time": "2022-07-01T08:38:28.591Z"
   },
   {
    "duration": 36,
    "start_time": "2022-07-01T08:38:28.630Z"
   },
   {
    "duration": 12,
    "start_time": "2022-07-01T08:38:28.667Z"
   },
   {
    "duration": 17,
    "start_time": "2022-07-01T08:38:28.681Z"
   },
   {
    "duration": 56,
    "start_time": "2022-07-01T08:38:28.700Z"
   },
   {
    "duration": 14,
    "start_time": "2022-07-01T08:38:28.758Z"
   },
   {
    "duration": 10,
    "start_time": "2022-07-01T08:38:28.774Z"
   },
   {
    "duration": 61,
    "start_time": "2022-07-01T08:38:28.786Z"
   },
   {
    "duration": 18,
    "start_time": "2022-07-01T08:38:28.849Z"
   },
   {
    "duration": 20,
    "start_time": "2022-07-01T08:38:28.868Z"
   },
   {
    "duration": 51,
    "start_time": "2022-07-01T08:38:28.890Z"
   },
   {
    "duration": 23,
    "start_time": "2022-07-01T08:38:28.944Z"
   },
   {
    "duration": 17,
    "start_time": "2022-07-01T08:38:28.969Z"
   },
   {
    "duration": 17,
    "start_time": "2022-07-01T08:38:28.989Z"
   },
   {
    "duration": 24,
    "start_time": "2022-07-01T08:38:29.023Z"
   },
   {
    "duration": 84,
    "start_time": "2022-07-01T08:38:29.049Z"
   },
   {
    "duration": 9,
    "start_time": "2022-07-01T08:38:29.135Z"
   },
   {
    "duration": 13,
    "start_time": "2022-07-01T08:38:29.146Z"
   },
   {
    "duration": 106,
    "start_time": "2022-07-01T08:38:29.161Z"
   },
   {
    "duration": 95,
    "start_time": "2022-07-01T08:38:29.269Z"
   },
   {
    "duration": 33,
    "start_time": "2022-07-01T08:38:29.365Z"
   },
   {
    "duration": 8,
    "start_time": "2022-07-01T08:38:29.400Z"
   },
   {
    "duration": 15,
    "start_time": "2022-07-01T08:38:29.423Z"
   },
   {
    "duration": 106,
    "start_time": "2022-07-01T08:38:29.441Z"
   },
   {
    "duration": 37,
    "start_time": "2022-07-01T08:38:29.549Z"
   },
   {
    "duration": 3,
    "start_time": "2022-07-01T08:38:29.588Z"
   },
   {
    "duration": 13,
    "start_time": "2022-07-01T08:38:29.593Z"
   },
   {
    "duration": 50,
    "start_time": "2022-07-01T08:38:29.607Z"
   },
   {
    "duration": 12,
    "start_time": "2022-07-01T08:38:29.659Z"
   },
   {
    "duration": 4,
    "start_time": "2022-07-01T08:38:29.673Z"
   },
   {
    "duration": 83,
    "start_time": "2022-07-01T08:38:29.678Z"
   },
   {
    "duration": 44,
    "start_time": "2022-07-01T08:38:29.763Z"
   },
   {
    "duration": 7,
    "start_time": "2022-07-01T08:38:29.823Z"
   },
   {
    "duration": 15,
    "start_time": "2022-07-01T08:38:55.627Z"
   },
   {
    "duration": 521,
    "start_time": "2022-07-01T08:39:35.391Z"
   },
   {
    "duration": 15,
    "start_time": "2022-07-01T08:40:38.281Z"
   },
   {
    "duration": 5,
    "start_time": "2022-07-01T08:41:50.129Z"
   },
   {
    "duration": 5,
    "start_time": "2022-07-01T08:42:07.995Z"
   },
   {
    "duration": 12,
    "start_time": "2022-07-01T08:45:03.995Z"
   },
   {
    "duration": 11,
    "start_time": "2022-07-01T08:45:17.139Z"
   },
   {
    "duration": 12,
    "start_time": "2022-07-01T08:45:45.832Z"
   },
   {
    "duration": 41,
    "start_time": "2022-07-01T08:46:04.748Z"
   },
   {
    "duration": 11,
    "start_time": "2022-07-01T08:46:11.617Z"
   },
   {
    "duration": 6,
    "start_time": "2022-07-01T08:48:31.716Z"
   },
   {
    "duration": 3,
    "start_time": "2022-07-01T08:48:44.276Z"
   },
   {
    "duration": 6,
    "start_time": "2022-07-01T08:48:53.864Z"
   },
   {
    "duration": 10,
    "start_time": "2022-07-01T08:49:07.063Z"
   },
   {
    "duration": 5,
    "start_time": "2022-07-01T08:50:12.840Z"
   },
   {
    "duration": 9,
    "start_time": "2022-07-01T08:50:21.337Z"
   },
   {
    "duration": 15,
    "start_time": "2022-07-01T08:51:02.615Z"
   },
   {
    "duration": 10,
    "start_time": "2022-07-01T08:51:38.731Z"
   },
   {
    "duration": 1179,
    "start_time": "2022-07-01T08:51:49.939Z"
   },
   {
    "duration": 2416,
    "start_time": "2022-07-01T08:51:51.120Z"
   },
   {
    "duration": 36,
    "start_time": "2022-07-01T08:51:53.538Z"
   },
   {
    "duration": 5,
    "start_time": "2022-07-01T08:51:53.576Z"
   },
   {
    "duration": 22,
    "start_time": "2022-07-01T08:51:53.582Z"
   },
   {
    "duration": 1186,
    "start_time": "2022-07-01T08:51:53.606Z"
   },
   {
    "duration": 10,
    "start_time": "2022-07-01T08:51:54.795Z"
   },
   {
    "duration": 8,
    "start_time": "2022-07-01T08:51:54.806Z"
   },
   {
    "duration": 10,
    "start_time": "2022-07-01T08:51:54.815Z"
   },
   {
    "duration": 1051,
    "start_time": "2022-07-01T08:51:54.829Z"
   },
   {
    "duration": 10,
    "start_time": "2022-07-01T08:51:55.882Z"
   },
   {
    "duration": 8,
    "start_time": "2022-07-01T08:51:55.893Z"
   },
   {
    "duration": 13,
    "start_time": "2022-07-01T08:51:55.902Z"
   },
   {
    "duration": 46,
    "start_time": "2022-07-01T08:51:55.916Z"
   },
   {
    "duration": 31,
    "start_time": "2022-07-01T08:51:55.964Z"
   },
   {
    "duration": 10,
    "start_time": "2022-07-01T08:51:55.996Z"
   },
   {
    "duration": 26,
    "start_time": "2022-07-01T08:51:56.008Z"
   },
   {
    "duration": 40,
    "start_time": "2022-07-01T08:51:56.036Z"
   },
   {
    "duration": 12,
    "start_time": "2022-07-01T08:51:56.077Z"
   },
   {
    "duration": 12,
    "start_time": "2022-07-01T08:51:56.090Z"
   },
   {
    "duration": 49,
    "start_time": "2022-07-01T08:51:56.103Z"
   },
   {
    "duration": 10,
    "start_time": "2022-07-01T08:51:56.154Z"
   },
   {
    "duration": 20,
    "start_time": "2022-07-01T08:51:56.165Z"
   },
   {
    "duration": 27,
    "start_time": "2022-07-01T08:51:56.187Z"
   },
   {
    "duration": 23,
    "start_time": "2022-07-01T08:51:56.216Z"
   },
   {
    "duration": 14,
    "start_time": "2022-07-01T08:51:56.240Z"
   },
   {
    "duration": 10,
    "start_time": "2022-07-01T08:51:56.256Z"
   },
   {
    "duration": 14,
    "start_time": "2022-07-01T08:51:56.269Z"
   },
   {
    "duration": 93,
    "start_time": "2022-07-01T08:51:56.284Z"
   },
   {
    "duration": 5,
    "start_time": "2022-07-01T08:51:56.379Z"
   },
   {
    "duration": 17,
    "start_time": "2022-07-01T08:51:56.385Z"
   },
   {
    "duration": 80,
    "start_time": "2022-07-01T08:51:56.403Z"
   },
   {
    "duration": 77,
    "start_time": "2022-07-01T08:51:56.485Z"
   },
   {
    "duration": 32,
    "start_time": "2022-07-01T08:51:56.563Z"
   },
   {
    "duration": 8,
    "start_time": "2022-07-01T08:51:56.597Z"
   },
   {
    "duration": 9,
    "start_time": "2022-07-01T08:51:56.623Z"
   },
   {
    "duration": 93,
    "start_time": "2022-07-01T08:51:56.634Z"
   },
   {
    "duration": 34,
    "start_time": "2022-07-01T08:51:56.728Z"
   },
   {
    "duration": 4,
    "start_time": "2022-07-01T08:51:56.763Z"
   },
   {
    "duration": 17,
    "start_time": "2022-07-01T08:51:56.768Z"
   },
   {
    "duration": 36,
    "start_time": "2022-07-01T08:51:56.787Z"
   },
   {
    "duration": 11,
    "start_time": "2022-07-01T08:51:56.825Z"
   },
   {
    "duration": 8,
    "start_time": "2022-07-01T08:51:56.837Z"
   },
   {
    "duration": 7,
    "start_time": "2022-07-01T08:51:56.846Z"
   },
   {
    "duration": 13,
    "start_time": "2022-07-01T08:51:56.855Z"
   },
   {
    "duration": 13,
    "start_time": "2022-07-01T08:51:56.869Z"
   },
   {
    "duration": 55,
    "start_time": "2022-07-01T08:51:56.884Z"
   },
   {
    "duration": 11,
    "start_time": "2022-07-01T08:51:56.941Z"
   },
   {
    "duration": 7,
    "start_time": "2022-07-01T08:51:56.954Z"
   },
   {
    "duration": 4,
    "start_time": "2022-07-01T08:51:56.962Z"
   },
   {
    "duration": 8,
    "start_time": "2022-07-01T08:51:56.967Z"
   },
   {
    "duration": 109,
    "start_time": "2022-07-01T08:51:56.976Z"
   },
   {
    "duration": 0,
    "start_time": "2022-07-01T08:51:57.087Z"
   },
   {
    "duration": 0,
    "start_time": "2022-07-01T08:51:57.088Z"
   },
   {
    "duration": 0,
    "start_time": "2022-07-01T08:51:57.089Z"
   },
   {
    "duration": 0,
    "start_time": "2022-07-01T08:51:57.090Z"
   },
   {
    "duration": 19,
    "start_time": "2022-07-01T08:52:16.314Z"
   },
   {
    "duration": 65,
    "start_time": "2022-07-01T08:54:03.714Z"
   },
   {
    "duration": 35,
    "start_time": "2022-07-01T08:54:04.343Z"
   },
   {
    "duration": 4,
    "start_time": "2022-07-01T08:54:04.828Z"
   },
   {
    "duration": 11,
    "start_time": "2022-07-01T08:54:05.422Z"
   },
   {
    "duration": 10,
    "start_time": "2022-07-01T08:54:07.147Z"
   },
   {
    "duration": 19,
    "start_time": "2022-07-01T08:54:07.570Z"
   },
   {
    "duration": 1220,
    "start_time": "2022-07-01T08:55:17.811Z"
   },
   {
    "duration": 2389,
    "start_time": "2022-07-01T08:55:19.033Z"
   },
   {
    "duration": 36,
    "start_time": "2022-07-01T08:55:21.424Z"
   },
   {
    "duration": 5,
    "start_time": "2022-07-01T08:55:21.462Z"
   },
   {
    "duration": 13,
    "start_time": "2022-07-01T08:55:21.468Z"
   },
   {
    "duration": 867,
    "start_time": "2022-07-01T08:55:21.482Z"
   },
   {
    "duration": 10,
    "start_time": "2022-07-01T08:55:22.351Z"
   },
   {
    "duration": 11,
    "start_time": "2022-07-01T08:55:22.363Z"
   },
   {
    "duration": 13,
    "start_time": "2022-07-01T08:55:22.375Z"
   },
   {
    "duration": 1170,
    "start_time": "2022-07-01T08:55:22.391Z"
   },
   {
    "duration": 10,
    "start_time": "2022-07-01T08:55:23.563Z"
   },
   {
    "duration": 8,
    "start_time": "2022-07-01T08:55:23.574Z"
   },
   {
    "duration": 10,
    "start_time": "2022-07-01T08:55:23.583Z"
   },
   {
    "duration": 34,
    "start_time": "2022-07-01T08:55:23.595Z"
   },
   {
    "duration": 28,
    "start_time": "2022-07-01T08:55:23.631Z"
   },
   {
    "duration": 9,
    "start_time": "2022-07-01T08:55:23.661Z"
   },
   {
    "duration": 15,
    "start_time": "2022-07-01T08:55:23.671Z"
   },
   {
    "duration": 44,
    "start_time": "2022-07-01T08:55:23.688Z"
   },
   {
    "duration": 12,
    "start_time": "2022-07-01T08:55:23.734Z"
   },
   {
    "duration": 14,
    "start_time": "2022-07-01T08:55:23.748Z"
   },
   {
    "duration": 33,
    "start_time": "2022-07-01T08:55:23.763Z"
   },
   {
    "duration": 10,
    "start_time": "2022-07-01T08:55:23.798Z"
   },
   {
    "duration": 14,
    "start_time": "2022-07-01T08:55:23.823Z"
   },
   {
    "duration": 24,
    "start_time": "2022-07-01T08:55:23.839Z"
   },
   {
    "duration": 18,
    "start_time": "2022-07-01T08:55:23.864Z"
   },
   {
    "duration": 15,
    "start_time": "2022-07-01T08:55:23.883Z"
   },
   {
    "duration": 9,
    "start_time": "2022-07-01T08:55:23.923Z"
   },
   {
    "duration": 17,
    "start_time": "2022-07-01T08:55:23.936Z"
   },
   {
    "duration": 89,
    "start_time": "2022-07-01T08:55:23.955Z"
   },
   {
    "duration": 5,
    "start_time": "2022-07-01T08:55:24.046Z"
   },
   {
    "duration": 14,
    "start_time": "2022-07-01T08:55:24.053Z"
   },
   {
    "duration": 88,
    "start_time": "2022-07-01T08:55:24.069Z"
   },
   {
    "duration": 86,
    "start_time": "2022-07-01T08:55:24.158Z"
   },
   {
    "duration": 36,
    "start_time": "2022-07-01T08:55:24.245Z"
   },
   {
    "duration": 10,
    "start_time": "2022-07-01T08:55:24.282Z"
   },
   {
    "duration": 30,
    "start_time": "2022-07-01T08:55:24.294Z"
   },
   {
    "duration": 84,
    "start_time": "2022-07-01T08:55:24.326Z"
   },
   {
    "duration": 43,
    "start_time": "2022-07-01T08:55:24.411Z"
   },
   {
    "duration": 3,
    "start_time": "2022-07-01T08:55:24.456Z"
   },
   {
    "duration": 14,
    "start_time": "2022-07-01T08:55:24.460Z"
   },
   {
    "duration": 28,
    "start_time": "2022-07-01T08:55:24.476Z"
   },
   {
    "duration": 34,
    "start_time": "2022-07-01T08:55:24.506Z"
   },
   {
    "duration": 110,
    "start_time": "2022-07-01T08:55:24.541Z"
   },
   {
    "duration": 0,
    "start_time": "2022-07-01T08:55:24.652Z"
   },
   {
    "duration": 0,
    "start_time": "2022-07-01T08:55:24.654Z"
   },
   {
    "duration": 0,
    "start_time": "2022-07-01T08:55:24.655Z"
   },
   {
    "duration": 0,
    "start_time": "2022-07-01T08:55:24.656Z"
   },
   {
    "duration": 0,
    "start_time": "2022-07-01T08:55:24.657Z"
   },
   {
    "duration": 0,
    "start_time": "2022-07-01T08:55:24.658Z"
   },
   {
    "duration": 0,
    "start_time": "2022-07-01T08:55:24.659Z"
   },
   {
    "duration": 1,
    "start_time": "2022-07-01T08:55:24.660Z"
   },
   {
    "duration": 0,
    "start_time": "2022-07-01T08:55:24.662Z"
   },
   {
    "duration": 0,
    "start_time": "2022-07-01T08:55:24.663Z"
   },
   {
    "duration": 0,
    "start_time": "2022-07-01T08:55:24.664Z"
   },
   {
    "duration": 0,
    "start_time": "2022-07-01T08:55:24.665Z"
   },
   {
    "duration": 11,
    "start_time": "2022-07-01T08:56:46.436Z"
   },
   {
    "duration": 22,
    "start_time": "2022-07-01T08:57:34.343Z"
   },
   {
    "duration": 11,
    "start_time": "2022-07-01T08:57:43.751Z"
   },
   {
    "duration": 15,
    "start_time": "2022-07-01T08:58:18.667Z"
   },
   {
    "duration": 5,
    "start_time": "2022-07-01T10:22:27.122Z"
   },
   {
    "duration": 1411,
    "start_time": "2022-07-02T15:38:56.596Z"
   },
   {
    "duration": 2166,
    "start_time": "2022-07-02T15:38:58.009Z"
   },
   {
    "duration": 34,
    "start_time": "2022-07-02T15:39:00.176Z"
   },
   {
    "duration": 5,
    "start_time": "2022-07-02T15:39:00.212Z"
   },
   {
    "duration": 10,
    "start_time": "2022-07-02T15:39:00.229Z"
   },
   {
    "duration": 1309,
    "start_time": "2022-07-02T15:39:00.241Z"
   },
   {
    "duration": 10,
    "start_time": "2022-07-02T15:39:01.551Z"
   },
   {
    "duration": 15,
    "start_time": "2022-07-02T15:39:01.562Z"
   },
   {
    "duration": 11,
    "start_time": "2022-07-02T15:39:01.579Z"
   },
   {
    "duration": 1340,
    "start_time": "2022-07-02T15:39:01.593Z"
   },
   {
    "duration": 10,
    "start_time": "2022-07-02T15:39:02.934Z"
   },
   {
    "duration": 19,
    "start_time": "2022-07-02T15:39:02.946Z"
   },
   {
    "duration": 8,
    "start_time": "2022-07-02T15:39:02.966Z"
   },
   {
    "duration": 30,
    "start_time": "2022-07-02T15:39:02.976Z"
   },
   {
    "duration": 27,
    "start_time": "2022-07-02T15:39:03.008Z"
   },
   {
    "duration": 12,
    "start_time": "2022-07-02T15:39:03.037Z"
   },
   {
    "duration": 20,
    "start_time": "2022-07-02T15:39:03.051Z"
   },
   {
    "duration": 26,
    "start_time": "2022-07-02T15:39:03.073Z"
   },
   {
    "duration": 32,
    "start_time": "2022-07-02T15:39:03.100Z"
   },
   {
    "duration": 13,
    "start_time": "2022-07-02T15:39:03.133Z"
   },
   {
    "duration": 32,
    "start_time": "2022-07-02T15:39:03.148Z"
   },
   {
    "duration": 12,
    "start_time": "2022-07-02T15:39:03.182Z"
   },
   {
    "duration": 19,
    "start_time": "2022-07-02T15:39:03.195Z"
   },
   {
    "duration": 33,
    "start_time": "2022-07-02T15:39:03.216Z"
   },
   {
    "duration": 17,
    "start_time": "2022-07-02T15:39:03.250Z"
   },
   {
    "duration": 15,
    "start_time": "2022-07-02T15:39:03.269Z"
   },
   {
    "duration": 9,
    "start_time": "2022-07-02T15:39:03.285Z"
   },
   {
    "duration": 13,
    "start_time": "2022-07-02T15:39:03.297Z"
   },
   {
    "duration": 66,
    "start_time": "2022-07-02T15:39:03.329Z"
   },
   {
    "duration": 4,
    "start_time": "2022-07-02T15:39:03.397Z"
   },
   {
    "duration": 11,
    "start_time": "2022-07-02T15:39:03.402Z"
   },
   {
    "duration": 66,
    "start_time": "2022-07-02T15:39:03.429Z"
   },
   {
    "duration": 92,
    "start_time": "2022-07-02T15:39:03.497Z"
   },
   {
    "duration": 46,
    "start_time": "2022-07-02T15:39:03.591Z"
   },
   {
    "duration": 10,
    "start_time": "2022-07-02T15:39:03.638Z"
   },
   {
    "duration": 15,
    "start_time": "2022-07-02T15:39:03.649Z"
   },
   {
    "duration": 101,
    "start_time": "2022-07-02T15:39:03.666Z"
   },
   {
    "duration": 31,
    "start_time": "2022-07-02T15:39:03.769Z"
   },
   {
    "duration": 4,
    "start_time": "2022-07-02T15:39:03.801Z"
   },
   {
    "duration": 27,
    "start_time": "2022-07-02T15:39:03.806Z"
   },
   {
    "duration": 112,
    "start_time": "2022-07-02T15:39:03.835Z"
   },
   {
    "duration": 0,
    "start_time": "2022-07-02T15:39:03.949Z"
   },
   {
    "duration": 0,
    "start_time": "2022-07-02T15:39:03.950Z"
   },
   {
    "duration": 0,
    "start_time": "2022-07-02T15:39:03.952Z"
   },
   {
    "duration": 0,
    "start_time": "2022-07-02T15:39:03.953Z"
   },
   {
    "duration": 0,
    "start_time": "2022-07-02T15:39:03.954Z"
   },
   {
    "duration": 0,
    "start_time": "2022-07-02T15:39:03.956Z"
   },
   {
    "duration": 0,
    "start_time": "2022-07-02T15:39:03.957Z"
   },
   {
    "duration": 0,
    "start_time": "2022-07-02T15:39:03.958Z"
   },
   {
    "duration": 0,
    "start_time": "2022-07-02T15:39:03.960Z"
   },
   {
    "duration": 0,
    "start_time": "2022-07-02T15:39:03.961Z"
   },
   {
    "duration": 0,
    "start_time": "2022-07-02T15:39:03.962Z"
   },
   {
    "duration": 0,
    "start_time": "2022-07-02T15:39:03.963Z"
   },
   {
    "duration": 0,
    "start_time": "2022-07-02T15:39:03.964Z"
   },
   {
    "duration": 0,
    "start_time": "2022-07-02T15:39:03.965Z"
   },
   {
    "duration": 0,
    "start_time": "2022-07-02T15:39:03.966Z"
   },
   {
    "duration": 0,
    "start_time": "2022-07-02T15:39:03.967Z"
   },
   {
    "duration": 122,
    "start_time": "2022-07-02T15:53:07.516Z"
   },
   {
    "duration": 24,
    "start_time": "2022-07-02T15:53:09.378Z"
   },
   {
    "duration": 19,
    "start_time": "2022-07-02T15:53:09.885Z"
   },
   {
    "duration": 19,
    "start_time": "2022-07-02T15:53:30.733Z"
   },
   {
    "duration": 5,
    "start_time": "2022-07-02T15:53:31.967Z"
   },
   {
    "duration": 10,
    "start_time": "2022-07-02T15:53:32.929Z"
   },
   {
    "duration": 5,
    "start_time": "2022-07-02T15:53:50.885Z"
   },
   {
    "duration": 10,
    "start_time": "2022-07-02T15:54:02.293Z"
   },
   {
    "duration": 5,
    "start_time": "2022-07-02T15:54:12.524Z"
   },
   {
    "duration": 4,
    "start_time": "2022-07-02T15:54:22.697Z"
   },
   {
    "duration": 4,
    "start_time": "2022-07-02T15:54:28.301Z"
   },
   {
    "duration": 5,
    "start_time": "2022-07-02T15:54:36.904Z"
   },
   {
    "duration": 20,
    "start_time": "2022-07-02T16:01:26.626Z"
   },
   {
    "duration": 10,
    "start_time": "2022-07-02T16:01:34.590Z"
   },
   {
    "duration": 9,
    "start_time": "2022-07-02T16:02:03.628Z"
   },
   {
    "duration": 15,
    "start_time": "2022-07-02T16:02:18.851Z"
   },
   {
    "duration": 10,
    "start_time": "2022-07-02T16:02:39.207Z"
   },
   {
    "duration": 8,
    "start_time": "2022-07-02T16:02:52.207Z"
   },
   {
    "duration": 23,
    "start_time": "2022-07-02T16:03:07.327Z"
   },
   {
    "duration": 17,
    "start_time": "2022-07-02T16:03:24.039Z"
   },
   {
    "duration": 2153,
    "start_time": "2022-07-05T20:12:35.319Z"
   },
   {
    "duration": 2238,
    "start_time": "2022-07-05T20:12:37.481Z"
   },
   {
    "duration": 56,
    "start_time": "2022-07-05T20:12:39.721Z"
   },
   {
    "duration": 68,
    "start_time": "2022-07-05T20:12:39.779Z"
   },
   {
    "duration": 108,
    "start_time": "2022-07-05T20:12:39.849Z"
   },
   {
    "duration": 1038,
    "start_time": "2022-07-05T20:12:39.959Z"
   },
   {
    "duration": 14,
    "start_time": "2022-07-05T20:12:41.005Z"
   },
   {
    "duration": 14,
    "start_time": "2022-07-05T20:12:41.021Z"
   },
   {
    "duration": 95,
    "start_time": "2022-07-05T20:12:41.037Z"
   },
   {
    "duration": 1822,
    "start_time": "2022-07-05T20:12:41.138Z"
   },
   {
    "duration": 26,
    "start_time": "2022-07-05T20:12:42.962Z"
   },
   {
    "duration": 31,
    "start_time": "2022-07-05T20:12:42.992Z"
   },
   {
    "duration": 12,
    "start_time": "2022-07-05T20:12:43.025Z"
   },
   {
    "duration": 126,
    "start_time": "2022-07-05T20:12:43.040Z"
   },
   {
    "duration": 105,
    "start_time": "2022-07-05T20:12:43.168Z"
   },
   {
    "duration": 76,
    "start_time": "2022-07-05T20:12:43.276Z"
   },
   {
    "duration": 107,
    "start_time": "2022-07-05T20:12:43.354Z"
   },
   {
    "duration": 110,
    "start_time": "2022-07-05T20:12:43.463Z"
   },
   {
    "duration": 59,
    "start_time": "2022-07-05T20:12:43.575Z"
   },
   {
    "duration": 76,
    "start_time": "2022-07-05T20:12:43.636Z"
   },
   {
    "duration": 37,
    "start_time": "2022-07-05T20:12:43.714Z"
   },
   {
    "duration": 69,
    "start_time": "2022-07-05T20:12:43.752Z"
   },
   {
    "duration": 24,
    "start_time": "2022-07-05T20:12:43.823Z"
   },
   {
    "duration": 76,
    "start_time": "2022-07-05T20:12:43.856Z"
   },
   {
    "duration": 49,
    "start_time": "2022-07-05T20:12:43.934Z"
   },
   {
    "duration": 99,
    "start_time": "2022-07-05T20:12:43.992Z"
   },
   {
    "duration": 26,
    "start_time": "2022-07-05T20:12:44.096Z"
   },
   {
    "duration": 98,
    "start_time": "2022-07-05T20:12:44.133Z"
   },
   {
    "duration": 141,
    "start_time": "2022-07-05T20:12:44.234Z"
   },
   {
    "duration": 6,
    "start_time": "2022-07-05T20:12:44.376Z"
   },
   {
    "duration": 130,
    "start_time": "2022-07-05T20:12:44.383Z"
   },
   {
    "duration": 132,
    "start_time": "2022-07-05T20:12:44.515Z"
   },
   {
    "duration": 124,
    "start_time": "2022-07-05T20:12:44.653Z"
   },
   {
    "duration": 54,
    "start_time": "2022-07-05T20:12:44.783Z"
   },
   {
    "duration": 68,
    "start_time": "2022-07-05T20:12:44.842Z"
   },
   {
    "duration": 48,
    "start_time": "2022-07-05T20:12:44.916Z"
   },
   {
    "duration": 272,
    "start_time": "2022-07-05T20:12:44.972Z"
   },
   {
    "duration": 97,
    "start_time": "2022-07-05T20:12:45.256Z"
   },
   {
    "duration": 139,
    "start_time": "2022-07-05T20:12:45.365Z"
   },
   {
    "duration": 127,
    "start_time": "2022-07-05T20:12:45.509Z"
   },
   {
    "duration": 39,
    "start_time": "2022-07-05T20:12:45.639Z"
   },
   {
    "duration": 45,
    "start_time": "2022-07-05T20:12:45.685Z"
   },
   {
    "duration": 97,
    "start_time": "2022-07-05T20:12:45.732Z"
   },
   {
    "duration": 19,
    "start_time": "2022-07-05T20:12:45.832Z"
   },
   {
    "duration": 873,
    "start_time": "2022-07-05T20:12:45.853Z"
   },
   {
    "duration": 31,
    "start_time": "2022-07-05T20:12:46.728Z"
   },
   {
    "duration": 133,
    "start_time": "2022-07-05T20:12:46.762Z"
   },
   {
    "duration": 4,
    "start_time": "2022-07-05T20:12:46.902Z"
   },
   {
    "duration": 28,
    "start_time": "2022-07-05T20:12:46.909Z"
   },
   {
    "duration": 324,
    "start_time": "2022-07-05T20:12:46.939Z"
   },
   {
    "duration": 8,
    "start_time": "2022-07-05T20:12:47.268Z"
   },
   {
    "duration": 43,
    "start_time": "2022-07-05T20:12:47.281Z"
   },
   {
    "duration": 11,
    "start_time": "2022-07-05T20:12:47.326Z"
   },
   {
    "duration": 289,
    "start_time": "2022-07-05T20:12:47.339Z"
   },
   {
    "duration": 27,
    "start_time": "2022-07-05T20:12:47.630Z"
   },
   {
    "duration": 49,
    "start_time": "2022-07-05T20:12:47.666Z"
   },
   {
    "duration": 16,
    "start_time": "2022-07-05T20:12:47.718Z"
   },
   {
    "duration": 260,
    "start_time": "2022-07-05T20:12:47.737Z"
   },
   {
    "duration": 26,
    "start_time": "2022-07-05T20:12:47.999Z"
   },
   {
    "duration": 33,
    "start_time": "2022-07-05T20:12:48.028Z"
   },
   {
    "duration": 60,
    "start_time": "2022-07-05T20:12:48.065Z"
   },
   {
    "duration": 332,
    "start_time": "2022-07-05T20:12:48.127Z"
   },
   {
    "duration": 46,
    "start_time": "2022-07-05T20:12:48.464Z"
   },
   {
    "duration": 70,
    "start_time": "2022-07-05T20:12:48.513Z"
   },
   {
    "duration": 25,
    "start_time": "2022-07-05T20:12:48.589Z"
   },
   {
    "duration": 6,
    "start_time": "2022-07-05T20:12:48.616Z"
   },
   {
    "duration": 21,
    "start_time": "2022-07-05T20:12:48.623Z"
   },
   {
    "duration": 67,
    "start_time": "2022-07-05T20:12:48.649Z"
   },
   {
    "duration": 16,
    "start_time": "2022-07-05T20:12:48.720Z"
   },
   {
    "duration": 197,
    "start_time": "2022-07-05T20:12:48.738Z"
   },
   {
    "duration": 38,
    "start_time": "2022-07-05T20:12:48.946Z"
   },
   {
    "duration": 65,
    "start_time": "2022-07-05T20:12:48.990Z"
   },
   {
    "duration": 142,
    "start_time": "2022-07-05T20:12:49.060Z"
   },
   {
    "duration": 59,
    "start_time": "2022-07-05T20:12:49.204Z"
   },
   {
    "duration": 80,
    "start_time": "2022-07-05T20:12:49.265Z"
   },
   {
    "duration": 108,
    "start_time": "2022-07-05T20:12:49.355Z"
   },
   {
    "duration": 16,
    "start_time": "2022-07-05T20:12:49.468Z"
   },
   {
    "duration": 79,
    "start_time": "2022-07-05T20:12:49.489Z"
   },
   {
    "duration": 125,
    "start_time": "2022-07-05T20:12:49.582Z"
   },
   {
    "duration": 40,
    "start_time": "2022-07-05T20:12:49.713Z"
   },
   {
    "duration": 93,
    "start_time": "2022-07-05T20:12:49.755Z"
   },
   {
    "duration": 50,
    "start_time": "2022-07-05T20:12:49.861Z"
   },
   {
    "duration": 36,
    "start_time": "2022-07-05T20:12:49.913Z"
   },
   {
    "duration": 34,
    "start_time": "2022-07-05T20:12:49.956Z"
   },
   {
    "duration": 45,
    "start_time": "2022-07-05T20:12:49.994Z"
   },
   {
    "duration": 74,
    "start_time": "2022-07-05T20:12:50.041Z"
   },
   {
    "duration": 29,
    "start_time": "2022-07-05T20:12:50.119Z"
   },
   {
    "duration": 14,
    "start_time": "2022-07-05T20:12:50.150Z"
   },
   {
    "duration": 136,
    "start_time": "2022-07-05T20:12:50.166Z"
   },
   {
    "duration": 9,
    "start_time": "2022-07-05T20:12:50.304Z"
   },
   {
    "duration": 14,
    "start_time": "2022-07-05T20:12:50.314Z"
   },
   {
    "duration": 27,
    "start_time": "2022-07-05T20:12:50.330Z"
   },
   {
    "duration": 58,
    "start_time": "2022-07-05T20:12:50.363Z"
   },
   {
    "duration": 12,
    "start_time": "2022-07-05T20:12:50.423Z"
   },
   {
    "duration": 111,
    "start_time": "2022-07-05T20:12:50.437Z"
   },
   {
    "duration": 69,
    "start_time": "2022-07-05T20:12:50.553Z"
   },
   {
    "duration": 5,
    "start_time": "2022-07-05T20:12:50.624Z"
   },
   {
    "duration": 31,
    "start_time": "2022-07-05T20:12:50.632Z"
   },
   {
    "duration": 50,
    "start_time": "2022-07-05T20:12:50.665Z"
   },
   {
    "duration": 12,
    "start_time": "2022-07-05T20:12:50.718Z"
   },
   {
    "duration": 293,
    "start_time": "2022-07-05T20:12:50.733Z"
   },
   {
    "duration": 5,
    "start_time": "2022-07-05T20:12:51.029Z"
   },
   {
    "duration": 143,
    "start_time": "2022-07-05T20:12:51.036Z"
   },
   {
    "duration": 18,
    "start_time": "2022-07-05T20:12:51.184Z"
   },
   {
    "duration": 81,
    "start_time": "2022-07-05T20:12:51.210Z"
   },
   {
    "duration": 54,
    "start_time": "2022-07-05T20:12:51.293Z"
   },
   {
    "duration": 439,
    "start_time": "2022-07-05T20:12:51.351Z"
   },
   {
    "duration": 65,
    "start_time": "2022-07-05T20:12:51.796Z"
   },
   {
    "duration": 268,
    "start_time": "2022-07-05T20:12:51.867Z"
   },
   {
    "duration": 79,
    "start_time": "2022-07-05T20:12:52.137Z"
   },
   {
    "duration": 54,
    "start_time": "2022-07-05T20:12:52.220Z"
   },
   {
    "duration": 69,
    "start_time": "2022-07-05T20:12:52.281Z"
   },
   {
    "duration": 2515,
    "start_time": "2022-07-05T20:12:52.352Z"
   },
   {
    "duration": 165,
    "start_time": "2022-07-05T20:12:54.874Z"
   },
   {
    "duration": 19,
    "start_time": "2022-07-05T20:12:55.043Z"
   },
   {
    "duration": 135,
    "start_time": "2022-07-05T20:12:55.065Z"
   },
   {
    "duration": 78,
    "start_time": "2022-07-05T20:12:55.202Z"
   },
   {
    "duration": 39,
    "start_time": "2022-07-05T20:12:55.282Z"
   },
   {
    "duration": 26,
    "start_time": "2022-07-05T20:12:55.326Z"
   },
   {
    "duration": 240,
    "start_time": "2022-07-05T20:12:55.359Z"
   },
   {
    "duration": 112,
    "start_time": "2022-07-05T20:12:55.607Z"
   },
   {
    "duration": 150,
    "start_time": "2022-07-05T20:12:55.725Z"
   },
   {
    "duration": 51,
    "start_time": "2022-07-05T20:12:55.887Z"
   },
   {
    "duration": 98,
    "start_time": "2022-07-05T20:12:55.942Z"
   },
   {
    "duration": 135,
    "start_time": "2022-07-05T20:12:56.044Z"
   },
   {
    "duration": 108,
    "start_time": "2022-07-05T20:12:56.184Z"
   },
   {
    "duration": 89,
    "start_time": "2022-07-05T20:12:56.294Z"
   },
   {
    "duration": 43,
    "start_time": "2022-07-05T20:12:56.385Z"
   },
   {
    "duration": 139,
    "start_time": "2022-07-05T20:12:56.432Z"
   },
   {
    "duration": 162,
    "start_time": "2022-07-05T20:12:56.573Z"
   },
   {
    "duration": 2454,
    "start_time": "2022-07-05T20:12:56.737Z"
   },
   {
    "duration": 25,
    "start_time": "2022-07-05T20:12:59.192Z"
   },
   {
    "duration": 83,
    "start_time": "2022-07-05T20:12:59.219Z"
   },
   {
    "duration": 156,
    "start_time": "2022-07-05T20:12:59.304Z"
   },
   {
    "duration": 77,
    "start_time": "2022-07-05T20:12:59.462Z"
   },
   {
    "duration": 190,
    "start_time": "2022-07-05T20:12:59.548Z"
   },
   {
    "duration": 280,
    "start_time": "2022-07-05T20:12:59.745Z"
   },
   {
    "duration": 130,
    "start_time": "2022-07-05T20:13:00.032Z"
   },
   {
    "duration": 11,
    "start_time": "2022-07-05T20:13:00.174Z"
   },
   {
    "duration": 52,
    "start_time": "2022-07-05T20:13:00.192Z"
   },
   {
    "duration": 85,
    "start_time": "2022-07-05T20:13:00.255Z"
   },
   {
    "duration": 97,
    "start_time": "2022-07-05T20:13:00.342Z"
   },
   {
    "duration": 76,
    "start_time": "2022-07-05T20:13:00.441Z"
   },
   {
    "duration": 45,
    "start_time": "2022-07-05T20:13:00.522Z"
   },
   {
    "duration": 51,
    "start_time": "2022-07-05T20:13:00.579Z"
   },
   {
    "duration": 10,
    "start_time": "2022-07-05T20:13:00.633Z"
   },
   {
    "duration": 115,
    "start_time": "2022-07-05T20:13:00.645Z"
   },
   {
    "duration": 55,
    "start_time": "2022-07-05T20:13:00.766Z"
   },
   {
    "duration": 96,
    "start_time": "2022-07-05T20:13:00.827Z"
   },
   {
    "duration": 89,
    "start_time": "2022-07-05T20:13:00.927Z"
   },
   {
    "duration": 3987,
    "start_time": "2022-07-05T20:13:01.019Z"
   },
   {
    "duration": 468,
    "start_time": "2022-07-05T20:13:05.009Z"
   },
   {
    "duration": 1802,
    "start_time": "2022-07-05T20:13:30.161Z"
   },
   {
    "duration": 2184,
    "start_time": "2022-07-05T20:29:09.939Z"
   },
   {
    "duration": 1404,
    "start_time": "2022-07-05T20:29:21.998Z"
   },
   {
    "duration": 2320,
    "start_time": "2022-07-05T20:29:23.404Z"
   },
   {
    "duration": 36,
    "start_time": "2022-07-05T20:29:25.726Z"
   },
   {
    "duration": 32,
    "start_time": "2022-07-05T20:29:25.767Z"
   },
   {
    "duration": 19,
    "start_time": "2022-07-05T20:29:25.802Z"
   },
   {
    "duration": 1199,
    "start_time": "2022-07-05T20:29:25.823Z"
   },
   {
    "duration": 11,
    "start_time": "2022-07-05T20:29:27.024Z"
   },
   {
    "duration": 10,
    "start_time": "2022-07-05T20:29:27.037Z"
   },
   {
    "duration": 46,
    "start_time": "2022-07-05T20:29:27.049Z"
   },
   {
    "duration": 1404,
    "start_time": "2022-07-05T20:29:27.098Z"
   },
   {
    "duration": 13,
    "start_time": "2022-07-05T20:29:28.504Z"
   },
   {
    "duration": 11,
    "start_time": "2022-07-05T20:29:28.519Z"
   },
   {
    "duration": 27,
    "start_time": "2022-07-05T20:29:28.533Z"
   },
   {
    "duration": 59,
    "start_time": "2022-07-05T20:29:28.567Z"
   },
   {
    "duration": 47,
    "start_time": "2022-07-05T20:29:28.628Z"
   },
   {
    "duration": 19,
    "start_time": "2022-07-05T20:29:28.682Z"
   },
   {
    "duration": 19,
    "start_time": "2022-07-05T20:29:28.702Z"
   },
   {
    "duration": 45,
    "start_time": "2022-07-05T20:29:28.723Z"
   },
   {
    "duration": 14,
    "start_time": "2022-07-05T20:29:28.770Z"
   },
   {
    "duration": 25,
    "start_time": "2022-07-05T20:29:28.787Z"
   },
   {
    "duration": 42,
    "start_time": "2022-07-05T20:29:28.814Z"
   },
   {
    "duration": 40,
    "start_time": "2022-07-05T20:29:28.860Z"
   },
   {
    "duration": 19,
    "start_time": "2022-07-05T20:29:28.902Z"
   },
   {
    "duration": 42,
    "start_time": "2022-07-05T20:29:28.922Z"
   },
   {
    "duration": 43,
    "start_time": "2022-07-05T20:29:28.966Z"
   },
   {
    "duration": 16,
    "start_time": "2022-07-05T20:29:29.011Z"
   },
   {
    "duration": 14,
    "start_time": "2022-07-05T20:29:29.028Z"
   },
   {
    "duration": 41,
    "start_time": "2022-07-05T20:29:29.048Z"
   },
   {
    "duration": 97,
    "start_time": "2022-07-05T20:29:29.093Z"
   },
   {
    "duration": 7,
    "start_time": "2022-07-05T20:29:29.193Z"
   },
   {
    "duration": 12,
    "start_time": "2022-07-05T20:29:29.202Z"
   },
   {
    "duration": 111,
    "start_time": "2022-07-05T20:29:29.216Z"
   },
   {
    "duration": 99,
    "start_time": "2022-07-05T20:29:29.328Z"
   },
   {
    "duration": 57,
    "start_time": "2022-07-05T20:29:29.429Z"
   },
   {
    "duration": 22,
    "start_time": "2022-07-05T20:29:29.487Z"
   },
   {
    "duration": 15,
    "start_time": "2022-07-05T20:29:29.511Z"
   },
   {
    "duration": 129,
    "start_time": "2022-07-05T20:29:29.528Z"
   },
   {
    "duration": 45,
    "start_time": "2022-07-05T20:29:29.664Z"
   },
   {
    "duration": 4,
    "start_time": "2022-07-05T20:29:29.711Z"
   },
   {
    "duration": 15,
    "start_time": "2022-07-05T20:29:29.717Z"
   },
   {
    "duration": 53,
    "start_time": "2022-07-05T20:29:29.733Z"
   },
   {
    "duration": 17,
    "start_time": "2022-07-05T20:29:29.793Z"
   },
   {
    "duration": 11,
    "start_time": "2022-07-05T20:29:29.812Z"
   },
   {
    "duration": 37,
    "start_time": "2022-07-05T20:29:29.825Z"
   },
   {
    "duration": 550,
    "start_time": "2022-07-05T20:29:29.871Z"
   },
   {
    "duration": 38,
    "start_time": "2022-07-05T20:29:30.423Z"
   },
   {
    "duration": 66,
    "start_time": "2022-07-05T20:29:30.475Z"
   },
   {
    "duration": 7,
    "start_time": "2022-07-05T20:29:30.545Z"
   },
   {
    "duration": 44,
    "start_time": "2022-07-05T20:29:30.554Z"
   },
   {
    "duration": 224,
    "start_time": "2022-07-05T20:29:30.600Z"
   },
   {
    "duration": 6,
    "start_time": "2022-07-05T20:29:30.826Z"
   },
   {
    "duration": 29,
    "start_time": "2022-07-05T20:29:30.845Z"
   },
   {
    "duration": 12,
    "start_time": "2022-07-05T20:29:30.876Z"
   },
   {
    "duration": 203,
    "start_time": "2022-07-05T20:29:30.891Z"
   },
   {
    "duration": 8,
    "start_time": "2022-07-05T20:29:31.096Z"
   },
   {
    "duration": 24,
    "start_time": "2022-07-05T20:29:31.106Z"
   },
   {
    "duration": 65,
    "start_time": "2022-07-05T20:29:31.133Z"
   },
   {
    "duration": 234,
    "start_time": "2022-07-05T20:29:31.200Z"
   },
   {
    "duration": 24,
    "start_time": "2022-07-05T20:29:31.436Z"
   },
   {
    "duration": 49,
    "start_time": "2022-07-05T20:29:31.463Z"
   },
   {
    "duration": 20,
    "start_time": "2022-07-05T20:29:31.514Z"
   },
   {
    "duration": 262,
    "start_time": "2022-07-05T20:29:31.536Z"
   },
   {
    "duration": 33,
    "start_time": "2022-07-05T20:29:31.800Z"
   },
   {
    "duration": 37,
    "start_time": "2022-07-05T20:29:31.842Z"
   },
   {
    "duration": 22,
    "start_time": "2022-07-05T20:29:31.892Z"
   },
   {
    "duration": 5,
    "start_time": "2022-07-05T20:29:31.916Z"
   },
   {
    "duration": 31,
    "start_time": "2022-07-05T20:29:31.923Z"
   },
   {
    "duration": 44,
    "start_time": "2022-07-05T20:29:31.963Z"
   },
   {
    "duration": 19,
    "start_time": "2022-07-05T20:29:32.009Z"
   },
   {
    "duration": 84,
    "start_time": "2022-07-05T20:29:32.030Z"
   },
   {
    "duration": 20,
    "start_time": "2022-07-05T20:29:32.116Z"
   },
   {
    "duration": 87,
    "start_time": "2022-07-05T20:29:32.140Z"
   },
   {
    "duration": 42,
    "start_time": "2022-07-05T20:29:32.229Z"
   },
   {
    "duration": 29,
    "start_time": "2022-07-05T20:29:32.275Z"
   },
   {
    "duration": 21,
    "start_time": "2022-07-05T20:29:32.306Z"
   },
   {
    "duration": 73,
    "start_time": "2022-07-05T20:29:32.328Z"
   },
   {
    "duration": 16,
    "start_time": "2022-07-05T20:29:32.403Z"
   },
   {
    "duration": 40,
    "start_time": "2022-07-05T20:29:32.422Z"
   },
   {
    "duration": 43,
    "start_time": "2022-07-05T20:29:32.466Z"
   },
   {
    "duration": 19,
    "start_time": "2022-07-05T20:29:32.511Z"
   },
   {
    "duration": 24,
    "start_time": "2022-07-05T20:29:32.532Z"
   },
   {
    "duration": 50,
    "start_time": "2022-07-05T20:29:32.570Z"
   },
   {
    "duration": 17,
    "start_time": "2022-07-05T20:29:32.621Z"
   },
   {
    "duration": 17,
    "start_time": "2022-07-05T20:29:32.640Z"
   },
   {
    "duration": 60,
    "start_time": "2022-07-05T20:29:32.660Z"
   },
   {
    "duration": 59,
    "start_time": "2022-07-05T20:29:32.722Z"
   },
   {
    "duration": 32,
    "start_time": "2022-07-05T20:29:32.783Z"
   },
   {
    "duration": 13,
    "start_time": "2022-07-05T20:29:32.817Z"
   },
   {
    "duration": 86,
    "start_time": "2022-07-05T20:29:32.832Z"
   },
   {
    "duration": 6,
    "start_time": "2022-07-05T20:29:32.919Z"
   },
   {
    "duration": 23,
    "start_time": "2022-07-05T20:29:32.926Z"
   },
   {
    "duration": 56,
    "start_time": "2022-07-05T20:29:32.959Z"
   },
   {
    "duration": 24,
    "start_time": "2022-07-05T20:29:33.018Z"
   },
   {
    "duration": 47,
    "start_time": "2022-07-05T20:29:33.046Z"
   },
   {
    "duration": 59,
    "start_time": "2022-07-05T20:29:33.095Z"
   },
   {
    "duration": 62,
    "start_time": "2022-07-05T20:29:33.156Z"
   },
   {
    "duration": 4,
    "start_time": "2022-07-05T20:29:33.220Z"
   },
   {
    "duration": 35,
    "start_time": "2022-07-05T20:29:33.225Z"
   },
   {
    "duration": 25,
    "start_time": "2022-07-05T20:29:33.269Z"
   },
   {
    "duration": 10,
    "start_time": "2022-07-05T20:29:33.296Z"
   },
   {
    "duration": 209,
    "start_time": "2022-07-05T20:29:33.307Z"
   },
   {
    "duration": 5,
    "start_time": "2022-07-05T20:29:33.518Z"
   },
   {
    "duration": 60,
    "start_time": "2022-07-05T20:29:33.525Z"
   },
   {
    "duration": 9,
    "start_time": "2022-07-05T20:29:33.587Z"
   },
   {
    "duration": 110,
    "start_time": "2022-07-05T20:29:33.598Z"
   },
   {
    "duration": 81,
    "start_time": "2022-07-05T20:29:33.710Z"
   },
   {
    "duration": 281,
    "start_time": "2022-07-05T20:29:33.793Z"
   },
   {
    "duration": 37,
    "start_time": "2022-07-05T20:29:34.076Z"
   },
   {
    "duration": 254,
    "start_time": "2022-07-05T20:29:34.115Z"
   },
   {
    "duration": 60,
    "start_time": "2022-07-05T20:29:34.377Z"
   },
   {
    "duration": 63,
    "start_time": "2022-07-05T20:29:34.440Z"
   },
   {
    "duration": 32,
    "start_time": "2022-07-05T20:29:34.505Z"
   },
   {
    "duration": 2035,
    "start_time": "2022-07-05T20:29:34.540Z"
   },
   {
    "duration": 152,
    "start_time": "2022-07-05T20:29:36.584Z"
   },
   {
    "duration": 29,
    "start_time": "2022-07-05T20:29:36.739Z"
   },
   {
    "duration": 96,
    "start_time": "2022-07-05T20:29:36.770Z"
   },
   {
    "duration": 42,
    "start_time": "2022-07-05T20:29:36.873Z"
   },
   {
    "duration": 16,
    "start_time": "2022-07-05T20:29:36.918Z"
   },
   {
    "duration": 64,
    "start_time": "2022-07-05T20:29:36.937Z"
   },
   {
    "duration": 85,
    "start_time": "2022-07-05T20:29:37.003Z"
   },
   {
    "duration": 19,
    "start_time": "2022-07-05T20:29:37.095Z"
   },
   {
    "duration": 75,
    "start_time": "2022-07-05T20:29:37.116Z"
   },
   {
    "duration": 22,
    "start_time": "2022-07-05T20:29:37.207Z"
   },
   {
    "duration": 50,
    "start_time": "2022-07-05T20:29:37.231Z"
   },
   {
    "duration": 58,
    "start_time": "2022-07-05T20:29:37.290Z"
   },
   {
    "duration": 25,
    "start_time": "2022-07-05T20:29:37.350Z"
   },
   {
    "duration": 61,
    "start_time": "2022-07-05T20:29:37.377Z"
   },
   {
    "duration": 66,
    "start_time": "2022-07-05T20:29:37.441Z"
   },
   {
    "duration": 22,
    "start_time": "2022-07-05T20:29:37.509Z"
   },
   {
    "duration": 44,
    "start_time": "2022-07-05T20:29:37.533Z"
   },
   {
    "duration": 1839,
    "start_time": "2022-07-05T20:29:37.584Z"
   },
   {
    "duration": 27,
    "start_time": "2022-07-05T20:29:39.425Z"
   },
   {
    "duration": 25,
    "start_time": "2022-07-05T20:29:39.462Z"
   },
   {
    "duration": 30,
    "start_time": "2022-07-05T20:29:39.493Z"
   },
   {
    "duration": 5,
    "start_time": "2022-07-05T20:29:39.524Z"
   },
   {
    "duration": 38,
    "start_time": "2022-07-05T20:29:39.531Z"
   },
   {
    "duration": 48,
    "start_time": "2022-07-05T20:29:39.574Z"
   },
   {
    "duration": 14,
    "start_time": "2022-07-05T20:29:39.624Z"
   },
   {
    "duration": 15,
    "start_time": "2022-07-05T20:29:39.640Z"
   },
   {
    "duration": 40,
    "start_time": "2022-07-05T20:29:39.664Z"
   },
   {
    "duration": 7,
    "start_time": "2022-07-05T20:29:39.707Z"
   },
   {
    "duration": 11,
    "start_time": "2022-07-05T20:29:39.716Z"
   },
   {
    "duration": 29,
    "start_time": "2022-07-05T20:29:39.729Z"
   },
   {
    "duration": 55,
    "start_time": "2022-07-05T20:29:39.762Z"
   },
   {
    "duration": 6,
    "start_time": "2022-07-05T20:29:39.819Z"
   },
   {
    "duration": 8,
    "start_time": "2022-07-05T20:29:39.827Z"
   },
   {
    "duration": 12,
    "start_time": "2022-07-05T20:29:39.837Z"
   },
   {
    "duration": 58,
    "start_time": "2022-07-05T20:29:39.851Z"
   },
   {
    "duration": 8,
    "start_time": "2022-07-05T20:29:39.911Z"
   },
   {
    "duration": 6,
    "start_time": "2022-07-05T20:29:39.920Z"
   },
   {
    "duration": 2679,
    "start_time": "2022-07-05T20:29:39.928Z"
   },
   {
    "duration": 478,
    "start_time": "2022-07-05T20:29:42.609Z"
   },
   {
    "duration": 566,
    "start_time": "2022-07-05T20:32:32.330Z"
   },
   {
    "duration": 118,
    "start_time": "2022-07-05T20:44:10.214Z"
   },
   {
    "duration": 26,
    "start_time": "2022-07-05T20:44:21.473Z"
   },
   {
    "duration": 17,
    "start_time": "2022-07-05T20:44:28.466Z"
   },
   {
    "duration": 1436,
    "start_time": "2022-07-05T20:47:20.661Z"
   },
   {
    "duration": 71,
    "start_time": "2022-07-05T20:47:28.609Z"
   },
   {
    "duration": 13,
    "start_time": "2022-07-05T20:48:03.393Z"
   },
   {
    "duration": 91,
    "start_time": "2022-07-05T20:48:15.635Z"
   },
   {
    "duration": 6,
    "start_time": "2022-07-05T21:05:39.414Z"
   },
   {
    "duration": 14,
    "start_time": "2022-07-05T23:05:19.762Z"
   },
   {
    "duration": 46,
    "start_time": "2022-07-05T23:07:44.418Z"
   },
   {
    "duration": 4,
    "start_time": "2022-07-05T23:10:03.329Z"
   },
   {
    "duration": 4,
    "start_time": "2022-07-05T23:10:13.259Z"
   },
   {
    "duration": 1432,
    "start_time": "2022-07-06T07:53:36.292Z"
   },
   {
    "duration": 144,
    "start_time": "2022-07-06T07:53:41.664Z"
   },
   {
    "duration": 689,
    "start_time": "2022-07-06T07:53:55.264Z"
   },
   {
    "duration": 37,
    "start_time": "2022-07-06T07:53:58.532Z"
   },
   {
    "duration": 6,
    "start_time": "2022-07-06T07:54:04.255Z"
   },
   {
    "duration": 12,
    "start_time": "2022-07-06T07:54:05.666Z"
   },
   {
    "duration": 60,
    "start_time": "2022-07-06T07:54:57.644Z"
   },
   {
    "duration": 34,
    "start_time": "2022-07-06T08:02:13.504Z"
   },
   {
    "duration": 29,
    "start_time": "2022-07-06T08:02:30.574Z"
   },
   {
    "duration": 11,
    "start_time": "2022-07-06T08:02:31.404Z"
   },
   {
    "duration": 14,
    "start_time": "2022-07-06T08:02:52.962Z"
   },
   {
    "duration": 10,
    "start_time": "2022-07-06T08:02:53.742Z"
   },
   {
    "duration": 56,
    "start_time": "2022-07-06T08:05:15.651Z"
   },
   {
    "duration": 44,
    "start_time": "2022-07-06T08:18:50.193Z"
   },
   {
    "duration": 11,
    "start_time": "2022-07-06T08:18:58.704Z"
   },
   {
    "duration": 12,
    "start_time": "2022-07-06T08:19:00.177Z"
   },
   {
    "duration": 39,
    "start_time": "2022-07-06T08:19:05.011Z"
   },
   {
    "duration": 13,
    "start_time": "2022-07-06T08:19:06.304Z"
   },
   {
    "duration": 15,
    "start_time": "2022-07-06T08:19:06.894Z"
   },
   {
    "duration": 10,
    "start_time": "2022-07-06T08:30:46.000Z"
   },
   {
    "duration": 12,
    "start_time": "2022-07-06T08:30:47.171Z"
   },
   {
    "duration": 14,
    "start_time": "2022-07-06T08:30:48.120Z"
   },
   {
    "duration": 12,
    "start_time": "2022-07-06T08:31:04.585Z"
   },
   {
    "duration": 42,
    "start_time": "2022-07-06T08:31:04.707Z"
   },
   {
    "duration": 19,
    "start_time": "2022-07-06T08:31:13.297Z"
   },
   {
    "duration": 46,
    "start_time": "2022-07-06T08:31:13.913Z"
   },
   {
    "duration": 10,
    "start_time": "2022-07-06T08:31:14.560Z"
   },
   {
    "duration": 38,
    "start_time": "2022-07-06T08:31:51.389Z"
   },
   {
    "duration": 34,
    "start_time": "2022-07-06T08:31:52.207Z"
   },
   {
    "duration": 21,
    "start_time": "2022-07-06T08:32:10.997Z"
   },
   {
    "duration": 28,
    "start_time": "2022-07-06T08:32:31.377Z"
   },
   {
    "duration": 10,
    "start_time": "2022-07-06T08:32:31.884Z"
   },
   {
    "duration": 10,
    "start_time": "2022-07-06T08:32:52.472Z"
   },
   {
    "duration": 595,
    "start_time": "2022-07-06T08:33:14.312Z"
   },
   {
    "duration": 16,
    "start_time": "2022-07-06T08:33:15.112Z"
   },
   {
    "duration": 18,
    "start_time": "2022-07-06T08:33:42.474Z"
   },
   {
    "duration": 555,
    "start_time": "2022-07-06T08:33:43.475Z"
   },
   {
    "duration": 18,
    "start_time": "2022-07-06T08:34:03.787Z"
   },
   {
    "duration": 20,
    "start_time": "2022-07-06T08:34:05.836Z"
   },
   {
    "duration": 18,
    "start_time": "2022-07-06T08:34:11.706Z"
   },
   {
    "duration": 11,
    "start_time": "2022-07-06T08:34:23.757Z"
   },
   {
    "duration": 39,
    "start_time": "2022-07-06T08:34:24.716Z"
   },
   {
    "duration": 38,
    "start_time": "2022-07-06T08:34:32.096Z"
   },
   {
    "duration": 23,
    "start_time": "2022-07-06T08:34:33.052Z"
   },
   {
    "duration": 24,
    "start_time": "2022-07-06T08:34:33.457Z"
   },
   {
    "duration": 1297,
    "start_time": "2022-07-06T08:35:11.966Z"
   },
   {
    "duration": 208,
    "start_time": "2022-07-06T08:35:13.265Z"
   },
   {
    "duration": 35,
    "start_time": "2022-07-06T08:35:13.474Z"
   },
   {
    "duration": 5,
    "start_time": "2022-07-06T08:35:13.511Z"
   },
   {
    "duration": 18,
    "start_time": "2022-07-06T08:35:13.517Z"
   },
   {
    "duration": 9,
    "start_time": "2022-07-06T08:35:13.537Z"
   },
   {
    "duration": 22,
    "start_time": "2022-07-06T08:35:13.547Z"
   },
   {
    "duration": 6,
    "start_time": "2022-07-06T08:35:13.571Z"
   },
   {
    "duration": 10,
    "start_time": "2022-07-06T08:35:13.579Z"
   },
   {
    "duration": 26,
    "start_time": "2022-07-06T08:35:13.591Z"
   },
   {
    "duration": 10,
    "start_time": "2022-07-06T08:35:13.619Z"
   },
   {
    "duration": 6,
    "start_time": "2022-07-06T08:35:13.630Z"
   },
   {
    "duration": 9,
    "start_time": "2022-07-06T08:35:13.638Z"
   },
   {
    "duration": 48,
    "start_time": "2022-07-06T08:35:13.648Z"
   },
   {
    "duration": 30,
    "start_time": "2022-07-06T08:35:13.698Z"
   },
   {
    "duration": 14,
    "start_time": "2022-07-06T08:35:13.730Z"
   },
   {
    "duration": 28,
    "start_time": "2022-07-06T08:35:13.746Z"
   },
   {
    "duration": 31,
    "start_time": "2022-07-06T08:35:13.776Z"
   },
   {
    "duration": 12,
    "start_time": "2022-07-06T08:35:13.808Z"
   },
   {
    "duration": 13,
    "start_time": "2022-07-06T08:35:13.822Z"
   },
   {
    "duration": 45,
    "start_time": "2022-07-06T08:35:13.837Z"
   },
   {
    "duration": 10,
    "start_time": "2022-07-06T08:35:13.883Z"
   },
   {
    "duration": 29,
    "start_time": "2022-07-06T08:35:13.895Z"
   },
   {
    "duration": 30,
    "start_time": "2022-07-06T08:35:13.925Z"
   },
   {
    "duration": 16,
    "start_time": "2022-07-06T08:35:13.957Z"
   },
   {
    "duration": 37,
    "start_time": "2022-07-06T08:35:13.974Z"
   },
   {
    "duration": 28,
    "start_time": "2022-07-06T08:35:14.013Z"
   },
   {
    "duration": 46,
    "start_time": "2022-07-06T08:35:14.045Z"
   },
   {
    "duration": 44,
    "start_time": "2022-07-06T08:35:14.093Z"
   },
   {
    "duration": 25,
    "start_time": "2022-07-06T08:35:14.139Z"
   },
   {
    "duration": 25,
    "start_time": "2022-07-06T08:35:14.165Z"
   },
   {
    "duration": 39,
    "start_time": "2022-07-06T08:35:14.192Z"
   },
   {
    "duration": 94,
    "start_time": "2022-07-06T08:35:14.232Z"
   },
   {
    "duration": 5,
    "start_time": "2022-07-06T08:35:14.327Z"
   },
   {
    "duration": 17,
    "start_time": "2022-07-06T08:35:14.333Z"
   },
   {
    "duration": 91,
    "start_time": "2022-07-06T08:35:14.351Z"
   },
   {
    "duration": 91,
    "start_time": "2022-07-06T08:35:14.444Z"
   },
   {
    "duration": 43,
    "start_time": "2022-07-06T08:35:14.537Z"
   },
   {
    "duration": 10,
    "start_time": "2022-07-06T08:35:14.582Z"
   },
   {
    "duration": 12,
    "start_time": "2022-07-06T08:35:14.594Z"
   },
   {
    "duration": 103,
    "start_time": "2022-07-06T08:35:14.608Z"
   },
   {
    "duration": 51,
    "start_time": "2022-07-06T08:35:14.713Z"
   },
   {
    "duration": 5,
    "start_time": "2022-07-06T08:35:14.766Z"
   },
   {
    "duration": 22,
    "start_time": "2022-07-06T08:35:14.773Z"
   },
   {
    "duration": 28,
    "start_time": "2022-07-06T08:35:14.796Z"
   },
   {
    "duration": 19,
    "start_time": "2022-07-06T08:35:14.827Z"
   },
   {
    "duration": 24,
    "start_time": "2022-07-06T08:35:14.847Z"
   },
   {
    "duration": 17,
    "start_time": "2022-07-06T08:35:14.873Z"
   },
   {
    "duration": 429,
    "start_time": "2022-07-06T08:35:14.892Z"
   },
   {
    "duration": 15,
    "start_time": "2022-07-06T08:35:15.323Z"
   },
   {
    "duration": 62,
    "start_time": "2022-07-06T08:35:15.340Z"
   },
   {
    "duration": 3,
    "start_time": "2022-07-06T08:35:15.404Z"
   },
   {
    "duration": 12,
    "start_time": "2022-07-06T08:35:15.409Z"
   },
   {
    "duration": 174,
    "start_time": "2022-07-06T08:35:15.423Z"
   },
   {
    "duration": 5,
    "start_time": "2022-07-06T08:35:15.599Z"
   },
   {
    "duration": 9,
    "start_time": "2022-07-06T08:35:15.605Z"
   },
   {
    "duration": 9,
    "start_time": "2022-07-06T08:35:15.616Z"
   },
   {
    "duration": 155,
    "start_time": "2022-07-06T08:35:15.627Z"
   },
   {
    "duration": 6,
    "start_time": "2022-07-06T08:35:15.784Z"
   },
   {
    "duration": 11,
    "start_time": "2022-07-06T08:35:15.791Z"
   },
   {
    "duration": 5,
    "start_time": "2022-07-06T08:35:15.804Z"
   },
   {
    "duration": 183,
    "start_time": "2022-07-06T08:35:15.811Z"
   },
   {
    "duration": 11,
    "start_time": "2022-07-06T08:35:15.997Z"
   },
   {
    "duration": 13,
    "start_time": "2022-07-06T08:35:16.009Z"
   },
   {
    "duration": 22,
    "start_time": "2022-07-06T08:35:16.024Z"
   },
   {
    "duration": 179,
    "start_time": "2022-07-06T08:35:16.047Z"
   },
   {
    "duration": 54,
    "start_time": "2022-07-06T08:35:16.228Z"
   },
   {
    "duration": 24,
    "start_time": "2022-07-06T08:35:16.284Z"
   },
   {
    "duration": 54,
    "start_time": "2022-07-06T08:35:16.310Z"
   },
   {
    "duration": 4,
    "start_time": "2022-07-06T08:35:16.365Z"
   },
   {
    "duration": 102,
    "start_time": "2022-07-06T08:35:16.371Z"
   },
   {
    "duration": 0,
    "start_time": "2022-07-06T08:35:16.477Z"
   },
   {
    "duration": 0,
    "start_time": "2022-07-06T08:35:16.478Z"
   },
   {
    "duration": 0,
    "start_time": "2022-07-06T08:35:16.480Z"
   },
   {
    "duration": 0,
    "start_time": "2022-07-06T08:35:16.480Z"
   },
   {
    "duration": 0,
    "start_time": "2022-07-06T08:35:16.482Z"
   },
   {
    "duration": 0,
    "start_time": "2022-07-06T08:35:16.483Z"
   },
   {
    "duration": 0,
    "start_time": "2022-07-06T08:35:16.484Z"
   },
   {
    "duration": 0,
    "start_time": "2022-07-06T08:35:16.485Z"
   },
   {
    "duration": 0,
    "start_time": "2022-07-06T08:35:16.486Z"
   },
   {
    "duration": 0,
    "start_time": "2022-07-06T08:35:16.487Z"
   },
   {
    "duration": 0,
    "start_time": "2022-07-06T08:35:16.488Z"
   },
   {
    "duration": 0,
    "start_time": "2022-07-06T08:35:16.489Z"
   },
   {
    "duration": 0,
    "start_time": "2022-07-06T08:35:16.490Z"
   },
   {
    "duration": 0,
    "start_time": "2022-07-06T08:35:16.491Z"
   },
   {
    "duration": 0,
    "start_time": "2022-07-06T08:35:16.492Z"
   },
   {
    "duration": 0,
    "start_time": "2022-07-06T08:35:16.494Z"
   },
   {
    "duration": 0,
    "start_time": "2022-07-06T08:35:16.495Z"
   },
   {
    "duration": 0,
    "start_time": "2022-07-06T08:35:16.496Z"
   },
   {
    "duration": 0,
    "start_time": "2022-07-06T08:35:16.497Z"
   },
   {
    "duration": 0,
    "start_time": "2022-07-06T08:35:16.498Z"
   },
   {
    "duration": 0,
    "start_time": "2022-07-06T08:35:16.499Z"
   },
   {
    "duration": 0,
    "start_time": "2022-07-06T08:35:16.500Z"
   },
   {
    "duration": 0,
    "start_time": "2022-07-06T08:35:16.501Z"
   },
   {
    "duration": 0,
    "start_time": "2022-07-06T08:35:16.502Z"
   },
   {
    "duration": 0,
    "start_time": "2022-07-06T08:35:16.503Z"
   },
   {
    "duration": 0,
    "start_time": "2022-07-06T08:35:16.504Z"
   },
   {
    "duration": 0,
    "start_time": "2022-07-06T08:35:16.505Z"
   },
   {
    "duration": 0,
    "start_time": "2022-07-06T08:35:16.506Z"
   },
   {
    "duration": 0,
    "start_time": "2022-07-06T08:35:16.507Z"
   },
   {
    "duration": 0,
    "start_time": "2022-07-06T08:35:16.564Z"
   },
   {
    "duration": 0,
    "start_time": "2022-07-06T08:35:16.565Z"
   },
   {
    "duration": 0,
    "start_time": "2022-07-06T08:35:16.566Z"
   },
   {
    "duration": 0,
    "start_time": "2022-07-06T08:35:16.567Z"
   },
   {
    "duration": 0,
    "start_time": "2022-07-06T08:35:16.568Z"
   },
   {
    "duration": 0,
    "start_time": "2022-07-06T08:35:16.569Z"
   },
   {
    "duration": 0,
    "start_time": "2022-07-06T08:35:16.570Z"
   },
   {
    "duration": 0,
    "start_time": "2022-07-06T08:35:16.571Z"
   },
   {
    "duration": 0,
    "start_time": "2022-07-06T08:35:16.573Z"
   },
   {
    "duration": 0,
    "start_time": "2022-07-06T08:35:16.574Z"
   },
   {
    "duration": 0,
    "start_time": "2022-07-06T08:35:16.576Z"
   },
   {
    "duration": 0,
    "start_time": "2022-07-06T08:35:16.577Z"
   },
   {
    "duration": 0,
    "start_time": "2022-07-06T08:35:16.578Z"
   },
   {
    "duration": 0,
    "start_time": "2022-07-06T08:35:16.580Z"
   },
   {
    "duration": 0,
    "start_time": "2022-07-06T08:35:16.581Z"
   },
   {
    "duration": 0,
    "start_time": "2022-07-06T08:35:16.583Z"
   },
   {
    "duration": 0,
    "start_time": "2022-07-06T08:35:16.584Z"
   },
   {
    "duration": 0,
    "start_time": "2022-07-06T08:35:16.586Z"
   },
   {
    "duration": 0,
    "start_time": "2022-07-06T08:35:16.590Z"
   },
   {
    "duration": 0,
    "start_time": "2022-07-06T08:35:16.591Z"
   },
   {
    "duration": 0,
    "start_time": "2022-07-06T08:35:16.592Z"
   },
   {
    "duration": 0,
    "start_time": "2022-07-06T08:35:16.594Z"
   },
   {
    "duration": 0,
    "start_time": "2022-07-06T08:35:16.595Z"
   },
   {
    "duration": 0,
    "start_time": "2022-07-06T08:35:16.597Z"
   },
   {
    "duration": 0,
    "start_time": "2022-07-06T08:35:16.598Z"
   },
   {
    "duration": 0,
    "start_time": "2022-07-06T08:35:16.599Z"
   },
   {
    "duration": 0,
    "start_time": "2022-07-06T08:35:16.600Z"
   },
   {
    "duration": 0,
    "start_time": "2022-07-06T08:35:16.601Z"
   },
   {
    "duration": 0,
    "start_time": "2022-07-06T08:35:16.664Z"
   },
   {
    "duration": 0,
    "start_time": "2022-07-06T08:35:16.665Z"
   },
   {
    "duration": 0,
    "start_time": "2022-07-06T08:35:16.666Z"
   },
   {
    "duration": 0,
    "start_time": "2022-07-06T08:35:16.666Z"
   },
   {
    "duration": 0,
    "start_time": "2022-07-06T08:35:16.667Z"
   },
   {
    "duration": 0,
    "start_time": "2022-07-06T08:35:16.668Z"
   },
   {
    "duration": 0,
    "start_time": "2022-07-06T08:35:16.669Z"
   },
   {
    "duration": 0,
    "start_time": "2022-07-06T08:35:16.670Z"
   },
   {
    "duration": 0,
    "start_time": "2022-07-06T08:35:16.671Z"
   },
   {
    "duration": 0,
    "start_time": "2022-07-06T08:35:16.672Z"
   },
   {
    "duration": 0,
    "start_time": "2022-07-06T08:35:16.672Z"
   },
   {
    "duration": 0,
    "start_time": "2022-07-06T08:35:16.674Z"
   },
   {
    "duration": 0,
    "start_time": "2022-07-06T08:35:16.674Z"
   },
   {
    "duration": 0,
    "start_time": "2022-07-06T08:35:16.675Z"
   },
   {
    "duration": 0,
    "start_time": "2022-07-06T08:35:16.676Z"
   },
   {
    "duration": 0,
    "start_time": "2022-07-06T08:35:16.677Z"
   },
   {
    "duration": 0,
    "start_time": "2022-07-06T08:35:16.678Z"
   },
   {
    "duration": 0,
    "start_time": "2022-07-06T08:35:16.679Z"
   },
   {
    "duration": 0,
    "start_time": "2022-07-06T08:35:16.680Z"
   },
   {
    "duration": 0,
    "start_time": "2022-07-06T08:35:16.681Z"
   },
   {
    "duration": 0,
    "start_time": "2022-07-06T08:35:16.682Z"
   },
   {
    "duration": 0,
    "start_time": "2022-07-06T08:35:16.683Z"
   },
   {
    "duration": 12,
    "start_time": "2022-07-06T08:35:44.100Z"
   },
   {
    "duration": 41,
    "start_time": "2022-07-06T08:35:44.670Z"
   },
   {
    "duration": 21,
    "start_time": "2022-07-06T08:35:45.119Z"
   },
   {
    "duration": 1181,
    "start_time": "2022-07-06T08:36:06.409Z"
   },
   {
    "duration": 210,
    "start_time": "2022-07-06T08:36:07.592Z"
   },
   {
    "duration": 39,
    "start_time": "2022-07-06T08:36:07.804Z"
   },
   {
    "duration": 5,
    "start_time": "2022-07-06T08:36:07.846Z"
   },
   {
    "duration": 12,
    "start_time": "2022-07-06T08:36:07.864Z"
   },
   {
    "duration": 11,
    "start_time": "2022-07-06T08:36:07.877Z"
   },
   {
    "duration": 12,
    "start_time": "2022-07-06T08:36:07.890Z"
   },
   {
    "duration": 6,
    "start_time": "2022-07-06T08:36:07.904Z"
   },
   {
    "duration": 11,
    "start_time": "2022-07-06T08:36:07.912Z"
   },
   {
    "duration": 50,
    "start_time": "2022-07-06T08:36:07.926Z"
   },
   {
    "duration": 11,
    "start_time": "2022-07-06T08:36:07.978Z"
   },
   {
    "duration": 10,
    "start_time": "2022-07-06T08:36:07.991Z"
   },
   {
    "duration": 9,
    "start_time": "2022-07-06T08:36:08.002Z"
   },
   {
    "duration": 51,
    "start_time": "2022-07-06T08:36:08.013Z"
   },
   {
    "duration": 32,
    "start_time": "2022-07-06T08:36:08.065Z"
   },
   {
    "duration": 14,
    "start_time": "2022-07-06T08:36:08.099Z"
   },
   {
    "duration": 18,
    "start_time": "2022-07-06T08:36:08.115Z"
   },
   {
    "duration": 45,
    "start_time": "2022-07-06T08:36:08.135Z"
   },
   {
    "duration": 13,
    "start_time": "2022-07-06T08:36:08.181Z"
   },
   {
    "duration": 15,
    "start_time": "2022-07-06T08:36:08.196Z"
   },
   {
    "duration": 34,
    "start_time": "2022-07-06T08:36:08.213Z"
   },
   {
    "duration": 10,
    "start_time": "2022-07-06T08:36:08.264Z"
   },
   {
    "duration": 17,
    "start_time": "2022-07-06T08:36:08.275Z"
   },
   {
    "duration": 28,
    "start_time": "2022-07-06T08:36:08.294Z"
   },
   {
    "duration": 11,
    "start_time": "2022-07-06T08:36:08.324Z"
   },
   {
    "duration": 38,
    "start_time": "2022-07-06T08:36:08.337Z"
   },
   {
    "duration": 52,
    "start_time": "2022-07-06T08:36:08.376Z"
   },
   {
    "duration": 0,
    "start_time": "2022-07-06T08:36:08.433Z"
   },
   {
    "duration": 0,
    "start_time": "2022-07-06T08:36:08.435Z"
   },
   {
    "duration": 0,
    "start_time": "2022-07-06T08:36:08.436Z"
   },
   {
    "duration": 0,
    "start_time": "2022-07-06T08:36:08.437Z"
   },
   {
    "duration": 0,
    "start_time": "2022-07-06T08:36:08.438Z"
   },
   {
    "duration": 0,
    "start_time": "2022-07-06T08:36:08.439Z"
   },
   {
    "duration": 0,
    "start_time": "2022-07-06T08:36:08.440Z"
   },
   {
    "duration": 0,
    "start_time": "2022-07-06T08:36:08.440Z"
   },
   {
    "duration": 0,
    "start_time": "2022-07-06T08:36:08.442Z"
   },
   {
    "duration": 0,
    "start_time": "2022-07-06T08:36:08.443Z"
   },
   {
    "duration": 0,
    "start_time": "2022-07-06T08:36:08.444Z"
   },
   {
    "duration": 0,
    "start_time": "2022-07-06T08:36:08.446Z"
   },
   {
    "duration": 0,
    "start_time": "2022-07-06T08:36:08.447Z"
   },
   {
    "duration": 0,
    "start_time": "2022-07-06T08:36:08.448Z"
   },
   {
    "duration": 0,
    "start_time": "2022-07-06T08:36:08.449Z"
   },
   {
    "duration": 0,
    "start_time": "2022-07-06T08:36:08.451Z"
   },
   {
    "duration": 0,
    "start_time": "2022-07-06T08:36:08.452Z"
   },
   {
    "duration": 1,
    "start_time": "2022-07-06T08:36:08.453Z"
   },
   {
    "duration": 0,
    "start_time": "2022-07-06T08:36:08.455Z"
   },
   {
    "duration": 0,
    "start_time": "2022-07-06T08:36:08.456Z"
   },
   {
    "duration": 0,
    "start_time": "2022-07-06T08:36:08.457Z"
   },
   {
    "duration": 0,
    "start_time": "2022-07-06T08:36:08.459Z"
   },
   {
    "duration": 0,
    "start_time": "2022-07-06T08:36:08.460Z"
   },
   {
    "duration": 0,
    "start_time": "2022-07-06T08:36:08.463Z"
   },
   {
    "duration": 0,
    "start_time": "2022-07-06T08:36:08.464Z"
   },
   {
    "duration": 0,
    "start_time": "2022-07-06T08:36:08.466Z"
   },
   {
    "duration": 0,
    "start_time": "2022-07-06T08:36:08.467Z"
   },
   {
    "duration": 0,
    "start_time": "2022-07-06T08:36:08.468Z"
   },
   {
    "duration": 0,
    "start_time": "2022-07-06T08:36:08.469Z"
   },
   {
    "duration": 0,
    "start_time": "2022-07-06T08:36:08.470Z"
   },
   {
    "duration": 0,
    "start_time": "2022-07-06T08:36:08.471Z"
   },
   {
    "duration": 0,
    "start_time": "2022-07-06T08:36:08.472Z"
   },
   {
    "duration": 0,
    "start_time": "2022-07-06T08:36:08.474Z"
   },
   {
    "duration": 0,
    "start_time": "2022-07-06T08:36:08.475Z"
   },
   {
    "duration": 0,
    "start_time": "2022-07-06T08:36:08.475Z"
   },
   {
    "duration": 0,
    "start_time": "2022-07-06T08:36:08.476Z"
   },
   {
    "duration": 0,
    "start_time": "2022-07-06T08:36:08.477Z"
   },
   {
    "duration": 0,
    "start_time": "2022-07-06T08:36:08.478Z"
   },
   {
    "duration": 0,
    "start_time": "2022-07-06T08:36:08.480Z"
   },
   {
    "duration": 0,
    "start_time": "2022-07-06T08:36:08.481Z"
   },
   {
    "duration": 0,
    "start_time": "2022-07-06T08:36:08.482Z"
   },
   {
    "duration": 0,
    "start_time": "2022-07-06T08:36:08.483Z"
   },
   {
    "duration": 0,
    "start_time": "2022-07-06T08:36:08.484Z"
   },
   {
    "duration": 0,
    "start_time": "2022-07-06T08:36:08.485Z"
   },
   {
    "duration": 0,
    "start_time": "2022-07-06T08:36:08.486Z"
   },
   {
    "duration": 0,
    "start_time": "2022-07-06T08:36:08.487Z"
   },
   {
    "duration": 0,
    "start_time": "2022-07-06T08:36:08.489Z"
   },
   {
    "duration": 0,
    "start_time": "2022-07-06T08:36:08.489Z"
   },
   {
    "duration": 0,
    "start_time": "2022-07-06T08:36:08.491Z"
   },
   {
    "duration": 0,
    "start_time": "2022-07-06T08:36:08.492Z"
   },
   {
    "duration": 0,
    "start_time": "2022-07-06T08:36:08.493Z"
   },
   {
    "duration": 0,
    "start_time": "2022-07-06T08:36:08.494Z"
   },
   {
    "duration": 0,
    "start_time": "2022-07-06T08:36:08.495Z"
   },
   {
    "duration": 0,
    "start_time": "2022-07-06T08:36:08.496Z"
   },
   {
    "duration": 0,
    "start_time": "2022-07-06T08:36:08.497Z"
   },
   {
    "duration": 0,
    "start_time": "2022-07-06T08:36:08.498Z"
   },
   {
    "duration": 0,
    "start_time": "2022-07-06T08:36:08.499Z"
   },
   {
    "duration": 0,
    "start_time": "2022-07-06T08:36:08.563Z"
   },
   {
    "duration": 0,
    "start_time": "2022-07-06T08:36:08.564Z"
   },
   {
    "duration": 0,
    "start_time": "2022-07-06T08:36:08.565Z"
   },
   {
    "duration": 0,
    "start_time": "2022-07-06T08:36:08.567Z"
   },
   {
    "duration": 0,
    "start_time": "2022-07-06T08:36:08.567Z"
   },
   {
    "duration": 0,
    "start_time": "2022-07-06T08:36:08.569Z"
   },
   {
    "duration": 0,
    "start_time": "2022-07-06T08:36:08.569Z"
   },
   {
    "duration": 0,
    "start_time": "2022-07-06T08:36:08.570Z"
   },
   {
    "duration": 0,
    "start_time": "2022-07-06T08:36:08.571Z"
   },
   {
    "duration": 0,
    "start_time": "2022-07-06T08:36:08.572Z"
   },
   {
    "duration": 0,
    "start_time": "2022-07-06T08:36:08.573Z"
   },
   {
    "duration": 0,
    "start_time": "2022-07-06T08:36:08.574Z"
   },
   {
    "duration": 0,
    "start_time": "2022-07-06T08:36:08.575Z"
   },
   {
    "duration": 0,
    "start_time": "2022-07-06T08:36:08.576Z"
   },
   {
    "duration": 0,
    "start_time": "2022-07-06T08:36:08.577Z"
   },
   {
    "duration": 0,
    "start_time": "2022-07-06T08:36:08.577Z"
   },
   {
    "duration": 0,
    "start_time": "2022-07-06T08:36:08.579Z"
   },
   {
    "duration": 0,
    "start_time": "2022-07-06T08:36:08.580Z"
   },
   {
    "duration": 0,
    "start_time": "2022-07-06T08:36:08.581Z"
   },
   {
    "duration": 0,
    "start_time": "2022-07-06T08:36:08.582Z"
   },
   {
    "duration": 0,
    "start_time": "2022-07-06T08:36:08.583Z"
   },
   {
    "duration": 0,
    "start_time": "2022-07-06T08:36:08.584Z"
   },
   {
    "duration": 0,
    "start_time": "2022-07-06T08:36:08.585Z"
   },
   {
    "duration": 0,
    "start_time": "2022-07-06T08:36:08.586Z"
   },
   {
    "duration": 0,
    "start_time": "2022-07-06T08:36:08.588Z"
   },
   {
    "duration": 0,
    "start_time": "2022-07-06T08:36:08.589Z"
   },
   {
    "duration": 0,
    "start_time": "2022-07-06T08:36:08.590Z"
   },
   {
    "duration": 0,
    "start_time": "2022-07-06T08:36:08.592Z"
   },
   {
    "duration": 0,
    "start_time": "2022-07-06T08:36:08.593Z"
   },
   {
    "duration": 0,
    "start_time": "2022-07-06T08:36:08.594Z"
   },
   {
    "duration": 0,
    "start_time": "2022-07-06T08:36:08.595Z"
   },
   {
    "duration": 0,
    "start_time": "2022-07-06T08:36:08.596Z"
   },
   {
    "duration": 0,
    "start_time": "2022-07-06T08:36:08.597Z"
   },
   {
    "duration": 0,
    "start_time": "2022-07-06T08:36:08.598Z"
   },
   {
    "duration": 0,
    "start_time": "2022-07-06T08:36:08.599Z"
   },
   {
    "duration": 0,
    "start_time": "2022-07-06T08:36:08.600Z"
   },
   {
    "duration": 0,
    "start_time": "2022-07-06T08:36:08.664Z"
   },
   {
    "duration": 0,
    "start_time": "2022-07-06T08:36:08.665Z"
   },
   {
    "duration": 0,
    "start_time": "2022-07-06T08:36:08.666Z"
   },
   {
    "duration": 0,
    "start_time": "2022-07-06T08:36:08.667Z"
   },
   {
    "duration": 0,
    "start_time": "2022-07-06T08:36:08.668Z"
   },
   {
    "duration": 0,
    "start_time": "2022-07-06T08:36:08.669Z"
   },
   {
    "duration": 0,
    "start_time": "2022-07-06T08:36:08.670Z"
   },
   {
    "duration": 0,
    "start_time": "2022-07-06T08:36:08.670Z"
   },
   {
    "duration": 0,
    "start_time": "2022-07-06T08:36:08.672Z"
   },
   {
    "duration": 0,
    "start_time": "2022-07-06T08:36:08.673Z"
   },
   {
    "duration": 0,
    "start_time": "2022-07-06T08:36:08.674Z"
   },
   {
    "duration": 0,
    "start_time": "2022-07-06T08:36:08.675Z"
   },
   {
    "duration": 0,
    "start_time": "2022-07-06T08:36:08.676Z"
   },
   {
    "duration": 0,
    "start_time": "2022-07-06T08:36:08.678Z"
   },
   {
    "duration": 0,
    "start_time": "2022-07-06T08:36:08.679Z"
   },
   {
    "duration": 0,
    "start_time": "2022-07-06T08:36:08.680Z"
   },
   {
    "duration": 0,
    "start_time": "2022-07-06T08:36:08.681Z"
   },
   {
    "duration": 0,
    "start_time": "2022-07-06T08:36:08.682Z"
   },
   {
    "duration": 0,
    "start_time": "2022-07-06T08:36:08.684Z"
   },
   {
    "duration": 0,
    "start_time": "2022-07-06T08:36:08.686Z"
   },
   {
    "duration": 0,
    "start_time": "2022-07-06T08:36:08.687Z"
   },
   {
    "duration": 0,
    "start_time": "2022-07-06T08:36:08.688Z"
   },
   {
    "duration": 0,
    "start_time": "2022-07-06T08:36:08.689Z"
   },
   {
    "duration": 0,
    "start_time": "2022-07-06T08:36:08.691Z"
   },
   {
    "duration": 0,
    "start_time": "2022-07-06T08:36:08.692Z"
   },
   {
    "duration": 0,
    "start_time": "2022-07-06T08:36:08.693Z"
   },
   {
    "duration": 0,
    "start_time": "2022-07-06T08:36:08.695Z"
   },
   {
    "duration": 0,
    "start_time": "2022-07-06T08:36:08.696Z"
   },
   {
    "duration": 0,
    "start_time": "2022-07-06T08:36:08.697Z"
   },
   {
    "duration": 0,
    "start_time": "2022-07-06T08:36:08.699Z"
   },
   {
    "duration": 0,
    "start_time": "2022-07-06T08:36:08.764Z"
   },
   {
    "duration": 0,
    "start_time": "2022-07-06T08:36:08.766Z"
   },
   {
    "duration": 14,
    "start_time": "2022-07-06T08:36:24.684Z"
   },
   {
    "duration": 35,
    "start_time": "2022-07-06T08:36:25.406Z"
   },
   {
    "duration": 21,
    "start_time": "2022-07-06T08:36:25.912Z"
   },
   {
    "duration": 46,
    "start_time": "2022-07-06T08:36:40.324Z"
   },
   {
    "duration": 21,
    "start_time": "2022-07-06T08:36:55.275Z"
   },
   {
    "duration": 17,
    "start_time": "2022-07-06T08:36:55.904Z"
   },
   {
    "duration": 29,
    "start_time": "2022-07-06T08:38:15.823Z"
   },
   {
    "duration": 1936,
    "start_time": "2022-07-06T08:38:16.543Z"
   },
   {
    "duration": 0,
    "start_time": "2022-07-06T08:38:18.482Z"
   },
   {
    "duration": 28,
    "start_time": "2022-07-06T08:38:25.836Z"
   },
   {
    "duration": 13,
    "start_time": "2022-07-06T08:38:26.606Z"
   },
   {
    "duration": 17,
    "start_time": "2022-07-06T08:38:29.787Z"
   },
   {
    "duration": 11,
    "start_time": "2022-07-06T08:38:33.527Z"
   },
   {
    "duration": 43,
    "start_time": "2022-07-06T08:38:34.026Z"
   },
   {
    "duration": 21,
    "start_time": "2022-07-06T08:38:34.494Z"
   },
   {
    "duration": 36,
    "start_time": "2022-07-06T08:38:34.977Z"
   },
   {
    "duration": 31,
    "start_time": "2022-07-06T08:38:35.477Z"
   },
   {
    "duration": 14,
    "start_time": "2022-07-06T08:38:35.911Z"
   },
   {
    "duration": 20,
    "start_time": "2022-07-06T08:38:36.354Z"
   },
   {
    "duration": 38,
    "start_time": "2022-07-06T08:41:14.943Z"
   },
   {
    "duration": 12,
    "start_time": "2022-07-06T08:41:15.116Z"
   },
   {
    "duration": 10,
    "start_time": "2022-07-06T08:41:15.307Z"
   },
   {
    "duration": 88,
    "start_time": "2022-07-06T08:41:15.831Z"
   },
   {
    "duration": 44,
    "start_time": "2022-07-06T08:41:16.017Z"
   },
   {
    "duration": 4,
    "start_time": "2022-07-06T08:41:16.235Z"
   },
   {
    "duration": 10,
    "start_time": "2022-07-06T08:41:16.659Z"
   },
   {
    "duration": 85,
    "start_time": "2022-07-06T08:41:19.991Z"
   },
   {
    "duration": 6,
    "start_time": "2022-07-06T08:41:20.209Z"
   },
   {
    "duration": 11,
    "start_time": "2022-07-06T08:41:20.450Z"
   },
   {
    "duration": 98,
    "start_time": "2022-07-06T08:41:20.871Z"
   },
   {
    "duration": 78,
    "start_time": "2022-07-06T08:41:21.120Z"
   },
   {
    "duration": 1297,
    "start_time": "2022-07-06T08:41:27.362Z"
   },
   {
    "duration": 243,
    "start_time": "2022-07-06T08:41:28.661Z"
   },
   {
    "duration": 35,
    "start_time": "2022-07-06T08:41:28.905Z"
   },
   {
    "duration": 5,
    "start_time": "2022-07-06T08:41:28.942Z"
   },
   {
    "duration": 37,
    "start_time": "2022-07-06T08:41:28.949Z"
   },
   {
    "duration": 12,
    "start_time": "2022-07-06T08:41:28.988Z"
   },
   {
    "duration": 10,
    "start_time": "2022-07-06T08:41:29.001Z"
   },
   {
    "duration": 7,
    "start_time": "2022-07-06T08:41:29.013Z"
   },
   {
    "duration": 21,
    "start_time": "2022-07-06T08:41:29.021Z"
   },
   {
    "duration": 31,
    "start_time": "2022-07-06T08:41:29.045Z"
   },
   {
    "duration": 13,
    "start_time": "2022-07-06T08:41:29.078Z"
   },
   {
    "duration": 10,
    "start_time": "2022-07-06T08:41:29.092Z"
   },
   {
    "duration": 12,
    "start_time": "2022-07-06T08:41:29.103Z"
   },
   {
    "duration": 37,
    "start_time": "2022-07-06T08:41:29.116Z"
   },
   {
    "duration": 44,
    "start_time": "2022-07-06T08:41:29.154Z"
   },
   {
    "duration": 9,
    "start_time": "2022-07-06T08:41:29.200Z"
   },
   {
    "duration": 16,
    "start_time": "2022-07-06T08:41:29.211Z"
   },
   {
    "duration": 54,
    "start_time": "2022-07-06T08:41:29.228Z"
   },
   {
    "duration": 12,
    "start_time": "2022-07-06T08:41:29.284Z"
   },
   {
    "duration": 11,
    "start_time": "2022-07-06T08:41:29.298Z"
   },
   {
    "duration": 32,
    "start_time": "2022-07-06T08:41:29.311Z"
   },
   {
    "duration": 33,
    "start_time": "2022-07-06T08:41:29.344Z"
   },
   {
    "duration": 18,
    "start_time": "2022-07-06T08:41:29.378Z"
   },
   {
    "duration": 33,
    "start_time": "2022-07-06T08:41:29.398Z"
   },
   {
    "duration": 11,
    "start_time": "2022-07-06T08:41:29.433Z"
   },
   {
    "duration": 34,
    "start_time": "2022-07-06T08:41:29.445Z"
   },
   {
    "duration": 12,
    "start_time": "2022-07-06T08:41:29.482Z"
   },
   {
    "duration": 36,
    "start_time": "2022-07-06T08:41:29.498Z"
   },
   {
    "duration": 45,
    "start_time": "2022-07-06T08:41:29.536Z"
   },
   {
    "duration": 50,
    "start_time": "2022-07-06T08:41:29.583Z"
   },
   {
    "duration": 40,
    "start_time": "2022-07-06T08:41:29.635Z"
   },
   {
    "duration": 14,
    "start_time": "2022-07-06T08:41:29.677Z"
   },
   {
    "duration": 18,
    "start_time": "2022-07-06T08:41:29.693Z"
   },
   {
    "duration": 99,
    "start_time": "2022-07-06T08:41:29.713Z"
   },
   {
    "duration": 5,
    "start_time": "2022-07-06T08:41:29.814Z"
   },
   {
    "duration": 13,
    "start_time": "2022-07-06T08:41:29.820Z"
   },
   {
    "duration": 112,
    "start_time": "2022-07-06T08:41:29.834Z"
   },
   {
    "duration": 108,
    "start_time": "2022-07-06T08:41:29.947Z"
   },
   {
    "duration": 54,
    "start_time": "2022-07-06T08:41:30.057Z"
   },
   {
    "duration": 10,
    "start_time": "2022-07-06T08:41:30.113Z"
   },
   {
    "duration": 15,
    "start_time": "2022-07-06T08:41:30.125Z"
   },
   {
    "duration": 114,
    "start_time": "2022-07-06T08:41:30.142Z"
   },
   {
    "duration": 50,
    "start_time": "2022-07-06T08:41:30.258Z"
   },
   {
    "duration": 4,
    "start_time": "2022-07-06T08:41:30.309Z"
   },
   {
    "duration": 16,
    "start_time": "2022-07-06T08:41:30.314Z"
   },
   {
    "duration": 61,
    "start_time": "2022-07-06T08:41:30.332Z"
   },
   {
    "duration": 25,
    "start_time": "2022-07-06T08:41:30.395Z"
   },
   {
    "duration": 15,
    "start_time": "2022-07-06T08:41:30.421Z"
   },
   {
    "duration": 32,
    "start_time": "2022-07-06T08:41:30.438Z"
   },
   {
    "duration": 503,
    "start_time": "2022-07-06T08:41:30.476Z"
   },
   {
    "duration": 18,
    "start_time": "2022-07-06T08:41:30.981Z"
   },
   {
    "duration": 76,
    "start_time": "2022-07-06T08:41:31.001Z"
   },
   {
    "duration": 3,
    "start_time": "2022-07-06T08:41:31.079Z"
   },
   {
    "duration": 14,
    "start_time": "2022-07-06T08:41:31.084Z"
   },
   {
    "duration": 199,
    "start_time": "2022-07-06T08:41:31.100Z"
   },
   {
    "duration": 6,
    "start_time": "2022-07-06T08:41:31.300Z"
   },
   {
    "duration": 12,
    "start_time": "2022-07-06T08:41:31.307Z"
   },
   {
    "duration": 13,
    "start_time": "2022-07-06T08:41:31.320Z"
   },
   {
    "duration": 178,
    "start_time": "2022-07-06T08:41:31.340Z"
   },
   {
    "duration": 6,
    "start_time": "2022-07-06T08:41:31.519Z"
   },
   {
    "duration": 17,
    "start_time": "2022-07-06T08:41:31.527Z"
   },
   {
    "duration": 11,
    "start_time": "2022-07-06T08:41:31.545Z"
   },
   {
    "duration": 209,
    "start_time": "2022-07-06T08:41:31.557Z"
   },
   {
    "duration": 14,
    "start_time": "2022-07-06T08:41:31.768Z"
   },
   {
    "duration": 28,
    "start_time": "2022-07-06T08:41:31.785Z"
   },
   {
    "duration": 18,
    "start_time": "2022-07-06T08:41:31.815Z"
   },
   {
    "duration": 200,
    "start_time": "2022-07-06T08:41:31.834Z"
   },
   {
    "duration": 61,
    "start_time": "2022-07-06T08:41:32.035Z"
   },
   {
    "duration": 24,
    "start_time": "2022-07-06T08:41:32.097Z"
   },
   {
    "duration": 52,
    "start_time": "2022-07-06T08:41:32.123Z"
   },
   {
    "duration": 4,
    "start_time": "2022-07-06T08:41:32.177Z"
   },
   {
    "duration": 103,
    "start_time": "2022-07-06T08:41:32.183Z"
   },
   {
    "duration": 0,
    "start_time": "2022-07-06T08:41:32.288Z"
   },
   {
    "duration": 0,
    "start_time": "2022-07-06T08:41:32.290Z"
   },
   {
    "duration": 0,
    "start_time": "2022-07-06T08:41:32.291Z"
   },
   {
    "duration": 0,
    "start_time": "2022-07-06T08:41:32.292Z"
   },
   {
    "duration": 0,
    "start_time": "2022-07-06T08:41:32.294Z"
   },
   {
    "duration": 0,
    "start_time": "2022-07-06T08:41:32.296Z"
   },
   {
    "duration": 0,
    "start_time": "2022-07-06T08:41:32.297Z"
   },
   {
    "duration": 0,
    "start_time": "2022-07-06T08:41:32.299Z"
   },
   {
    "duration": 0,
    "start_time": "2022-07-06T08:41:32.300Z"
   },
   {
    "duration": 0,
    "start_time": "2022-07-06T08:41:32.301Z"
   },
   {
    "duration": 0,
    "start_time": "2022-07-06T08:41:32.303Z"
   },
   {
    "duration": 0,
    "start_time": "2022-07-06T08:41:32.304Z"
   },
   {
    "duration": 0,
    "start_time": "2022-07-06T08:41:32.305Z"
   },
   {
    "duration": 0,
    "start_time": "2022-07-06T08:41:32.306Z"
   },
   {
    "duration": 0,
    "start_time": "2022-07-06T08:41:32.307Z"
   },
   {
    "duration": 0,
    "start_time": "2022-07-06T08:41:32.308Z"
   },
   {
    "duration": 0,
    "start_time": "2022-07-06T08:41:32.308Z"
   },
   {
    "duration": 0,
    "start_time": "2022-07-06T08:41:32.309Z"
   },
   {
    "duration": 0,
    "start_time": "2022-07-06T08:41:32.310Z"
   },
   {
    "duration": 0,
    "start_time": "2022-07-06T08:41:32.311Z"
   },
   {
    "duration": 0,
    "start_time": "2022-07-06T08:41:32.312Z"
   },
   {
    "duration": 0,
    "start_time": "2022-07-06T08:41:32.313Z"
   },
   {
    "duration": 0,
    "start_time": "2022-07-06T08:41:32.315Z"
   },
   {
    "duration": 0,
    "start_time": "2022-07-06T08:41:32.316Z"
   },
   {
    "duration": 0,
    "start_time": "2022-07-06T08:41:32.316Z"
   },
   {
    "duration": 0,
    "start_time": "2022-07-06T08:41:32.317Z"
   },
   {
    "duration": 0,
    "start_time": "2022-07-06T08:41:32.318Z"
   },
   {
    "duration": 0,
    "start_time": "2022-07-06T08:41:32.363Z"
   },
   {
    "duration": 0,
    "start_time": "2022-07-06T08:41:32.364Z"
   },
   {
    "duration": 0,
    "start_time": "2022-07-06T08:41:32.372Z"
   },
   {
    "duration": 0,
    "start_time": "2022-07-06T08:41:32.373Z"
   },
   {
    "duration": 0,
    "start_time": "2022-07-06T08:41:32.374Z"
   },
   {
    "duration": 0,
    "start_time": "2022-07-06T08:41:32.375Z"
   },
   {
    "duration": 0,
    "start_time": "2022-07-06T08:41:32.375Z"
   },
   {
    "duration": 0,
    "start_time": "2022-07-06T08:41:32.376Z"
   },
   {
    "duration": 0,
    "start_time": "2022-07-06T08:41:32.377Z"
   },
   {
    "duration": 0,
    "start_time": "2022-07-06T08:41:32.377Z"
   },
   {
    "duration": 0,
    "start_time": "2022-07-06T08:41:32.379Z"
   },
   {
    "duration": 0,
    "start_time": "2022-07-06T08:41:32.380Z"
   },
   {
    "duration": 0,
    "start_time": "2022-07-06T08:41:32.382Z"
   },
   {
    "duration": 0,
    "start_time": "2022-07-06T08:41:32.383Z"
   },
   {
    "duration": 0,
    "start_time": "2022-07-06T08:41:32.384Z"
   },
   {
    "duration": 0,
    "start_time": "2022-07-06T08:41:32.385Z"
   },
   {
    "duration": 0,
    "start_time": "2022-07-06T08:41:32.386Z"
   },
   {
    "duration": 0,
    "start_time": "2022-07-06T08:41:32.387Z"
   },
   {
    "duration": 0,
    "start_time": "2022-07-06T08:41:32.389Z"
   },
   {
    "duration": 0,
    "start_time": "2022-07-06T08:41:32.390Z"
   },
   {
    "duration": 0,
    "start_time": "2022-07-06T08:41:32.391Z"
   },
   {
    "duration": 0,
    "start_time": "2022-07-06T08:41:32.392Z"
   },
   {
    "duration": 0,
    "start_time": "2022-07-06T08:41:32.393Z"
   },
   {
    "duration": 0,
    "start_time": "2022-07-06T08:41:32.394Z"
   },
   {
    "duration": 0,
    "start_time": "2022-07-06T08:41:32.396Z"
   },
   {
    "duration": 0,
    "start_time": "2022-07-06T08:41:32.397Z"
   },
   {
    "duration": 0,
    "start_time": "2022-07-06T08:41:32.398Z"
   },
   {
    "duration": 0,
    "start_time": "2022-07-06T08:41:32.399Z"
   },
   {
    "duration": 0,
    "start_time": "2022-07-06T08:41:32.400Z"
   },
   {
    "duration": 0,
    "start_time": "2022-07-06T08:41:32.400Z"
   },
   {
    "duration": 0,
    "start_time": "2022-07-06T08:41:32.402Z"
   },
   {
    "duration": 0,
    "start_time": "2022-07-06T08:41:32.403Z"
   },
   {
    "duration": 0,
    "start_time": "2022-07-06T08:41:32.404Z"
   },
   {
    "duration": 0,
    "start_time": "2022-07-06T08:41:32.406Z"
   },
   {
    "duration": 0,
    "start_time": "2022-07-06T08:41:32.407Z"
   },
   {
    "duration": 0,
    "start_time": "2022-07-06T08:41:32.468Z"
   },
   {
    "duration": 0,
    "start_time": "2022-07-06T08:41:32.468Z"
   },
   {
    "duration": 0,
    "start_time": "2022-07-06T08:41:32.472Z"
   },
   {
    "duration": 0,
    "start_time": "2022-07-06T08:41:32.472Z"
   },
   {
    "duration": 0,
    "start_time": "2022-07-06T08:41:32.473Z"
   },
   {
    "duration": 0,
    "start_time": "2022-07-06T08:41:32.474Z"
   },
   {
    "duration": 0,
    "start_time": "2022-07-06T08:41:32.474Z"
   },
   {
    "duration": 0,
    "start_time": "2022-07-06T08:41:32.475Z"
   },
   {
    "duration": 0,
    "start_time": "2022-07-06T08:41:32.478Z"
   },
   {
    "duration": 0,
    "start_time": "2022-07-06T08:41:32.480Z"
   },
   {
    "duration": 0,
    "start_time": "2022-07-06T08:41:32.481Z"
   },
   {
    "duration": 0,
    "start_time": "2022-07-06T08:41:32.482Z"
   },
   {
    "duration": 0,
    "start_time": "2022-07-06T08:41:32.484Z"
   },
   {
    "duration": 0,
    "start_time": "2022-07-06T08:41:32.485Z"
   },
   {
    "duration": 0,
    "start_time": "2022-07-06T08:41:32.486Z"
   },
   {
    "duration": 0,
    "start_time": "2022-07-06T08:41:32.487Z"
   },
   {
    "duration": 0,
    "start_time": "2022-07-06T08:41:32.488Z"
   },
   {
    "duration": 24,
    "start_time": "2022-07-06T08:43:29.960Z"
   },
   {
    "duration": 54,
    "start_time": "2022-07-06T08:43:31.140Z"
   },
   {
    "duration": 59,
    "start_time": "2022-07-06T08:44:15.559Z"
   },
   {
    "duration": 13,
    "start_time": "2022-07-06T08:44:56.820Z"
   },
   {
    "duration": 12,
    "start_time": "2022-07-06T08:44:57.521Z"
   },
   {
    "duration": 6,
    "start_time": "2022-07-06T08:44:58.400Z"
   },
   {
    "duration": 5,
    "start_time": "2022-07-06T08:44:59.138Z"
   },
   {
    "duration": 7,
    "start_time": "2022-07-06T08:45:04.090Z"
   },
   {
    "duration": 11,
    "start_time": "2022-07-06T08:45:23.127Z"
   },
   {
    "duration": 13,
    "start_time": "2022-07-06T08:45:33.130Z"
   },
   {
    "duration": 21,
    "start_time": "2022-07-06T08:45:33.489Z"
   },
   {
    "duration": 19,
    "start_time": "2022-07-06T08:45:33.920Z"
   },
   {
    "duration": 4,
    "start_time": "2022-07-06T08:45:34.250Z"
   },
   {
    "duration": 10,
    "start_time": "2022-07-06T08:45:34.605Z"
   },
   {
    "duration": 10,
    "start_time": "2022-07-06T08:45:37.699Z"
   },
   {
    "duration": 9,
    "start_time": "2022-07-06T08:45:41.810Z"
   },
   {
    "duration": 52,
    "start_time": "2022-07-06T08:49:17.728Z"
   },
   {
    "duration": 8,
    "start_time": "2022-07-06T08:49:17.782Z"
   },
   {
    "duration": 20,
    "start_time": "2022-07-06T08:49:36.095Z"
   },
   {
    "duration": 12,
    "start_time": "2022-07-06T08:49:36.539Z"
   },
   {
    "duration": 11,
    "start_time": "2022-07-06T08:49:37.077Z"
   },
   {
    "duration": 12,
    "start_time": "2022-07-06T08:49:40.594Z"
   },
   {
    "duration": 21,
    "start_time": "2022-07-06T08:50:23.354Z"
   },
   {
    "duration": 16,
    "start_time": "2022-07-06T08:50:24.053Z"
   },
   {
    "duration": 22,
    "start_time": "2022-07-06T08:50:28.553Z"
   },
   {
    "duration": 29,
    "start_time": "2022-07-06T08:50:31.122Z"
   },
   {
    "duration": 7,
    "start_time": "2022-07-06T08:50:32.594Z"
   },
   {
    "duration": 14,
    "start_time": "2022-07-06T08:50:33.262Z"
   },
   {
    "duration": 25,
    "start_time": "2022-07-06T08:50:48.263Z"
   },
   {
    "duration": 38,
    "start_time": "2022-07-06T08:50:48.824Z"
   },
   {
    "duration": 29,
    "start_time": "2022-07-06T08:50:49.354Z"
   },
   {
    "duration": 22,
    "start_time": "2022-07-06T08:50:49.654Z"
   },
   {
    "duration": 67,
    "start_time": "2022-07-06T08:50:55.934Z"
   },
   {
    "duration": 5,
    "start_time": "2022-07-06T08:50:56.194Z"
   },
   {
    "duration": 4,
    "start_time": "2022-07-06T08:50:56.429Z"
   },
   {
    "duration": 18,
    "start_time": "2022-07-06T08:50:59.162Z"
   },
   {
    "duration": 16,
    "start_time": "2022-07-06T08:50:59.463Z"
   },
   {
    "duration": 5,
    "start_time": "2022-07-06T08:51:01.804Z"
   },
   {
    "duration": 4,
    "start_time": "2022-07-06T08:52:33.453Z"
   },
   {
    "duration": 11,
    "start_time": "2022-07-06T08:52:59.863Z"
   },
   {
    "duration": 5,
    "start_time": "2022-07-06T08:53:28.493Z"
   },
   {
    "duration": 5,
    "start_time": "2022-07-06T08:53:41.221Z"
   },
   {
    "duration": 6,
    "start_time": "2022-07-06T08:53:54.977Z"
   },
   {
    "duration": 72,
    "start_time": "2022-07-06T08:55:06.054Z"
   },
   {
    "duration": 57,
    "start_time": "2022-07-06T08:56:27.252Z"
   },
   {
    "duration": 47,
    "start_time": "2022-07-06T08:56:27.701Z"
   },
   {
    "duration": 4,
    "start_time": "2022-07-06T08:56:28.238Z"
   },
   {
    "duration": 13,
    "start_time": "2022-07-06T08:56:31.857Z"
   },
   {
    "duration": 4,
    "start_time": "2022-07-06T08:56:32.116Z"
   },
   {
    "duration": 5,
    "start_time": "2022-07-06T08:56:32.352Z"
   },
   {
    "duration": 264,
    "start_time": "2022-07-06T08:56:32.537Z"
   },
   {
    "duration": 5,
    "start_time": "2022-07-06T08:56:32.805Z"
   },
   {
    "duration": 35,
    "start_time": "2022-07-06T08:56:34.012Z"
   },
   {
    "duration": 6,
    "start_time": "2022-07-06T08:56:34.262Z"
   },
   {
    "duration": 66,
    "start_time": "2022-07-06T08:56:34.479Z"
   },
   {
    "duration": 45,
    "start_time": "2022-07-06T08:56:34.693Z"
   },
   {
    "duration": 280,
    "start_time": "2022-07-06T08:56:34.902Z"
   },
   {
    "duration": 27,
    "start_time": "2022-07-06T08:56:35.185Z"
   },
   {
    "duration": 228,
    "start_time": "2022-07-06T08:56:35.311Z"
   },
   {
    "duration": 58,
    "start_time": "2022-07-06T08:56:35.542Z"
   },
   {
    "duration": 30,
    "start_time": "2022-07-06T08:56:35.701Z"
   },
   {
    "duration": 31,
    "start_time": "2022-07-06T08:56:35.943Z"
   },
   {
    "duration": 1875,
    "start_time": "2022-07-06T08:56:36.141Z"
   },
   {
    "duration": 64,
    "start_time": "2022-07-06T08:56:39.141Z"
   },
   {
    "duration": 13,
    "start_time": "2022-07-06T08:56:39.279Z"
   },
   {
    "duration": 44,
    "start_time": "2022-07-06T08:56:39.453Z"
   },
   {
    "duration": 11,
    "start_time": "2022-07-06T08:56:39.679Z"
   },
   {
    "duration": 17,
    "start_time": "2022-07-06T08:56:39.850Z"
   },
   {
    "duration": 11,
    "start_time": "2022-07-06T08:56:40.051Z"
   },
   {
    "duration": 55,
    "start_time": "2022-07-06T08:56:40.236Z"
   },
   {
    "duration": 9,
    "start_time": "2022-07-06T08:56:40.392Z"
   },
   {
    "duration": 42,
    "start_time": "2022-07-06T08:56:40.654Z"
   },
   {
    "duration": 11,
    "start_time": "2022-07-06T08:56:40.820Z"
   },
   {
    "duration": 19,
    "start_time": "2022-07-06T08:56:41.311Z"
   },
   {
    "duration": 38,
    "start_time": "2022-07-06T08:56:41.643Z"
   },
   {
    "duration": 16,
    "start_time": "2022-07-06T08:56:42.112Z"
   },
   {
    "duration": 26,
    "start_time": "2022-07-06T08:56:42.693Z"
   },
   {
    "duration": 11,
    "start_time": "2022-07-06T08:56:43.243Z"
   },
   {
    "duration": 35,
    "start_time": "2022-07-06T08:56:43.743Z"
   },
   {
    "duration": 27,
    "start_time": "2022-07-06T08:56:44.192Z"
   },
   {
    "duration": 1542,
    "start_time": "2022-07-06T08:56:44.506Z"
   },
   {
    "duration": 13,
    "start_time": "2022-07-06T08:56:54.202Z"
   },
   {
    "duration": 14,
    "start_time": "2022-07-06T08:56:54.379Z"
   },
   {
    "duration": 11,
    "start_time": "2022-07-06T08:56:54.554Z"
   },
   {
    "duration": 8,
    "start_time": "2022-07-06T08:56:54.764Z"
   },
   {
    "duration": 21,
    "start_time": "2022-07-06T08:56:55.103Z"
   },
   {
    "duration": 22,
    "start_time": "2022-07-06T08:56:55.324Z"
   },
   {
    "duration": 15,
    "start_time": "2022-07-06T08:56:55.814Z"
   },
   {
    "duration": 6,
    "start_time": "2022-07-06T08:56:56.242Z"
   },
   {
    "duration": 5,
    "start_time": "2022-07-06T08:56:57.389Z"
   },
   {
    "duration": 5,
    "start_time": "2022-07-06T08:56:57.736Z"
   },
   {
    "duration": 7,
    "start_time": "2022-07-06T08:56:58.925Z"
   },
   {
    "duration": 8,
    "start_time": "2022-07-06T08:57:01.243Z"
   },
   {
    "duration": 10,
    "start_time": "2022-07-06T08:57:01.434Z"
   },
   {
    "duration": 5,
    "start_time": "2022-07-06T08:57:01.628Z"
   },
   {
    "duration": 5,
    "start_time": "2022-07-06T08:57:02.123Z"
   },
   {
    "duration": 7,
    "start_time": "2022-07-06T08:57:02.422Z"
   },
   {
    "duration": 4,
    "start_time": "2022-07-06T08:59:26.049Z"
   },
   {
    "duration": 4,
    "start_time": "2022-07-06T08:59:52.903Z"
   },
   {
    "duration": 4,
    "start_time": "2022-07-06T09:03:43.892Z"
   },
   {
    "duration": 5,
    "start_time": "2022-07-06T09:04:40.443Z"
   },
   {
    "duration": 4,
    "start_time": "2022-07-06T09:06:51.900Z"
   },
   {
    "duration": 4,
    "start_time": "2022-07-06T09:07:08.838Z"
   },
   {
    "duration": 4,
    "start_time": "2022-07-06T09:08:45.920Z"
   },
   {
    "duration": 15,
    "start_time": "2022-07-06T09:09:38.259Z"
   },
   {
    "duration": 3,
    "start_time": "2022-07-06T09:11:51.232Z"
   },
   {
    "duration": 323,
    "start_time": "2022-07-06T09:12:01.497Z"
   },
   {
    "duration": 4,
    "start_time": "2022-07-06T09:12:15.581Z"
   },
   {
    "duration": 27,
    "start_time": "2022-07-06T09:12:20.341Z"
   },
   {
    "duration": 43,
    "start_time": "2022-07-06T09:13:52.652Z"
   },
   {
    "duration": 26,
    "start_time": "2022-07-06T09:14:13.308Z"
   },
   {
    "duration": 35,
    "start_time": "2022-07-06T09:14:23.221Z"
   },
   {
    "duration": 41,
    "start_time": "2022-07-06T09:14:32.053Z"
   },
   {
    "duration": 61,
    "start_time": "2022-07-06T09:15:32.153Z"
   },
   {
    "duration": 73,
    "start_time": "2022-07-06T19:34:11.833Z"
   },
   {
    "duration": 1323,
    "start_time": "2022-07-06T19:34:16.069Z"
   },
   {
    "duration": 224,
    "start_time": "2022-07-06T19:34:18.188Z"
   },
   {
    "duration": 1457,
    "start_time": "2022-07-06T19:34:27.705Z"
   },
   {
    "duration": 236,
    "start_time": "2022-07-06T19:34:29.164Z"
   },
   {
    "duration": 47,
    "start_time": "2022-07-06T19:34:29.402Z"
   },
   {
    "duration": 6,
    "start_time": "2022-07-06T19:34:29.450Z"
   },
   {
    "duration": 15,
    "start_time": "2022-07-06T19:34:29.459Z"
   },
   {
    "duration": 12,
    "start_time": "2022-07-06T19:34:29.476Z"
   },
   {
    "duration": 15,
    "start_time": "2022-07-06T19:34:29.490Z"
   },
   {
    "duration": 42,
    "start_time": "2022-07-06T19:34:29.507Z"
   },
   {
    "duration": 16,
    "start_time": "2022-07-06T19:34:29.551Z"
   },
   {
    "duration": 29,
    "start_time": "2022-07-06T19:34:29.569Z"
   },
   {
    "duration": 12,
    "start_time": "2022-07-06T19:34:29.600Z"
   },
   {
    "duration": 10,
    "start_time": "2022-07-06T19:34:29.614Z"
   },
   {
    "duration": 26,
    "start_time": "2022-07-06T19:34:29.626Z"
   },
   {
    "duration": 36,
    "start_time": "2022-07-06T19:34:29.656Z"
   },
   {
    "duration": 55,
    "start_time": "2022-07-06T19:34:29.694Z"
   },
   {
    "duration": 10,
    "start_time": "2022-07-06T19:34:29.750Z"
   },
   {
    "duration": 17,
    "start_time": "2022-07-06T19:34:29.762Z"
   },
   {
    "duration": 72,
    "start_time": "2022-07-06T19:34:29.781Z"
   },
   {
    "duration": 17,
    "start_time": "2022-07-06T19:34:29.855Z"
   },
   {
    "duration": 15,
    "start_time": "2022-07-06T19:34:29.873Z"
   },
   {
    "duration": 60,
    "start_time": "2022-07-06T19:34:29.890Z"
   },
   {
    "duration": 17,
    "start_time": "2022-07-06T19:34:29.953Z"
   },
   {
    "duration": 22,
    "start_time": "2022-07-06T19:34:29.972Z"
   },
   {
    "duration": 54,
    "start_time": "2022-07-06T19:34:29.997Z"
   },
   {
    "duration": 13,
    "start_time": "2022-07-06T19:34:30.053Z"
   },
   {
    "duration": 42,
    "start_time": "2022-07-06T19:34:30.068Z"
   },
   {
    "duration": 16,
    "start_time": "2022-07-06T19:34:30.113Z"
   },
   {
    "duration": 43,
    "start_time": "2022-07-06T19:34:30.131Z"
   },
   {
    "duration": 21,
    "start_time": "2022-07-06T19:34:30.176Z"
   },
   {
    "duration": 69,
    "start_time": "2022-07-06T19:34:30.198Z"
   },
   {
    "duration": 46,
    "start_time": "2022-07-06T19:34:30.269Z"
   },
   {
    "duration": 14,
    "start_time": "2022-07-06T19:34:30.317Z"
   },
   {
    "duration": 17,
    "start_time": "2022-07-06T19:34:30.345Z"
   },
   {
    "duration": 109,
    "start_time": "2022-07-06T19:34:30.364Z"
   },
   {
    "duration": 7,
    "start_time": "2022-07-06T19:34:30.476Z"
   },
   {
    "duration": 28,
    "start_time": "2022-07-06T19:34:30.485Z"
   },
   {
    "duration": 106,
    "start_time": "2022-07-06T19:34:30.515Z"
   },
   {
    "duration": 94,
    "start_time": "2022-07-06T19:34:30.623Z"
   },
   {
    "duration": 47,
    "start_time": "2022-07-06T19:34:30.718Z"
   },
   {
    "duration": 17,
    "start_time": "2022-07-06T19:34:30.767Z"
   },
   {
    "duration": 16,
    "start_time": "2022-07-06T19:34:30.793Z"
   },
   {
    "duration": 111,
    "start_time": "2022-07-06T19:34:30.811Z"
   },
   {
    "duration": 49,
    "start_time": "2022-07-06T19:34:30.924Z"
   },
   {
    "duration": 3,
    "start_time": "2022-07-06T19:34:30.975Z"
   },
   {
    "duration": 19,
    "start_time": "2022-07-06T19:34:30.980Z"
   },
   {
    "duration": 31,
    "start_time": "2022-07-06T19:34:31.001Z"
   },
   {
    "duration": 34,
    "start_time": "2022-07-06T19:34:31.034Z"
   },
   {
    "duration": 12,
    "start_time": "2022-07-06T19:34:31.070Z"
   },
   {
    "duration": 20,
    "start_time": "2022-07-06T19:34:31.083Z"
   },
   {
    "duration": 447,
    "start_time": "2022-07-06T19:34:31.105Z"
   },
   {
    "duration": 23,
    "start_time": "2022-07-06T19:34:31.554Z"
   },
   {
    "duration": 84,
    "start_time": "2022-07-06T19:34:31.580Z"
   },
   {
    "duration": 121,
    "start_time": "2022-07-06T19:34:31.667Z"
   },
   {
    "duration": 0,
    "start_time": "2022-07-06T19:34:31.791Z"
   },
   {
    "duration": 0,
    "start_time": "2022-07-06T19:34:31.793Z"
   },
   {
    "duration": 0,
    "start_time": "2022-07-06T19:34:31.794Z"
   },
   {
    "duration": 0,
    "start_time": "2022-07-06T19:34:31.796Z"
   },
   {
    "duration": 0,
    "start_time": "2022-07-06T19:34:31.798Z"
   },
   {
    "duration": 0,
    "start_time": "2022-07-06T19:34:31.799Z"
   },
   {
    "duration": 0,
    "start_time": "2022-07-06T19:34:31.800Z"
   },
   {
    "duration": 0,
    "start_time": "2022-07-06T19:34:31.802Z"
   },
   {
    "duration": 0,
    "start_time": "2022-07-06T19:34:31.803Z"
   },
   {
    "duration": 0,
    "start_time": "2022-07-06T19:34:31.804Z"
   },
   {
    "duration": 0,
    "start_time": "2022-07-06T19:34:31.806Z"
   },
   {
    "duration": 0,
    "start_time": "2022-07-06T19:34:31.807Z"
   },
   {
    "duration": 0,
    "start_time": "2022-07-06T19:34:31.809Z"
   },
   {
    "duration": 0,
    "start_time": "2022-07-06T19:34:31.810Z"
   },
   {
    "duration": 0,
    "start_time": "2022-07-06T19:34:31.811Z"
   },
   {
    "duration": 0,
    "start_time": "2022-07-06T19:34:31.846Z"
   },
   {
    "duration": 0,
    "start_time": "2022-07-06T19:34:31.848Z"
   },
   {
    "duration": 1,
    "start_time": "2022-07-06T19:34:31.849Z"
   },
   {
    "duration": 0,
    "start_time": "2022-07-06T19:34:31.851Z"
   },
   {
    "duration": 0,
    "start_time": "2022-07-06T19:34:31.852Z"
   },
   {
    "duration": 0,
    "start_time": "2022-07-06T19:34:31.853Z"
   },
   {
    "duration": 0,
    "start_time": "2022-07-06T19:34:31.854Z"
   },
   {
    "duration": 0,
    "start_time": "2022-07-06T19:34:31.855Z"
   },
   {
    "duration": 0,
    "start_time": "2022-07-06T19:34:31.857Z"
   },
   {
    "duration": 0,
    "start_time": "2022-07-06T19:34:31.858Z"
   },
   {
    "duration": 0,
    "start_time": "2022-07-06T19:34:31.864Z"
   },
   {
    "duration": 0,
    "start_time": "2022-07-06T19:34:31.865Z"
   },
   {
    "duration": 0,
    "start_time": "2022-07-06T19:34:31.866Z"
   },
   {
    "duration": 0,
    "start_time": "2022-07-06T19:34:31.867Z"
   },
   {
    "duration": 0,
    "start_time": "2022-07-06T19:34:31.869Z"
   },
   {
    "duration": 0,
    "start_time": "2022-07-06T19:34:31.870Z"
   },
   {
    "duration": 0,
    "start_time": "2022-07-06T19:34:31.871Z"
   },
   {
    "duration": 0,
    "start_time": "2022-07-06T19:34:31.873Z"
   },
   {
    "duration": 0,
    "start_time": "2022-07-06T19:34:31.874Z"
   },
   {
    "duration": 0,
    "start_time": "2022-07-06T19:34:31.875Z"
   },
   {
    "duration": 0,
    "start_time": "2022-07-06T19:34:31.877Z"
   },
   {
    "duration": 0,
    "start_time": "2022-07-06T19:34:31.878Z"
   },
   {
    "duration": 0,
    "start_time": "2022-07-06T19:34:31.880Z"
   },
   {
    "duration": 0,
    "start_time": "2022-07-06T19:34:31.881Z"
   },
   {
    "duration": 0,
    "start_time": "2022-07-06T19:34:31.882Z"
   },
   {
    "duration": 0,
    "start_time": "2022-07-06T19:34:31.884Z"
   },
   {
    "duration": 0,
    "start_time": "2022-07-06T19:34:31.885Z"
   },
   {
    "duration": 0,
    "start_time": "2022-07-06T19:34:31.886Z"
   },
   {
    "duration": 0,
    "start_time": "2022-07-06T19:34:31.887Z"
   },
   {
    "duration": 0,
    "start_time": "2022-07-06T19:34:31.887Z"
   },
   {
    "duration": 0,
    "start_time": "2022-07-06T19:34:31.948Z"
   },
   {
    "duration": 0,
    "start_time": "2022-07-06T19:34:31.949Z"
   },
   {
    "duration": 0,
    "start_time": "2022-07-06T19:34:31.950Z"
   },
   {
    "duration": 0,
    "start_time": "2022-07-06T19:34:31.952Z"
   },
   {
    "duration": 0,
    "start_time": "2022-07-06T19:34:31.953Z"
   },
   {
    "duration": 0,
    "start_time": "2022-07-06T19:34:31.953Z"
   },
   {
    "duration": 0,
    "start_time": "2022-07-06T19:34:31.954Z"
   },
   {
    "duration": 0,
    "start_time": "2022-07-06T19:34:31.955Z"
   },
   {
    "duration": 0,
    "start_time": "2022-07-06T19:34:31.956Z"
   },
   {
    "duration": 0,
    "start_time": "2022-07-06T19:34:31.961Z"
   },
   {
    "duration": 0,
    "start_time": "2022-07-06T19:34:31.962Z"
   },
   {
    "duration": 0,
    "start_time": "2022-07-06T19:34:31.963Z"
   },
   {
    "duration": 0,
    "start_time": "2022-07-06T19:34:31.964Z"
   },
   {
    "duration": 0,
    "start_time": "2022-07-06T19:34:31.965Z"
   },
   {
    "duration": 0,
    "start_time": "2022-07-06T19:34:31.966Z"
   },
   {
    "duration": 0,
    "start_time": "2022-07-06T19:34:31.967Z"
   },
   {
    "duration": 0,
    "start_time": "2022-07-06T19:34:31.968Z"
   },
   {
    "duration": 0,
    "start_time": "2022-07-06T19:34:31.970Z"
   },
   {
    "duration": 0,
    "start_time": "2022-07-06T19:34:31.971Z"
   },
   {
    "duration": 0,
    "start_time": "2022-07-06T19:34:31.972Z"
   },
   {
    "duration": 0,
    "start_time": "2022-07-06T19:34:31.973Z"
   },
   {
    "duration": 0,
    "start_time": "2022-07-06T19:34:31.974Z"
   },
   {
    "duration": 0,
    "start_time": "2022-07-06T19:34:31.975Z"
   },
   {
    "duration": 0,
    "start_time": "2022-07-06T19:34:31.977Z"
   },
   {
    "duration": 0,
    "start_time": "2022-07-06T19:34:31.977Z"
   },
   {
    "duration": 1,
    "start_time": "2022-07-06T19:34:31.978Z"
   },
   {
    "duration": 0,
    "start_time": "2022-07-06T19:34:31.979Z"
   },
   {
    "duration": 0,
    "start_time": "2022-07-06T19:34:31.980Z"
   },
   {
    "duration": 0,
    "start_time": "2022-07-06T19:34:31.981Z"
   },
   {
    "duration": 0,
    "start_time": "2022-07-06T19:34:31.982Z"
   },
   {
    "duration": 0,
    "start_time": "2022-07-06T19:34:31.983Z"
   },
   {
    "duration": 0,
    "start_time": "2022-07-06T19:34:31.985Z"
   },
   {
    "duration": 0,
    "start_time": "2022-07-06T19:34:31.985Z"
   },
   {
    "duration": 0,
    "start_time": "2022-07-06T19:34:31.987Z"
   },
   {
    "duration": 0,
    "start_time": "2022-07-06T19:34:31.988Z"
   },
   {
    "duration": 0,
    "start_time": "2022-07-06T19:34:31.989Z"
   },
   {
    "duration": 0,
    "start_time": "2022-07-06T19:34:32.047Z"
   },
   {
    "duration": 0,
    "start_time": "2022-07-06T19:34:32.048Z"
   },
   {
    "duration": 0,
    "start_time": "2022-07-06T19:34:32.048Z"
   },
   {
    "duration": 0,
    "start_time": "2022-07-06T19:34:32.049Z"
   },
   {
    "duration": 0,
    "start_time": "2022-07-06T19:34:32.050Z"
   },
   {
    "duration": 0,
    "start_time": "2022-07-06T19:34:32.051Z"
   },
   {
    "duration": 0,
    "start_time": "2022-07-06T19:34:32.053Z"
   },
   {
    "duration": 0,
    "start_time": "2022-07-06T19:34:32.054Z"
   },
   {
    "duration": 0,
    "start_time": "2022-07-06T19:34:32.055Z"
   },
   {
    "duration": 0,
    "start_time": "2022-07-06T19:34:32.056Z"
   },
   {
    "duration": 0,
    "start_time": "2022-07-06T19:34:32.057Z"
   },
   {
    "duration": 0,
    "start_time": "2022-07-06T19:34:32.057Z"
   },
   {
    "duration": 0,
    "start_time": "2022-07-06T19:34:32.058Z"
   },
   {
    "duration": 0,
    "start_time": "2022-07-06T19:34:32.061Z"
   },
   {
    "duration": 0,
    "start_time": "2022-07-06T19:34:32.062Z"
   },
   {
    "duration": 0,
    "start_time": "2022-07-06T19:34:32.063Z"
   },
   {
    "duration": 0,
    "start_time": "2022-07-06T19:34:32.064Z"
   },
   {
    "duration": 0,
    "start_time": "2022-07-06T19:34:32.067Z"
   },
   {
    "duration": 0,
    "start_time": "2022-07-06T19:34:32.069Z"
   },
   {
    "duration": 0,
    "start_time": "2022-07-06T19:34:32.070Z"
   },
   {
    "duration": 0,
    "start_time": "2022-07-06T19:34:32.072Z"
   },
   {
    "duration": 0,
    "start_time": "2022-07-06T19:34:32.074Z"
   },
   {
    "duration": 80,
    "start_time": "2022-07-06T19:35:00.291Z"
   },
   {
    "duration": 91,
    "start_time": "2022-07-06T19:37:33.360Z"
   },
   {
    "duration": 68,
    "start_time": "2022-07-06T19:37:38.058Z"
   },
   {
    "duration": 1360,
    "start_time": "2022-07-06T19:47:25.643Z"
   },
   {
    "duration": 251,
    "start_time": "2022-07-06T19:47:27.005Z"
   },
   {
    "duration": 36,
    "start_time": "2022-07-06T19:47:27.258Z"
   },
   {
    "duration": 5,
    "start_time": "2022-07-06T19:47:27.296Z"
   },
   {
    "duration": 14,
    "start_time": "2022-07-06T19:47:27.302Z"
   },
   {
    "duration": 36,
    "start_time": "2022-07-06T19:47:27.318Z"
   },
   {
    "duration": 11,
    "start_time": "2022-07-06T19:47:27.355Z"
   },
   {
    "duration": 7,
    "start_time": "2022-07-06T19:47:27.367Z"
   },
   {
    "duration": 11,
    "start_time": "2022-07-06T19:47:27.375Z"
   },
   {
    "duration": 25,
    "start_time": "2022-07-06T19:47:27.388Z"
   },
   {
    "duration": 35,
    "start_time": "2022-07-06T19:47:27.414Z"
   },
   {
    "duration": 8,
    "start_time": "2022-07-06T19:47:27.451Z"
   },
   {
    "duration": 10,
    "start_time": "2022-07-06T19:47:27.461Z"
   },
   {
    "duration": 46,
    "start_time": "2022-07-06T19:47:27.472Z"
   },
   {
    "duration": 44,
    "start_time": "2022-07-06T19:47:27.547Z"
   },
   {
    "duration": 10,
    "start_time": "2022-07-06T19:47:27.593Z"
   },
   {
    "duration": 19,
    "start_time": "2022-07-06T19:47:27.604Z"
   },
   {
    "duration": 31,
    "start_time": "2022-07-06T19:47:27.645Z"
   },
   {
    "duration": 17,
    "start_time": "2022-07-06T19:47:27.678Z"
   },
   {
    "duration": 11,
    "start_time": "2022-07-06T19:47:27.696Z"
   },
   {
    "duration": 69,
    "start_time": "2022-07-06T19:47:27.709Z"
   },
   {
    "duration": 10,
    "start_time": "2022-07-06T19:47:27.780Z"
   },
   {
    "duration": 15,
    "start_time": "2022-07-06T19:47:27.792Z"
   },
   {
    "duration": 51,
    "start_time": "2022-07-06T19:47:27.808Z"
   },
   {
    "duration": 11,
    "start_time": "2022-07-06T19:47:27.861Z"
   },
   {
    "duration": 18,
    "start_time": "2022-07-06T19:47:27.873Z"
   },
   {
    "duration": 19,
    "start_time": "2022-07-06T19:47:27.893Z"
   },
   {
    "duration": 57,
    "start_time": "2022-07-06T19:47:27.916Z"
   },
   {
    "duration": 21,
    "start_time": "2022-07-06T19:47:27.975Z"
   },
   {
    "duration": 64,
    "start_time": "2022-07-06T19:47:27.998Z"
   },
   {
    "duration": 30,
    "start_time": "2022-07-06T19:47:28.064Z"
   },
   {
    "duration": 12,
    "start_time": "2022-07-06T19:47:28.096Z"
   },
   {
    "duration": 38,
    "start_time": "2022-07-06T19:47:28.109Z"
   },
   {
    "duration": 103,
    "start_time": "2022-07-06T19:47:28.149Z"
   },
   {
    "duration": 5,
    "start_time": "2022-07-06T19:47:28.254Z"
   },
   {
    "duration": 17,
    "start_time": "2022-07-06T19:47:28.261Z"
   },
   {
    "duration": 123,
    "start_time": "2022-07-06T19:47:28.280Z"
   },
   {
    "duration": 93,
    "start_time": "2022-07-06T19:47:28.405Z"
   },
   {
    "duration": 46,
    "start_time": "2022-07-06T19:47:28.500Z"
   },
   {
    "duration": 11,
    "start_time": "2022-07-06T19:47:28.548Z"
   },
   {
    "duration": 19,
    "start_time": "2022-07-06T19:47:28.561Z"
   },
   {
    "duration": 103,
    "start_time": "2022-07-06T19:47:28.582Z"
   },
   {
    "duration": 43,
    "start_time": "2022-07-06T19:47:28.687Z"
   },
   {
    "duration": 15,
    "start_time": "2022-07-06T19:47:28.732Z"
   },
   {
    "duration": 15,
    "start_time": "2022-07-06T19:47:28.749Z"
   },
   {
    "duration": 27,
    "start_time": "2022-07-06T19:47:28.766Z"
   },
   {
    "duration": 19,
    "start_time": "2022-07-06T19:47:28.795Z"
   },
   {
    "duration": 11,
    "start_time": "2022-07-06T19:47:28.815Z"
   },
   {
    "duration": 18,
    "start_time": "2022-07-06T19:47:28.852Z"
   },
   {
    "duration": 503,
    "start_time": "2022-07-06T19:47:28.873Z"
   },
   {
    "duration": 16,
    "start_time": "2022-07-06T19:47:29.378Z"
   },
   {
    "duration": 66,
    "start_time": "2022-07-06T19:47:29.395Z"
   },
   {
    "duration": 111,
    "start_time": "2022-07-06T19:47:29.463Z"
   },
   {
    "duration": 0,
    "start_time": "2022-07-06T19:47:29.578Z"
   },
   {
    "duration": 0,
    "start_time": "2022-07-06T19:47:29.579Z"
   },
   {
    "duration": 0,
    "start_time": "2022-07-06T19:47:29.580Z"
   },
   {
    "duration": 0,
    "start_time": "2022-07-06T19:47:29.581Z"
   },
   {
    "duration": 0,
    "start_time": "2022-07-06T19:47:29.582Z"
   },
   {
    "duration": 0,
    "start_time": "2022-07-06T19:47:29.583Z"
   },
   {
    "duration": 0,
    "start_time": "2022-07-06T19:47:29.584Z"
   },
   {
    "duration": 0,
    "start_time": "2022-07-06T19:47:29.585Z"
   },
   {
    "duration": 0,
    "start_time": "2022-07-06T19:47:29.586Z"
   },
   {
    "duration": 0,
    "start_time": "2022-07-06T19:47:29.587Z"
   },
   {
    "duration": 0,
    "start_time": "2022-07-06T19:47:29.588Z"
   },
   {
    "duration": 0,
    "start_time": "2022-07-06T19:47:29.589Z"
   },
   {
    "duration": 0,
    "start_time": "2022-07-06T19:47:29.590Z"
   },
   {
    "duration": 0,
    "start_time": "2022-07-06T19:47:29.591Z"
   },
   {
    "duration": 0,
    "start_time": "2022-07-06T19:47:29.592Z"
   },
   {
    "duration": 0,
    "start_time": "2022-07-06T19:47:29.594Z"
   },
   {
    "duration": 0,
    "start_time": "2022-07-06T19:47:29.594Z"
   },
   {
    "duration": 0,
    "start_time": "2022-07-06T19:47:29.595Z"
   },
   {
    "duration": 0,
    "start_time": "2022-07-06T19:47:29.596Z"
   },
   {
    "duration": 0,
    "start_time": "2022-07-06T19:47:29.598Z"
   },
   {
    "duration": 0,
    "start_time": "2022-07-06T19:47:29.599Z"
   },
   {
    "duration": 0,
    "start_time": "2022-07-06T19:47:29.600Z"
   },
   {
    "duration": 0,
    "start_time": "2022-07-06T19:47:29.602Z"
   },
   {
    "duration": 0,
    "start_time": "2022-07-06T19:47:29.603Z"
   },
   {
    "duration": 0,
    "start_time": "2022-07-06T19:47:29.604Z"
   },
   {
    "duration": 0,
    "start_time": "2022-07-06T19:47:29.646Z"
   },
   {
    "duration": 0,
    "start_time": "2022-07-06T19:47:29.648Z"
   },
   {
    "duration": 0,
    "start_time": "2022-07-06T19:47:29.649Z"
   },
   {
    "duration": 0,
    "start_time": "2022-07-06T19:47:29.650Z"
   },
   {
    "duration": 0,
    "start_time": "2022-07-06T19:47:29.651Z"
   },
   {
    "duration": 0,
    "start_time": "2022-07-06T19:47:29.652Z"
   },
   {
    "duration": 0,
    "start_time": "2022-07-06T19:47:29.653Z"
   },
   {
    "duration": 0,
    "start_time": "2022-07-06T19:47:29.654Z"
   },
   {
    "duration": 0,
    "start_time": "2022-07-06T19:47:29.656Z"
   },
   {
    "duration": 0,
    "start_time": "2022-07-06T19:47:29.657Z"
   },
   {
    "duration": 0,
    "start_time": "2022-07-06T19:47:29.658Z"
   },
   {
    "duration": 0,
    "start_time": "2022-07-06T19:47:29.659Z"
   },
   {
    "duration": 0,
    "start_time": "2022-07-06T19:47:29.660Z"
   },
   {
    "duration": 0,
    "start_time": "2022-07-06T19:47:29.661Z"
   },
   {
    "duration": 0,
    "start_time": "2022-07-06T19:47:29.662Z"
   },
   {
    "duration": 0,
    "start_time": "2022-07-06T19:47:29.663Z"
   },
   {
    "duration": 0,
    "start_time": "2022-07-06T19:47:29.664Z"
   },
   {
    "duration": 0,
    "start_time": "2022-07-06T19:47:29.665Z"
   },
   {
    "duration": 0,
    "start_time": "2022-07-06T19:47:29.666Z"
   },
   {
    "duration": 0,
    "start_time": "2022-07-06T19:47:29.667Z"
   },
   {
    "duration": 0,
    "start_time": "2022-07-06T19:47:29.669Z"
   },
   {
    "duration": 0,
    "start_time": "2022-07-06T19:47:29.669Z"
   },
   {
    "duration": 0,
    "start_time": "2022-07-06T19:47:29.670Z"
   },
   {
    "duration": 0,
    "start_time": "2022-07-06T19:47:29.671Z"
   },
   {
    "duration": 0,
    "start_time": "2022-07-06T19:47:29.672Z"
   },
   {
    "duration": 0,
    "start_time": "2022-07-06T19:47:29.673Z"
   },
   {
    "duration": 0,
    "start_time": "2022-07-06T19:47:29.674Z"
   },
   {
    "duration": 0,
    "start_time": "2022-07-06T19:47:29.675Z"
   },
   {
    "duration": 0,
    "start_time": "2022-07-06T19:47:29.676Z"
   },
   {
    "duration": 0,
    "start_time": "2022-07-06T19:47:29.678Z"
   },
   {
    "duration": 0,
    "start_time": "2022-07-06T19:47:29.679Z"
   },
   {
    "duration": 0,
    "start_time": "2022-07-06T19:47:29.681Z"
   },
   {
    "duration": 0,
    "start_time": "2022-07-06T19:47:29.682Z"
   },
   {
    "duration": 0,
    "start_time": "2022-07-06T19:47:29.684Z"
   },
   {
    "duration": 0,
    "start_time": "2022-07-06T19:47:29.685Z"
   },
   {
    "duration": 1,
    "start_time": "2022-07-06T19:47:29.685Z"
   },
   {
    "duration": 0,
    "start_time": "2022-07-06T19:47:29.686Z"
   },
   {
    "duration": 0,
    "start_time": "2022-07-06T19:47:29.747Z"
   },
   {
    "duration": 0,
    "start_time": "2022-07-06T19:47:29.748Z"
   },
   {
    "duration": 0,
    "start_time": "2022-07-06T19:47:29.750Z"
   },
   {
    "duration": 0,
    "start_time": "2022-07-06T19:47:29.751Z"
   },
   {
    "duration": 0,
    "start_time": "2022-07-06T19:47:29.752Z"
   },
   {
    "duration": 0,
    "start_time": "2022-07-06T19:47:29.754Z"
   },
   {
    "duration": 0,
    "start_time": "2022-07-06T19:47:29.755Z"
   },
   {
    "duration": 0,
    "start_time": "2022-07-06T19:47:29.756Z"
   },
   {
    "duration": 0,
    "start_time": "2022-07-06T19:47:29.758Z"
   },
   {
    "duration": 0,
    "start_time": "2022-07-06T19:47:29.759Z"
   },
   {
    "duration": 0,
    "start_time": "2022-07-06T19:47:29.760Z"
   },
   {
    "duration": 0,
    "start_time": "2022-07-06T19:47:29.761Z"
   },
   {
    "duration": 0,
    "start_time": "2022-07-06T19:47:29.763Z"
   },
   {
    "duration": 0,
    "start_time": "2022-07-06T19:47:29.764Z"
   },
   {
    "duration": 0,
    "start_time": "2022-07-06T19:47:29.766Z"
   },
   {
    "duration": 0,
    "start_time": "2022-07-06T19:47:29.767Z"
   },
   {
    "duration": 0,
    "start_time": "2022-07-06T19:47:29.769Z"
   },
   {
    "duration": 0,
    "start_time": "2022-07-06T19:47:29.770Z"
   },
   {
    "duration": 0,
    "start_time": "2022-07-06T19:47:29.772Z"
   },
   {
    "duration": 0,
    "start_time": "2022-07-06T19:47:29.773Z"
   },
   {
    "duration": 0,
    "start_time": "2022-07-06T19:47:29.774Z"
   },
   {
    "duration": 0,
    "start_time": "2022-07-06T19:47:29.776Z"
   },
   {
    "duration": 0,
    "start_time": "2022-07-06T19:47:29.777Z"
   },
   {
    "duration": 0,
    "start_time": "2022-07-06T19:47:29.778Z"
   },
   {
    "duration": 0,
    "start_time": "2022-07-06T19:47:29.846Z"
   },
   {
    "duration": 0,
    "start_time": "2022-07-06T19:47:29.847Z"
   },
   {
    "duration": 0,
    "start_time": "2022-07-06T19:47:29.849Z"
   },
   {
    "duration": 0,
    "start_time": "2022-07-06T19:47:29.850Z"
   },
   {
    "duration": 0,
    "start_time": "2022-07-06T19:47:29.851Z"
   },
   {
    "duration": 0,
    "start_time": "2022-07-06T19:47:29.852Z"
   },
   {
    "duration": 0,
    "start_time": "2022-07-06T19:47:29.853Z"
   },
   {
    "duration": 0,
    "start_time": "2022-07-06T19:47:29.854Z"
   },
   {
    "duration": 0,
    "start_time": "2022-07-06T19:47:29.855Z"
   },
   {
    "duration": 0,
    "start_time": "2022-07-06T19:47:29.855Z"
   },
   {
    "duration": 0,
    "start_time": "2022-07-06T19:47:29.857Z"
   },
   {
    "duration": 0,
    "start_time": "2022-07-06T19:47:29.857Z"
   },
   {
    "duration": 0,
    "start_time": "2022-07-06T19:47:29.859Z"
   },
   {
    "duration": 0,
    "start_time": "2022-07-06T19:47:29.859Z"
   },
   {
    "duration": 0,
    "start_time": "2022-07-06T19:47:29.861Z"
   },
   {
    "duration": 0,
    "start_time": "2022-07-06T19:47:29.862Z"
   },
   {
    "duration": 0,
    "start_time": "2022-07-06T19:47:29.863Z"
   },
   {
    "duration": 3,
    "start_time": "2022-07-06T19:48:30.272Z"
   },
   {
    "duration": 3,
    "start_time": "2022-07-06T19:48:31.751Z"
   },
   {
    "duration": 1364,
    "start_time": "2022-07-06T19:48:36.424Z"
   },
   {
    "duration": 242,
    "start_time": "2022-07-06T19:48:37.790Z"
   },
   {
    "duration": 46,
    "start_time": "2022-07-06T19:48:38.033Z"
   },
   {
    "duration": 5,
    "start_time": "2022-07-06T19:48:38.081Z"
   },
   {
    "duration": 13,
    "start_time": "2022-07-06T19:48:38.088Z"
   },
   {
    "duration": 9,
    "start_time": "2022-07-06T19:48:38.103Z"
   },
   {
    "duration": 36,
    "start_time": "2022-07-06T19:48:38.114Z"
   },
   {
    "duration": 5,
    "start_time": "2022-07-06T19:48:38.152Z"
   },
   {
    "duration": 13,
    "start_time": "2022-07-06T19:48:38.158Z"
   },
   {
    "duration": 26,
    "start_time": "2022-07-06T19:48:38.173Z"
   },
   {
    "duration": 12,
    "start_time": "2022-07-06T19:48:38.201Z"
   },
   {
    "duration": 33,
    "start_time": "2022-07-06T19:48:38.214Z"
   },
   {
    "duration": 7,
    "start_time": "2022-07-06T19:48:38.249Z"
   },
   {
    "duration": 34,
    "start_time": "2022-07-06T19:48:38.258Z"
   },
   {
    "duration": 53,
    "start_time": "2022-07-06T19:48:38.294Z"
   },
   {
    "duration": 9,
    "start_time": "2022-07-06T19:48:38.349Z"
   },
   {
    "duration": 28,
    "start_time": "2022-07-06T19:48:38.359Z"
   },
   {
    "duration": 60,
    "start_time": "2022-07-06T19:48:38.389Z"
   },
   {
    "duration": 13,
    "start_time": "2022-07-06T19:48:38.450Z"
   },
   {
    "duration": 14,
    "start_time": "2022-07-06T19:48:38.465Z"
   },
   {
    "duration": 37,
    "start_time": "2022-07-06T19:48:38.481Z"
   },
   {
    "duration": 10,
    "start_time": "2022-07-06T19:48:38.546Z"
   },
   {
    "duration": 18,
    "start_time": "2022-07-06T19:48:38.558Z"
   },
   {
    "duration": 33,
    "start_time": "2022-07-06T19:48:38.578Z"
   },
   {
    "duration": 37,
    "start_time": "2022-07-06T19:48:38.612Z"
   },
   {
    "duration": 15,
    "start_time": "2022-07-06T19:48:38.651Z"
   },
   {
    "duration": 17,
    "start_time": "2022-07-06T19:48:38.668Z"
   },
   {
    "duration": 61,
    "start_time": "2022-07-06T19:48:38.690Z"
   },
   {
    "duration": 23,
    "start_time": "2022-07-06T19:48:38.752Z"
   },
   {
    "duration": 68,
    "start_time": "2022-07-06T19:48:38.778Z"
   },
   {
    "duration": 49,
    "start_time": "2022-07-06T19:48:38.848Z"
   },
   {
    "duration": 28,
    "start_time": "2022-07-06T19:48:38.901Z"
   },
   {
    "duration": 34,
    "start_time": "2022-07-06T19:48:38.931Z"
   },
   {
    "duration": 128,
    "start_time": "2022-07-06T19:48:38.968Z"
   },
   {
    "duration": 9,
    "start_time": "2022-07-06T19:48:39.099Z"
   },
   {
    "duration": 42,
    "start_time": "2022-07-06T19:48:39.109Z"
   },
   {
    "duration": 107,
    "start_time": "2022-07-06T19:48:39.153Z"
   },
   {
    "duration": 94,
    "start_time": "2022-07-06T19:48:39.261Z"
   },
   {
    "duration": 42,
    "start_time": "2022-07-06T19:48:39.357Z"
   },
   {
    "duration": 17,
    "start_time": "2022-07-06T19:48:39.401Z"
   },
   {
    "duration": 30,
    "start_time": "2022-07-06T19:48:39.420Z"
   },
   {
    "duration": 102,
    "start_time": "2022-07-06T19:48:39.452Z"
   },
   {
    "duration": 45,
    "start_time": "2022-07-06T19:48:39.556Z"
   },
   {
    "duration": 4,
    "start_time": "2022-07-06T19:48:39.603Z"
   },
   {
    "duration": 14,
    "start_time": "2022-07-06T19:48:39.609Z"
   },
   {
    "duration": 19,
    "start_time": "2022-07-06T19:48:39.646Z"
   },
   {
    "duration": 24,
    "start_time": "2022-07-06T19:48:39.667Z"
   },
   {
    "duration": 16,
    "start_time": "2022-07-06T19:48:39.693Z"
   },
   {
    "duration": 13,
    "start_time": "2022-07-06T19:48:39.711Z"
   },
   {
    "duration": 444,
    "start_time": "2022-07-06T19:48:39.745Z"
   },
   {
    "duration": 17,
    "start_time": "2022-07-06T19:48:40.191Z"
   },
   {
    "duration": 67,
    "start_time": "2022-07-06T19:48:40.210Z"
   },
   {
    "duration": 4,
    "start_time": "2022-07-06T19:48:40.278Z"
   },
   {
    "duration": 9,
    "start_time": "2022-07-06T19:48:40.283Z"
   },
   {
    "duration": 115,
    "start_time": "2022-07-06T19:48:40.294Z"
   },
   {
    "duration": 0,
    "start_time": "2022-07-06T19:48:40.412Z"
   },
   {
    "duration": 0,
    "start_time": "2022-07-06T19:48:40.414Z"
   },
   {
    "duration": 0,
    "start_time": "2022-07-06T19:48:40.415Z"
   },
   {
    "duration": 0,
    "start_time": "2022-07-06T19:48:40.416Z"
   },
   {
    "duration": 0,
    "start_time": "2022-07-06T19:48:40.417Z"
   },
   {
    "duration": 0,
    "start_time": "2022-07-06T19:48:40.418Z"
   },
   {
    "duration": 0,
    "start_time": "2022-07-06T19:48:40.419Z"
   },
   {
    "duration": 0,
    "start_time": "2022-07-06T19:48:40.420Z"
   },
   {
    "duration": 0,
    "start_time": "2022-07-06T19:48:40.422Z"
   },
   {
    "duration": 0,
    "start_time": "2022-07-06T19:48:40.423Z"
   },
   {
    "duration": 0,
    "start_time": "2022-07-06T19:48:40.424Z"
   },
   {
    "duration": 0,
    "start_time": "2022-07-06T19:48:40.425Z"
   },
   {
    "duration": 0,
    "start_time": "2022-07-06T19:48:40.425Z"
   },
   {
    "duration": 0,
    "start_time": "2022-07-06T19:48:40.446Z"
   },
   {
    "duration": 0,
    "start_time": "2022-07-06T19:48:40.447Z"
   },
   {
    "duration": 0,
    "start_time": "2022-07-06T19:48:40.448Z"
   },
   {
    "duration": 0,
    "start_time": "2022-07-06T19:48:40.449Z"
   },
   {
    "duration": 0,
    "start_time": "2022-07-06T19:48:40.451Z"
   },
   {
    "duration": 0,
    "start_time": "2022-07-06T19:48:40.452Z"
   },
   {
    "duration": 1,
    "start_time": "2022-07-06T19:48:40.453Z"
   },
   {
    "duration": 0,
    "start_time": "2022-07-06T19:48:40.455Z"
   },
   {
    "duration": 0,
    "start_time": "2022-07-06T19:48:40.456Z"
   },
   {
    "duration": 0,
    "start_time": "2022-07-06T19:48:40.457Z"
   },
   {
    "duration": 0,
    "start_time": "2022-07-06T19:48:40.461Z"
   },
   {
    "duration": 0,
    "start_time": "2022-07-06T19:48:40.462Z"
   },
   {
    "duration": 0,
    "start_time": "2022-07-06T19:48:40.464Z"
   },
   {
    "duration": 0,
    "start_time": "2022-07-06T19:48:40.465Z"
   },
   {
    "duration": 0,
    "start_time": "2022-07-06T19:48:40.467Z"
   },
   {
    "duration": 0,
    "start_time": "2022-07-06T19:48:40.468Z"
   },
   {
    "duration": 0,
    "start_time": "2022-07-06T19:48:40.469Z"
   },
   {
    "duration": 0,
    "start_time": "2022-07-06T19:48:40.470Z"
   },
   {
    "duration": 0,
    "start_time": "2022-07-06T19:48:40.472Z"
   },
   {
    "duration": 0,
    "start_time": "2022-07-06T19:48:40.473Z"
   },
   {
    "duration": 0,
    "start_time": "2022-07-06T19:48:40.474Z"
   },
   {
    "duration": 0,
    "start_time": "2022-07-06T19:48:40.475Z"
   },
   {
    "duration": 0,
    "start_time": "2022-07-06T19:48:40.476Z"
   },
   {
    "duration": 0,
    "start_time": "2022-07-06T19:48:40.477Z"
   },
   {
    "duration": 1,
    "start_time": "2022-07-06T19:48:40.478Z"
   },
   {
    "duration": 0,
    "start_time": "2022-07-06T19:48:40.480Z"
   },
   {
    "duration": 0,
    "start_time": "2022-07-06T19:48:40.482Z"
   },
   {
    "duration": 0,
    "start_time": "2022-07-06T19:48:40.483Z"
   },
   {
    "duration": 0,
    "start_time": "2022-07-06T19:48:40.484Z"
   },
   {
    "duration": 0,
    "start_time": "2022-07-06T19:48:40.486Z"
   },
   {
    "duration": 0,
    "start_time": "2022-07-06T19:48:40.546Z"
   },
   {
    "duration": 0,
    "start_time": "2022-07-06T19:48:40.547Z"
   },
   {
    "duration": 0,
    "start_time": "2022-07-06T19:48:40.549Z"
   },
   {
    "duration": 0,
    "start_time": "2022-07-06T19:48:40.550Z"
   },
   {
    "duration": 0,
    "start_time": "2022-07-06T19:48:40.551Z"
   },
   {
    "duration": 0,
    "start_time": "2022-07-06T19:48:40.552Z"
   },
   {
    "duration": 0,
    "start_time": "2022-07-06T19:48:40.554Z"
   },
   {
    "duration": 0,
    "start_time": "2022-07-06T19:48:40.556Z"
   },
   {
    "duration": 0,
    "start_time": "2022-07-06T19:48:40.557Z"
   },
   {
    "duration": 0,
    "start_time": "2022-07-06T19:48:40.558Z"
   },
   {
    "duration": 0,
    "start_time": "2022-07-06T19:48:40.560Z"
   },
   {
    "duration": 0,
    "start_time": "2022-07-06T19:48:40.561Z"
   },
   {
    "duration": 0,
    "start_time": "2022-07-06T19:48:40.562Z"
   },
   {
    "duration": 0,
    "start_time": "2022-07-06T19:48:40.564Z"
   },
   {
    "duration": 0,
    "start_time": "2022-07-06T19:48:40.565Z"
   },
   {
    "duration": 0,
    "start_time": "2022-07-06T19:48:40.567Z"
   },
   {
    "duration": 0,
    "start_time": "2022-07-06T19:48:40.569Z"
   },
   {
    "duration": 0,
    "start_time": "2022-07-06T19:48:40.570Z"
   },
   {
    "duration": 0,
    "start_time": "2022-07-06T19:48:40.571Z"
   },
   {
    "duration": 0,
    "start_time": "2022-07-06T19:48:40.573Z"
   },
   {
    "duration": 0,
    "start_time": "2022-07-06T19:48:40.574Z"
   },
   {
    "duration": 0,
    "start_time": "2022-07-06T19:48:40.575Z"
   },
   {
    "duration": 0,
    "start_time": "2022-07-06T19:48:40.577Z"
   },
   {
    "duration": 0,
    "start_time": "2022-07-06T19:48:40.578Z"
   },
   {
    "duration": 0,
    "start_time": "2022-07-06T19:48:40.579Z"
   },
   {
    "duration": 0,
    "start_time": "2022-07-06T19:48:40.580Z"
   },
   {
    "duration": 0,
    "start_time": "2022-07-06T19:48:40.581Z"
   },
   {
    "duration": 0,
    "start_time": "2022-07-06T19:48:40.582Z"
   },
   {
    "duration": 0,
    "start_time": "2022-07-06T19:48:40.646Z"
   },
   {
    "duration": 0,
    "start_time": "2022-07-06T19:48:40.647Z"
   },
   {
    "duration": 0,
    "start_time": "2022-07-06T19:48:40.648Z"
   },
   {
    "duration": 0,
    "start_time": "2022-07-06T19:48:40.649Z"
   },
   {
    "duration": 0,
    "start_time": "2022-07-06T19:48:40.650Z"
   },
   {
    "duration": 0,
    "start_time": "2022-07-06T19:48:40.651Z"
   },
   {
    "duration": 0,
    "start_time": "2022-07-06T19:48:40.653Z"
   },
   {
    "duration": 0,
    "start_time": "2022-07-06T19:48:40.654Z"
   },
   {
    "duration": 0,
    "start_time": "2022-07-06T19:48:40.656Z"
   },
   {
    "duration": 0,
    "start_time": "2022-07-06T19:48:40.657Z"
   },
   {
    "duration": 0,
    "start_time": "2022-07-06T19:48:40.658Z"
   },
   {
    "duration": 0,
    "start_time": "2022-07-06T19:48:40.659Z"
   },
   {
    "duration": 0,
    "start_time": "2022-07-06T19:48:40.661Z"
   },
   {
    "duration": 0,
    "start_time": "2022-07-06T19:48:40.662Z"
   },
   {
    "duration": 0,
    "start_time": "2022-07-06T19:48:40.663Z"
   },
   {
    "duration": 0,
    "start_time": "2022-07-06T19:48:40.665Z"
   },
   {
    "duration": 0,
    "start_time": "2022-07-06T19:48:40.666Z"
   },
   {
    "duration": 0,
    "start_time": "2022-07-06T19:48:40.667Z"
   },
   {
    "duration": 1,
    "start_time": "2022-07-06T19:48:40.668Z"
   },
   {
    "duration": 0,
    "start_time": "2022-07-06T19:48:40.670Z"
   },
   {
    "duration": 0,
    "start_time": "2022-07-06T19:48:40.671Z"
   },
   {
    "duration": 0,
    "start_time": "2022-07-06T19:48:40.673Z"
   },
   {
    "duration": 0,
    "start_time": "2022-07-06T19:48:40.674Z"
   },
   {
    "duration": 0,
    "start_time": "2022-07-06T19:48:40.675Z"
   },
   {
    "duration": 0,
    "start_time": "2022-07-06T19:48:40.676Z"
   },
   {
    "duration": 0,
    "start_time": "2022-07-06T19:48:40.678Z"
   },
   {
    "duration": 0,
    "start_time": "2022-07-06T19:48:40.679Z"
   },
   {
    "duration": 0,
    "start_time": "2022-07-06T19:48:40.680Z"
   },
   {
    "duration": 0,
    "start_time": "2022-07-06T19:48:40.682Z"
   },
   {
    "duration": 0,
    "start_time": "2022-07-06T19:48:40.683Z"
   },
   {
    "duration": 1346,
    "start_time": "2022-07-06T19:50:51.500Z"
   },
   {
    "duration": 249,
    "start_time": "2022-07-06T19:50:52.847Z"
   },
   {
    "duration": 52,
    "start_time": "2022-07-06T19:50:53.098Z"
   },
   {
    "duration": 5,
    "start_time": "2022-07-06T19:50:53.152Z"
   },
   {
    "duration": 11,
    "start_time": "2022-07-06T19:50:53.159Z"
   },
   {
    "duration": 10,
    "start_time": "2022-07-06T19:50:53.172Z"
   },
   {
    "duration": 10,
    "start_time": "2022-07-06T19:50:53.184Z"
   },
   {
    "duration": 9,
    "start_time": "2022-07-06T19:50:53.195Z"
   },
   {
    "duration": 48,
    "start_time": "2022-07-06T19:50:53.206Z"
   },
   {
    "duration": 31,
    "start_time": "2022-07-06T19:50:53.257Z"
   },
   {
    "duration": 14,
    "start_time": "2022-07-06T19:50:53.289Z"
   },
   {
    "duration": 7,
    "start_time": "2022-07-06T19:50:53.305Z"
   },
   {
    "duration": 33,
    "start_time": "2022-07-06T19:50:53.314Z"
   },
   {
    "duration": 42,
    "start_time": "2022-07-06T19:50:53.349Z"
   },
   {
    "duration": 55,
    "start_time": "2022-07-06T19:50:53.392Z"
   },
   {
    "duration": 28,
    "start_time": "2022-07-06T19:50:53.448Z"
   },
   {
    "duration": 27,
    "start_time": "2022-07-06T19:50:53.478Z"
   },
   {
    "duration": 53,
    "start_time": "2022-07-06T19:50:53.507Z"
   },
   {
    "duration": 15,
    "start_time": "2022-07-06T19:50:53.562Z"
   },
   {
    "duration": 9,
    "start_time": "2022-07-06T19:50:53.578Z"
   },
   {
    "duration": 36,
    "start_time": "2022-07-06T19:50:53.589Z"
   },
   {
    "duration": 11,
    "start_time": "2022-07-06T19:50:53.646Z"
   },
   {
    "duration": 17,
    "start_time": "2022-07-06T19:50:53.659Z"
   },
   {
    "duration": 45,
    "start_time": "2022-07-06T19:50:53.678Z"
   },
   {
    "duration": 27,
    "start_time": "2022-07-06T19:50:53.727Z"
   },
   {
    "duration": 20,
    "start_time": "2022-07-06T19:50:53.757Z"
   },
   {
    "duration": 17,
    "start_time": "2022-07-06T19:50:53.779Z"
   },
   {
    "duration": 73,
    "start_time": "2022-07-06T19:50:53.802Z"
   },
   {
    "duration": 24,
    "start_time": "2022-07-06T19:50:53.876Z"
   },
   {
    "duration": 64,
    "start_time": "2022-07-06T19:50:53.902Z"
   },
   {
    "duration": 37,
    "start_time": "2022-07-06T19:50:53.968Z"
   },
   {
    "duration": 14,
    "start_time": "2022-07-06T19:50:54.007Z"
   },
   {
    "duration": 36,
    "start_time": "2022-07-06T19:50:54.023Z"
   },
   {
    "duration": 103,
    "start_time": "2022-07-06T19:50:54.060Z"
   },
   {
    "duration": 5,
    "start_time": "2022-07-06T19:50:54.164Z"
   },
   {
    "duration": 13,
    "start_time": "2022-07-06T19:50:54.171Z"
   },
   {
    "duration": 112,
    "start_time": "2022-07-06T19:50:54.186Z"
   },
   {
    "duration": 100,
    "start_time": "2022-07-06T19:50:54.300Z"
   },
   {
    "duration": 48,
    "start_time": "2022-07-06T19:50:54.402Z"
   },
   {
    "duration": 10,
    "start_time": "2022-07-06T19:50:54.452Z"
   },
   {
    "duration": 13,
    "start_time": "2022-07-06T19:50:54.463Z"
   },
   {
    "duration": 105,
    "start_time": "2022-07-06T19:50:54.478Z"
   },
   {
    "duration": 44,
    "start_time": "2022-07-06T19:50:54.585Z"
   },
   {
    "duration": 4,
    "start_time": "2022-07-06T19:50:54.646Z"
   },
   {
    "duration": 18,
    "start_time": "2022-07-06T19:50:54.652Z"
   },
   {
    "duration": 33,
    "start_time": "2022-07-06T19:50:54.672Z"
   },
   {
    "duration": 18,
    "start_time": "2022-07-06T19:50:54.707Z"
   },
   {
    "duration": 26,
    "start_time": "2022-07-06T19:50:54.727Z"
   },
   {
    "duration": 13,
    "start_time": "2022-07-06T19:50:54.755Z"
   },
   {
    "duration": 473,
    "start_time": "2022-07-06T19:50:54.769Z"
   },
   {
    "duration": 16,
    "start_time": "2022-07-06T19:50:55.245Z"
   },
   {
    "duration": 66,
    "start_time": "2022-07-06T19:50:55.263Z"
   },
   {
    "duration": 15,
    "start_time": "2022-07-06T19:50:55.331Z"
   },
   {
    "duration": 6,
    "start_time": "2022-07-06T19:50:55.348Z"
   },
   {
    "duration": 5,
    "start_time": "2022-07-06T19:50:55.356Z"
   },
   {
    "duration": 202,
    "start_time": "2022-07-06T19:50:55.363Z"
   },
   {
    "duration": 7,
    "start_time": "2022-07-06T19:50:55.566Z"
   },
   {
    "duration": 7,
    "start_time": "2022-07-06T19:50:55.575Z"
   },
   {
    "duration": 11,
    "start_time": "2022-07-06T19:50:55.584Z"
   },
   {
    "duration": 174,
    "start_time": "2022-07-06T19:50:55.597Z"
   },
   {
    "duration": 7,
    "start_time": "2022-07-06T19:50:55.772Z"
   },
   {
    "duration": 16,
    "start_time": "2022-07-06T19:50:55.780Z"
   },
   {
    "duration": 8,
    "start_time": "2022-07-06T19:50:55.798Z"
   },
   {
    "duration": 192,
    "start_time": "2022-07-06T19:50:55.807Z"
   },
   {
    "duration": 11,
    "start_time": "2022-07-06T19:50:56.000Z"
   },
   {
    "duration": 13,
    "start_time": "2022-07-06T19:50:56.013Z"
   },
   {
    "duration": 27,
    "start_time": "2022-07-06T19:50:56.028Z"
   },
   {
    "duration": 194,
    "start_time": "2022-07-06T19:50:56.056Z"
   },
   {
    "duration": 38,
    "start_time": "2022-07-06T19:50:56.251Z"
   },
   {
    "duration": 21,
    "start_time": "2022-07-06T19:50:56.291Z"
   },
   {
    "duration": 40,
    "start_time": "2022-07-06T19:50:56.314Z"
   },
   {
    "duration": 5,
    "start_time": "2022-07-06T19:50:56.355Z"
   },
   {
    "duration": 16,
    "start_time": "2022-07-06T19:50:56.361Z"
   },
   {
    "duration": 15,
    "start_time": "2022-07-06T19:50:56.379Z"
   },
   {
    "duration": 51,
    "start_time": "2022-07-06T19:50:56.396Z"
   },
   {
    "duration": 10,
    "start_time": "2022-07-06T19:50:56.448Z"
   },
   {
    "duration": 22,
    "start_time": "2022-07-06T19:50:56.459Z"
   },
   {
    "duration": 13,
    "start_time": "2022-07-06T19:50:56.483Z"
   },
   {
    "duration": 12,
    "start_time": "2022-07-06T19:50:56.498Z"
   },
   {
    "duration": 38,
    "start_time": "2022-07-06T19:50:56.512Z"
   },
   {
    "duration": 16,
    "start_time": "2022-07-06T19:50:56.552Z"
   },
   {
    "duration": 12,
    "start_time": "2022-07-06T19:50:56.574Z"
   },
   {
    "duration": 17,
    "start_time": "2022-07-06T19:50:56.588Z"
   },
   {
    "duration": 69,
    "start_time": "2022-07-06T19:50:56.606Z"
   },
   {
    "duration": 25,
    "start_time": "2022-07-06T19:50:56.677Z"
   },
   {
    "duration": 13,
    "start_time": "2022-07-06T19:50:56.704Z"
   },
   {
    "duration": 87,
    "start_time": "2022-07-06T19:50:56.719Z"
   },
   {
    "duration": 6,
    "start_time": "2022-07-06T19:50:56.808Z"
   },
   {
    "duration": 6,
    "start_time": "2022-07-06T19:50:56.816Z"
   },
   {
    "duration": 27,
    "start_time": "2022-07-06T19:50:56.824Z"
   },
   {
    "duration": 15,
    "start_time": "2022-07-06T19:50:56.853Z"
   },
   {
    "duration": 5,
    "start_time": "2022-07-06T19:50:56.870Z"
   },
   {
    "duration": 7,
    "start_time": "2022-07-06T19:50:56.877Z"
   },
   {
    "duration": 77,
    "start_time": "2022-07-06T19:50:56.885Z"
   },
   {
    "duration": 50,
    "start_time": "2022-07-06T19:50:56.964Z"
   },
   {
    "duration": 5,
    "start_time": "2022-07-06T19:50:57.015Z"
   },
   {
    "duration": 30,
    "start_time": "2022-07-06T19:50:57.022Z"
   },
   {
    "duration": 7,
    "start_time": "2022-07-06T19:50:57.053Z"
   },
   {
    "duration": 6,
    "start_time": "2022-07-06T19:50:57.061Z"
   },
   {
    "duration": 204,
    "start_time": "2022-07-06T19:50:57.069Z"
   },
   {
    "duration": 5,
    "start_time": "2022-07-06T19:50:57.276Z"
   },
   {
    "duration": 34,
    "start_time": "2022-07-06T19:50:57.283Z"
   },
   {
    "duration": 3,
    "start_time": "2022-07-06T19:50:57.319Z"
   },
   {
    "duration": 57,
    "start_time": "2022-07-06T19:50:57.346Z"
   },
   {
    "duration": 48,
    "start_time": "2022-07-06T19:50:57.404Z"
   },
   {
    "duration": 265,
    "start_time": "2022-07-06T19:50:57.454Z"
   },
   {
    "duration": 15,
    "start_time": "2022-07-06T19:50:57.721Z"
   },
   {
    "duration": 231,
    "start_time": "2022-07-06T19:50:57.745Z"
   },
   {
    "duration": 50,
    "start_time": "2022-07-06T19:50:57.978Z"
   },
   {
    "duration": 44,
    "start_time": "2022-07-06T19:50:58.030Z"
   },
   {
    "duration": 24,
    "start_time": "2022-07-06T19:50:58.076Z"
   },
   {
    "duration": 1785,
    "start_time": "2022-07-06T19:50:58.102Z"
   },
   {
    "duration": 59,
    "start_time": "2022-07-06T19:50:59.889Z"
   },
   {
    "duration": 14,
    "start_time": "2022-07-06T19:50:59.950Z"
   },
   {
    "duration": 48,
    "start_time": "2022-07-06T19:50:59.965Z"
   },
   {
    "duration": 8,
    "start_time": "2022-07-06T19:51:00.014Z"
   },
   {
    "duration": 27,
    "start_time": "2022-07-06T19:51:00.024Z"
   },
   {
    "duration": 15,
    "start_time": "2022-07-06T19:51:00.053Z"
   },
   {
    "duration": 46,
    "start_time": "2022-07-06T19:51:00.070Z"
   },
   {
    "duration": 29,
    "start_time": "2022-07-06T19:51:00.117Z"
   },
   {
    "duration": 33,
    "start_time": "2022-07-06T19:51:00.148Z"
   },
   {
    "duration": 10,
    "start_time": "2022-07-06T19:51:00.182Z"
   },
   {
    "duration": 22,
    "start_time": "2022-07-06T19:51:00.194Z"
   },
   {
    "duration": 57,
    "start_time": "2022-07-06T19:51:00.218Z"
   },
   {
    "duration": 14,
    "start_time": "2022-07-06T19:51:00.277Z"
   },
   {
    "duration": 34,
    "start_time": "2022-07-06T19:51:00.292Z"
   },
   {
    "duration": 22,
    "start_time": "2022-07-06T19:51:00.328Z"
   },
   {
    "duration": 41,
    "start_time": "2022-07-06T19:51:00.352Z"
   },
   {
    "duration": 28,
    "start_time": "2022-07-06T19:51:00.395Z"
   },
   {
    "duration": 1562,
    "start_time": "2022-07-06T19:51:00.425Z"
   },
   {
    "duration": 13,
    "start_time": "2022-07-06T19:51:01.989Z"
   },
   {
    "duration": 27,
    "start_time": "2022-07-06T19:51:02.004Z"
   },
   {
    "duration": 19,
    "start_time": "2022-07-06T19:51:02.033Z"
   },
   {
    "duration": 5,
    "start_time": "2022-07-06T19:51:02.054Z"
   },
   {
    "duration": 37,
    "start_time": "2022-07-06T19:51:02.061Z"
   },
   {
    "duration": 32,
    "start_time": "2022-07-06T19:51:02.100Z"
   },
   {
    "duration": 26,
    "start_time": "2022-07-06T19:51:02.134Z"
   },
   {
    "duration": 15,
    "start_time": "2022-07-06T19:51:02.162Z"
   },
   {
    "duration": 15,
    "start_time": "2022-07-06T19:51:02.178Z"
   },
   {
    "duration": 10,
    "start_time": "2022-07-06T19:51:02.195Z"
   },
   {
    "duration": 11,
    "start_time": "2022-07-06T19:51:02.206Z"
   },
   {
    "duration": 17,
    "start_time": "2022-07-06T19:51:02.219Z"
   },
   {
    "duration": 27,
    "start_time": "2022-07-06T19:51:02.238Z"
   },
   {
    "duration": 17,
    "start_time": "2022-07-06T19:51:02.267Z"
   },
   {
    "duration": 23,
    "start_time": "2022-07-06T19:51:02.286Z"
   },
   {
    "duration": 13,
    "start_time": "2022-07-06T19:51:02.310Z"
   },
   {
    "duration": 9,
    "start_time": "2022-07-06T19:51:02.325Z"
   },
   {
    "duration": 16,
    "start_time": "2022-07-06T19:51:02.335Z"
   },
   {
    "duration": 9,
    "start_time": "2022-07-06T19:51:02.352Z"
   },
   {
    "duration": 10,
    "start_time": "2022-07-06T19:51:02.363Z"
   },
   {
    "duration": 20,
    "start_time": "2022-07-06T19:51:02.375Z"
   },
   {
    "duration": 100,
    "start_time": "2022-07-06T19:51:02.397Z"
   },
   {
    "duration": 0,
    "start_time": "2022-07-06T19:51:02.499Z"
   },
   {
    "duration": 0,
    "start_time": "2022-07-06T19:51:02.500Z"
   },
   {
    "duration": 0,
    "start_time": "2022-07-06T19:51:02.501Z"
   },
   {
    "duration": 0,
    "start_time": "2022-07-06T19:51:02.502Z"
   },
   {
    "duration": 0,
    "start_time": "2022-07-06T19:51:02.503Z"
   },
   {
    "duration": 25,
    "start_time": "2022-07-06T19:59:41.199Z"
   },
   {
    "duration": 53,
    "start_time": "2022-07-06T19:59:41.510Z"
   },
   {
    "duration": 4,
    "start_time": "2022-07-06T19:59:43.180Z"
   },
   {
    "duration": 1708,
    "start_time": "2022-07-06T19:59:44.312Z"
   },
   {
    "duration": 317,
    "start_time": "2022-07-06T19:59:46.023Z"
   },
   {
    "duration": 10,
    "start_time": "2022-07-06T20:01:07.252Z"
   },
   {
    "duration": 5,
    "start_time": "2022-07-06T20:01:36.799Z"
   },
   {
    "duration": 1732,
    "start_time": "2022-07-06T20:07:22.754Z"
   },
   {
    "duration": 1514,
    "start_time": "2022-07-06T22:14:22.010Z"
   },
   {
    "duration": 1077,
    "start_time": "2022-07-06T22:14:23.526Z"
   },
   {
    "duration": 36,
    "start_time": "2022-07-06T22:14:24.605Z"
   },
   {
    "duration": 6,
    "start_time": "2022-07-06T22:14:24.643Z"
   },
   {
    "duration": 11,
    "start_time": "2022-07-06T22:14:24.651Z"
   },
   {
    "duration": 83,
    "start_time": "2022-07-06T22:14:24.664Z"
   },
   {
    "duration": 13,
    "start_time": "2022-07-06T22:14:24.749Z"
   },
   {
    "duration": 5,
    "start_time": "2022-07-06T22:14:24.763Z"
   },
   {
    "duration": 13,
    "start_time": "2022-07-06T22:14:24.770Z"
   },
   {
    "duration": 171,
    "start_time": "2022-07-06T22:14:24.786Z"
   },
   {
    "duration": 14,
    "start_time": "2022-07-06T22:14:24.959Z"
   },
   {
    "duration": 7,
    "start_time": "2022-07-06T22:14:24.975Z"
   },
   {
    "duration": 12,
    "start_time": "2022-07-06T22:14:24.984Z"
   },
   {
    "duration": 37,
    "start_time": "2022-07-06T22:14:24.998Z"
   },
   {
    "duration": 28,
    "start_time": "2022-07-06T22:14:25.037Z"
   },
   {
    "duration": 16,
    "start_time": "2022-07-06T22:14:25.067Z"
   },
   {
    "duration": 14,
    "start_time": "2022-07-06T22:14:25.098Z"
   },
   {
    "duration": 30,
    "start_time": "2022-07-06T22:14:25.114Z"
   },
   {
    "duration": 14,
    "start_time": "2022-07-06T22:14:25.146Z"
   },
   {
    "duration": 13,
    "start_time": "2022-07-06T22:14:25.161Z"
   },
   {
    "duration": 32,
    "start_time": "2022-07-06T22:14:25.198Z"
   },
   {
    "duration": 11,
    "start_time": "2022-07-06T22:14:25.231Z"
   },
   {
    "duration": 18,
    "start_time": "2022-07-06T22:14:25.243Z"
   },
   {
    "duration": 54,
    "start_time": "2022-07-06T22:14:25.263Z"
   },
   {
    "duration": 12,
    "start_time": "2022-07-06T22:14:25.319Z"
   },
   {
    "duration": 15,
    "start_time": "2022-07-06T22:14:25.332Z"
   },
   {
    "duration": 12,
    "start_time": "2022-07-06T22:14:25.349Z"
   },
   {
    "duration": 55,
    "start_time": "2022-07-06T22:14:25.367Z"
   },
   {
    "duration": 20,
    "start_time": "2022-07-06T22:14:25.424Z"
   },
   {
    "duration": 62,
    "start_time": "2022-07-06T22:14:25.445Z"
   },
   {
    "duration": 29,
    "start_time": "2022-07-06T22:14:25.509Z"
   },
   {
    "duration": 13,
    "start_time": "2022-07-06T22:14:25.540Z"
   },
   {
    "duration": 17,
    "start_time": "2022-07-06T22:14:25.554Z"
   },
   {
    "duration": 118,
    "start_time": "2022-07-06T22:14:25.573Z"
   },
   {
    "duration": 7,
    "start_time": "2022-07-06T22:14:25.692Z"
   },
   {
    "duration": 15,
    "start_time": "2022-07-06T22:14:25.701Z"
   },
   {
    "duration": 115,
    "start_time": "2022-07-06T22:14:25.717Z"
   },
   {
    "duration": 95,
    "start_time": "2022-07-06T22:14:25.833Z"
   },
   {
    "duration": 54,
    "start_time": "2022-07-06T22:14:25.929Z"
   },
   {
    "duration": 11,
    "start_time": "2022-07-06T22:14:25.998Z"
   },
   {
    "duration": 15,
    "start_time": "2022-07-06T22:14:26.011Z"
   },
   {
    "duration": 108,
    "start_time": "2022-07-06T22:14:26.027Z"
   },
   {
    "duration": 38,
    "start_time": "2022-07-06T22:14:26.137Z"
   },
   {
    "duration": 21,
    "start_time": "2022-07-06T22:14:26.177Z"
   },
   {
    "duration": 14,
    "start_time": "2022-07-06T22:14:26.200Z"
   },
   {
    "duration": 24,
    "start_time": "2022-07-06T22:14:26.217Z"
   },
   {
    "duration": 16,
    "start_time": "2022-07-06T22:14:26.243Z"
   },
   {
    "duration": 10,
    "start_time": "2022-07-06T22:14:26.261Z"
   },
   {
    "duration": 34,
    "start_time": "2022-07-06T22:14:26.273Z"
   },
   {
    "duration": 490,
    "start_time": "2022-07-06T22:14:26.309Z"
   },
   {
    "duration": 20,
    "start_time": "2022-07-06T22:14:26.801Z"
   },
   {
    "duration": 78,
    "start_time": "2022-07-06T22:14:26.823Z"
   },
   {
    "duration": 2,
    "start_time": "2022-07-06T22:14:26.905Z"
   },
   {
    "duration": 9,
    "start_time": "2022-07-06T22:14:26.910Z"
   },
   {
    "duration": 10,
    "start_time": "2022-07-06T22:14:26.921Z"
   },
   {
    "duration": 218,
    "start_time": "2022-07-06T22:14:26.933Z"
   },
   {
    "duration": 6,
    "start_time": "2022-07-06T22:14:27.153Z"
   },
   {
    "duration": 12,
    "start_time": "2022-07-06T22:14:27.160Z"
   },
   {
    "duration": 28,
    "start_time": "2022-07-06T22:14:27.175Z"
   },
   {
    "duration": 160,
    "start_time": "2022-07-06T22:14:27.205Z"
   },
   {
    "duration": 6,
    "start_time": "2022-07-06T22:14:27.367Z"
   },
   {
    "duration": 25,
    "start_time": "2022-07-06T22:14:27.375Z"
   },
   {
    "duration": 7,
    "start_time": "2022-07-06T22:14:27.402Z"
   },
   {
    "duration": 189,
    "start_time": "2022-07-06T22:14:27.411Z"
   },
   {
    "duration": 14,
    "start_time": "2022-07-06T22:14:27.602Z"
   },
   {
    "duration": 17,
    "start_time": "2022-07-06T22:14:27.619Z"
   },
   {
    "duration": 23,
    "start_time": "2022-07-06T22:14:27.638Z"
   },
   {
    "duration": 194,
    "start_time": "2022-07-06T22:14:27.663Z"
   },
   {
    "duration": 47,
    "start_time": "2022-07-06T22:14:27.859Z"
   },
   {
    "duration": 22,
    "start_time": "2022-07-06T22:14:27.908Z"
   },
   {
    "duration": 21,
    "start_time": "2022-07-06T22:14:27.932Z"
   },
   {
    "duration": 5,
    "start_time": "2022-07-06T22:14:27.956Z"
   },
   {
    "duration": 14,
    "start_time": "2022-07-06T22:14:27.962Z"
   },
   {
    "duration": 11,
    "start_time": "2022-07-06T22:14:27.999Z"
   },
   {
    "duration": 40,
    "start_time": "2022-07-06T22:14:28.012Z"
   },
   {
    "duration": 8,
    "start_time": "2022-07-06T22:14:28.054Z"
   },
   {
    "duration": 51,
    "start_time": "2022-07-06T22:14:28.064Z"
   },
   {
    "duration": 13,
    "start_time": "2022-07-06T22:14:28.117Z"
   },
   {
    "duration": 14,
    "start_time": "2022-07-06T22:14:28.132Z"
   },
   {
    "duration": 12,
    "start_time": "2022-07-06T22:14:28.148Z"
   },
   {
    "duration": 38,
    "start_time": "2022-07-06T22:14:28.161Z"
   },
   {
    "duration": 13,
    "start_time": "2022-07-06T22:14:28.207Z"
   },
   {
    "duration": 17,
    "start_time": "2022-07-06T22:14:28.222Z"
   },
   {
    "duration": 63,
    "start_time": "2022-07-06T22:14:28.241Z"
   },
   {
    "duration": 23,
    "start_time": "2022-07-06T22:14:28.306Z"
   },
   {
    "duration": 13,
    "start_time": "2022-07-06T22:14:28.331Z"
   },
   {
    "duration": 86,
    "start_time": "2022-07-06T22:14:28.346Z"
   },
   {
    "duration": 4,
    "start_time": "2022-07-06T22:14:28.434Z"
   },
   {
    "duration": 7,
    "start_time": "2022-07-06T22:14:28.440Z"
   },
   {
    "duration": 14,
    "start_time": "2022-07-06T22:14:28.448Z"
   },
   {
    "duration": 35,
    "start_time": "2022-07-06T22:14:28.464Z"
   },
   {
    "duration": 6,
    "start_time": "2022-07-06T22:14:28.501Z"
   },
   {
    "duration": 5,
    "start_time": "2022-07-06T22:14:28.509Z"
   },
   {
    "duration": 54,
    "start_time": "2022-07-06T22:14:28.515Z"
   },
   {
    "duration": 68,
    "start_time": "2022-07-06T22:14:28.571Z"
   },
   {
    "duration": 4,
    "start_time": "2022-07-06T22:14:28.641Z"
   },
   {
    "duration": 17,
    "start_time": "2022-07-06T22:14:28.646Z"
   },
   {
    "duration": 36,
    "start_time": "2022-07-06T22:14:28.665Z"
   },
   {
    "duration": 9,
    "start_time": "2022-07-06T22:14:28.702Z"
   },
   {
    "duration": 223,
    "start_time": "2022-07-06T22:14:28.712Z"
   },
   {
    "duration": 5,
    "start_time": "2022-07-06T22:14:28.936Z"
   },
   {
    "duration": 42,
    "start_time": "2022-07-06T22:14:28.942Z"
   },
   {
    "duration": 13,
    "start_time": "2022-07-06T22:14:28.986Z"
   },
   {
    "duration": 68,
    "start_time": "2022-07-06T22:14:29.001Z"
   },
   {
    "duration": 45,
    "start_time": "2022-07-06T22:14:29.071Z"
   },
   {
    "duration": 246,
    "start_time": "2022-07-06T22:14:29.119Z"
   },
   {
    "duration": 14,
    "start_time": "2022-07-06T22:14:29.366Z"
   },
   {
    "duration": 216,
    "start_time": "2022-07-06T22:14:29.382Z"
   },
   {
    "duration": 53,
    "start_time": "2022-07-06T22:14:29.600Z"
   },
   {
    "duration": 51,
    "start_time": "2022-07-06T22:14:29.655Z"
   },
   {
    "duration": 25,
    "start_time": "2022-07-06T22:14:29.708Z"
   },
   {
    "duration": 1839,
    "start_time": "2022-07-06T22:14:29.735Z"
   },
   {
    "duration": 55,
    "start_time": "2022-07-06T22:14:31.576Z"
   },
   {
    "duration": 16,
    "start_time": "2022-07-06T22:14:31.634Z"
   },
   {
    "duration": 52,
    "start_time": "2022-07-06T22:14:31.652Z"
   },
   {
    "duration": 8,
    "start_time": "2022-07-06T22:14:31.706Z"
   },
   {
    "duration": 10,
    "start_time": "2022-07-06T22:14:31.716Z"
   },
   {
    "duration": 10,
    "start_time": "2022-07-06T22:14:31.727Z"
   },
   {
    "duration": 76,
    "start_time": "2022-07-06T22:14:31.739Z"
   },
   {
    "duration": 8,
    "start_time": "2022-07-06T22:14:31.817Z"
   },
   {
    "duration": 38,
    "start_time": "2022-07-06T22:14:31.827Z"
   },
   {
    "duration": 12,
    "start_time": "2022-07-06T22:14:31.867Z"
   },
   {
    "duration": 36,
    "start_time": "2022-07-06T22:14:31.898Z"
   },
   {
    "duration": 30,
    "start_time": "2022-07-06T22:14:31.936Z"
   },
   {
    "duration": 14,
    "start_time": "2022-07-06T22:14:31.968Z"
   },
   {
    "duration": 22,
    "start_time": "2022-07-06T22:14:31.997Z"
   },
   {
    "duration": 6,
    "start_time": "2022-07-06T22:14:32.021Z"
   },
   {
    "duration": 22,
    "start_time": "2022-07-06T22:14:32.029Z"
   },
   {
    "duration": 53,
    "start_time": "2022-07-06T22:14:32.052Z"
   },
   {
    "duration": 1579,
    "start_time": "2022-07-06T22:14:32.107Z"
   },
   {
    "duration": 16,
    "start_time": "2022-07-06T22:14:33.687Z"
   },
   {
    "duration": 20,
    "start_time": "2022-07-06T22:14:33.704Z"
   },
   {
    "duration": 11,
    "start_time": "2022-07-06T22:14:33.726Z"
   },
   {
    "duration": 6,
    "start_time": "2022-07-06T22:14:33.739Z"
   },
   {
    "duration": 62,
    "start_time": "2022-07-06T22:14:33.747Z"
   },
   {
    "duration": 35,
    "start_time": "2022-07-06T22:14:33.811Z"
   },
   {
    "duration": 15,
    "start_time": "2022-07-06T22:14:33.848Z"
   },
   {
    "duration": 5,
    "start_time": "2022-07-06T22:14:33.866Z"
   },
   {
    "duration": 28,
    "start_time": "2022-07-06T22:14:33.873Z"
   },
   {
    "duration": 11,
    "start_time": "2022-07-06T22:14:33.903Z"
   },
   {
    "duration": 12,
    "start_time": "2022-07-06T22:14:33.915Z"
   },
   {
    "duration": 12,
    "start_time": "2022-07-06T22:14:33.929Z"
   },
   {
    "duration": 13,
    "start_time": "2022-07-06T22:14:33.942Z"
   },
   {
    "duration": 13,
    "start_time": "2022-07-06T22:14:33.958Z"
   },
   {
    "duration": 30,
    "start_time": "2022-07-06T22:14:33.973Z"
   },
   {
    "duration": 8,
    "start_time": "2022-07-06T22:14:34.005Z"
   },
   {
    "duration": 12,
    "start_time": "2022-07-06T22:14:34.016Z"
   },
   {
    "duration": 12,
    "start_time": "2022-07-06T22:14:34.030Z"
   },
   {
    "duration": 8,
    "start_time": "2022-07-06T22:14:34.044Z"
   },
   {
    "duration": 12,
    "start_time": "2022-07-06T22:14:34.054Z"
   },
   {
    "duration": 53,
    "start_time": "2022-07-06T22:14:34.068Z"
   },
   {
    "duration": 35,
    "start_time": "2022-07-06T22:14:34.124Z"
   },
   {
    "duration": 58,
    "start_time": "2022-07-06T22:14:34.162Z"
   },
   {
    "duration": 80,
    "start_time": "2022-07-06T22:14:34.222Z"
   },
   {
    "duration": 0,
    "start_time": "2022-07-06T22:14:34.303Z"
   },
   {
    "duration": 0,
    "start_time": "2022-07-06T22:14:34.305Z"
   },
   {
    "duration": 0,
    "start_time": "2022-07-06T22:14:34.307Z"
   },
   {
    "duration": 0,
    "start_time": "2022-07-06T22:14:34.308Z"
   },
   {
    "duration": 1395,
    "start_time": "2022-07-06T22:15:29.928Z"
   },
   {
    "duration": 232,
    "start_time": "2022-07-06T22:15:31.325Z"
   },
   {
    "duration": 39,
    "start_time": "2022-07-06T22:15:31.559Z"
   },
   {
    "duration": 6,
    "start_time": "2022-07-06T22:15:31.601Z"
   },
   {
    "duration": 17,
    "start_time": "2022-07-06T22:15:31.609Z"
   },
   {
    "duration": 18,
    "start_time": "2022-07-06T22:15:31.630Z"
   },
   {
    "duration": 13,
    "start_time": "2022-07-06T22:15:31.650Z"
   },
   {
    "duration": 12,
    "start_time": "2022-07-06T22:15:31.665Z"
   },
   {
    "duration": 28,
    "start_time": "2022-07-06T22:15:31.679Z"
   },
   {
    "duration": 32,
    "start_time": "2022-07-06T22:15:31.710Z"
   },
   {
    "duration": 13,
    "start_time": "2022-07-06T22:15:31.743Z"
   },
   {
    "duration": 7,
    "start_time": "2022-07-06T22:15:31.758Z"
   },
   {
    "duration": 12,
    "start_time": "2022-07-06T22:15:31.766Z"
   },
   {
    "duration": 50,
    "start_time": "2022-07-06T22:15:31.799Z"
   },
   {
    "duration": 31,
    "start_time": "2022-07-06T22:15:31.851Z"
   },
   {
    "duration": 11,
    "start_time": "2022-07-06T22:15:31.899Z"
   },
   {
    "duration": 47,
    "start_time": "2022-07-06T22:15:31.912Z"
   },
   {
    "duration": 39,
    "start_time": "2022-07-06T22:15:31.961Z"
   },
   {
    "duration": 19,
    "start_time": "2022-07-06T22:15:32.003Z"
   },
   {
    "duration": 13,
    "start_time": "2022-07-06T22:15:32.025Z"
   },
   {
    "duration": 38,
    "start_time": "2022-07-06T22:15:32.041Z"
   },
   {
    "duration": 18,
    "start_time": "2022-07-06T22:15:32.098Z"
   },
   {
    "duration": 24,
    "start_time": "2022-07-06T22:15:32.119Z"
   },
   {
    "duration": 29,
    "start_time": "2022-07-06T22:15:32.145Z"
   },
   {
    "duration": 26,
    "start_time": "2022-07-06T22:15:32.176Z"
   },
   {
    "duration": 18,
    "start_time": "2022-07-06T22:15:32.204Z"
   },
   {
    "duration": 19,
    "start_time": "2022-07-06T22:15:32.225Z"
   },
   {
    "duration": 79,
    "start_time": "2022-07-06T22:15:32.252Z"
   },
   {
    "duration": 21,
    "start_time": "2022-07-06T22:15:32.333Z"
   },
   {
    "duration": 60,
    "start_time": "2022-07-06T22:15:32.356Z"
   },
   {
    "duration": 32,
    "start_time": "2022-07-06T22:15:32.418Z"
   },
   {
    "duration": 20,
    "start_time": "2022-07-06T22:15:32.452Z"
   },
   {
    "duration": 29,
    "start_time": "2022-07-06T22:15:32.474Z"
   },
   {
    "duration": 118,
    "start_time": "2022-07-06T22:15:32.506Z"
   },
   {
    "duration": 7,
    "start_time": "2022-07-06T22:15:32.626Z"
   },
   {
    "duration": 21,
    "start_time": "2022-07-06T22:15:32.635Z"
   },
   {
    "duration": 134,
    "start_time": "2022-07-06T22:15:32.659Z"
   },
   {
    "duration": 90,
    "start_time": "2022-07-06T22:15:32.799Z"
   },
   {
    "duration": 37,
    "start_time": "2022-07-06T22:15:32.899Z"
   },
   {
    "duration": 14,
    "start_time": "2022-07-06T22:15:32.938Z"
   },
   {
    "duration": 21,
    "start_time": "2022-07-06T22:15:32.954Z"
   },
   {
    "duration": 109,
    "start_time": "2022-07-06T22:15:32.977Z"
   },
   {
    "duration": 42,
    "start_time": "2022-07-06T22:15:33.099Z"
   },
   {
    "duration": 5,
    "start_time": "2022-07-06T22:15:33.143Z"
   },
   {
    "duration": 17,
    "start_time": "2022-07-06T22:15:33.150Z"
   },
   {
    "duration": 42,
    "start_time": "2022-07-06T22:15:33.169Z"
   },
   {
    "duration": 21,
    "start_time": "2022-07-06T22:15:33.213Z"
   },
   {
    "duration": 12,
    "start_time": "2022-07-06T22:15:33.236Z"
   },
   {
    "duration": 16,
    "start_time": "2022-07-06T22:15:33.250Z"
   },
   {
    "duration": 519,
    "start_time": "2022-07-06T22:15:33.268Z"
   },
   {
    "duration": 26,
    "start_time": "2022-07-06T22:15:33.788Z"
   },
   {
    "duration": 54,
    "start_time": "2022-07-06T22:15:33.816Z"
   },
   {
    "duration": 3,
    "start_time": "2022-07-06T22:15:33.872Z"
   },
   {
    "duration": 21,
    "start_time": "2022-07-06T22:15:33.877Z"
   },
   {
    "duration": 136,
    "start_time": "2022-07-06T22:15:33.900Z"
   },
   {
    "duration": 0,
    "start_time": "2022-07-06T22:15:34.040Z"
   },
   {
    "duration": 0,
    "start_time": "2022-07-06T22:15:34.042Z"
   },
   {
    "duration": 0,
    "start_time": "2022-07-06T22:15:34.045Z"
   },
   {
    "duration": 0,
    "start_time": "2022-07-06T22:15:34.047Z"
   },
   {
    "duration": 0,
    "start_time": "2022-07-06T22:15:34.049Z"
   },
   {
    "duration": 0,
    "start_time": "2022-07-06T22:15:34.050Z"
   },
   {
    "duration": 0,
    "start_time": "2022-07-06T22:15:34.052Z"
   },
   {
    "duration": 0,
    "start_time": "2022-07-06T22:15:34.054Z"
   },
   {
    "duration": 0,
    "start_time": "2022-07-06T22:15:34.055Z"
   },
   {
    "duration": 0,
    "start_time": "2022-07-06T22:15:34.057Z"
   },
   {
    "duration": 0,
    "start_time": "2022-07-06T22:15:34.058Z"
   },
   {
    "duration": 0,
    "start_time": "2022-07-06T22:15:34.060Z"
   },
   {
    "duration": 0,
    "start_time": "2022-07-06T22:15:34.061Z"
   },
   {
    "duration": 0,
    "start_time": "2022-07-06T22:15:34.063Z"
   },
   {
    "duration": 0,
    "start_time": "2022-07-06T22:15:34.064Z"
   },
   {
    "duration": 0,
    "start_time": "2022-07-06T22:15:34.098Z"
   },
   {
    "duration": 0,
    "start_time": "2022-07-06T22:15:34.100Z"
   },
   {
    "duration": 0,
    "start_time": "2022-07-06T22:15:34.102Z"
   },
   {
    "duration": 0,
    "start_time": "2022-07-06T22:15:34.103Z"
   },
   {
    "duration": 0,
    "start_time": "2022-07-06T22:15:34.105Z"
   },
   {
    "duration": 0,
    "start_time": "2022-07-06T22:15:34.106Z"
   },
   {
    "duration": 0,
    "start_time": "2022-07-06T22:15:34.108Z"
   },
   {
    "duration": 1,
    "start_time": "2022-07-06T22:15:34.111Z"
   },
   {
    "duration": 0,
    "start_time": "2022-07-06T22:15:34.113Z"
   },
   {
    "duration": 0,
    "start_time": "2022-07-06T22:15:34.114Z"
   },
   {
    "duration": 0,
    "start_time": "2022-07-06T22:15:34.116Z"
   },
   {
    "duration": 0,
    "start_time": "2022-07-06T22:15:34.118Z"
   },
   {
    "duration": 0,
    "start_time": "2022-07-06T22:15:34.120Z"
   },
   {
    "duration": 0,
    "start_time": "2022-07-06T22:15:34.122Z"
   },
   {
    "duration": 0,
    "start_time": "2022-07-06T22:15:34.122Z"
   },
   {
    "duration": 0,
    "start_time": "2022-07-06T22:15:34.125Z"
   },
   {
    "duration": 0,
    "start_time": "2022-07-06T22:15:34.127Z"
   },
   {
    "duration": 0,
    "start_time": "2022-07-06T22:15:34.128Z"
   },
   {
    "duration": 0,
    "start_time": "2022-07-06T22:15:34.129Z"
   },
   {
    "duration": 0,
    "start_time": "2022-07-06T22:15:34.131Z"
   },
   {
    "duration": 0,
    "start_time": "2022-07-06T22:15:34.132Z"
   },
   {
    "duration": 0,
    "start_time": "2022-07-06T22:15:34.133Z"
   },
   {
    "duration": 0,
    "start_time": "2022-07-06T22:15:34.134Z"
   },
   {
    "duration": 0,
    "start_time": "2022-07-06T22:15:34.135Z"
   },
   {
    "duration": 0,
    "start_time": "2022-07-06T22:15:34.136Z"
   },
   {
    "duration": 0,
    "start_time": "2022-07-06T22:15:34.137Z"
   },
   {
    "duration": 0,
    "start_time": "2022-07-06T22:15:34.138Z"
   },
   {
    "duration": 0,
    "start_time": "2022-07-06T22:15:34.139Z"
   },
   {
    "duration": 0,
    "start_time": "2022-07-06T22:15:34.140Z"
   },
   {
    "duration": 0,
    "start_time": "2022-07-06T22:15:34.141Z"
   },
   {
    "duration": 0,
    "start_time": "2022-07-06T22:15:34.143Z"
   },
   {
    "duration": 0,
    "start_time": "2022-07-06T22:15:34.144Z"
   },
   {
    "duration": 0,
    "start_time": "2022-07-06T22:15:34.198Z"
   },
   {
    "duration": 0,
    "start_time": "2022-07-06T22:15:34.200Z"
   },
   {
    "duration": 0,
    "start_time": "2022-07-06T22:15:34.201Z"
   },
   {
    "duration": 0,
    "start_time": "2022-07-06T22:15:34.202Z"
   },
   {
    "duration": 0,
    "start_time": "2022-07-06T22:15:34.204Z"
   },
   {
    "duration": 0,
    "start_time": "2022-07-06T22:15:34.205Z"
   },
   {
    "duration": 0,
    "start_time": "2022-07-06T22:15:34.208Z"
   },
   {
    "duration": 0,
    "start_time": "2022-07-06T22:15:34.209Z"
   },
   {
    "duration": 0,
    "start_time": "2022-07-06T22:15:34.210Z"
   },
   {
    "duration": 0,
    "start_time": "2022-07-06T22:15:34.211Z"
   },
   {
    "duration": 0,
    "start_time": "2022-07-06T22:15:34.212Z"
   },
   {
    "duration": 0,
    "start_time": "2022-07-06T22:15:34.213Z"
   },
   {
    "duration": 0,
    "start_time": "2022-07-06T22:15:34.213Z"
   },
   {
    "duration": 0,
    "start_time": "2022-07-06T22:15:34.214Z"
   },
   {
    "duration": 0,
    "start_time": "2022-07-06T22:15:34.215Z"
   },
   {
    "duration": 0,
    "start_time": "2022-07-06T22:15:34.216Z"
   },
   {
    "duration": 0,
    "start_time": "2022-07-06T22:15:34.219Z"
   },
   {
    "duration": 0,
    "start_time": "2022-07-06T22:15:34.220Z"
   },
   {
    "duration": 0,
    "start_time": "2022-07-06T22:15:34.221Z"
   },
   {
    "duration": 0,
    "start_time": "2022-07-06T22:15:34.222Z"
   },
   {
    "duration": 0,
    "start_time": "2022-07-06T22:15:34.223Z"
   },
   {
    "duration": 0,
    "start_time": "2022-07-06T22:15:34.224Z"
   },
   {
    "duration": 0,
    "start_time": "2022-07-06T22:15:34.225Z"
   },
   {
    "duration": 0,
    "start_time": "2022-07-06T22:15:34.226Z"
   },
   {
    "duration": 0,
    "start_time": "2022-07-06T22:15:34.227Z"
   },
   {
    "duration": 0,
    "start_time": "2022-07-06T22:15:34.228Z"
   },
   {
    "duration": 0,
    "start_time": "2022-07-06T22:15:34.229Z"
   },
   {
    "duration": 0,
    "start_time": "2022-07-06T22:15:34.230Z"
   },
   {
    "duration": 0,
    "start_time": "2022-07-06T22:15:34.232Z"
   },
   {
    "duration": 0,
    "start_time": "2022-07-06T22:15:34.233Z"
   },
   {
    "duration": 0,
    "start_time": "2022-07-06T22:15:34.234Z"
   },
   {
    "duration": 0,
    "start_time": "2022-07-06T22:15:34.235Z"
   },
   {
    "duration": 0,
    "start_time": "2022-07-06T22:15:34.237Z"
   },
   {
    "duration": 0,
    "start_time": "2022-07-06T22:15:34.238Z"
   },
   {
    "duration": 0,
    "start_time": "2022-07-06T22:15:34.240Z"
   },
   {
    "duration": 0,
    "start_time": "2022-07-06T22:15:34.298Z"
   },
   {
    "duration": 0,
    "start_time": "2022-07-06T22:15:34.300Z"
   },
   {
    "duration": 0,
    "start_time": "2022-07-06T22:15:34.302Z"
   },
   {
    "duration": 0,
    "start_time": "2022-07-06T22:15:34.303Z"
   },
   {
    "duration": 0,
    "start_time": "2022-07-06T22:15:34.304Z"
   },
   {
    "duration": 0,
    "start_time": "2022-07-06T22:15:34.306Z"
   },
   {
    "duration": 0,
    "start_time": "2022-07-06T22:15:34.307Z"
   },
   {
    "duration": 0,
    "start_time": "2022-07-06T22:15:34.309Z"
   },
   {
    "duration": 0,
    "start_time": "2022-07-06T22:15:34.310Z"
   },
   {
    "duration": 0,
    "start_time": "2022-07-06T22:15:34.312Z"
   },
   {
    "duration": 0,
    "start_time": "2022-07-06T22:15:34.313Z"
   },
   {
    "duration": 0,
    "start_time": "2022-07-06T22:15:34.314Z"
   },
   {
    "duration": 0,
    "start_time": "2022-07-06T22:15:34.316Z"
   },
   {
    "duration": 0,
    "start_time": "2022-07-06T22:15:34.317Z"
   },
   {
    "duration": 0,
    "start_time": "2022-07-06T22:15:34.319Z"
   },
   {
    "duration": 0,
    "start_time": "2022-07-06T22:15:34.320Z"
   },
   {
    "duration": 0,
    "start_time": "2022-07-06T22:15:34.322Z"
   },
   {
    "duration": 0,
    "start_time": "2022-07-06T22:15:34.324Z"
   },
   {
    "duration": 0,
    "start_time": "2022-07-06T22:15:34.325Z"
   },
   {
    "duration": 0,
    "start_time": "2022-07-06T22:15:34.327Z"
   },
   {
    "duration": 1363,
    "start_time": "2022-07-06T22:17:10.238Z"
   },
   {
    "duration": 237,
    "start_time": "2022-07-06T22:17:11.605Z"
   },
   {
    "duration": 33,
    "start_time": "2022-07-06T22:17:11.844Z"
   },
   {
    "duration": 5,
    "start_time": "2022-07-06T22:17:11.879Z"
   },
   {
    "duration": 11,
    "start_time": "2022-07-06T22:17:11.899Z"
   },
   {
    "duration": 17,
    "start_time": "2022-07-06T22:17:11.912Z"
   },
   {
    "duration": 14,
    "start_time": "2022-07-06T22:17:11.931Z"
   },
   {
    "duration": 6,
    "start_time": "2022-07-06T22:17:11.947Z"
   },
   {
    "duration": 12,
    "start_time": "2022-07-06T22:17:11.955Z"
   },
   {
    "duration": 43,
    "start_time": "2022-07-06T22:17:11.970Z"
   },
   {
    "duration": 14,
    "start_time": "2022-07-06T22:17:12.015Z"
   },
   {
    "duration": 9,
    "start_time": "2022-07-06T22:17:12.031Z"
   },
   {
    "duration": 14,
    "start_time": "2022-07-06T22:17:12.043Z"
   },
   {
    "duration": 58,
    "start_time": "2022-07-06T22:17:12.059Z"
   },
   {
    "duration": 28,
    "start_time": "2022-07-06T22:17:12.119Z"
   },
   {
    "duration": 14,
    "start_time": "2022-07-06T22:17:12.150Z"
   },
   {
    "duration": 33,
    "start_time": "2022-07-06T22:17:12.166Z"
   },
   {
    "duration": 41,
    "start_time": "2022-07-06T22:17:12.201Z"
   },
   {
    "duration": 16,
    "start_time": "2022-07-06T22:17:12.243Z"
   },
   {
    "duration": 15,
    "start_time": "2022-07-06T22:17:12.261Z"
   },
   {
    "duration": 33,
    "start_time": "2022-07-06T22:17:12.298Z"
   },
   {
    "duration": 11,
    "start_time": "2022-07-06T22:17:12.334Z"
   },
   {
    "duration": 21,
    "start_time": "2022-07-06T22:17:12.347Z"
   },
   {
    "duration": 54,
    "start_time": "2022-07-06T22:17:12.369Z"
   },
   {
    "duration": 12,
    "start_time": "2022-07-06T22:17:12.425Z"
   },
   {
    "duration": 18,
    "start_time": "2022-07-06T22:17:12.439Z"
   },
   {
    "duration": 13,
    "start_time": "2022-07-06T22:17:12.459Z"
   },
   {
    "duration": 36,
    "start_time": "2022-07-06T22:17:12.499Z"
   },
   {
    "duration": 20,
    "start_time": "2022-07-06T22:17:12.537Z"
   },
   {
    "duration": 69,
    "start_time": "2022-07-06T22:17:12.558Z"
   },
   {
    "duration": 36,
    "start_time": "2022-07-06T22:17:12.630Z"
   },
   {
    "duration": 31,
    "start_time": "2022-07-06T22:17:12.669Z"
   },
   {
    "duration": 19,
    "start_time": "2022-07-06T22:17:12.702Z"
   },
   {
    "duration": 104,
    "start_time": "2022-07-06T22:17:12.723Z"
   },
   {
    "duration": 5,
    "start_time": "2022-07-06T22:17:12.829Z"
   },
   {
    "duration": 13,
    "start_time": "2022-07-06T22:17:12.837Z"
   },
   {
    "duration": 120,
    "start_time": "2022-07-06T22:17:12.852Z"
   },
   {
    "duration": 96,
    "start_time": "2022-07-06T22:17:12.974Z"
   },
   {
    "duration": 42,
    "start_time": "2022-07-06T22:17:13.072Z"
   },
   {
    "duration": 12,
    "start_time": "2022-07-06T22:17:13.116Z"
   },
   {
    "duration": 13,
    "start_time": "2022-07-06T22:17:13.130Z"
   },
   {
    "duration": 115,
    "start_time": "2022-07-06T22:17:13.145Z"
   },
   {
    "duration": 49,
    "start_time": "2022-07-06T22:17:13.262Z"
   },
   {
    "duration": 5,
    "start_time": "2022-07-06T22:17:13.313Z"
   },
   {
    "duration": 22,
    "start_time": "2022-07-06T22:17:13.320Z"
   },
   {
    "duration": 23,
    "start_time": "2022-07-06T22:17:13.344Z"
   },
   {
    "duration": 32,
    "start_time": "2022-07-06T22:17:13.370Z"
   },
   {
    "duration": 10,
    "start_time": "2022-07-06T22:17:13.405Z"
   },
   {
    "duration": 14,
    "start_time": "2022-07-06T22:17:13.417Z"
   },
   {
    "duration": 523,
    "start_time": "2022-07-06T22:17:13.433Z"
   },
   {
    "duration": 20,
    "start_time": "2022-07-06T22:17:13.959Z"
   },
   {
    "duration": 72,
    "start_time": "2022-07-06T22:17:13.981Z"
   },
   {
    "duration": 5,
    "start_time": "2022-07-06T22:17:14.060Z"
   },
   {
    "duration": 15,
    "start_time": "2022-07-06T22:17:14.067Z"
   },
   {
    "duration": 194,
    "start_time": "2022-07-06T22:17:14.084Z"
   },
   {
    "duration": 0,
    "start_time": "2022-07-06T22:17:14.282Z"
   },
   {
    "duration": 0,
    "start_time": "2022-07-06T22:17:14.284Z"
   },
   {
    "duration": 0,
    "start_time": "2022-07-06T22:17:14.286Z"
   },
   {
    "duration": 0,
    "start_time": "2022-07-06T22:17:14.298Z"
   },
   {
    "duration": 0,
    "start_time": "2022-07-06T22:17:14.301Z"
   },
   {
    "duration": 0,
    "start_time": "2022-07-06T22:17:14.302Z"
   },
   {
    "duration": 0,
    "start_time": "2022-07-06T22:17:14.304Z"
   },
   {
    "duration": 0,
    "start_time": "2022-07-06T22:17:14.306Z"
   },
   {
    "duration": 0,
    "start_time": "2022-07-06T22:17:14.308Z"
   },
   {
    "duration": 0,
    "start_time": "2022-07-06T22:17:14.309Z"
   },
   {
    "duration": 0,
    "start_time": "2022-07-06T22:17:14.311Z"
   },
   {
    "duration": 0,
    "start_time": "2022-07-06T22:17:14.312Z"
   },
   {
    "duration": 0,
    "start_time": "2022-07-06T22:17:14.314Z"
   },
   {
    "duration": 0,
    "start_time": "2022-07-06T22:17:14.316Z"
   },
   {
    "duration": 0,
    "start_time": "2022-07-06T22:17:14.317Z"
   },
   {
    "duration": 0,
    "start_time": "2022-07-06T22:17:14.318Z"
   },
   {
    "duration": 0,
    "start_time": "2022-07-06T22:17:14.320Z"
   },
   {
    "duration": 0,
    "start_time": "2022-07-06T22:17:14.321Z"
   },
   {
    "duration": 0,
    "start_time": "2022-07-06T22:17:14.322Z"
   },
   {
    "duration": 0,
    "start_time": "2022-07-06T22:17:14.324Z"
   },
   {
    "duration": 0,
    "start_time": "2022-07-06T22:17:14.326Z"
   },
   {
    "duration": 0,
    "start_time": "2022-07-06T22:17:14.327Z"
   },
   {
    "duration": 0,
    "start_time": "2022-07-06T22:17:14.329Z"
   },
   {
    "duration": 0,
    "start_time": "2022-07-06T22:17:14.330Z"
   },
   {
    "duration": 0,
    "start_time": "2022-07-06T22:17:14.332Z"
   },
   {
    "duration": 0,
    "start_time": "2022-07-06T22:17:14.333Z"
   },
   {
    "duration": 0,
    "start_time": "2022-07-06T22:17:14.335Z"
   },
   {
    "duration": 0,
    "start_time": "2022-07-06T22:17:14.336Z"
   },
   {
    "duration": 0,
    "start_time": "2022-07-06T22:17:14.338Z"
   },
   {
    "duration": 0,
    "start_time": "2022-07-06T22:17:14.339Z"
   },
   {
    "duration": 0,
    "start_time": "2022-07-06T22:17:14.399Z"
   },
   {
    "duration": 0,
    "start_time": "2022-07-06T22:17:14.401Z"
   },
   {
    "duration": 0,
    "start_time": "2022-07-06T22:17:14.402Z"
   },
   {
    "duration": 0,
    "start_time": "2022-07-06T22:17:14.403Z"
   },
   {
    "duration": 0,
    "start_time": "2022-07-06T22:17:14.405Z"
   },
   {
    "duration": 0,
    "start_time": "2022-07-06T22:17:14.407Z"
   },
   {
    "duration": 0,
    "start_time": "2022-07-06T22:17:14.411Z"
   },
   {
    "duration": 0,
    "start_time": "2022-07-06T22:17:14.413Z"
   },
   {
    "duration": 0,
    "start_time": "2022-07-06T22:17:14.415Z"
   },
   {
    "duration": 0,
    "start_time": "2022-07-06T22:17:14.417Z"
   },
   {
    "duration": 0,
    "start_time": "2022-07-06T22:17:14.418Z"
   },
   {
    "duration": 0,
    "start_time": "2022-07-06T22:17:14.420Z"
   },
   {
    "duration": 0,
    "start_time": "2022-07-06T22:17:14.421Z"
   },
   {
    "duration": 1,
    "start_time": "2022-07-06T22:17:14.422Z"
   },
   {
    "duration": 0,
    "start_time": "2022-07-06T22:17:14.424Z"
   },
   {
    "duration": 0,
    "start_time": "2022-07-06T22:17:14.426Z"
   },
   {
    "duration": 0,
    "start_time": "2022-07-06T22:17:14.428Z"
   },
   {
    "duration": 0,
    "start_time": "2022-07-06T22:17:14.430Z"
   },
   {
    "duration": 0,
    "start_time": "2022-07-06T22:17:14.431Z"
   },
   {
    "duration": 0,
    "start_time": "2022-07-06T22:17:14.433Z"
   },
   {
    "duration": 0,
    "start_time": "2022-07-06T22:17:14.435Z"
   },
   {
    "duration": 0,
    "start_time": "2022-07-06T22:17:14.437Z"
   },
   {
    "duration": 0,
    "start_time": "2022-07-06T22:17:14.498Z"
   },
   {
    "duration": 1,
    "start_time": "2022-07-06T22:17:14.500Z"
   },
   {
    "duration": 0,
    "start_time": "2022-07-06T22:17:14.502Z"
   },
   {
    "duration": 0,
    "start_time": "2022-07-06T22:17:14.503Z"
   },
   {
    "duration": 0,
    "start_time": "2022-07-06T22:17:14.505Z"
   },
   {
    "duration": 0,
    "start_time": "2022-07-06T22:17:14.506Z"
   },
   {
    "duration": 0,
    "start_time": "2022-07-06T22:17:14.508Z"
   },
   {
    "duration": 0,
    "start_time": "2022-07-06T22:17:14.510Z"
   },
   {
    "duration": 0,
    "start_time": "2022-07-06T22:17:14.512Z"
   },
   {
    "duration": 0,
    "start_time": "2022-07-06T22:17:14.513Z"
   },
   {
    "duration": 0,
    "start_time": "2022-07-06T22:17:14.515Z"
   },
   {
    "duration": 0,
    "start_time": "2022-07-06T22:17:14.516Z"
   },
   {
    "duration": 0,
    "start_time": "2022-07-06T22:17:14.518Z"
   },
   {
    "duration": 0,
    "start_time": "2022-07-06T22:17:14.520Z"
   },
   {
    "duration": 0,
    "start_time": "2022-07-06T22:17:14.522Z"
   },
   {
    "duration": 0,
    "start_time": "2022-07-06T22:17:14.524Z"
   },
   {
    "duration": 0,
    "start_time": "2022-07-06T22:17:14.527Z"
   },
   {
    "duration": 0,
    "start_time": "2022-07-06T22:17:14.529Z"
   },
   {
    "duration": 0,
    "start_time": "2022-07-06T22:17:14.530Z"
   },
   {
    "duration": 0,
    "start_time": "2022-07-06T22:17:14.532Z"
   },
   {
    "duration": 0,
    "start_time": "2022-07-06T22:17:14.535Z"
   },
   {
    "duration": 0,
    "start_time": "2022-07-06T22:17:14.537Z"
   },
   {
    "duration": 0,
    "start_time": "2022-07-06T22:17:14.599Z"
   },
   {
    "duration": 0,
    "start_time": "2022-07-06T22:17:14.600Z"
   },
   {
    "duration": 0,
    "start_time": "2022-07-06T22:17:14.602Z"
   },
   {
    "duration": 0,
    "start_time": "2022-07-06T22:17:14.604Z"
   },
   {
    "duration": 0,
    "start_time": "2022-07-06T22:17:14.607Z"
   },
   {
    "duration": 0,
    "start_time": "2022-07-06T22:17:14.608Z"
   },
   {
    "duration": 0,
    "start_time": "2022-07-06T22:17:14.610Z"
   },
   {
    "duration": 0,
    "start_time": "2022-07-06T22:17:14.612Z"
   },
   {
    "duration": 0,
    "start_time": "2022-07-06T22:17:14.614Z"
   },
   {
    "duration": 0,
    "start_time": "2022-07-06T22:17:14.615Z"
   },
   {
    "duration": 0,
    "start_time": "2022-07-06T22:17:14.617Z"
   },
   {
    "duration": 0,
    "start_time": "2022-07-06T22:17:14.618Z"
   },
   {
    "duration": 0,
    "start_time": "2022-07-06T22:17:14.620Z"
   },
   {
    "duration": 0,
    "start_time": "2022-07-06T22:17:14.622Z"
   },
   {
    "duration": 0,
    "start_time": "2022-07-06T22:17:14.624Z"
   },
   {
    "duration": 0,
    "start_time": "2022-07-06T22:17:14.625Z"
   },
   {
    "duration": 0,
    "start_time": "2022-07-06T22:17:14.627Z"
   },
   {
    "duration": 0,
    "start_time": "2022-07-06T22:17:14.629Z"
   },
   {
    "duration": 0,
    "start_time": "2022-07-06T22:17:14.631Z"
   },
   {
    "duration": 0,
    "start_time": "2022-07-06T22:17:14.632Z"
   },
   {
    "duration": 0,
    "start_time": "2022-07-06T22:17:14.633Z"
   },
   {
    "duration": 0,
    "start_time": "2022-07-06T22:17:14.635Z"
   },
   {
    "duration": 0,
    "start_time": "2022-07-06T22:17:14.697Z"
   },
   {
    "duration": 0,
    "start_time": "2022-07-06T22:17:14.700Z"
   },
   {
    "duration": 0,
    "start_time": "2022-07-06T22:17:14.701Z"
   },
   {
    "duration": 0,
    "start_time": "2022-07-06T22:17:14.703Z"
   },
   {
    "duration": 0,
    "start_time": "2022-07-06T22:17:14.705Z"
   },
   {
    "duration": 0,
    "start_time": "2022-07-06T22:17:14.706Z"
   },
   {
    "duration": 203,
    "start_time": "2022-07-06T22:17:34.703Z"
   },
   {
    "duration": 1370,
    "start_time": "2022-07-06T22:17:40.338Z"
   },
   {
    "duration": 239,
    "start_time": "2022-07-06T22:17:41.710Z"
   },
   {
    "duration": 36,
    "start_time": "2022-07-06T22:17:41.950Z"
   },
   {
    "duration": 7,
    "start_time": "2022-07-06T22:17:41.997Z"
   },
   {
    "duration": 16,
    "start_time": "2022-07-06T22:17:42.006Z"
   },
   {
    "duration": 16,
    "start_time": "2022-07-06T22:17:42.025Z"
   },
   {
    "duration": 11,
    "start_time": "2022-07-06T22:17:42.043Z"
   },
   {
    "duration": 5,
    "start_time": "2022-07-06T22:17:42.056Z"
   },
   {
    "duration": 39,
    "start_time": "2022-07-06T22:17:42.063Z"
   },
   {
    "duration": 30,
    "start_time": "2022-07-06T22:17:42.106Z"
   },
   {
    "duration": 15,
    "start_time": "2022-07-06T22:17:42.138Z"
   },
   {
    "duration": 11,
    "start_time": "2022-07-06T22:17:42.155Z"
   },
   {
    "duration": 33,
    "start_time": "2022-07-06T22:17:42.167Z"
   },
   {
    "duration": 60,
    "start_time": "2022-07-06T22:17:42.202Z"
   },
   {
    "duration": 60,
    "start_time": "2022-07-06T22:17:42.264Z"
   },
   {
    "duration": 11,
    "start_time": "2022-07-06T22:17:42.326Z"
   },
   {
    "duration": 17,
    "start_time": "2022-07-06T22:17:42.339Z"
   },
   {
    "duration": 57,
    "start_time": "2022-07-06T22:17:42.358Z"
   },
   {
    "duration": 13,
    "start_time": "2022-07-06T22:17:42.417Z"
   },
   {
    "duration": 14,
    "start_time": "2022-07-06T22:17:42.432Z"
   },
   {
    "duration": 56,
    "start_time": "2022-07-06T22:17:42.447Z"
   },
   {
    "duration": 11,
    "start_time": "2022-07-06T22:17:42.505Z"
   },
   {
    "duration": 17,
    "start_time": "2022-07-06T22:17:42.518Z"
   },
   {
    "duration": 82,
    "start_time": "2022-07-06T22:17:42.538Z"
   },
   {
    "duration": 19,
    "start_time": "2022-07-06T22:17:42.623Z"
   },
   {
    "duration": 16,
    "start_time": "2022-07-06T22:17:42.644Z"
   },
   {
    "duration": 14,
    "start_time": "2022-07-06T22:17:42.662Z"
   },
   {
    "duration": 55,
    "start_time": "2022-07-06T22:17:42.698Z"
   },
   {
    "duration": 44,
    "start_time": "2022-07-06T22:17:42.755Z"
   },
   {
    "duration": 51,
    "start_time": "2022-07-06T22:17:42.801Z"
   },
   {
    "duration": 49,
    "start_time": "2022-07-06T22:17:42.854Z"
   },
   {
    "duration": 13,
    "start_time": "2022-07-06T22:17:42.906Z"
   },
   {
    "duration": 16,
    "start_time": "2022-07-06T22:17:42.922Z"
   },
   {
    "duration": 116,
    "start_time": "2022-07-06T22:17:42.940Z"
   },
   {
    "duration": 5,
    "start_time": "2022-07-06T22:17:43.058Z"
   },
   {
    "duration": 14,
    "start_time": "2022-07-06T22:17:43.065Z"
   },
   {
    "duration": 117,
    "start_time": "2022-07-06T22:17:43.081Z"
   },
   {
    "duration": 98,
    "start_time": "2022-07-06T22:17:43.200Z"
   },
   {
    "duration": 67,
    "start_time": "2022-07-06T22:17:43.301Z"
   },
   {
    "duration": 31,
    "start_time": "2022-07-06T22:17:43.370Z"
   },
   {
    "duration": 20,
    "start_time": "2022-07-06T22:17:43.404Z"
   },
   {
    "duration": 117,
    "start_time": "2022-07-06T22:17:43.426Z"
   },
   {
    "duration": 40,
    "start_time": "2022-07-06T22:17:43.545Z"
   },
   {
    "duration": 14,
    "start_time": "2022-07-06T22:17:43.587Z"
   },
   {
    "duration": 20,
    "start_time": "2022-07-06T22:17:43.603Z"
   },
   {
    "duration": 23,
    "start_time": "2022-07-06T22:17:43.625Z"
   },
   {
    "duration": 25,
    "start_time": "2022-07-06T22:17:43.650Z"
   },
   {
    "duration": 32,
    "start_time": "2022-07-06T22:17:43.676Z"
   },
   {
    "duration": 21,
    "start_time": "2022-07-06T22:17:43.710Z"
   },
   {
    "duration": 542,
    "start_time": "2022-07-06T22:17:43.734Z"
   },
   {
    "duration": 22,
    "start_time": "2022-07-06T22:17:44.278Z"
   },
   {
    "duration": 55,
    "start_time": "2022-07-06T22:17:44.302Z"
   },
   {
    "duration": 3,
    "start_time": "2022-07-06T22:17:44.359Z"
   },
   {
    "duration": 8,
    "start_time": "2022-07-06T22:17:44.363Z"
   },
   {
    "duration": 216,
    "start_time": "2022-07-06T22:17:44.373Z"
   },
   {
    "duration": 12,
    "start_time": "2022-07-06T22:17:44.590Z"
   },
   {
    "duration": 8,
    "start_time": "2022-07-06T22:17:44.604Z"
   },
   {
    "duration": 12,
    "start_time": "2022-07-06T22:17:44.614Z"
   },
   {
    "duration": 177,
    "start_time": "2022-07-06T22:17:44.628Z"
   },
   {
    "duration": 8,
    "start_time": "2022-07-06T22:17:44.807Z"
   },
   {
    "duration": 13,
    "start_time": "2022-07-06T22:17:44.817Z"
   },
   {
    "duration": 6,
    "start_time": "2022-07-06T22:17:44.832Z"
   },
   {
    "duration": 212,
    "start_time": "2022-07-06T22:17:44.840Z"
   },
   {
    "duration": 15,
    "start_time": "2022-07-06T22:17:45.054Z"
   },
   {
    "duration": 28,
    "start_time": "2022-07-06T22:17:45.071Z"
   },
   {
    "duration": 16,
    "start_time": "2022-07-06T22:17:45.101Z"
   },
   {
    "duration": 210,
    "start_time": "2022-07-06T22:17:45.119Z"
   },
   {
    "duration": 49,
    "start_time": "2022-07-06T22:17:45.332Z"
   },
   {
    "duration": 37,
    "start_time": "2022-07-06T22:17:45.383Z"
   },
   {
    "duration": 20,
    "start_time": "2022-07-06T22:17:45.422Z"
   },
   {
    "duration": 5,
    "start_time": "2022-07-06T22:17:45.444Z"
   },
   {
    "duration": 10,
    "start_time": "2022-07-06T22:17:45.451Z"
   },
   {
    "duration": 43,
    "start_time": "2022-07-06T22:17:45.463Z"
   },
   {
    "duration": 41,
    "start_time": "2022-07-06T22:17:45.508Z"
   },
   {
    "duration": 10,
    "start_time": "2022-07-06T22:17:45.551Z"
   },
   {
    "duration": 50,
    "start_time": "2022-07-06T22:17:45.563Z"
   },
   {
    "duration": 15,
    "start_time": "2022-07-06T22:17:45.615Z"
   },
   {
    "duration": 38,
    "start_time": "2022-07-06T22:17:45.632Z"
   },
   {
    "duration": 16,
    "start_time": "2022-07-06T22:17:45.672Z"
   },
   {
    "duration": 29,
    "start_time": "2022-07-06T22:17:45.691Z"
   },
   {
    "duration": 15,
    "start_time": "2022-07-06T22:17:45.722Z"
   },
   {
    "duration": 18,
    "start_time": "2022-07-06T22:17:45.745Z"
   },
   {
    "duration": 67,
    "start_time": "2022-07-06T22:17:45.765Z"
   },
   {
    "duration": 41,
    "start_time": "2022-07-06T22:17:45.835Z"
   },
   {
    "duration": 29,
    "start_time": "2022-07-06T22:17:45.878Z"
   },
   {
    "duration": 73,
    "start_time": "2022-07-06T22:17:45.910Z"
   },
   {
    "duration": 5,
    "start_time": "2022-07-06T22:17:45.998Z"
   },
   {
    "duration": 11,
    "start_time": "2022-07-06T22:17:46.005Z"
   },
   {
    "duration": 19,
    "start_time": "2022-07-06T22:17:46.018Z"
   },
   {
    "duration": 21,
    "start_time": "2022-07-06T22:17:46.040Z"
   },
   {
    "duration": 8,
    "start_time": "2022-07-06T22:17:46.064Z"
   },
   {
    "duration": 6,
    "start_time": "2022-07-06T22:17:46.099Z"
   },
   {
    "duration": 58,
    "start_time": "2022-07-06T22:17:46.107Z"
   },
   {
    "duration": 71,
    "start_time": "2022-07-06T22:17:46.167Z"
   },
   {
    "duration": 5,
    "start_time": "2022-07-06T22:17:46.240Z"
   },
   {
    "duration": 28,
    "start_time": "2022-07-06T22:17:46.247Z"
   },
   {
    "duration": 10,
    "start_time": "2022-07-06T22:17:46.277Z"
   },
   {
    "duration": 5,
    "start_time": "2022-07-06T22:17:46.299Z"
   },
   {
    "duration": 207,
    "start_time": "2022-07-06T22:17:46.306Z"
   },
   {
    "duration": 5,
    "start_time": "2022-07-06T22:17:46.515Z"
   },
   {
    "duration": 35,
    "start_time": "2022-07-06T22:17:46.522Z"
   },
   {
    "duration": 3,
    "start_time": "2022-07-06T22:17:46.559Z"
   },
   {
    "duration": 80,
    "start_time": "2022-07-06T22:17:46.564Z"
   },
   {
    "duration": 71,
    "start_time": "2022-07-06T22:17:46.647Z"
   },
   {
    "duration": 389,
    "start_time": "2022-07-06T22:17:46.720Z"
   },
   {
    "duration": 14,
    "start_time": "2022-07-06T22:17:47.111Z"
   },
   {
    "duration": 215,
    "start_time": "2022-07-06T22:17:47.127Z"
   },
   {
    "duration": 66,
    "start_time": "2022-07-06T22:17:47.345Z"
   },
   {
    "duration": 34,
    "start_time": "2022-07-06T22:17:47.413Z"
   },
   {
    "duration": 53,
    "start_time": "2022-07-06T22:17:47.450Z"
   },
   {
    "duration": 1857,
    "start_time": "2022-07-06T22:17:47.505Z"
   },
   {
    "duration": 52,
    "start_time": "2022-07-06T22:17:49.364Z"
   },
   {
    "duration": 15,
    "start_time": "2022-07-06T22:17:49.418Z"
   },
   {
    "duration": 43,
    "start_time": "2022-07-06T22:17:49.435Z"
   },
   {
    "duration": 19,
    "start_time": "2022-07-06T22:17:49.480Z"
   },
   {
    "duration": 10,
    "start_time": "2022-07-06T22:17:49.501Z"
   },
   {
    "duration": 10,
    "start_time": "2022-07-06T22:17:49.514Z"
   },
   {
    "duration": 72,
    "start_time": "2022-07-06T22:17:49.526Z"
   },
   {
    "duration": 10,
    "start_time": "2022-07-06T22:17:49.600Z"
   },
   {
    "duration": 46,
    "start_time": "2022-07-06T22:17:49.612Z"
   },
   {
    "duration": 16,
    "start_time": "2022-07-06T22:17:49.661Z"
   },
   {
    "duration": 40,
    "start_time": "2022-07-06T22:17:49.680Z"
   },
   {
    "duration": 31,
    "start_time": "2022-07-06T22:17:49.723Z"
   },
   {
    "duration": 15,
    "start_time": "2022-07-06T22:17:49.756Z"
   },
   {
    "duration": 44,
    "start_time": "2022-07-06T22:17:49.773Z"
   },
   {
    "duration": 7,
    "start_time": "2022-07-06T22:17:49.819Z"
   },
   {
    "duration": 24,
    "start_time": "2022-07-06T22:17:49.828Z"
   },
   {
    "duration": 56,
    "start_time": "2022-07-06T22:17:49.854Z"
   },
   {
    "duration": 1645,
    "start_time": "2022-07-06T22:17:49.912Z"
   },
   {
    "duration": 20,
    "start_time": "2022-07-06T22:17:51.560Z"
   },
   {
    "duration": 27,
    "start_time": "2022-07-06T22:17:51.582Z"
   },
   {
    "duration": 14,
    "start_time": "2022-07-06T22:17:51.611Z"
   },
   {
    "duration": 7,
    "start_time": "2022-07-06T22:17:51.627Z"
   },
   {
    "duration": 35,
    "start_time": "2022-07-06T22:17:51.636Z"
   },
   {
    "duration": 58,
    "start_time": "2022-07-06T22:17:51.674Z"
   },
   {
    "duration": 15,
    "start_time": "2022-07-06T22:17:51.735Z"
   },
   {
    "duration": 5,
    "start_time": "2022-07-06T22:17:51.752Z"
   },
   {
    "duration": 8,
    "start_time": "2022-07-06T22:17:51.758Z"
   },
   {
    "duration": 31,
    "start_time": "2022-07-06T22:17:51.767Z"
   },
   {
    "duration": 6,
    "start_time": "2022-07-06T22:17:51.800Z"
   },
   {
    "duration": 10,
    "start_time": "2022-07-06T22:17:51.807Z"
   },
   {
    "duration": 11,
    "start_time": "2022-07-06T22:17:51.819Z"
   },
   {
    "duration": 9,
    "start_time": "2022-07-06T22:17:51.832Z"
   },
   {
    "duration": 6,
    "start_time": "2022-07-06T22:17:51.843Z"
   },
   {
    "duration": 12,
    "start_time": "2022-07-06T22:17:51.851Z"
   },
   {
    "duration": 4,
    "start_time": "2022-07-06T22:17:51.899Z"
   },
   {
    "duration": 14,
    "start_time": "2022-07-06T22:17:51.905Z"
   },
   {
    "duration": 6,
    "start_time": "2022-07-06T22:17:51.921Z"
   },
   {
    "duration": 13,
    "start_time": "2022-07-06T22:17:51.929Z"
   },
   {
    "duration": 19,
    "start_time": "2022-07-06T22:17:51.944Z"
   },
   {
    "duration": 46,
    "start_time": "2022-07-06T22:17:51.965Z"
   },
   {
    "duration": 43,
    "start_time": "2022-07-06T22:17:52.013Z"
   },
   {
    "duration": 81,
    "start_time": "2022-07-06T22:17:52.058Z"
   },
   {
    "duration": 0,
    "start_time": "2022-07-06T22:17:52.141Z"
   },
   {
    "duration": 0,
    "start_time": "2022-07-06T22:17:52.142Z"
   },
   {
    "duration": 0,
    "start_time": "2022-07-06T22:17:52.144Z"
   },
   {
    "duration": 0,
    "start_time": "2022-07-06T22:17:52.145Z"
   },
   {
    "duration": 1341,
    "start_time": "2022-07-06T22:19:32.387Z"
   },
   {
    "duration": 235,
    "start_time": "2022-07-06T22:19:33.730Z"
   },
   {
    "duration": 36,
    "start_time": "2022-07-06T22:19:33.967Z"
   },
   {
    "duration": 6,
    "start_time": "2022-07-06T22:19:34.005Z"
   },
   {
    "duration": 15,
    "start_time": "2022-07-06T22:19:34.014Z"
   },
   {
    "duration": 17,
    "start_time": "2022-07-06T22:19:34.030Z"
   },
   {
    "duration": 12,
    "start_time": "2022-07-06T22:19:34.049Z"
   },
   {
    "duration": 8,
    "start_time": "2022-07-06T22:19:34.063Z"
   },
   {
    "duration": 38,
    "start_time": "2022-07-06T22:19:34.073Z"
   },
   {
    "duration": 31,
    "start_time": "2022-07-06T22:19:34.116Z"
   },
   {
    "duration": 13,
    "start_time": "2022-07-06T22:19:34.148Z"
   },
   {
    "duration": 8,
    "start_time": "2022-07-06T22:19:34.163Z"
   },
   {
    "duration": 28,
    "start_time": "2022-07-06T22:19:34.173Z"
   },
   {
    "duration": 45,
    "start_time": "2022-07-06T22:19:34.203Z"
   },
   {
    "duration": 27,
    "start_time": "2022-07-06T22:19:34.250Z"
   },
   {
    "duration": 9,
    "start_time": "2022-07-06T22:19:34.299Z"
   },
   {
    "duration": 19,
    "start_time": "2022-07-06T22:19:34.310Z"
   },
   {
    "duration": 46,
    "start_time": "2022-07-06T22:19:34.331Z"
   },
   {
    "duration": 12,
    "start_time": "2022-07-06T22:19:34.379Z"
   },
   {
    "duration": 10,
    "start_time": "2022-07-06T22:19:34.398Z"
   },
   {
    "duration": 41,
    "start_time": "2022-07-06T22:19:34.410Z"
   },
   {
    "duration": 11,
    "start_time": "2022-07-06T22:19:34.453Z"
   },
   {
    "duration": 38,
    "start_time": "2022-07-06T22:19:34.466Z"
   },
   {
    "duration": 32,
    "start_time": "2022-07-06T22:19:34.506Z"
   },
   {
    "duration": 16,
    "start_time": "2022-07-06T22:19:34.540Z"
   },
   {
    "duration": 50,
    "start_time": "2022-07-06T22:19:34.558Z"
   },
   {
    "duration": 21,
    "start_time": "2022-07-06T22:19:34.609Z"
   },
   {
    "duration": 68,
    "start_time": "2022-07-06T22:19:34.634Z"
   },
   {
    "duration": 19,
    "start_time": "2022-07-06T22:19:34.704Z"
   },
   {
    "duration": 73,
    "start_time": "2022-07-06T22:19:34.725Z"
   },
   {
    "duration": 31,
    "start_time": "2022-07-06T22:19:34.800Z"
   },
   {
    "duration": 14,
    "start_time": "2022-07-06T22:19:34.833Z"
   },
   {
    "duration": 25,
    "start_time": "2022-07-06T22:19:34.849Z"
   },
   {
    "duration": 117,
    "start_time": "2022-07-06T22:19:34.876Z"
   },
   {
    "duration": 7,
    "start_time": "2022-07-06T22:19:34.994Z"
   },
   {
    "duration": 15,
    "start_time": "2022-07-06T22:19:35.003Z"
   },
   {
    "duration": 121,
    "start_time": "2022-07-06T22:19:35.020Z"
   },
   {
    "duration": 103,
    "start_time": "2022-07-06T22:19:35.144Z"
   },
   {
    "duration": 49,
    "start_time": "2022-07-06T22:19:35.249Z"
   },
   {
    "duration": 12,
    "start_time": "2022-07-06T22:19:35.300Z"
   },
   {
    "duration": 32,
    "start_time": "2022-07-06T22:19:35.314Z"
   },
   {
    "duration": 119,
    "start_time": "2022-07-06T22:19:35.349Z"
   },
   {
    "duration": 43,
    "start_time": "2022-07-06T22:19:35.470Z"
   },
   {
    "duration": 23,
    "start_time": "2022-07-06T22:19:35.515Z"
   },
   {
    "duration": 23,
    "start_time": "2022-07-06T22:19:35.540Z"
   },
   {
    "duration": 37,
    "start_time": "2022-07-06T22:19:35.565Z"
   },
   {
    "duration": 22,
    "start_time": "2022-07-06T22:19:35.604Z"
   },
   {
    "duration": 11,
    "start_time": "2022-07-06T22:19:35.628Z"
   },
   {
    "duration": 36,
    "start_time": "2022-07-06T22:19:35.641Z"
   },
   {
    "duration": 478,
    "start_time": "2022-07-06T22:19:35.679Z"
   },
   {
    "duration": 14,
    "start_time": "2022-07-06T22:19:36.159Z"
   },
   {
    "duration": 71,
    "start_time": "2022-07-06T22:19:36.175Z"
   },
   {
    "duration": 4,
    "start_time": "2022-07-06T22:19:36.248Z"
   },
   {
    "duration": 8,
    "start_time": "2022-07-06T22:19:36.254Z"
   },
   {
    "duration": 198,
    "start_time": "2022-07-06T22:19:36.263Z"
   },
   {
    "duration": 6,
    "start_time": "2022-07-06T22:19:36.463Z"
   },
   {
    "duration": 9,
    "start_time": "2022-07-06T22:19:36.471Z"
   },
   {
    "duration": 14,
    "start_time": "2022-07-06T22:19:36.499Z"
   },
   {
    "duration": 186,
    "start_time": "2022-07-06T22:19:36.515Z"
   },
   {
    "duration": 9,
    "start_time": "2022-07-06T22:19:36.703Z"
   },
   {
    "duration": 22,
    "start_time": "2022-07-06T22:19:36.714Z"
   },
   {
    "duration": 13,
    "start_time": "2022-07-06T22:19:36.738Z"
   },
   {
    "duration": 222,
    "start_time": "2022-07-06T22:19:36.753Z"
   },
   {
    "duration": 11,
    "start_time": "2022-07-06T22:19:36.977Z"
   },
   {
    "duration": 6,
    "start_time": "2022-07-06T22:19:36.999Z"
   },
   {
    "duration": 17,
    "start_time": "2022-07-06T22:19:37.007Z"
   },
   {
    "duration": 206,
    "start_time": "2022-07-06T22:19:37.026Z"
   },
   {
    "duration": 39,
    "start_time": "2022-07-06T22:19:37.234Z"
   },
   {
    "duration": 41,
    "start_time": "2022-07-06T22:19:37.275Z"
   },
   {
    "duration": 28,
    "start_time": "2022-07-06T22:19:37.318Z"
   },
   {
    "duration": 4,
    "start_time": "2022-07-06T22:19:37.348Z"
   },
   {
    "duration": 14,
    "start_time": "2022-07-06T22:19:37.354Z"
   },
   {
    "duration": 11,
    "start_time": "2022-07-06T22:19:37.370Z"
   },
   {
    "duration": 59,
    "start_time": "2022-07-06T22:19:37.383Z"
   },
   {
    "duration": 9,
    "start_time": "2022-07-06T22:19:37.444Z"
   },
   {
    "duration": 43,
    "start_time": "2022-07-06T22:19:37.455Z"
   },
   {
    "duration": 12,
    "start_time": "2022-07-06T22:19:37.500Z"
   },
   {
    "duration": 16,
    "start_time": "2022-07-06T22:19:37.514Z"
   },
   {
    "duration": 13,
    "start_time": "2022-07-06T22:19:37.532Z"
   },
   {
    "duration": 16,
    "start_time": "2022-07-06T22:19:37.547Z"
   },
   {
    "duration": 39,
    "start_time": "2022-07-06T22:19:37.565Z"
   },
   {
    "duration": 19,
    "start_time": "2022-07-06T22:19:37.611Z"
   },
   {
    "duration": 41,
    "start_time": "2022-07-06T22:19:37.632Z"
   },
   {
    "duration": 41,
    "start_time": "2022-07-06T22:19:37.675Z"
   },
   {
    "duration": 12,
    "start_time": "2022-07-06T22:19:37.718Z"
   },
   {
    "duration": 89,
    "start_time": "2022-07-06T22:19:37.732Z"
   },
   {
    "duration": 5,
    "start_time": "2022-07-06T22:19:37.823Z"
   },
   {
    "duration": 7,
    "start_time": "2022-07-06T22:19:37.830Z"
   },
   {
    "duration": 13,
    "start_time": "2022-07-06T22:19:37.839Z"
   },
   {
    "duration": 17,
    "start_time": "2022-07-06T22:19:37.854Z"
   },
   {
    "duration": 27,
    "start_time": "2022-07-06T22:19:37.873Z"
   },
   {
    "duration": 6,
    "start_time": "2022-07-06T22:19:37.902Z"
   },
   {
    "duration": 57,
    "start_time": "2022-07-06T22:19:37.909Z"
   },
   {
    "duration": 63,
    "start_time": "2022-07-06T22:19:37.968Z"
   },
   {
    "duration": 5,
    "start_time": "2022-07-06T22:19:38.032Z"
   },
   {
    "duration": 16,
    "start_time": "2022-07-06T22:19:38.038Z"
   },
   {
    "duration": 10,
    "start_time": "2022-07-06T22:19:38.056Z"
   },
   {
    "duration": 32,
    "start_time": "2022-07-06T22:19:38.068Z"
   },
   {
    "duration": 203,
    "start_time": "2022-07-06T22:19:38.102Z"
   },
   {
    "duration": 5,
    "start_time": "2022-07-06T22:19:38.306Z"
   },
   {
    "duration": 33,
    "start_time": "2022-07-06T22:19:38.312Z"
   },
   {
    "duration": 3,
    "start_time": "2022-07-06T22:19:38.347Z"
   },
   {
    "duration": 79,
    "start_time": "2022-07-06T22:19:38.351Z"
   },
   {
    "duration": 40,
    "start_time": "2022-07-06T22:19:38.432Z"
   },
   {
    "duration": 260,
    "start_time": "2022-07-06T22:19:38.475Z"
   },
   {
    "duration": 22,
    "start_time": "2022-07-06T22:19:38.737Z"
   },
   {
    "duration": 246,
    "start_time": "2022-07-06T22:19:38.761Z"
   },
   {
    "duration": 51,
    "start_time": "2022-07-06T22:19:39.009Z"
   },
   {
    "duration": 52,
    "start_time": "2022-07-06T22:19:39.062Z"
   },
   {
    "duration": 28,
    "start_time": "2022-07-06T22:19:39.116Z"
   },
   {
    "duration": 1760,
    "start_time": "2022-07-06T22:19:39.146Z"
   },
   {
    "duration": 51,
    "start_time": "2022-07-06T22:19:40.907Z"
   },
   {
    "duration": 15,
    "start_time": "2022-07-06T22:19:40.960Z"
   },
   {
    "duration": 56,
    "start_time": "2022-07-06T22:19:40.977Z"
   },
   {
    "duration": 8,
    "start_time": "2022-07-06T22:19:41.036Z"
   },
   {
    "duration": 9,
    "start_time": "2022-07-06T22:19:41.046Z"
   },
   {
    "duration": 10,
    "start_time": "2022-07-06T22:19:41.057Z"
   },
   {
    "duration": 66,
    "start_time": "2022-07-06T22:19:41.069Z"
   },
   {
    "duration": 8,
    "start_time": "2022-07-06T22:19:41.137Z"
   },
   {
    "duration": 72,
    "start_time": "2022-07-06T22:19:41.148Z"
   },
   {
    "duration": 17,
    "start_time": "2022-07-06T22:19:41.222Z"
   },
   {
    "duration": 27,
    "start_time": "2022-07-06T22:19:41.241Z"
   },
   {
    "duration": 51,
    "start_time": "2022-07-06T22:19:41.270Z"
   },
   {
    "duration": 16,
    "start_time": "2022-07-06T22:19:41.323Z"
   },
   {
    "duration": 24,
    "start_time": "2022-07-06T22:19:41.341Z"
   },
   {
    "duration": 36,
    "start_time": "2022-07-06T22:19:41.367Z"
   },
   {
    "duration": 23,
    "start_time": "2022-07-06T22:19:41.405Z"
   },
   {
    "duration": 30,
    "start_time": "2022-07-06T22:19:41.430Z"
   },
   {
    "duration": 1594,
    "start_time": "2022-07-06T22:19:41.461Z"
   },
   {
    "duration": 13,
    "start_time": "2022-07-06T22:19:43.057Z"
   },
   {
    "duration": 27,
    "start_time": "2022-07-06T22:19:43.071Z"
   },
   {
    "duration": 11,
    "start_time": "2022-07-06T22:19:43.100Z"
   },
   {
    "duration": 5,
    "start_time": "2022-07-06T22:19:43.113Z"
   },
   {
    "duration": 27,
    "start_time": "2022-07-06T22:19:43.119Z"
   },
   {
    "duration": 22,
    "start_time": "2022-07-06T22:19:43.148Z"
   },
   {
    "duration": 38,
    "start_time": "2022-07-06T22:19:43.172Z"
   },
   {
    "duration": 6,
    "start_time": "2022-07-06T22:19:43.212Z"
   },
   {
    "duration": 6,
    "start_time": "2022-07-06T22:19:43.219Z"
   },
   {
    "duration": 6,
    "start_time": "2022-07-06T22:19:43.227Z"
   },
   {
    "duration": 6,
    "start_time": "2022-07-06T22:19:43.235Z"
   },
   {
    "duration": 15,
    "start_time": "2022-07-06T22:19:43.243Z"
   },
   {
    "duration": 14,
    "start_time": "2022-07-06T22:19:43.259Z"
   },
   {
    "duration": 7,
    "start_time": "2022-07-06T22:19:43.299Z"
   },
   {
    "duration": 8,
    "start_time": "2022-07-06T22:19:43.308Z"
   },
   {
    "duration": 6,
    "start_time": "2022-07-06T22:19:43.318Z"
   },
   {
    "duration": 6,
    "start_time": "2022-07-06T22:19:43.326Z"
   },
   {
    "duration": 8,
    "start_time": "2022-07-06T22:19:43.334Z"
   },
   {
    "duration": 7,
    "start_time": "2022-07-06T22:19:43.343Z"
   },
   {
    "duration": 8,
    "start_time": "2022-07-06T22:19:43.353Z"
   },
   {
    "duration": 47,
    "start_time": "2022-07-06T22:19:43.363Z"
   },
   {
    "duration": 28,
    "start_time": "2022-07-06T22:19:43.412Z"
   },
   {
    "duration": 56,
    "start_time": "2022-07-06T22:19:43.442Z"
   },
   {
    "duration": 80,
    "start_time": "2022-07-06T22:19:43.500Z"
   },
   {
    "duration": 0,
    "start_time": "2022-07-06T22:19:43.582Z"
   },
   {
    "duration": 0,
    "start_time": "2022-07-06T22:19:43.583Z"
   },
   {
    "duration": 1,
    "start_time": "2022-07-06T22:19:43.584Z"
   },
   {
    "duration": 0,
    "start_time": "2022-07-06T22:19:43.586Z"
   },
   {
    "duration": 6,
    "start_time": "2022-07-06T22:21:33.708Z"
   },
   {
    "duration": 1354,
    "start_time": "2022-07-06T22:28:01.545Z"
   },
   {
    "duration": 231,
    "start_time": "2022-07-06T22:28:02.901Z"
   },
   {
    "duration": 32,
    "start_time": "2022-07-06T22:28:03.134Z"
   },
   {
    "duration": 6,
    "start_time": "2022-07-06T22:28:03.169Z"
   },
   {
    "duration": 30,
    "start_time": "2022-07-06T22:28:03.176Z"
   },
   {
    "duration": 16,
    "start_time": "2022-07-06T22:28:03.208Z"
   },
   {
    "duration": 11,
    "start_time": "2022-07-06T22:28:03.225Z"
   },
   {
    "duration": 6,
    "start_time": "2022-07-06T22:28:03.238Z"
   },
   {
    "duration": 11,
    "start_time": "2022-07-06T22:28:03.245Z"
   },
   {
    "duration": 41,
    "start_time": "2022-07-06T22:28:03.258Z"
   },
   {
    "duration": 11,
    "start_time": "2022-07-06T22:28:03.301Z"
   },
   {
    "duration": 7,
    "start_time": "2022-07-06T22:28:03.314Z"
   },
   {
    "duration": 10,
    "start_time": "2022-07-06T22:28:03.323Z"
   },
   {
    "duration": 34,
    "start_time": "2022-07-06T22:28:03.334Z"
   },
   {
    "duration": 44,
    "start_time": "2022-07-06T22:28:03.370Z"
   },
   {
    "duration": 10,
    "start_time": "2022-07-06T22:28:03.416Z"
   },
   {
    "duration": 21,
    "start_time": "2022-07-06T22:28:03.427Z"
   },
   {
    "duration": 48,
    "start_time": "2022-07-06T22:28:03.450Z"
   },
   {
    "duration": 14,
    "start_time": "2022-07-06T22:28:03.500Z"
   },
   {
    "duration": 15,
    "start_time": "2022-07-06T22:28:03.515Z"
   },
   {
    "duration": 33,
    "start_time": "2022-07-06T22:28:03.531Z"
   },
   {
    "duration": 11,
    "start_time": "2022-07-06T22:28:03.565Z"
   },
   {
    "duration": 15,
    "start_time": "2022-07-06T22:28:03.599Z"
   },
   {
    "duration": 29,
    "start_time": "2022-07-06T22:28:03.616Z"
   },
   {
    "duration": 15,
    "start_time": "2022-07-06T22:28:03.647Z"
   },
   {
    "duration": 37,
    "start_time": "2022-07-06T22:28:03.664Z"
   },
   {
    "duration": 11,
    "start_time": "2022-07-06T22:28:03.703Z"
   },
   {
    "duration": 34,
    "start_time": "2022-07-06T22:28:03.718Z"
   },
   {
    "duration": 45,
    "start_time": "2022-07-06T22:28:03.753Z"
   },
   {
    "duration": 52,
    "start_time": "2022-07-06T22:28:03.800Z"
   },
   {
    "duration": 44,
    "start_time": "2022-07-06T22:28:03.854Z"
   },
   {
    "duration": 15,
    "start_time": "2022-07-06T22:28:03.901Z"
   },
   {
    "duration": 17,
    "start_time": "2022-07-06T22:28:03.918Z"
   },
   {
    "duration": 121,
    "start_time": "2022-07-06T22:28:03.937Z"
   },
   {
    "duration": 6,
    "start_time": "2022-07-06T22:28:04.061Z"
   },
   {
    "duration": 17,
    "start_time": "2022-07-06T22:28:04.069Z"
   },
   {
    "duration": 110,
    "start_time": "2022-07-06T22:28:04.088Z"
   },
   {
    "duration": 82,
    "start_time": "2022-07-06T22:28:04.200Z"
   },
   {
    "duration": 46,
    "start_time": "2022-07-06T22:28:04.284Z"
   },
   {
    "duration": 11,
    "start_time": "2022-07-06T22:28:04.331Z"
   },
   {
    "duration": 12,
    "start_time": "2022-07-06T22:28:04.344Z"
   },
   {
    "duration": 109,
    "start_time": "2022-07-06T22:28:04.358Z"
   },
   {
    "duration": 43,
    "start_time": "2022-07-06T22:28:04.469Z"
   },
   {
    "duration": 4,
    "start_time": "2022-07-06T22:28:04.514Z"
   },
   {
    "duration": 14,
    "start_time": "2022-07-06T22:28:04.519Z"
   },
   {
    "duration": 20,
    "start_time": "2022-07-06T22:28:04.535Z"
   },
   {
    "duration": 43,
    "start_time": "2022-07-06T22:28:04.556Z"
   },
   {
    "duration": 10,
    "start_time": "2022-07-06T22:28:04.601Z"
   },
   {
    "duration": 13,
    "start_time": "2022-07-06T22:28:04.613Z"
   },
   {
    "duration": 492,
    "start_time": "2022-07-06T22:28:04.628Z"
   },
   {
    "duration": 15,
    "start_time": "2022-07-06T22:28:05.122Z"
   },
   {
    "duration": 68,
    "start_time": "2022-07-06T22:28:05.139Z"
   },
   {
    "duration": 3,
    "start_time": "2022-07-06T22:28:05.209Z"
   },
   {
    "duration": 6,
    "start_time": "2022-07-06T22:28:05.213Z"
   },
   {
    "duration": 197,
    "start_time": "2022-07-06T22:28:05.221Z"
   },
   {
    "duration": 6,
    "start_time": "2022-07-06T22:28:05.420Z"
   },
   {
    "duration": 10,
    "start_time": "2022-07-06T22:28:05.427Z"
   },
   {
    "duration": 9,
    "start_time": "2022-07-06T22:28:05.439Z"
   },
   {
    "duration": 184,
    "start_time": "2022-07-06T22:28:05.450Z"
   },
   {
    "duration": 8,
    "start_time": "2022-07-06T22:28:05.637Z"
   },
   {
    "duration": 10,
    "start_time": "2022-07-06T22:28:05.648Z"
   },
   {
    "duration": 8,
    "start_time": "2022-07-06T22:28:05.660Z"
   },
   {
    "duration": 194,
    "start_time": "2022-07-06T22:28:05.670Z"
   },
   {
    "duration": 12,
    "start_time": "2022-07-06T22:28:05.867Z"
   },
   {
    "duration": 23,
    "start_time": "2022-07-06T22:28:05.880Z"
   },
   {
    "duration": 18,
    "start_time": "2022-07-06T22:28:05.905Z"
   },
   {
    "duration": 205,
    "start_time": "2022-07-06T22:28:05.926Z"
   },
   {
    "duration": 38,
    "start_time": "2022-07-06T22:28:06.133Z"
   },
   {
    "duration": 37,
    "start_time": "2022-07-06T22:28:06.173Z"
   },
   {
    "duration": 20,
    "start_time": "2022-07-06T22:28:06.211Z"
   },
   {
    "duration": 4,
    "start_time": "2022-07-06T22:28:06.233Z"
   },
   {
    "duration": 14,
    "start_time": "2022-07-06T22:28:06.238Z"
   },
   {
    "duration": 15,
    "start_time": "2022-07-06T22:28:06.254Z"
   },
   {
    "duration": 62,
    "start_time": "2022-07-06T22:28:06.270Z"
   },
   {
    "duration": 8,
    "start_time": "2022-07-06T22:28:06.334Z"
   },
   {
    "duration": 19,
    "start_time": "2022-07-06T22:28:06.344Z"
   },
   {
    "duration": 34,
    "start_time": "2022-07-06T22:28:06.365Z"
   },
   {
    "duration": 15,
    "start_time": "2022-07-06T22:28:06.401Z"
   },
   {
    "duration": 11,
    "start_time": "2022-07-06T22:28:06.418Z"
   },
   {
    "duration": 15,
    "start_time": "2022-07-06T22:28:06.431Z"
   },
   {
    "duration": 11,
    "start_time": "2022-07-06T22:28:06.448Z"
   },
   {
    "duration": 17,
    "start_time": "2022-07-06T22:28:06.500Z"
   },
   {
    "duration": 40,
    "start_time": "2022-07-06T22:28:06.519Z"
   },
   {
    "duration": 40,
    "start_time": "2022-07-06T22:28:06.560Z"
   },
   {
    "duration": 16,
    "start_time": "2022-07-06T22:28:06.602Z"
   },
   {
    "duration": 91,
    "start_time": "2022-07-06T22:28:06.620Z"
   },
   {
    "duration": 8,
    "start_time": "2022-07-06T22:28:06.713Z"
   },
   {
    "duration": 7,
    "start_time": "2022-07-06T22:28:06.724Z"
   },
   {
    "duration": 15,
    "start_time": "2022-07-06T22:28:06.733Z"
   },
   {
    "duration": 24,
    "start_time": "2022-07-06T22:28:06.750Z"
   },
   {
    "duration": 33,
    "start_time": "2022-07-06T22:28:06.776Z"
   },
   {
    "duration": 15,
    "start_time": "2022-07-06T22:28:06.811Z"
   },
   {
    "duration": 77,
    "start_time": "2022-07-06T22:28:06.828Z"
   },
   {
    "duration": 47,
    "start_time": "2022-07-06T22:28:06.907Z"
   },
   {
    "duration": 4,
    "start_time": "2022-07-06T22:28:06.956Z"
   },
   {
    "duration": 16,
    "start_time": "2022-07-06T22:28:06.962Z"
   },
   {
    "duration": 21,
    "start_time": "2022-07-06T22:28:06.980Z"
   },
   {
    "duration": 7,
    "start_time": "2022-07-06T22:28:07.003Z"
   },
   {
    "duration": 213,
    "start_time": "2022-07-06T22:28:07.012Z"
   },
   {
    "duration": 4,
    "start_time": "2022-07-06T22:28:07.227Z"
   },
   {
    "duration": 34,
    "start_time": "2022-07-06T22:28:07.233Z"
   },
   {
    "duration": 3,
    "start_time": "2022-07-06T22:28:07.270Z"
   },
   {
    "duration": 78,
    "start_time": "2022-07-06T22:28:07.275Z"
   },
   {
    "duration": 56,
    "start_time": "2022-07-06T22:28:07.355Z"
   },
   {
    "duration": 261,
    "start_time": "2022-07-06T22:28:07.414Z"
   },
   {
    "duration": 25,
    "start_time": "2022-07-06T22:28:07.677Z"
   },
   {
    "duration": 214,
    "start_time": "2022-07-06T22:28:07.705Z"
   },
   {
    "duration": 49,
    "start_time": "2022-07-06T22:28:07.921Z"
   },
   {
    "duration": 49,
    "start_time": "2022-07-06T22:28:07.971Z"
   },
   {
    "duration": 24,
    "start_time": "2022-07-06T22:28:08.022Z"
   },
   {
    "duration": 1822,
    "start_time": "2022-07-06T22:28:08.048Z"
   },
   {
    "duration": 50,
    "start_time": "2022-07-06T22:28:09.872Z"
   },
   {
    "duration": 14,
    "start_time": "2022-07-06T22:28:09.924Z"
   },
   {
    "duration": 45,
    "start_time": "2022-07-06T22:28:09.941Z"
   },
   {
    "duration": 10,
    "start_time": "2022-07-06T22:28:09.998Z"
   },
   {
    "duration": 14,
    "start_time": "2022-07-06T22:28:10.010Z"
   },
   {
    "duration": 14,
    "start_time": "2022-07-06T22:28:10.026Z"
   },
   {
    "duration": 70,
    "start_time": "2022-07-06T22:28:10.042Z"
   },
   {
    "duration": 9,
    "start_time": "2022-07-06T22:28:10.114Z"
   },
   {
    "duration": 34,
    "start_time": "2022-07-06T22:28:10.124Z"
   },
   {
    "duration": 10,
    "start_time": "2022-07-06T22:28:10.160Z"
   },
   {
    "duration": 45,
    "start_time": "2022-07-06T22:28:10.172Z"
   },
   {
    "duration": 29,
    "start_time": "2022-07-06T22:28:10.219Z"
   },
   {
    "duration": 14,
    "start_time": "2022-07-06T22:28:10.250Z"
   },
   {
    "duration": 48,
    "start_time": "2022-07-06T22:28:10.265Z"
   },
   {
    "duration": 7,
    "start_time": "2022-07-06T22:28:10.314Z"
   },
   {
    "duration": 21,
    "start_time": "2022-07-06T22:28:10.322Z"
   },
   {
    "duration": 28,
    "start_time": "2022-07-06T22:28:10.344Z"
   },
   {
    "duration": 1595,
    "start_time": "2022-07-06T22:28:10.398Z"
   },
   {
    "duration": 13,
    "start_time": "2022-07-06T22:28:11.995Z"
   },
   {
    "duration": 16,
    "start_time": "2022-07-06T22:28:12.010Z"
   },
   {
    "duration": 11,
    "start_time": "2022-07-06T22:28:12.028Z"
   },
   {
    "duration": 5,
    "start_time": "2022-07-06T22:28:12.041Z"
   },
   {
    "duration": 25,
    "start_time": "2022-07-06T22:28:12.048Z"
   },
   {
    "duration": 22,
    "start_time": "2022-07-06T22:28:12.099Z"
   },
   {
    "duration": 15,
    "start_time": "2022-07-06T22:28:12.122Z"
   },
   {
    "duration": 5,
    "start_time": "2022-07-06T22:28:12.139Z"
   },
   {
    "duration": 5,
    "start_time": "2022-07-06T22:28:12.146Z"
   },
   {
    "duration": 7,
    "start_time": "2022-07-06T22:28:12.153Z"
   },
   {
    "duration": 38,
    "start_time": "2022-07-06T22:28:12.162Z"
   },
   {
    "duration": 9,
    "start_time": "2022-07-06T22:28:12.202Z"
   },
   {
    "duration": 12,
    "start_time": "2022-07-06T22:28:12.212Z"
   },
   {
    "duration": 6,
    "start_time": "2022-07-06T22:28:12.226Z"
   },
   {
    "duration": 6,
    "start_time": "2022-07-06T22:28:12.233Z"
   },
   {
    "duration": 9,
    "start_time": "2022-07-06T22:28:12.241Z"
   },
   {
    "duration": 6,
    "start_time": "2022-07-06T22:28:12.252Z"
   },
   {
    "duration": 39,
    "start_time": "2022-07-06T22:28:12.259Z"
   },
   {
    "duration": 5,
    "start_time": "2022-07-06T22:28:12.300Z"
   },
   {
    "duration": 8,
    "start_time": "2022-07-06T22:28:12.306Z"
   },
   {
    "duration": 15,
    "start_time": "2022-07-06T22:28:12.317Z"
   },
   {
    "duration": 26,
    "start_time": "2022-07-06T22:28:12.334Z"
   },
   {
    "duration": 61,
    "start_time": "2022-07-06T22:28:12.362Z"
   },
   {
    "duration": 4,
    "start_time": "2022-07-06T22:28:12.425Z"
   },
   {
    "duration": 8,
    "start_time": "2022-07-06T22:28:12.431Z"
   },
   {
    "duration": 1944,
    "start_time": "2022-07-06T22:28:12.441Z"
   },
   {
    "duration": 304,
    "start_time": "2022-07-06T22:28:14.387Z"
   },
   {
    "duration": 59,
    "start_time": "2022-07-06T22:34:08.922Z"
   },
   {
    "duration": 60,
    "start_time": "2022-07-06T22:34:13.426Z"
   },
   {
    "duration": 4,
    "start_time": "2022-07-06T22:42:01.185Z"
   },
   {
    "duration": 7,
    "start_time": "2022-07-06T22:43:51.076Z"
   },
   {
    "duration": 6,
    "start_time": "2022-07-06T22:43:59.554Z"
   },
   {
    "duration": 7,
    "start_time": "2022-07-06T22:44:09.545Z"
   },
   {
    "duration": 1512,
    "start_time": "2022-07-07T08:23:08.923Z"
   },
   {
    "duration": 540,
    "start_time": "2022-07-07T08:23:10.437Z"
   },
   {
    "duration": 38,
    "start_time": "2022-07-07T08:23:10.978Z"
   },
   {
    "duration": 39,
    "start_time": "2022-07-07T08:23:11.018Z"
   },
   {
    "duration": 17,
    "start_time": "2022-07-07T08:23:11.059Z"
   },
   {
    "duration": 54,
    "start_time": "2022-07-07T08:23:11.077Z"
   },
   {
    "duration": 9,
    "start_time": "2022-07-07T08:23:11.133Z"
   },
   {
    "duration": 20,
    "start_time": "2022-07-07T08:23:11.144Z"
   },
   {
    "duration": 13,
    "start_time": "2022-07-07T08:23:11.166Z"
   },
   {
    "duration": 120,
    "start_time": "2022-07-07T08:23:11.181Z"
   },
   {
    "duration": 13,
    "start_time": "2022-07-07T08:23:11.306Z"
   },
   {
    "duration": 11,
    "start_time": "2022-07-07T08:23:11.321Z"
   },
   {
    "duration": 13,
    "start_time": "2022-07-07T08:23:11.333Z"
   },
   {
    "duration": 36,
    "start_time": "2022-07-07T08:23:11.347Z"
   },
   {
    "duration": 38,
    "start_time": "2022-07-07T08:23:11.385Z"
   },
   {
    "duration": 17,
    "start_time": "2022-07-07T08:23:11.424Z"
   },
   {
    "duration": 17,
    "start_time": "2022-07-07T08:23:11.443Z"
   },
   {
    "duration": 49,
    "start_time": "2022-07-07T08:23:11.461Z"
   },
   {
    "duration": 13,
    "start_time": "2022-07-07T08:23:11.516Z"
   },
   {
    "duration": 45,
    "start_time": "2022-07-07T08:23:11.530Z"
   },
   {
    "duration": 41,
    "start_time": "2022-07-07T08:23:11.577Z"
   },
   {
    "duration": 11,
    "start_time": "2022-07-07T08:23:11.620Z"
   },
   {
    "duration": 20,
    "start_time": "2022-07-07T08:23:11.632Z"
   },
   {
    "duration": 27,
    "start_time": "2022-07-07T08:23:11.653Z"
   },
   {
    "duration": 30,
    "start_time": "2022-07-07T08:23:11.681Z"
   },
   {
    "duration": 17,
    "start_time": "2022-07-07T08:23:11.713Z"
   },
   {
    "duration": 28,
    "start_time": "2022-07-07T08:23:11.731Z"
   },
   {
    "duration": 49,
    "start_time": "2022-07-07T08:23:11.763Z"
   },
   {
    "duration": 19,
    "start_time": "2022-07-07T08:23:11.814Z"
   },
   {
    "duration": 47,
    "start_time": "2022-07-07T08:23:11.835Z"
   },
   {
    "duration": 35,
    "start_time": "2022-07-07T08:23:11.883Z"
   },
   {
    "duration": 12,
    "start_time": "2022-07-07T08:23:11.920Z"
   },
   {
    "duration": 26,
    "start_time": "2022-07-07T08:23:11.933Z"
   },
   {
    "duration": 112,
    "start_time": "2022-07-07T08:23:11.961Z"
   },
   {
    "duration": 5,
    "start_time": "2022-07-07T08:23:12.075Z"
   },
   {
    "duration": 66,
    "start_time": "2022-07-07T08:23:12.082Z"
   },
   {
    "duration": 91,
    "start_time": "2022-07-07T08:23:12.150Z"
   },
   {
    "duration": 96,
    "start_time": "2022-07-07T08:23:12.243Z"
   },
   {
    "duration": 37,
    "start_time": "2022-07-07T08:23:12.340Z"
   },
   {
    "duration": 28,
    "start_time": "2022-07-07T08:23:12.379Z"
   },
   {
    "duration": 34,
    "start_time": "2022-07-07T08:23:12.413Z"
   },
   {
    "duration": 104,
    "start_time": "2022-07-07T08:23:12.448Z"
   },
   {
    "duration": 39,
    "start_time": "2022-07-07T08:23:12.554Z"
   },
   {
    "duration": 14,
    "start_time": "2022-07-07T08:23:12.594Z"
   },
   {
    "duration": 27,
    "start_time": "2022-07-07T08:23:12.610Z"
   },
   {
    "duration": 28,
    "start_time": "2022-07-07T08:23:12.639Z"
   },
   {
    "duration": 30,
    "start_time": "2022-07-07T08:23:12.669Z"
   },
   {
    "duration": 25,
    "start_time": "2022-07-07T08:23:12.703Z"
   },
   {
    "duration": 34,
    "start_time": "2022-07-07T08:23:12.730Z"
   },
   {
    "duration": 511,
    "start_time": "2022-07-07T08:23:12.765Z"
   },
   {
    "duration": 35,
    "start_time": "2022-07-07T08:23:13.278Z"
   },
   {
    "duration": 60,
    "start_time": "2022-07-07T08:23:13.314Z"
   },
   {
    "duration": 3,
    "start_time": "2022-07-07T08:23:13.376Z"
   },
   {
    "duration": 13,
    "start_time": "2022-07-07T08:23:13.380Z"
   },
   {
    "duration": 194,
    "start_time": "2022-07-07T08:23:13.394Z"
   },
   {
    "duration": 5,
    "start_time": "2022-07-07T08:23:13.590Z"
   },
   {
    "duration": 17,
    "start_time": "2022-07-07T08:23:13.601Z"
   },
   {
    "duration": 17,
    "start_time": "2022-07-07T08:23:13.620Z"
   },
   {
    "duration": 154,
    "start_time": "2022-07-07T08:23:13.639Z"
   },
   {
    "duration": 16,
    "start_time": "2022-07-07T08:23:13.795Z"
   },
   {
    "duration": 28,
    "start_time": "2022-07-07T08:23:13.816Z"
   },
   {
    "duration": 12,
    "start_time": "2022-07-07T08:23:13.846Z"
   },
   {
    "duration": 202,
    "start_time": "2022-07-07T08:23:13.860Z"
   },
   {
    "duration": 11,
    "start_time": "2022-07-07T08:23:14.065Z"
   },
   {
    "duration": 16,
    "start_time": "2022-07-07T08:23:14.078Z"
   },
   {
    "duration": 25,
    "start_time": "2022-07-07T08:23:14.101Z"
   },
   {
    "duration": 192,
    "start_time": "2022-07-07T08:23:14.128Z"
   },
   {
    "duration": 40,
    "start_time": "2022-07-07T08:23:14.322Z"
   },
   {
    "duration": 44,
    "start_time": "2022-07-07T08:23:14.364Z"
   },
   {
    "duration": 31,
    "start_time": "2022-07-07T08:23:14.411Z"
   },
   {
    "duration": 8,
    "start_time": "2022-07-07T08:23:14.445Z"
   },
   {
    "duration": 17,
    "start_time": "2022-07-07T08:23:14.455Z"
   },
   {
    "duration": 13,
    "start_time": "2022-07-07T08:23:14.474Z"
   },
   {
    "duration": 49,
    "start_time": "2022-07-07T08:23:14.489Z"
   },
   {
    "duration": 10,
    "start_time": "2022-07-07T08:23:14.540Z"
   },
   {
    "duration": 27,
    "start_time": "2022-07-07T08:23:14.551Z"
   },
   {
    "duration": 12,
    "start_time": "2022-07-07T08:23:14.579Z"
   },
   {
    "duration": 34,
    "start_time": "2022-07-07T08:23:14.606Z"
   },
   {
    "duration": 12,
    "start_time": "2022-07-07T08:23:14.642Z"
   },
   {
    "duration": 15,
    "start_time": "2022-07-07T08:23:14.656Z"
   },
   {
    "duration": 11,
    "start_time": "2022-07-07T08:23:14.673Z"
   },
   {
    "duration": 26,
    "start_time": "2022-07-07T08:23:14.692Z"
   },
   {
    "duration": 45,
    "start_time": "2022-07-07T08:23:14.720Z"
   },
   {
    "duration": 26,
    "start_time": "2022-07-07T08:23:14.766Z"
   },
   {
    "duration": 20,
    "start_time": "2022-07-07T08:23:14.805Z"
   },
   {
    "duration": 79,
    "start_time": "2022-07-07T08:23:14.827Z"
   },
   {
    "duration": 10,
    "start_time": "2022-07-07T08:23:14.908Z"
   },
   {
    "duration": 9,
    "start_time": "2022-07-07T08:23:14.919Z"
   },
   {
    "duration": 13,
    "start_time": "2022-07-07T08:23:14.930Z"
   },
   {
    "duration": 15,
    "start_time": "2022-07-07T08:23:14.945Z"
   },
   {
    "duration": 16,
    "start_time": "2022-07-07T08:23:14.962Z"
   },
   {
    "duration": 7,
    "start_time": "2022-07-07T08:23:14.980Z"
   },
   {
    "duration": 74,
    "start_time": "2022-07-07T08:23:14.989Z"
   },
   {
    "duration": 57,
    "start_time": "2022-07-07T08:23:15.064Z"
   },
   {
    "duration": 4,
    "start_time": "2022-07-07T08:23:15.123Z"
   },
   {
    "duration": 16,
    "start_time": "2022-07-07T08:23:15.129Z"
   },
   {
    "duration": 7,
    "start_time": "2022-07-07T08:23:15.146Z"
   },
   {
    "duration": 10,
    "start_time": "2022-07-07T08:23:15.155Z"
   },
   {
    "duration": 252,
    "start_time": "2022-07-07T08:23:15.167Z"
   },
   {
    "duration": 7,
    "start_time": "2022-07-07T08:23:15.422Z"
   },
   {
    "duration": 43,
    "start_time": "2022-07-07T08:23:15.430Z"
   },
   {
    "duration": 3,
    "start_time": "2022-07-07T08:23:15.476Z"
   },
   {
    "duration": 84,
    "start_time": "2022-07-07T08:23:15.481Z"
   },
   {
    "duration": 62,
    "start_time": "2022-07-07T08:23:15.566Z"
   },
   {
    "duration": 226,
    "start_time": "2022-07-07T08:23:15.631Z"
   },
   {
    "duration": 13,
    "start_time": "2022-07-07T08:23:15.859Z"
   },
   {
    "duration": 209,
    "start_time": "2022-07-07T08:23:15.873Z"
   },
   {
    "duration": 59,
    "start_time": "2022-07-07T08:23:16.084Z"
   },
   {
    "duration": 32,
    "start_time": "2022-07-07T08:23:16.144Z"
   },
   {
    "duration": 50,
    "start_time": "2022-07-07T08:23:16.178Z"
   },
   {
    "duration": 1834,
    "start_time": "2022-07-07T08:23:16.230Z"
   },
   {
    "duration": 54,
    "start_time": "2022-07-07T08:23:18.066Z"
   },
   {
    "duration": 13,
    "start_time": "2022-07-07T08:23:18.121Z"
   },
   {
    "duration": 49,
    "start_time": "2022-07-07T08:23:18.136Z"
   },
   {
    "duration": 22,
    "start_time": "2022-07-07T08:23:18.187Z"
   },
   {
    "duration": 13,
    "start_time": "2022-07-07T08:23:18.214Z"
   },
   {
    "duration": 13,
    "start_time": "2022-07-07T08:23:18.229Z"
   },
   {
    "duration": 56,
    "start_time": "2022-07-07T08:23:18.244Z"
   },
   {
    "duration": 14,
    "start_time": "2022-07-07T08:23:18.303Z"
   },
   {
    "duration": 40,
    "start_time": "2022-07-07T08:23:18.322Z"
   },
   {
    "duration": 10,
    "start_time": "2022-07-07T08:23:18.364Z"
   },
   {
    "duration": 39,
    "start_time": "2022-07-07T08:23:18.376Z"
   },
   {
    "duration": 34,
    "start_time": "2022-07-07T08:23:18.418Z"
   },
   {
    "duration": 13,
    "start_time": "2022-07-07T08:23:18.454Z"
   },
   {
    "duration": 60,
    "start_time": "2022-07-07T08:23:18.469Z"
   },
   {
    "duration": 13,
    "start_time": "2022-07-07T08:23:18.531Z"
   },
   {
    "duration": 27,
    "start_time": "2022-07-07T08:23:18.545Z"
   },
   {
    "duration": 27,
    "start_time": "2022-07-07T08:23:18.574Z"
   },
   {
    "duration": 1569,
    "start_time": "2022-07-07T08:23:18.603Z"
   },
   {
    "duration": 13,
    "start_time": "2022-07-07T08:23:20.173Z"
   },
   {
    "duration": 35,
    "start_time": "2022-07-07T08:23:20.187Z"
   },
   {
    "duration": 16,
    "start_time": "2022-07-07T08:23:20.225Z"
   },
   {
    "duration": 4,
    "start_time": "2022-07-07T08:23:20.243Z"
   },
   {
    "duration": 22,
    "start_time": "2022-07-07T08:23:20.248Z"
   },
   {
    "duration": 42,
    "start_time": "2022-07-07T08:23:20.272Z"
   },
   {
    "duration": 15,
    "start_time": "2022-07-07T08:23:20.317Z"
   },
   {
    "duration": 18,
    "start_time": "2022-07-07T08:23:20.334Z"
   },
   {
    "duration": 9,
    "start_time": "2022-07-07T08:23:20.354Z"
   },
   {
    "duration": 8,
    "start_time": "2022-07-07T08:23:20.365Z"
   },
   {
    "duration": 8,
    "start_time": "2022-07-07T08:23:20.375Z"
   },
   {
    "duration": 12,
    "start_time": "2022-07-07T08:23:20.384Z"
   },
   {
    "duration": 28,
    "start_time": "2022-07-07T08:23:20.397Z"
   },
   {
    "duration": 27,
    "start_time": "2022-07-07T08:23:20.426Z"
   },
   {
    "duration": 7,
    "start_time": "2022-07-07T08:23:20.455Z"
   },
   {
    "duration": 11,
    "start_time": "2022-07-07T08:23:20.464Z"
   },
   {
    "duration": 56,
    "start_time": "2022-07-07T08:23:20.477Z"
   },
   {
    "duration": 3,
    "start_time": "2022-07-07T08:23:20.535Z"
   },
   {
    "duration": 17,
    "start_time": "2022-07-07T08:23:20.539Z"
   },
   {
    "duration": 13,
    "start_time": "2022-07-07T08:23:20.557Z"
   },
   {
    "duration": 9,
    "start_time": "2022-07-07T08:23:20.571Z"
   },
   {
    "duration": 9,
    "start_time": "2022-07-07T08:23:20.582Z"
   },
   {
    "duration": 7,
    "start_time": "2022-07-07T08:23:20.592Z"
   },
   {
    "duration": 15,
    "start_time": "2022-07-07T08:23:20.601Z"
   },
   {
    "duration": 16,
    "start_time": "2022-07-07T08:23:20.617Z"
   },
   {
    "duration": 28,
    "start_time": "2022-07-07T08:23:20.634Z"
   },
   {
    "duration": 57,
    "start_time": "2022-07-07T08:23:20.664Z"
   },
   {
    "duration": 4,
    "start_time": "2022-07-07T08:23:20.723Z"
   },
   {
    "duration": 12,
    "start_time": "2022-07-07T08:23:20.728Z"
   },
   {
    "duration": 1844,
    "start_time": "2022-07-07T08:23:20.742Z"
   },
   {
    "duration": 347,
    "start_time": "2022-07-07T08:23:22.588Z"
   },
   {
    "duration": 45,
    "start_time": "2022-07-07T08:32:30.252Z"
   },
   {
    "duration": 3,
    "start_time": "2022-07-07T08:38:19.021Z"
   },
   {
    "duration": 5,
    "start_time": "2022-07-07T08:40:19.191Z"
   },
   {
    "duration": 21,
    "start_time": "2022-07-07T08:41:19.652Z"
   },
   {
    "duration": 114,
    "start_time": "2022-07-07T08:41:51.013Z"
   },
   {
    "duration": 39,
    "start_time": "2022-07-07T08:41:57.845Z"
   },
   {
    "duration": 7,
    "start_time": "2022-07-07T08:43:32.485Z"
   },
   {
    "duration": 16,
    "start_time": "2022-07-07T08:43:51.696Z"
   },
   {
    "duration": 14,
    "start_time": "2022-07-07T08:44:55.819Z"
   },
   {
    "duration": 11,
    "start_time": "2022-07-07T08:45:02.689Z"
   },
   {
    "duration": 10,
    "start_time": "2022-07-07T08:45:20.613Z"
   },
   {
    "duration": 10,
    "start_time": "2022-07-07T08:45:49.579Z"
   },
   {
    "duration": 17,
    "start_time": "2022-07-07T08:46:00.021Z"
   },
   {
    "duration": 11,
    "start_time": "2022-07-07T08:46:42.354Z"
   },
   {
    "duration": 9,
    "start_time": "2022-07-07T08:50:03.517Z"
   },
   {
    "duration": 9,
    "start_time": "2022-07-07T08:50:10.546Z"
   },
   {
    "duration": 5,
    "start_time": "2022-07-07T08:50:13.055Z"
   },
   {
    "duration": 6,
    "start_time": "2022-07-07T08:50:16.020Z"
   },
   {
    "duration": 6,
    "start_time": "2022-07-07T08:51:37.209Z"
   },
   {
    "duration": 6,
    "start_time": "2022-07-07T08:51:52.457Z"
   },
   {
    "duration": 4,
    "start_time": "2022-07-07T09:03:19.279Z"
   },
   {
    "duration": 12,
    "start_time": "2022-07-07T09:03:27.260Z"
   },
   {
    "duration": 1320,
    "start_time": "2022-07-07T09:17:04.710Z"
   },
   {
    "duration": 220,
    "start_time": "2022-07-07T09:17:06.032Z"
   },
   {
    "duration": 46,
    "start_time": "2022-07-07T09:17:06.255Z"
   },
   {
    "duration": 6,
    "start_time": "2022-07-07T09:17:06.304Z"
   },
   {
    "duration": 21,
    "start_time": "2022-07-07T09:17:06.311Z"
   },
   {
    "duration": 11,
    "start_time": "2022-07-07T09:17:06.334Z"
   },
   {
    "duration": 11,
    "start_time": "2022-07-07T09:17:06.346Z"
   },
   {
    "duration": 9,
    "start_time": "2022-07-07T09:17:06.358Z"
   },
   {
    "duration": 12,
    "start_time": "2022-07-07T09:17:06.368Z"
   },
   {
    "duration": 41,
    "start_time": "2022-07-07T09:17:06.382Z"
   },
   {
    "duration": 11,
    "start_time": "2022-07-07T09:17:06.425Z"
   },
   {
    "duration": 8,
    "start_time": "2022-07-07T09:17:06.437Z"
   },
   {
    "duration": 10,
    "start_time": "2022-07-07T09:17:06.447Z"
   },
   {
    "duration": 49,
    "start_time": "2022-07-07T09:17:06.458Z"
   },
   {
    "duration": 27,
    "start_time": "2022-07-07T09:17:06.508Z"
   },
   {
    "duration": 15,
    "start_time": "2022-07-07T09:17:06.536Z"
   },
   {
    "duration": 16,
    "start_time": "2022-07-07T09:17:06.553Z"
   },
   {
    "duration": 44,
    "start_time": "2022-07-07T09:17:06.570Z"
   },
   {
    "duration": 14,
    "start_time": "2022-07-07T09:17:06.615Z"
   },
   {
    "duration": 12,
    "start_time": "2022-07-07T09:17:06.631Z"
   },
   {
    "duration": 38,
    "start_time": "2022-07-07T09:17:06.645Z"
   },
   {
    "duration": 11,
    "start_time": "2022-07-07T09:17:06.701Z"
   },
   {
    "duration": 22,
    "start_time": "2022-07-07T09:17:06.714Z"
   },
   {
    "duration": 29,
    "start_time": "2022-07-07T09:17:06.737Z"
   },
   {
    "duration": 33,
    "start_time": "2022-07-07T09:17:06.768Z"
   },
   {
    "duration": 13,
    "start_time": "2022-07-07T09:17:06.803Z"
   },
   {
    "duration": 18,
    "start_time": "2022-07-07T09:17:06.818Z"
   },
   {
    "duration": 41,
    "start_time": "2022-07-07T09:17:06.840Z"
   },
   {
    "duration": 25,
    "start_time": "2022-07-07T09:17:06.883Z"
   },
   {
    "duration": 48,
    "start_time": "2022-07-07T09:17:06.910Z"
   },
   {
    "duration": 50,
    "start_time": "2022-07-07T09:17:06.960Z"
   },
   {
    "duration": 14,
    "start_time": "2022-07-07T09:17:07.012Z"
   },
   {
    "duration": 23,
    "start_time": "2022-07-07T09:17:07.027Z"
   },
   {
    "duration": 97,
    "start_time": "2022-07-07T09:17:07.052Z"
   },
   {
    "duration": 4,
    "start_time": "2022-07-07T09:17:07.151Z"
   },
   {
    "duration": 13,
    "start_time": "2022-07-07T09:17:07.157Z"
   },
   {
    "duration": 112,
    "start_time": "2022-07-07T09:17:07.171Z"
   },
   {
    "duration": 88,
    "start_time": "2022-07-07T09:17:07.285Z"
   },
   {
    "duration": 46,
    "start_time": "2022-07-07T09:17:07.374Z"
   },
   {
    "duration": 14,
    "start_time": "2022-07-07T09:17:07.422Z"
   },
   {
    "duration": 22,
    "start_time": "2022-07-07T09:17:07.438Z"
   },
   {
    "duration": 126,
    "start_time": "2022-07-07T09:17:07.462Z"
   },
   {
    "duration": 40,
    "start_time": "2022-07-07T09:17:07.589Z"
   },
   {
    "duration": 4,
    "start_time": "2022-07-07T09:17:07.630Z"
   },
   {
    "duration": 19,
    "start_time": "2022-07-07T09:17:07.636Z"
   },
   {
    "duration": 44,
    "start_time": "2022-07-07T09:17:07.658Z"
   },
   {
    "duration": 16,
    "start_time": "2022-07-07T09:17:07.703Z"
   },
   {
    "duration": 11,
    "start_time": "2022-07-07T09:17:07.720Z"
   },
   {
    "duration": 14,
    "start_time": "2022-07-07T09:17:07.733Z"
   },
   {
    "duration": 477,
    "start_time": "2022-07-07T09:17:07.749Z"
   },
   {
    "duration": 13,
    "start_time": "2022-07-07T09:17:08.229Z"
   },
   {
    "duration": 62,
    "start_time": "2022-07-07T09:17:08.244Z"
   },
   {
    "duration": 3,
    "start_time": "2022-07-07T09:17:08.308Z"
   },
   {
    "duration": 6,
    "start_time": "2022-07-07T09:17:08.312Z"
   },
   {
    "duration": 198,
    "start_time": "2022-07-07T09:17:08.320Z"
   },
   {
    "duration": 5,
    "start_time": "2022-07-07T09:17:08.520Z"
   },
   {
    "duration": 10,
    "start_time": "2022-07-07T09:17:08.527Z"
   },
   {
    "duration": 10,
    "start_time": "2022-07-07T09:17:08.539Z"
   },
   {
    "duration": 174,
    "start_time": "2022-07-07T09:17:08.550Z"
   },
   {
    "duration": 7,
    "start_time": "2022-07-07T09:17:08.726Z"
   },
   {
    "duration": 11,
    "start_time": "2022-07-07T09:17:08.735Z"
   },
   {
    "duration": 6,
    "start_time": "2022-07-07T09:17:08.748Z"
   },
   {
    "duration": 208,
    "start_time": "2022-07-07T09:17:08.756Z"
   },
   {
    "duration": 15,
    "start_time": "2022-07-07T09:17:08.966Z"
   },
   {
    "duration": 24,
    "start_time": "2022-07-07T09:17:08.982Z"
   },
   {
    "duration": 17,
    "start_time": "2022-07-07T09:17:09.008Z"
   },
   {
    "duration": 187,
    "start_time": "2022-07-07T09:17:09.026Z"
   },
   {
    "duration": 39,
    "start_time": "2022-07-07T09:17:09.216Z"
   },
   {
    "duration": 22,
    "start_time": "2022-07-07T09:17:09.257Z"
   },
   {
    "duration": 38,
    "start_time": "2022-07-07T09:17:09.281Z"
   },
   {
    "duration": 5,
    "start_time": "2022-07-07T09:17:09.321Z"
   },
   {
    "duration": 35,
    "start_time": "2022-07-07T09:17:09.328Z"
   },
   {
    "duration": 19,
    "start_time": "2022-07-07T09:17:09.365Z"
   },
   {
    "duration": 49,
    "start_time": "2022-07-07T09:17:09.386Z"
   },
   {
    "duration": 10,
    "start_time": "2022-07-07T09:17:09.436Z"
   },
   {
    "duration": 30,
    "start_time": "2022-07-07T09:17:09.448Z"
   },
   {
    "duration": 15,
    "start_time": "2022-07-07T09:17:09.479Z"
   },
   {
    "duration": 53,
    "start_time": "2022-07-07T09:17:09.500Z"
   },
   {
    "duration": 29,
    "start_time": "2022-07-07T09:17:09.555Z"
   },
   {
    "duration": 22,
    "start_time": "2022-07-07T09:17:09.586Z"
   },
   {
    "duration": 10,
    "start_time": "2022-07-07T09:17:09.609Z"
   },
   {
    "duration": 24,
    "start_time": "2022-07-07T09:17:09.626Z"
   },
   {
    "duration": 39,
    "start_time": "2022-07-07T09:17:09.651Z"
   },
   {
    "duration": 23,
    "start_time": "2022-07-07T09:17:09.701Z"
   },
   {
    "duration": 13,
    "start_time": "2022-07-07T09:17:09.725Z"
   },
   {
    "duration": 80,
    "start_time": "2022-07-07T09:17:09.740Z"
   },
   {
    "duration": 5,
    "start_time": "2022-07-07T09:17:09.822Z"
   },
   {
    "duration": 10,
    "start_time": "2022-07-07T09:17:09.828Z"
   },
   {
    "duration": 19,
    "start_time": "2022-07-07T09:17:09.840Z"
   },
   {
    "duration": 22,
    "start_time": "2022-07-07T09:17:09.860Z"
   },
   {
    "duration": 14,
    "start_time": "2022-07-07T09:17:09.884Z"
   },
   {
    "duration": 10,
    "start_time": "2022-07-07T09:17:09.900Z"
   },
   {
    "duration": 61,
    "start_time": "2022-07-07T09:17:09.911Z"
   },
   {
    "duration": 42,
    "start_time": "2022-07-07T09:17:09.973Z"
   },
   {
    "duration": 5,
    "start_time": "2022-07-07T09:17:10.016Z"
   },
   {
    "duration": 31,
    "start_time": "2022-07-07T09:17:10.023Z"
   },
   {
    "duration": 28,
    "start_time": "2022-07-07T09:17:10.055Z"
   },
   {
    "duration": 28,
    "start_time": "2022-07-07T09:17:10.084Z"
   },
   {
    "duration": 228,
    "start_time": "2022-07-07T09:17:10.113Z"
   },
   {
    "duration": 3,
    "start_time": "2022-07-07T09:17:10.343Z"
   },
   {
    "duration": 36,
    "start_time": "2022-07-07T09:17:10.348Z"
   },
   {
    "duration": 15,
    "start_time": "2022-07-07T09:17:10.385Z"
   },
   {
    "duration": 59,
    "start_time": "2022-07-07T09:17:10.402Z"
   },
   {
    "duration": 40,
    "start_time": "2022-07-07T09:17:10.462Z"
   },
   {
    "duration": 229,
    "start_time": "2022-07-07T09:17:10.503Z"
   },
   {
    "duration": 14,
    "start_time": "2022-07-07T09:17:10.735Z"
   },
   {
    "duration": 202,
    "start_time": "2022-07-07T09:17:10.751Z"
   },
   {
    "duration": 50,
    "start_time": "2022-07-07T09:17:10.955Z"
   },
   {
    "duration": 29,
    "start_time": "2022-07-07T09:17:11.007Z"
   },
   {
    "duration": 25,
    "start_time": "2022-07-07T09:17:11.038Z"
   },
   {
    "duration": 1735,
    "start_time": "2022-07-07T09:17:11.065Z"
   },
   {
    "duration": 49,
    "start_time": "2022-07-07T09:17:12.802Z"
   },
   {
    "duration": 13,
    "start_time": "2022-07-07T09:17:12.853Z"
   },
   {
    "duration": 61,
    "start_time": "2022-07-07T09:17:12.868Z"
   },
   {
    "duration": 8,
    "start_time": "2022-07-07T09:17:12.930Z"
   },
   {
    "duration": 18,
    "start_time": "2022-07-07T09:17:12.939Z"
   },
   {
    "duration": 17,
    "start_time": "2022-07-07T09:17:12.959Z"
   },
   {
    "duration": 74,
    "start_time": "2022-07-07T09:17:12.978Z"
   },
   {
    "duration": 8,
    "start_time": "2022-07-07T09:17:13.054Z"
   },
   {
    "duration": 59,
    "start_time": "2022-07-07T09:17:13.064Z"
   },
   {
    "duration": 11,
    "start_time": "2022-07-07T09:17:13.125Z"
   },
   {
    "duration": 32,
    "start_time": "2022-07-07T09:17:13.137Z"
   },
   {
    "duration": 37,
    "start_time": "2022-07-07T09:17:13.171Z"
   },
   {
    "duration": 13,
    "start_time": "2022-07-07T09:17:13.210Z"
   },
   {
    "duration": 30,
    "start_time": "2022-07-07T09:17:13.224Z"
   },
   {
    "duration": 25,
    "start_time": "2022-07-07T09:17:13.255Z"
   },
   {
    "duration": 29,
    "start_time": "2022-07-07T09:17:13.281Z"
   },
   {
    "duration": 25,
    "start_time": "2022-07-07T09:17:13.311Z"
   },
   {
    "duration": 1516,
    "start_time": "2022-07-07T09:17:13.338Z"
   },
   {
    "duration": 12,
    "start_time": "2022-07-07T09:17:14.856Z"
   },
   {
    "duration": 14,
    "start_time": "2022-07-07T09:17:14.870Z"
   },
   {
    "duration": 24,
    "start_time": "2022-07-07T09:17:14.885Z"
   },
   {
    "duration": 4,
    "start_time": "2022-07-07T09:17:14.911Z"
   },
   {
    "duration": 23,
    "start_time": "2022-07-07T09:17:14.917Z"
   },
   {
    "duration": 23,
    "start_time": "2022-07-07T09:17:14.941Z"
   },
   {
    "duration": 13,
    "start_time": "2022-07-07T09:17:14.965Z"
   },
   {
    "duration": 5,
    "start_time": "2022-07-07T09:17:15.000Z"
   },
   {
    "duration": 9,
    "start_time": "2022-07-07T09:17:15.007Z"
   },
   {
    "duration": 11,
    "start_time": "2022-07-07T09:17:15.018Z"
   },
   {
    "duration": 16,
    "start_time": "2022-07-07T09:17:15.031Z"
   },
   {
    "duration": 22,
    "start_time": "2022-07-07T09:17:15.049Z"
   },
   {
    "duration": 15,
    "start_time": "2022-07-07T09:17:15.073Z"
   },
   {
    "duration": 7,
    "start_time": "2022-07-07T09:17:15.089Z"
   },
   {
    "duration": 10,
    "start_time": "2022-07-07T09:17:15.098Z"
   },
   {
    "duration": 10,
    "start_time": "2022-07-07T09:17:15.110Z"
   },
   {
    "duration": 46,
    "start_time": "2022-07-07T09:17:15.122Z"
   },
   {
    "duration": 3,
    "start_time": "2022-07-07T09:17:15.170Z"
   },
   {
    "duration": 11,
    "start_time": "2022-07-07T09:17:15.174Z"
   },
   {
    "duration": 23,
    "start_time": "2022-07-07T09:17:15.187Z"
   },
   {
    "duration": 8,
    "start_time": "2022-07-07T09:17:15.211Z"
   },
   {
    "duration": 11,
    "start_time": "2022-07-07T09:17:15.221Z"
   },
   {
    "duration": 34,
    "start_time": "2022-07-07T09:17:15.234Z"
   },
   {
    "duration": 1345,
    "start_time": "2022-07-08T14:52:48.880Z"
   },
   {
    "duration": 215,
    "start_time": "2022-07-08T14:52:50.227Z"
   },
   {
    "duration": 33,
    "start_time": "2022-07-08T14:52:50.444Z"
   },
   {
    "duration": 6,
    "start_time": "2022-07-08T14:52:50.479Z"
   },
   {
    "duration": 31,
    "start_time": "2022-07-08T14:52:50.486Z"
   },
   {
    "duration": 13,
    "start_time": "2022-07-08T14:52:50.518Z"
   },
   {
    "duration": 10,
    "start_time": "2022-07-08T14:52:50.533Z"
   },
   {
    "duration": 8,
    "start_time": "2022-07-08T14:52:50.544Z"
   },
   {
    "duration": 13,
    "start_time": "2022-07-08T14:52:50.553Z"
   },
   {
    "duration": 35,
    "start_time": "2022-07-08T14:52:50.568Z"
   },
   {
    "duration": 11,
    "start_time": "2022-07-08T14:52:50.605Z"
   },
   {
    "duration": 9,
    "start_time": "2022-07-08T14:52:50.617Z"
   },
   {
    "duration": 9,
    "start_time": "2022-07-08T14:52:50.628Z"
   },
   {
    "duration": 36,
    "start_time": "2022-07-08T14:52:50.639Z"
   },
   {
    "duration": 27,
    "start_time": "2022-07-08T14:52:50.701Z"
   },
   {
    "duration": 9,
    "start_time": "2022-07-08T14:52:50.729Z"
   },
   {
    "duration": 25,
    "start_time": "2022-07-08T14:52:50.740Z"
   },
   {
    "duration": 41,
    "start_time": "2022-07-08T14:52:50.767Z"
   },
   {
    "duration": 12,
    "start_time": "2022-07-08T14:52:50.810Z"
   },
   {
    "duration": 18,
    "start_time": "2022-07-08T14:52:50.823Z"
   },
   {
    "duration": 59,
    "start_time": "2022-07-08T14:52:50.843Z"
   },
   {
    "duration": 15,
    "start_time": "2022-07-08T14:52:50.904Z"
   },
   {
    "duration": 21,
    "start_time": "2022-07-08T14:52:50.921Z"
   },
   {
    "duration": 29,
    "start_time": "2022-07-08T14:52:50.944Z"
   },
   {
    "duration": 36,
    "start_time": "2022-07-08T14:52:50.975Z"
   },
   {
    "duration": 26,
    "start_time": "2022-07-08T14:52:51.013Z"
   },
   {
    "duration": 23,
    "start_time": "2022-07-08T14:52:51.041Z"
   },
   {
    "duration": 41,
    "start_time": "2022-07-08T14:52:51.069Z"
   },
   {
    "duration": 20,
    "start_time": "2022-07-08T14:52:51.112Z"
   },
   {
    "duration": 48,
    "start_time": "2022-07-08T14:52:51.133Z"
   },
   {
    "duration": 45,
    "start_time": "2022-07-08T14:52:51.183Z"
   },
   {
    "duration": 14,
    "start_time": "2022-07-08T14:52:51.230Z"
   },
   {
    "duration": 29,
    "start_time": "2022-07-08T14:52:51.246Z"
   },
   {
    "duration": 101,
    "start_time": "2022-07-08T14:52:51.276Z"
   },
   {
    "duration": 5,
    "start_time": "2022-07-08T14:52:51.378Z"
   },
   {
    "duration": 10,
    "start_time": "2022-07-08T14:52:51.401Z"
   },
   {
    "duration": 115,
    "start_time": "2022-07-08T14:52:51.413Z"
   },
   {
    "duration": 101,
    "start_time": "2022-07-08T14:52:51.530Z"
   },
   {
    "duration": 33,
    "start_time": "2022-07-08T14:52:51.633Z"
   },
   {
    "duration": 10,
    "start_time": "2022-07-08T14:52:51.668Z"
   },
   {
    "duration": 12,
    "start_time": "2022-07-08T14:52:51.701Z"
   },
   {
    "duration": 105,
    "start_time": "2022-07-08T14:52:51.715Z"
   },
   {
    "duration": 37,
    "start_time": "2022-07-08T14:52:51.821Z"
   },
   {
    "duration": 3,
    "start_time": "2022-07-08T14:52:51.860Z"
   },
   {
    "duration": 16,
    "start_time": "2022-07-08T14:52:51.864Z"
   },
   {
    "duration": 20,
    "start_time": "2022-07-08T14:52:51.900Z"
   },
   {
    "duration": 15,
    "start_time": "2022-07-08T14:52:51.922Z"
   },
   {
    "duration": 10,
    "start_time": "2022-07-08T14:52:51.939Z"
   },
   {
    "duration": 11,
    "start_time": "2022-07-08T14:52:51.951Z"
   },
   {
    "duration": 445,
    "start_time": "2022-07-08T14:52:51.964Z"
   },
   {
    "duration": 14,
    "start_time": "2022-07-08T14:52:52.410Z"
   },
   {
    "duration": 48,
    "start_time": "2022-07-08T14:52:52.425Z"
   },
   {
    "duration": 3,
    "start_time": "2022-07-08T14:52:52.474Z"
   },
   {
    "duration": 23,
    "start_time": "2022-07-08T14:52:52.479Z"
   },
   {
    "duration": 176,
    "start_time": "2022-07-08T14:52:52.504Z"
   },
   {
    "duration": 5,
    "start_time": "2022-07-08T14:52:52.682Z"
   },
   {
    "duration": 8,
    "start_time": "2022-07-08T14:52:52.701Z"
   },
   {
    "duration": 12,
    "start_time": "2022-07-08T14:52:52.710Z"
   },
   {
    "duration": 146,
    "start_time": "2022-07-08T14:52:52.724Z"
   },
   {
    "duration": 5,
    "start_time": "2022-07-08T14:52:52.872Z"
   },
   {
    "duration": 11,
    "start_time": "2022-07-08T14:52:52.879Z"
   },
   {
    "duration": 5,
    "start_time": "2022-07-08T14:52:52.900Z"
   },
   {
    "duration": 175,
    "start_time": "2022-07-08T14:52:52.906Z"
   },
   {
    "duration": 10,
    "start_time": "2022-07-08T14:52:53.083Z"
   },
   {
    "duration": 14,
    "start_time": "2022-07-08T14:52:53.094Z"
   },
   {
    "duration": 15,
    "start_time": "2022-07-08T14:52:53.109Z"
   },
   {
    "duration": 180,
    "start_time": "2022-07-08T14:52:53.126Z"
   },
   {
    "duration": 34,
    "start_time": "2022-07-08T14:52:53.308Z"
   },
   {
    "duration": 21,
    "start_time": "2022-07-08T14:52:53.343Z"
   },
   {
    "duration": 37,
    "start_time": "2022-07-08T14:52:53.365Z"
   },
   {
    "duration": 4,
    "start_time": "2022-07-08T14:52:53.404Z"
   },
   {
    "duration": 16,
    "start_time": "2022-07-08T14:52:53.409Z"
   },
   {
    "duration": 9,
    "start_time": "2022-07-08T14:52:53.426Z"
   },
   {
    "duration": 39,
    "start_time": "2022-07-08T14:52:53.437Z"
   },
   {
    "duration": 26,
    "start_time": "2022-07-08T14:52:53.478Z"
   },
   {
    "duration": 19,
    "start_time": "2022-07-08T14:52:53.506Z"
   },
   {
    "duration": 11,
    "start_time": "2022-07-08T14:52:53.526Z"
   },
   {
    "duration": 12,
    "start_time": "2022-07-08T14:52:53.539Z"
   },
   {
    "duration": 14,
    "start_time": "2022-07-08T14:52:53.553Z"
   },
   {
    "duration": 42,
    "start_time": "2022-07-08T14:52:53.568Z"
   },
   {
    "duration": 11,
    "start_time": "2022-07-08T14:52:53.611Z"
   },
   {
    "duration": 16,
    "start_time": "2022-07-08T14:52:53.629Z"
   },
   {
    "duration": 58,
    "start_time": "2022-07-08T14:52:53.647Z"
   },
   {
    "duration": 21,
    "start_time": "2022-07-08T14:52:53.707Z"
   },
   {
    "duration": 11,
    "start_time": "2022-07-08T14:52:53.729Z"
   },
   {
    "duration": 78,
    "start_time": "2022-07-08T14:52:53.741Z"
   },
   {
    "duration": 4,
    "start_time": "2022-07-08T14:52:53.821Z"
   },
   {
    "duration": 7,
    "start_time": "2022-07-08T14:52:53.826Z"
   },
   {
    "duration": 16,
    "start_time": "2022-07-08T14:52:53.834Z"
   },
   {
    "duration": 16,
    "start_time": "2022-07-08T14:52:53.852Z"
   },
   {
    "duration": 8,
    "start_time": "2022-07-08T14:52:53.870Z"
   },
   {
    "duration": 23,
    "start_time": "2022-07-08T14:52:53.879Z"
   },
   {
    "duration": 60,
    "start_time": "2022-07-08T14:52:53.904Z"
   },
   {
    "duration": 65,
    "start_time": "2022-07-08T14:52:53.966Z"
   },
   {
    "duration": 4,
    "start_time": "2022-07-08T14:52:54.032Z"
   },
   {
    "duration": 17,
    "start_time": "2022-07-08T14:52:54.038Z"
   },
   {
    "duration": 17,
    "start_time": "2022-07-08T14:52:54.056Z"
   },
   {
    "duration": 7,
    "start_time": "2022-07-08T14:52:54.075Z"
   },
   {
    "duration": 180,
    "start_time": "2022-07-08T14:52:54.084Z"
   },
   {
    "duration": 4,
    "start_time": "2022-07-08T14:52:54.266Z"
   },
   {
    "duration": 40,
    "start_time": "2022-07-08T14:52:54.272Z"
   },
   {
    "duration": 3,
    "start_time": "2022-07-08T14:52:54.313Z"
   },
   {
    "duration": 50,
    "start_time": "2022-07-08T14:52:54.318Z"
   },
   {
    "duration": 46,
    "start_time": "2022-07-08T14:52:54.369Z"
   },
   {
    "duration": 229,
    "start_time": "2022-07-08T14:52:54.417Z"
   },
   {
    "duration": 12,
    "start_time": "2022-07-08T14:52:54.648Z"
   },
   {
    "duration": 195,
    "start_time": "2022-07-08T14:52:54.661Z"
   },
   {
    "duration": 54,
    "start_time": "2022-07-08T14:52:54.858Z"
   },
   {
    "duration": 29,
    "start_time": "2022-07-08T14:52:54.913Z"
   },
   {
    "duration": 28,
    "start_time": "2022-07-08T14:52:54.944Z"
   },
   {
    "duration": 1735,
    "start_time": "2022-07-08T14:52:54.973Z"
   },
   {
    "duration": 47,
    "start_time": "2022-07-08T14:52:56.710Z"
   },
   {
    "duration": 13,
    "start_time": "2022-07-08T14:52:56.759Z"
   },
   {
    "duration": 51,
    "start_time": "2022-07-08T14:52:56.774Z"
   },
   {
    "duration": 9,
    "start_time": "2022-07-08T14:52:56.826Z"
   },
   {
    "duration": 8,
    "start_time": "2022-07-08T14:52:56.837Z"
   },
   {
    "duration": 9,
    "start_time": "2022-07-08T14:52:56.847Z"
   },
   {
    "duration": 61,
    "start_time": "2022-07-08T14:52:56.857Z"
   },
   {
    "duration": 7,
    "start_time": "2022-07-08T14:52:56.920Z"
   },
   {
    "duration": 31,
    "start_time": "2022-07-08T14:52:56.929Z"
   },
   {
    "duration": 10,
    "start_time": "2022-07-08T14:52:56.962Z"
   },
   {
    "duration": 36,
    "start_time": "2022-07-08T14:52:56.974Z"
   },
   {
    "duration": 27,
    "start_time": "2022-07-08T14:52:57.011Z"
   },
   {
    "duration": 12,
    "start_time": "2022-07-08T14:52:57.040Z"
   },
   {
    "duration": 26,
    "start_time": "2022-07-08T14:52:57.053Z"
   },
   {
    "duration": 6,
    "start_time": "2022-07-08T14:52:57.101Z"
   },
   {
    "duration": 20,
    "start_time": "2022-07-08T14:52:57.109Z"
   },
   {
    "duration": 24,
    "start_time": "2022-07-08T14:52:57.131Z"
   },
   {
    "duration": 1417,
    "start_time": "2022-07-08T14:52:57.157Z"
   },
   {
    "duration": 12,
    "start_time": "2022-07-08T14:52:58.576Z"
   },
   {
    "duration": 22,
    "start_time": "2022-07-08T14:52:58.589Z"
   },
   {
    "duration": 10,
    "start_time": "2022-07-08T14:52:58.613Z"
   },
   {
    "duration": 4,
    "start_time": "2022-07-08T14:52:58.625Z"
   },
   {
    "duration": 19,
    "start_time": "2022-07-08T14:52:58.631Z"
   },
   {
    "duration": 18,
    "start_time": "2022-07-08T14:52:58.652Z"
   },
   {
    "duration": 38,
    "start_time": "2022-07-08T14:52:58.672Z"
   },
   {
    "duration": 4,
    "start_time": "2022-07-08T14:52:58.712Z"
   },
   {
    "duration": 8,
    "start_time": "2022-07-08T14:52:58.717Z"
   },
   {
    "duration": 5,
    "start_time": "2022-07-08T14:52:58.726Z"
   },
   {
    "duration": 6,
    "start_time": "2022-07-08T14:52:58.732Z"
   },
   {
    "duration": 11,
    "start_time": "2022-07-08T14:52:58.740Z"
   },
   {
    "duration": 9,
    "start_time": "2022-07-08T14:52:58.752Z"
   },
   {
    "duration": 5,
    "start_time": "2022-07-08T14:52:58.763Z"
   },
   {
    "duration": 32,
    "start_time": "2022-07-08T14:52:58.770Z"
   },
   {
    "duration": 7,
    "start_time": "2022-07-08T14:52:58.803Z"
   },
   {
    "duration": 45,
    "start_time": "2022-07-08T14:52:58.812Z"
   },
   {
    "duration": 3,
    "start_time": "2022-07-08T14:52:58.858Z"
   },
   {
    "duration": 10,
    "start_time": "2022-07-08T14:52:58.863Z"
   },
   {
    "duration": 34,
    "start_time": "2022-07-08T14:52:58.874Z"
   },
   {
    "duration": 7,
    "start_time": "2022-07-08T14:52:58.909Z"
   },
   {
    "duration": 8,
    "start_time": "2022-07-08T14:52:58.917Z"
   },
   {
    "duration": 9,
    "start_time": "2022-07-08T14:52:58.926Z"
   },
   {
    "duration": 6,
    "start_time": "2022-07-08T15:01:00.794Z"
   },
   {
    "duration": 6,
    "start_time": "2022-07-08T15:02:34.286Z"
   },
   {
    "duration": 7,
    "start_time": "2022-07-08T15:02:42.768Z"
   },
   {
    "duration": 9,
    "start_time": "2022-07-08T15:42:45.162Z"
   },
   {
    "duration": 1400,
    "start_time": "2022-07-08T15:42:52.462Z"
   },
   {
    "duration": 524,
    "start_time": "2022-07-08T15:42:53.864Z"
   },
   {
    "duration": 36,
    "start_time": "2022-07-08T15:42:54.389Z"
   },
   {
    "duration": 5,
    "start_time": "2022-07-08T15:42:54.427Z"
   },
   {
    "duration": 13,
    "start_time": "2022-07-08T15:42:54.433Z"
   },
   {
    "duration": 31,
    "start_time": "2022-07-08T15:42:54.448Z"
   },
   {
    "duration": 12,
    "start_time": "2022-07-08T15:42:54.480Z"
   },
   {
    "duration": 8,
    "start_time": "2022-07-08T15:42:54.495Z"
   },
   {
    "duration": 26,
    "start_time": "2022-07-08T15:42:54.505Z"
   },
   {
    "duration": 63,
    "start_time": "2022-07-08T15:42:54.534Z"
   },
   {
    "duration": 14,
    "start_time": "2022-07-08T15:42:54.599Z"
   },
   {
    "duration": 16,
    "start_time": "2022-07-08T15:42:54.615Z"
   },
   {
    "duration": 9,
    "start_time": "2022-07-08T15:42:54.633Z"
   },
   {
    "duration": 37,
    "start_time": "2022-07-08T15:42:54.644Z"
   },
   {
    "duration": 29,
    "start_time": "2022-07-08T15:42:54.683Z"
   },
   {
    "duration": 9,
    "start_time": "2022-07-08T15:42:54.724Z"
   },
   {
    "duration": 17,
    "start_time": "2022-07-08T15:42:54.735Z"
   },
   {
    "duration": 32,
    "start_time": "2022-07-08T15:42:54.753Z"
   },
   {
    "duration": 12,
    "start_time": "2022-07-08T15:42:54.787Z"
   },
   {
    "duration": 11,
    "start_time": "2022-07-08T15:42:54.823Z"
   },
   {
    "duration": 33,
    "start_time": "2022-07-08T15:42:54.836Z"
   },
   {
    "duration": 10,
    "start_time": "2022-07-08T15:42:54.872Z"
   },
   {
    "duration": 16,
    "start_time": "2022-07-08T15:42:54.884Z"
   },
   {
    "duration": 30,
    "start_time": "2022-07-08T15:42:54.924Z"
   },
   {
    "duration": 13,
    "start_time": "2022-07-08T15:42:54.955Z"
   },
   {
    "duration": 18,
    "start_time": "2022-07-08T15:42:54.970Z"
   },
   {
    "duration": 35,
    "start_time": "2022-07-08T15:42:54.989Z"
   },
   {
    "duration": 38,
    "start_time": "2022-07-08T15:42:55.029Z"
   },
   {
    "duration": 22,
    "start_time": "2022-07-08T15:42:55.069Z"
   },
   {
    "duration": 64,
    "start_time": "2022-07-08T15:42:55.093Z"
   },
   {
    "duration": 29,
    "start_time": "2022-07-08T15:42:55.159Z"
   },
   {
    "duration": 12,
    "start_time": "2022-07-08T15:42:55.190Z"
   },
   {
    "duration": 30,
    "start_time": "2022-07-08T15:42:55.204Z"
   },
   {
    "duration": 95,
    "start_time": "2022-07-08T15:42:55.236Z"
   },
   {
    "duration": 6,
    "start_time": "2022-07-08T15:42:55.333Z"
   },
   {
    "duration": 15,
    "start_time": "2022-07-08T15:42:55.341Z"
   },
   {
    "duration": 117,
    "start_time": "2022-07-08T15:42:55.358Z"
   },
   {
    "duration": 100,
    "start_time": "2022-07-08T15:42:55.477Z"
   },
   {
    "duration": 48,
    "start_time": "2022-07-08T15:42:55.580Z"
   },
   {
    "duration": 10,
    "start_time": "2022-07-08T15:42:55.630Z"
   },
   {
    "duration": 16,
    "start_time": "2022-07-08T15:42:55.641Z"
   },
   {
    "duration": 95,
    "start_time": "2022-07-08T15:42:55.659Z"
   },
   {
    "duration": 40,
    "start_time": "2022-07-08T15:42:55.756Z"
   },
   {
    "duration": 4,
    "start_time": "2022-07-08T15:42:55.797Z"
   },
   {
    "duration": 31,
    "start_time": "2022-07-08T15:42:55.802Z"
   },
   {
    "duration": 18,
    "start_time": "2022-07-08T15:42:55.835Z"
   },
   {
    "duration": 17,
    "start_time": "2022-07-08T15:42:55.855Z"
   },
   {
    "duration": 11,
    "start_time": "2022-07-08T15:42:55.873Z"
   },
   {
    "duration": 12,
    "start_time": "2022-07-08T15:42:55.885Z"
   },
   {
    "duration": 428,
    "start_time": "2022-07-08T15:42:55.898Z"
   },
   {
    "duration": 15,
    "start_time": "2022-07-08T15:42:56.328Z"
   },
   {
    "duration": 49,
    "start_time": "2022-07-08T15:42:56.345Z"
   },
   {
    "duration": 3,
    "start_time": "2022-07-08T15:42:56.397Z"
   },
   {
    "duration": 5,
    "start_time": "2022-07-08T15:42:56.402Z"
   },
   {
    "duration": 184,
    "start_time": "2022-07-08T15:42:56.424Z"
   },
   {
    "duration": 6,
    "start_time": "2022-07-08T15:42:56.609Z"
   },
   {
    "duration": 6,
    "start_time": "2022-07-08T15:42:56.624Z"
   },
   {
    "duration": 10,
    "start_time": "2022-07-08T15:42:56.631Z"
   },
   {
    "duration": 161,
    "start_time": "2022-07-08T15:42:56.643Z"
   },
   {
    "duration": 6,
    "start_time": "2022-07-08T15:42:56.806Z"
   },
   {
    "duration": 15,
    "start_time": "2022-07-08T15:42:56.814Z"
   },
   {
    "duration": 9,
    "start_time": "2022-07-08T15:42:56.831Z"
   },
   {
    "duration": 179,
    "start_time": "2022-07-08T15:42:56.842Z"
   },
   {
    "duration": 11,
    "start_time": "2022-07-08T15:42:57.023Z"
   },
   {
    "duration": 10,
    "start_time": "2022-07-08T15:42:57.036Z"
   },
   {
    "duration": 15,
    "start_time": "2022-07-08T15:42:57.048Z"
   },
   {
    "duration": 190,
    "start_time": "2022-07-08T15:42:57.065Z"
   },
   {
    "duration": 35,
    "start_time": "2022-07-08T15:42:57.257Z"
   },
   {
    "duration": 33,
    "start_time": "2022-07-08T15:42:57.294Z"
   },
   {
    "duration": 24,
    "start_time": "2022-07-08T15:42:57.329Z"
   },
   {
    "duration": 5,
    "start_time": "2022-07-08T15:42:57.356Z"
   },
   {
    "duration": 21,
    "start_time": "2022-07-08T15:42:57.363Z"
   },
   {
    "duration": 13,
    "start_time": "2022-07-08T15:42:57.386Z"
   },
   {
    "duration": 64,
    "start_time": "2022-07-08T15:42:57.401Z"
   },
   {
    "duration": 10,
    "start_time": "2022-07-08T15:42:57.467Z"
   },
   {
    "duration": 45,
    "start_time": "2022-07-08T15:42:57.479Z"
   },
   {
    "duration": 16,
    "start_time": "2022-07-08T15:42:57.526Z"
   },
   {
    "duration": 18,
    "start_time": "2022-07-08T15:42:57.544Z"
   },
   {
    "duration": 13,
    "start_time": "2022-07-08T15:42:57.564Z"
   },
   {
    "duration": 13,
    "start_time": "2022-07-08T15:42:57.578Z"
   },
   {
    "duration": 10,
    "start_time": "2022-07-08T15:42:57.593Z"
   },
   {
    "duration": 17,
    "start_time": "2022-07-08T15:42:57.629Z"
   },
   {
    "duration": 39,
    "start_time": "2022-07-08T15:42:57.648Z"
   },
   {
    "duration": 43,
    "start_time": "2022-07-08T15:42:57.689Z"
   },
   {
    "duration": 11,
    "start_time": "2022-07-08T15:42:57.734Z"
   },
   {
    "duration": 61,
    "start_time": "2022-07-08T15:42:57.746Z"
   },
   {
    "duration": 17,
    "start_time": "2022-07-08T15:42:57.809Z"
   },
   {
    "duration": 13,
    "start_time": "2022-07-08T15:42:57.827Z"
   },
   {
    "duration": 13,
    "start_time": "2022-07-08T15:42:57.842Z"
   },
   {
    "duration": 15,
    "start_time": "2022-07-08T15:42:57.857Z"
   },
   {
    "duration": 5,
    "start_time": "2022-07-08T15:42:57.874Z"
   },
   {
    "duration": 7,
    "start_time": "2022-07-08T15:42:57.881Z"
   },
   {
    "duration": 71,
    "start_time": "2022-07-08T15:42:57.889Z"
   },
   {
    "duration": 41,
    "start_time": "2022-07-08T15:42:57.962Z"
   },
   {
    "duration": 4,
    "start_time": "2022-07-08T15:42:58.005Z"
   },
   {
    "duration": 11,
    "start_time": "2022-07-08T15:42:58.024Z"
   },
   {
    "duration": 5,
    "start_time": "2022-07-08T15:42:58.037Z"
   },
   {
    "duration": 6,
    "start_time": "2022-07-08T15:42:58.044Z"
   },
   {
    "duration": 186,
    "start_time": "2022-07-08T15:42:58.052Z"
   },
   {
    "duration": 5,
    "start_time": "2022-07-08T15:42:58.239Z"
   },
   {
    "duration": 33,
    "start_time": "2022-07-08T15:42:58.245Z"
   },
   {
    "duration": 2,
    "start_time": "2022-07-08T15:42:58.280Z"
   },
   {
    "duration": 64,
    "start_time": "2022-07-08T15:42:58.283Z"
   },
   {
    "duration": 36,
    "start_time": "2022-07-08T15:42:58.349Z"
   },
   {
    "duration": 246,
    "start_time": "2022-07-08T15:42:58.387Z"
   },
   {
    "duration": 14,
    "start_time": "2022-07-08T15:42:58.635Z"
   },
   {
    "duration": 203,
    "start_time": "2022-07-08T15:42:58.651Z"
   },
   {
    "duration": 44,
    "start_time": "2022-07-08T15:42:58.857Z"
   },
   {
    "duration": 41,
    "start_time": "2022-07-08T15:42:58.903Z"
   },
   {
    "duration": 22,
    "start_time": "2022-07-08T15:42:58.946Z"
   },
   {
    "duration": 1643,
    "start_time": "2022-07-08T15:42:58.970Z"
   },
   {
    "duration": 50,
    "start_time": "2022-07-08T15:43:00.615Z"
   },
   {
    "duration": 13,
    "start_time": "2022-07-08T15:43:00.667Z"
   },
   {
    "duration": 56,
    "start_time": "2022-07-08T15:43:00.681Z"
   },
   {
    "duration": 7,
    "start_time": "2022-07-08T15:43:00.739Z"
   },
   {
    "duration": 11,
    "start_time": "2022-07-08T15:43:00.748Z"
   },
   {
    "duration": 20,
    "start_time": "2022-07-08T15:43:00.761Z"
   },
   {
    "duration": 54,
    "start_time": "2022-07-08T15:43:00.783Z"
   },
   {
    "duration": 7,
    "start_time": "2022-07-08T15:43:00.839Z"
   },
   {
    "duration": 35,
    "start_time": "2022-07-08T15:43:00.848Z"
   },
   {
    "duration": 10,
    "start_time": "2022-07-08T15:43:00.885Z"
   },
   {
    "duration": 35,
    "start_time": "2022-07-08T15:43:00.897Z"
   },
   {
    "duration": 31,
    "start_time": "2022-07-08T15:43:00.934Z"
   },
   {
    "duration": 15,
    "start_time": "2022-07-08T15:43:00.966Z"
   },
   {
    "duration": 43,
    "start_time": "2022-07-08T15:43:00.982Z"
   },
   {
    "duration": 7,
    "start_time": "2022-07-08T15:43:01.026Z"
   },
   {
    "duration": 23,
    "start_time": "2022-07-08T15:43:01.035Z"
   },
   {
    "duration": 33,
    "start_time": "2022-07-08T15:43:01.059Z"
   },
   {
    "duration": 1500,
    "start_time": "2022-07-08T15:43:01.093Z"
   },
   {
    "duration": 12,
    "start_time": "2022-07-08T15:43:02.595Z"
   },
   {
    "duration": 24,
    "start_time": "2022-07-08T15:43:02.609Z"
   },
   {
    "duration": 10,
    "start_time": "2022-07-08T15:43:02.635Z"
   },
   {
    "duration": 10,
    "start_time": "2022-07-08T15:43:02.646Z"
   },
   {
    "duration": 51,
    "start_time": "2022-07-08T15:43:02.657Z"
   },
   {
    "duration": 53,
    "start_time": "2022-07-08T15:43:02.709Z"
   },
   {
    "duration": 14,
    "start_time": "2022-07-08T15:43:02.763Z"
   },
   {
    "duration": 9,
    "start_time": "2022-07-08T15:43:02.778Z"
   },
   {
    "duration": 11,
    "start_time": "2022-07-08T15:43:02.788Z"
   },
   {
    "duration": 31,
    "start_time": "2022-07-08T15:43:02.801Z"
   },
   {
    "duration": 10,
    "start_time": "2022-07-08T15:43:02.834Z"
   },
   {
    "duration": 19,
    "start_time": "2022-07-08T15:43:02.846Z"
   },
   {
    "duration": 12,
    "start_time": "2022-07-08T15:43:02.867Z"
   },
   {
    "duration": 8,
    "start_time": "2022-07-08T15:43:02.881Z"
   },
   {
    "duration": 16,
    "start_time": "2022-07-08T15:43:02.890Z"
   },
   {
    "duration": 9,
    "start_time": "2022-07-08T15:43:02.908Z"
   },
   {
    "duration": 53,
    "start_time": "2022-07-08T15:43:02.918Z"
   },
   {
    "duration": 3,
    "start_time": "2022-07-08T15:43:02.973Z"
   },
   {
    "duration": 99,
    "start_time": "2022-07-08T15:43:02.978Z"
   },
   {
    "duration": 1,
    "start_time": "2022-07-08T15:43:03.078Z"
   },
   {
    "duration": 0,
    "start_time": "2022-07-08T15:43:03.080Z"
   },
   {
    "duration": 0,
    "start_time": "2022-07-08T15:43:03.081Z"
   },
   {
    "duration": 0,
    "start_time": "2022-07-08T15:43:03.082Z"
   },
   {
    "duration": 0,
    "start_time": "2022-07-08T15:43:03.083Z"
   },
   {
    "duration": 13,
    "start_time": "2022-07-08T15:44:06.639Z"
   },
   {
    "duration": 4,
    "start_time": "2022-07-08T15:44:12.681Z"
   },
   {
    "duration": 17,
    "start_time": "2022-07-08T15:44:14.138Z"
   },
   {
    "duration": 3,
    "start_time": "2022-07-08T15:46:44.249Z"
   },
   {
    "duration": 14,
    "start_time": "2022-07-08T15:46:44.677Z"
   },
   {
    "duration": 4,
    "start_time": "2022-07-08T15:46:45.212Z"
   },
   {
    "duration": 15,
    "start_time": "2022-07-08T15:46:47.047Z"
   },
   {
    "duration": 5,
    "start_time": "2022-07-08T15:50:49.620Z"
   },
   {
    "duration": 13,
    "start_time": "2022-07-08T15:50:50.028Z"
   },
   {
    "duration": 5,
    "start_time": "2022-07-08T15:50:50.497Z"
   },
   {
    "duration": 16,
    "start_time": "2022-07-08T15:50:51.788Z"
   },
   {
    "duration": 4,
    "start_time": "2022-07-08T16:02:34.745Z"
   },
   {
    "duration": 13,
    "start_time": "2022-07-08T16:02:35.632Z"
   },
   {
    "duration": 4,
    "start_time": "2022-07-08T16:02:36.316Z"
   },
   {
    "duration": 14,
    "start_time": "2022-07-08T16:02:38.048Z"
   },
   {
    "duration": 3,
    "start_time": "2022-07-08T16:02:48.839Z"
   },
   {
    "duration": 12,
    "start_time": "2022-07-08T16:02:49.137Z"
   },
   {
    "duration": 4,
    "start_time": "2022-07-08T16:02:49.278Z"
   },
   {
    "duration": 6,
    "start_time": "2022-07-08T16:02:49.720Z"
   },
   {
    "duration": 4,
    "start_time": "2022-07-08T16:04:03.948Z"
   },
   {
    "duration": 13,
    "start_time": "2022-07-08T16:04:04.159Z"
   },
   {
    "duration": 5,
    "start_time": "2022-07-08T16:04:04.453Z"
   },
   {
    "duration": 7,
    "start_time": "2022-07-08T16:04:05.146Z"
   },
   {
    "duration": 6,
    "start_time": "2022-07-08T16:04:13.139Z"
   },
   {
    "duration": 7,
    "start_time": "2022-07-08T16:04:13.851Z"
   },
   {
    "duration": 6,
    "start_time": "2022-07-08T16:04:14.500Z"
   },
   {
    "duration": 5,
    "start_time": "2022-07-08T16:04:23.113Z"
   },
   {
    "duration": 12,
    "start_time": "2022-07-08T16:04:23.441Z"
   },
   {
    "duration": 4,
    "start_time": "2022-07-08T16:04:23.780Z"
   },
   {
    "duration": 6,
    "start_time": "2022-07-08T16:04:25.057Z"
   },
   {
    "duration": 6,
    "start_time": "2022-07-08T16:04:26.854Z"
   },
   {
    "duration": 8,
    "start_time": "2022-07-08T16:04:27.336Z"
   },
   {
    "duration": 6,
    "start_time": "2022-07-08T16:04:27.810Z"
   },
   {
    "duration": 3,
    "start_time": "2022-07-08T16:05:57.746Z"
   },
   {
    "duration": 13,
    "start_time": "2022-07-08T16:05:58.412Z"
   },
   {
    "duration": 4,
    "start_time": "2022-07-08T16:05:59.065Z"
   },
   {
    "duration": 849,
    "start_time": "2022-07-08T16:06:00.687Z"
   },
   {
    "duration": 5,
    "start_time": "2022-07-08T16:06:10.662Z"
   },
   {
    "duration": 12,
    "start_time": "2022-07-08T16:06:11.248Z"
   },
   {
    "duration": 5,
    "start_time": "2022-07-08T16:06:11.565Z"
   },
   {
    "duration": 6,
    "start_time": "2022-07-08T16:06:11.965Z"
   },
   {
    "duration": 6,
    "start_time": "2022-07-08T16:06:13.757Z"
   },
   {
    "duration": 1244,
    "start_time": "2022-07-08T16:06:45.812Z"
   },
   {
    "duration": 213,
    "start_time": "2022-07-08T16:06:47.058Z"
   },
   {
    "duration": 34,
    "start_time": "2022-07-08T16:06:47.273Z"
   },
   {
    "duration": 17,
    "start_time": "2022-07-08T16:06:47.309Z"
   },
   {
    "duration": 27,
    "start_time": "2022-07-08T16:06:47.327Z"
   },
   {
    "duration": 31,
    "start_time": "2022-07-08T16:06:47.356Z"
   },
   {
    "duration": 28,
    "start_time": "2022-07-08T16:06:47.389Z"
   },
   {
    "duration": 16,
    "start_time": "2022-07-08T16:06:47.419Z"
   },
   {
    "duration": 31,
    "start_time": "2022-07-08T16:06:47.437Z"
   },
   {
    "duration": 31,
    "start_time": "2022-07-08T16:06:47.472Z"
   },
   {
    "duration": 12,
    "start_time": "2022-07-08T16:06:47.505Z"
   },
   {
    "duration": 12,
    "start_time": "2022-07-08T16:06:47.519Z"
   },
   {
    "duration": 27,
    "start_time": "2022-07-08T16:06:47.533Z"
   },
   {
    "duration": 53,
    "start_time": "2022-07-08T16:06:47.562Z"
   },
   {
    "duration": 39,
    "start_time": "2022-07-08T16:06:47.617Z"
   },
   {
    "duration": 18,
    "start_time": "2022-07-08T16:06:47.657Z"
   },
   {
    "duration": 38,
    "start_time": "2022-07-08T16:06:47.677Z"
   },
   {
    "duration": 34,
    "start_time": "2022-07-08T16:06:47.717Z"
   },
   {
    "duration": 11,
    "start_time": "2022-07-08T16:06:47.752Z"
   },
   {
    "duration": 15,
    "start_time": "2022-07-08T16:06:47.765Z"
   },
   {
    "duration": 51,
    "start_time": "2022-07-08T16:06:47.782Z"
   },
   {
    "duration": 10,
    "start_time": "2022-07-08T16:06:47.835Z"
   },
   {
    "duration": 19,
    "start_time": "2022-07-08T16:06:47.846Z"
   },
   {
    "duration": 32,
    "start_time": "2022-07-08T16:06:47.867Z"
   },
   {
    "duration": 11,
    "start_time": "2022-07-08T16:06:47.900Z"
   },
   {
    "duration": 26,
    "start_time": "2022-07-08T16:06:47.913Z"
   },
   {
    "duration": 14,
    "start_time": "2022-07-08T16:06:47.940Z"
   },
   {
    "duration": 37,
    "start_time": "2022-07-08T16:06:47.958Z"
   },
   {
    "duration": 28,
    "start_time": "2022-07-08T16:06:47.997Z"
   },
   {
    "duration": 47,
    "start_time": "2022-07-08T16:06:48.026Z"
   },
   {
    "duration": 28,
    "start_time": "2022-07-08T16:06:48.074Z"
   },
   {
    "duration": 23,
    "start_time": "2022-07-08T16:06:48.104Z"
   },
   {
    "duration": 15,
    "start_time": "2022-07-08T16:06:48.129Z"
   },
   {
    "duration": 99,
    "start_time": "2022-07-08T16:06:48.145Z"
   },
   {
    "duration": 4,
    "start_time": "2022-07-08T16:06:48.246Z"
   },
   {
    "duration": 13,
    "start_time": "2022-07-08T16:06:48.252Z"
   },
   {
    "duration": 110,
    "start_time": "2022-07-08T16:06:48.267Z"
   },
   {
    "duration": 88,
    "start_time": "2022-07-08T16:06:48.379Z"
   },
   {
    "duration": 39,
    "start_time": "2022-07-08T16:06:48.468Z"
   },
   {
    "duration": 20,
    "start_time": "2022-07-08T16:06:48.508Z"
   },
   {
    "duration": 13,
    "start_time": "2022-07-08T16:06:48.529Z"
   },
   {
    "duration": 93,
    "start_time": "2022-07-08T16:06:48.544Z"
   },
   {
    "duration": 39,
    "start_time": "2022-07-08T16:06:48.638Z"
   },
   {
    "duration": 4,
    "start_time": "2022-07-08T16:06:48.678Z"
   },
   {
    "duration": 12,
    "start_time": "2022-07-08T16:06:48.684Z"
   },
   {
    "duration": 35,
    "start_time": "2022-07-08T16:06:48.698Z"
   },
   {
    "duration": 18,
    "start_time": "2022-07-08T16:06:48.735Z"
   },
   {
    "duration": 11,
    "start_time": "2022-07-08T16:06:48.755Z"
   },
   {
    "duration": 13,
    "start_time": "2022-07-08T16:06:48.767Z"
   },
   {
    "duration": 424,
    "start_time": "2022-07-08T16:06:48.781Z"
   },
   {
    "duration": 19,
    "start_time": "2022-07-08T16:06:49.206Z"
   },
   {
    "duration": 49,
    "start_time": "2022-07-08T16:06:49.227Z"
   },
   {
    "duration": 3,
    "start_time": "2022-07-08T16:06:49.277Z"
   },
   {
    "duration": 8,
    "start_time": "2022-07-08T16:06:49.281Z"
   },
   {
    "duration": 181,
    "start_time": "2022-07-08T16:06:49.291Z"
   },
   {
    "duration": 5,
    "start_time": "2022-07-08T16:06:49.473Z"
   },
   {
    "duration": 8,
    "start_time": "2022-07-08T16:06:49.480Z"
   },
   {
    "duration": 11,
    "start_time": "2022-07-08T16:06:49.490Z"
   },
   {
    "duration": 156,
    "start_time": "2022-07-08T16:06:49.502Z"
   },
   {
    "duration": 5,
    "start_time": "2022-07-08T16:06:49.660Z"
   },
   {
    "duration": 10,
    "start_time": "2022-07-08T16:06:49.667Z"
   },
   {
    "duration": 8,
    "start_time": "2022-07-08T16:06:49.678Z"
   },
   {
    "duration": 172,
    "start_time": "2022-07-08T16:06:49.687Z"
   },
   {
    "duration": 11,
    "start_time": "2022-07-08T16:06:49.861Z"
   },
   {
    "duration": 17,
    "start_time": "2022-07-08T16:06:49.874Z"
   },
   {
    "duration": 15,
    "start_time": "2022-07-08T16:06:49.893Z"
   },
   {
    "duration": 189,
    "start_time": "2022-07-08T16:06:49.909Z"
   },
   {
    "duration": 49,
    "start_time": "2022-07-08T16:06:50.099Z"
   },
   {
    "duration": 21,
    "start_time": "2022-07-08T16:06:50.150Z"
   },
   {
    "duration": 21,
    "start_time": "2022-07-08T16:06:50.172Z"
   },
   {
    "duration": 4,
    "start_time": "2022-07-08T16:06:50.195Z"
   },
   {
    "duration": 10,
    "start_time": "2022-07-08T16:06:50.200Z"
   },
   {
    "duration": 9,
    "start_time": "2022-07-08T16:06:50.224Z"
   },
   {
    "duration": 39,
    "start_time": "2022-07-08T16:06:50.234Z"
   },
   {
    "duration": 7,
    "start_time": "2022-07-08T16:06:50.275Z"
   },
   {
    "duration": 19,
    "start_time": "2022-07-08T16:06:50.284Z"
   },
   {
    "duration": 14,
    "start_time": "2022-07-08T16:06:50.323Z"
   },
   {
    "duration": 17,
    "start_time": "2022-07-08T16:06:50.339Z"
   },
   {
    "duration": 10,
    "start_time": "2022-07-08T16:06:50.358Z"
   },
   {
    "duration": 19,
    "start_time": "2022-07-08T16:06:50.369Z"
   },
   {
    "duration": 13,
    "start_time": "2022-07-08T16:06:50.389Z"
   },
   {
    "duration": 17,
    "start_time": "2022-07-08T16:06:50.425Z"
   },
   {
    "duration": 39,
    "start_time": "2022-07-08T16:06:50.444Z"
   },
   {
    "duration": 21,
    "start_time": "2022-07-08T16:06:50.485Z"
   },
   {
    "duration": 25,
    "start_time": "2022-07-08T16:06:50.508Z"
   },
   {
    "duration": 62,
    "start_time": "2022-07-08T16:06:50.534Z"
   },
   {
    "duration": 5,
    "start_time": "2022-07-08T16:06:50.597Z"
   },
   {
    "duration": 5,
    "start_time": "2022-07-08T16:06:50.623Z"
   },
   {
    "duration": 14,
    "start_time": "2022-07-08T16:06:50.630Z"
   },
   {
    "duration": 18,
    "start_time": "2022-07-08T16:06:50.645Z"
   },
   {
    "duration": 11,
    "start_time": "2022-07-08T16:06:50.664Z"
   },
   {
    "duration": 10,
    "start_time": "2022-07-08T16:06:50.677Z"
   },
   {
    "duration": 64,
    "start_time": "2022-07-08T16:06:50.688Z"
   },
   {
    "duration": 40,
    "start_time": "2022-07-08T16:06:50.754Z"
   },
   {
    "duration": 4,
    "start_time": "2022-07-08T16:06:50.795Z"
   },
   {
    "duration": 29,
    "start_time": "2022-07-08T16:06:50.800Z"
   },
   {
    "duration": 7,
    "start_time": "2022-07-08T16:06:50.831Z"
   },
   {
    "duration": 6,
    "start_time": "2022-07-08T16:06:50.839Z"
   },
   {
    "duration": 184,
    "start_time": "2022-07-08T16:06:50.847Z"
   },
   {
    "duration": 5,
    "start_time": "2022-07-08T16:06:51.033Z"
   },
   {
    "duration": 32,
    "start_time": "2022-07-08T16:06:51.040Z"
   },
   {
    "duration": 3,
    "start_time": "2022-07-08T16:06:51.074Z"
   },
   {
    "duration": 68,
    "start_time": "2022-07-08T16:06:51.078Z"
   },
   {
    "duration": 38,
    "start_time": "2022-07-08T16:06:51.148Z"
   },
   {
    "duration": 245,
    "start_time": "2022-07-08T16:06:51.187Z"
   },
   {
    "duration": 14,
    "start_time": "2022-07-08T16:06:51.434Z"
   },
   {
    "duration": 215,
    "start_time": "2022-07-08T16:06:51.450Z"
   },
   {
    "duration": 43,
    "start_time": "2022-07-08T16:06:51.667Z"
   },
   {
    "duration": 37,
    "start_time": "2022-07-08T16:06:51.712Z"
   },
   {
    "duration": 31,
    "start_time": "2022-07-08T16:06:51.750Z"
   },
   {
    "duration": 1702,
    "start_time": "2022-07-08T16:06:51.783Z"
   },
   {
    "duration": 48,
    "start_time": "2022-07-08T16:06:53.486Z"
   },
   {
    "duration": 13,
    "start_time": "2022-07-08T16:06:53.536Z"
   },
   {
    "duration": 50,
    "start_time": "2022-07-08T16:06:53.550Z"
   },
   {
    "duration": 8,
    "start_time": "2022-07-08T16:06:53.602Z"
   },
   {
    "duration": 17,
    "start_time": "2022-07-08T16:06:53.612Z"
   },
   {
    "duration": 14,
    "start_time": "2022-07-08T16:06:53.631Z"
   },
   {
    "duration": 47,
    "start_time": "2022-07-08T16:06:53.647Z"
   },
   {
    "duration": 8,
    "start_time": "2022-07-08T16:06:53.696Z"
   },
   {
    "duration": 47,
    "start_time": "2022-07-08T16:06:53.705Z"
   },
   {
    "duration": 11,
    "start_time": "2022-07-08T16:06:53.753Z"
   },
   {
    "duration": 24,
    "start_time": "2022-07-08T16:06:53.765Z"
   },
   {
    "duration": 42,
    "start_time": "2022-07-08T16:06:53.790Z"
   },
   {
    "duration": 13,
    "start_time": "2022-07-08T16:06:53.834Z"
   },
   {
    "duration": 21,
    "start_time": "2022-07-08T16:06:53.849Z"
   },
   {
    "duration": 13,
    "start_time": "2022-07-08T16:06:53.872Z"
   },
   {
    "duration": 21,
    "start_time": "2022-07-08T16:06:53.886Z"
   },
   {
    "duration": 26,
    "start_time": "2022-07-08T16:06:53.924Z"
   },
   {
    "duration": 1495,
    "start_time": "2022-07-08T16:06:53.952Z"
   },
   {
    "duration": 11,
    "start_time": "2022-07-08T16:06:55.449Z"
   },
   {
    "duration": 19,
    "start_time": "2022-07-08T16:06:55.461Z"
   },
   {
    "duration": 10,
    "start_time": "2022-07-08T16:06:55.481Z"
   },
   {
    "duration": 4,
    "start_time": "2022-07-08T16:06:55.492Z"
   },
   {
    "duration": 37,
    "start_time": "2022-07-08T16:06:55.498Z"
   },
   {
    "duration": 20,
    "start_time": "2022-07-08T16:06:55.536Z"
   },
   {
    "duration": 14,
    "start_time": "2022-07-08T16:06:55.558Z"
   },
   {
    "duration": 4,
    "start_time": "2022-07-08T16:06:55.574Z"
   },
   {
    "duration": 7,
    "start_time": "2022-07-08T16:06:55.579Z"
   },
   {
    "duration": 7,
    "start_time": "2022-07-08T16:06:55.588Z"
   },
   {
    "duration": 28,
    "start_time": "2022-07-08T16:06:55.597Z"
   },
   {
    "duration": 12,
    "start_time": "2022-07-08T16:06:55.627Z"
   },
   {
    "duration": 9,
    "start_time": "2022-07-08T16:06:55.641Z"
   },
   {
    "duration": 8,
    "start_time": "2022-07-08T16:06:55.652Z"
   },
   {
    "duration": 8,
    "start_time": "2022-07-08T16:06:55.662Z"
   },
   {
    "duration": 16,
    "start_time": "2022-07-08T16:06:55.672Z"
   },
   {
    "duration": 58,
    "start_time": "2022-07-08T16:06:55.690Z"
   },
   {
    "duration": 4,
    "start_time": "2022-07-08T16:06:55.750Z"
   },
   {
    "duration": 18,
    "start_time": "2022-07-08T16:06:55.756Z"
   },
   {
    "duration": 4,
    "start_time": "2022-07-08T16:06:55.776Z"
   },
   {
    "duration": 9,
    "start_time": "2022-07-08T16:06:55.782Z"
   },
   {
    "duration": 7,
    "start_time": "2022-07-08T16:06:55.793Z"
   },
   {
    "duration": 34,
    "start_time": "2022-07-08T16:06:55.801Z"
   },
   {
    "duration": 15,
    "start_time": "2022-07-08T16:06:55.836Z"
   },
   {
    "duration": 53,
    "start_time": "2022-07-09T10:59:18.410Z"
   },
   {
    "duration": 1476,
    "start_time": "2022-07-09T10:59:22.493Z"
   },
   {
    "duration": 508,
    "start_time": "2022-07-09T10:59:23.971Z"
   },
   {
    "duration": 38,
    "start_time": "2022-07-09T10:59:24.481Z"
   },
   {
    "duration": 6,
    "start_time": "2022-07-09T10:59:24.524Z"
   },
   {
    "duration": 23,
    "start_time": "2022-07-09T10:59:24.532Z"
   },
   {
    "duration": 33,
    "start_time": "2022-07-09T10:59:24.557Z"
   },
   {
    "duration": 12,
    "start_time": "2022-07-09T10:59:24.592Z"
   },
   {
    "duration": 7,
    "start_time": "2022-07-09T10:59:24.606Z"
   },
   {
    "duration": 19,
    "start_time": "2022-07-09T10:59:24.615Z"
   },
   {
    "duration": 55,
    "start_time": "2022-07-09T10:59:24.637Z"
   },
   {
    "duration": 11,
    "start_time": "2022-07-09T10:59:24.694Z"
   },
   {
    "duration": 10,
    "start_time": "2022-07-09T10:59:24.707Z"
   },
   {
    "duration": 9,
    "start_time": "2022-07-09T10:59:24.719Z"
   },
   {
    "duration": 42,
    "start_time": "2022-07-09T10:59:24.729Z"
   },
   {
    "duration": 30,
    "start_time": "2022-07-09T10:59:24.773Z"
   },
   {
    "duration": 21,
    "start_time": "2022-07-09T10:59:24.805Z"
   },
   {
    "duration": 15,
    "start_time": "2022-07-09T10:59:24.828Z"
   },
   {
    "duration": 31,
    "start_time": "2022-07-09T10:59:24.845Z"
   },
   {
    "duration": 18,
    "start_time": "2022-07-09T10:59:24.878Z"
   },
   {
    "duration": 13,
    "start_time": "2022-07-09T10:59:24.924Z"
   },
   {
    "duration": 57,
    "start_time": "2022-07-09T10:59:24.939Z"
   },
   {
    "duration": 16,
    "start_time": "2022-07-09T10:59:24.998Z"
   },
   {
    "duration": 21,
    "start_time": "2022-07-09T10:59:25.015Z"
   },
   {
    "duration": 38,
    "start_time": "2022-07-09T10:59:25.038Z"
   },
   {
    "duration": 14,
    "start_time": "2022-07-09T10:59:25.078Z"
   },
   {
    "duration": 36,
    "start_time": "2022-07-09T10:59:25.094Z"
   },
   {
    "duration": 17,
    "start_time": "2022-07-09T10:59:25.131Z"
   },
   {
    "duration": 38,
    "start_time": "2022-07-09T10:59:25.152Z"
   },
   {
    "duration": 34,
    "start_time": "2022-07-09T10:59:25.192Z"
   },
   {
    "duration": 55,
    "start_time": "2022-07-09T10:59:25.228Z"
   },
   {
    "duration": 41,
    "start_time": "2022-07-09T10:59:25.285Z"
   },
   {
    "duration": 13,
    "start_time": "2022-07-09T10:59:25.328Z"
   },
   {
    "duration": 22,
    "start_time": "2022-07-09T10:59:25.342Z"
   },
   {
    "duration": 100,
    "start_time": "2022-07-09T10:59:25.365Z"
   },
   {
    "duration": 5,
    "start_time": "2022-07-09T10:59:25.466Z"
   },
   {
    "duration": 13,
    "start_time": "2022-07-09T10:59:25.472Z"
   },
   {
    "duration": 102,
    "start_time": "2022-07-09T10:59:25.487Z"
   },
   {
    "duration": 89,
    "start_time": "2022-07-09T10:59:25.591Z"
   },
   {
    "duration": 46,
    "start_time": "2022-07-09T10:59:25.682Z"
   },
   {
    "duration": 11,
    "start_time": "2022-07-09T10:59:25.730Z"
   },
   {
    "duration": 11,
    "start_time": "2022-07-09T10:59:25.743Z"
   },
   {
    "duration": 106,
    "start_time": "2022-07-09T10:59:25.756Z"
   },
   {
    "duration": 37,
    "start_time": "2022-07-09T10:59:25.863Z"
   },
   {
    "duration": 5,
    "start_time": "2022-07-09T10:59:25.902Z"
   },
   {
    "duration": 26,
    "start_time": "2022-07-09T10:59:25.908Z"
   },
   {
    "duration": 23,
    "start_time": "2022-07-09T10:59:25.937Z"
   },
   {
    "duration": 28,
    "start_time": "2022-07-09T10:59:25.962Z"
   },
   {
    "duration": 13,
    "start_time": "2022-07-09T10:59:25.992Z"
   },
   {
    "duration": 13,
    "start_time": "2022-07-09T10:59:26.024Z"
   },
   {
    "duration": 496,
    "start_time": "2022-07-09T10:59:26.039Z"
   },
   {
    "duration": 14,
    "start_time": "2022-07-09T10:59:26.537Z"
   },
   {
    "duration": 53,
    "start_time": "2022-07-09T10:59:26.554Z"
   },
   {
    "duration": 16,
    "start_time": "2022-07-09T10:59:26.608Z"
   },
   {
    "duration": 7,
    "start_time": "2022-07-09T10:59:26.626Z"
   },
   {
    "duration": 204,
    "start_time": "2022-07-09T10:59:26.635Z"
   },
   {
    "duration": 6,
    "start_time": "2022-07-09T10:59:26.841Z"
   },
   {
    "duration": 10,
    "start_time": "2022-07-09T10:59:26.848Z"
   },
   {
    "duration": 10,
    "start_time": "2022-07-09T10:59:26.860Z"
   },
   {
    "duration": 175,
    "start_time": "2022-07-09T10:59:26.872Z"
   },
   {
    "duration": 6,
    "start_time": "2022-07-09T10:59:27.049Z"
   },
   {
    "duration": 17,
    "start_time": "2022-07-09T10:59:27.057Z"
   },
   {
    "duration": 6,
    "start_time": "2022-07-09T10:59:27.076Z"
   },
   {
    "duration": 215,
    "start_time": "2022-07-09T10:59:27.084Z"
   },
   {
    "duration": 22,
    "start_time": "2022-07-09T10:59:27.301Z"
   },
   {
    "duration": 25,
    "start_time": "2022-07-09T10:59:27.325Z"
   },
   {
    "duration": 20,
    "start_time": "2022-07-09T10:59:27.351Z"
   },
   {
    "duration": 184,
    "start_time": "2022-07-09T10:59:27.373Z"
   },
   {
    "duration": 36,
    "start_time": "2022-07-09T10:59:27.559Z"
   },
   {
    "duration": 37,
    "start_time": "2022-07-09T10:59:27.596Z"
   },
   {
    "duration": 20,
    "start_time": "2022-07-09T10:59:27.634Z"
   },
   {
    "duration": 4,
    "start_time": "2022-07-09T10:59:27.656Z"
   },
   {
    "duration": 11,
    "start_time": "2022-07-09T10:59:27.662Z"
   },
   {
    "duration": 10,
    "start_time": "2022-07-09T10:59:27.674Z"
   },
   {
    "duration": 64,
    "start_time": "2022-07-09T10:59:27.686Z"
   },
   {
    "duration": 9,
    "start_time": "2022-07-09T10:59:27.751Z"
   },
   {
    "duration": 21,
    "start_time": "2022-07-09T10:59:27.762Z"
   },
   {
    "duration": 13,
    "start_time": "2022-07-09T10:59:27.785Z"
   },
   {
    "duration": 33,
    "start_time": "2022-07-09T10:59:27.800Z"
   },
   {
    "duration": 17,
    "start_time": "2022-07-09T10:59:27.835Z"
   },
   {
    "duration": 16,
    "start_time": "2022-07-09T10:59:27.854Z"
   },
   {
    "duration": 11,
    "start_time": "2022-07-09T10:59:27.872Z"
   },
   {
    "duration": 44,
    "start_time": "2022-07-09T10:59:27.891Z"
   },
   {
    "duration": 38,
    "start_time": "2022-07-09T10:59:27.937Z"
   },
   {
    "duration": 23,
    "start_time": "2022-07-09T10:59:27.977Z"
   },
   {
    "duration": 31,
    "start_time": "2022-07-09T10:59:28.001Z"
   },
   {
    "duration": 61,
    "start_time": "2022-07-09T10:59:28.033Z"
   },
   {
    "duration": 5,
    "start_time": "2022-07-09T10:59:28.096Z"
   },
   {
    "duration": 6,
    "start_time": "2022-07-09T10:59:28.123Z"
   },
   {
    "duration": 15,
    "start_time": "2022-07-09T10:59:28.130Z"
   },
   {
    "duration": 13,
    "start_time": "2022-07-09T10:59:28.147Z"
   },
   {
    "duration": 7,
    "start_time": "2022-07-09T10:59:28.162Z"
   },
   {
    "duration": 7,
    "start_time": "2022-07-09T10:59:28.171Z"
   },
   {
    "duration": 90,
    "start_time": "2022-07-09T10:59:28.180Z"
   },
   {
    "duration": 56,
    "start_time": "2022-07-09T10:59:28.272Z"
   },
   {
    "duration": 4,
    "start_time": "2022-07-09T10:59:28.330Z"
   },
   {
    "duration": 16,
    "start_time": "2022-07-09T10:59:28.337Z"
   },
   {
    "duration": 5,
    "start_time": "2022-07-09T10:59:28.355Z"
   },
   {
    "duration": 8,
    "start_time": "2022-07-09T10:59:28.361Z"
   },
   {
    "duration": 213,
    "start_time": "2022-07-09T10:59:28.370Z"
   },
   {
    "duration": 5,
    "start_time": "2022-07-09T10:59:28.584Z"
   },
   {
    "duration": 42,
    "start_time": "2022-07-09T10:59:28.591Z"
   },
   {
    "duration": 3,
    "start_time": "2022-07-09T10:59:28.634Z"
   },
   {
    "duration": 54,
    "start_time": "2022-07-09T10:59:28.639Z"
   },
   {
    "duration": 51,
    "start_time": "2022-07-09T10:59:28.694Z"
   },
   {
    "duration": 265,
    "start_time": "2022-07-09T10:59:28.747Z"
   },
   {
    "duration": 25,
    "start_time": "2022-07-09T10:59:29.015Z"
   },
   {
    "duration": 241,
    "start_time": "2022-07-09T10:59:29.042Z"
   },
   {
    "duration": 58,
    "start_time": "2022-07-09T10:59:29.285Z"
   },
   {
    "duration": 34,
    "start_time": "2022-07-09T10:59:29.344Z"
   },
   {
    "duration": 24,
    "start_time": "2022-07-09T10:59:29.379Z"
   },
   {
    "duration": 1753,
    "start_time": "2022-07-09T10:59:29.424Z"
   },
   {
    "duration": 50,
    "start_time": "2022-07-09T10:59:31.180Z"
   },
   {
    "duration": 15,
    "start_time": "2022-07-09T10:59:31.231Z"
   },
   {
    "duration": 53,
    "start_time": "2022-07-09T10:59:31.248Z"
   },
   {
    "duration": 9,
    "start_time": "2022-07-09T10:59:31.303Z"
   },
   {
    "duration": 18,
    "start_time": "2022-07-09T10:59:31.313Z"
   },
   {
    "duration": 39,
    "start_time": "2022-07-09T10:59:31.333Z"
   },
   {
    "duration": 49,
    "start_time": "2022-07-09T10:59:31.374Z"
   },
   {
    "duration": 8,
    "start_time": "2022-07-09T10:59:31.424Z"
   },
   {
    "duration": 35,
    "start_time": "2022-07-09T10:59:31.433Z"
   },
   {
    "duration": 10,
    "start_time": "2022-07-09T10:59:31.470Z"
   },
   {
    "duration": 21,
    "start_time": "2022-07-09T10:59:31.482Z"
   },
   {
    "duration": 47,
    "start_time": "2022-07-09T10:59:31.505Z"
   },
   {
    "duration": 15,
    "start_time": "2022-07-09T10:59:31.554Z"
   },
   {
    "duration": 21,
    "start_time": "2022-07-09T10:59:31.570Z"
   },
   {
    "duration": 32,
    "start_time": "2022-07-09T10:59:31.593Z"
   },
   {
    "duration": 24,
    "start_time": "2022-07-09T10:59:31.627Z"
   },
   {
    "duration": 28,
    "start_time": "2022-07-09T10:59:31.653Z"
   },
   {
    "duration": 1585,
    "start_time": "2022-07-09T10:59:31.683Z"
   },
   {
    "duration": 13,
    "start_time": "2022-07-09T10:59:33.270Z"
   },
   {
    "duration": 17,
    "start_time": "2022-07-09T10:59:33.285Z"
   },
   {
    "duration": 26,
    "start_time": "2022-07-09T10:59:33.304Z"
   },
   {
    "duration": 5,
    "start_time": "2022-07-09T10:59:33.332Z"
   },
   {
    "duration": 21,
    "start_time": "2022-07-09T10:59:33.338Z"
   },
   {
    "duration": 25,
    "start_time": "2022-07-09T10:59:33.361Z"
   },
   {
    "duration": 35,
    "start_time": "2022-07-09T10:59:33.388Z"
   },
   {
    "duration": 5,
    "start_time": "2022-07-09T10:59:33.425Z"
   },
   {
    "duration": 8,
    "start_time": "2022-07-09T10:59:33.431Z"
   },
   {
    "duration": 7,
    "start_time": "2022-07-09T10:59:33.440Z"
   },
   {
    "duration": 9,
    "start_time": "2022-07-09T10:59:33.448Z"
   },
   {
    "duration": 8,
    "start_time": "2022-07-09T10:59:33.458Z"
   },
   {
    "duration": 8,
    "start_time": "2022-07-09T10:59:33.467Z"
   },
   {
    "duration": 6,
    "start_time": "2022-07-09T10:59:33.477Z"
   },
   {
    "duration": 7,
    "start_time": "2022-07-09T10:59:33.485Z"
   },
   {
    "duration": 5,
    "start_time": "2022-07-09T10:59:33.524Z"
   },
   {
    "duration": 43,
    "start_time": "2022-07-09T10:59:33.531Z"
   },
   {
    "duration": 4,
    "start_time": "2022-07-09T10:59:33.575Z"
   },
   {
    "duration": 13,
    "start_time": "2022-07-09T10:59:33.581Z"
   },
   {
    "duration": 4,
    "start_time": "2022-07-09T10:59:33.596Z"
   },
   {
    "duration": 7,
    "start_time": "2022-07-09T10:59:33.624Z"
   },
   {
    "duration": 41,
    "start_time": "2022-07-09T10:59:33.632Z"
   },
   {
    "duration": 5,
    "start_time": "2022-07-09T10:59:33.675Z"
   },
   {
    "duration": 11,
    "start_time": "2022-07-09T10:59:33.681Z"
   },
   {
    "duration": 31,
    "start_time": "2022-07-09T10:59:33.694Z"
   },
   {
    "duration": 41,
    "start_time": "2022-07-09T11:00:44.437Z"
   },
   {
    "duration": 220,
    "start_time": "2022-07-09T11:02:34.793Z"
   },
   {
    "duration": 224,
    "start_time": "2022-07-09T11:02:50.121Z"
   },
   {
    "duration": 189,
    "start_time": "2022-07-09T11:04:06.016Z"
   },
   {
    "duration": 8,
    "start_time": "2022-07-09T21:26:22.523Z"
   },
   {
    "duration": 1619,
    "start_time": "2022-07-09T21:27:18.405Z"
   },
   {
    "duration": 648,
    "start_time": "2022-07-09T21:27:20.027Z"
   },
   {
    "duration": 34,
    "start_time": "2022-07-09T21:27:20.677Z"
   },
   {
    "duration": 6,
    "start_time": "2022-07-09T21:27:20.714Z"
   },
   {
    "duration": 27,
    "start_time": "2022-07-09T21:27:20.722Z"
   },
   {
    "duration": 31,
    "start_time": "2022-07-09T21:27:20.751Z"
   },
   {
    "duration": 12,
    "start_time": "2022-07-09T21:27:20.784Z"
   },
   {
    "duration": 9,
    "start_time": "2022-07-09T21:27:20.798Z"
   },
   {
    "duration": 17,
    "start_time": "2022-07-09T21:27:20.810Z"
   },
   {
    "duration": 59,
    "start_time": "2022-07-09T21:27:20.831Z"
   },
   {
    "duration": 13,
    "start_time": "2022-07-09T21:27:20.892Z"
   },
   {
    "duration": 6,
    "start_time": "2022-07-09T21:27:20.908Z"
   },
   {
    "duration": 10,
    "start_time": "2022-07-09T21:27:20.916Z"
   },
   {
    "duration": 43,
    "start_time": "2022-07-09T21:27:20.928Z"
   },
   {
    "duration": 32,
    "start_time": "2022-07-09T21:27:20.973Z"
   },
   {
    "duration": 12,
    "start_time": "2022-07-09T21:27:21.007Z"
   },
   {
    "duration": 34,
    "start_time": "2022-07-09T21:27:21.021Z"
   },
   {
    "duration": 33,
    "start_time": "2022-07-09T21:27:21.058Z"
   },
   {
    "duration": 14,
    "start_time": "2022-07-09T21:27:21.093Z"
   },
   {
    "duration": 35,
    "start_time": "2022-07-09T21:27:21.109Z"
   },
   {
    "duration": 33,
    "start_time": "2022-07-09T21:27:21.146Z"
   },
   {
    "duration": 14,
    "start_time": "2022-07-09T21:27:21.181Z"
   },
   {
    "duration": 30,
    "start_time": "2022-07-09T21:27:21.197Z"
   },
   {
    "duration": 43,
    "start_time": "2022-07-09T21:27:21.229Z"
   },
   {
    "duration": 14,
    "start_time": "2022-07-09T21:27:21.274Z"
   },
   {
    "duration": 27,
    "start_time": "2022-07-09T21:27:21.290Z"
   },
   {
    "duration": 29,
    "start_time": "2022-07-09T21:27:21.320Z"
   },
   {
    "duration": 47,
    "start_time": "2022-07-09T21:27:21.356Z"
   },
   {
    "duration": 25,
    "start_time": "2022-07-09T21:27:21.405Z"
   },
   {
    "duration": 52,
    "start_time": "2022-07-09T21:27:21.441Z"
   },
   {
    "duration": 64,
    "start_time": "2022-07-09T21:27:21.495Z"
   },
   {
    "duration": 32,
    "start_time": "2022-07-09T21:27:21.561Z"
   },
   {
    "duration": 34,
    "start_time": "2022-07-09T21:27:21.595Z"
   },
   {
    "duration": 124,
    "start_time": "2022-07-09T21:27:21.630Z"
   },
   {
    "duration": 6,
    "start_time": "2022-07-09T21:27:21.755Z"
   },
   {
    "duration": 29,
    "start_time": "2022-07-09T21:27:21.763Z"
   },
   {
    "duration": 128,
    "start_time": "2022-07-09T21:27:21.793Z"
   },
   {
    "duration": 95,
    "start_time": "2022-07-09T21:27:21.923Z"
   },
   {
    "duration": 44,
    "start_time": "2022-07-09T21:27:22.020Z"
   },
   {
    "duration": 17,
    "start_time": "2022-07-09T21:27:22.065Z"
   },
   {
    "duration": 25,
    "start_time": "2022-07-09T21:27:22.084Z"
   },
   {
    "duration": 102,
    "start_time": "2022-07-09T21:27:22.111Z"
   },
   {
    "duration": 47,
    "start_time": "2022-07-09T21:27:22.214Z"
   },
   {
    "duration": 23,
    "start_time": "2022-07-09T21:27:22.263Z"
   },
   {
    "duration": 22,
    "start_time": "2022-07-09T21:27:22.288Z"
   },
   {
    "duration": 32,
    "start_time": "2022-07-09T21:27:22.312Z"
   },
   {
    "duration": 25,
    "start_time": "2022-07-09T21:27:22.346Z"
   },
   {
    "duration": 16,
    "start_time": "2022-07-09T21:27:22.373Z"
   },
   {
    "duration": 26,
    "start_time": "2022-07-09T21:27:22.391Z"
   },
   {
    "duration": 497,
    "start_time": "2022-07-09T21:27:22.419Z"
   },
   {
    "duration": 26,
    "start_time": "2022-07-09T21:27:22.918Z"
   },
   {
    "duration": 65,
    "start_time": "2022-07-09T21:27:22.945Z"
   },
   {
    "duration": 4,
    "start_time": "2022-07-09T21:27:23.011Z"
   },
   {
    "duration": 11,
    "start_time": "2022-07-09T21:27:23.016Z"
   },
   {
    "duration": 218,
    "start_time": "2022-07-09T21:27:23.028Z"
   },
   {
    "duration": 7,
    "start_time": "2022-07-09T21:27:23.247Z"
   },
   {
    "duration": 12,
    "start_time": "2022-07-09T21:27:23.256Z"
   },
   {
    "duration": 21,
    "start_time": "2022-07-09T21:27:23.269Z"
   },
   {
    "duration": 178,
    "start_time": "2022-07-09T21:27:23.292Z"
   },
   {
    "duration": 7,
    "start_time": "2022-07-09T21:27:23.472Z"
   },
   {
    "duration": 25,
    "start_time": "2022-07-09T21:27:23.480Z"
   },
   {
    "duration": 11,
    "start_time": "2022-07-09T21:27:23.508Z"
   },
   {
    "duration": 205,
    "start_time": "2022-07-09T21:27:23.521Z"
   },
   {
    "duration": 19,
    "start_time": "2022-07-09T21:27:23.728Z"
   },
   {
    "duration": 11,
    "start_time": "2022-07-09T21:27:23.748Z"
   },
   {
    "duration": 15,
    "start_time": "2022-07-09T21:27:23.761Z"
   },
   {
    "duration": 229,
    "start_time": "2022-07-09T21:27:23.778Z"
   },
   {
    "duration": 50,
    "start_time": "2022-07-09T21:27:24.009Z"
   },
   {
    "duration": 26,
    "start_time": "2022-07-09T21:27:24.062Z"
   },
   {
    "duration": 28,
    "start_time": "2022-07-09T21:27:24.089Z"
   },
   {
    "duration": 22,
    "start_time": "2022-07-09T21:27:24.120Z"
   },
   {
    "duration": 12,
    "start_time": "2022-07-09T21:27:24.145Z"
   },
   {
    "duration": 13,
    "start_time": "2022-07-09T21:27:24.159Z"
   },
   {
    "duration": 71,
    "start_time": "2022-07-09T21:27:24.174Z"
   },
   {
    "duration": 11,
    "start_time": "2022-07-09T21:27:24.247Z"
   },
   {
    "duration": 21,
    "start_time": "2022-07-09T21:27:24.260Z"
   },
   {
    "duration": 14,
    "start_time": "2022-07-09T21:27:24.283Z"
   },
   {
    "duration": 46,
    "start_time": "2022-07-09T21:27:24.299Z"
   },
   {
    "duration": 13,
    "start_time": "2022-07-09T21:27:24.348Z"
   },
   {
    "duration": 21,
    "start_time": "2022-07-09T21:27:24.363Z"
   },
   {
    "duration": 19,
    "start_time": "2022-07-09T21:27:24.387Z"
   },
   {
    "duration": 24,
    "start_time": "2022-07-09T21:27:24.445Z"
   },
   {
    "duration": 83,
    "start_time": "2022-07-09T21:27:24.471Z"
   },
   {
    "duration": 32,
    "start_time": "2022-07-09T21:27:24.557Z"
   },
   {
    "duration": 17,
    "start_time": "2022-07-09T21:27:24.592Z"
   },
   {
    "duration": 108,
    "start_time": "2022-07-09T21:27:24.611Z"
   },
   {
    "duration": 5,
    "start_time": "2022-07-09T21:27:24.721Z"
   },
   {
    "duration": 6,
    "start_time": "2022-07-09T21:27:24.742Z"
   },
   {
    "duration": 14,
    "start_time": "2022-07-09T21:27:24.749Z"
   },
   {
    "duration": 17,
    "start_time": "2022-07-09T21:27:24.765Z"
   },
   {
    "duration": 8,
    "start_time": "2022-07-09T21:27:24.785Z"
   },
   {
    "duration": 9,
    "start_time": "2022-07-09T21:27:24.795Z"
   },
   {
    "duration": 91,
    "start_time": "2022-07-09T21:27:24.806Z"
   },
   {
    "duration": 63,
    "start_time": "2022-07-09T21:27:24.899Z"
   },
   {
    "duration": 5,
    "start_time": "2022-07-09T21:27:24.963Z"
   },
   {
    "duration": 18,
    "start_time": "2022-07-09T21:27:24.969Z"
   },
   {
    "duration": 19,
    "start_time": "2022-07-09T21:27:24.989Z"
   },
   {
    "duration": 15,
    "start_time": "2022-07-09T21:27:25.011Z"
   },
   {
    "duration": 210,
    "start_time": "2022-07-09T21:27:25.028Z"
   },
   {
    "duration": 4,
    "start_time": "2022-07-09T21:27:25.243Z"
   },
   {
    "duration": 52,
    "start_time": "2022-07-09T21:27:25.249Z"
   },
   {
    "duration": 3,
    "start_time": "2022-07-09T21:27:25.303Z"
   },
   {
    "duration": 82,
    "start_time": "2022-07-09T21:27:25.308Z"
   },
   {
    "duration": 50,
    "start_time": "2022-07-09T21:27:25.392Z"
   },
   {
    "duration": 283,
    "start_time": "2022-07-09T21:27:25.444Z"
   },
   {
    "duration": 25,
    "start_time": "2022-07-09T21:27:25.729Z"
   },
   {
    "duration": 223,
    "start_time": "2022-07-09T21:27:25.756Z"
   },
   {
    "duration": 63,
    "start_time": "2022-07-09T21:27:25.981Z"
   },
   {
    "duration": 34,
    "start_time": "2022-07-09T21:27:26.046Z"
   },
   {
    "duration": 26,
    "start_time": "2022-07-09T21:27:26.082Z"
   },
   {
    "duration": 1911,
    "start_time": "2022-07-09T21:27:26.110Z"
   },
   {
    "duration": 55,
    "start_time": "2022-07-09T21:27:28.024Z"
   },
   {
    "duration": 16,
    "start_time": "2022-07-09T21:27:28.081Z"
   },
   {
    "duration": 64,
    "start_time": "2022-07-09T21:27:28.100Z"
   },
   {
    "duration": 10,
    "start_time": "2022-07-09T21:27:28.166Z"
   },
   {
    "duration": 12,
    "start_time": "2022-07-09T21:27:28.179Z"
   },
   {
    "duration": 14,
    "start_time": "2022-07-09T21:27:28.193Z"
   },
   {
    "duration": 80,
    "start_time": "2022-07-09T21:27:28.210Z"
   },
   {
    "duration": 10,
    "start_time": "2022-07-09T21:27:28.293Z"
   },
   {
    "duration": 59,
    "start_time": "2022-07-09T21:27:28.306Z"
   },
   {
    "duration": 13,
    "start_time": "2022-07-09T21:27:28.367Z"
   },
   {
    "duration": 22,
    "start_time": "2022-07-09T21:27:28.382Z"
   },
   {
    "duration": 53,
    "start_time": "2022-07-09T21:27:28.406Z"
   },
   {
    "duration": 17,
    "start_time": "2022-07-09T21:27:28.461Z"
   },
   {
    "duration": 22,
    "start_time": "2022-07-09T21:27:28.480Z"
   },
   {
    "duration": 8,
    "start_time": "2022-07-09T21:27:28.504Z"
   },
   {
    "duration": 47,
    "start_time": "2022-07-09T21:27:28.513Z"
   },
   {
    "duration": 29,
    "start_time": "2022-07-09T21:27:28.562Z"
   },
   {
    "duration": 1601,
    "start_time": "2022-07-09T21:27:28.593Z"
   },
   {
    "duration": 14,
    "start_time": "2022-07-09T21:27:30.196Z"
   },
   {
    "duration": 38,
    "start_time": "2022-07-09T21:27:30.212Z"
   },
   {
    "duration": 12,
    "start_time": "2022-07-09T21:27:30.252Z"
   },
   {
    "duration": 17,
    "start_time": "2022-07-09T21:27:30.266Z"
   },
   {
    "duration": 47,
    "start_time": "2022-07-09T21:27:30.285Z"
   },
   {
    "duration": 49,
    "start_time": "2022-07-09T21:27:30.334Z"
   },
   {
    "duration": 16,
    "start_time": "2022-07-09T21:27:30.385Z"
   },
   {
    "duration": 8,
    "start_time": "2022-07-09T21:27:30.403Z"
   },
   {
    "duration": 9,
    "start_time": "2022-07-09T21:27:30.413Z"
   },
   {
    "duration": 22,
    "start_time": "2022-07-09T21:27:30.424Z"
   },
   {
    "duration": 10,
    "start_time": "2022-07-09T21:27:30.447Z"
   },
   {
    "duration": 14,
    "start_time": "2022-07-09T21:27:30.459Z"
   },
   {
    "duration": 13,
    "start_time": "2022-07-09T21:27:30.475Z"
   },
   {
    "duration": 13,
    "start_time": "2022-07-09T21:27:30.490Z"
   },
   {
    "duration": 9,
    "start_time": "2022-07-09T21:27:30.506Z"
   },
   {
    "duration": 37,
    "start_time": "2022-07-09T21:27:30.517Z"
   },
   {
    "duration": 65,
    "start_time": "2022-07-09T21:27:30.556Z"
   },
   {
    "duration": 6,
    "start_time": "2022-07-09T21:27:30.623Z"
   },
   {
    "duration": 22,
    "start_time": "2022-07-09T21:27:30.631Z"
   },
   {
    "duration": 9,
    "start_time": "2022-07-09T21:27:30.655Z"
   },
   {
    "duration": 148,
    "start_time": "2022-07-09T21:27:30.666Z"
   },
   {
    "duration": 0,
    "start_time": "2022-07-09T21:27:30.817Z"
   },
   {
    "duration": 0,
    "start_time": "2022-07-09T21:27:30.818Z"
   },
   {
    "duration": 0,
    "start_time": "2022-07-09T21:27:30.820Z"
   },
   {
    "duration": 0,
    "start_time": "2022-07-09T21:27:30.822Z"
   },
   {
    "duration": 4,
    "start_time": "2022-07-09T21:28:16.285Z"
   },
   {
    "duration": 13,
    "start_time": "2022-07-09T21:28:17.128Z"
   },
   {
    "duration": 5,
    "start_time": "2022-07-09T21:28:17.859Z"
   },
   {
    "duration": 18,
    "start_time": "2022-07-09T21:28:19.334Z"
   },
   {
    "duration": 21,
    "start_time": "2022-07-09T21:28:19.637Z"
   },
   {
    "duration": 5,
    "start_time": "2022-07-09T21:29:20.704Z"
   },
   {
    "duration": 16,
    "start_time": "2022-07-09T21:29:21.469Z"
   },
   {
    "duration": 6,
    "start_time": "2022-07-09T21:29:21.884Z"
   },
   {
    "duration": 18,
    "start_time": "2022-07-09T21:29:23.720Z"
   },
   {
    "duration": 4,
    "start_time": "2022-07-09T21:30:07.763Z"
   },
   {
    "duration": 13,
    "start_time": "2022-07-09T21:30:08.051Z"
   },
   {
    "duration": 6,
    "start_time": "2022-07-09T21:30:08.375Z"
   },
   {
    "duration": 20,
    "start_time": "2022-07-09T21:30:10.558Z"
   },
   {
    "duration": 27,
    "start_time": "2022-07-09T21:30:11.909Z"
   },
   {
    "duration": 4,
    "start_time": "2022-07-09T21:32:04.744Z"
   },
   {
    "duration": 12,
    "start_time": "2022-07-09T21:32:05.522Z"
   },
   {
    "duration": 4,
    "start_time": "2022-07-09T21:32:06.043Z"
   },
   {
    "duration": 8,
    "start_time": "2022-07-09T21:32:08.042Z"
   },
   {
    "duration": 7,
    "start_time": "2022-07-09T21:32:23.247Z"
   },
   {
    "duration": 205,
    "start_time": "2022-07-09T21:32:24.175Z"
   },
   {
    "duration": 7,
    "start_time": "2022-07-09T21:32:27.782Z"
   },
   {
    "duration": 7,
    "start_time": "2022-07-09T21:32:28.662Z"
   },
   {
    "duration": 7,
    "start_time": "2022-07-09T21:32:29.335Z"
   },
   {
    "duration": 4,
    "start_time": "2022-07-09T21:32:48.016Z"
   },
   {
    "duration": 12,
    "start_time": "2022-07-09T21:32:48.572Z"
   },
   {
    "duration": 5,
    "start_time": "2022-07-09T21:32:48.988Z"
   },
   {
    "duration": 7,
    "start_time": "2022-07-09T21:32:50.531Z"
   },
   {
    "duration": 219,
    "start_time": "2022-07-09T21:32:52.042Z"
   },
   {
    "duration": 8,
    "start_time": "2022-07-09T21:32:54.260Z"
   },
   {
    "duration": 7,
    "start_time": "2022-07-09T21:32:55.175Z"
   },
   {
    "duration": 8,
    "start_time": "2022-07-09T21:32:55.984Z"
   },
   {
    "duration": 4,
    "start_time": "2022-07-09T21:33:04.925Z"
   },
   {
    "duration": 13,
    "start_time": "2022-07-09T21:33:05.406Z"
   },
   {
    "duration": 5,
    "start_time": "2022-07-09T21:33:05.713Z"
   },
   {
    "duration": 16,
    "start_time": "2022-07-09T21:33:07.536Z"
   },
   {
    "duration": 4,
    "start_time": "2022-07-09T21:33:47.814Z"
   },
   {
    "duration": 12,
    "start_time": "2022-07-09T21:33:48.575Z"
   },
   {
    "duration": 4,
    "start_time": "2022-07-09T21:33:49.663Z"
   },
   {
    "duration": 8,
    "start_time": "2022-07-09T21:33:51.744Z"
   },
   {
    "duration": 187,
    "start_time": "2022-07-09T21:33:55.863Z"
   },
   {
    "duration": 8,
    "start_time": "2022-07-09T21:34:00.182Z"
   },
   {
    "duration": 8,
    "start_time": "2022-07-09T21:34:01.086Z"
   },
   {
    "duration": 7,
    "start_time": "2022-07-09T21:34:01.983Z"
   },
   {
    "duration": 4,
    "start_time": "2022-07-09T21:35:05.491Z"
   },
   {
    "duration": 12,
    "start_time": "2022-07-09T21:35:06.231Z"
   },
   {
    "duration": 5,
    "start_time": "2022-07-09T21:35:06.842Z"
   },
   {
    "duration": 8,
    "start_time": "2022-07-09T21:35:08.748Z"
   },
   {
    "duration": 192,
    "start_time": "2022-07-09T21:35:10.001Z"
   },
   {
    "duration": 8,
    "start_time": "2022-07-09T21:35:12.083Z"
   },
   {
    "duration": 7,
    "start_time": "2022-07-09T21:35:13.021Z"
   },
   {
    "duration": 7,
    "start_time": "2022-07-09T21:35:13.809Z"
   },
   {
    "duration": 8,
    "start_time": "2022-07-09T21:35:52.237Z"
   },
   {
    "duration": 1426,
    "start_time": "2022-07-09T21:36:27.418Z"
   },
   {
    "duration": 235,
    "start_time": "2022-07-09T21:36:28.846Z"
   },
   {
    "duration": 35,
    "start_time": "2022-07-09T21:36:29.083Z"
   },
   {
    "duration": 7,
    "start_time": "2022-07-09T21:36:29.121Z"
   },
   {
    "duration": 13,
    "start_time": "2022-07-09T21:36:29.143Z"
   },
   {
    "duration": 10,
    "start_time": "2022-07-09T21:36:29.158Z"
   },
   {
    "duration": 12,
    "start_time": "2022-07-09T21:36:29.170Z"
   },
   {
    "duration": 7,
    "start_time": "2022-07-09T21:36:29.184Z"
   },
   {
    "duration": 10,
    "start_time": "2022-07-09T21:36:29.193Z"
   },
   {
    "duration": 53,
    "start_time": "2022-07-09T21:36:29.207Z"
   },
   {
    "duration": 12,
    "start_time": "2022-07-09T21:36:29.262Z"
   },
   {
    "duration": 8,
    "start_time": "2022-07-09T21:36:29.276Z"
   },
   {
    "duration": 13,
    "start_time": "2022-07-09T21:36:29.286Z"
   },
   {
    "duration": 64,
    "start_time": "2022-07-09T21:36:29.301Z"
   },
   {
    "duration": 36,
    "start_time": "2022-07-09T21:36:29.367Z"
   },
   {
    "duration": 12,
    "start_time": "2022-07-09T21:36:29.405Z"
   },
   {
    "duration": 17,
    "start_time": "2022-07-09T21:36:29.442Z"
   },
   {
    "duration": 36,
    "start_time": "2022-07-09T21:36:29.460Z"
   },
   {
    "duration": 16,
    "start_time": "2022-07-09T21:36:29.498Z"
   },
   {
    "duration": 34,
    "start_time": "2022-07-09T21:36:29.517Z"
   },
   {
    "duration": 40,
    "start_time": "2022-07-09T21:36:29.553Z"
   },
   {
    "duration": 12,
    "start_time": "2022-07-09T21:36:29.595Z"
   },
   {
    "duration": 40,
    "start_time": "2022-07-09T21:36:29.609Z"
   },
   {
    "duration": 30,
    "start_time": "2022-07-09T21:36:29.651Z"
   },
   {
    "duration": 13,
    "start_time": "2022-07-09T21:36:29.684Z"
   },
   {
    "duration": 21,
    "start_time": "2022-07-09T21:36:29.698Z"
   },
   {
    "duration": 27,
    "start_time": "2022-07-09T21:36:29.721Z"
   },
   {
    "duration": 39,
    "start_time": "2022-07-09T21:36:29.753Z"
   },
   {
    "duration": 21,
    "start_time": "2022-07-09T21:36:29.794Z"
   },
   {
    "duration": 70,
    "start_time": "2022-07-09T21:36:29.817Z"
   },
   {
    "duration": 56,
    "start_time": "2022-07-09T21:36:29.889Z"
   },
   {
    "duration": 15,
    "start_time": "2022-07-09T21:36:29.947Z"
   },
   {
    "duration": 19,
    "start_time": "2022-07-09T21:36:29.964Z"
   },
   {
    "duration": 114,
    "start_time": "2022-07-09T21:36:29.985Z"
   },
   {
    "duration": 6,
    "start_time": "2022-07-09T21:36:30.101Z"
   },
   {
    "duration": 18,
    "start_time": "2022-07-09T21:36:30.109Z"
   },
   {
    "duration": 114,
    "start_time": "2022-07-09T21:36:30.129Z"
   },
   {
    "duration": 104,
    "start_time": "2022-07-09T21:36:30.245Z"
   },
   {
    "duration": 39,
    "start_time": "2022-07-09T21:36:30.351Z"
   },
   {
    "duration": 13,
    "start_time": "2022-07-09T21:36:30.392Z"
   },
   {
    "duration": 42,
    "start_time": "2022-07-09T21:36:30.408Z"
   },
   {
    "duration": 104,
    "start_time": "2022-07-09T21:36:30.452Z"
   },
   {
    "duration": 40,
    "start_time": "2022-07-09T21:36:30.558Z"
   },
   {
    "duration": 4,
    "start_time": "2022-07-09T21:36:30.600Z"
   },
   {
    "duration": 28,
    "start_time": "2022-07-09T21:36:30.606Z"
   },
   {
    "duration": 38,
    "start_time": "2022-07-09T21:36:30.636Z"
   },
   {
    "duration": 26,
    "start_time": "2022-07-09T21:36:30.676Z"
   },
   {
    "duration": 12,
    "start_time": "2022-07-09T21:36:30.704Z"
   },
   {
    "duration": 18,
    "start_time": "2022-07-09T21:36:30.718Z"
   },
   {
    "duration": 502,
    "start_time": "2022-07-09T21:36:30.742Z"
   },
   {
    "duration": 16,
    "start_time": "2022-07-09T21:36:31.246Z"
   },
   {
    "duration": 77,
    "start_time": "2022-07-09T21:36:31.264Z"
   },
   {
    "duration": 4,
    "start_time": "2022-07-09T21:36:31.342Z"
   },
   {
    "duration": 12,
    "start_time": "2022-07-09T21:36:31.347Z"
   },
   {
    "duration": 247,
    "start_time": "2022-07-09T21:36:31.361Z"
   },
   {
    "duration": 7,
    "start_time": "2022-07-09T21:36:31.610Z"
   },
   {
    "duration": 27,
    "start_time": "2022-07-09T21:36:31.619Z"
   },
   {
    "duration": 13,
    "start_time": "2022-07-09T21:36:31.648Z"
   },
   {
    "duration": 183,
    "start_time": "2022-07-09T21:36:31.663Z"
   },
   {
    "duration": 8,
    "start_time": "2022-07-09T21:36:31.848Z"
   },
   {
    "duration": 17,
    "start_time": "2022-07-09T21:36:31.857Z"
   },
   {
    "duration": 10,
    "start_time": "2022-07-09T21:36:31.875Z"
   },
   {
    "duration": 206,
    "start_time": "2022-07-09T21:36:31.887Z"
   },
   {
    "duration": 12,
    "start_time": "2022-07-09T21:36:32.095Z"
   },
   {
    "duration": 13,
    "start_time": "2022-07-09T21:36:32.109Z"
   },
   {
    "duration": 29,
    "start_time": "2022-07-09T21:36:32.124Z"
   },
   {
    "duration": 214,
    "start_time": "2022-07-09T21:36:32.155Z"
   },
   {
    "duration": 44,
    "start_time": "2022-07-09T21:36:32.371Z"
   },
   {
    "duration": 39,
    "start_time": "2022-07-09T21:36:32.417Z"
   },
   {
    "duration": 24,
    "start_time": "2022-07-09T21:36:32.458Z"
   },
   {
    "duration": 6,
    "start_time": "2022-07-09T21:36:32.484Z"
   },
   {
    "duration": 14,
    "start_time": "2022-07-09T21:36:32.492Z"
   },
   {
    "duration": 38,
    "start_time": "2022-07-09T21:36:32.508Z"
   },
   {
    "duration": 43,
    "start_time": "2022-07-09T21:36:32.548Z"
   },
   {
    "duration": 8,
    "start_time": "2022-07-09T21:36:32.594Z"
   },
   {
    "duration": 44,
    "start_time": "2022-07-09T21:36:32.604Z"
   },
   {
    "duration": 17,
    "start_time": "2022-07-09T21:36:32.650Z"
   },
   {
    "duration": 15,
    "start_time": "2022-07-09T21:36:32.671Z"
   },
   {
    "duration": 13,
    "start_time": "2022-07-09T21:36:32.688Z"
   },
   {
    "duration": 43,
    "start_time": "2022-07-09T21:36:32.703Z"
   },
   {
    "duration": 16,
    "start_time": "2022-07-09T21:36:32.748Z"
   },
   {
    "duration": 21,
    "start_time": "2022-07-09T21:36:32.772Z"
   },
   {
    "duration": 72,
    "start_time": "2022-07-09T21:36:32.796Z"
   },
   {
    "duration": 26,
    "start_time": "2022-07-09T21:36:32.870Z"
   },
   {
    "duration": 13,
    "start_time": "2022-07-09T21:36:32.897Z"
   },
   {
    "duration": 93,
    "start_time": "2022-07-09T21:36:32.912Z"
   },
   {
    "duration": 5,
    "start_time": "2022-07-09T21:36:33.007Z"
   },
   {
    "duration": 7,
    "start_time": "2022-07-09T21:36:33.014Z"
   },
   {
    "duration": 25,
    "start_time": "2022-07-09T21:36:33.023Z"
   },
   {
    "duration": 26,
    "start_time": "2022-07-09T21:36:33.050Z"
   },
   {
    "duration": 7,
    "start_time": "2022-07-09T21:36:33.078Z"
   },
   {
    "duration": 5,
    "start_time": "2022-07-09T21:36:33.087Z"
   },
   {
    "duration": 77,
    "start_time": "2022-07-09T21:36:33.094Z"
   },
   {
    "duration": 49,
    "start_time": "2022-07-09T21:36:33.173Z"
   },
   {
    "duration": 19,
    "start_time": "2022-07-09T21:36:33.224Z"
   },
   {
    "duration": 19,
    "start_time": "2022-07-09T21:36:33.245Z"
   },
   {
    "duration": 6,
    "start_time": "2022-07-09T21:36:33.265Z"
   },
   {
    "duration": 11,
    "start_time": "2022-07-09T21:36:33.273Z"
   },
   {
    "duration": 228,
    "start_time": "2022-07-09T21:36:33.286Z"
   },
   {
    "duration": 6,
    "start_time": "2022-07-09T21:36:33.515Z"
   },
   {
    "duration": 47,
    "start_time": "2022-07-09T21:36:33.523Z"
   },
   {
    "duration": 4,
    "start_time": "2022-07-09T21:36:33.572Z"
   },
   {
    "duration": 70,
    "start_time": "2022-07-09T21:36:33.577Z"
   },
   {
    "duration": 43,
    "start_time": "2022-07-09T21:36:33.649Z"
   },
   {
    "duration": 248,
    "start_time": "2022-07-09T21:36:33.694Z"
   },
   {
    "duration": 16,
    "start_time": "2022-07-09T21:36:33.944Z"
   },
   {
    "duration": 235,
    "start_time": "2022-07-09T21:36:33.961Z"
   },
   {
    "duration": 60,
    "start_time": "2022-07-09T21:36:34.198Z"
   },
   {
    "duration": 35,
    "start_time": "2022-07-09T21:36:34.260Z"
   },
   {
    "duration": 50,
    "start_time": "2022-07-09T21:36:34.297Z"
   },
   {
    "duration": 1860,
    "start_time": "2022-07-09T21:36:34.349Z"
   },
   {
    "duration": 55,
    "start_time": "2022-07-09T21:36:36.211Z"
   },
   {
    "duration": 14,
    "start_time": "2022-07-09T21:36:36.268Z"
   },
   {
    "duration": 60,
    "start_time": "2022-07-09T21:36:36.284Z"
   },
   {
    "duration": 10,
    "start_time": "2022-07-09T21:36:36.346Z"
   },
   {
    "duration": 9,
    "start_time": "2022-07-09T21:36:36.358Z"
   },
   {
    "duration": 12,
    "start_time": "2022-07-09T21:36:36.369Z"
   },
   {
    "duration": 76,
    "start_time": "2022-07-09T21:36:36.383Z"
   },
   {
    "duration": 9,
    "start_time": "2022-07-09T21:36:36.462Z"
   },
   {
    "duration": 41,
    "start_time": "2022-07-09T21:36:36.473Z"
   },
   {
    "duration": 26,
    "start_time": "2022-07-09T21:36:36.516Z"
   },
   {
    "duration": 22,
    "start_time": "2022-07-09T21:36:36.544Z"
   },
   {
    "duration": 33,
    "start_time": "2022-07-09T21:36:36.568Z"
   },
   {
    "duration": 43,
    "start_time": "2022-07-09T21:36:36.602Z"
   },
   {
    "duration": 24,
    "start_time": "2022-07-09T21:36:36.647Z"
   },
   {
    "duration": 11,
    "start_time": "2022-07-09T21:36:36.673Z"
   },
   {
    "duration": 23,
    "start_time": "2022-07-09T21:36:36.686Z"
   },
   {
    "duration": 58,
    "start_time": "2022-07-09T21:36:36.711Z"
   },
   {
    "duration": 1574,
    "start_time": "2022-07-09T21:36:36.771Z"
   },
   {
    "duration": 15,
    "start_time": "2022-07-09T21:36:38.347Z"
   },
   {
    "duration": 21,
    "start_time": "2022-07-09T21:36:38.364Z"
   },
   {
    "duration": 12,
    "start_time": "2022-07-09T21:36:38.387Z"
   },
   {
    "duration": 5,
    "start_time": "2022-07-09T21:36:38.402Z"
   },
   {
    "duration": 51,
    "start_time": "2022-07-09T21:36:38.408Z"
   },
   {
    "duration": 24,
    "start_time": "2022-07-09T21:36:38.462Z"
   },
   {
    "duration": 17,
    "start_time": "2022-07-09T21:36:38.488Z"
   },
   {
    "duration": 6,
    "start_time": "2022-07-09T21:36:38.507Z"
   },
   {
    "duration": 30,
    "start_time": "2022-07-09T21:36:38.514Z"
   },
   {
    "duration": 8,
    "start_time": "2022-07-09T21:36:38.546Z"
   },
   {
    "duration": 7,
    "start_time": "2022-07-09T21:36:38.556Z"
   },
   {
    "duration": 14,
    "start_time": "2022-07-09T21:36:38.565Z"
   },
   {
    "duration": 9,
    "start_time": "2022-07-09T21:36:38.581Z"
   },
   {
    "duration": 14,
    "start_time": "2022-07-09T21:36:38.592Z"
   },
   {
    "duration": 7,
    "start_time": "2022-07-09T21:36:38.608Z"
   },
   {
    "duration": 29,
    "start_time": "2022-07-09T21:36:38.617Z"
   },
   {
    "duration": 49,
    "start_time": "2022-07-09T21:36:38.648Z"
   },
   {
    "duration": 5,
    "start_time": "2022-07-09T21:36:38.700Z"
   },
   {
    "duration": 45,
    "start_time": "2022-07-09T21:36:38.706Z"
   },
   {
    "duration": 7,
    "start_time": "2022-07-09T21:36:38.754Z"
   },
   {
    "duration": 65,
    "start_time": "2022-07-09T21:36:38.764Z"
   },
   {
    "duration": 0,
    "start_time": "2022-07-09T21:36:38.832Z"
   },
   {
    "duration": 0,
    "start_time": "2022-07-09T21:36:38.833Z"
   },
   {
    "duration": 0,
    "start_time": "2022-07-09T21:36:38.835Z"
   },
   {
    "duration": 0,
    "start_time": "2022-07-09T21:36:38.836Z"
   },
   {
    "duration": 0,
    "start_time": "2022-07-09T21:36:38.838Z"
   },
   {
    "duration": 8,
    "start_time": "2022-07-09T21:37:16.573Z"
   },
   {
    "duration": 193,
    "start_time": "2022-07-09T21:37:17.404Z"
   },
   {
    "duration": 8,
    "start_time": "2022-07-09T21:37:20.073Z"
   },
   {
    "duration": 8,
    "start_time": "2022-07-09T21:37:21.203Z"
   },
   {
    "duration": 8,
    "start_time": "2022-07-09T21:37:21.835Z"
   },
   {
    "duration": 8,
    "start_time": "2022-07-09T21:38:19.247Z"
   }
  ],
  "kernelspec": {
   "display_name": "Python 3 (ipykernel)",
   "language": "python",
   "name": "python3"
  },
  "language_info": {
   "codemirror_mode": {
    "name": "ipython",
    "version": 3
   },
   "file_extension": ".py",
   "mimetype": "text/x-python",
   "name": "python",
   "nbconvert_exporter": "python",
   "pygments_lexer": "ipython3",
   "version": "3.9.12"
  },
  "toc": {
   "base_numbering": 1,
   "nav_menu": {},
   "number_sections": true,
   "sideBar": true,
   "skip_h1_title": true,
   "title_cell": "Table of Contents",
   "title_sidebar": "Contents",
   "toc_cell": false,
   "toc_position": {},
   "toc_section_display": true,
   "toc_window_display": true
  }
 },
 "nbformat": 4,
 "nbformat_minor": 2
}
